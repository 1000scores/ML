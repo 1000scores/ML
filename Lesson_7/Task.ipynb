{
  "nbformat": 4,
  "nbformat_minor": 0,
  "metadata": {
    "colab": {
      "name": "Task.ipynb",
      "provenance": [],
      "collapsed_sections": []
    },
    "kernelspec": {
      "name": "python3",
      "display_name": "Python 3",
      "language": "python"
    }
  },
  "cells": [
    {
      "cell_type": "markdown",
      "metadata": {
        "id": "EADmNKm_ucFI"
      },
      "source": [
        "## Homework"
      ]
    },
    {
      "cell_type": "code",
      "metadata": {
        "id": "wjurpt4KJmCh"
      },
      "source": [
        "!wget --no-check-certificate 'https://docs.google.com/uc?export=download&id=1OKFSv2GpuUFDphO0r8LdM7bl6MAWwBfX' -O data.csv"
      ],
      "execution_count": 4,
      "outputs": [
        {
          "output_type": "stream",
          "name": "stdout",
          "text": [
            "--2021-02-05 01:23:42--  https://docs.google.com/uc?export=download&id=1OKFSv2GpuUFDphO0r8LdM7bl6MAWwBfX\n",
            "Resolving docs.google.com (docs.google.com)... 64.233.165.194\n",
            "Connecting to docs.google.com (docs.google.com)|64.233.165.194|:443... connected.\n",
            "HTTP request sent, awaiting response... 302 Moved Temporarily\n",
            "Location: https://doc-04-ak-docs.googleusercontent.com/docs/securesc/ha0ro937gcuc7l7deffksulhg5h7mbp1/4c4vliretjmjen1v2is3ppsbjrduf4ad/1612477350000/03856158561714992485/*/1OKFSv2GpuUFDphO0r8LdM7bl6MAWwBfX?e=download [following]\n",
            "Warning: wildcards not supported in HTTP.\n",
            "--2021-02-05 01:23:44--  https://doc-04-ak-docs.googleusercontent.com/docs/securesc/ha0ro937gcuc7l7deffksulhg5h7mbp1/4c4vliretjmjen1v2is3ppsbjrduf4ad/1612477350000/03856158561714992485/*/1OKFSv2GpuUFDphO0r8LdM7bl6MAWwBfX?e=download\n",
            "Resolving doc-04-ak-docs.googleusercontent.com (doc-04-ak-docs.googleusercontent.com)... 64.233.161.132\n",
            "Connecting to doc-04-ak-docs.googleusercontent.com (doc-04-ak-docs.googleusercontent.com)|64.233.161.132|:443... connected.\n",
            "HTTP request sent, awaiting response... 200 OK\n",
            "Length: unspecified [text/csv]\n",
            "Saving to: ‘data.csv’\n",
            "\n",
            "data.csv                [            <=>     ]  31,78M  12,3MB/s    in 2,6s    \n",
            "\n",
            "2021-02-05 01:23:47 (12,3 MB/s) - ‘data.csv’ saved [33322228]\n",
            "\n"
          ]
        }
      ]
    },
    {
      "cell_type": "code",
      "execution_count": 56,
      "metadata": {},
      "outputs": [],
      "source": [
        "import numpy as np\n",
        "import pandas as pd\n",
        "from sklearn.impute import *\n",
        "from scipy.stats import *\n",
        "from sklearn.linear_model import *\n",
        "from sklearn.preprocessing import *\n",
        "from sklearn.pipeline import *\n",
        "from sklearn.feature_selection import *\n",
        "from sklearn.datasets import *\n",
        "from sklearn.model_selection import *\n",
        "%matplotlib inline\n",
        "from matplotlib import pyplot as plt \n",
        "from sklearn.metrics import *\n",
        "from sklearn.neighbors import *\n",
        "from sklearn.decomposition import *\n",
        "from sklearn.decomposition import TruncatedSVD\n",
        "from sklearn.datasets import make_blobs, make_circles, make_classification, load_iris, load_digits\n",
        "from sklearn.tree import *\n",
        "from sklearn.ensemble import *\n",
        "from sklearn import *\n",
        "from matplotlib.colors import *\n",
        "from collections import *\n",
        "from sklearn.impute import *"
      ]
    },
    {
      "cell_type": "markdown",
      "metadata": {
        "id": "UBAI5LS2xBSm"
      },
      "source": [
        "В этой домашней работе вы будете предсказывать стоимость домов по их характеристикам.\n",
        "\n",
        "Метрика качества: `RMSE`\n",
        "\n",
        "Оценивание:\n",
        "* Baseline - 2 балла\n",
        "* Feature Engineering - 2 балла\n",
        "* Model Selection - 3 балла\n",
        "* Ensemble v.1 - 3 балла\n",
        "* (*) Ensemble v.2 - дополнительно, 2 балла"
      ]
    },
    {
      "cell_type": "markdown",
      "metadata": {
        "id": "aBZhr_dw6HAn"
      },
      "source": [
        "### Описание датасета\n",
        "\n",
        "Короткое описание данных:\n",
        "```\n",
        "price: sale price (this is the target variable)\n",
        "id: transaction id\n",
        "timestamp: date of transaction\n",
        "full_sq: total area in square meters, including loggias, balconies and other non-residential areas\n",
        "life_sq: living area in square meters, excluding loggias, balconies and other non-residential areas\n",
        "floor: for apartments, floor of the building\n",
        "max_floor: number of floors in the building\n",
        "material: wall material\n",
        "build_year: year built\n",
        "num_room: number of living rooms\n",
        "kitch_sq: kitchen area\n",
        "state: apartment condition\n",
        "product_type: owner-occupier purchase or investment\n",
        "sub_area: name of the district\n",
        "\n",
        "The dataset also includes a collection of features about each property's surrounding neighbourhood, and some features that are constant across each sub area (known as a Raion). Most of the feature names are self explanatory, with the following notes. See below for a complete list.\n",
        "\n",
        "full_all: subarea population\n",
        "male_f, female_f: subarea population by gender\n",
        "young_*: population younger than working age\n",
        "work_*: working-age population\n",
        "ekder_*: retirement-age population\n",
        "n_m_{all|male|female}: population between n and m years old\n",
        "build_count_*: buildings in the subarea by construction type or year\n",
        "x_count_500: the number of x within 500m of the property\n",
        "x_part_500: the share of x within 500m of the property\n",
        "_sqm_: square meters\n",
        "cafe_count_d_price_p: number of cafes within d meters of the property that have an average bill under p RUB\n",
        "trc_: shopping malls\n",
        "prom_: industrial zones\n",
        "green_: green zones\n",
        "metro_: subway\n",
        "_avto_: distances by car\n",
        "mkad_: Moscow Circle Auto Road\n",
        "ttk_: Third Transport Ring\n",
        "sadovoe_: Garden Ring\n",
        "bulvar_ring_: Boulevard Ring\n",
        "kremlin_: City center\n",
        "zd_vokzaly_: Train station\n",
        "oil_chemistry_: Dirty industry\n",
        "ts_: Power plant\n",
        "```"
      ]
    },
    {
      "cell_type": "markdown",
      "metadata": {
        "id": "TOPtM_06uyqv"
      },
      "source": [
        "### Setup"
      ]
    },
    {
      "cell_type": "code",
      "metadata": {
        "id": "9TpHMcn3u0MV"
      },
      "source": [
        "import pandas as pd"
      ],
      "execution_count": 57,
      "outputs": []
    },
    {
      "cell_type": "code",
      "metadata": {
        "id": "-TLkVG3EwJzj"
      },
      "source": [
        "df = pd.read_csv(\"data.csv\", parse_dates=[\"timestamp\"])"
      ],
      "execution_count": 58,
      "outputs": []
    },
    {
      "cell_type": "code",
      "execution_count": 59,
      "metadata": {},
      "outputs": [
        {
          "output_type": "execute_result",
          "data": {
            "text/plain": [
              "   id  timestamp  full_sq  life_sq  floor  max_floor  material  build_year  \\\n",
              "0   0 2014-12-26        1      1.0    1.0        1.0       1.0         1.0   \n",
              "1   1 2012-10-04       64     64.0   16.0        NaN       NaN         NaN   \n",
              "2   2 2014-02-05       83     44.0    9.0       17.0       1.0      1985.0   \n",
              "3   3 2012-07-26       71     49.0    2.0        NaN       NaN         NaN   \n",
              "4   4 2014-10-29       60     42.0    9.0        9.0       1.0      1970.0   \n",
              "\n",
              "   num_room  kitch_sq  ...  cafe_count_5000_price_2500  \\\n",
              "0       1.0       1.0  ...                          36   \n",
              "1       NaN       NaN  ...                           2   \n",
              "2       3.0      10.0  ...                          13   \n",
              "3       NaN       NaN  ...                           0   \n",
              "4       3.0       6.0  ...                           3   \n",
              "\n",
              "  cafe_count_5000_price_4000 cafe_count_5000_price_high  \\\n",
              "0                          7                          2   \n",
              "1                          2                          0   \n",
              "2                          6                          1   \n",
              "3                          0                          0   \n",
              "4                          1                          0   \n",
              "\n",
              "   big_church_count_5000  church_count_5000  mosque_count_5000  \\\n",
              "0                     15                 33                  1   \n",
              "1                      0                 13                  1   \n",
              "2                      8                 18                  0   \n",
              "3                      1                  3                  0   \n",
              "4                      5                  8                  0   \n",
              "\n",
              "   leisure_count_5000  sport_count_5000  market_count_5000     price  \n",
              "0                  12                75                 10  15318960  \n",
              "1                   0                 6                  1   6080000  \n",
              "2                   1                52                  0  17000000  \n",
              "3                   2                 8                  2    990000  \n",
              "4                   1                34                  5   7900000  \n",
              "\n",
              "[5 rows x 292 columns]"
            ],
            "text/html": "<div>\n<style scoped>\n    .dataframe tbody tr th:only-of-type {\n        vertical-align: middle;\n    }\n\n    .dataframe tbody tr th {\n        vertical-align: top;\n    }\n\n    .dataframe thead th {\n        text-align: right;\n    }\n</style>\n<table border=\"1\" class=\"dataframe\">\n  <thead>\n    <tr style=\"text-align: right;\">\n      <th></th>\n      <th>id</th>\n      <th>timestamp</th>\n      <th>full_sq</th>\n      <th>life_sq</th>\n      <th>floor</th>\n      <th>max_floor</th>\n      <th>material</th>\n      <th>build_year</th>\n      <th>num_room</th>\n      <th>kitch_sq</th>\n      <th>...</th>\n      <th>cafe_count_5000_price_2500</th>\n      <th>cafe_count_5000_price_4000</th>\n      <th>cafe_count_5000_price_high</th>\n      <th>big_church_count_5000</th>\n      <th>church_count_5000</th>\n      <th>mosque_count_5000</th>\n      <th>leisure_count_5000</th>\n      <th>sport_count_5000</th>\n      <th>market_count_5000</th>\n      <th>price</th>\n    </tr>\n  </thead>\n  <tbody>\n    <tr>\n      <th>0</th>\n      <td>0</td>\n      <td>2014-12-26</td>\n      <td>1</td>\n      <td>1.0</td>\n      <td>1.0</td>\n      <td>1.0</td>\n      <td>1.0</td>\n      <td>1.0</td>\n      <td>1.0</td>\n      <td>1.0</td>\n      <td>...</td>\n      <td>36</td>\n      <td>7</td>\n      <td>2</td>\n      <td>15</td>\n      <td>33</td>\n      <td>1</td>\n      <td>12</td>\n      <td>75</td>\n      <td>10</td>\n      <td>15318960</td>\n    </tr>\n    <tr>\n      <th>1</th>\n      <td>1</td>\n      <td>2012-10-04</td>\n      <td>64</td>\n      <td>64.0</td>\n      <td>16.0</td>\n      <td>NaN</td>\n      <td>NaN</td>\n      <td>NaN</td>\n      <td>NaN</td>\n      <td>NaN</td>\n      <td>...</td>\n      <td>2</td>\n      <td>2</td>\n      <td>0</td>\n      <td>0</td>\n      <td>13</td>\n      <td>1</td>\n      <td>0</td>\n      <td>6</td>\n      <td>1</td>\n      <td>6080000</td>\n    </tr>\n    <tr>\n      <th>2</th>\n      <td>2</td>\n      <td>2014-02-05</td>\n      <td>83</td>\n      <td>44.0</td>\n      <td>9.0</td>\n      <td>17.0</td>\n      <td>1.0</td>\n      <td>1985.0</td>\n      <td>3.0</td>\n      <td>10.0</td>\n      <td>...</td>\n      <td>13</td>\n      <td>6</td>\n      <td>1</td>\n      <td>8</td>\n      <td>18</td>\n      <td>0</td>\n      <td>1</td>\n      <td>52</td>\n      <td>0</td>\n      <td>17000000</td>\n    </tr>\n    <tr>\n      <th>3</th>\n      <td>3</td>\n      <td>2012-07-26</td>\n      <td>71</td>\n      <td>49.0</td>\n      <td>2.0</td>\n      <td>NaN</td>\n      <td>NaN</td>\n      <td>NaN</td>\n      <td>NaN</td>\n      <td>NaN</td>\n      <td>...</td>\n      <td>0</td>\n      <td>0</td>\n      <td>0</td>\n      <td>1</td>\n      <td>3</td>\n      <td>0</td>\n      <td>2</td>\n      <td>8</td>\n      <td>2</td>\n      <td>990000</td>\n    </tr>\n    <tr>\n      <th>4</th>\n      <td>4</td>\n      <td>2014-10-29</td>\n      <td>60</td>\n      <td>42.0</td>\n      <td>9.0</td>\n      <td>9.0</td>\n      <td>1.0</td>\n      <td>1970.0</td>\n      <td>3.0</td>\n      <td>6.0</td>\n      <td>...</td>\n      <td>3</td>\n      <td>1</td>\n      <td>0</td>\n      <td>5</td>\n      <td>8</td>\n      <td>0</td>\n      <td>1</td>\n      <td>34</td>\n      <td>5</td>\n      <td>7900000</td>\n    </tr>\n  </tbody>\n</table>\n<p>5 rows × 292 columns</p>\n</div>"
          },
          "metadata": {},
          "execution_count": 59
        }
      ],
      "source": [
        "df.head()"
      ]
    },
    {
      "cell_type": "markdown",
      "metadata": {
        "id": "znjwH9_mx3fZ"
      },
      "source": [
        "Разделите имеющиеся у вас данные на обучающую и тестовую выборки. В качестве обучающей выборки возьмите первые 80% данных, последние 20% - тестовая выборка."
      ]
    },
    {
      "cell_type": "markdown",
      "metadata": {
        "id": "pL4dJJwZP86w"
      },
      "source": [
        "Возможно в ваших моделях вам придется указывать, какие колонки являются категориальными (например, в бустингах). Для упрощения предлагается разделить колонки по следующему принципу:\n",
        "```\n",
        "drop_columns = [\n",
        "    'id',           # May leak information\n",
        "    'timestamp',    # May leak information\n",
        "]\n",
        "cat_columns = [\n",
        "    'product_type',              #\n",
        "    'material',                  # Material of the wall\n",
        "    'state',                     # Satisfaction level\n",
        "    'sub_area',                  # District name\n",
        "    'culture_objects_top_25',    #\n",
        "    'thermal_power_plant_raion', #\n",
        "    'incineration_raion',        #\n",
        "    'oil_chemistry_raion',       #\n",
        "    'radiation_raion',           #\n",
        "    'railroad_terminal_raion',   #\n",
        "    'big_market_raion',          #\n",
        "    'nuclear_reactor_raion',     #\n",
        "    'detention_facility_raion',  #\n",
        "    'ID_metro',                  #\n",
        "    'ID_railroad_station_walk',  #\n",
        "    'ID_railroad_station_avto',  #\n",
        "    'water_1line',               #\n",
        "    'ID_big_road1',              #\n",
        "    'big_road1_1line',           #\n",
        "    'ID_big_road2',              #\n",
        "    'railroad_1line',            #\n",
        "    'ID_railroad_terminal',      #\n",
        "    'ID_bus_terminal',           #\n",
        "    'ecology',                   #\n",
        "]\n",
        "num_columns = list(set(df.columns).difference(set(cat_columns + drop_columns)))\n",
        "```"
      ]
    },
    {
      "cell_type": "code",
      "execution_count": 60,
      "metadata": {},
      "outputs": [],
      "source": [
        "cat_columns = [\n",
        "    'product_type',              #\n",
        "    'material',                  # Material of the wall\n",
        "    'state',                     # Satisfaction level\n",
        "    'sub_area',                  # District name\n",
        "    'culture_objects_top_25',    #\n",
        "    'thermal_power_plant_raion', #\n",
        "    'incineration_raion',        #\n",
        "    'oil_chemistry_raion',       #\n",
        "    'radiation_raion',           #\n",
        "    'railroad_terminal_raion',   #\n",
        "    'big_market_raion',          #\n",
        "    'nuclear_reactor_raion',     #\n",
        "    'detention_facility_raion',  #\n",
        "    'ID_metro',                  #\n",
        "    'ID_railroad_station_walk',  #\n",
        "    'ID_railroad_station_avto',  #\n",
        "    'water_1line',               #\n",
        "    'ID_big_road1',              #\n",
        "    'big_road1_1line',           #\n",
        "    'ID_big_road2',              #\n",
        "    'railroad_1line',            #\n",
        "    'ID_railroad_terminal',      #\n",
        "    'ID_bus_terminal',           #\n",
        "    'ecology',                   #\n",
        "]\n",
        "drop_columns = [\n",
        "    'id',           # May leak information\n",
        "    'timestamp',    # May leak information\n",
        "]\n"
      ]
    },
    {
      "cell_type": "code",
      "execution_count": 61,
      "metadata": {},
      "outputs": [],
      "source": [
        "df_id_time = df[drop_columns]\n",
        "df.drop(drop_columns, axis=1, inplace=True)"
      ]
    },
    {
      "cell_type": "code",
      "execution_count": 62,
      "metadata": {},
      "outputs": [
        {
          "output_type": "execute_result",
          "data": {
            "text/plain": [
              "   full_sq  life_sq  floor  max_floor  build_year  num_room  kitch_sq  \\\n",
              "0        1      1.0    1.0        1.0         1.0       1.0       1.0   \n",
              "1       64     64.0   16.0        NaN         NaN       NaN       NaN   \n",
              "2       83     44.0    9.0       17.0      1985.0       3.0      10.0   \n",
              "3       71     49.0    2.0        NaN         NaN       NaN       NaN   \n",
              "4       60     42.0    9.0        9.0      1970.0       3.0       6.0   \n",
              "\n",
              "         area_m  raion_popul  green_zone_part  ...  ID_bus_terminal_10  \\\n",
              "0  5.293465e+06        77878         0.023464  ...                   0   \n",
              "1  6.677245e+07         9553         0.336177  ...                   0   \n",
              "2  1.216448e+07        78507         0.297166  ...                   0   \n",
              "3  4.708040e+06        38075         0.271702  ...                   0   \n",
              "4  1.428699e+07       157010         0.389354  ...                   0   \n",
              "\n",
              "   ID_bus_terminal_11  ID_bus_terminal_12  ID_bus_terminal_13  \\\n",
              "0                   0                   0                   0   \n",
              "1                   0                   0                   0   \n",
              "2                   0                   0                   0   \n",
              "3                   0                   0                   0   \n",
              "4                   0                   0                   0   \n",
              "\n",
              "   ID_bus_terminal_14  ecology_excellent  ecology_good  ecology_no data  \\\n",
              "0                   0                  0             0                0   \n",
              "1                   0                  0             0                1   \n",
              "2                   0                  0             1                0   \n",
              "3                   0                  0             0                1   \n",
              "4                   0                  0             1                0   \n",
              "\n",
              "   ecology_poor  ecology_satisfactory  \n",
              "0             1                     0  \n",
              "1             0                     0  \n",
              "2             0                     0  \n",
              "3             0                     0  \n",
              "4             0                     0  \n",
              "\n",
              "[5 rows x 1065 columns]"
            ],
            "text/html": "<div>\n<style scoped>\n    .dataframe tbody tr th:only-of-type {\n        vertical-align: middle;\n    }\n\n    .dataframe tbody tr th {\n        vertical-align: top;\n    }\n\n    .dataframe thead th {\n        text-align: right;\n    }\n</style>\n<table border=\"1\" class=\"dataframe\">\n  <thead>\n    <tr style=\"text-align: right;\">\n      <th></th>\n      <th>full_sq</th>\n      <th>life_sq</th>\n      <th>floor</th>\n      <th>max_floor</th>\n      <th>build_year</th>\n      <th>num_room</th>\n      <th>kitch_sq</th>\n      <th>area_m</th>\n      <th>raion_popul</th>\n      <th>green_zone_part</th>\n      <th>...</th>\n      <th>ID_bus_terminal_10</th>\n      <th>ID_bus_terminal_11</th>\n      <th>ID_bus_terminal_12</th>\n      <th>ID_bus_terminal_13</th>\n      <th>ID_bus_terminal_14</th>\n      <th>ecology_excellent</th>\n      <th>ecology_good</th>\n      <th>ecology_no data</th>\n      <th>ecology_poor</th>\n      <th>ecology_satisfactory</th>\n    </tr>\n  </thead>\n  <tbody>\n    <tr>\n      <th>0</th>\n      <td>1</td>\n      <td>1.0</td>\n      <td>1.0</td>\n      <td>1.0</td>\n      <td>1.0</td>\n      <td>1.0</td>\n      <td>1.0</td>\n      <td>5.293465e+06</td>\n      <td>77878</td>\n      <td>0.023464</td>\n      <td>...</td>\n      <td>0</td>\n      <td>0</td>\n      <td>0</td>\n      <td>0</td>\n      <td>0</td>\n      <td>0</td>\n      <td>0</td>\n      <td>0</td>\n      <td>1</td>\n      <td>0</td>\n    </tr>\n    <tr>\n      <th>1</th>\n      <td>64</td>\n      <td>64.0</td>\n      <td>16.0</td>\n      <td>NaN</td>\n      <td>NaN</td>\n      <td>NaN</td>\n      <td>NaN</td>\n      <td>6.677245e+07</td>\n      <td>9553</td>\n      <td>0.336177</td>\n      <td>...</td>\n      <td>0</td>\n      <td>0</td>\n      <td>0</td>\n      <td>0</td>\n      <td>0</td>\n      <td>0</td>\n      <td>0</td>\n      <td>1</td>\n      <td>0</td>\n      <td>0</td>\n    </tr>\n    <tr>\n      <th>2</th>\n      <td>83</td>\n      <td>44.0</td>\n      <td>9.0</td>\n      <td>17.0</td>\n      <td>1985.0</td>\n      <td>3.0</td>\n      <td>10.0</td>\n      <td>1.216448e+07</td>\n      <td>78507</td>\n      <td>0.297166</td>\n      <td>...</td>\n      <td>0</td>\n      <td>0</td>\n      <td>0</td>\n      <td>0</td>\n      <td>0</td>\n      <td>0</td>\n      <td>1</td>\n      <td>0</td>\n      <td>0</td>\n      <td>0</td>\n    </tr>\n    <tr>\n      <th>3</th>\n      <td>71</td>\n      <td>49.0</td>\n      <td>2.0</td>\n      <td>NaN</td>\n      <td>NaN</td>\n      <td>NaN</td>\n      <td>NaN</td>\n      <td>4.708040e+06</td>\n      <td>38075</td>\n      <td>0.271702</td>\n      <td>...</td>\n      <td>0</td>\n      <td>0</td>\n      <td>0</td>\n      <td>0</td>\n      <td>0</td>\n      <td>0</td>\n      <td>0</td>\n      <td>1</td>\n      <td>0</td>\n      <td>0</td>\n    </tr>\n    <tr>\n      <th>4</th>\n      <td>60</td>\n      <td>42.0</td>\n      <td>9.0</td>\n      <td>9.0</td>\n      <td>1970.0</td>\n      <td>3.0</td>\n      <td>6.0</td>\n      <td>1.428699e+07</td>\n      <td>157010</td>\n      <td>0.389354</td>\n      <td>...</td>\n      <td>0</td>\n      <td>0</td>\n      <td>0</td>\n      <td>0</td>\n      <td>0</td>\n      <td>0</td>\n      <td>1</td>\n      <td>0</td>\n      <td>0</td>\n      <td>0</td>\n    </tr>\n  </tbody>\n</table>\n<p>5 rows × 1065 columns</p>\n</div>"
          },
          "metadata": {},
          "execution_count": 62
        }
      ],
      "source": [
        "df = pd.get_dummies(df, columns=cat_columns)\n",
        "df.head()"
      ]
    },
    {
      "cell_type": "code",
      "execution_count": 63,
      "metadata": {},
      "outputs": [
        {
          "output_type": "execute_result",
          "data": {
            "text/plain": [
              "full_sq                    0\n",
              "life_sq                 4103\n",
              "floor                    113\n",
              "max_floor               6303\n",
              "build_year              8905\n",
              "                        ... \n",
              "ecology_excellent          0\n",
              "ecology_good               0\n",
              "ecology_no data            0\n",
              "ecology_poor               0\n",
              "ecology_satisfactory       0\n",
              "Length: 1065, dtype: int64"
            ]
          },
          "metadata": {},
          "execution_count": 63
        }
      ],
      "source": [
        "df.isna().sum() "
      ]
    },
    {
      "cell_type": "code",
      "execution_count": 64,
      "metadata": {},
      "outputs": [
        {
          "output_type": "execute_result",
          "data": {
            "text/plain": [
              "   full_sq  life_sq  floor  max_floor  build_year  num_room  kitch_sq  \\\n",
              "0      1.0      1.0    1.0        1.0         1.0       1.0       1.0   \n",
              "1     64.0     64.0   16.0       17.0      2014.0       2.0       1.0   \n",
              "2     83.0     44.0    9.0       17.0      1985.0       3.0      10.0   \n",
              "3     71.0     49.0    2.0       17.0      2014.0       2.0       1.0   \n",
              "4     60.0     42.0    9.0        9.0      1970.0       3.0       6.0   \n",
              "\n",
              "         area_m  raion_popul  green_zone_part  ...  ID_bus_terminal_10  \\\n",
              "0  5.293465e+06      77878.0         0.023464  ...                 0.0   \n",
              "1  6.677245e+07       9553.0         0.336177  ...                 0.0   \n",
              "2  1.216448e+07      78507.0         0.297166  ...                 0.0   \n",
              "3  4.708040e+06      38075.0         0.271702  ...                 0.0   \n",
              "4  1.428699e+07     157010.0         0.389354  ...                 0.0   \n",
              "\n",
              "   ID_bus_terminal_11  ID_bus_terminal_12  ID_bus_terminal_13  \\\n",
              "0                 0.0                 0.0                 0.0   \n",
              "1                 0.0                 0.0                 0.0   \n",
              "2                 0.0                 0.0                 0.0   \n",
              "3                 0.0                 0.0                 0.0   \n",
              "4                 0.0                 0.0                 0.0   \n",
              "\n",
              "   ID_bus_terminal_14  ecology_excellent  ecology_good  ecology_no data  \\\n",
              "0                 0.0                0.0           0.0              0.0   \n",
              "1                 0.0                0.0           0.0              1.0   \n",
              "2                 0.0                0.0           1.0              0.0   \n",
              "3                 0.0                0.0           0.0              1.0   \n",
              "4                 0.0                0.0           1.0              0.0   \n",
              "\n",
              "   ecology_poor  ecology_satisfactory  \n",
              "0           1.0                   0.0  \n",
              "1           0.0                   0.0  \n",
              "2           0.0                   0.0  \n",
              "3           0.0                   0.0  \n",
              "4           0.0                   0.0  \n",
              "\n",
              "[5 rows x 1065 columns]"
            ],
            "text/html": "<div>\n<style scoped>\n    .dataframe tbody tr th:only-of-type {\n        vertical-align: middle;\n    }\n\n    .dataframe tbody tr th {\n        vertical-align: top;\n    }\n\n    .dataframe thead th {\n        text-align: right;\n    }\n</style>\n<table border=\"1\" class=\"dataframe\">\n  <thead>\n    <tr style=\"text-align: right;\">\n      <th></th>\n      <th>full_sq</th>\n      <th>life_sq</th>\n      <th>floor</th>\n      <th>max_floor</th>\n      <th>build_year</th>\n      <th>num_room</th>\n      <th>kitch_sq</th>\n      <th>area_m</th>\n      <th>raion_popul</th>\n      <th>green_zone_part</th>\n      <th>...</th>\n      <th>ID_bus_terminal_10</th>\n      <th>ID_bus_terminal_11</th>\n      <th>ID_bus_terminal_12</th>\n      <th>ID_bus_terminal_13</th>\n      <th>ID_bus_terminal_14</th>\n      <th>ecology_excellent</th>\n      <th>ecology_good</th>\n      <th>ecology_no data</th>\n      <th>ecology_poor</th>\n      <th>ecology_satisfactory</th>\n    </tr>\n  </thead>\n  <tbody>\n    <tr>\n      <th>0</th>\n      <td>1.0</td>\n      <td>1.0</td>\n      <td>1.0</td>\n      <td>1.0</td>\n      <td>1.0</td>\n      <td>1.0</td>\n      <td>1.0</td>\n      <td>5.293465e+06</td>\n      <td>77878.0</td>\n      <td>0.023464</td>\n      <td>...</td>\n      <td>0.0</td>\n      <td>0.0</td>\n      <td>0.0</td>\n      <td>0.0</td>\n      <td>0.0</td>\n      <td>0.0</td>\n      <td>0.0</td>\n      <td>0.0</td>\n      <td>1.0</td>\n      <td>0.0</td>\n    </tr>\n    <tr>\n      <th>1</th>\n      <td>64.0</td>\n      <td>64.0</td>\n      <td>16.0</td>\n      <td>17.0</td>\n      <td>2014.0</td>\n      <td>2.0</td>\n      <td>1.0</td>\n      <td>6.677245e+07</td>\n      <td>9553.0</td>\n      <td>0.336177</td>\n      <td>...</td>\n      <td>0.0</td>\n      <td>0.0</td>\n      <td>0.0</td>\n      <td>0.0</td>\n      <td>0.0</td>\n      <td>0.0</td>\n      <td>0.0</td>\n      <td>1.0</td>\n      <td>0.0</td>\n      <td>0.0</td>\n    </tr>\n    <tr>\n      <th>2</th>\n      <td>83.0</td>\n      <td>44.0</td>\n      <td>9.0</td>\n      <td>17.0</td>\n      <td>1985.0</td>\n      <td>3.0</td>\n      <td>10.0</td>\n      <td>1.216448e+07</td>\n      <td>78507.0</td>\n      <td>0.297166</td>\n      <td>...</td>\n      <td>0.0</td>\n      <td>0.0</td>\n      <td>0.0</td>\n      <td>0.0</td>\n      <td>0.0</td>\n      <td>0.0</td>\n      <td>1.0</td>\n      <td>0.0</td>\n      <td>0.0</td>\n      <td>0.0</td>\n    </tr>\n    <tr>\n      <th>3</th>\n      <td>71.0</td>\n      <td>49.0</td>\n      <td>2.0</td>\n      <td>17.0</td>\n      <td>2014.0</td>\n      <td>2.0</td>\n      <td>1.0</td>\n      <td>4.708040e+06</td>\n      <td>38075.0</td>\n      <td>0.271702</td>\n      <td>...</td>\n      <td>0.0</td>\n      <td>0.0</td>\n      <td>0.0</td>\n      <td>0.0</td>\n      <td>0.0</td>\n      <td>0.0</td>\n      <td>0.0</td>\n      <td>1.0</td>\n      <td>0.0</td>\n      <td>0.0</td>\n    </tr>\n    <tr>\n      <th>4</th>\n      <td>60.0</td>\n      <td>42.0</td>\n      <td>9.0</td>\n      <td>9.0</td>\n      <td>1970.0</td>\n      <td>3.0</td>\n      <td>6.0</td>\n      <td>1.428699e+07</td>\n      <td>157010.0</td>\n      <td>0.389354</td>\n      <td>...</td>\n      <td>0.0</td>\n      <td>0.0</td>\n      <td>0.0</td>\n      <td>0.0</td>\n      <td>0.0</td>\n      <td>0.0</td>\n      <td>1.0</td>\n      <td>0.0</td>\n      <td>0.0</td>\n      <td>0.0</td>\n    </tr>\n  </tbody>\n</table>\n<p>5 rows × 1065 columns</p>\n</div>"
          },
          "metadata": {},
          "execution_count": 64
        }
      ],
      "source": [
        "si = SimpleImputer(missing_values=np.nan, strategy='most_frequent')\n",
        "df = pd.DataFrame(data=si.fit_transform(df), columns=df.columns)\n",
        "df.head()"
      ]
    },
    {
      "cell_type": "code",
      "execution_count": 65,
      "metadata": {},
      "outputs": [
        {
          "output_type": "execute_result",
          "data": {
            "text/plain": [
              "0"
            ]
          },
          "metadata": {},
          "execution_count": 65
        }
      ],
      "source": [
        "df.isna().sum().sum()"
      ]
    },
    {
      "cell_type": "code",
      "execution_count": null,
      "metadata": {},
      "outputs": [],
      "source": []
    },
    {
      "cell_type": "code",
      "execution_count": 66,
      "metadata": {},
      "outputs": [
        {
          "output_type": "display_data",
          "data": {
            "text/plain": "(20000, 1065)"
          },
          "metadata": {}
        },
        {
          "output_type": "display_data",
          "data": {
            "text/plain": "(16000, 1065)"
          },
          "metadata": {}
        },
        {
          "output_type": "display_data",
          "data": {
            "text/plain": "(4000, 1065)"
          },
          "metadata": {}
        },
        {
          "output_type": "execute_result",
          "data": {
            "text/plain": [
              "   full_sq  life_sq  floor  max_floor  build_year  num_room  kitch_sq  \\\n",
              "0      1.0      1.0    1.0        1.0         1.0       1.0       1.0   \n",
              "1     64.0     64.0   16.0       17.0      2014.0       2.0       1.0   \n",
              "2     83.0     44.0    9.0       17.0      1985.0       3.0      10.0   \n",
              "3     71.0     49.0    2.0       17.0      2014.0       2.0       1.0   \n",
              "4     60.0     42.0    9.0        9.0      1970.0       3.0       6.0   \n",
              "\n",
              "         area_m  raion_popul  green_zone_part  ...  ID_bus_terminal_10  \\\n",
              "0  5.293465e+06      77878.0         0.023464  ...                 0.0   \n",
              "1  6.677245e+07       9553.0         0.336177  ...                 0.0   \n",
              "2  1.216448e+07      78507.0         0.297166  ...                 0.0   \n",
              "3  4.708040e+06      38075.0         0.271702  ...                 0.0   \n",
              "4  1.428699e+07     157010.0         0.389354  ...                 0.0   \n",
              "\n",
              "   ID_bus_terminal_11  ID_bus_terminal_12  ID_bus_terminal_13  \\\n",
              "0                 0.0                 0.0                 0.0   \n",
              "1                 0.0                 0.0                 0.0   \n",
              "2                 0.0                 0.0                 0.0   \n",
              "3                 0.0                 0.0                 0.0   \n",
              "4                 0.0                 0.0                 0.0   \n",
              "\n",
              "   ID_bus_terminal_14  ecology_excellent  ecology_good  ecology_no data  \\\n",
              "0                 0.0                0.0           0.0              0.0   \n",
              "1                 0.0                0.0           0.0              1.0   \n",
              "2                 0.0                0.0           1.0              0.0   \n",
              "3                 0.0                0.0           0.0              1.0   \n",
              "4                 0.0                0.0           1.0              0.0   \n",
              "\n",
              "   ecology_poor  ecology_satisfactory  \n",
              "0           1.0                   0.0  \n",
              "1           0.0                   0.0  \n",
              "2           0.0                   0.0  \n",
              "3           0.0                   0.0  \n",
              "4           0.0                   0.0  \n",
              "\n",
              "[5 rows x 1065 columns]"
            ],
            "text/html": "<div>\n<style scoped>\n    .dataframe tbody tr th:only-of-type {\n        vertical-align: middle;\n    }\n\n    .dataframe tbody tr th {\n        vertical-align: top;\n    }\n\n    .dataframe thead th {\n        text-align: right;\n    }\n</style>\n<table border=\"1\" class=\"dataframe\">\n  <thead>\n    <tr style=\"text-align: right;\">\n      <th></th>\n      <th>full_sq</th>\n      <th>life_sq</th>\n      <th>floor</th>\n      <th>max_floor</th>\n      <th>build_year</th>\n      <th>num_room</th>\n      <th>kitch_sq</th>\n      <th>area_m</th>\n      <th>raion_popul</th>\n      <th>green_zone_part</th>\n      <th>...</th>\n      <th>ID_bus_terminal_10</th>\n      <th>ID_bus_terminal_11</th>\n      <th>ID_bus_terminal_12</th>\n      <th>ID_bus_terminal_13</th>\n      <th>ID_bus_terminal_14</th>\n      <th>ecology_excellent</th>\n      <th>ecology_good</th>\n      <th>ecology_no data</th>\n      <th>ecology_poor</th>\n      <th>ecology_satisfactory</th>\n    </tr>\n  </thead>\n  <tbody>\n    <tr>\n      <th>0</th>\n      <td>1.0</td>\n      <td>1.0</td>\n      <td>1.0</td>\n      <td>1.0</td>\n      <td>1.0</td>\n      <td>1.0</td>\n      <td>1.0</td>\n      <td>5.293465e+06</td>\n      <td>77878.0</td>\n      <td>0.023464</td>\n      <td>...</td>\n      <td>0.0</td>\n      <td>0.0</td>\n      <td>0.0</td>\n      <td>0.0</td>\n      <td>0.0</td>\n      <td>0.0</td>\n      <td>0.0</td>\n      <td>0.0</td>\n      <td>1.0</td>\n      <td>0.0</td>\n    </tr>\n    <tr>\n      <th>1</th>\n      <td>64.0</td>\n      <td>64.0</td>\n      <td>16.0</td>\n      <td>17.0</td>\n      <td>2014.0</td>\n      <td>2.0</td>\n      <td>1.0</td>\n      <td>6.677245e+07</td>\n      <td>9553.0</td>\n      <td>0.336177</td>\n      <td>...</td>\n      <td>0.0</td>\n      <td>0.0</td>\n      <td>0.0</td>\n      <td>0.0</td>\n      <td>0.0</td>\n      <td>0.0</td>\n      <td>0.0</td>\n      <td>1.0</td>\n      <td>0.0</td>\n      <td>0.0</td>\n    </tr>\n    <tr>\n      <th>2</th>\n      <td>83.0</td>\n      <td>44.0</td>\n      <td>9.0</td>\n      <td>17.0</td>\n      <td>1985.0</td>\n      <td>3.0</td>\n      <td>10.0</td>\n      <td>1.216448e+07</td>\n      <td>78507.0</td>\n      <td>0.297166</td>\n      <td>...</td>\n      <td>0.0</td>\n      <td>0.0</td>\n      <td>0.0</td>\n      <td>0.0</td>\n      <td>0.0</td>\n      <td>0.0</td>\n      <td>1.0</td>\n      <td>0.0</td>\n      <td>0.0</td>\n      <td>0.0</td>\n    </tr>\n    <tr>\n      <th>3</th>\n      <td>71.0</td>\n      <td>49.0</td>\n      <td>2.0</td>\n      <td>17.0</td>\n      <td>2014.0</td>\n      <td>2.0</td>\n      <td>1.0</td>\n      <td>4.708040e+06</td>\n      <td>38075.0</td>\n      <td>0.271702</td>\n      <td>...</td>\n      <td>0.0</td>\n      <td>0.0</td>\n      <td>0.0</td>\n      <td>0.0</td>\n      <td>0.0</td>\n      <td>0.0</td>\n      <td>0.0</td>\n      <td>1.0</td>\n      <td>0.0</td>\n      <td>0.0</td>\n    </tr>\n    <tr>\n      <th>4</th>\n      <td>60.0</td>\n      <td>42.0</td>\n      <td>9.0</td>\n      <td>9.0</td>\n      <td>1970.0</td>\n      <td>3.0</td>\n      <td>6.0</td>\n      <td>1.428699e+07</td>\n      <td>157010.0</td>\n      <td>0.389354</td>\n      <td>...</td>\n      <td>0.0</td>\n      <td>0.0</td>\n      <td>0.0</td>\n      <td>0.0</td>\n      <td>0.0</td>\n      <td>0.0</td>\n      <td>1.0</td>\n      <td>0.0</td>\n      <td>0.0</td>\n      <td>0.0</td>\n    </tr>\n  </tbody>\n</table>\n<p>5 rows × 1065 columns</p>\n</div>"
          },
          "metadata": {},
          "execution_count": 66
        }
      ],
      "source": [
        "df_train = df.iloc[:int(df.shape[0] * 0.8), :]\n",
        "df_test = df.iloc[int(df.shape[0] * 0.8):, :]\n",
        "display(df.shape)\n",
        "display(df_train.shape)\n",
        "display(df_test.shape)\n",
        "df.head()"
      ]
    },
    {
      "cell_type": "code",
      "execution_count": 67,
      "metadata": {},
      "outputs": [],
      "source": [
        "y_train = df_train['price']\n",
        "X_train = df_train.drop(['price'], axis=1)\n",
        "y_test = df_test['price']\n",
        "X_test = df_test.drop(['price'], axis=1)"
      ]
    },
    {
      "cell_type": "markdown",
      "metadata": {
        "id": "oiOby6hNu92W"
      },
      "source": [
        "### Baseline (2 балла)\n",
        "\n",
        "В качестве Baseline обучите `DecisionTreeRegressor` из `sklearn`."
      ]
    },
    {
      "cell_type": "code",
      "execution_count": 69,
      "metadata": {},
      "outputs": [
        {
          "output_type": "execute_result",
          "data": {
            "text/plain": [
              "DecisionTreeRegressor()"
            ]
          },
          "metadata": {},
          "execution_count": 69
        }
      ],
      "source": [
        "dtr = DecisionTreeRegressor()\n",
        "dtr.fit(X_train, y_train)"
      ]
    },
    {
      "cell_type": "markdown",
      "metadata": {
        "id": "XUC7NFhw1X41"
      },
      "source": [
        "Проверьте качество на отложенной выборке."
      ]
    },
    {
      "cell_type": "code",
      "execution_count": 70,
      "metadata": {},
      "outputs": [
        {
          "output_type": "display_data",
          "data": {
            "text/plain": "'Mean absolute error: '"
          },
          "metadata": {}
        },
        {
          "output_type": "display_data",
          "data": {
            "text/plain": "1970821.2180833335"
          },
          "metadata": {}
        },
        {
          "output_type": "display_data",
          "data": {
            "text/plain": "'R2 error'"
          },
          "metadata": {}
        },
        {
          "output_type": "display_data",
          "data": {
            "text/plain": "0.3997540777291323"
          },
          "metadata": {}
        }
      ],
      "source": [
        "y_pred = dtr.predict(X_test)\n",
        "display('Mean absolute error: ')\n",
        "display(mean_absolute_error(y_test, y_pred))\n",
        "display('R2 error')\n",
        "display(r2_score(y_test, y_pred))"
      ]
    },
    {
      "cell_type": "markdown",
      "metadata": {
        "id": "3bezBBI7u_oF"
      },
      "source": [
        "### Feature Engineering (2 балла)\n",
        "\n",
        "Часто улучшить модель можно с помощью аккуратного Feature Engineering.\n",
        "\n",
        "Добавим в модель дополнительные признаки:\n",
        "* \"Как часто в этот год и этот месяц появлились объявления\"\n",
        "* \"Как часто в этот год и эту неделю появлялись объявления\""
      ]
    },
    {
      "cell_type": "code",
      "execution_count": 73,
      "metadata": {},
      "outputs": [
        {
          "output_type": "execute_result",
          "data": {
            "text/plain": [
              "       full_sq  life_sq  floor  max_floor  build_year  num_room  kitch_sq  \\\n",
              "0          1.0      1.0    1.0        1.0         1.0       1.0       1.0   \n",
              "1         64.0     64.0   16.0       17.0      2014.0       2.0       1.0   \n",
              "2         83.0     44.0    9.0       17.0      1985.0       3.0      10.0   \n",
              "3         71.0     49.0    2.0       17.0      2014.0       2.0       1.0   \n",
              "4         60.0     42.0    9.0        9.0      1970.0       3.0       6.0   \n",
              "...        ...      ...    ...        ...         ...       ...       ...   \n",
              "15995     46.0     29.0    3.0        5.0      1965.0       2.0       5.0   \n",
              "15996     72.0     43.0   16.0       17.0      1995.0       3.0      10.0   \n",
              "15997     38.0     22.0    8.0       12.0      1968.0       2.0       6.0   \n",
              "15998     67.0     43.0   16.0       16.0      1976.0       3.0       7.0   \n",
              "15999     83.0     53.0   23.0       24.0      2011.0       4.0      10.0   \n",
              "\n",
              "             area_m  raion_popul  green_zone_part  ...  ID_bus_terminal_10  \\\n",
              "0      5.293465e+06      77878.0         0.023464  ...                 0.0   \n",
              "1      6.677245e+07       9553.0         0.336177  ...                 0.0   \n",
              "2      1.216448e+07      78507.0         0.297166  ...                 0.0   \n",
              "3      4.708040e+06      38075.0         0.271702  ...                 0.0   \n",
              "4      1.428699e+07     157010.0         0.389354  ...                 0.0   \n",
              "...             ...          ...              ...  ...                 ...   \n",
              "15995  9.946335e+06     139322.0         0.065409  ...                 1.0   \n",
              "15996  8.287309e+06     125354.0         0.071120  ...                 0.0   \n",
              "15997  1.509487e+07     219609.0         0.300284  ...                 0.0   \n",
              "15998  1.428699e+07     157010.0         0.389354  ...                 0.0   \n",
              "15999  2.615514e+07     178264.0         0.137846  ...                 0.0   \n",
              "\n",
              "       ID_bus_terminal_11  ID_bus_terminal_12  ID_bus_terminal_13  \\\n",
              "0                     0.0                 0.0                 0.0   \n",
              "1                     0.0                 0.0                 0.0   \n",
              "2                     0.0                 0.0                 0.0   \n",
              "3                     0.0                 0.0                 0.0   \n",
              "4                     0.0                 0.0                 0.0   \n",
              "...                   ...                 ...                 ...   \n",
              "15995                 0.0                 0.0                 0.0   \n",
              "15996                 0.0                 1.0                 0.0   \n",
              "15997                 0.0                 0.0                 0.0   \n",
              "15998                 0.0                 0.0                 0.0   \n",
              "15999                 0.0                 0.0                 0.0   \n",
              "\n",
              "       ID_bus_terminal_14  ecology_excellent  ecology_good  ecology_no data  \\\n",
              "0                     0.0                0.0           0.0              0.0   \n",
              "1                     0.0                0.0           0.0              1.0   \n",
              "2                     0.0                0.0           1.0              0.0   \n",
              "3                     0.0                0.0           0.0              1.0   \n",
              "4                     0.0                0.0           1.0              0.0   \n",
              "...                   ...                ...           ...              ...   \n",
              "15995                 0.0                1.0           0.0              0.0   \n",
              "15996                 0.0                0.0           0.0              0.0   \n",
              "15997                 0.0                0.0           0.0              0.0   \n",
              "15998                 0.0                0.0           1.0              0.0   \n",
              "15999                 0.0                0.0           1.0              0.0   \n",
              "\n",
              "       ecology_poor  ecology_satisfactory  \n",
              "0               1.0                   0.0  \n",
              "1               0.0                   0.0  \n",
              "2               0.0                   0.0  \n",
              "3               0.0                   0.0  \n",
              "4               0.0                   0.0  \n",
              "...             ...                   ...  \n",
              "15995           0.0                   0.0  \n",
              "15996           1.0                   0.0  \n",
              "15997           1.0                   0.0  \n",
              "15998           0.0                   0.0  \n",
              "15999           0.0                   0.0  \n",
              "\n",
              "[16000 rows x 1065 columns]"
            ],
            "text/html": "<div>\n<style scoped>\n    .dataframe tbody tr th:only-of-type {\n        vertical-align: middle;\n    }\n\n    .dataframe tbody tr th {\n        vertical-align: top;\n    }\n\n    .dataframe thead th {\n        text-align: right;\n    }\n</style>\n<table border=\"1\" class=\"dataframe\">\n  <thead>\n    <tr style=\"text-align: right;\">\n      <th></th>\n      <th>full_sq</th>\n      <th>life_sq</th>\n      <th>floor</th>\n      <th>max_floor</th>\n      <th>build_year</th>\n      <th>num_room</th>\n      <th>kitch_sq</th>\n      <th>area_m</th>\n      <th>raion_popul</th>\n      <th>green_zone_part</th>\n      <th>...</th>\n      <th>ID_bus_terminal_10</th>\n      <th>ID_bus_terminal_11</th>\n      <th>ID_bus_terminal_12</th>\n      <th>ID_bus_terminal_13</th>\n      <th>ID_bus_terminal_14</th>\n      <th>ecology_excellent</th>\n      <th>ecology_good</th>\n      <th>ecology_no data</th>\n      <th>ecology_poor</th>\n      <th>ecology_satisfactory</th>\n    </tr>\n  </thead>\n  <tbody>\n    <tr>\n      <th>0</th>\n      <td>1.0</td>\n      <td>1.0</td>\n      <td>1.0</td>\n      <td>1.0</td>\n      <td>1.0</td>\n      <td>1.0</td>\n      <td>1.0</td>\n      <td>5.293465e+06</td>\n      <td>77878.0</td>\n      <td>0.023464</td>\n      <td>...</td>\n      <td>0.0</td>\n      <td>0.0</td>\n      <td>0.0</td>\n      <td>0.0</td>\n      <td>0.0</td>\n      <td>0.0</td>\n      <td>0.0</td>\n      <td>0.0</td>\n      <td>1.0</td>\n      <td>0.0</td>\n    </tr>\n    <tr>\n      <th>1</th>\n      <td>64.0</td>\n      <td>64.0</td>\n      <td>16.0</td>\n      <td>17.0</td>\n      <td>2014.0</td>\n      <td>2.0</td>\n      <td>1.0</td>\n      <td>6.677245e+07</td>\n      <td>9553.0</td>\n      <td>0.336177</td>\n      <td>...</td>\n      <td>0.0</td>\n      <td>0.0</td>\n      <td>0.0</td>\n      <td>0.0</td>\n      <td>0.0</td>\n      <td>0.0</td>\n      <td>0.0</td>\n      <td>1.0</td>\n      <td>0.0</td>\n      <td>0.0</td>\n    </tr>\n    <tr>\n      <th>2</th>\n      <td>83.0</td>\n      <td>44.0</td>\n      <td>9.0</td>\n      <td>17.0</td>\n      <td>1985.0</td>\n      <td>3.0</td>\n      <td>10.0</td>\n      <td>1.216448e+07</td>\n      <td>78507.0</td>\n      <td>0.297166</td>\n      <td>...</td>\n      <td>0.0</td>\n      <td>0.0</td>\n      <td>0.0</td>\n      <td>0.0</td>\n      <td>0.0</td>\n      <td>0.0</td>\n      <td>1.0</td>\n      <td>0.0</td>\n      <td>0.0</td>\n      <td>0.0</td>\n    </tr>\n    <tr>\n      <th>3</th>\n      <td>71.0</td>\n      <td>49.0</td>\n      <td>2.0</td>\n      <td>17.0</td>\n      <td>2014.0</td>\n      <td>2.0</td>\n      <td>1.0</td>\n      <td>4.708040e+06</td>\n      <td>38075.0</td>\n      <td>0.271702</td>\n      <td>...</td>\n      <td>0.0</td>\n      <td>0.0</td>\n      <td>0.0</td>\n      <td>0.0</td>\n      <td>0.0</td>\n      <td>0.0</td>\n      <td>0.0</td>\n      <td>1.0</td>\n      <td>0.0</td>\n      <td>0.0</td>\n    </tr>\n    <tr>\n      <th>4</th>\n      <td>60.0</td>\n      <td>42.0</td>\n      <td>9.0</td>\n      <td>9.0</td>\n      <td>1970.0</td>\n      <td>3.0</td>\n      <td>6.0</td>\n      <td>1.428699e+07</td>\n      <td>157010.0</td>\n      <td>0.389354</td>\n      <td>...</td>\n      <td>0.0</td>\n      <td>0.0</td>\n      <td>0.0</td>\n      <td>0.0</td>\n      <td>0.0</td>\n      <td>0.0</td>\n      <td>1.0</td>\n      <td>0.0</td>\n      <td>0.0</td>\n      <td>0.0</td>\n    </tr>\n    <tr>\n      <th>...</th>\n      <td>...</td>\n      <td>...</td>\n      <td>...</td>\n      <td>...</td>\n      <td>...</td>\n      <td>...</td>\n      <td>...</td>\n      <td>...</td>\n      <td>...</td>\n      <td>...</td>\n      <td>...</td>\n      <td>...</td>\n      <td>...</td>\n      <td>...</td>\n      <td>...</td>\n      <td>...</td>\n      <td>...</td>\n      <td>...</td>\n      <td>...</td>\n      <td>...</td>\n      <td>...</td>\n    </tr>\n    <tr>\n      <th>15995</th>\n      <td>46.0</td>\n      <td>29.0</td>\n      <td>3.0</td>\n      <td>5.0</td>\n      <td>1965.0</td>\n      <td>2.0</td>\n      <td>5.0</td>\n      <td>9.946335e+06</td>\n      <td>139322.0</td>\n      <td>0.065409</td>\n      <td>...</td>\n      <td>1.0</td>\n      <td>0.0</td>\n      <td>0.0</td>\n      <td>0.0</td>\n      <td>0.0</td>\n      <td>1.0</td>\n      <td>0.0</td>\n      <td>0.0</td>\n      <td>0.0</td>\n      <td>0.0</td>\n    </tr>\n    <tr>\n      <th>15996</th>\n      <td>72.0</td>\n      <td>43.0</td>\n      <td>16.0</td>\n      <td>17.0</td>\n      <td>1995.0</td>\n      <td>3.0</td>\n      <td>10.0</td>\n      <td>8.287309e+06</td>\n      <td>125354.0</td>\n      <td>0.071120</td>\n      <td>...</td>\n      <td>0.0</td>\n      <td>0.0</td>\n      <td>1.0</td>\n      <td>0.0</td>\n      <td>0.0</td>\n      <td>0.0</td>\n      <td>0.0</td>\n      <td>0.0</td>\n      <td>1.0</td>\n      <td>0.0</td>\n    </tr>\n    <tr>\n      <th>15997</th>\n      <td>38.0</td>\n      <td>22.0</td>\n      <td>8.0</td>\n      <td>12.0</td>\n      <td>1968.0</td>\n      <td>2.0</td>\n      <td>6.0</td>\n      <td>1.509487e+07</td>\n      <td>219609.0</td>\n      <td>0.300284</td>\n      <td>...</td>\n      <td>0.0</td>\n      <td>0.0</td>\n      <td>0.0</td>\n      <td>0.0</td>\n      <td>0.0</td>\n      <td>0.0</td>\n      <td>0.0</td>\n      <td>0.0</td>\n      <td>1.0</td>\n      <td>0.0</td>\n    </tr>\n    <tr>\n      <th>15998</th>\n      <td>67.0</td>\n      <td>43.0</td>\n      <td>16.0</td>\n      <td>16.0</td>\n      <td>1976.0</td>\n      <td>3.0</td>\n      <td>7.0</td>\n      <td>1.428699e+07</td>\n      <td>157010.0</td>\n      <td>0.389354</td>\n      <td>...</td>\n      <td>0.0</td>\n      <td>0.0</td>\n      <td>0.0</td>\n      <td>0.0</td>\n      <td>0.0</td>\n      <td>0.0</td>\n      <td>1.0</td>\n      <td>0.0</td>\n      <td>0.0</td>\n      <td>0.0</td>\n    </tr>\n    <tr>\n      <th>15999</th>\n      <td>83.0</td>\n      <td>53.0</td>\n      <td>23.0</td>\n      <td>24.0</td>\n      <td>2011.0</td>\n      <td>4.0</td>\n      <td>10.0</td>\n      <td>2.615514e+07</td>\n      <td>178264.0</td>\n      <td>0.137846</td>\n      <td>...</td>\n      <td>0.0</td>\n      <td>0.0</td>\n      <td>0.0</td>\n      <td>0.0</td>\n      <td>0.0</td>\n      <td>0.0</td>\n      <td>1.0</td>\n      <td>0.0</td>\n      <td>0.0</td>\n      <td>0.0</td>\n    </tr>\n  </tbody>\n</table>\n<p>16000 rows × 1065 columns</p>\n</div>"
          },
          "metadata": {},
          "execution_count": 73
        }
      ],
      "source": [
        "df_train"
      ]
    },
    {
      "cell_type": "code",
      "metadata": {
        "id": "_cJ6SBqUKC4C"
      },
      "source": [
        "month_year = (df_id_time.timestamp.dt.month + df_id_time.timestamp.dt.year * 100)\n",
        "month_year_cnt_map = month_year.value_counts().to_dict()\n",
        "df[\"month_year_cnt\"] = month_year.map(month_year_cnt_map)\n",
        "\n",
        "week_year = (df_id_time.timestamp.dt.weekofyear + df_id_time.timestamp.dt.year * 100)\n",
        "week_year_cnt_map = week_year.value_counts().to_dict()\n",
        "df[\"week_year_cnt\"] = week_year.map(week_year_cnt_map)"
      ],
      "execution_count": 74,
      "outputs": []
    },
    {
      "cell_type": "markdown",
      "metadata": {
        "id": "pCajk45_KDSz"
      },
      "source": [
        "Добавьте следюущие дополнительные признаки:\n",
        "* Месяц (из колонки `timestamp`)\n",
        "* День недели (из колонки `timestamp`)\n",
        "* Отношение \"этаж / максимальный этаж в здании\" (колонки `floor` и `max_floor`)\n",
        "* Отношение \"площадь кухни / площадь квартиры\" (колонки `kitchen_sq` и `full_sq`)\n",
        "\n",
        "По желанию можно добавить и другие признаки."
      ]
    },
    {
      "cell_type": "code",
      "metadata": {
        "id": "dXZkoUL8Kve6"
      },
      "source": [
        "df['month'] = df_id_time.timestamp.dt.month\n",
        "df['weekday'] = df_id_time.timestamp.dt.weekday\n",
        "df['perc_floor'] = (df.floor / df.max_floor).apply(float)\n",
        "df['perc_kitchen'] = (df.kitch_sq / df.full_sq).apply(float)\n",
        "display(df[['month', 'weekday', 'perc_floor', 'perc_kitchen']])"
      ],
      "execution_count": 75,
      "outputs": [
        {
          "output_type": "display_data",
          "data": {
            "text/plain": "       month  weekday  perc_floor  perc_kitchen\n0         12        4    1.000000      1.000000\n1         10        3    0.941176      0.015625\n2          2        2    0.529412      0.120482\n3          7        3    0.117647      0.014085\n4         10        2    1.000000      0.100000\n...      ...      ...         ...           ...\n19995      9        0    0.222222      0.111111\n19996     12        4    0.235294      0.026316\n19997      6        3    0.409091      0.285714\n19998      1        1    0.470588      0.176471\n19999      4        0    0.529412      0.018519\n\n[20000 rows x 4 columns]",
            "text/html": "<div>\n<style scoped>\n    .dataframe tbody tr th:only-of-type {\n        vertical-align: middle;\n    }\n\n    .dataframe tbody tr th {\n        vertical-align: top;\n    }\n\n    .dataframe thead th {\n        text-align: right;\n    }\n</style>\n<table border=\"1\" class=\"dataframe\">\n  <thead>\n    <tr style=\"text-align: right;\">\n      <th></th>\n      <th>month</th>\n      <th>weekday</th>\n      <th>perc_floor</th>\n      <th>perc_kitchen</th>\n    </tr>\n  </thead>\n  <tbody>\n    <tr>\n      <th>0</th>\n      <td>12</td>\n      <td>4</td>\n      <td>1.000000</td>\n      <td>1.000000</td>\n    </tr>\n    <tr>\n      <th>1</th>\n      <td>10</td>\n      <td>3</td>\n      <td>0.941176</td>\n      <td>0.015625</td>\n    </tr>\n    <tr>\n      <th>2</th>\n      <td>2</td>\n      <td>2</td>\n      <td>0.529412</td>\n      <td>0.120482</td>\n    </tr>\n    <tr>\n      <th>3</th>\n      <td>7</td>\n      <td>3</td>\n      <td>0.117647</td>\n      <td>0.014085</td>\n    </tr>\n    <tr>\n      <th>4</th>\n      <td>10</td>\n      <td>2</td>\n      <td>1.000000</td>\n      <td>0.100000</td>\n    </tr>\n    <tr>\n      <th>...</th>\n      <td>...</td>\n      <td>...</td>\n      <td>...</td>\n      <td>...</td>\n    </tr>\n    <tr>\n      <th>19995</th>\n      <td>9</td>\n      <td>0</td>\n      <td>0.222222</td>\n      <td>0.111111</td>\n    </tr>\n    <tr>\n      <th>19996</th>\n      <td>12</td>\n      <td>4</td>\n      <td>0.235294</td>\n      <td>0.026316</td>\n    </tr>\n    <tr>\n      <th>19997</th>\n      <td>6</td>\n      <td>3</td>\n      <td>0.409091</td>\n      <td>0.285714</td>\n    </tr>\n    <tr>\n      <th>19998</th>\n      <td>1</td>\n      <td>1</td>\n      <td>0.470588</td>\n      <td>0.176471</td>\n    </tr>\n    <tr>\n      <th>19999</th>\n      <td>4</td>\n      <td>0</td>\n      <td>0.529412</td>\n      <td>0.018519</td>\n    </tr>\n  </tbody>\n</table>\n<p>20000 rows × 4 columns</p>\n</div>"
          },
          "metadata": {}
        }
      ]
    },
    {
      "cell_type": "code",
      "execution_count": 76,
      "metadata": {},
      "outputs": [],
      "source": [
        "df = df.replace([np.inf, -np.inf], np.nan)"
      ]
    },
    {
      "cell_type": "code",
      "execution_count": 77,
      "metadata": {},
      "outputs": [
        {
          "output_type": "execute_result",
          "data": {
            "text/plain": [
              "343"
            ]
          },
          "metadata": {},
          "execution_count": 77
        }
      ],
      "source": [
        "df.isna().sum().sum()"
      ]
    },
    {
      "cell_type": "markdown",
      "metadata": {
        "id": "_-jCowvWLiXZ"
      },
      "source": [
        "Разделите выборку на обучающую и тестовую еще раз (потому что дополнительные признаки созданы для исходной выборки)."
      ]
    },
    {
      "cell_type": "code",
      "execution_count": 78,
      "metadata": {},
      "outputs": [
        {
          "output_type": "execute_result",
          "data": {
            "text/plain": [
              "   full_sq  life_sq  floor  max_floor  build_year  num_room  kitch_sq  \\\n",
              "0      1.0      1.0    1.0        1.0         1.0       1.0       1.0   \n",
              "1     64.0     64.0   16.0       17.0      2014.0       2.0       1.0   \n",
              "2     83.0     44.0    9.0       17.0      1985.0       3.0      10.0   \n",
              "3     71.0     49.0    2.0       17.0      2014.0       2.0       1.0   \n",
              "4     60.0     42.0    9.0        9.0      1970.0       3.0       6.0   \n",
              "\n",
              "         area_m  raion_popul  green_zone_part  ...  ecology_good  \\\n",
              "0  5.293465e+06      77878.0         0.023464  ...           0.0   \n",
              "1  6.677245e+07       9553.0         0.336177  ...           0.0   \n",
              "2  1.216448e+07      78507.0         0.297166  ...           1.0   \n",
              "3  4.708040e+06      38075.0         0.271702  ...           0.0   \n",
              "4  1.428699e+07     157010.0         0.389354  ...           1.0   \n",
              "\n",
              "   ecology_no data  ecology_poor  ecology_satisfactory  month_year_cnt  \\\n",
              "0              0.0           1.0                   0.0          1122.0   \n",
              "1              1.0           0.0                   0.0           327.0   \n",
              "2              0.0           0.0                   0.0           752.0   \n",
              "3              1.0           0.0                   0.0           262.0   \n",
              "4              0.0           0.0                   0.0           711.0   \n",
              "\n",
              "   week_year_cnt  month  weekday  perc_floor  perc_kitchen  \n",
              "0          112.0   12.0      4.0    1.000000      1.000000  \n",
              "1           68.0   10.0      3.0    0.941176      0.015625  \n",
              "2          192.0    2.0      2.0    0.529412      0.120482  \n",
              "3           69.0    7.0      3.0    0.117647      0.014085  \n",
              "4          214.0   10.0      2.0    1.000000      0.100000  \n",
              "\n",
              "[5 rows x 1071 columns]"
            ],
            "text/html": "<div>\n<style scoped>\n    .dataframe tbody tr th:only-of-type {\n        vertical-align: middle;\n    }\n\n    .dataframe tbody tr th {\n        vertical-align: top;\n    }\n\n    .dataframe thead th {\n        text-align: right;\n    }\n</style>\n<table border=\"1\" class=\"dataframe\">\n  <thead>\n    <tr style=\"text-align: right;\">\n      <th></th>\n      <th>full_sq</th>\n      <th>life_sq</th>\n      <th>floor</th>\n      <th>max_floor</th>\n      <th>build_year</th>\n      <th>num_room</th>\n      <th>kitch_sq</th>\n      <th>area_m</th>\n      <th>raion_popul</th>\n      <th>green_zone_part</th>\n      <th>...</th>\n      <th>ecology_good</th>\n      <th>ecology_no data</th>\n      <th>ecology_poor</th>\n      <th>ecology_satisfactory</th>\n      <th>month_year_cnt</th>\n      <th>week_year_cnt</th>\n      <th>month</th>\n      <th>weekday</th>\n      <th>perc_floor</th>\n      <th>perc_kitchen</th>\n    </tr>\n  </thead>\n  <tbody>\n    <tr>\n      <th>0</th>\n      <td>1.0</td>\n      <td>1.0</td>\n      <td>1.0</td>\n      <td>1.0</td>\n      <td>1.0</td>\n      <td>1.0</td>\n      <td>1.0</td>\n      <td>5.293465e+06</td>\n      <td>77878.0</td>\n      <td>0.023464</td>\n      <td>...</td>\n      <td>0.0</td>\n      <td>0.0</td>\n      <td>1.0</td>\n      <td>0.0</td>\n      <td>1122.0</td>\n      <td>112.0</td>\n      <td>12.0</td>\n      <td>4.0</td>\n      <td>1.000000</td>\n      <td>1.000000</td>\n    </tr>\n    <tr>\n      <th>1</th>\n      <td>64.0</td>\n      <td>64.0</td>\n      <td>16.0</td>\n      <td>17.0</td>\n      <td>2014.0</td>\n      <td>2.0</td>\n      <td>1.0</td>\n      <td>6.677245e+07</td>\n      <td>9553.0</td>\n      <td>0.336177</td>\n      <td>...</td>\n      <td>0.0</td>\n      <td>1.0</td>\n      <td>0.0</td>\n      <td>0.0</td>\n      <td>327.0</td>\n      <td>68.0</td>\n      <td>10.0</td>\n      <td>3.0</td>\n      <td>0.941176</td>\n      <td>0.015625</td>\n    </tr>\n    <tr>\n      <th>2</th>\n      <td>83.0</td>\n      <td>44.0</td>\n      <td>9.0</td>\n      <td>17.0</td>\n      <td>1985.0</td>\n      <td>3.0</td>\n      <td>10.0</td>\n      <td>1.216448e+07</td>\n      <td>78507.0</td>\n      <td>0.297166</td>\n      <td>...</td>\n      <td>1.0</td>\n      <td>0.0</td>\n      <td>0.0</td>\n      <td>0.0</td>\n      <td>752.0</td>\n      <td>192.0</td>\n      <td>2.0</td>\n      <td>2.0</td>\n      <td>0.529412</td>\n      <td>0.120482</td>\n    </tr>\n    <tr>\n      <th>3</th>\n      <td>71.0</td>\n      <td>49.0</td>\n      <td>2.0</td>\n      <td>17.0</td>\n      <td>2014.0</td>\n      <td>2.0</td>\n      <td>1.0</td>\n      <td>4.708040e+06</td>\n      <td>38075.0</td>\n      <td>0.271702</td>\n      <td>...</td>\n      <td>0.0</td>\n      <td>1.0</td>\n      <td>0.0</td>\n      <td>0.0</td>\n      <td>262.0</td>\n      <td>69.0</td>\n      <td>7.0</td>\n      <td>3.0</td>\n      <td>0.117647</td>\n      <td>0.014085</td>\n    </tr>\n    <tr>\n      <th>4</th>\n      <td>60.0</td>\n      <td>42.0</td>\n      <td>9.0</td>\n      <td>9.0</td>\n      <td>1970.0</td>\n      <td>3.0</td>\n      <td>6.0</td>\n      <td>1.428699e+07</td>\n      <td>157010.0</td>\n      <td>0.389354</td>\n      <td>...</td>\n      <td>1.0</td>\n      <td>0.0</td>\n      <td>0.0</td>\n      <td>0.0</td>\n      <td>711.0</td>\n      <td>214.0</td>\n      <td>10.0</td>\n      <td>2.0</td>\n      <td>1.000000</td>\n      <td>0.100000</td>\n    </tr>\n  </tbody>\n</table>\n<p>5 rows × 1071 columns</p>\n</div>"
          },
          "metadata": {},
          "execution_count": 78
        }
      ],
      "source": [
        "si = SimpleImputer(missing_values=np.nan, strategy='most_frequent')\n",
        "df = pd.DataFrame(data=si.fit_transform(df), columns=df.columns)\n",
        "df.head()"
      ]
    },
    {
      "cell_type": "code",
      "metadata": {
        "id": "0f-vO3LcLhdf"
      },
      "source": [
        "df_train = df.iloc[:int(df.shape[0] * 0.8), :]\n",
        "df_test = df.iloc[int(df.shape[0] * 0.8):, :]\n",
        "display(df.shape)\n",
        "display(df_train.shape)\n",
        "display(df_test.shape)\n",
        "y_train = df_train['price']\n",
        "X_train = df_train.drop(['price'], axis=1)\n",
        "y_test = df_test['price']\n",
        "X_test = df_test.drop(['price'], axis=1)"
      ],
      "execution_count": 79,
      "outputs": [
        {
          "output_type": "display_data",
          "data": {
            "text/plain": "(20000, 1071)"
          },
          "metadata": {}
        },
        {
          "output_type": "display_data",
          "data": {
            "text/plain": "(16000, 1071)"
          },
          "metadata": {}
        },
        {
          "output_type": "display_data",
          "data": {
            "text/plain": "(4000, 1071)"
          },
          "metadata": {}
        }
      ]
    },
    {
      "cell_type": "markdown",
      "metadata": {
        "id": "CPtzkpFEvBw9"
      },
      "source": [
        "### Model Selection (3 балла)\n",
        "\n",
        "Посмотрите, какого качества можно добиться если использовать разные модели:\n",
        "* `DecisionTreeRegressor` из `sklearn`\n",
        "* `RandomForestRegressor` из `sklearn`\n",
        "* `CatBoostRegressor`\n",
        "\n",
        "Также вы можете попробовать линейные модели, другие бустинги (`LigthGBM` и `XGBoost`).\n",
        "\n",
        "Почти все библиотеки поддерживают удобный способ подбора гиперпараметров: посмотрите как это делать в [sklearn](https://scikit-learn.org/stable/modules/generated/sklearn.model_selection.GridSearchCV.html) или в [catboost](https://catboost.ai/docs/concepts/python-reference_catboostregressor_grid_search.html).\n",
        "\n",
        "Проверяйте качество каждой модели на тестовой выборке и выберите наилучшую."
      ]
    },
    {
      "cell_type": "code",
      "metadata": {
        "id": "PZstXx6uNRfE"
      },
      "source": [
        "dtr = DecisionTreeRegressor()\n",
        "dtr.fit(X_train, y_train)"
      ],
      "execution_count": 80,
      "outputs": [
        {
          "output_type": "execute_result",
          "data": {
            "text/plain": [
              "DecisionTreeRegressor()"
            ]
          },
          "metadata": {},
          "execution_count": 80
        }
      ]
    },
    {
      "cell_type": "code",
      "execution_count": 81,
      "metadata": {},
      "outputs": [
        {
          "output_type": "display_data",
          "data": {
            "text/plain": "'Mean absolute error: '"
          },
          "metadata": {}
        },
        {
          "output_type": "display_data",
          "data": {
            "text/plain": "2013526.54075"
          },
          "metadata": {}
        },
        {
          "output_type": "display_data",
          "data": {
            "text/plain": "'R2 error'"
          },
          "metadata": {}
        },
        {
          "output_type": "display_data",
          "data": {
            "text/plain": "0.34179550054394026"
          },
          "metadata": {}
        }
      ],
      "source": [
        "y_pred = dtr.predict(X_test)\n",
        "display('Mean absolute error: ')\n",
        "display(mean_absolute_error(y_test, y_pred))\n",
        "display('R2 error')\n",
        "display(r2_score(y_test, y_pred))"
      ]
    },
    {
      "cell_type": "code",
      "execution_count": 82,
      "metadata": {},
      "outputs": [
        {
          "output_type": "execute_result",
          "data": {
            "text/plain": [
              "['__abstractmethods__',\n",
              " '__class__',\n",
              " '__delattr__',\n",
              " '__dict__',\n",
              " '__dir__',\n",
              " '__doc__',\n",
              " '__eq__',\n",
              " '__format__',\n",
              " '__ge__',\n",
              " '__getattribute__',\n",
              " '__getstate__',\n",
              " '__gt__',\n",
              " '__hash__',\n",
              " '__init__',\n",
              " '__init_subclass__',\n",
              " '__le__',\n",
              " '__lt__',\n",
              " '__module__',\n",
              " '__ne__',\n",
              " '__new__',\n",
              " '__reduce__',\n",
              " '__reduce_ex__',\n",
              " '__repr__',\n",
              " '__setattr__',\n",
              " '__setstate__',\n",
              " '__sizeof__',\n",
              " '__str__',\n",
              " '__subclasshook__',\n",
              " '__weakref__',\n",
              " '_abc_impl',\n",
              " '_check_n_features',\n",
              " '_compute_partial_dependence_recursion',\n",
              " '_estimator_type',\n",
              " '_get_param_names',\n",
              " '_get_tags',\n",
              " '_more_tags',\n",
              " '_prune_tree',\n",
              " '_repr_html_',\n",
              " '_repr_html_inner',\n",
              " '_repr_mimebundle_',\n",
              " '_validate_X_predict',\n",
              " '_validate_data',\n",
              " 'apply',\n",
              " 'cost_complexity_pruning_path',\n",
              " 'decision_path',\n",
              " 'feature_importances_',\n",
              " 'fit',\n",
              " 'get_depth',\n",
              " 'get_n_leaves',\n",
              " 'get_params',\n",
              " 'predict',\n",
              " 'score',\n",
              " 'set_params']"
            ]
          },
          "metadata": {},
          "execution_count": 82
        }
      ],
      "source": [
        "dir(DecisionTreeRegressor)"
      ]
    },
    {
      "source": [
        "** Получилось даже хуже (( Попробуем подобрать хорошие гиперпараметры **"
      ],
      "cell_type": "markdown",
      "metadata": {}
    },
    {
      "cell_type": "code",
      "execution_count": 83,
      "metadata": {},
      "outputs": [
        {
          "output_type": "display_data",
          "data": {
            "text/plain": "(20000, 1070)"
          },
          "metadata": {}
        },
        {
          "output_type": "display_data",
          "data": {
            "text/plain": "(20000,)"
          },
          "metadata": {}
        }
      ],
      "source": [
        "X = df.drop(['price'], axis=1)\n",
        "y = df['price']\n",
        "display(X.shape)\n",
        "display(y.shape)"
      ]
    },
    {
      "cell_type": "code",
      "execution_count": 84,
      "metadata": {},
      "outputs": [
        {
          "output_type": "display_data",
          "data": {
            "text/plain": "'Mean absolute error: '"
          },
          "metadata": {}
        },
        {
          "output_type": "display_data",
          "data": {
            "text/plain": "1813411.6252669888"
          },
          "metadata": {}
        },
        {
          "output_type": "display_data",
          "data": {
            "text/plain": "'R2 error'"
          },
          "metadata": {}
        },
        {
          "output_type": "display_data",
          "data": {
            "text/plain": "0.5372974705894802"
          },
          "metadata": {}
        }
      ],
      "source": [
        "dtr = DecisionTreeRegressor(min_samples_leaf = 10, max_depth = 60)\n",
        "dtr.fit(X_train, y_train)\n",
        "y_pred = dtr.predict(X_test)\n",
        "display('Mean absolute error: ')\n",
        "display(mean_absolute_error(y_test, y_pred))\n",
        "display('R2 error')\n",
        "display(r2_score(y_test, y_pred))"
      ]
    },
    {
      "source": [],
      "cell_type": "markdown",
      "metadata": {}
    },
    {
      "cell_type": "code",
      "execution_count": 85,
      "metadata": {},
      "outputs": [
        {
          "output_type": "display_data",
          "data": {
            "text/plain": "GridSearchCV(cv=5, estimator=DecisionTreeRegressor(), n_jobs=-1,\n             param_grid={'max_depth': [10, 17, 20, 23],\n                         'min_samples_leaf': [17, 20, 23, 25, 27]})"
          },
          "metadata": {}
        },
        {
          "output_type": "execute_result",
          "data": {
            "text/plain": [
              "{'max_depth': 10, 'min_samples_leaf': 27}"
            ]
          },
          "metadata": {},
          "execution_count": 85
        }
      ],
      "source": [
        "gscv = GridSearchCV(estimator=DecisionTreeRegressor(), param_grid={'min_samples_leaf': [17, 20, 23, 25, 27], 'max_depth': [10, 17, 20, 23]}, cv=5, n_jobs=-1)\n",
        "display(gscv)\n",
        "grid_result = gscv.fit(X, y)\n",
        "best_params = grid_result.best_params_\n",
        "best_params"
      ]
    },
    {
      "cell_type": "code",
      "execution_count": 86,
      "metadata": {},
      "outputs": [
        {
          "output_type": "display_data",
          "data": {
            "text/plain": "'Mean absolute error: '"
          },
          "metadata": {}
        },
        {
          "output_type": "display_data",
          "data": {
            "text/plain": "1722404.7106588813"
          },
          "metadata": {}
        },
        {
          "output_type": "display_data",
          "data": {
            "text/plain": "'R2 error'"
          },
          "metadata": {}
        },
        {
          "output_type": "display_data",
          "data": {
            "text/plain": "0.5774769520054333"
          },
          "metadata": {}
        },
        {
          "output_type": "stream",
          "name": "stdout",
          "text": [
            "CPU times: user 1.6 s, sys: 96.3 ms, total: 1.7 s\nWall time: 1.7 s\n"
          ]
        }
      ],
      "source": [
        "%%time\n",
        "dtr = DecisionTreeRegressor(min_samples_leaf = best_params['min_samples_leaf'], max_depth = best_params['max_depth'])\n",
        "dtr.fit(X_train, y_train)\n",
        "y_pred = dtr.predict(X_test)\n",
        "display('Mean absolute error: ')\n",
        "display(mean_absolute_error(y_test, y_pred))\n",
        "display('R2 error')\n",
        "display(r2_score(y_test, y_pred))"
      ]
    },
    {
      "source": [
        "** Получилось неплохо так улучшить результат **"
      ],
      "cell_type": "markdown",
      "metadata": {}
    },
    {
      "cell_type": "code",
      "execution_count": 87,
      "metadata": {},
      "outputs": [
        {
          "output_type": "display_data",
          "data": {
            "text/plain": "'Mean absolute error: '"
          },
          "metadata": {}
        },
        {
          "output_type": "display_data",
          "data": {
            "text/plain": "1475270.6878675001"
          },
          "metadata": {}
        },
        {
          "output_type": "display_data",
          "data": {
            "text/plain": "'R2 error'"
          },
          "metadata": {}
        },
        {
          "output_type": "display_data",
          "data": {
            "text/plain": "0.6833251790733077"
          },
          "metadata": {}
        }
      ],
      "source": [
        "# Посмотрим на не модифицированный random forest\n",
        "rfr = RandomForestRegressor(n_jobs=-1)\n",
        "rfr.fit(X_train, y_train)\n",
        "y_pred = rfr.predict(X_test)\n",
        "display('Mean absolute error: ')\n",
        "display(mean_absolute_error(y_test, y_pred))\n",
        "display('R2 error')\n",
        "display(r2_score(y_test, y_pred))"
      ]
    },
    {
      "source": [
        "** Даже не модифицированный случайный лес дает лучший результат, чем модифицированное дерево решений **"
      ],
      "cell_type": "markdown",
      "metadata": {}
    },
    {
      "cell_type": "code",
      "execution_count": 88,
      "metadata": {
        "tags": [
          "outputPrepend"
        ]
      },
      "outputs": [
        {
          "output_type": "stream",
          "name": "stdout",
          "text": [
            "0\ttotal: 10.6s\tremaining: 5.63s\n",
            "654:\tlearn: 1795871.1620656\ttotal: 10.7s\tremaining: 5.62s\n",
            "655:\tlearn: 1795569.1309674\ttotal: 10.7s\tremaining: 5.6s\n",
            "656:\tlearn: 1794577.3274826\ttotal: 10.7s\tremaining: 5.58s\n",
            "657:\tlearn: 1793456.7269938\ttotal: 10.7s\tremaining: 5.57s\n",
            "658:\tlearn: 1793162.7048532\ttotal: 10.7s\tremaining: 5.55s\n",
            "659:\tlearn: 1792445.3849217\ttotal: 10.7s\tremaining: 5.53s\n",
            "660:\tlearn: 1791581.7903672\ttotal: 10.8s\tremaining: 5.51s\n",
            "661:\tlearn: 1791331.3206786\ttotal: 10.8s\tremaining: 5.5s\n",
            "662:\tlearn: 1790376.5292774\ttotal: 10.8s\tremaining: 5.48s\n",
            "663:\tlearn: 1790189.2170468\ttotal: 10.8s\tremaining: 5.47s\n",
            "664:\tlearn: 1789628.0645965\ttotal: 10.8s\tremaining: 5.45s\n",
            "665:\tlearn: 1788792.9935163\ttotal: 10.8s\tremaining: 5.44s\n",
            "666:\tlearn: 1788431.8826231\ttotal: 10.9s\tremaining: 5.42s\n",
            "667:\tlearn: 1787404.5967827\ttotal: 10.9s\tremaining: 5.4s\n",
            "668:\tlearn: 1786961.6539961\ttotal: 10.9s\tremaining: 5.39s\n",
            "669:\tlearn: 1786877.2584552\ttotal: 10.9s\tremaining: 5.37s\n",
            "670:\tlearn: 1785868.9439535\ttotal: 10.9s\tremaining: 5.35s\n",
            "671:\tlearn: 1785049.0753523\ttotal: 10.9s\tremaining: 5.33s\n",
            "672:\tlearn: 1784418.3792947\ttotal: 10.9s\tremaining: 5.32s\n",
            "673:\tlearn: 1783750.7797645\ttotal: 11s\tremaining: 5.3s\n",
            "674:\tlearn: 1783178.7113275\ttotal: 11s\tremaining: 5.28s\n",
            "675:\tlearn: 1782649.1403593\ttotal: 11s\tremaining: 5.27s\n",
            "676:\tlearn: 1781653.6552528\ttotal: 11s\tremaining: 5.25s\n",
            "677:\tlearn: 1780672.9476394\ttotal: 11s\tremaining: 5.24s\n",
            "678:\tlearn: 1779742.7980189\ttotal: 11s\tremaining: 5.22s\n",
            "679:\tlearn: 1779428.9574395\ttotal: 11.1s\tremaining: 5.2s\n",
            "680:\tlearn: 1778403.3332721\ttotal: 11.1s\tremaining: 5.19s\n",
            "681:\tlearn: 1778035.0651526\ttotal: 11.1s\tremaining: 5.17s\n",
            "682:\tlearn: 1777220.2690542\ttotal: 11.1s\tremaining: 5.16s\n",
            "683:\tlearn: 1776978.6005585\ttotal: 11.1s\tremaining: 5.14s\n",
            "684:\tlearn: 1776315.3346615\ttotal: 11.1s\tremaining: 5.12s\n",
            "685:\tlearn: 1775813.0085881\ttotal: 11.2s\tremaining: 5.1s\n",
            "686:\tlearn: 1775083.5641653\ttotal: 11.2s\tremaining: 5.09s\n",
            "687:\tlearn: 1774421.2718017\ttotal: 11.2s\tremaining: 5.07s\n",
            "688:\tlearn: 1772942.3303582\ttotal: 11.2s\tremaining: 5.05s\n",
            "689:\tlearn: 1772291.2538877\ttotal: 11.2s\tremaining: 5.04s\n",
            "690:\tlearn: 1771383.7686467\ttotal: 11.2s\tremaining: 5.03s\n",
            "691:\tlearn: 1770743.6357059\ttotal: 11.3s\tremaining: 5.01s\n",
            "692:\tlearn: 1770006.4542653\ttotal: 11.3s\tremaining: 4.99s\n",
            "693:\tlearn: 1769550.7261225\ttotal: 11.3s\tremaining: 4.97s\n",
            "694:\tlearn: 1768867.6389989\ttotal: 11.3s\tremaining: 4.96s\n",
            "695:\tlearn: 1768531.5870646\ttotal: 11.3s\tremaining: 4.94s\n",
            "696:\tlearn: 1767556.8921937\ttotal: 11.3s\tremaining: 4.92s\n",
            "697:\tlearn: 1766688.7673598\ttotal: 11.3s\tremaining: 4.91s\n",
            "698:\tlearn: 1765645.2841237\ttotal: 11.4s\tremaining: 4.89s\n",
            "699:\tlearn: 1764565.1378839\ttotal: 11.4s\tremaining: 4.88s\n",
            "700:\tlearn: 1764018.6937236\ttotal: 11.4s\tremaining: 4.86s\n",
            "701:\tlearn: 1763437.1518704\ttotal: 11.4s\tremaining: 4.84s\n",
            "702:\tlearn: 1763075.0774593\ttotal: 11.4s\tremaining: 4.83s\n",
            "703:\tlearn: 1762942.4606759\ttotal: 11.4s\tremaining: 4.81s\n",
            "704:\tlearn: 1762217.1918745\ttotal: 11.5s\tremaining: 4.79s\n",
            "705:\tlearn: 1761467.7998150\ttotal: 11.5s\tremaining: 4.78s\n",
            "706:\tlearn: 1760430.4112150\ttotal: 11.5s\tremaining: 4.76s\n",
            "707:\tlearn: 1760110.0556829\ttotal: 11.5s\tremaining: 4.75s\n",
            "708:\tlearn: 1759497.4272966\ttotal: 11.5s\tremaining: 4.73s\n",
            "709:\tlearn: 1758955.2420892\ttotal: 11.5s\tremaining: 4.71s\n",
            "710:\tlearn: 1758760.6331365\ttotal: 11.6s\tremaining: 4.7s\n",
            "711:\tlearn: 1758147.8872651\ttotal: 11.6s\tremaining: 4.68s\n",
            "712:\tlearn: 1757531.8853861\ttotal: 11.6s\tremaining: 4.66s\n",
            "713:\tlearn: 1757269.9438325\ttotal: 11.6s\tremaining: 4.65s\n",
            "714:\tlearn: 1756916.4849149\ttotal: 11.6s\tremaining: 4.63s\n",
            "715:\tlearn: 1755862.0354616\ttotal: 11.6s\tremaining: 4.61s\n",
            "716:\tlearn: 1754862.0638290\ttotal: 11.7s\tremaining: 4.6s\n",
            "717:\tlearn: 1753779.7931719\ttotal: 11.7s\tremaining: 4.58s\n",
            "718:\tlearn: 1752897.8440116\ttotal: 11.7s\tremaining: 4.57s\n",
            "719:\tlearn: 1752531.8881826\ttotal: 11.7s\tremaining: 4.55s\n",
            "720:\tlearn: 1752286.3532744\ttotal: 11.7s\tremaining: 4.53s\n",
            "721:\tlearn: 1751865.0310503\ttotal: 11.7s\tremaining: 4.52s\n",
            "722:\tlearn: 1751016.8666146\ttotal: 11.7s\tremaining: 4.5s\n",
            "723:\tlearn: 1750647.1987222\ttotal: 11.8s\tremaining: 4.48s\n",
            "724:\tlearn: 1750034.6897121\ttotal: 11.8s\tremaining: 4.47s\n",
            "725:\tlearn: 1749077.6521736\ttotal: 11.8s\tremaining: 4.45s\n",
            "726:\tlearn: 1748488.3297402\ttotal: 11.8s\tremaining: 4.43s\n",
            "727:\tlearn: 1748265.2930684\ttotal: 11.8s\tremaining: 4.42s\n",
            "728:\tlearn: 1747541.7993756\ttotal: 11.8s\tremaining: 4.4s\n",
            "729:\tlearn: 1747124.3453319\ttotal: 11.9s\tremaining: 4.39s\n",
            "730:\tlearn: 1747028.8408916\ttotal: 11.9s\tremaining: 4.37s\n",
            "731:\tlearn: 1746294.8638649\ttotal: 11.9s\tremaining: 4.35s\n",
            "732:\tlearn: 1746242.2182454\ttotal: 11.9s\tremaining: 4.34s\n",
            "733:\tlearn: 1745589.7916735\ttotal: 11.9s\tremaining: 4.33s\n",
            "734:\tlearn: 1745069.4829277\ttotal: 12s\tremaining: 4.31s\n",
            "735:\tlearn: 1744316.9087076\ttotal: 12s\tremaining: 4.29s\n",
            "736:\tlearn: 1743460.2939286\ttotal: 12s\tremaining: 4.28s\n",
            "737:\tlearn: 1742680.5934373\ttotal: 12s\tremaining: 4.26s\n",
            "738:\tlearn: 1741904.0004717\ttotal: 12s\tremaining: 4.25s\n",
            "739:\tlearn: 1741209.9843209\ttotal: 12.1s\tremaining: 4.24s\n",
            "740:\tlearn: 1740678.4992615\ttotal: 12.1s\tremaining: 4.23s\n",
            "741:\tlearn: 1740473.1704537\ttotal: 12.1s\tremaining: 4.21s\n",
            "742:\tlearn: 1739942.9201555\ttotal: 12.1s\tremaining: 4.2s\n",
            "743:\tlearn: 1738926.3059962\ttotal: 12.2s\tremaining: 4.18s\n",
            "744:\tlearn: 1738156.5831148\ttotal: 12.2s\tremaining: 4.17s\n",
            "745:\tlearn: 1737900.8782818\ttotal: 12.2s\tremaining: 4.15s\n",
            "746:\tlearn: 1737453.4442968\ttotal: 12.2s\tremaining: 4.13s\n",
            "747:\tlearn: 1736883.4969306\ttotal: 12.2s\tremaining: 4.12s\n",
            "748:\tlearn: 1736547.1941666\ttotal: 12.2s\tremaining: 4.1s\n",
            "749:\tlearn: 1736443.3144022\ttotal: 12.3s\tremaining: 4.09s\n",
            "750:\tlearn: 1735635.2331680\ttotal: 12.3s\tremaining: 4.07s\n",
            "751:\tlearn: 1735477.8678191\ttotal: 12.3s\tremaining: 4.06s\n",
            "752:\tlearn: 1735203.6405182\ttotal: 12.3s\tremaining: 4.04s\n",
            "753:\tlearn: 1734602.7202837\ttotal: 12.3s\tremaining: 4.03s\n",
            "754:\tlearn: 1734303.5276862\ttotal: 12.4s\tremaining: 4.01s\n",
            "755:\tlearn: 1733596.9853669\ttotal: 12.4s\tremaining: 3.99s\n",
            "756:\tlearn: 1733040.6123554\ttotal: 12.4s\tremaining: 3.98s\n",
            "757:\tlearn: 1732387.5448044\ttotal: 12.4s\tremaining: 3.96s\n",
            "758:\tlearn: 1731399.8842878\ttotal: 12.4s\tremaining: 3.94s\n",
            "759:\tlearn: 1730681.5640709\ttotal: 12.4s\tremaining: 3.93s\n",
            "760:\tlearn: 1730224.3574626\ttotal: 12.5s\tremaining: 3.92s\n",
            "761:\tlearn: 1729201.1780279\ttotal: 12.5s\tremaining: 3.9s\n",
            "762:\tlearn: 1728707.6696381\ttotal: 12.5s\tremaining: 3.88s\n",
            "763:\tlearn: 1728198.5472706\ttotal: 12.5s\tremaining: 3.87s\n",
            "764:\tlearn: 1727759.5505925\ttotal: 12.5s\tremaining: 3.85s\n",
            "765:\tlearn: 1727277.1007682\ttotal: 12.6s\tremaining: 3.84s\n",
            "766:\tlearn: 1727243.3841883\ttotal: 12.6s\tremaining: 3.82s\n",
            "767:\tlearn: 1726665.7504559\ttotal: 12.6s\tremaining: 3.81s\n",
            "768:\tlearn: 1726499.1212765\ttotal: 12.6s\tremaining: 3.79s\n",
            "769:\tlearn: 1726032.0039763\ttotal: 12.6s\tremaining: 3.78s\n",
            "770:\tlearn: 1725552.2624322\ttotal: 12.7s\tremaining: 3.76s\n",
            "771:\tlearn: 1724916.8284478\ttotal: 12.7s\tremaining: 3.75s\n",
            "772:\tlearn: 1723996.4041233\ttotal: 12.7s\tremaining: 3.73s\n",
            "773:\tlearn: 1723801.4604557\ttotal: 12.7s\tremaining: 3.71s\n",
            "774:\tlearn: 1723506.2189637\ttotal: 12.7s\tremaining: 3.7s\n",
            "775:\tlearn: 1722983.9474761\ttotal: 12.8s\tremaining: 3.68s\n",
            "776:\tlearn: 1722237.6733345\ttotal: 12.8s\tremaining: 3.67s\n",
            "777:\tlearn: 1721880.0981935\ttotal: 12.8s\tremaining: 3.65s\n",
            "778:\tlearn: 1721379.9165757\ttotal: 12.8s\tremaining: 3.63s\n",
            "779:\tlearn: 1720758.7454637\ttotal: 12.8s\tremaining: 3.62s\n",
            "780:\tlearn: 1720361.3041475\ttotal: 12.8s\tremaining: 3.6s\n",
            "781:\tlearn: 1720019.6695091\ttotal: 12.9s\tremaining: 3.59s\n",
            "782:\tlearn: 1719495.6804754\ttotal: 12.9s\tremaining: 3.57s\n",
            "783:\tlearn: 1719035.7507085\ttotal: 12.9s\tremaining: 3.56s\n",
            "784:\tlearn: 1718238.7524066\ttotal: 12.9s\tremaining: 3.54s\n",
            "785:\tlearn: 1717782.4952328\ttotal: 12.9s\tremaining: 3.52s\n",
            "786:\tlearn: 1717161.1447408\ttotal: 13s\tremaining: 3.51s\n",
            "787:\tlearn: 1716794.5602752\ttotal: 13s\tremaining: 3.49s\n",
            "788:\tlearn: 1716473.6473798\ttotal: 13s\tremaining: 3.48s\n",
            "789:\tlearn: 1715864.6189366\ttotal: 13s\tremaining: 3.46s\n",
            "790:\tlearn: 1715823.1032703\ttotal: 13s\tremaining: 3.45s\n",
            "791:\tlearn: 1715168.6443715\ttotal: 13.1s\tremaining: 3.43s\n",
            "792:\tlearn: 1715021.8774209\ttotal: 13.1s\tremaining: 3.42s\n",
            "793:\tlearn: 1714700.0894827\ttotal: 13.1s\tremaining: 3.4s\n",
            "794:\tlearn: 1714308.8081669\ttotal: 13.1s\tremaining: 3.38s\n",
            "795:\tlearn: 1713786.7626242\ttotal: 13.1s\tremaining: 3.37s\n",
            "796:\tlearn: 1713188.6144528\ttotal: 13.2s\tremaining: 3.35s\n",
            "797:\tlearn: 1712722.9272333\ttotal: 13.2s\tremaining: 3.34s\n",
            "798:\tlearn: 1712195.3880443\ttotal: 13.2s\tremaining: 3.32s\n",
            "799:\tlearn: 1711443.9672767\ttotal: 13.2s\tremaining: 3.3s\n",
            "800:\tlearn: 1710694.7513653\ttotal: 13.2s\tremaining: 3.29s\n",
            "801:\tlearn: 1710316.3386615\ttotal: 13.3s\tremaining: 3.27s\n",
            "802:\tlearn: 1709778.3742691\ttotal: 13.3s\tremaining: 3.26s\n",
            "803:\tlearn: 1709649.1925612\ttotal: 13.3s\tremaining: 3.24s\n",
            "804:\tlearn: 1709319.9391227\ttotal: 13.3s\tremaining: 3.23s\n",
            "805:\tlearn: 1708974.0161717\ttotal: 13.3s\tremaining: 3.21s\n",
            "806:\tlearn: 1708254.2074004\ttotal: 13.4s\tremaining: 3.19s\n",
            "807:\tlearn: 1707401.9224261\ttotal: 13.4s\tremaining: 3.18s\n",
            "808:\tlearn: 1706682.2328775\ttotal: 13.4s\tremaining: 3.16s\n",
            "809:\tlearn: 1706173.4882331\ttotal: 13.4s\tremaining: 3.15s\n",
            "810:\tlearn: 1705645.0946376\ttotal: 13.4s\tremaining: 3.13s\n",
            "811:\tlearn: 1705339.9538185\ttotal: 13.5s\tremaining: 3.11s\n",
            "812:\tlearn: 1704264.3326699\ttotal: 13.5s\tremaining: 3.1s\n",
            "813:\tlearn: 1704000.2337316\ttotal: 13.5s\tremaining: 3.08s\n",
            "814:\tlearn: 1703076.3846501\ttotal: 13.5s\tremaining: 3.07s\n",
            "815:\tlearn: 1702620.5297567\ttotal: 13.5s\tremaining: 3.05s\n",
            "816:\tlearn: 1702423.4162030\ttotal: 13.6s\tremaining: 3.04s\n",
            "817:\tlearn: 1701800.5134361\ttotal: 13.6s\tremaining: 3.02s\n",
            "818:\tlearn: 1701002.6857324\ttotal: 13.6s\tremaining: 3s\n",
            "819:\tlearn: 1700473.6594783\ttotal: 13.6s\tremaining: 2.99s\n",
            "820:\tlearn: 1700271.9623202\ttotal: 13.6s\tremaining: 2.97s\n",
            "821:\tlearn: 1699621.7594751\ttotal: 13.6s\tremaining: 2.96s\n",
            "822:\tlearn: 1699044.8097017\ttotal: 13.7s\tremaining: 2.94s\n",
            "823:\tlearn: 1698680.0428556\ttotal: 13.7s\tremaining: 2.92s\n",
            "824:\tlearn: 1697892.8122933\ttotal: 13.7s\tremaining: 2.9s\n",
            "825:\tlearn: 1697308.3866088\ttotal: 13.7s\tremaining: 2.89s\n",
            "826:\tlearn: 1697098.9938866\ttotal: 13.7s\tremaining: 2.87s\n",
            "827:\tlearn: 1696710.4464533\ttotal: 13.8s\tremaining: 2.86s\n",
            "828:\tlearn: 1695847.0570759\ttotal: 13.8s\tremaining: 2.84s\n",
            "829:\tlearn: 1695740.5649716\ttotal: 13.8s\tremaining: 2.83s\n",
            "830:\tlearn: 1695215.9782449\ttotal: 13.8s\tremaining: 2.81s\n",
            "831:\tlearn: 1694418.1279004\ttotal: 13.8s\tremaining: 2.79s\n",
            "832:\tlearn: 1693534.0931908\ttotal: 13.9s\tremaining: 2.78s\n",
            "833:\tlearn: 1692941.2970636\ttotal: 13.9s\tremaining: 2.76s\n",
            "834:\tlearn: 1692173.9020382\ttotal: 13.9s\tremaining: 2.75s\n",
            "835:\tlearn: 1691305.9902866\ttotal: 13.9s\tremaining: 2.73s\n",
            "836:\tlearn: 1690551.9269071\ttotal: 13.9s\tremaining: 2.71s\n",
            "837:\tlearn: 1690158.9240443\ttotal: 14s\tremaining: 2.7s\n",
            "838:\tlearn: 1690022.4065787\ttotal: 14s\tremaining: 2.68s\n",
            "839:\tlearn: 1689380.1275082\ttotal: 14s\tremaining: 2.67s\n",
            "840:\tlearn: 1688879.8258416\ttotal: 14s\tremaining: 2.65s\n",
            "841:\tlearn: 1688352.2675472\ttotal: 14s\tremaining: 2.63s\n",
            "842:\tlearn: 1687899.8637458\ttotal: 14s\tremaining: 2.62s\n",
            "843:\tlearn: 1687692.5756472\ttotal: 14.1s\tremaining: 2.6s\n",
            "844:\tlearn: 1687653.5229701\ttotal: 14.1s\tremaining: 2.58s\n",
            "845:\tlearn: 1687197.1416057\ttotal: 14.1s\tremaining: 2.56s\n",
            "846:\tlearn: 1686452.8147897\ttotal: 14.1s\tremaining: 2.55s\n",
            "847:\tlearn: 1686123.5356007\ttotal: 14.1s\tremaining: 2.53s\n",
            "848:\tlearn: 1685623.7479503\ttotal: 14.1s\tremaining: 2.52s\n",
            "849:\tlearn: 1684994.1262400\ttotal: 14.2s\tremaining: 2.5s\n",
            "850:\tlearn: 1684593.8235849\ttotal: 14.2s\tremaining: 2.48s\n",
            "851:\tlearn: 1684447.7189426\ttotal: 14.2s\tremaining: 2.47s\n",
            "852:\tlearn: 1684416.2399331\ttotal: 14.2s\tremaining: 2.45s\n",
            "853:\tlearn: 1683834.6560367\ttotal: 14.2s\tremaining: 2.43s\n",
            "854:\tlearn: 1683428.8179156\ttotal: 14.2s\tremaining: 2.42s\n",
            "855:\tlearn: 1683109.5410687\ttotal: 14.3s\tremaining: 2.4s\n",
            "856:\tlearn: 1682609.2522479\ttotal: 14.3s\tremaining: 2.38s\n",
            "857:\tlearn: 1682021.1447687\ttotal: 14.3s\tremaining: 2.36s\n",
            "858:\tlearn: 1681271.7211273\ttotal: 14.3s\tremaining: 2.35s\n",
            "859:\tlearn: 1681238.5829732\ttotal: 14.3s\tremaining: 2.33s\n",
            "860:\tlearn: 1680436.4544969\ttotal: 14.3s\tremaining: 2.31s\n",
            "861:\tlearn: 1680309.0372992\ttotal: 14.4s\tremaining: 2.3s\n",
            "862:\tlearn: 1679547.3413960\ttotal: 14.4s\tremaining: 2.28s\n",
            "863:\tlearn: 1678820.9204159\ttotal: 14.4s\tremaining: 2.26s\n",
            "864:\tlearn: 1678558.7597914\ttotal: 14.4s\tremaining: 2.25s\n",
            "865:\tlearn: 1678089.8397597\ttotal: 14.4s\tremaining: 2.23s\n",
            "866:\tlearn: 1677540.8492343\ttotal: 14.4s\tremaining: 2.21s\n",
            "867:\tlearn: 1677073.0942684\ttotal: 14.4s\tremaining: 2.2s\n",
            "868:\tlearn: 1676632.5681661\ttotal: 14.5s\tremaining: 2.18s\n",
            "869:\tlearn: 1675973.5898871\ttotal: 14.5s\tremaining: 2.16s\n",
            "870:\tlearn: 1675504.0974164\ttotal: 14.5s\tremaining: 2.15s\n",
            "871:\tlearn: 1675114.5112197\ttotal: 14.5s\tremaining: 2.13s\n",
            "872:\tlearn: 1674517.5535174\ttotal: 14.5s\tremaining: 2.11s\n",
            "873:\tlearn: 1674105.2593648\ttotal: 14.5s\tremaining: 2.1s\n",
            "874:\tlearn: 1673320.0530096\ttotal: 14.6s\tremaining: 2.08s\n",
            "875:\tlearn: 1672932.7027488\ttotal: 14.6s\tremaining: 2.06s\n",
            "876:\tlearn: 1672373.2671424\ttotal: 14.6s\tremaining: 2.05s\n",
            "877:\tlearn: 1671953.5622542\ttotal: 14.6s\tremaining: 2.03s\n",
            "878:\tlearn: 1671481.6667202\ttotal: 14.6s\tremaining: 2.02s\n",
            "879:\tlearn: 1670825.9316376\ttotal: 14.7s\tremaining: 2s\n",
            "880:\tlearn: 1670170.0339216\ttotal: 14.7s\tremaining: 1.98s\n",
            "881:\tlearn: 1669789.2771311\ttotal: 14.7s\tremaining: 1.97s\n",
            "882:\tlearn: 1669352.4545655\ttotal: 14.7s\tremaining: 1.95s\n",
            "883:\tlearn: 1668806.3807487\ttotal: 14.7s\tremaining: 1.93s\n",
            "884:\tlearn: 1668411.7348450\ttotal: 14.8s\tremaining: 1.92s\n",
            "885:\tlearn: 1667855.7220982\ttotal: 14.8s\tremaining: 1.9s\n",
            "886:\tlearn: 1667152.1148841\ttotal: 14.8s\tremaining: 1.89s\n",
            "887:\tlearn: 1666960.5014719\ttotal: 14.8s\tremaining: 1.87s\n",
            "888:\tlearn: 1666917.1523942\ttotal: 14.8s\tremaining: 1.85s\n",
            "889:\tlearn: 1666126.6848942\ttotal: 14.9s\tremaining: 1.84s\n",
            "890:\tlearn: 1665415.5938748\ttotal: 14.9s\tremaining: 1.82s\n",
            "891:\tlearn: 1664983.0905951\ttotal: 14.9s\tremaining: 1.8s\n",
            "892:\tlearn: 1664587.6047666\ttotal: 14.9s\tremaining: 1.79s\n",
            "893:\tlearn: 1664215.6816166\ttotal: 14.9s\tremaining: 1.77s\n",
            "894:\tlearn: 1663390.9907596\ttotal: 15s\tremaining: 1.75s\n",
            "895:\tlearn: 1662734.9536460\ttotal: 15s\tremaining: 1.74s\n",
            "896:\tlearn: 1662257.5267296\ttotal: 15s\tremaining: 1.72s\n",
            "897:\tlearn: 1661812.9947783\ttotal: 15s\tremaining: 1.71s\n",
            "898:\tlearn: 1660899.5631091\ttotal: 15s\tremaining: 1.69s\n",
            "899:\tlearn: 1660771.3916708\ttotal: 15s\tremaining: 1.67s\n",
            "900:\tlearn: 1660195.2100990\ttotal: 15.1s\tremaining: 1.66s\n",
            "901:\tlearn: 1659269.2772972\ttotal: 15.1s\tremaining: 1.64s\n",
            "902:\tlearn: 1658445.7413424\ttotal: 15.1s\tremaining: 1.62s\n",
            "903:\tlearn: 1657434.7798497\ttotal: 15.1s\tremaining: 1.6s\n",
            "904:\tlearn: 1656833.1678130\ttotal: 15.1s\tremaining: 1.59s\n",
            "905:\tlearn: 1656143.1632744\ttotal: 15.2s\tremaining: 1.57s\n",
            "906:\tlearn: 1655527.4725739\ttotal: 15.2s\tremaining: 1.55s\n",
            "907:\tlearn: 1655104.6524530\ttotal: 15.2s\tremaining: 1.54s\n",
            "908:\tlearn: 1654813.1125877\ttotal: 15.2s\tremaining: 1.52s\n",
            "909:\tlearn: 1654320.1417622\ttotal: 15.2s\tremaining: 1.51s\n",
            "910:\tlearn: 1653934.0276289\ttotal: 15.2s\tremaining: 1.49s\n",
            "911:\tlearn: 1653445.9778163\ttotal: 15.3s\tremaining: 1.47s\n",
            "912:\tlearn: 1653299.9257946\ttotal: 15.3s\tremaining: 1.46s\n",
            "913:\tlearn: 1652740.9832859\ttotal: 15.3s\tremaining: 1.44s\n",
            "914:\tlearn: 1652325.5369924\ttotal: 15.3s\tremaining: 1.42s\n",
            "915:\tlearn: 1651987.3349051\ttotal: 15.3s\tremaining: 1.41s\n",
            "916:\tlearn: 1651413.8048028\ttotal: 15.3s\tremaining: 1.39s\n",
            "917:\tlearn: 1650839.6179631\ttotal: 15.4s\tremaining: 1.37s\n",
            "918:\tlearn: 1650232.6208884\ttotal: 15.4s\tremaining: 1.36s\n",
            "919:\tlearn: 1649878.0031201\ttotal: 15.4s\tremaining: 1.34s\n",
            "920:\tlearn: 1649206.5989670\ttotal: 15.4s\tremaining: 1.32s\n",
            "921:\tlearn: 1648623.2292104\ttotal: 15.4s\tremaining: 1.31s\n",
            "922:\tlearn: 1648072.8436135\ttotal: 15.5s\tremaining: 1.29s\n",
            "923:\tlearn: 1647745.8067331\ttotal: 15.5s\tremaining: 1.27s\n",
            "924:\tlearn: 1647061.0447973\ttotal: 15.5s\tremaining: 1.26s\n",
            "925:\tlearn: 1646824.4203480\ttotal: 15.5s\tremaining: 1.24s\n",
            "926:\tlearn: 1646161.3429400\ttotal: 15.5s\tremaining: 1.22s\n",
            "927:\tlearn: 1645591.7138667\ttotal: 15.6s\tremaining: 1.21s\n",
            "928:\tlearn: 1644902.6263933\ttotal: 15.6s\tremaining: 1.19s\n",
            "929:\tlearn: 1644420.6935770\ttotal: 15.6s\tremaining: 1.17s\n",
            "930:\tlearn: 1643707.5575192\ttotal: 15.6s\tremaining: 1.16s\n",
            "931:\tlearn: 1643185.6974417\ttotal: 15.6s\tremaining: 1.14s\n",
            "932:\tlearn: 1642939.5507476\ttotal: 15.6s\tremaining: 1.12s\n",
            "933:\tlearn: 1642329.0301543\ttotal: 15.7s\tremaining: 1.11s\n",
            "934:\tlearn: 1641902.3990066\ttotal: 15.7s\tremaining: 1.09s\n",
            "935:\tlearn: 1641164.1197502\ttotal: 15.7s\tremaining: 1.07s\n",
            "936:\tlearn: 1640676.9757151\ttotal: 15.7s\tremaining: 1.06s\n",
            "937:\tlearn: 1640104.5494502\ttotal: 15.7s\tremaining: 1.04s\n",
            "938:\tlearn: 1639386.7815021\ttotal: 15.7s\tremaining: 1.02s\n",
            "939:\tlearn: 1639155.8489067\ttotal: 15.8s\tremaining: 1.01s\n",
            "940:\tlearn: 1638664.2139477\ttotal: 15.8s\tremaining: 990ms\n",
            "941:\tlearn: 1638232.0593219\ttotal: 15.8s\tremaining: 973ms\n",
            "942:\tlearn: 1637381.3012231\ttotal: 15.8s\tremaining: 957ms\n",
            "943:\tlearn: 1636573.4532168\ttotal: 15.8s\tremaining: 940ms\n",
            "944:\tlearn: 1635767.9667453\ttotal: 15.9s\tremaining: 923ms\n",
            "945:\tlearn: 1634872.8848321\ttotal: 15.9s\tremaining: 907ms\n",
            "946:\tlearn: 1634133.6708875\ttotal: 15.9s\tremaining: 890ms\n",
            "947:\tlearn: 1633737.4448622\ttotal: 15.9s\tremaining: 873ms\n",
            "948:\tlearn: 1633395.5652508\ttotal: 15.9s\tremaining: 857ms\n",
            "949:\tlearn: 1633087.3478044\ttotal: 16s\tremaining: 840ms\n",
            "950:\tlearn: 1632601.9992218\ttotal: 16s\tremaining: 823ms\n",
            "951:\tlearn: 1632257.5981307\ttotal: 16s\tremaining: 806ms\n",
            "952:\tlearn: 1631879.6058017\ttotal: 16s\tremaining: 789ms\n",
            "953:\tlearn: 1631323.0643728\ttotal: 16s\tremaining: 773ms\n",
            "954:\tlearn: 1631016.5911604\ttotal: 16s\tremaining: 756ms\n",
            "955:\tlearn: 1630127.3789839\ttotal: 16.1s\tremaining: 740ms\n",
            "956:\tlearn: 1629814.3998989\ttotal: 16.1s\tremaining: 723ms\n",
            "957:\tlearn: 1629458.4906787\ttotal: 16.1s\tremaining: 706ms\n",
            "958:\tlearn: 1628563.8807763\ttotal: 16.1s\tremaining: 689ms\n",
            "959:\tlearn: 1628215.7304827\ttotal: 16.1s\tremaining: 672ms\n",
            "960:\tlearn: 1628092.1504846\ttotal: 16.2s\tremaining: 655ms\n",
            "961:\tlearn: 1627684.1992095\ttotal: 16.2s\tremaining: 639ms\n",
            "962:\tlearn: 1627061.9442841\ttotal: 16.2s\tremaining: 622ms\n",
            "963:\tlearn: 1626881.8555493\ttotal: 16.2s\tremaining: 605ms\n",
            "964:\tlearn: 1626671.5912509\ttotal: 16.2s\tremaining: 588ms\n",
            "965:\tlearn: 1625946.0501298\ttotal: 16.2s\tremaining: 571ms\n",
            "966:\tlearn: 1625297.5387719\ttotal: 16.2s\tremaining: 554ms\n",
            "967:\tlearn: 1624585.4337605\ttotal: 16.3s\tremaining: 538ms\n",
            "968:\tlearn: 1624184.8747034\ttotal: 16.3s\tremaining: 521ms\n",
            "969:\tlearn: 1623614.6559817\ttotal: 16.3s\tremaining: 504ms\n",
            "970:\tlearn: 1623152.8828270\ttotal: 16.3s\tremaining: 487ms\n",
            "971:\tlearn: 1622803.1433288\ttotal: 16.3s\tremaining: 471ms\n",
            "972:\tlearn: 1622293.7956374\ttotal: 16.4s\tremaining: 454ms\n",
            "973:\tlearn: 1622177.6970346\ttotal: 16.4s\tremaining: 437ms\n",
            "974:\tlearn: 1622042.3174700\ttotal: 16.4s\tremaining: 420ms\n",
            "975:\tlearn: 1621257.8000675\ttotal: 16.4s\tremaining: 404ms\n",
            "976:\tlearn: 1620769.4107781\ttotal: 16.4s\tremaining: 387ms\n",
            "977:\tlearn: 1620097.1943864\ttotal: 16.5s\tremaining: 370ms\n",
            "978:\tlearn: 1619900.1024771\ttotal: 16.5s\tremaining: 353ms\n",
            "979:\tlearn: 1619213.4080910\ttotal: 16.5s\tremaining: 337ms\n",
            "980:\tlearn: 1618613.6740403\ttotal: 16.5s\tremaining: 320ms\n",
            "981:\tlearn: 1618264.7317016\ttotal: 16.5s\tremaining: 303ms\n",
            "982:\tlearn: 1617470.4935265\ttotal: 16.6s\tremaining: 286ms\n",
            "983:\tlearn: 1616916.2300086\ttotal: 16.6s\tremaining: 269ms\n",
            "984:\tlearn: 1616401.3885049\ttotal: 16.6s\tremaining: 253ms\n",
            "985:\tlearn: 1615809.8545329\ttotal: 16.6s\tremaining: 236ms\n",
            "986:\tlearn: 1615295.6600135\ttotal: 16.6s\tremaining: 219ms\n",
            "987:\tlearn: 1614719.2193985\ttotal: 16.6s\tremaining: 202ms\n",
            "988:\tlearn: 1613945.9542541\ttotal: 16.7s\tremaining: 185ms\n",
            "989:\tlearn: 1613584.6138225\ttotal: 16.7s\tremaining: 169ms\n",
            "990:\tlearn: 1613023.5125598\ttotal: 16.7s\tremaining: 152ms\n",
            "991:\tlearn: 1612553.0600437\ttotal: 16.7s\tremaining: 135ms\n",
            "992:\tlearn: 1611812.4574040\ttotal: 16.7s\tremaining: 118ms\n",
            "993:\tlearn: 1611165.8152640\ttotal: 16.8s\tremaining: 101ms\n",
            "994:\tlearn: 1610621.8743693\ttotal: 16.8s\tremaining: 84.3ms\n",
            "995:\tlearn: 1610461.5610608\ttotal: 16.8s\tremaining: 67.5ms\n",
            "996:\tlearn: 1610113.5295430\ttotal: 16.8s\tremaining: 50.6ms\n",
            "997:\tlearn: 1609424.9259067\ttotal: 16.8s\tremaining: 33.8ms\n",
            "998:\tlearn: 1608884.2474189\ttotal: 16.9s\tremaining: 16.9ms\n",
            "999:\tlearn: 1608462.7966902\ttotal: 16.9s\tremaining: 0us\n"
          ]
        },
        {
          "output_type": "display_data",
          "data": {
            "text/plain": "'Mean absolute error: '"
          },
          "metadata": {}
        },
        {
          "output_type": "display_data",
          "data": {
            "text/plain": "1416262.8764903017"
          },
          "metadata": {}
        },
        {
          "output_type": "display_data",
          "data": {
            "text/plain": "'R2 error'"
          },
          "metadata": {}
        },
        {
          "output_type": "display_data",
          "data": {
            "text/plain": "0.7201532930786071"
          },
          "metadata": {}
        }
      ],
      "source": [
        "# Опробуем catboost\n",
        "from catboost import CatBoostRegressor\n",
        "cbr = CatBoostRegressor()\n",
        "cbr.fit(X_train, y_train)\n",
        "y_pred = cbr.predict(X_test)\n",
        "display('Mean absolute error: ')\n",
        "display(mean_absolute_error(y_test, y_pred))\n",
        "display('R2 error')\n",
        "display(r2_score(y_test, y_pred))\n"
      ]
    },
    {
      "source": [
        "** Ну catboost явно показал поразительные результаты **"
      ],
      "cell_type": "markdown",
      "metadata": {}
    },
    {
      "cell_type": "markdown",
      "metadata": {
        "id": "JxQnozbtvD6x"
      },
      "source": [
        "### Ensemble v.1 (3 балла)\n",
        "\n",
        "Ансамбли иногда оказываются лучше чем одна большая модель.\n",
        "\n",
        "В колонке `product_type` содержится информация о том, каким является объявление: `Investment` (продажа квартиры как инвестиции) или `OwnerOccupier` (продажа квартиры для жилья). Логично предположить, что если сделать по модели на каждый из этих типов, то качество будет выше.\n",
        "\n",
        "Обучите свои лучшие модели на отдельно на `Investment` и `OwnerOccupier` (т.е. у вас будет `model_invest`, обученная на `(invest_train_X, invest_train_Y)` и `model_owner`, обученная на `(owner_train_X, owner_train_Y)`) и проверьте качество на отложенной выборке (т.е. на исходном `test_split`)."
      ]
    },
    {
      "cell_type": "code",
      "execution_count": null,
      "metadata": {},
      "outputs": [],
      "source": []
    },
    {
      "cell_type": "code",
      "metadata": {
        "id": "HeJOCYa-O_VE"
      },
      "source": [],
      "execution_count": null,
      "outputs": []
    },
    {
      "cell_type": "markdown",
      "metadata": {
        "id": "J8t-klaK2A6s"
      },
      "source": [
        "### (*) Ensemble v.2 (дополнительно, 2 балла)\n",
        "\n",
        "Попробуйте сделать для `Investment` более сложную модель: обучите `CatBoostRegressor` и `HuberRegressor` из `sklearn`, а затем сложите их предсказания с весами `w_1` и `w_2` (выберите веса сами; сумма весов равняется 1)."
      ]
    },
    {
      "cell_type": "code",
      "metadata": {
        "id": "JOKD-l8HuOgM"
      },
      "source": [],
      "execution_count": null,
      "outputs": []
    }
  ]
}