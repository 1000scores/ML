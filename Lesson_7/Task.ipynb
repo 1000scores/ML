{
  "nbformat": 4,
  "nbformat_minor": 0,
  "metadata": {
    "colab": {
      "name": "Task.ipynb",
      "provenance": [],
      "collapsed_sections": []
    },
    "kernelspec": {
      "name": "python3",
      "display_name": "Python 3",
      "language": "python"
    }
  },
  "cells": [
    {
      "cell_type": "markdown",
      "metadata": {
        "id": "EADmNKm_ucFI"
      },
      "source": [
        "## Homework"
      ]
    },
    {
      "cell_type": "code",
      "metadata": {
        "id": "wjurpt4KJmCh"
      },
      "source": [
        "!wget --no-check-certificate 'https://docs.google.com/uc?export=download&id=1OKFSv2GpuUFDphO0r8LdM7bl6MAWwBfX' -O data.csv"
      ],
      "execution_count": 2,
      "outputs": [
        {
          "output_type": "stream",
          "name": "stdout",
          "text": [
            "--2021-02-04 00:09:54--  https://docs.google.com/uc?export=download&id=1OKFSv2GpuUFDphO0r8LdM7bl6MAWwBfX\n",
            "Resolving docs.google.com (docs.google.com)... 64.233.165.194\n",
            "Connecting to docs.google.com (docs.google.com)|64.233.165.194|:443... connected.\n",
            "HTTP request sent, awaiting response... 302 Moved Temporarily\n",
            "Location: https://doc-04-ak-docs.googleusercontent.com/docs/securesc/ha0ro937gcuc7l7deffksulhg5h7mbp1/rsch8560qgr316nepr4kgurbnatt8b51/1612386525000/03856158561714992485/*/1OKFSv2GpuUFDphO0r8LdM7bl6MAWwBfX?e=download [following]\n",
            "Warning: wildcards not supported in HTTP.\n",
            "--2021-02-04 00:09:56--  https://doc-04-ak-docs.googleusercontent.com/docs/securesc/ha0ro937gcuc7l7deffksulhg5h7mbp1/rsch8560qgr316nepr4kgurbnatt8b51/1612386525000/03856158561714992485/*/1OKFSv2GpuUFDphO0r8LdM7bl6MAWwBfX?e=download\n",
            "Resolving doc-04-ak-docs.googleusercontent.com (doc-04-ak-docs.googleusercontent.com)... 64.233.161.132\n",
            "Connecting to doc-04-ak-docs.googleusercontent.com (doc-04-ak-docs.googleusercontent.com)|64.233.161.132|:443... connected.\n",
            "HTTP request sent, awaiting response... 200 OK\n",
            "Length: unspecified [text/csv]\n",
            "Saving to: ‘data.csv’\n",
            "\n",
            "data.csv                [                <=> ]  31,78M  8,05MB/s    in 3,9s    \n",
            "\n",
            "2021-02-04 00:10:00 (8,05 MB/s) - ‘data.csv’ saved [33322228]\n",
            "\n"
          ]
        }
      ]
    },
    {
      "cell_type": "code",
      "execution_count": 2,
      "metadata": {},
      "outputs": [],
      "source": [
        "import numpy as np\n",
        "import pandas as pd\n",
        "from sklearn.impute import *\n",
        "from scipy.stats import *\n",
        "from sklearn.linear_model import *\n",
        "from sklearn.preprocessing import *\n",
        "from sklearn.pipeline import *\n",
        "from sklearn.feature_selection import *\n",
        "from sklearn.datasets import *\n",
        "from sklearn.model_selection import *\n",
        "%matplotlib inline\n",
        "from matplotlib import pyplot as plt \n",
        "from sklearn.metrics import *\n",
        "from sklearn.neighbors import *\n",
        "from sklearn.decomposition import *\n",
        "from sklearn.decomposition import TruncatedSVD\n",
        "from sklearn.datasets import make_blobs, make_circles, make_classification, load_iris, load_digits\n",
        "from sklearn.tree import *\n",
        "from sklearn.ensemble import *\n",
        "from sklearn import *\n",
        "from matplotlib.colors import *\n",
        "from collections import *\n",
        "from sklearn.impute import *"
      ]
    },
    {
      "cell_type": "markdown",
      "metadata": {
        "id": "UBAI5LS2xBSm"
      },
      "source": [
        "В этой домашней работе вы будете предсказывать стоимость домов по их характеристикам.\n",
        "\n",
        "Метрика качества: `RMSE`\n",
        "\n",
        "Оценивание:\n",
        "* Baseline - 2 балла\n",
        "* Feature Engineering - 2 балла\n",
        "* Model Selection - 3 балла\n",
        "* Ensemble v.1 - 3 балла\n",
        "* (*) Ensemble v.2 - дополнительно, 2 балла"
      ]
    },
    {
      "cell_type": "markdown",
      "metadata": {
        "id": "aBZhr_dw6HAn"
      },
      "source": [
        "### Описание датасета\n",
        "\n",
        "Короткое описание данных:\n",
        "```\n",
        "price: sale price (this is the target variable)\n",
        "id: transaction id\n",
        "timestamp: date of transaction\n",
        "full_sq: total area in square meters, including loggias, balconies and other non-residential areas\n",
        "life_sq: living area in square meters, excluding loggias, balconies and other non-residential areas\n",
        "floor: for apartments, floor of the building\n",
        "max_floor: number of floors in the building\n",
        "material: wall material\n",
        "build_year: year built\n",
        "num_room: number of living rooms\n",
        "kitch_sq: kitchen area\n",
        "state: apartment condition\n",
        "product_type: owner-occupier purchase or investment\n",
        "sub_area: name of the district\n",
        "\n",
        "The dataset also includes a collection of features about each property's surrounding neighbourhood, and some features that are constant across each sub area (known as a Raion). Most of the feature names are self explanatory, with the following notes. See below for a complete list.\n",
        "\n",
        "full_all: subarea population\n",
        "male_f, female_f: subarea population by gender\n",
        "young_*: population younger than working age\n",
        "work_*: working-age population\n",
        "ekder_*: retirement-age population\n",
        "n_m_{all|male|female}: population between n and m years old\n",
        "build_count_*: buildings in the subarea by construction type or year\n",
        "x_count_500: the number of x within 500m of the property\n",
        "x_part_500: the share of x within 500m of the property\n",
        "_sqm_: square meters\n",
        "cafe_count_d_price_p: number of cafes within d meters of the property that have an average bill under p RUB\n",
        "trc_: shopping malls\n",
        "prom_: industrial zones\n",
        "green_: green zones\n",
        "metro_: subway\n",
        "_avto_: distances by car\n",
        "mkad_: Moscow Circle Auto Road\n",
        "ttk_: Third Transport Ring\n",
        "sadovoe_: Garden Ring\n",
        "bulvar_ring_: Boulevard Ring\n",
        "kremlin_: City center\n",
        "zd_vokzaly_: Train station\n",
        "oil_chemistry_: Dirty industry\n",
        "ts_: Power plant\n",
        "```"
      ]
    },
    {
      "cell_type": "markdown",
      "metadata": {
        "id": "TOPtM_06uyqv"
      },
      "source": [
        "### Setup"
      ]
    },
    {
      "cell_type": "code",
      "metadata": {
        "id": "9TpHMcn3u0MV"
      },
      "source": [
        "import pandas as pd"
      ],
      "execution_count": 3,
      "outputs": []
    },
    {
      "cell_type": "code",
      "metadata": {
        "id": "-TLkVG3EwJzj"
      },
      "source": [
        "df = pd.read_csv(\"data.csv\", parse_dates=[\"timestamp\"])"
      ],
      "execution_count": 4,
      "outputs": []
    },
    {
      "cell_type": "code",
      "execution_count": 5,
      "metadata": {},
      "outputs": [
        {
          "output_type": "execute_result",
          "data": {
            "text/plain": [
              "   id  timestamp  full_sq  life_sq  floor  max_floor  material  build_year  \\\n",
              "0   0 2014-12-26        1      1.0    1.0        1.0       1.0         1.0   \n",
              "1   1 2012-10-04       64     64.0   16.0        NaN       NaN         NaN   \n",
              "2   2 2014-02-05       83     44.0    9.0       17.0       1.0      1985.0   \n",
              "3   3 2012-07-26       71     49.0    2.0        NaN       NaN         NaN   \n",
              "4   4 2014-10-29       60     42.0    9.0        9.0       1.0      1970.0   \n",
              "\n",
              "   num_room  kitch_sq  ...  cafe_count_5000_price_2500  \\\n",
              "0       1.0       1.0  ...                          36   \n",
              "1       NaN       NaN  ...                           2   \n",
              "2       3.0      10.0  ...                          13   \n",
              "3       NaN       NaN  ...                           0   \n",
              "4       3.0       6.0  ...                           3   \n",
              "\n",
              "  cafe_count_5000_price_4000 cafe_count_5000_price_high  \\\n",
              "0                          7                          2   \n",
              "1                          2                          0   \n",
              "2                          6                          1   \n",
              "3                          0                          0   \n",
              "4                          1                          0   \n",
              "\n",
              "   big_church_count_5000  church_count_5000  mosque_count_5000  \\\n",
              "0                     15                 33                  1   \n",
              "1                      0                 13                  1   \n",
              "2                      8                 18                  0   \n",
              "3                      1                  3                  0   \n",
              "4                      5                  8                  0   \n",
              "\n",
              "   leisure_count_5000  sport_count_5000  market_count_5000     price  \n",
              "0                  12                75                 10  15318960  \n",
              "1                   0                 6                  1   6080000  \n",
              "2                   1                52                  0  17000000  \n",
              "3                   2                 8                  2    990000  \n",
              "4                   1                34                  5   7900000  \n",
              "\n",
              "[5 rows x 292 columns]"
            ],
            "text/html": "<div>\n<style scoped>\n    .dataframe tbody tr th:only-of-type {\n        vertical-align: middle;\n    }\n\n    .dataframe tbody tr th {\n        vertical-align: top;\n    }\n\n    .dataframe thead th {\n        text-align: right;\n    }\n</style>\n<table border=\"1\" class=\"dataframe\">\n  <thead>\n    <tr style=\"text-align: right;\">\n      <th></th>\n      <th>id</th>\n      <th>timestamp</th>\n      <th>full_sq</th>\n      <th>life_sq</th>\n      <th>floor</th>\n      <th>max_floor</th>\n      <th>material</th>\n      <th>build_year</th>\n      <th>num_room</th>\n      <th>kitch_sq</th>\n      <th>...</th>\n      <th>cafe_count_5000_price_2500</th>\n      <th>cafe_count_5000_price_4000</th>\n      <th>cafe_count_5000_price_high</th>\n      <th>big_church_count_5000</th>\n      <th>church_count_5000</th>\n      <th>mosque_count_5000</th>\n      <th>leisure_count_5000</th>\n      <th>sport_count_5000</th>\n      <th>market_count_5000</th>\n      <th>price</th>\n    </tr>\n  </thead>\n  <tbody>\n    <tr>\n      <th>0</th>\n      <td>0</td>\n      <td>2014-12-26</td>\n      <td>1</td>\n      <td>1.0</td>\n      <td>1.0</td>\n      <td>1.0</td>\n      <td>1.0</td>\n      <td>1.0</td>\n      <td>1.0</td>\n      <td>1.0</td>\n      <td>...</td>\n      <td>36</td>\n      <td>7</td>\n      <td>2</td>\n      <td>15</td>\n      <td>33</td>\n      <td>1</td>\n      <td>12</td>\n      <td>75</td>\n      <td>10</td>\n      <td>15318960</td>\n    </tr>\n    <tr>\n      <th>1</th>\n      <td>1</td>\n      <td>2012-10-04</td>\n      <td>64</td>\n      <td>64.0</td>\n      <td>16.0</td>\n      <td>NaN</td>\n      <td>NaN</td>\n      <td>NaN</td>\n      <td>NaN</td>\n      <td>NaN</td>\n      <td>...</td>\n      <td>2</td>\n      <td>2</td>\n      <td>0</td>\n      <td>0</td>\n      <td>13</td>\n      <td>1</td>\n      <td>0</td>\n      <td>6</td>\n      <td>1</td>\n      <td>6080000</td>\n    </tr>\n    <tr>\n      <th>2</th>\n      <td>2</td>\n      <td>2014-02-05</td>\n      <td>83</td>\n      <td>44.0</td>\n      <td>9.0</td>\n      <td>17.0</td>\n      <td>1.0</td>\n      <td>1985.0</td>\n      <td>3.0</td>\n      <td>10.0</td>\n      <td>...</td>\n      <td>13</td>\n      <td>6</td>\n      <td>1</td>\n      <td>8</td>\n      <td>18</td>\n      <td>0</td>\n      <td>1</td>\n      <td>52</td>\n      <td>0</td>\n      <td>17000000</td>\n    </tr>\n    <tr>\n      <th>3</th>\n      <td>3</td>\n      <td>2012-07-26</td>\n      <td>71</td>\n      <td>49.0</td>\n      <td>2.0</td>\n      <td>NaN</td>\n      <td>NaN</td>\n      <td>NaN</td>\n      <td>NaN</td>\n      <td>NaN</td>\n      <td>...</td>\n      <td>0</td>\n      <td>0</td>\n      <td>0</td>\n      <td>1</td>\n      <td>3</td>\n      <td>0</td>\n      <td>2</td>\n      <td>8</td>\n      <td>2</td>\n      <td>990000</td>\n    </tr>\n    <tr>\n      <th>4</th>\n      <td>4</td>\n      <td>2014-10-29</td>\n      <td>60</td>\n      <td>42.0</td>\n      <td>9.0</td>\n      <td>9.0</td>\n      <td>1.0</td>\n      <td>1970.0</td>\n      <td>3.0</td>\n      <td>6.0</td>\n      <td>...</td>\n      <td>3</td>\n      <td>1</td>\n      <td>0</td>\n      <td>5</td>\n      <td>8</td>\n      <td>0</td>\n      <td>1</td>\n      <td>34</td>\n      <td>5</td>\n      <td>7900000</td>\n    </tr>\n  </tbody>\n</table>\n<p>5 rows × 292 columns</p>\n</div>"
          },
          "metadata": {},
          "execution_count": 5
        }
      ],
      "source": [
        "df.head()"
      ]
    },
    {
      "cell_type": "markdown",
      "metadata": {
        "id": "znjwH9_mx3fZ"
      },
      "source": [
        "Разделите имеющиеся у вас данные на обучающую и тестовую выборки. В качестве обучающей выборки возьмите первые 80% данных, последние 20% - тестовая выборка."
      ]
    },
    {
      "cell_type": "markdown",
      "metadata": {
        "id": "pL4dJJwZP86w"
      },
      "source": [
        "Возможно в ваших моделях вам придется указывать, какие колонки являются категориальными (например, в бустингах). Для упрощения предлагается разделить колонки по следующему принципу:\n",
        "```\n",
        "drop_columns = [\n",
        "    'id',           # May leak information\n",
        "    'timestamp',    # May leak information\n",
        "]\n",
        "cat_columns = [\n",
        "    'product_type',              #\n",
        "    'material',                  # Material of the wall\n",
        "    'state',                     # Satisfaction level\n",
        "    'sub_area',                  # District name\n",
        "    'culture_objects_top_25',    #\n",
        "    'thermal_power_plant_raion', #\n",
        "    'incineration_raion',        #\n",
        "    'oil_chemistry_raion',       #\n",
        "    'radiation_raion',           #\n",
        "    'railroad_terminal_raion',   #\n",
        "    'big_market_raion',          #\n",
        "    'nuclear_reactor_raion',     #\n",
        "    'detention_facility_raion',  #\n",
        "    'ID_metro',                  #\n",
        "    'ID_railroad_station_walk',  #\n",
        "    'ID_railroad_station_avto',  #\n",
        "    'water_1line',               #\n",
        "    'ID_big_road1',              #\n",
        "    'big_road1_1line',           #\n",
        "    'ID_big_road2',              #\n",
        "    'railroad_1line',            #\n",
        "    'ID_railroad_terminal',      #\n",
        "    'ID_bus_terminal',           #\n",
        "    'ecology',                   #\n",
        "]\n",
        "num_columns = list(set(df.columns).difference(set(cat_columns + drop_columns)))\n",
        "```"
      ]
    },
    {
      "cell_type": "code",
      "execution_count": 6,
      "metadata": {},
      "outputs": [],
      "source": [
        "cat_columns = [\n",
        "    'product_type',              #\n",
        "    'material',                  # Material of the wall\n",
        "    'state',                     # Satisfaction level\n",
        "    'sub_area',                  # District name\n",
        "    'culture_objects_top_25',    #\n",
        "    'thermal_power_plant_raion', #\n",
        "    'incineration_raion',        #\n",
        "    'oil_chemistry_raion',       #\n",
        "    'radiation_raion',           #\n",
        "    'railroad_terminal_raion',   #\n",
        "    'big_market_raion',          #\n",
        "    'nuclear_reactor_raion',     #\n",
        "    'detention_facility_raion',  #\n",
        "    'ID_metro',                  #\n",
        "    'ID_railroad_station_walk',  #\n",
        "    'ID_railroad_station_avto',  #\n",
        "    'water_1line',               #\n",
        "    'ID_big_road1',              #\n",
        "    'big_road1_1line',           #\n",
        "    'ID_big_road2',              #\n",
        "    'railroad_1line',            #\n",
        "    'ID_railroad_terminal',      #\n",
        "    'ID_bus_terminal',           #\n",
        "    'ecology',                   #\n",
        "]\n",
        "drop_columns = [\n",
        "    'id',           # May leak information\n",
        "    'timestamp',    # May leak information\n",
        "]\n"
      ]
    },
    {
      "cell_type": "code",
      "execution_count": 7,
      "metadata": {},
      "outputs": [],
      "source": [
        "df_id_time_train = df[drop_columns]\n",
        "df.drop(drop_columns, axis=1, inplace=True)"
      ]
    },
    {
      "cell_type": "code",
      "execution_count": 8,
      "metadata": {},
      "outputs": [
        {
          "output_type": "execute_result",
          "data": {
            "text/plain": [
              "   full_sq  life_sq  floor  max_floor  build_year  num_room  kitch_sq  \\\n",
              "0        1      1.0    1.0        1.0         1.0       1.0       1.0   \n",
              "1       64     64.0   16.0        NaN         NaN       NaN       NaN   \n",
              "2       83     44.0    9.0       17.0      1985.0       3.0      10.0   \n",
              "3       71     49.0    2.0        NaN         NaN       NaN       NaN   \n",
              "4       60     42.0    9.0        9.0      1970.0       3.0       6.0   \n",
              "\n",
              "         area_m  raion_popul  green_zone_part  ...  ID_bus_terminal_10  \\\n",
              "0  5.293465e+06        77878         0.023464  ...                   0   \n",
              "1  6.677245e+07         9553         0.336177  ...                   0   \n",
              "2  1.216448e+07        78507         0.297166  ...                   0   \n",
              "3  4.708040e+06        38075         0.271702  ...                   0   \n",
              "4  1.428699e+07       157010         0.389354  ...                   0   \n",
              "\n",
              "   ID_bus_terminal_11  ID_bus_terminal_12  ID_bus_terminal_13  \\\n",
              "0                   0                   0                   0   \n",
              "1                   0                   0                   0   \n",
              "2                   0                   0                   0   \n",
              "3                   0                   0                   0   \n",
              "4                   0                   0                   0   \n",
              "\n",
              "   ID_bus_terminal_14  ecology_excellent  ecology_good  ecology_no data  \\\n",
              "0                   0                  0             0                0   \n",
              "1                   0                  0             0                1   \n",
              "2                   0                  0             1                0   \n",
              "3                   0                  0             0                1   \n",
              "4                   0                  0             1                0   \n",
              "\n",
              "   ecology_poor  ecology_satisfactory  \n",
              "0             1                     0  \n",
              "1             0                     0  \n",
              "2             0                     0  \n",
              "3             0                     0  \n",
              "4             0                     0  \n",
              "\n",
              "[5 rows x 1065 columns]"
            ],
            "text/html": "<div>\n<style scoped>\n    .dataframe tbody tr th:only-of-type {\n        vertical-align: middle;\n    }\n\n    .dataframe tbody tr th {\n        vertical-align: top;\n    }\n\n    .dataframe thead th {\n        text-align: right;\n    }\n</style>\n<table border=\"1\" class=\"dataframe\">\n  <thead>\n    <tr style=\"text-align: right;\">\n      <th></th>\n      <th>full_sq</th>\n      <th>life_sq</th>\n      <th>floor</th>\n      <th>max_floor</th>\n      <th>build_year</th>\n      <th>num_room</th>\n      <th>kitch_sq</th>\n      <th>area_m</th>\n      <th>raion_popul</th>\n      <th>green_zone_part</th>\n      <th>...</th>\n      <th>ID_bus_terminal_10</th>\n      <th>ID_bus_terminal_11</th>\n      <th>ID_bus_terminal_12</th>\n      <th>ID_bus_terminal_13</th>\n      <th>ID_bus_terminal_14</th>\n      <th>ecology_excellent</th>\n      <th>ecology_good</th>\n      <th>ecology_no data</th>\n      <th>ecology_poor</th>\n      <th>ecology_satisfactory</th>\n    </tr>\n  </thead>\n  <tbody>\n    <tr>\n      <th>0</th>\n      <td>1</td>\n      <td>1.0</td>\n      <td>1.0</td>\n      <td>1.0</td>\n      <td>1.0</td>\n      <td>1.0</td>\n      <td>1.0</td>\n      <td>5.293465e+06</td>\n      <td>77878</td>\n      <td>0.023464</td>\n      <td>...</td>\n      <td>0</td>\n      <td>0</td>\n      <td>0</td>\n      <td>0</td>\n      <td>0</td>\n      <td>0</td>\n      <td>0</td>\n      <td>0</td>\n      <td>1</td>\n      <td>0</td>\n    </tr>\n    <tr>\n      <th>1</th>\n      <td>64</td>\n      <td>64.0</td>\n      <td>16.0</td>\n      <td>NaN</td>\n      <td>NaN</td>\n      <td>NaN</td>\n      <td>NaN</td>\n      <td>6.677245e+07</td>\n      <td>9553</td>\n      <td>0.336177</td>\n      <td>...</td>\n      <td>0</td>\n      <td>0</td>\n      <td>0</td>\n      <td>0</td>\n      <td>0</td>\n      <td>0</td>\n      <td>0</td>\n      <td>1</td>\n      <td>0</td>\n      <td>0</td>\n    </tr>\n    <tr>\n      <th>2</th>\n      <td>83</td>\n      <td>44.0</td>\n      <td>9.0</td>\n      <td>17.0</td>\n      <td>1985.0</td>\n      <td>3.0</td>\n      <td>10.0</td>\n      <td>1.216448e+07</td>\n      <td>78507</td>\n      <td>0.297166</td>\n      <td>...</td>\n      <td>0</td>\n      <td>0</td>\n      <td>0</td>\n      <td>0</td>\n      <td>0</td>\n      <td>0</td>\n      <td>1</td>\n      <td>0</td>\n      <td>0</td>\n      <td>0</td>\n    </tr>\n    <tr>\n      <th>3</th>\n      <td>71</td>\n      <td>49.0</td>\n      <td>2.0</td>\n      <td>NaN</td>\n      <td>NaN</td>\n      <td>NaN</td>\n      <td>NaN</td>\n      <td>4.708040e+06</td>\n      <td>38075</td>\n      <td>0.271702</td>\n      <td>...</td>\n      <td>0</td>\n      <td>0</td>\n      <td>0</td>\n      <td>0</td>\n      <td>0</td>\n      <td>0</td>\n      <td>0</td>\n      <td>1</td>\n      <td>0</td>\n      <td>0</td>\n    </tr>\n    <tr>\n      <th>4</th>\n      <td>60</td>\n      <td>42.0</td>\n      <td>9.0</td>\n      <td>9.0</td>\n      <td>1970.0</td>\n      <td>3.0</td>\n      <td>6.0</td>\n      <td>1.428699e+07</td>\n      <td>157010</td>\n      <td>0.389354</td>\n      <td>...</td>\n      <td>0</td>\n      <td>0</td>\n      <td>0</td>\n      <td>0</td>\n      <td>0</td>\n      <td>0</td>\n      <td>1</td>\n      <td>0</td>\n      <td>0</td>\n      <td>0</td>\n    </tr>\n  </tbody>\n</table>\n<p>5 rows × 1065 columns</p>\n</div>"
          },
          "metadata": {},
          "execution_count": 8
        }
      ],
      "source": [
        "df = pd.get_dummies(df, columns=cat_columns)\n",
        "df.head()"
      ]
    },
    {
      "cell_type": "code",
      "execution_count": 9,
      "metadata": {},
      "outputs": [
        {
          "output_type": "execute_result",
          "data": {
            "text/plain": [
              "full_sq                    0\n",
              "life_sq                 4103\n",
              "floor                    113\n",
              "max_floor               6303\n",
              "build_year              8905\n",
              "                        ... \n",
              "ecology_excellent          0\n",
              "ecology_good               0\n",
              "ecology_no data            0\n",
              "ecology_poor               0\n",
              "ecology_satisfactory       0\n",
              "Length: 1065, dtype: int64"
            ]
          },
          "metadata": {},
          "execution_count": 9
        }
      ],
      "source": [
        "df.isna().sum() "
      ]
    },
    {
      "cell_type": "code",
      "execution_count": 10,
      "metadata": {},
      "outputs": [
        {
          "output_type": "execute_result",
          "data": {
            "text/plain": [
              "   full_sq  life_sq  floor  max_floor  build_year  num_room  kitch_sq  \\\n",
              "0      1.0      1.0    1.0        1.0         1.0       1.0       1.0   \n",
              "1     64.0     64.0   16.0       17.0      2014.0       2.0       1.0   \n",
              "2     83.0     44.0    9.0       17.0      1985.0       3.0      10.0   \n",
              "3     71.0     49.0    2.0       17.0      2014.0       2.0       1.0   \n",
              "4     60.0     42.0    9.0        9.0      1970.0       3.0       6.0   \n",
              "\n",
              "         area_m  raion_popul  green_zone_part  ...  ID_bus_terminal_10  \\\n",
              "0  5.293465e+06      77878.0         0.023464  ...                 0.0   \n",
              "1  6.677245e+07       9553.0         0.336177  ...                 0.0   \n",
              "2  1.216448e+07      78507.0         0.297166  ...                 0.0   \n",
              "3  4.708040e+06      38075.0         0.271702  ...                 0.0   \n",
              "4  1.428699e+07     157010.0         0.389354  ...                 0.0   \n",
              "\n",
              "   ID_bus_terminal_11  ID_bus_terminal_12  ID_bus_terminal_13  \\\n",
              "0                 0.0                 0.0                 0.0   \n",
              "1                 0.0                 0.0                 0.0   \n",
              "2                 0.0                 0.0                 0.0   \n",
              "3                 0.0                 0.0                 0.0   \n",
              "4                 0.0                 0.0                 0.0   \n",
              "\n",
              "   ID_bus_terminal_14  ecology_excellent  ecology_good  ecology_no data  \\\n",
              "0                 0.0                0.0           0.0              0.0   \n",
              "1                 0.0                0.0           0.0              1.0   \n",
              "2                 0.0                0.0           1.0              0.0   \n",
              "3                 0.0                0.0           0.0              1.0   \n",
              "4                 0.0                0.0           1.0              0.0   \n",
              "\n",
              "   ecology_poor  ecology_satisfactory  \n",
              "0           1.0                   0.0  \n",
              "1           0.0                   0.0  \n",
              "2           0.0                   0.0  \n",
              "3           0.0                   0.0  \n",
              "4           0.0                   0.0  \n",
              "\n",
              "[5 rows x 1065 columns]"
            ],
            "text/html": "<div>\n<style scoped>\n    .dataframe tbody tr th:only-of-type {\n        vertical-align: middle;\n    }\n\n    .dataframe tbody tr th {\n        vertical-align: top;\n    }\n\n    .dataframe thead th {\n        text-align: right;\n    }\n</style>\n<table border=\"1\" class=\"dataframe\">\n  <thead>\n    <tr style=\"text-align: right;\">\n      <th></th>\n      <th>full_sq</th>\n      <th>life_sq</th>\n      <th>floor</th>\n      <th>max_floor</th>\n      <th>build_year</th>\n      <th>num_room</th>\n      <th>kitch_sq</th>\n      <th>area_m</th>\n      <th>raion_popul</th>\n      <th>green_zone_part</th>\n      <th>...</th>\n      <th>ID_bus_terminal_10</th>\n      <th>ID_bus_terminal_11</th>\n      <th>ID_bus_terminal_12</th>\n      <th>ID_bus_terminal_13</th>\n      <th>ID_bus_terminal_14</th>\n      <th>ecology_excellent</th>\n      <th>ecology_good</th>\n      <th>ecology_no data</th>\n      <th>ecology_poor</th>\n      <th>ecology_satisfactory</th>\n    </tr>\n  </thead>\n  <tbody>\n    <tr>\n      <th>0</th>\n      <td>1.0</td>\n      <td>1.0</td>\n      <td>1.0</td>\n      <td>1.0</td>\n      <td>1.0</td>\n      <td>1.0</td>\n      <td>1.0</td>\n      <td>5.293465e+06</td>\n      <td>77878.0</td>\n      <td>0.023464</td>\n      <td>...</td>\n      <td>0.0</td>\n      <td>0.0</td>\n      <td>0.0</td>\n      <td>0.0</td>\n      <td>0.0</td>\n      <td>0.0</td>\n      <td>0.0</td>\n      <td>0.0</td>\n      <td>1.0</td>\n      <td>0.0</td>\n    </tr>\n    <tr>\n      <th>1</th>\n      <td>64.0</td>\n      <td>64.0</td>\n      <td>16.0</td>\n      <td>17.0</td>\n      <td>2014.0</td>\n      <td>2.0</td>\n      <td>1.0</td>\n      <td>6.677245e+07</td>\n      <td>9553.0</td>\n      <td>0.336177</td>\n      <td>...</td>\n      <td>0.0</td>\n      <td>0.0</td>\n      <td>0.0</td>\n      <td>0.0</td>\n      <td>0.0</td>\n      <td>0.0</td>\n      <td>0.0</td>\n      <td>1.0</td>\n      <td>0.0</td>\n      <td>0.0</td>\n    </tr>\n    <tr>\n      <th>2</th>\n      <td>83.0</td>\n      <td>44.0</td>\n      <td>9.0</td>\n      <td>17.0</td>\n      <td>1985.0</td>\n      <td>3.0</td>\n      <td>10.0</td>\n      <td>1.216448e+07</td>\n      <td>78507.0</td>\n      <td>0.297166</td>\n      <td>...</td>\n      <td>0.0</td>\n      <td>0.0</td>\n      <td>0.0</td>\n      <td>0.0</td>\n      <td>0.0</td>\n      <td>0.0</td>\n      <td>1.0</td>\n      <td>0.0</td>\n      <td>0.0</td>\n      <td>0.0</td>\n    </tr>\n    <tr>\n      <th>3</th>\n      <td>71.0</td>\n      <td>49.0</td>\n      <td>2.0</td>\n      <td>17.0</td>\n      <td>2014.0</td>\n      <td>2.0</td>\n      <td>1.0</td>\n      <td>4.708040e+06</td>\n      <td>38075.0</td>\n      <td>0.271702</td>\n      <td>...</td>\n      <td>0.0</td>\n      <td>0.0</td>\n      <td>0.0</td>\n      <td>0.0</td>\n      <td>0.0</td>\n      <td>0.0</td>\n      <td>0.0</td>\n      <td>1.0</td>\n      <td>0.0</td>\n      <td>0.0</td>\n    </tr>\n    <tr>\n      <th>4</th>\n      <td>60.0</td>\n      <td>42.0</td>\n      <td>9.0</td>\n      <td>9.0</td>\n      <td>1970.0</td>\n      <td>3.0</td>\n      <td>6.0</td>\n      <td>1.428699e+07</td>\n      <td>157010.0</td>\n      <td>0.389354</td>\n      <td>...</td>\n      <td>0.0</td>\n      <td>0.0</td>\n      <td>0.0</td>\n      <td>0.0</td>\n      <td>0.0</td>\n      <td>0.0</td>\n      <td>1.0</td>\n      <td>0.0</td>\n      <td>0.0</td>\n      <td>0.0</td>\n    </tr>\n  </tbody>\n</table>\n<p>5 rows × 1065 columns</p>\n</div>"
          },
          "metadata": {},
          "execution_count": 10
        }
      ],
      "source": [
        "si = SimpleImputer(missing_values=np.nan, strategy='most_frequent')\n",
        "df = pd.DataFrame(data=si.fit_transform(df), columns=df.columns)\n",
        "df.head()"
      ]
    },
    {
      "cell_type": "code",
      "execution_count": 11,
      "metadata": {},
      "outputs": [
        {
          "output_type": "execute_result",
          "data": {
            "text/plain": [
              "0"
            ]
          },
          "metadata": {},
          "execution_count": 11
        }
      ],
      "source": [
        "df.isna().sum().sum()"
      ]
    },
    {
      "cell_type": "code",
      "execution_count": null,
      "metadata": {},
      "outputs": [],
      "source": []
    },
    {
      "cell_type": "code",
      "execution_count": 12,
      "metadata": {},
      "outputs": [
        {
          "output_type": "display_data",
          "data": {
            "text/plain": "(20000, 1065)"
          },
          "metadata": {}
        },
        {
          "output_type": "display_data",
          "data": {
            "text/plain": "(16000, 1065)"
          },
          "metadata": {}
        },
        {
          "output_type": "display_data",
          "data": {
            "text/plain": "(4000, 1065)"
          },
          "metadata": {}
        },
        {
          "output_type": "execute_result",
          "data": {
            "text/plain": [
              "   full_sq  life_sq  floor  max_floor  build_year  num_room  kitch_sq  \\\n",
              "0      1.0      1.0    1.0        1.0         1.0       1.0       1.0   \n",
              "1     64.0     64.0   16.0       17.0      2014.0       2.0       1.0   \n",
              "2     83.0     44.0    9.0       17.0      1985.0       3.0      10.0   \n",
              "3     71.0     49.0    2.0       17.0      2014.0       2.0       1.0   \n",
              "4     60.0     42.0    9.0        9.0      1970.0       3.0       6.0   \n",
              "\n",
              "         area_m  raion_popul  green_zone_part  ...  ID_bus_terminal_10  \\\n",
              "0  5.293465e+06      77878.0         0.023464  ...                 0.0   \n",
              "1  6.677245e+07       9553.0         0.336177  ...                 0.0   \n",
              "2  1.216448e+07      78507.0         0.297166  ...                 0.0   \n",
              "3  4.708040e+06      38075.0         0.271702  ...                 0.0   \n",
              "4  1.428699e+07     157010.0         0.389354  ...                 0.0   \n",
              "\n",
              "   ID_bus_terminal_11  ID_bus_terminal_12  ID_bus_terminal_13  \\\n",
              "0                 0.0                 0.0                 0.0   \n",
              "1                 0.0                 0.0                 0.0   \n",
              "2                 0.0                 0.0                 0.0   \n",
              "3                 0.0                 0.0                 0.0   \n",
              "4                 0.0                 0.0                 0.0   \n",
              "\n",
              "   ID_bus_terminal_14  ecology_excellent  ecology_good  ecology_no data  \\\n",
              "0                 0.0                0.0           0.0              0.0   \n",
              "1                 0.0                0.0           0.0              1.0   \n",
              "2                 0.0                0.0           1.0              0.0   \n",
              "3                 0.0                0.0           0.0              1.0   \n",
              "4                 0.0                0.0           1.0              0.0   \n",
              "\n",
              "   ecology_poor  ecology_satisfactory  \n",
              "0           1.0                   0.0  \n",
              "1           0.0                   0.0  \n",
              "2           0.0                   0.0  \n",
              "3           0.0                   0.0  \n",
              "4           0.0                   0.0  \n",
              "\n",
              "[5 rows x 1065 columns]"
            ],
            "text/html": "<div>\n<style scoped>\n    .dataframe tbody tr th:only-of-type {\n        vertical-align: middle;\n    }\n\n    .dataframe tbody tr th {\n        vertical-align: top;\n    }\n\n    .dataframe thead th {\n        text-align: right;\n    }\n</style>\n<table border=\"1\" class=\"dataframe\">\n  <thead>\n    <tr style=\"text-align: right;\">\n      <th></th>\n      <th>full_sq</th>\n      <th>life_sq</th>\n      <th>floor</th>\n      <th>max_floor</th>\n      <th>build_year</th>\n      <th>num_room</th>\n      <th>kitch_sq</th>\n      <th>area_m</th>\n      <th>raion_popul</th>\n      <th>green_zone_part</th>\n      <th>...</th>\n      <th>ID_bus_terminal_10</th>\n      <th>ID_bus_terminal_11</th>\n      <th>ID_bus_terminal_12</th>\n      <th>ID_bus_terminal_13</th>\n      <th>ID_bus_terminal_14</th>\n      <th>ecology_excellent</th>\n      <th>ecology_good</th>\n      <th>ecology_no data</th>\n      <th>ecology_poor</th>\n      <th>ecology_satisfactory</th>\n    </tr>\n  </thead>\n  <tbody>\n    <tr>\n      <th>0</th>\n      <td>1.0</td>\n      <td>1.0</td>\n      <td>1.0</td>\n      <td>1.0</td>\n      <td>1.0</td>\n      <td>1.0</td>\n      <td>1.0</td>\n      <td>5.293465e+06</td>\n      <td>77878.0</td>\n      <td>0.023464</td>\n      <td>...</td>\n      <td>0.0</td>\n      <td>0.0</td>\n      <td>0.0</td>\n      <td>0.0</td>\n      <td>0.0</td>\n      <td>0.0</td>\n      <td>0.0</td>\n      <td>0.0</td>\n      <td>1.0</td>\n      <td>0.0</td>\n    </tr>\n    <tr>\n      <th>1</th>\n      <td>64.0</td>\n      <td>64.0</td>\n      <td>16.0</td>\n      <td>17.0</td>\n      <td>2014.0</td>\n      <td>2.0</td>\n      <td>1.0</td>\n      <td>6.677245e+07</td>\n      <td>9553.0</td>\n      <td>0.336177</td>\n      <td>...</td>\n      <td>0.0</td>\n      <td>0.0</td>\n      <td>0.0</td>\n      <td>0.0</td>\n      <td>0.0</td>\n      <td>0.0</td>\n      <td>0.0</td>\n      <td>1.0</td>\n      <td>0.0</td>\n      <td>0.0</td>\n    </tr>\n    <tr>\n      <th>2</th>\n      <td>83.0</td>\n      <td>44.0</td>\n      <td>9.0</td>\n      <td>17.0</td>\n      <td>1985.0</td>\n      <td>3.0</td>\n      <td>10.0</td>\n      <td>1.216448e+07</td>\n      <td>78507.0</td>\n      <td>0.297166</td>\n      <td>...</td>\n      <td>0.0</td>\n      <td>0.0</td>\n      <td>0.0</td>\n      <td>0.0</td>\n      <td>0.0</td>\n      <td>0.0</td>\n      <td>1.0</td>\n      <td>0.0</td>\n      <td>0.0</td>\n      <td>0.0</td>\n    </tr>\n    <tr>\n      <th>3</th>\n      <td>71.0</td>\n      <td>49.0</td>\n      <td>2.0</td>\n      <td>17.0</td>\n      <td>2014.0</td>\n      <td>2.0</td>\n      <td>1.0</td>\n      <td>4.708040e+06</td>\n      <td>38075.0</td>\n      <td>0.271702</td>\n      <td>...</td>\n      <td>0.0</td>\n      <td>0.0</td>\n      <td>0.0</td>\n      <td>0.0</td>\n      <td>0.0</td>\n      <td>0.0</td>\n      <td>0.0</td>\n      <td>1.0</td>\n      <td>0.0</td>\n      <td>0.0</td>\n    </tr>\n    <tr>\n      <th>4</th>\n      <td>60.0</td>\n      <td>42.0</td>\n      <td>9.0</td>\n      <td>9.0</td>\n      <td>1970.0</td>\n      <td>3.0</td>\n      <td>6.0</td>\n      <td>1.428699e+07</td>\n      <td>157010.0</td>\n      <td>0.389354</td>\n      <td>...</td>\n      <td>0.0</td>\n      <td>0.0</td>\n      <td>0.0</td>\n      <td>0.0</td>\n      <td>0.0</td>\n      <td>0.0</td>\n      <td>1.0</td>\n      <td>0.0</td>\n      <td>0.0</td>\n      <td>0.0</td>\n    </tr>\n  </tbody>\n</table>\n<p>5 rows × 1065 columns</p>\n</div>"
          },
          "metadata": {},
          "execution_count": 12
        }
      ],
      "source": [
        "df_train = df.iloc[:int(df.shape[0] * 0.8), :]\n",
        "df_test = df.iloc[int(df.shape[0] * 0.8):, :]\n",
        "display(df.shape)\n",
        "display(df_train.shape)\n",
        "display(df_test.shape)\n",
        "df.head()"
      ]
    },
    {
      "cell_type": "code",
      "execution_count": 13,
      "metadata": {},
      "outputs": [],
      "source": [
        "y_train = df_train['price']\n",
        "X_train = df_train.drop(['price'], axis=1)\n",
        "y_test = df_test['price']\n",
        "X_test = df_test.drop(['price'], axis=1)"
      ]
    },
    {
      "cell_type": "markdown",
      "metadata": {
        "id": "oiOby6hNu92W"
      },
      "source": [
        "### Baseline (2 балла)\n",
        "\n",
        "В качестве Baseline обучите `DecisionTreeRegressor` из `sklearn`."
      ]
    },
    {
      "cell_type": "code",
      "execution_count": 14,
      "metadata": {},
      "outputs": [
        {
          "output_type": "execute_result",
          "data": {
            "text/plain": [
              "DecisionTreeRegressor()"
            ]
          },
          "metadata": {},
          "execution_count": 14
        }
      ],
      "source": [
        "dtr = DecisionTreeRegressor()\n",
        "dtr.fit(X_train, y_train)"
      ]
    },
    {
      "cell_type": "markdown",
      "metadata": {
        "id": "XUC7NFhw1X41"
      },
      "source": [
        "Проверьте качество на отложенной выборке."
      ]
    },
    {
      "cell_type": "code",
      "execution_count": 15,
      "metadata": {},
      "outputs": [
        {
          "output_type": "display_data",
          "data": {
            "text/plain": "'Mean absolute error: '"
          },
          "metadata": {}
        },
        {
          "output_type": "display_data",
          "data": {
            "text/plain": "1984312.1849583331"
          },
          "metadata": {}
        },
        {
          "output_type": "display_data",
          "data": {
            "text/plain": "'R2 error'"
          },
          "metadata": {}
        },
        {
          "output_type": "display_data",
          "data": {
            "text/plain": "0.37921684494287267"
          },
          "metadata": {}
        }
      ],
      "source": [
        "y_pred = dtr.predict(X_test)\n",
        "display('Mean absolute error: ')\n",
        "display(mean_absolute_error(y_test, y_pred))\n",
        "display('R2 error')\n",
        "display(r2_score(y_test, y_pred))"
      ]
    },
    {
      "cell_type": "markdown",
      "metadata": {
        "id": "3bezBBI7u_oF"
      },
      "source": [
        "### Feature Engineering (2 балла)\n",
        "\n",
        "Часто улучшить модель можно с помощью аккуратного Feature Engineering.\n",
        "\n",
        "Добавим в модель дополнительные признаки:\n",
        "* \"Как часто в этот год и этот месяц появлились объявления\"\n",
        "* \"Как часто в этот год и эту неделю появлялись объявления\""
      ]
    },
    {
      "cell_type": "code",
      "execution_count": 16,
      "metadata": {},
      "outputs": [
        {
          "output_type": "execute_result",
          "data": {
            "text/plain": [
              "       full_sq  life_sq  floor  max_floor  build_year  num_room  kitch_sq  \\\n",
              "0          1.0      1.0    1.0        1.0         1.0       1.0       1.0   \n",
              "1         64.0     64.0   16.0       17.0      2014.0       2.0       1.0   \n",
              "2         83.0     44.0    9.0       17.0      1985.0       3.0      10.0   \n",
              "3         71.0     49.0    2.0       17.0      2014.0       2.0       1.0   \n",
              "4         60.0     42.0    9.0        9.0      1970.0       3.0       6.0   \n",
              "...        ...      ...    ...        ...         ...       ...       ...   \n",
              "15995     46.0     29.0    3.0        5.0      1965.0       2.0       5.0   \n",
              "15996     72.0     43.0   16.0       17.0      1995.0       3.0      10.0   \n",
              "15997     38.0     22.0    8.0       12.0      1968.0       2.0       6.0   \n",
              "15998     67.0     43.0   16.0       16.0      1976.0       3.0       7.0   \n",
              "15999     83.0     53.0   23.0       24.0      2011.0       4.0      10.0   \n",
              "\n",
              "             area_m  raion_popul  green_zone_part  ...  ID_bus_terminal_10  \\\n",
              "0      5.293465e+06      77878.0         0.023464  ...                 0.0   \n",
              "1      6.677245e+07       9553.0         0.336177  ...                 0.0   \n",
              "2      1.216448e+07      78507.0         0.297166  ...                 0.0   \n",
              "3      4.708040e+06      38075.0         0.271702  ...                 0.0   \n",
              "4      1.428699e+07     157010.0         0.389354  ...                 0.0   \n",
              "...             ...          ...              ...  ...                 ...   \n",
              "15995  9.946335e+06     139322.0         0.065409  ...                 1.0   \n",
              "15996  8.287309e+06     125354.0         0.071120  ...                 0.0   \n",
              "15997  1.509487e+07     219609.0         0.300284  ...                 0.0   \n",
              "15998  1.428699e+07     157010.0         0.389354  ...                 0.0   \n",
              "15999  2.615514e+07     178264.0         0.137846  ...                 0.0   \n",
              "\n",
              "       ID_bus_terminal_11  ID_bus_terminal_12  ID_bus_terminal_13  \\\n",
              "0                     0.0                 0.0                 0.0   \n",
              "1                     0.0                 0.0                 0.0   \n",
              "2                     0.0                 0.0                 0.0   \n",
              "3                     0.0                 0.0                 0.0   \n",
              "4                     0.0                 0.0                 0.0   \n",
              "...                   ...                 ...                 ...   \n",
              "15995                 0.0                 0.0                 0.0   \n",
              "15996                 0.0                 1.0                 0.0   \n",
              "15997                 0.0                 0.0                 0.0   \n",
              "15998                 0.0                 0.0                 0.0   \n",
              "15999                 0.0                 0.0                 0.0   \n",
              "\n",
              "       ID_bus_terminal_14  ecology_excellent  ecology_good  ecology_no data  \\\n",
              "0                     0.0                0.0           0.0              0.0   \n",
              "1                     0.0                0.0           0.0              1.0   \n",
              "2                     0.0                0.0           1.0              0.0   \n",
              "3                     0.0                0.0           0.0              1.0   \n",
              "4                     0.0                0.0           1.0              0.0   \n",
              "...                   ...                ...           ...              ...   \n",
              "15995                 0.0                1.0           0.0              0.0   \n",
              "15996                 0.0                0.0           0.0              0.0   \n",
              "15997                 0.0                0.0           0.0              0.0   \n",
              "15998                 0.0                0.0           1.0              0.0   \n",
              "15999                 0.0                0.0           1.0              0.0   \n",
              "\n",
              "       ecology_poor  ecology_satisfactory  \n",
              "0               1.0                   0.0  \n",
              "1               0.0                   0.0  \n",
              "2               0.0                   0.0  \n",
              "3               0.0                   0.0  \n",
              "4               0.0                   0.0  \n",
              "...             ...                   ...  \n",
              "15995           0.0                   0.0  \n",
              "15996           1.0                   0.0  \n",
              "15997           1.0                   0.0  \n",
              "15998           0.0                   0.0  \n",
              "15999           0.0                   0.0  \n",
              "\n",
              "[16000 rows x 1065 columns]"
            ],
            "text/html": "<div>\n<style scoped>\n    .dataframe tbody tr th:only-of-type {\n        vertical-align: middle;\n    }\n\n    .dataframe tbody tr th {\n        vertical-align: top;\n    }\n\n    .dataframe thead th {\n        text-align: right;\n    }\n</style>\n<table border=\"1\" class=\"dataframe\">\n  <thead>\n    <tr style=\"text-align: right;\">\n      <th></th>\n      <th>full_sq</th>\n      <th>life_sq</th>\n      <th>floor</th>\n      <th>max_floor</th>\n      <th>build_year</th>\n      <th>num_room</th>\n      <th>kitch_sq</th>\n      <th>area_m</th>\n      <th>raion_popul</th>\n      <th>green_zone_part</th>\n      <th>...</th>\n      <th>ID_bus_terminal_10</th>\n      <th>ID_bus_terminal_11</th>\n      <th>ID_bus_terminal_12</th>\n      <th>ID_bus_terminal_13</th>\n      <th>ID_bus_terminal_14</th>\n      <th>ecology_excellent</th>\n      <th>ecology_good</th>\n      <th>ecology_no data</th>\n      <th>ecology_poor</th>\n      <th>ecology_satisfactory</th>\n    </tr>\n  </thead>\n  <tbody>\n    <tr>\n      <th>0</th>\n      <td>1.0</td>\n      <td>1.0</td>\n      <td>1.0</td>\n      <td>1.0</td>\n      <td>1.0</td>\n      <td>1.0</td>\n      <td>1.0</td>\n      <td>5.293465e+06</td>\n      <td>77878.0</td>\n      <td>0.023464</td>\n      <td>...</td>\n      <td>0.0</td>\n      <td>0.0</td>\n      <td>0.0</td>\n      <td>0.0</td>\n      <td>0.0</td>\n      <td>0.0</td>\n      <td>0.0</td>\n      <td>0.0</td>\n      <td>1.0</td>\n      <td>0.0</td>\n    </tr>\n    <tr>\n      <th>1</th>\n      <td>64.0</td>\n      <td>64.0</td>\n      <td>16.0</td>\n      <td>17.0</td>\n      <td>2014.0</td>\n      <td>2.0</td>\n      <td>1.0</td>\n      <td>6.677245e+07</td>\n      <td>9553.0</td>\n      <td>0.336177</td>\n      <td>...</td>\n      <td>0.0</td>\n      <td>0.0</td>\n      <td>0.0</td>\n      <td>0.0</td>\n      <td>0.0</td>\n      <td>0.0</td>\n      <td>0.0</td>\n      <td>1.0</td>\n      <td>0.0</td>\n      <td>0.0</td>\n    </tr>\n    <tr>\n      <th>2</th>\n      <td>83.0</td>\n      <td>44.0</td>\n      <td>9.0</td>\n      <td>17.0</td>\n      <td>1985.0</td>\n      <td>3.0</td>\n      <td>10.0</td>\n      <td>1.216448e+07</td>\n      <td>78507.0</td>\n      <td>0.297166</td>\n      <td>...</td>\n      <td>0.0</td>\n      <td>0.0</td>\n      <td>0.0</td>\n      <td>0.0</td>\n      <td>0.0</td>\n      <td>0.0</td>\n      <td>1.0</td>\n      <td>0.0</td>\n      <td>0.0</td>\n      <td>0.0</td>\n    </tr>\n    <tr>\n      <th>3</th>\n      <td>71.0</td>\n      <td>49.0</td>\n      <td>2.0</td>\n      <td>17.0</td>\n      <td>2014.0</td>\n      <td>2.0</td>\n      <td>1.0</td>\n      <td>4.708040e+06</td>\n      <td>38075.0</td>\n      <td>0.271702</td>\n      <td>...</td>\n      <td>0.0</td>\n      <td>0.0</td>\n      <td>0.0</td>\n      <td>0.0</td>\n      <td>0.0</td>\n      <td>0.0</td>\n      <td>0.0</td>\n      <td>1.0</td>\n      <td>0.0</td>\n      <td>0.0</td>\n    </tr>\n    <tr>\n      <th>4</th>\n      <td>60.0</td>\n      <td>42.0</td>\n      <td>9.0</td>\n      <td>9.0</td>\n      <td>1970.0</td>\n      <td>3.0</td>\n      <td>6.0</td>\n      <td>1.428699e+07</td>\n      <td>157010.0</td>\n      <td>0.389354</td>\n      <td>...</td>\n      <td>0.0</td>\n      <td>0.0</td>\n      <td>0.0</td>\n      <td>0.0</td>\n      <td>0.0</td>\n      <td>0.0</td>\n      <td>1.0</td>\n      <td>0.0</td>\n      <td>0.0</td>\n      <td>0.0</td>\n    </tr>\n    <tr>\n      <th>...</th>\n      <td>...</td>\n      <td>...</td>\n      <td>...</td>\n      <td>...</td>\n      <td>...</td>\n      <td>...</td>\n      <td>...</td>\n      <td>...</td>\n      <td>...</td>\n      <td>...</td>\n      <td>...</td>\n      <td>...</td>\n      <td>...</td>\n      <td>...</td>\n      <td>...</td>\n      <td>...</td>\n      <td>...</td>\n      <td>...</td>\n      <td>...</td>\n      <td>...</td>\n      <td>...</td>\n    </tr>\n    <tr>\n      <th>15995</th>\n      <td>46.0</td>\n      <td>29.0</td>\n      <td>3.0</td>\n      <td>5.0</td>\n      <td>1965.0</td>\n      <td>2.0</td>\n      <td>5.0</td>\n      <td>9.946335e+06</td>\n      <td>139322.0</td>\n      <td>0.065409</td>\n      <td>...</td>\n      <td>1.0</td>\n      <td>0.0</td>\n      <td>0.0</td>\n      <td>0.0</td>\n      <td>0.0</td>\n      <td>1.0</td>\n      <td>0.0</td>\n      <td>0.0</td>\n      <td>0.0</td>\n      <td>0.0</td>\n    </tr>\n    <tr>\n      <th>15996</th>\n      <td>72.0</td>\n      <td>43.0</td>\n      <td>16.0</td>\n      <td>17.0</td>\n      <td>1995.0</td>\n      <td>3.0</td>\n      <td>10.0</td>\n      <td>8.287309e+06</td>\n      <td>125354.0</td>\n      <td>0.071120</td>\n      <td>...</td>\n      <td>0.0</td>\n      <td>0.0</td>\n      <td>1.0</td>\n      <td>0.0</td>\n      <td>0.0</td>\n      <td>0.0</td>\n      <td>0.0</td>\n      <td>0.0</td>\n      <td>1.0</td>\n      <td>0.0</td>\n    </tr>\n    <tr>\n      <th>15997</th>\n      <td>38.0</td>\n      <td>22.0</td>\n      <td>8.0</td>\n      <td>12.0</td>\n      <td>1968.0</td>\n      <td>2.0</td>\n      <td>6.0</td>\n      <td>1.509487e+07</td>\n      <td>219609.0</td>\n      <td>0.300284</td>\n      <td>...</td>\n      <td>0.0</td>\n      <td>0.0</td>\n      <td>0.0</td>\n      <td>0.0</td>\n      <td>0.0</td>\n      <td>0.0</td>\n      <td>0.0</td>\n      <td>0.0</td>\n      <td>1.0</td>\n      <td>0.0</td>\n    </tr>\n    <tr>\n      <th>15998</th>\n      <td>67.0</td>\n      <td>43.0</td>\n      <td>16.0</td>\n      <td>16.0</td>\n      <td>1976.0</td>\n      <td>3.0</td>\n      <td>7.0</td>\n      <td>1.428699e+07</td>\n      <td>157010.0</td>\n      <td>0.389354</td>\n      <td>...</td>\n      <td>0.0</td>\n      <td>0.0</td>\n      <td>0.0</td>\n      <td>0.0</td>\n      <td>0.0</td>\n      <td>0.0</td>\n      <td>1.0</td>\n      <td>0.0</td>\n      <td>0.0</td>\n      <td>0.0</td>\n    </tr>\n    <tr>\n      <th>15999</th>\n      <td>83.0</td>\n      <td>53.0</td>\n      <td>23.0</td>\n      <td>24.0</td>\n      <td>2011.0</td>\n      <td>4.0</td>\n      <td>10.0</td>\n      <td>2.615514e+07</td>\n      <td>178264.0</td>\n      <td>0.137846</td>\n      <td>...</td>\n      <td>0.0</td>\n      <td>0.0</td>\n      <td>0.0</td>\n      <td>0.0</td>\n      <td>0.0</td>\n      <td>0.0</td>\n      <td>1.0</td>\n      <td>0.0</td>\n      <td>0.0</td>\n      <td>0.0</td>\n    </tr>\n  </tbody>\n</table>\n<p>16000 rows × 1065 columns</p>\n</div>"
          },
          "metadata": {},
          "execution_count": 16
        }
      ],
      "source": [
        "df_train"
      ]
    },
    {
      "cell_type": "code",
      "metadata": {
        "id": "_cJ6SBqUKC4C"
      },
      "source": [
        "month_year = (df_id_time.timestamp.dt.month + df_id_time.timestamp.dt.year * 100)\n",
        "month_year_cnt_map = month_year.value_counts().to_dict()\n",
        "df[\"month_year_cnt\"] = month_year.map(month_year_cnt_map)\n",
        "\n",
        "week_year = (df_id_time.timestamp.dt.weekofyear + df_id_time.timestamp.dt.year * 100)\n",
        "week_year_cnt_map = week_year.value_counts().to_dict()\n",
        "df[\"week_year_cnt\"] = week_year.map(week_year_cnt_map)"
      ],
      "execution_count": 17,
      "outputs": [
        {
          "output_type": "error",
          "ename": "NameError",
          "evalue": "name 'df_id_time' is not defined",
          "traceback": [
            "\u001b[0;31m---------------------------------------------------------------------------\u001b[0m",
            "\u001b[0;31mNameError\u001b[0m                                 Traceback (most recent call last)",
            "\u001b[0;32m<ipython-input-17-42c15ef86c0b>\u001b[0m in \u001b[0;36m<module>\u001b[0;34m\u001b[0m\n\u001b[0;32m----> 1\u001b[0;31m \u001b[0mmonth_year\u001b[0m \u001b[0;34m=\u001b[0m \u001b[0;34m(\u001b[0m\u001b[0mdf_id_time\u001b[0m\u001b[0;34m.\u001b[0m\u001b[0mtimestamp\u001b[0m\u001b[0;34m.\u001b[0m\u001b[0mdt\u001b[0m\u001b[0;34m.\u001b[0m\u001b[0mmonth\u001b[0m \u001b[0;34m+\u001b[0m \u001b[0mdf_id_time\u001b[0m\u001b[0;34m.\u001b[0m\u001b[0mtimestamp\u001b[0m\u001b[0;34m.\u001b[0m\u001b[0mdt\u001b[0m\u001b[0;34m.\u001b[0m\u001b[0myear\u001b[0m \u001b[0;34m*\u001b[0m \u001b[0;36m100\u001b[0m\u001b[0;34m)\u001b[0m\u001b[0;34m\u001b[0m\u001b[0;34m\u001b[0m\u001b[0m\n\u001b[0m\u001b[1;32m      2\u001b[0m \u001b[0mmonth_year_cnt_map\u001b[0m \u001b[0;34m=\u001b[0m \u001b[0mmonth_year\u001b[0m\u001b[0;34m.\u001b[0m\u001b[0mvalue_counts\u001b[0m\u001b[0;34m(\u001b[0m\u001b[0;34m)\u001b[0m\u001b[0;34m.\u001b[0m\u001b[0mto_dict\u001b[0m\u001b[0;34m(\u001b[0m\u001b[0;34m)\u001b[0m\u001b[0;34m\u001b[0m\u001b[0;34m\u001b[0m\u001b[0m\n\u001b[1;32m      3\u001b[0m \u001b[0mdf\u001b[0m\u001b[0;34m[\u001b[0m\u001b[0;34m\"month_year_cnt\"\u001b[0m\u001b[0;34m]\u001b[0m \u001b[0;34m=\u001b[0m \u001b[0mmonth_year\u001b[0m\u001b[0;34m.\u001b[0m\u001b[0mmap\u001b[0m\u001b[0;34m(\u001b[0m\u001b[0mmonth_year_cnt_map\u001b[0m\u001b[0;34m)\u001b[0m\u001b[0;34m\u001b[0m\u001b[0;34m\u001b[0m\u001b[0m\n\u001b[1;32m      4\u001b[0m \u001b[0;34m\u001b[0m\u001b[0m\n\u001b[1;32m      5\u001b[0m \u001b[0mweek_year\u001b[0m \u001b[0;34m=\u001b[0m \u001b[0;34m(\u001b[0m\u001b[0mdf_id_time\u001b[0m\u001b[0;34m.\u001b[0m\u001b[0mtimestamp\u001b[0m\u001b[0;34m.\u001b[0m\u001b[0mdt\u001b[0m\u001b[0;34m.\u001b[0m\u001b[0mweekofyear\u001b[0m \u001b[0;34m+\u001b[0m \u001b[0mdf_id_time\u001b[0m\u001b[0;34m.\u001b[0m\u001b[0mtimestamp\u001b[0m\u001b[0;34m.\u001b[0m\u001b[0mdt\u001b[0m\u001b[0;34m.\u001b[0m\u001b[0myear\u001b[0m \u001b[0;34m*\u001b[0m \u001b[0;36m100\u001b[0m\u001b[0;34m)\u001b[0m\u001b[0;34m\u001b[0m\u001b[0;34m\u001b[0m\u001b[0m\n",
            "\u001b[0;31mNameError\u001b[0m: name 'df_id_time' is not defined"
          ]
        }
      ]
    },
    {
      "cell_type": "markdown",
      "metadata": {
        "id": "pCajk45_KDSz"
      },
      "source": [
        "Добавьте следюущие дополнительные признаки:\n",
        "* Месяц (из колонки `timestamp`)\n",
        "* День недели (из колонки `timestamp`)\n",
        "* Отношение \"этаж / максимальный этаж в здании\" (колонки `floor` и `max_floor`)\n",
        "* Отношение \"площадь кухни / площадь квартиры\" (колонки `kitchen_sq` и `full_sq`)\n",
        "\n",
        "По желанию можно добавить и другие признаки."
      ]
    },
    {
      "cell_type": "code",
      "metadata": {
        "id": "dXZkoUL8Kve6"
      },
      "source": [
        "df['month'] = df_id_time.timestamp.dt.month\n",
        "df['weekday'] = df_id_time.timestamp.dt.weekday\n",
        "df['perc_floor'] = (df.floor / df.max_floor).apply(float)\n",
        "df['perc_kitchen'] = (df.kitch_sq / df.full_sq).apply(float)\n",
        "display(df[['month', 'weekday', 'perc_floor', 'perc_kitchen']])"
      ],
      "execution_count": null,
      "outputs": []
    },
    {
      "cell_type": "code",
      "execution_count": null,
      "metadata": {},
      "outputs": [],
      "source": [
        "df = df.replace([np.inf, -np.inf], np.nan)"
      ]
    },
    {
      "cell_type": "code",
      "execution_count": null,
      "metadata": {},
      "outputs": [],
      "source": [
        "df.isna().sum().sum()"
      ]
    },
    {
      "cell_type": "markdown",
      "metadata": {
        "id": "_-jCowvWLiXZ"
      },
      "source": [
        "Разделите выборку на обучающую и тестовую еще раз (потому что дополнительные признаки созданы для исходной выборки)."
      ]
    },
    {
      "cell_type": "code",
      "execution_count": null,
      "metadata": {},
      "outputs": [],
      "source": [
        "si = SimpleImputer(missing_values=np.nan, strategy='most_frequent')\n",
        "df = pd.DataFrame(data=si.fit_transform(df), columns=df.columns)\n",
        "df.head()"
      ]
    },
    {
      "cell_type": "code",
      "metadata": {
        "id": "0f-vO3LcLhdf"
      },
      "source": [
        "df_train = df.iloc[:int(df.shape[0] * 0.8), :]\n",
        "df_test = df.iloc[int(df.shape[0] * 0.8):, :]\n",
        "display(df.shape)\n",
        "display(df_train.shape)\n",
        "display(df_test.shape)\n",
        "y_train = df_train['price']\n",
        "X_train = df_train.drop(['price'], axis=1)\n",
        "y_test = df_test['price']\n",
        "X_test = df_test.drop(['price'], axis=1)"
      ],
      "execution_count": null,
      "outputs": []
    },
    {
      "cell_type": "markdown",
      "metadata": {
        "id": "CPtzkpFEvBw9"
      },
      "source": [
        "### Model Selection (3 балла)\n",
        "\n",
        "Посмотрите, какого качества можно добиться если использовать разные модели:\n",
        "* `DecisionTreeRegressor` из `sklearn`\n",
        "* `RandomForestRegressor` из `sklearn`\n",
        "* `CatBoostRegressor`\n",
        "\n",
        "Также вы можете попробовать линейные модели, другие бустинги (`LigthGBM` и `XGBoost`).\n",
        "\n",
        "Почти все библиотеки поддерживают удобный способ подбора гиперпараметров: посмотрите как это делать в [sklearn](https://scikit-learn.org/stable/modules/generated/sklearn.model_selection.GridSearchCV.html) или в [catboost](https://catboost.ai/docs/concepts/python-reference_catboostregressor_grid_search.html).\n",
        "\n",
        "Проверяйте качество каждой модели на тестовой выборке и выберите наилучшую."
      ]
    },
    {
      "cell_type": "code",
      "metadata": {
        "id": "PZstXx6uNRfE"
      },
      "source": [
        "dtr = DecisionTreeRegressor()\n",
        "dtr.fit(X_train, y_train)"
      ],
      "execution_count": 23,
      "outputs": [
        {
          "output_type": "execute_result",
          "data": {
            "text/plain": [
              "DecisionTreeRegressor()"
            ]
          },
          "metadata": {},
          "execution_count": 23
        }
      ]
    },
    {
      "cell_type": "code",
      "execution_count": 24,
      "metadata": {},
      "outputs": [
        {
          "output_type": "display_data",
          "data": {
            "text/plain": "'Mean absolute error: '"
          },
          "metadata": {}
        },
        {
          "output_type": "display_data",
          "data": {
            "text/plain": "1954685.9380833334"
          },
          "metadata": {}
        },
        {
          "output_type": "display_data",
          "data": {
            "text/plain": "'R2 error'"
          },
          "metadata": {}
        },
        {
          "output_type": "display_data",
          "data": {
            "text/plain": "0.4449457252829141"
          },
          "metadata": {}
        }
      ],
      "source": [
        "y_pred = dtr.predict(X_test)\n",
        "display('Mean absolute error: ')\n",
        "display(mean_absolute_error(y_test, y_pred))\n",
        "display('R2 error')\n",
        "display(r2_score(y_test, y_pred))"
      ]
    },
    {
      "cell_type": "code",
      "execution_count": 25,
      "metadata": {},
      "outputs": [
        {
          "output_type": "execute_result",
          "data": {
            "text/plain": [
              "['__abstractmethods__',\n",
              " '__class__',\n",
              " '__delattr__',\n",
              " '__dict__',\n",
              " '__dir__',\n",
              " '__doc__',\n",
              " '__eq__',\n",
              " '__format__',\n",
              " '__ge__',\n",
              " '__getattribute__',\n",
              " '__getstate__',\n",
              " '__gt__',\n",
              " '__hash__',\n",
              " '__init__',\n",
              " '__init_subclass__',\n",
              " '__le__',\n",
              " '__lt__',\n",
              " '__module__',\n",
              " '__ne__',\n",
              " '__new__',\n",
              " '__reduce__',\n",
              " '__reduce_ex__',\n",
              " '__repr__',\n",
              " '__setattr__',\n",
              " '__setstate__',\n",
              " '__sizeof__',\n",
              " '__str__',\n",
              " '__subclasshook__',\n",
              " '__weakref__',\n",
              " '_abc_impl',\n",
              " '_check_n_features',\n",
              " '_compute_partial_dependence_recursion',\n",
              " '_estimator_type',\n",
              " '_get_param_names',\n",
              " '_get_tags',\n",
              " '_more_tags',\n",
              " '_prune_tree',\n",
              " '_repr_html_',\n",
              " '_repr_html_inner',\n",
              " '_repr_mimebundle_',\n",
              " '_validate_X_predict',\n",
              " '_validate_data',\n",
              " 'apply',\n",
              " 'cost_complexity_pruning_path',\n",
              " 'decision_path',\n",
              " 'feature_importances_',\n",
              " 'fit',\n",
              " 'get_depth',\n",
              " 'get_n_leaves',\n",
              " 'get_params',\n",
              " 'predict',\n",
              " 'score',\n",
              " 'set_params']"
            ]
          },
          "metadata": {},
          "execution_count": 25
        }
      ],
      "source": [
        "dir(DecisionTreeRegressor)"
      ]
    },
    {
      "source": [
        "** Получилось даже хуже (( Попробуем подобрать хорошие гиперпараметры **"
      ],
      "cell_type": "markdown",
      "metadata": {}
    },
    {
      "cell_type": "code",
      "execution_count": 26,
      "metadata": {},
      "outputs": [
        {
          "output_type": "display_data",
          "data": {
            "text/plain": "(20000, 1064)"
          },
          "metadata": {}
        },
        {
          "output_type": "display_data",
          "data": {
            "text/plain": "(20000,)"
          },
          "metadata": {}
        }
      ],
      "source": [
        "X = df.drop(['price'], axis=1)\n",
        "y = df['price']\n",
        "display(X.shape)\n",
        "display(y.shape)"
      ]
    },
    {
      "cell_type": "code",
      "execution_count": 27,
      "metadata": {},
      "outputs": [
        {
          "output_type": "display_data",
          "data": {
            "text/plain": "'Mean absolute error: '"
          },
          "metadata": {}
        },
        {
          "output_type": "display_data",
          "data": {
            "text/plain": "1814368.391304897"
          },
          "metadata": {}
        },
        {
          "output_type": "display_data",
          "data": {
            "text/plain": "'R2 error'"
          },
          "metadata": {}
        },
        {
          "output_type": "display_data",
          "data": {
            "text/plain": "0.5389301232769053"
          },
          "metadata": {}
        }
      ],
      "source": [
        "dtr = DecisionTreeRegressor(min_samples_leaf = 10, max_depth = 60)\n",
        "dtr.fit(X_train, y_train)\n",
        "y_pred = dtr.predict(X_test)\n",
        "display('Mean absolute error: ')\n",
        "display(mean_absolute_error(y_test, y_pred))\n",
        "display('R2 error')\n",
        "display(r2_score(y_test, y_pred))"
      ]
    },
    {
      "source": [],
      "cell_type": "markdown",
      "metadata": {}
    },
    {
      "cell_type": "code",
      "execution_count": 34,
      "metadata": {},
      "outputs": [
        {
          "output_type": "display_data",
          "data": {
            "text/plain": "GridSearchCV(cv=5, estimator=DecisionTreeRegressor(), n_jobs=-1,\n             param_grid={'max_depth': [10, 17, 20, 23],\n                         'min_samples_leaf': [17, 20, 23, 25, 27]})"
          },
          "metadata": {}
        },
        {
          "output_type": "execute_result",
          "data": {
            "text/plain": [
              "{'max_depth': 10, 'min_samples_leaf': 27}"
            ]
          },
          "metadata": {},
          "execution_count": 34
        }
      ],
      "source": [
        "gscv = GridSearchCV(estimator=DecisionTreeRegressor(), param_grid={'min_samples_leaf': [17, 20, 23, 25, 27], 'max_depth': [10, 17, 20, 23]}, cv=5, n_jobs=-1)\n",
        "display(gscv)\n",
        "grid_result = gscv.fit(X, y)\n",
        "best_params = grid_result.best_params_\n",
        "best_params"
      ]
    },
    {
      "cell_type": "code",
      "execution_count": 35,
      "metadata": {},
      "outputs": [
        {
          "output_type": "display_data",
          "data": {
            "text/plain": "'Mean absolute error: '"
          },
          "metadata": {}
        },
        {
          "output_type": "display_data",
          "data": {
            "text/plain": "1695259.1970925604"
          },
          "metadata": {}
        },
        {
          "output_type": "display_data",
          "data": {
            "text/plain": "'R2 error'"
          },
          "metadata": {}
        },
        {
          "output_type": "display_data",
          "data": {
            "text/plain": "0.583837718700186"
          },
          "metadata": {}
        },
        {
          "output_type": "stream",
          "name": "stdout",
          "text": [
            "CPU times: user 1.54 s, sys: 33.6 ms, total: 1.57 s\nWall time: 1.58 s\n"
          ]
        }
      ],
      "source": [
        "%%time\n",
        "dtr = DecisionTreeRegressor(min_samples_leaf = best_params['min_samples_leaf'], max_depth = best_params['max_depth'])\n",
        "dtr.fit(X_train, y_train)\n",
        "y_pred = dtr.predict(X_test)\n",
        "display('Mean absolute error: ')\n",
        "display(mean_absolute_error(y_test, y_pred))\n",
        "display('R2 error')\n",
        "display(r2_score(y_test, y_pred))"
      ]
    },
    {
      "source": [
        "** Получилось неплохо так улучшить результат **"
      ],
      "cell_type": "markdown",
      "metadata": {}
    },
    {
      "cell_type": "code",
      "execution_count": null,
      "metadata": {},
      "outputs": [],
      "source": []
    },
    {
      "cell_type": "markdown",
      "metadata": {
        "id": "JxQnozbtvD6x"
      },
      "source": [
        "### Ensemble v.1 (3 балла)\n",
        "\n",
        "Ансамбли иногда оказываются лучше чем одна большая модель.\n",
        "\n",
        "В колонке `product_type` содержится информация о том, каким является объявление: `Investment` (продажа квартиры как инвестиции) или `OwnerOccupier` (продажа квартиры для жилья). Логично предположить, что если сделать по модели на каждый из этих типов, то качество будет выше.\n",
        "\n",
        "Обучите свои лучшие модели на отдельно на `Investment` и `OwnerOccupier` (т.е. у вас будет `model_invest`, обученная на `(invest_train_X, invest_train_Y)` и `model_owner`, обученная на `(owner_train_X, owner_train_Y)`) и проверьте качество на отложенной выборке (т.е. на исходном `test_split`)."
      ]
    },
    {
      "cell_type": "code",
      "execution_count": null,
      "metadata": {},
      "outputs": [],
      "source": []
    },
    {
      "cell_type": "code",
      "metadata": {
        "id": "HeJOCYa-O_VE"
      },
      "source": [],
      "execution_count": null,
      "outputs": []
    },
    {
      "cell_type": "markdown",
      "metadata": {
        "id": "J8t-klaK2A6s"
      },
      "source": [
        "### (*) Ensemble v.2 (дополнительно, 2 балла)\n",
        "\n",
        "Попробуйте сделать для `Investment` более сложную модель: обучите `CatBoostRegressor` и `HuberRegressor` из `sklearn`, а затем сложите их предсказания с весами `w_1` и `w_2` (выберите веса сами; сумма весов равняется 1)."
      ]
    },
    {
      "cell_type": "code",
      "metadata": {
        "id": "JOKD-l8HuOgM"
      },
      "source": [],
      "execution_count": null,
      "outputs": []
    }
  ]
}