{
 "cells": [
  {
   "cell_type": "markdown",
   "metadata": {},
   "source": [
    "Если вы дошли до этого момента, то уже сделали половину пути. Каждую ячейку можно выполнить,\n",
    " нажав Shift+Enter или кнопку Run на панели сверху. Всё, что она выведет будет показано ниже\n",
    "  этой ячейки. Также каждая ячейка выводит результат последней строки."
   ]
  },
  {
   "cell_type": "markdown",
   "metadata": {},
   "source": [
    "Ваша задача написать код, в местах помеченных \"### ваш код здесь\" так, чтобы всё работало правильно"
   ]
  },
  {
   "cell_type": "code",
   "execution_count": 1,
   "metadata": {},
   "outputs": [
    {
     "output_type": "stream",
     "name": "stdout",
     "text": [
      "Requirement already satisfied: numpy in /Library/Frameworks/Python.framework/Versions/3.8/lib/python3.8/site-packages (1.18.4)\n",
      "\u001b[33mWARNING: You are using pip version 20.1; however, version 20.2.4 is available.\n",
      "You should consider upgrading via the '/Library/Frameworks/Python.framework/Versions/3.8/bin/python3.8 -m pip install --upgrade pip' command.\u001b[0m\n",
      "Requirement already satisfied: matplotlib in /Library/Frameworks/Python.framework/Versions/3.8/lib/python3.8/site-packages (3.2.1)\n",
      "Requirement already satisfied: kiwisolver>=1.0.1 in /Library/Frameworks/Python.framework/Versions/3.8/lib/python3.8/site-packages (from matplotlib) (1.2.0)\n",
      "Requirement already satisfied: numpy>=1.11 in /Library/Frameworks/Python.framework/Versions/3.8/lib/python3.8/site-packages (from matplotlib) (1.18.4)\n",
      "Requirement already satisfied: pyparsing!=2.0.4,!=2.1.2,!=2.1.6,>=2.0.1 in /Library/Frameworks/Python.framework/Versions/3.8/lib/python3.8/site-packages (from matplotlib) (2.4.7)\n",
      "Requirement already satisfied: cycler>=0.10 in /Library/Frameworks/Python.framework/Versions/3.8/lib/python3.8/site-packages (from matplotlib) (0.10.0)\n",
      "Requirement already satisfied: python-dateutil>=2.1 in /Library/Frameworks/Python.framework/Versions/3.8/lib/python3.8/site-packages (from matplotlib) (2.8.1)\n",
      "Requirement already satisfied: six in /Library/Frameworks/Python.framework/Versions/3.8/lib/python3.8/site-packages (from cycler>=0.10->matplotlib) (1.14.0)\n",
      "\u001b[33mWARNING: You are using pip version 20.1; however, version 20.2.4 is available.\n",
      "You should consider upgrading via the '/Library/Frameworks/Python.framework/Versions/3.8/bin/python3.8 -m pip install --upgrade pip' command.\u001b[0m\n",
      "Requirement already satisfied: sklearn in /Library/Frameworks/Python.framework/Versions/3.8/lib/python3.8/site-packages (0.0)\n",
      "Requirement already satisfied: scikit-learn in /Library/Frameworks/Python.framework/Versions/3.8/lib/python3.8/site-packages (from sklearn) (0.23.2)\n",
      "Requirement already satisfied: scipy>=0.19.1 in /Library/Frameworks/Python.framework/Versions/3.8/lib/python3.8/site-packages (from scikit-learn->sklearn) (1.4.1)\n",
      "Requirement already satisfied: threadpoolctl>=2.0.0 in /Library/Frameworks/Python.framework/Versions/3.8/lib/python3.8/site-packages (from scikit-learn->sklearn) (2.1.0)\n",
      "Requirement already satisfied: joblib>=0.11 in /Library/Frameworks/Python.framework/Versions/3.8/lib/python3.8/site-packages (from scikit-learn->sklearn) (0.17.0)\n",
      "Requirement already satisfied: numpy>=1.13.3 in /Library/Frameworks/Python.framework/Versions/3.8/lib/python3.8/site-packages (from scikit-learn->sklearn) (1.18.4)\n",
      "\u001b[33mWARNING: You are using pip version 20.1; however, version 20.2.4 is available.\n",
      "You should consider upgrading via the '/Library/Frameworks/Python.framework/Versions/3.8/bin/python3.8 -m pip install --upgrade pip' command.\u001b[0m\n"
     ]
    }
   ],
   "source": [
    "!pip install numpy\n",
    "!pip install matplotlib\n",
    "!pip install sklearn"
   ]
  },
  {
   "cell_type": "code",
   "execution_count": 2,
   "metadata": {},
   "outputs": [],
   "source": [
    "# Подробнее со следующими библиотеками вы познакомитесь на следующих занятиях. \n",
    "# Для решения задания потребуется лишь знания чистого python.\n",
    "import numpy as np\n",
    "import matplotlib.pyplot as plt\n",
    "from sklearn.datasets import load_digits\n",
    "from sklearn.ensemble import RandomForestClassifier\n",
    "\n",
    "%matplotlib inline"
   ]
  },
  {
   "cell_type": "markdown",
   "metadata": {},
   "source": [
    "### K-means"
   ]
  },
  {
   "cell_type": "markdown",
   "metadata": {},
   "source": [
    "Алгоритм k-means применяется для задачи кластеризации. Напомню его основные шаги.\n",
    "Пусть у нас имеется N точек на плоскости ${(x_1,y_1),...,(x_N,y_N)}$\n",
    "Допустим мы хотим разбить их на k=3 кластера.\n",
    "1. Выбираем k=3 случайные точки из этого множества. Говорим, что они являются теперь центрами наших кластеров.\n",
    "2. Для каждой из оставшихся точек смотрим, к какому из центров она ближе и определяем её в этот кластер.\n",
    "3. У нас получилось разбить точки на 3 кластера. Естественно это не оптимальное разбиение.\n",
    " Найдём новые центры кластеров. Например, если точки ${(x_{i_1}, y_{i_1}),...,(x_{i_n}, y_{i_n})}$ попали\n",
    " в один кластер, то их новый центр будет имеет координаты:\n",
    "$$x_M=\\frac{x_{i_1}+...+x_{i_n}}{n}$$\n",
    "$$y_M=\\frac{y_{i_1}+...+y_{i_n}}{n}$$\n",
    "4. Переходим к шагу 2 и продолжаем до тех пор, пока кластеры не перестанут меняться."
   ]
  },
  {
   "cell_type": "markdown",
   "metadata": {},
   "source": [
    "Сгенерируем искусственно 3 кластера случайных точек."
   ]
  },
  {
   "cell_type": "code",
   "execution_count": 3,
   "metadata": {},
   "outputs": [],
   "source": [
    "points = []\n",
    "\n",
    "# Параметры кластеров\n",
    "num_clusters = 3\n",
    "cluster_size = 20\n",
    "\n",
    "# Центры кластеров\n",
    "means_x = [1., 1.2, 0.8]\n",
    "means_y = [0.5, 0.6, 0.5]\n",
    "\n",
    "# Разброс\n",
    "std = 0.1\n",
    "\n",
    "for k in range(num_clusters):\n",
    "    for i in range(cluster_size):\n",
    "        x_i = np.random.normal(loc=means_x[k], scale=std)\n",
    "        y_i = np.random.normal(loc=means_y[k], scale=std)\n",
    "        points.append((x_i, y_i))"
   ]
  },
  {
   "cell_type": "markdown",
   "metadata": {},
   "source": [
    "Каждый цвет - отдельный кластер. Но у нас не будет этих цветов, а только координаты точек."
   ]
  },
  {
   "cell_type": "code",
   "execution_count": 46,
   "metadata": {},
   "outputs": [
    {
     "data": {
      "text/plain": [
       "<matplotlib.collections.PathCollection at 0x7f97972a8a90>"
      ]
     },
     "execution_count": 46,
     "metadata": {},
     "output_type": "execute_result"
    },
    {
     "data": {
      "image/png": "[encoded data removed]",
      "text/plain": [
       "<Figure size 432x288 with 1 Axes>"
      ]
     },
     "metadata": {
      "needs_background": "light"
     },
     "output_type": "display_data"
    }
   ],
   "source": [
    "points_x = list(map(lambda x: x[0], points))\n",
    "points_y = list(map(lambda x: x[1], points))\n",
    "colors = ['r'] * cluster_size + ['g'] * cluster_size + ['b'] * cluster_size\n",
    "plt.scatter(x=points_x, y=points_y, c=colors)"
   ]
  },
  {
   "cell_type": "code",
   "execution_count": 47,
   "metadata": {},
   "outputs": [],
   "source": [
    "# Код алгоритма\n",
    "\n",
    "def vec_len(vec1, vec2):\n",
    "    if len(vec1) != len(vec2):\n",
    "        raise ValueError('Vectors n=must be same length!')\n",
    "    return ((vec2[0] - vec1[0]) ** 2 + (vec2[1] - vec1[1]) ** 2) ** 0.5\n",
    "\n",
    "def k_means(points, num_clusters):\n",
    "    \"\"\"\n",
    "    @param points: список из пар координат точек\n",
    "    @param num_clusters: число кластеров, на которое необходимо поделить\n",
    "\n",
    "    @return: номера кластеров и их центры\n",
    "    \"\"\"\n",
    "    num_points = len(points)\n",
    "    # Выбираем начальные центры кластеров (просто первые num_clusters точек)\n",
    "    centers = points[:num_clusters]\n",
    "    # В качестве результата будет массив с номерами кластеров для каждой точки\n",
    "    result = [-1] * num_points\n",
    "    # Предыдущая копия массива result, чтобы сравнивать, поменялось что-то или нет\n",
    "    prev_result = None\n",
    "    \n",
    "    # Выведем на экран стартовую ситуацию\n",
    "    print(\"Входные данные\")\n",
    "    points_x = list(map(lambda x: x[0], points))\n",
    "    points_y = list(map(lambda x: x[1], points))\n",
    "    plt.scatter(x=points_x, y=points_y)\n",
    "    plt.show()\n",
    "    \n",
    "    it_num = 1\n",
    "    # Работаем до тех пор, пока кластеры не перестанут меняться\n",
    "    while result != prev_result:\n",
    "        prev_result = list(result)\n",
    "        # Определяем каждую точку к кластеру\n",
    "        ### ваш код здесь\n",
    "        for i in range(len(points)):\n",
    "            mn = 1e9\n",
    "            ind = -1\n",
    "            for j in range(len(centers)):\n",
    "                dist = vec_len(points[i], centers[j])\n",
    "                if dist < mn:\n",
    "                    mn = dist\n",
    "                    ind = j\n",
    "            result[i] = ind\n",
    "        \n",
    "        # Меняем центры кластеров\n",
    "        ### ваш код здесь\n",
    "        \n",
    "        middles = [[0, 0]] * len(centers)\n",
    "        cnts = [0] * len(centers)\n",
    "        for i in range(i):\n",
    "            middles[result[i]][0] += points[i][0]\n",
    "            middles[result[i]][1] += points[i][1]\n",
    "            cnts[result[i]] += 1\n",
    "        \n",
    "        for i in range(len(middles)):\n",
    "            middles[i][0] /= cnts[result[i]]\n",
    "            middles[i][1] /= cnts[result[i]]\n",
    "        \n",
    "        # Выведем то, что у нас получилось\n",
    "        print(\"Итерация №{}\".format(it_num))\n",
    "        it_num += 1\n",
    "        points_x = list(map(lambda x: x[0], points))\n",
    "        points_y = list(map(lambda x: x[1], points))    \n",
    "        plt.scatter(x=points_x, y=points_y, c=result)\n",
    "        plt.show()\n",
    "    return result, centers    "
   ]
  },
  {
   "cell_type": "markdown",
   "metadata": {},
   "source": [
    "Выведем полученный результат"
   ]
  },
  {
   "cell_type": "code",
   "execution_count": 48,
   "metadata": {
    "scrolled": false
   },
   "outputs": [
    {
     "name": "stdout",
     "output_type": "stream",
     "text": [
      "Входные данные\n"
     ]
    },
    {
     "data": {
      "image/png": "[encoded data removed]",
      "text/plain": [
       "<Figure size 432x288 with 1 Axes>"
      ]
     },
     "metadata": {
      "needs_background": "light"
     },
     "output_type": "display_data"
    },
    {
     "name": "stdout",
     "output_type": "stream",
     "text": [
      "Итерация №1\n"
     ]
    },
    {
     "data": {
      "image/png": "[encoded data removed]",
      "text/plain": [
       "<Figure size 432x288 with 1 Axes>"
      ]
     },
     "metadata": {
      "needs_background": "light"
     },
     "output_type": "display_data"
    },
    {
     "name": "stdout",
     "output_type": "stream",
     "text": [
      "Итерация №2\n"
     ]
    },
    {
     "data": {
      "image/png": "[encoded data removed]",
      "text/plain": [
       "<Figure size 432x288 with 1 Axes>"
      ]
     },
     "metadata": {
      "needs_background": "light"
     },
     "output_type": "display_data"
    },
    {
     "name": "stdout",
     "output_type": "stream",
     "text": [
      "Истинные центры кластеров:\n",
      "(1.0, 0.5)\n",
      "(1.2, 0.6)\n",
      "(0.8, 0.5)\n",
      "Полученные центры кластеров. Порядок может поменяться, а значения могут немного отличаться:\n",
      "(1.1, 0.6)\n",
      "(1.2, 0.5)\n",
      "(0.8, 0.3)\n"
     ]
    }
   ],
   "source": [
    "res, centers = k_means(points, 3)\n",
    "print(\"Истинные центры кластеров:\")\n",
    "for i in range(num_clusters):\n",
    "    print(\"({0:.1f}, {1:.1f})\".format(means_x[i], means_y[i]))\n",
    "print(\"Полученные центры кластеров. Порядок может поменяться, а значения могут немного отличаться:\")\n",
    "for i in range(num_clusters):\n",
    "    print(\"({0:.1f}, {1:.1f})\".format(centers[i][0], centers[i][1]))"
   ]
  },
  {
   "cell_type": "markdown",
   "metadata": {},
   "source": [
    "### MSE"
   ]
  },
  {
   "cell_type": "markdown",
   "metadata": {},
   "source": [
    "Напомним формулу для MSE между двумя массивами длины n. Необходимо проверить, насколько сильно они отличаются:\n",
    "$$MSE(x, y) = \\frac{1}{n}((x_1-y_1)^2+...+(x_n-y_n)^2)$$"
   ]
  },
  {
   "cell_type": "code",
   "execution_count": 49,
   "metadata": {},
   "outputs": [],
   "source": [
    "def mse(x, y):\n",
    "    \"\"\"\n",
    "    @param x, y: массивы одинаковой длины\n",
    "    @return: число, результат их MSE\n",
    "    \"\"\"\n",
    "    assert len(x) == len(y)\n",
    "    ### ваш код здесь\n",
    "    n = len(x)\n",
    "    ans = 0\n",
    "    for i in range(n):\n",
    "        ans += (x[i] - y[i])**2\n",
    "    ans /= n\n",
    "    return ans\n",
    "    "
   ]
  },
  {
   "cell_type": "markdown",
   "metadata": {},
   "source": [
    "Проверим на простом примере. Должно получиться 5.0:"
   ]
  },
  {
   "cell_type": "code",
   "execution_count": 50,
   "metadata": {},
   "outputs": [
    {
     "data": {
      "text/plain": [
       "5.0"
      ]
     },
     "execution_count": 50,
     "metadata": {},
     "output_type": "execute_result"
    }
   ],
   "source": [
    "x = [1, 3, 2, 4, 5, 6]\n",
    "y = [2, 4, 3, 5, 6, 1]\n",
    "mse(x, y)"
   ]
  },
  {
   "cell_type": "markdown",
   "metadata": {},
   "source": [
    "Теперь проверим на более сложном примере.  Далее в коде ничего изменять не надо, просто посмотрите, как отличаются ошибки алгоритма, который всегда выдаёт 0, а также более продвинутого алгоритма."
   ]
  },
  {
   "cell_type": "markdown",
   "metadata": {},
   "source": [
    "В качестве данных у нас картинки с рукописными цифрами из sklearn. Они небольшого размера, но, в принципе, все числа различимы. Это задача классификации с 10 классами (цифры от 0 до 9)."
   ]
  },
  {
   "cell_type": "code",
   "execution_count": 3,
   "metadata": {},
   "outputs": [
    {
     "name": "stdout",
     "output_type": "stream",
     "text": [
      "7\n"
     ]
    },
    {
     "data": {
      "text/plain": [
       "<Figure size 432x288 with 0 Axes>"
      ]
     },
     "metadata": {},
     "output_type": "display_data"
    },
    {
     "data": {
      "image/png": "[encoded data removed]",
      "text/plain": [
       "<Figure size 288x288 with 1 Axes>"
      ]
     },
     "metadata": {
      "needs_background": "light"
     },
     "output_type": "display_data"
    }
   ],
   "source": [
    "digits = load_digits()\n",
    "plt.gray()\n",
    "print(digits.target[17])\n",
    "plt.matshow(digits.images[17])\n",
    "plt.show()"
   ]
  },
  {
   "cell_type": "markdown",
   "metadata": {},
   "source": [
    "Каждая черно-белая картинка это двухмерный массив 8x8, который мы будем использовать в качестве признаков. Первые 1500 цифр возьмём в качестве обучающей выборки, а оставшиеся в качестве тестовой."
   ]
  },
  {
   "cell_type": "code",
   "execution_count": 4,
   "metadata": {},
   "outputs": [
    {
     "data": {
      "text/plain": [
       "(1797, 64)"
      ]
     },
     "metadata": {},
     "output_type": "display_data"
    }
   ],
   "source": [
    "X = digits.images.reshape(len(digits.images), -1)\n",
    "y = digits.target\n",
    "display(X.shape)\n",
    "# Разбиваем на обучающую и тестовую выборки\n",
    "X_train, y_train = X[:1500], y[:1500]\n",
    "X_test, y_test = X[1500:], y[1500:]\n",
    "\n",
    "# Создаём модель\n",
    "clf = RandomForestClassifier()\n",
    "# Обучаем модель\n",
    "clf = clf.fit(X_train, y_train)"
   ]
  },
  {
   "cell_type": "code",
   "execution_count": 53,
   "metadata": {},
   "outputs": [
    {
     "name": "stdout",
     "output_type": "stream",
     "text": [
      "Истинные значения первых 10 элементов:\n",
      "[1 7 4 6 3 1 3 9 1 7]\n",
      "Предсказанные значения первых 10 элементов:\n",
      "[1 7 4 6 3 1 3 9 1 7]\n"
     ]
    }
   ],
   "source": [
    "# Попробуем посмотреть, правильно ли обучилась модель\n",
    "print(\"Истинные значения первых 10 элементов:\")\n",
    "print(y_test[:10])\n",
    "y_pred = clf.predict(X_test[:10])\n",
    "print(\"Предсказанные значения первых 10 элементов:\")\n",
    "print(y_pred)"
   ]
  },
  {
   "cell_type": "markdown",
   "metadata": {},
   "source": [
    "Вполне неплохо. Выведем результат ошибки MSE на всей тестовой выборке"
   ]
  },
  {
   "cell_type": "code",
   "execution_count": 54,
   "metadata": {},
   "outputs": [
    {
     "name": "stdout",
     "output_type": "stream",
     "text": [
      "MSE=1.3535353535353536\n"
     ]
    }
   ],
   "source": [
    "y_pred = clf.predict(X_test)\n",
    "print(\"MSE={}\".format(mse(y_test, y_pred)))"
   ]
  },
  {
   "cell_type": "markdown",
   "metadata": {},
   "source": [
    "А если вместо предсказаний будем всегда выдавать 0"
   ]
  },
  {
   "cell_type": "code",
   "execution_count": 55,
   "metadata": {},
   "outputs": [
    {
     "name": "stdout",
     "output_type": "stream",
     "text": [
      "MSE=28.754208754208754\n"
     ]
    }
   ],
   "source": [
    "y_pred = [0] * len(y_test)\n",
    "print(\"MSE={}\".format(mse(y_test, y_pred)))"
   ]
  },
  {
   "cell_type": "markdown",
   "metadata": {},
   "source": [
    "Результат на лицо. "
   ]
  }
 ],
 "metadata": {
  "kernelspec": {
   "display_name": "Python 3",
   "language": "python",
   "name": "python3"
  },
  "language_info": {
   "codemirror_mode": {
    "name": "ipython",
    "version": 3
   },
   "file_extension": ".py",
   "mimetype": "text/x-python",
   "name": "python",
   "nbconvert_exporter": "python",
   "pygments_lexer": "ipython3",
   "version": "3.8.1-final"
  }
 },
 "nbformat": 4,
 "nbformat_minor": 2
}