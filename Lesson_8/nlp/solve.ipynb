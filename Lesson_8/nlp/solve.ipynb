{
 "metadata": {
  "language_info": {
   "codemirror_mode": {
    "name": "ipython",
    "version": 3
   },
   "file_extension": ".py",
   "mimetype": "text/x-python",
   "name": "python",
   "nbconvert_exporter": "python",
   "pygments_lexer": "ipython3",
   "version": "3.8.1-final"
  },
  "orig_nbformat": 2,
  "kernelspec": {
   "name": "pycharm-673de3d5",
   "display_name": "PyCharm (laboratory)",
   "language": "python"
  }
 },
 "nbformat": 4,
 "nbformat_minor": 2,
 "cells": [
  {
   "source": [
    "https://www.youtube.com/watch?v=GotYQ_wvJQI"
   ],
   "cell_type": "markdown",
   "metadata": {}
  },
  {
   "cell_type": "code",
   "execution_count": 8,
   "metadata": {},
   "outputs": [],
   "source": [
    "import pandas as pd\n",
    "import numpy as np\n",
    "from sklearn import *\n",
    "from collections import Counter\n",
    "import nltk\n",
    "import string\n",
    "import re\n",
    "from nltk import *\n",
    "from sklearn.preprocessing import *\n",
    "from sklearn.feature_extraction.text import TfidfVectorizer\n",
    "from sklearn.model_selection import train_test_split\n",
    "from sklearn.feature_extraction.text import CountVectorizer\n",
    "from sklearn.linear_model import SGDRegressor\n",
    "from sklearn.metrics import *\n",
    "from sklearn.naive_bayes import GaussianNB\n",
    "from sklearn.gaussian_process import GaussianProcessRegressor\n",
    "from sklearn.ensemble import RandomForestRegressor\n",
    "from catboost import CatBoostRegressor"
   ]
  },
  {
   "cell_type": "code",
   "execution_count": 9,
   "metadata": {},
   "outputs": [
    {
     "output_type": "execute_result",
     "data": {
      "text/plain": [
       "        Id                      Hotel_name  \\\n",
       "0        0                      Park Hyatt   \n",
       "1        1                  Hilton Chennai   \n",
       "2        2               The Royal Regency   \n",
       "3        3                          Rivera   \n",
       "4        4                      Park Hyatt   \n",
       "...    ...                             ...   \n",
       "2346  2346           Hyatt Regency Chennai   \n",
       "2347  2347                   New Woodlands   \n",
       "2348  2348               Samudra Residency   \n",
       "2349  2349           The Residency Chennai   \n",
       "2350  2350  Cloud Nine Serviced Apartments   \n",
       "\n",
       "                                           Review_Title  \\\n",
       "0                                     Refuge in Chennai   \n",
       "1                                        Hilton Chennai   \n",
       "2     No worth the rating shown in websites. Pricing...   \n",
       "3                                             Good stay   \n",
       "4                                     Needs improvement   \n",
       "...                                                 ...   \n",
       "2346                                                NaN   \n",
       "2347                                       Homely villa   \n",
       "2348                  Nice accommodation and facilities   \n",
       "2349         The Residency Good Centrally located Hotel   \n",
       "2350                Homely stay with comfort and luxury   \n",
       "\n",
       "                                            Review_Text  Rating  \n",
       "0     Excellent room and exercise facility. All arou...    80.0  \n",
       "1     Very comfortable and felt safe. \\r\\nStaff were...   100.0  \n",
       "2     Not worth the rating shown. Service is not goo...    71.0  \n",
       "3     First of all nice & courteous staff, only one ...    86.0  \n",
       "4     Overall ambience of the hotel is very good. In...    86.0  \n",
       "...                                                 ...     ...  \n",
       "2346  Most impressive service by staff in all areas....    80.0  \n",
       "2347  New woodlands chennai which gave me a homely e...    71.0  \n",
       "2348  Awesome I liked the neatness and maintenance. ...   100.0  \n",
       "2349  The overall experience was good. However the w...    80.0  \n",
       "2350  Its a very cool and luxurious cottage to stay ...    71.0  \n",
       "\n",
       "[2351 rows x 5 columns]"
      ],
      "text/html": "<div>\n<style scoped>\n    .dataframe tbody tr th:only-of-type {\n        vertical-align: middle;\n    }\n\n    .dataframe tbody tr th {\n        vertical-align: top;\n    }\n\n    .dataframe thead th {\n        text-align: right;\n    }\n</style>\n<table border=\"1\" class=\"dataframe\">\n  <thead>\n    <tr style=\"text-align: right;\">\n      <th></th>\n      <th>Id</th>\n      <th>Hotel_name</th>\n      <th>Review_Title</th>\n      <th>Review_Text</th>\n      <th>Rating</th>\n    </tr>\n  </thead>\n  <tbody>\n    <tr>\n      <th>0</th>\n      <td>0</td>\n      <td>Park Hyatt</td>\n      <td>Refuge in Chennai</td>\n      <td>Excellent room and exercise facility. All arou...</td>\n      <td>80.0</td>\n    </tr>\n    <tr>\n      <th>1</th>\n      <td>1</td>\n      <td>Hilton Chennai</td>\n      <td>Hilton Chennai</td>\n      <td>Very comfortable and felt safe. \\r\\nStaff were...</td>\n      <td>100.0</td>\n    </tr>\n    <tr>\n      <th>2</th>\n      <td>2</td>\n      <td>The Royal Regency</td>\n      <td>No worth the rating shown in websites. Pricing...</td>\n      <td>Not worth the rating shown. Service is not goo...</td>\n      <td>71.0</td>\n    </tr>\n    <tr>\n      <th>3</th>\n      <td>3</td>\n      <td>Rivera</td>\n      <td>Good stay</td>\n      <td>First of all nice &amp; courteous staff, only one ...</td>\n      <td>86.0</td>\n    </tr>\n    <tr>\n      <th>4</th>\n      <td>4</td>\n      <td>Park Hyatt</td>\n      <td>Needs improvement</td>\n      <td>Overall ambience of the hotel is very good. In...</td>\n      <td>86.0</td>\n    </tr>\n    <tr>\n      <th>...</th>\n      <td>...</td>\n      <td>...</td>\n      <td>...</td>\n      <td>...</td>\n      <td>...</td>\n    </tr>\n    <tr>\n      <th>2346</th>\n      <td>2346</td>\n      <td>Hyatt Regency Chennai</td>\n      <td>NaN</td>\n      <td>Most impressive service by staff in all areas....</td>\n      <td>80.0</td>\n    </tr>\n    <tr>\n      <th>2347</th>\n      <td>2347</td>\n      <td>New Woodlands</td>\n      <td>Homely villa</td>\n      <td>New woodlands chennai which gave me a homely e...</td>\n      <td>71.0</td>\n    </tr>\n    <tr>\n      <th>2348</th>\n      <td>2348</td>\n      <td>Samudra Residency</td>\n      <td>Nice accommodation and facilities</td>\n      <td>Awesome I liked the neatness and maintenance. ...</td>\n      <td>100.0</td>\n    </tr>\n    <tr>\n      <th>2349</th>\n      <td>2349</td>\n      <td>The Residency Chennai</td>\n      <td>The Residency Good Centrally located Hotel</td>\n      <td>The overall experience was good. However the w...</td>\n      <td>80.0</td>\n    </tr>\n    <tr>\n      <th>2350</th>\n      <td>2350</td>\n      <td>Cloud Nine Serviced Apartments</td>\n      <td>Homely stay with comfort and luxury</td>\n      <td>Its a very cool and luxurious cottage to stay ...</td>\n      <td>71.0</td>\n    </tr>\n  </tbody>\n</table>\n<p>2351 rows × 5 columns</p>\n</div>"
     },
     "metadata": {},
     "execution_count": 9
    }
   ],
   "source": [
    "df = pd.read_csv('train.csv', encoding='ISO-8859-1')\n",
    "df"
   ]
  },
  {
   "cell_type": "code",
   "execution_count": 10,
   "metadata": {},
   "outputs": [
    {
     "output_type": "execute_result",
     "data": {
      "text/plain": [
       "        id                      hotel_name  \\\n",
       "0        0                      Park Hyatt   \n",
       "1        1                  Hilton Chennai   \n",
       "2        2               The Royal Regency   \n",
       "3        3                          Rivera   \n",
       "4        4                      Park Hyatt   \n",
       "...    ...                             ...   \n",
       "2346  2346           Hyatt Regency Chennai   \n",
       "2347  2347                   New Woodlands   \n",
       "2348  2348               Samudra Residency   \n",
       "2349  2349           The Residency Chennai   \n",
       "2350  2350  Cloud Nine Serviced Apartments   \n",
       "\n",
       "                                           review_title  \\\n",
       "0                                     Refuge in Chennai   \n",
       "1                                        Hilton Chennai   \n",
       "2     No worth the rating shown in websites. Pricing...   \n",
       "3                                             Good stay   \n",
       "4                                     Needs improvement   \n",
       "...                                                 ...   \n",
       "2346                                                NaN   \n",
       "2347                                       Homely villa   \n",
       "2348                  Nice accommodation and facilities   \n",
       "2349         The Residency Good Centrally located Hotel   \n",
       "2350                Homely stay with comfort and luxury   \n",
       "\n",
       "                                            review_text  rating  \n",
       "0     Excellent room and exercise facility. All arou...    80.0  \n",
       "1     Very comfortable and felt safe. \\r\\nStaff were...   100.0  \n",
       "2     Not worth the rating shown. Service is not goo...    71.0  \n",
       "3     First of all nice & courteous staff, only one ...    86.0  \n",
       "4     Overall ambience of the hotel is very good. In...    86.0  \n",
       "...                                                 ...     ...  \n",
       "2346  Most impressive service by staff in all areas....    80.0  \n",
       "2347  New woodlands chennai which gave me a homely e...    71.0  \n",
       "2348  Awesome I liked the neatness and maintenance. ...   100.0  \n",
       "2349  The overall experience was good. However the w...    80.0  \n",
       "2350  Its a very cool and luxurious cottage to stay ...    71.0  \n",
       "\n",
       "[2351 rows x 5 columns]"
      ],
      "text/html": "<div>\n<style scoped>\n    .dataframe tbody tr th:only-of-type {\n        vertical-align: middle;\n    }\n\n    .dataframe tbody tr th {\n        vertical-align: top;\n    }\n\n    .dataframe thead th {\n        text-align: right;\n    }\n</style>\n<table border=\"1\" class=\"dataframe\">\n  <thead>\n    <tr style=\"text-align: right;\">\n      <th></th>\n      <th>id</th>\n      <th>hotel_name</th>\n      <th>review_title</th>\n      <th>review_text</th>\n      <th>rating</th>\n    </tr>\n  </thead>\n  <tbody>\n    <tr>\n      <th>0</th>\n      <td>0</td>\n      <td>Park Hyatt</td>\n      <td>Refuge in Chennai</td>\n      <td>Excellent room and exercise facility. All arou...</td>\n      <td>80.0</td>\n    </tr>\n    <tr>\n      <th>1</th>\n      <td>1</td>\n      <td>Hilton Chennai</td>\n      <td>Hilton Chennai</td>\n      <td>Very comfortable and felt safe. \\r\\nStaff were...</td>\n      <td>100.0</td>\n    </tr>\n    <tr>\n      <th>2</th>\n      <td>2</td>\n      <td>The Royal Regency</td>\n      <td>No worth the rating shown in websites. Pricing...</td>\n      <td>Not worth the rating shown. Service is not goo...</td>\n      <td>71.0</td>\n    </tr>\n    <tr>\n      <th>3</th>\n      <td>3</td>\n      <td>Rivera</td>\n      <td>Good stay</td>\n      <td>First of all nice &amp; courteous staff, only one ...</td>\n      <td>86.0</td>\n    </tr>\n    <tr>\n      <th>4</th>\n      <td>4</td>\n      <td>Park Hyatt</td>\n      <td>Needs improvement</td>\n      <td>Overall ambience of the hotel is very good. In...</td>\n      <td>86.0</td>\n    </tr>\n    <tr>\n      <th>...</th>\n      <td>...</td>\n      <td>...</td>\n      <td>...</td>\n      <td>...</td>\n      <td>...</td>\n    </tr>\n    <tr>\n      <th>2346</th>\n      <td>2346</td>\n      <td>Hyatt Regency Chennai</td>\n      <td>NaN</td>\n      <td>Most impressive service by staff in all areas....</td>\n      <td>80.0</td>\n    </tr>\n    <tr>\n      <th>2347</th>\n      <td>2347</td>\n      <td>New Woodlands</td>\n      <td>Homely villa</td>\n      <td>New woodlands chennai which gave me a homely e...</td>\n      <td>71.0</td>\n    </tr>\n    <tr>\n      <th>2348</th>\n      <td>2348</td>\n      <td>Samudra Residency</td>\n      <td>Nice accommodation and facilities</td>\n      <td>Awesome I liked the neatness and maintenance. ...</td>\n      <td>100.0</td>\n    </tr>\n    <tr>\n      <th>2349</th>\n      <td>2349</td>\n      <td>The Residency Chennai</td>\n      <td>The Residency Good Centrally located Hotel</td>\n      <td>The overall experience was good. However the w...</td>\n      <td>80.0</td>\n    </tr>\n    <tr>\n      <th>2350</th>\n      <td>2350</td>\n      <td>Cloud Nine Serviced Apartments</td>\n      <td>Homely stay with comfort and luxury</td>\n      <td>Its a very cool and luxurious cottage to stay ...</td>\n      <td>71.0</td>\n    </tr>\n  </tbody>\n</table>\n<p>2351 rows × 5 columns</p>\n</div>"
     },
     "metadata": {},
     "execution_count": 10
    }
   ],
   "source": [
    "df.columns = df.columns.str.lower()\n",
    "df"
   ]
  },
  {
   "cell_type": "code",
   "execution_count": 11,
   "metadata": {},
   "outputs": [
    {
     "output_type": "execute_result",
     "data": {
      "text/plain": [
       "                          hotel_name  \\\n",
       "id                                     \n",
       "0                         Park Hyatt   \n",
       "1                     Hilton Chennai   \n",
       "2                  The Royal Regency   \n",
       "3                             Rivera   \n",
       "4                         Park Hyatt   \n",
       "...                              ...   \n",
       "2346           Hyatt Regency Chennai   \n",
       "2347                   New Woodlands   \n",
       "2348               Samudra Residency   \n",
       "2349           The Residency Chennai   \n",
       "2350  Cloud Nine Serviced Apartments   \n",
       "\n",
       "                                           review_title  \\\n",
       "id                                                        \n",
       "0                                     Refuge in Chennai   \n",
       "1                                        Hilton Chennai   \n",
       "2     No worth the rating shown in websites. Pricing...   \n",
       "3                                             Good stay   \n",
       "4                                     Needs improvement   \n",
       "...                                                 ...   \n",
       "2346                                                NaN   \n",
       "2347                                       Homely villa   \n",
       "2348                  Nice accommodation and facilities   \n",
       "2349         The Residency Good Centrally located Hotel   \n",
       "2350                Homely stay with comfort and luxury   \n",
       "\n",
       "                                            review_text  rating  \n",
       "id                                                               \n",
       "0     Excellent room and exercise facility. All arou...    80.0  \n",
       "1     Very comfortable and felt safe. \\r\\nStaff were...   100.0  \n",
       "2     Not worth the rating shown. Service is not goo...    71.0  \n",
       "3     First of all nice & courteous staff, only one ...    86.0  \n",
       "4     Overall ambience of the hotel is very good. In...    86.0  \n",
       "...                                                 ...     ...  \n",
       "2346  Most impressive service by staff in all areas....    80.0  \n",
       "2347  New woodlands chennai which gave me a homely e...    71.0  \n",
       "2348  Awesome I liked the neatness and maintenance. ...   100.0  \n",
       "2349  The overall experience was good. However the w...    80.0  \n",
       "2350  Its a very cool and luxurious cottage to stay ...    71.0  \n",
       "\n",
       "[2351 rows x 4 columns]"
      ],
      "text/html": "<div>\n<style scoped>\n    .dataframe tbody tr th:only-of-type {\n        vertical-align: middle;\n    }\n\n    .dataframe tbody tr th {\n        vertical-align: top;\n    }\n\n    .dataframe thead th {\n        text-align: right;\n    }\n</style>\n<table border=\"1\" class=\"dataframe\">\n  <thead>\n    <tr style=\"text-align: right;\">\n      <th></th>\n      <th>hotel_name</th>\n      <th>review_title</th>\n      <th>review_text</th>\n      <th>rating</th>\n    </tr>\n    <tr>\n      <th>id</th>\n      <th></th>\n      <th></th>\n      <th></th>\n      <th></th>\n    </tr>\n  </thead>\n  <tbody>\n    <tr>\n      <th>0</th>\n      <td>Park Hyatt</td>\n      <td>Refuge in Chennai</td>\n      <td>Excellent room and exercise facility. All arou...</td>\n      <td>80.0</td>\n    </tr>\n    <tr>\n      <th>1</th>\n      <td>Hilton Chennai</td>\n      <td>Hilton Chennai</td>\n      <td>Very comfortable and felt safe. \\r\\nStaff were...</td>\n      <td>100.0</td>\n    </tr>\n    <tr>\n      <th>2</th>\n      <td>The Royal Regency</td>\n      <td>No worth the rating shown in websites. Pricing...</td>\n      <td>Not worth the rating shown. Service is not goo...</td>\n      <td>71.0</td>\n    </tr>\n    <tr>\n      <th>3</th>\n      <td>Rivera</td>\n      <td>Good stay</td>\n      <td>First of all nice &amp; courteous staff, only one ...</td>\n      <td>86.0</td>\n    </tr>\n    <tr>\n      <th>4</th>\n      <td>Park Hyatt</td>\n      <td>Needs improvement</td>\n      <td>Overall ambience of the hotel is very good. In...</td>\n      <td>86.0</td>\n    </tr>\n    <tr>\n      <th>...</th>\n      <td>...</td>\n      <td>...</td>\n      <td>...</td>\n      <td>...</td>\n    </tr>\n    <tr>\n      <th>2346</th>\n      <td>Hyatt Regency Chennai</td>\n      <td>NaN</td>\n      <td>Most impressive service by staff in all areas....</td>\n      <td>80.0</td>\n    </tr>\n    <tr>\n      <th>2347</th>\n      <td>New Woodlands</td>\n      <td>Homely villa</td>\n      <td>New woodlands chennai which gave me a homely e...</td>\n      <td>71.0</td>\n    </tr>\n    <tr>\n      <th>2348</th>\n      <td>Samudra Residency</td>\n      <td>Nice accommodation and facilities</td>\n      <td>Awesome I liked the neatness and maintenance. ...</td>\n      <td>100.0</td>\n    </tr>\n    <tr>\n      <th>2349</th>\n      <td>The Residency Chennai</td>\n      <td>The Residency Good Centrally located Hotel</td>\n      <td>The overall experience was good. However the w...</td>\n      <td>80.0</td>\n    </tr>\n    <tr>\n      <th>2350</th>\n      <td>Cloud Nine Serviced Apartments</td>\n      <td>Homely stay with comfort and luxury</td>\n      <td>Its a very cool and luxurious cottage to stay ...</td>\n      <td>71.0</td>\n    </tr>\n  </tbody>\n</table>\n<p>2351 rows × 4 columns</p>\n</div>"
     },
     "metadata": {},
     "execution_count": 11
    }
   ],
   "source": [
    "df.set_index('id', inplace=True)\n",
    "df"
   ]
  },
  {
   "cell_type": "code",
   "execution_count": 12,
   "metadata": {},
   "outputs": [
    {
     "output_type": "execute_result",
     "data": {
      "text/plain": [
       "<matplotlib.axes._subplots.AxesSubplot at 0x7fa2d6b066d0>"
      ]
     },
     "metadata": {},
     "execution_count": 12
    },
    {
     "output_type": "display_data",
     "data": {
      "text/plain": "<Figure size 432x288 with 1 Axes>",
      "image/svg+xml": "<?xml version=\"1.0\" encoding=\"utf-8\" standalone=\"no\"?>\n<!DOCTYPE svg PUBLIC \"-//W3C//DTD SVG 1.1//EN\"\n  \"http://www.w3.org/Graphics/SVG/1.1/DTD/svg11.dtd\">\n<!-- Created with matplotlib (https://matplotlib.org/) -->\n<svg height=\"248.518125pt\" version=\"1.1\" viewBox=\"0 0 388.965625 248.518125\" width=\"388.965625pt\" xmlns=\"http://www.w3.org/2000/svg\" xmlns:xlink=\"http://www.w3.org/1999/xlink\">\n <defs>\n  <style type=\"text/css\">\n*{stroke-linecap:butt;stroke-linejoin:round;}\n  </style>\n </defs>\n <g id=\"figure_1\">\n  <g id=\"patch_1\">\n   <path d=\"M 0 248.518125 \nL 388.965625 248.518125 \nL 388.965625 0 \nL 0 0 \nz\n\" style=\"fill:none;\"/>\n  </g>\n  <g id=\"axes_1\">\n   <g id=\"patch_2\">\n    <path d=\"M 46.965625 224.64 \nL 381.765625 224.64 \nL 381.765625 7.2 \nL 46.965625 7.2 \nz\n\" style=\"fill:#ffffff;\"/>\n   </g>\n   <g id=\"patch_3\">\n    <path clip-path=\"url(#p8c576b6103)\" d=\"M 62.183807 224.64 \nL 92.62017 224.64 \nL 92.62017 185.449585 \nL 62.183807 185.449585 \nz\n\" style=\"fill:#1f77b4;\"/>\n   </g>\n   <g id=\"patch_4\">\n    <path clip-path=\"url(#p8c576b6103)\" d=\"M 92.62017 224.64 \nL 123.056534 224.64 \nL 123.056534 193.911152 \nL 92.62017 193.911152 \nz\n\" style=\"fill:#1f77b4;\"/>\n   </g>\n   <g id=\"patch_5\">\n    <path clip-path=\"url(#p8c576b6103)\" d=\"M 123.056534 224.64 \nL 153.492898 224.64 \nL 153.492898 146.704516 \nL 123.056534 146.704516 \nz\n\" style=\"fill:#1f77b4;\"/>\n   </g>\n   <g id=\"patch_6\">\n    <path clip-path=\"url(#p8c576b6103)\" d=\"M 153.492898 224.64 \nL 183.929261 224.64 \nL 183.929261 224.64 \nL 153.492898 224.64 \nz\n\" style=\"fill:#1f77b4;\"/>\n   </g>\n   <g id=\"patch_7\">\n    <path clip-path=\"url(#p8c576b6103)\" d=\"M 183.929261 224.64 \nL 214.365625 224.64 \nL 214.365625 160.51023 \nL 183.929261 160.51023 \nz\n\" style=\"fill:#1f77b4;\"/>\n   </g>\n   <g id=\"patch_8\">\n    <path clip-path=\"url(#p8c576b6103)\" d=\"M 214.365625 224.64 \nL 244.801989 224.64 \nL 244.801989 75.449217 \nL 214.365625 75.449217 \nz\n\" style=\"fill:#1f77b4;\"/>\n   </g>\n   <g id=\"patch_9\">\n    <path clip-path=\"url(#p8c576b6103)\" d=\"M 244.801989 224.64 \nL 275.238352 224.64 \nL 275.238352 79.011982 \nL 244.801989 79.011982 \nz\n\" style=\"fill:#1f77b4;\"/>\n   </g>\n   <g id=\"patch_10\">\n    <path clip-path=\"url(#p8c576b6103)\" d=\"M 275.238352 224.64 \nL 305.674716 224.64 \nL 305.674716 87.918894 \nL 275.238352 87.918894 \nz\n\" style=\"fill:#1f77b4;\"/>\n   </g>\n   <g id=\"patch_11\">\n    <path clip-path=\"url(#p8c576b6103)\" d=\"M 305.674716 224.64 \nL 336.11108 224.64 \nL 336.11108 17.554286 \nL 305.674716 17.554286 \nz\n\" style=\"fill:#1f77b4;\"/>\n   </g>\n   <g id=\"patch_12\">\n    <path clip-path=\"url(#p8c576b6103)\" d=\"M 336.11108 224.64 \nL 366.547443 224.64 \nL 366.547443 28.242581 \nL 336.11108 28.242581 \nz\n\" style=\"fill:#1f77b4;\"/>\n   </g>\n   <g id=\"matplotlib.axis_1\">\n    <g id=\"xtick_1\">\n     <g id=\"line2d_1\">\n      <defs>\n       <path d=\"M 0 0 \nL 0 3.5 \n\" id=\"mdd56594bae\" style=\"stroke:#000000;stroke-width:0.8;\"/>\n      </defs>\n      <g>\n       <use style=\"stroke:#000000;stroke-width:0.8;\" x=\"62.183807\" xlink:href=\"#mdd56594bae\" y=\"224.64\"/>\n      </g>\n     </g>\n     <g id=\"text_1\">\n      <!-- 20 -->\n      <defs>\n       <path d=\"M 19.1875 8.296875 \nL 53.609375 8.296875 \nL 53.609375 0 \nL 7.328125 0 \nL 7.328125 8.296875 \nQ 12.9375 14.109375 22.625 23.890625 \nQ 32.328125 33.6875 34.8125 36.53125 \nQ 39.546875 41.84375 41.421875 45.53125 \nQ 43.3125 49.21875 43.3125 52.78125 \nQ 43.3125 58.59375 39.234375 62.25 \nQ 35.15625 65.921875 28.609375 65.921875 \nQ 23.96875 65.921875 18.8125 64.3125 \nQ 13.671875 62.703125 7.8125 59.421875 \nL 7.8125 69.390625 \nQ 13.765625 71.78125 18.9375 73 \nQ 24.125 74.21875 28.421875 74.21875 \nQ 39.75 74.21875 46.484375 68.546875 \nQ 53.21875 62.890625 53.21875 53.421875 \nQ 53.21875 48.921875 51.53125 44.890625 \nQ 49.859375 40.875 45.40625 35.40625 \nQ 44.1875 33.984375 37.640625 27.21875 \nQ 31.109375 20.453125 19.1875 8.296875 \nz\n\" id=\"DejaVuSans-50\"/>\n       <path d=\"M 31.78125 66.40625 \nQ 24.171875 66.40625 20.328125 58.90625 \nQ 16.5 51.421875 16.5 36.375 \nQ 16.5 21.390625 20.328125 13.890625 \nQ 24.171875 6.390625 31.78125 6.390625 \nQ 39.453125 6.390625 43.28125 13.890625 \nQ 47.125 21.390625 47.125 36.375 \nQ 47.125 51.421875 43.28125 58.90625 \nQ 39.453125 66.40625 31.78125 66.40625 \nz\nM 31.78125 74.21875 \nQ 44.046875 74.21875 50.515625 64.515625 \nQ 56.984375 54.828125 56.984375 36.375 \nQ 56.984375 17.96875 50.515625 8.265625 \nQ 44.046875 -1.421875 31.78125 -1.421875 \nQ 19.53125 -1.421875 13.0625 8.265625 \nQ 6.59375 17.96875 6.59375 36.375 \nQ 6.59375 54.828125 13.0625 64.515625 \nQ 19.53125 74.21875 31.78125 74.21875 \nz\n\" id=\"DejaVuSans-48\"/>\n      </defs>\n      <g transform=\"translate(55.821307 239.238437)scale(0.1 -0.1)\">\n       <use xlink:href=\"#DejaVuSans-50\"/>\n       <use x=\"63.623047\" xlink:href=\"#DejaVuSans-48\"/>\n      </g>\n     </g>\n    </g>\n    <g id=\"xtick_2\">\n     <g id=\"line2d_2\">\n      <g>\n       <use style=\"stroke:#000000;stroke-width:0.8;\" x=\"100.229261\" xlink:href=\"#mdd56594bae\" y=\"224.64\"/>\n      </g>\n     </g>\n     <g id=\"text_2\">\n      <!-- 30 -->\n      <defs>\n       <path d=\"M 40.578125 39.3125 \nQ 47.65625 37.796875 51.625 33 \nQ 55.609375 28.21875 55.609375 21.1875 \nQ 55.609375 10.40625 48.1875 4.484375 \nQ 40.765625 -1.421875 27.09375 -1.421875 \nQ 22.515625 -1.421875 17.65625 -0.515625 \nQ 12.796875 0.390625 7.625 2.203125 \nL 7.625 11.71875 \nQ 11.71875 9.328125 16.59375 8.109375 \nQ 21.484375 6.890625 26.8125 6.890625 \nQ 36.078125 6.890625 40.9375 10.546875 \nQ 45.796875 14.203125 45.796875 21.1875 \nQ 45.796875 27.640625 41.28125 31.265625 \nQ 36.765625 34.90625 28.71875 34.90625 \nL 20.21875 34.90625 \nL 20.21875 43.015625 \nL 29.109375 43.015625 \nQ 36.375 43.015625 40.234375 45.921875 \nQ 44.09375 48.828125 44.09375 54.296875 \nQ 44.09375 59.90625 40.109375 62.90625 \nQ 36.140625 65.921875 28.71875 65.921875 \nQ 24.65625 65.921875 20.015625 65.03125 \nQ 15.375 64.15625 9.8125 62.3125 \nL 9.8125 71.09375 \nQ 15.4375 72.65625 20.34375 73.4375 \nQ 25.25 74.21875 29.59375 74.21875 \nQ 40.828125 74.21875 47.359375 69.109375 \nQ 53.90625 64.015625 53.90625 55.328125 \nQ 53.90625 49.265625 50.4375 45.09375 \nQ 46.96875 40.921875 40.578125 39.3125 \nz\n\" id=\"DejaVuSans-51\"/>\n      </defs>\n      <g transform=\"translate(93.866761 239.238437)scale(0.1 -0.1)\">\n       <use xlink:href=\"#DejaVuSans-51\"/>\n       <use x=\"63.623047\" xlink:href=\"#DejaVuSans-48\"/>\n      </g>\n     </g>\n    </g>\n    <g id=\"xtick_3\">\n     <g id=\"line2d_3\">\n      <g>\n       <use style=\"stroke:#000000;stroke-width:0.8;\" x=\"138.274716\" xlink:href=\"#mdd56594bae\" y=\"224.64\"/>\n      </g>\n     </g>\n     <g id=\"text_3\">\n      <!-- 40 -->\n      <defs>\n       <path d=\"M 37.796875 64.3125 \nL 12.890625 25.390625 \nL 37.796875 25.390625 \nz\nM 35.203125 72.90625 \nL 47.609375 72.90625 \nL 47.609375 25.390625 \nL 58.015625 25.390625 \nL 58.015625 17.1875 \nL 47.609375 17.1875 \nL 47.609375 0 \nL 37.796875 0 \nL 37.796875 17.1875 \nL 4.890625 17.1875 \nL 4.890625 26.703125 \nz\n\" id=\"DejaVuSans-52\"/>\n      </defs>\n      <g transform=\"translate(131.912216 239.238437)scale(0.1 -0.1)\">\n       <use xlink:href=\"#DejaVuSans-52\"/>\n       <use x=\"63.623047\" xlink:href=\"#DejaVuSans-48\"/>\n      </g>\n     </g>\n    </g>\n    <g id=\"xtick_4\">\n     <g id=\"line2d_4\">\n      <g>\n       <use style=\"stroke:#000000;stroke-width:0.8;\" x=\"176.32017\" xlink:href=\"#mdd56594bae\" y=\"224.64\"/>\n      </g>\n     </g>\n     <g id=\"text_4\">\n      <!-- 50 -->\n      <defs>\n       <path d=\"M 10.796875 72.90625 \nL 49.515625 72.90625 \nL 49.515625 64.59375 \nL 19.828125 64.59375 \nL 19.828125 46.734375 \nQ 21.96875 47.46875 24.109375 47.828125 \nQ 26.265625 48.1875 28.421875 48.1875 \nQ 40.625 48.1875 47.75 41.5 \nQ 54.890625 34.8125 54.890625 23.390625 \nQ 54.890625 11.625 47.5625 5.09375 \nQ 40.234375 -1.421875 26.90625 -1.421875 \nQ 22.3125 -1.421875 17.546875 -0.640625 \nQ 12.796875 0.140625 7.71875 1.703125 \nL 7.71875 11.625 \nQ 12.109375 9.234375 16.796875 8.0625 \nQ 21.484375 6.890625 26.703125 6.890625 \nQ 35.15625 6.890625 40.078125 11.328125 \nQ 45.015625 15.765625 45.015625 23.390625 \nQ 45.015625 31 40.078125 35.4375 \nQ 35.15625 39.890625 26.703125 39.890625 \nQ 22.75 39.890625 18.8125 39.015625 \nQ 14.890625 38.140625 10.796875 36.28125 \nz\n\" id=\"DejaVuSans-53\"/>\n      </defs>\n      <g transform=\"translate(169.95767 239.238437)scale(0.1 -0.1)\">\n       <use xlink:href=\"#DejaVuSans-53\"/>\n       <use x=\"63.623047\" xlink:href=\"#DejaVuSans-48\"/>\n      </g>\n     </g>\n    </g>\n    <g id=\"xtick_5\">\n     <g id=\"line2d_5\">\n      <g>\n       <use style=\"stroke:#000000;stroke-width:0.8;\" x=\"214.365625\" xlink:href=\"#mdd56594bae\" y=\"224.64\"/>\n      </g>\n     </g>\n     <g id=\"text_5\">\n      <!-- 60 -->\n      <defs>\n       <path d=\"M 33.015625 40.375 \nQ 26.375 40.375 22.484375 35.828125 \nQ 18.609375 31.296875 18.609375 23.390625 \nQ 18.609375 15.53125 22.484375 10.953125 \nQ 26.375 6.390625 33.015625 6.390625 \nQ 39.65625 6.390625 43.53125 10.953125 \nQ 47.40625 15.53125 47.40625 23.390625 \nQ 47.40625 31.296875 43.53125 35.828125 \nQ 39.65625 40.375 33.015625 40.375 \nz\nM 52.59375 71.296875 \nL 52.59375 62.3125 \nQ 48.875 64.0625 45.09375 64.984375 \nQ 41.3125 65.921875 37.59375 65.921875 \nQ 27.828125 65.921875 22.671875 59.328125 \nQ 17.53125 52.734375 16.796875 39.40625 \nQ 19.671875 43.65625 24.015625 45.921875 \nQ 28.375 48.1875 33.59375 48.1875 \nQ 44.578125 48.1875 50.953125 41.515625 \nQ 57.328125 34.859375 57.328125 23.390625 \nQ 57.328125 12.15625 50.6875 5.359375 \nQ 44.046875 -1.421875 33.015625 -1.421875 \nQ 20.359375 -1.421875 13.671875 8.265625 \nQ 6.984375 17.96875 6.984375 36.375 \nQ 6.984375 53.65625 15.1875 63.9375 \nQ 23.390625 74.21875 37.203125 74.21875 \nQ 40.921875 74.21875 44.703125 73.484375 \nQ 48.484375 72.75 52.59375 71.296875 \nz\n\" id=\"DejaVuSans-54\"/>\n      </defs>\n      <g transform=\"translate(208.003125 239.238437)scale(0.1 -0.1)\">\n       <use xlink:href=\"#DejaVuSans-54\"/>\n       <use x=\"63.623047\" xlink:href=\"#DejaVuSans-48\"/>\n      </g>\n     </g>\n    </g>\n    <g id=\"xtick_6\">\n     <g id=\"line2d_6\">\n      <g>\n       <use style=\"stroke:#000000;stroke-width:0.8;\" x=\"252.41108\" xlink:href=\"#mdd56594bae\" y=\"224.64\"/>\n      </g>\n     </g>\n     <g id=\"text_6\">\n      <!-- 70 -->\n      <defs>\n       <path d=\"M 8.203125 72.90625 \nL 55.078125 72.90625 \nL 55.078125 68.703125 \nL 28.609375 0 \nL 18.3125 0 \nL 43.21875 64.59375 \nL 8.203125 64.59375 \nz\n\" id=\"DejaVuSans-55\"/>\n      </defs>\n      <g transform=\"translate(246.04858 239.238437)scale(0.1 -0.1)\">\n       <use xlink:href=\"#DejaVuSans-55\"/>\n       <use x=\"63.623047\" xlink:href=\"#DejaVuSans-48\"/>\n      </g>\n     </g>\n    </g>\n    <g id=\"xtick_7\">\n     <g id=\"line2d_7\">\n      <g>\n       <use style=\"stroke:#000000;stroke-width:0.8;\" x=\"290.456534\" xlink:href=\"#mdd56594bae\" y=\"224.64\"/>\n      </g>\n     </g>\n     <g id=\"text_7\">\n      <!-- 80 -->\n      <defs>\n       <path d=\"M 31.78125 34.625 \nQ 24.75 34.625 20.71875 30.859375 \nQ 16.703125 27.09375 16.703125 20.515625 \nQ 16.703125 13.921875 20.71875 10.15625 \nQ 24.75 6.390625 31.78125 6.390625 \nQ 38.8125 6.390625 42.859375 10.171875 \nQ 46.921875 13.96875 46.921875 20.515625 \nQ 46.921875 27.09375 42.890625 30.859375 \nQ 38.875 34.625 31.78125 34.625 \nz\nM 21.921875 38.8125 \nQ 15.578125 40.375 12.03125 44.71875 \nQ 8.5 49.078125 8.5 55.328125 \nQ 8.5 64.0625 14.71875 69.140625 \nQ 20.953125 74.21875 31.78125 74.21875 \nQ 42.671875 74.21875 48.875 69.140625 \nQ 55.078125 64.0625 55.078125 55.328125 \nQ 55.078125 49.078125 51.53125 44.71875 \nQ 48 40.375 41.703125 38.8125 \nQ 48.828125 37.15625 52.796875 32.3125 \nQ 56.78125 27.484375 56.78125 20.515625 \nQ 56.78125 9.90625 50.3125 4.234375 \nQ 43.84375 -1.421875 31.78125 -1.421875 \nQ 19.734375 -1.421875 13.25 4.234375 \nQ 6.78125 9.90625 6.78125 20.515625 \nQ 6.78125 27.484375 10.78125 32.3125 \nQ 14.796875 37.15625 21.921875 38.8125 \nz\nM 18.3125 54.390625 \nQ 18.3125 48.734375 21.84375 45.5625 \nQ 25.390625 42.390625 31.78125 42.390625 \nQ 38.140625 42.390625 41.71875 45.5625 \nQ 45.3125 48.734375 45.3125 54.390625 \nQ 45.3125 60.0625 41.71875 63.234375 \nQ 38.140625 66.40625 31.78125 66.40625 \nQ 25.390625 66.40625 21.84375 63.234375 \nQ 18.3125 60.0625 18.3125 54.390625 \nz\n\" id=\"DejaVuSans-56\"/>\n      </defs>\n      <g transform=\"translate(284.094034 239.238437)scale(0.1 -0.1)\">\n       <use xlink:href=\"#DejaVuSans-56\"/>\n       <use x=\"63.623047\" xlink:href=\"#DejaVuSans-48\"/>\n      </g>\n     </g>\n    </g>\n    <g id=\"xtick_8\">\n     <g id=\"line2d_8\">\n      <g>\n       <use style=\"stroke:#000000;stroke-width:0.8;\" x=\"328.501989\" xlink:href=\"#mdd56594bae\" y=\"224.64\"/>\n      </g>\n     </g>\n     <g id=\"text_8\">\n      <!-- 90 -->\n      <defs>\n       <path d=\"M 10.984375 1.515625 \nL 10.984375 10.5 \nQ 14.703125 8.734375 18.5 7.8125 \nQ 22.3125 6.890625 25.984375 6.890625 \nQ 35.75 6.890625 40.890625 13.453125 \nQ 46.046875 20.015625 46.78125 33.40625 \nQ 43.953125 29.203125 39.59375 26.953125 \nQ 35.25 24.703125 29.984375 24.703125 \nQ 19.046875 24.703125 12.671875 31.3125 \nQ 6.296875 37.9375 6.296875 49.421875 \nQ 6.296875 60.640625 12.9375 67.421875 \nQ 19.578125 74.21875 30.609375 74.21875 \nQ 43.265625 74.21875 49.921875 64.515625 \nQ 56.59375 54.828125 56.59375 36.375 \nQ 56.59375 19.140625 48.40625 8.859375 \nQ 40.234375 -1.421875 26.421875 -1.421875 \nQ 22.703125 -1.421875 18.890625 -0.6875 \nQ 15.09375 0.046875 10.984375 1.515625 \nz\nM 30.609375 32.421875 \nQ 37.25 32.421875 41.125 36.953125 \nQ 45.015625 41.5 45.015625 49.421875 \nQ 45.015625 57.28125 41.125 61.84375 \nQ 37.25 66.40625 30.609375 66.40625 \nQ 23.96875 66.40625 20.09375 61.84375 \nQ 16.21875 57.28125 16.21875 49.421875 \nQ 16.21875 41.5 20.09375 36.953125 \nQ 23.96875 32.421875 30.609375 32.421875 \nz\n\" id=\"DejaVuSans-57\"/>\n      </defs>\n      <g transform=\"translate(322.139489 239.238437)scale(0.1 -0.1)\">\n       <use xlink:href=\"#DejaVuSans-57\"/>\n       <use x=\"63.623047\" xlink:href=\"#DejaVuSans-48\"/>\n      </g>\n     </g>\n    </g>\n    <g id=\"xtick_9\">\n     <g id=\"line2d_9\">\n      <g>\n       <use style=\"stroke:#000000;stroke-width:0.8;\" x=\"366.547443\" xlink:href=\"#mdd56594bae\" y=\"224.64\"/>\n      </g>\n     </g>\n     <g id=\"text_9\">\n      <!-- 100 -->\n      <defs>\n       <path d=\"M 12.40625 8.296875 \nL 28.515625 8.296875 \nL 28.515625 63.921875 \nL 10.984375 60.40625 \nL 10.984375 69.390625 \nL 28.421875 72.90625 \nL 38.28125 72.90625 \nL 38.28125 8.296875 \nL 54.390625 8.296875 \nL 54.390625 0 \nL 12.40625 0 \nz\n\" id=\"DejaVuSans-49\"/>\n      </defs>\n      <g transform=\"translate(357.003693 239.238437)scale(0.1 -0.1)\">\n       <use xlink:href=\"#DejaVuSans-49\"/>\n       <use x=\"63.623047\" xlink:href=\"#DejaVuSans-48\"/>\n       <use x=\"127.246094\" xlink:href=\"#DejaVuSans-48\"/>\n      </g>\n     </g>\n    </g>\n   </g>\n   <g id=\"matplotlib.axis_2\">\n    <g id=\"ytick_1\">\n     <g id=\"line2d_10\">\n      <defs>\n       <path d=\"M 0 0 \nL -3.5 0 \n\" id=\"m387dd2d964\" style=\"stroke:#000000;stroke-width:0.8;\"/>\n      </defs>\n      <g>\n       <use style=\"stroke:#000000;stroke-width:0.8;\" x=\"46.965625\" xlink:href=\"#m387dd2d964\" y=\"224.64\"/>\n      </g>\n     </g>\n     <g id=\"text_10\">\n      <!-- 0 -->\n      <g transform=\"translate(33.603125 228.439219)scale(0.1 -0.1)\">\n       <use xlink:href=\"#DejaVuSans-48\"/>\n      </g>\n     </g>\n    </g>\n    <g id=\"ytick_2\">\n     <g id=\"line2d_11\">\n      <g>\n       <use style=\"stroke:#000000;stroke-width:0.8;\" x=\"46.965625\" xlink:href=\"#m387dd2d964\" y=\"180.105438\"/>\n      </g>\n     </g>\n     <g id=\"text_11\">\n      <!-- 100 -->\n      <g transform=\"translate(20.878125 183.904657)scale(0.1 -0.1)\">\n       <use xlink:href=\"#DejaVuSans-49\"/>\n       <use x=\"63.623047\" xlink:href=\"#DejaVuSans-48\"/>\n       <use x=\"127.246094\" xlink:href=\"#DejaVuSans-48\"/>\n      </g>\n     </g>\n    </g>\n    <g id=\"ytick_3\">\n     <g id=\"line2d_12\">\n      <g>\n       <use style=\"stroke:#000000;stroke-width:0.8;\" x=\"46.965625\" xlink:href=\"#m387dd2d964\" y=\"135.570876\"/>\n      </g>\n     </g>\n     <g id=\"text_12\">\n      <!-- 200 -->\n      <g transform=\"translate(20.878125 139.370094)scale(0.1 -0.1)\">\n       <use xlink:href=\"#DejaVuSans-50\"/>\n       <use x=\"63.623047\" xlink:href=\"#DejaVuSans-48\"/>\n       <use x=\"127.246094\" xlink:href=\"#DejaVuSans-48\"/>\n      </g>\n     </g>\n    </g>\n    <g id=\"ytick_4\">\n     <g id=\"line2d_13\">\n      <g>\n       <use style=\"stroke:#000000;stroke-width:0.8;\" x=\"46.965625\" xlink:href=\"#m387dd2d964\" y=\"91.036313\"/>\n      </g>\n     </g>\n     <g id=\"text_13\">\n      <!-- 300 -->\n      <g transform=\"translate(20.878125 94.835532)scale(0.1 -0.1)\">\n       <use xlink:href=\"#DejaVuSans-51\"/>\n       <use x=\"63.623047\" xlink:href=\"#DejaVuSans-48\"/>\n       <use x=\"127.246094\" xlink:href=\"#DejaVuSans-48\"/>\n      </g>\n     </g>\n    </g>\n    <g id=\"ytick_5\">\n     <g id=\"line2d_14\">\n      <g>\n       <use style=\"stroke:#000000;stroke-width:0.8;\" x=\"46.965625\" xlink:href=\"#m387dd2d964\" y=\"46.501751\"/>\n      </g>\n     </g>\n     <g id=\"text_14\">\n      <!-- 400 -->\n      <g transform=\"translate(20.878125 50.30097)scale(0.1 -0.1)\">\n       <use xlink:href=\"#DejaVuSans-52\"/>\n       <use x=\"63.623047\" xlink:href=\"#DejaVuSans-48\"/>\n       <use x=\"127.246094\" xlink:href=\"#DejaVuSans-48\"/>\n      </g>\n     </g>\n    </g>\n    <g id=\"text_15\">\n     <!-- Frequency -->\n     <defs>\n      <path d=\"M 9.8125 72.90625 \nL 51.703125 72.90625 \nL 51.703125 64.59375 \nL 19.671875 64.59375 \nL 19.671875 43.109375 \nL 48.578125 43.109375 \nL 48.578125 34.8125 \nL 19.671875 34.8125 \nL 19.671875 0 \nL 9.8125 0 \nz\n\" id=\"DejaVuSans-70\"/>\n      <path d=\"M 41.109375 46.296875 \nQ 39.59375 47.171875 37.8125 47.578125 \nQ 36.03125 48 33.890625 48 \nQ 26.265625 48 22.1875 43.046875 \nQ 18.109375 38.09375 18.109375 28.8125 \nL 18.109375 0 \nL 9.078125 0 \nL 9.078125 54.6875 \nL 18.109375 54.6875 \nL 18.109375 46.1875 \nQ 20.953125 51.171875 25.484375 53.578125 \nQ 30.03125 56 36.53125 56 \nQ 37.453125 56 38.578125 55.875 \nQ 39.703125 55.765625 41.0625 55.515625 \nz\n\" id=\"DejaVuSans-114\"/>\n      <path d=\"M 56.203125 29.59375 \nL 56.203125 25.203125 \nL 14.890625 25.203125 \nQ 15.484375 15.921875 20.484375 11.0625 \nQ 25.484375 6.203125 34.421875 6.203125 \nQ 39.59375 6.203125 44.453125 7.46875 \nQ 49.3125 8.734375 54.109375 11.28125 \nL 54.109375 2.78125 \nQ 49.265625 0.734375 44.1875 -0.34375 \nQ 39.109375 -1.421875 33.890625 -1.421875 \nQ 20.796875 -1.421875 13.15625 6.1875 \nQ 5.515625 13.8125 5.515625 26.8125 \nQ 5.515625 40.234375 12.765625 48.109375 \nQ 20.015625 56 32.328125 56 \nQ 43.359375 56 49.78125 48.890625 \nQ 56.203125 41.796875 56.203125 29.59375 \nz\nM 47.21875 32.234375 \nQ 47.125 39.59375 43.09375 43.984375 \nQ 39.0625 48.390625 32.421875 48.390625 \nQ 24.90625 48.390625 20.390625 44.140625 \nQ 15.875 39.890625 15.1875 32.171875 \nz\n\" id=\"DejaVuSans-101\"/>\n      <path d=\"M 14.796875 27.296875 \nQ 14.796875 17.390625 18.875 11.75 \nQ 22.953125 6.109375 30.078125 6.109375 \nQ 37.203125 6.109375 41.296875 11.75 \nQ 45.40625 17.390625 45.40625 27.296875 \nQ 45.40625 37.203125 41.296875 42.84375 \nQ 37.203125 48.484375 30.078125 48.484375 \nQ 22.953125 48.484375 18.875 42.84375 \nQ 14.796875 37.203125 14.796875 27.296875 \nz\nM 45.40625 8.203125 \nQ 42.578125 3.328125 38.25 0.953125 \nQ 33.9375 -1.421875 27.875 -1.421875 \nQ 17.96875 -1.421875 11.734375 6.484375 \nQ 5.515625 14.40625 5.515625 27.296875 \nQ 5.515625 40.1875 11.734375 48.09375 \nQ 17.96875 56 27.875 56 \nQ 33.9375 56 38.25 53.625 \nQ 42.578125 51.265625 45.40625 46.390625 \nL 45.40625 54.6875 \nL 54.390625 54.6875 \nL 54.390625 -20.796875 \nL 45.40625 -20.796875 \nz\n\" id=\"DejaVuSans-113\"/>\n      <path d=\"M 8.5 21.578125 \nL 8.5 54.6875 \nL 17.484375 54.6875 \nL 17.484375 21.921875 \nQ 17.484375 14.15625 20.5 10.265625 \nQ 23.53125 6.390625 29.59375 6.390625 \nQ 36.859375 6.390625 41.078125 11.03125 \nQ 45.3125 15.671875 45.3125 23.6875 \nL 45.3125 54.6875 \nL 54.296875 54.6875 \nL 54.296875 0 \nL 45.3125 0 \nL 45.3125 8.40625 \nQ 42.046875 3.421875 37.71875 1 \nQ 33.40625 -1.421875 27.6875 -1.421875 \nQ 18.265625 -1.421875 13.375 4.4375 \nQ 8.5 10.296875 8.5 21.578125 \nz\nM 31.109375 56 \nz\n\" id=\"DejaVuSans-117\"/>\n      <path d=\"M 54.890625 33.015625 \nL 54.890625 0 \nL 45.90625 0 \nL 45.90625 32.71875 \nQ 45.90625 40.484375 42.875 44.328125 \nQ 39.84375 48.1875 33.796875 48.1875 \nQ 26.515625 48.1875 22.3125 43.546875 \nQ 18.109375 38.921875 18.109375 30.90625 \nL 18.109375 0 \nL 9.078125 0 \nL 9.078125 54.6875 \nL 18.109375 54.6875 \nL 18.109375 46.1875 \nQ 21.34375 51.125 25.703125 53.5625 \nQ 30.078125 56 35.796875 56 \nQ 45.21875 56 50.046875 50.171875 \nQ 54.890625 44.34375 54.890625 33.015625 \nz\n\" id=\"DejaVuSans-110\"/>\n      <path d=\"M 48.78125 52.59375 \nL 48.78125 44.1875 \nQ 44.96875 46.296875 41.140625 47.34375 \nQ 37.3125 48.390625 33.40625 48.390625 \nQ 24.65625 48.390625 19.8125 42.84375 \nQ 14.984375 37.3125 14.984375 27.296875 \nQ 14.984375 17.28125 19.8125 11.734375 \nQ 24.65625 6.203125 33.40625 6.203125 \nQ 37.3125 6.203125 41.140625 7.25 \nQ 44.96875 8.296875 48.78125 10.40625 \nL 48.78125 2.09375 \nQ 45.015625 0.34375 40.984375 -0.53125 \nQ 36.96875 -1.421875 32.421875 -1.421875 \nQ 20.0625 -1.421875 12.78125 6.34375 \nQ 5.515625 14.109375 5.515625 27.296875 \nQ 5.515625 40.671875 12.859375 48.328125 \nQ 20.21875 56 33.015625 56 \nQ 37.15625 56 41.109375 55.140625 \nQ 45.0625 54.296875 48.78125 52.59375 \nz\n\" id=\"DejaVuSans-99\"/>\n      <path d=\"M 32.171875 -5.078125 \nQ 28.375 -14.84375 24.75 -17.8125 \nQ 21.140625 -20.796875 15.09375 -20.796875 \nL 7.90625 -20.796875 \nL 7.90625 -13.28125 \nL 13.1875 -13.28125 \nQ 16.890625 -13.28125 18.9375 -11.515625 \nQ 21 -9.765625 23.484375 -3.21875 \nL 25.09375 0.875 \nL 2.984375 54.6875 \nL 12.5 54.6875 \nL 29.59375 11.921875 \nL 46.6875 54.6875 \nL 56.203125 54.6875 \nz\n\" id=\"DejaVuSans-121\"/>\n     </defs>\n     <g transform=\"translate(14.798438 141.749687)rotate(-90)scale(0.1 -0.1)\">\n      <use xlink:href=\"#DejaVuSans-70\"/>\n      <use x=\"50.269531\" xlink:href=\"#DejaVuSans-114\"/>\n      <use x=\"89.132812\" xlink:href=\"#DejaVuSans-101\"/>\n      <use x=\"150.65625\" xlink:href=\"#DejaVuSans-113\"/>\n      <use x=\"214.132812\" xlink:href=\"#DejaVuSans-117\"/>\n      <use x=\"277.511719\" xlink:href=\"#DejaVuSans-101\"/>\n      <use x=\"339.035156\" xlink:href=\"#DejaVuSans-110\"/>\n      <use x=\"402.414062\" xlink:href=\"#DejaVuSans-99\"/>\n      <use x=\"457.394531\" xlink:href=\"#DejaVuSans-121\"/>\n     </g>\n    </g>\n   </g>\n   <g id=\"patch_13\">\n    <path d=\"M 46.965625 224.64 \nL 46.965625 7.2 \n\" style=\"fill:none;stroke:#000000;stroke-linecap:square;stroke-linejoin:miter;stroke-width:0.8;\"/>\n   </g>\n   <g id=\"patch_14\">\n    <path d=\"M 381.765625 224.64 \nL 381.765625 7.2 \n\" style=\"fill:none;stroke:#000000;stroke-linecap:square;stroke-linejoin:miter;stroke-width:0.8;\"/>\n   </g>\n   <g id=\"patch_15\">\n    <path d=\"M 46.965625 224.64 \nL 381.765625 224.64 \n\" style=\"fill:none;stroke:#000000;stroke-linecap:square;stroke-linejoin:miter;stroke-width:0.8;\"/>\n   </g>\n   <g id=\"patch_16\">\n    <path d=\"M 46.965625 7.2 \nL 381.765625 7.2 \n\" style=\"fill:none;stroke:#000000;stroke-linecap:square;stroke-linejoin:miter;stroke-width:0.8;\"/>\n   </g>\n  </g>\n </g>\n <defs>\n  <clipPath id=\"p8c576b6103\">\n   <rect height=\"217.44\" width=\"334.8\" x=\"46.965625\" y=\"7.2\"/>\n  </clipPath>\n </defs>\n</svg>\n",
      "image/png": "[encoded data removed]"
     },
     "metadata": {
      "needs_background": "light"
     }
    }
   ],
   "source": [
    "df['rating'].plot(kind='hist')"
   ]
  },
  {
   "cell_type": "code",
   "execution_count": 13,
   "metadata": {},
   "outputs": [
    {
     "output_type": "execute_result",
     "data": {
      "text/plain": [
       "                          hotel_name  \\\n",
       "id                                     \n",
       "0                         park hyatt   \n",
       "1                     hilton chennai   \n",
       "2                  the royal regency   \n",
       "3                             rivera   \n",
       "4                         park hyatt   \n",
       "...                              ...   \n",
       "2346           hyatt regency chennai   \n",
       "2347                   new woodlands   \n",
       "2348               samudra residency   \n",
       "2349           the residency chennai   \n",
       "2350  cloud nine serviced apartments   \n",
       "\n",
       "                                           review_title  \\\n",
       "id                                                        \n",
       "0                                     refuge in chennai   \n",
       "1                                        hilton chennai   \n",
       "2     no worth the rating shown in websites. pricing...   \n",
       "3                                             good stay   \n",
       "4                                     needs improvement   \n",
       "...                                                 ...   \n",
       "2346                                                NaN   \n",
       "2347                                       homely villa   \n",
       "2348                  nice accommodation and facilities   \n",
       "2349         the residency good centrally located hotel   \n",
       "2350                homely stay with comfort and luxury   \n",
       "\n",
       "                                            review_text  rating  \n",
       "id                                                               \n",
       "0     excellent room and exercise facility. all arou...    80.0  \n",
       "1     very comfortable and felt safe. \\r\\nstaff were...   100.0  \n",
       "2     not worth the rating shown. service is not goo...    71.0  \n",
       "3     first of all nice & courteous staff, only one ...    86.0  \n",
       "4     overall ambience of the hotel is very good. in...    86.0  \n",
       "...                                                 ...     ...  \n",
       "2346  most impressive service by staff in all areas....    80.0  \n",
       "2347  new woodlands chennai which gave me a homely e...    71.0  \n",
       "2348  awesome i liked the neatness and maintenance. ...   100.0  \n",
       "2349  the overall experience was good. however the w...    80.0  \n",
       "2350  its a very cool and luxurious cottage to stay ...    71.0  \n",
       "\n",
       "[2351 rows x 4 columns]"
      ],
      "text/html": "<div>\n<style scoped>\n    .dataframe tbody tr th:only-of-type {\n        vertical-align: middle;\n    }\n\n    .dataframe tbody tr th {\n        vertical-align: top;\n    }\n\n    .dataframe thead th {\n        text-align: right;\n    }\n</style>\n<table border=\"1\" class=\"dataframe\">\n  <thead>\n    <tr style=\"text-align: right;\">\n      <th></th>\n      <th>hotel_name</th>\n      <th>review_title</th>\n      <th>review_text</th>\n      <th>rating</th>\n    </tr>\n    <tr>\n      <th>id</th>\n      <th></th>\n      <th></th>\n      <th></th>\n      <th></th>\n    </tr>\n  </thead>\n  <tbody>\n    <tr>\n      <th>0</th>\n      <td>park hyatt</td>\n      <td>refuge in chennai</td>\n      <td>excellent room and exercise facility. all arou...</td>\n      <td>80.0</td>\n    </tr>\n    <tr>\n      <th>1</th>\n      <td>hilton chennai</td>\n      <td>hilton chennai</td>\n      <td>very comfortable and felt safe. \\r\\nstaff were...</td>\n      <td>100.0</td>\n    </tr>\n    <tr>\n      <th>2</th>\n      <td>the royal regency</td>\n      <td>no worth the rating shown in websites. pricing...</td>\n      <td>not worth the rating shown. service is not goo...</td>\n      <td>71.0</td>\n    </tr>\n    <tr>\n      <th>3</th>\n      <td>rivera</td>\n      <td>good stay</td>\n      <td>first of all nice &amp; courteous staff, only one ...</td>\n      <td>86.0</td>\n    </tr>\n    <tr>\n      <th>4</th>\n      <td>park hyatt</td>\n      <td>needs improvement</td>\n      <td>overall ambience of the hotel is very good. in...</td>\n      <td>86.0</td>\n    </tr>\n    <tr>\n      <th>...</th>\n      <td>...</td>\n      <td>...</td>\n      <td>...</td>\n      <td>...</td>\n    </tr>\n    <tr>\n      <th>2346</th>\n      <td>hyatt regency chennai</td>\n      <td>NaN</td>\n      <td>most impressive service by staff in all areas....</td>\n      <td>80.0</td>\n    </tr>\n    <tr>\n      <th>2347</th>\n      <td>new woodlands</td>\n      <td>homely villa</td>\n      <td>new woodlands chennai which gave me a homely e...</td>\n      <td>71.0</td>\n    </tr>\n    <tr>\n      <th>2348</th>\n      <td>samudra residency</td>\n      <td>nice accommodation and facilities</td>\n      <td>awesome i liked the neatness and maintenance. ...</td>\n      <td>100.0</td>\n    </tr>\n    <tr>\n      <th>2349</th>\n      <td>the residency chennai</td>\n      <td>the residency good centrally located hotel</td>\n      <td>the overall experience was good. however the w...</td>\n      <td>80.0</td>\n    </tr>\n    <tr>\n      <th>2350</th>\n      <td>cloud nine serviced apartments</td>\n      <td>homely stay with comfort and luxury</td>\n      <td>its a very cool and luxurious cottage to stay ...</td>\n      <td>71.0</td>\n    </tr>\n  </tbody>\n</table>\n<p>2351 rows × 4 columns</p>\n</div>"
     },
     "metadata": {},
     "execution_count": 13
    }
   ],
   "source": [
    "features = ['hotel_name', 'review_title', 'review_text']\n",
    "df[features] = df[features].apply(lambda x: x.str.lower())\n",
    "df"
   ]
  },
  {
   "cell_type": "code",
   "execution_count": 14,
   "metadata": {},
   "outputs": [
    {
     "output_type": "execute_result",
     "data": {
      "text/plain": [
       "                          hotel_name  \\\n",
       "id                                     \n",
       "0                         park hyatt   \n",
       "1                     hilton chennai   \n",
       "2                  the royal regency   \n",
       "3                             rivera   \n",
       "4                         park hyatt   \n",
       "...                              ...   \n",
       "2346           hyatt regency chennai   \n",
       "2347                   new woodlands   \n",
       "2348               samudra residency   \n",
       "2349           the residency chennai   \n",
       "2350  cloud nine serviced apartments   \n",
       "\n",
       "                                           review_title  \\\n",
       "id                                                        \n",
       "0                                     refuge in chennai   \n",
       "1                                        hilton chennai   \n",
       "2     no worth the rating shown in websites pricing ...   \n",
       "3                                             good stay   \n",
       "4                                     needs improvement   \n",
       "...                                                 ...   \n",
       "2346                                                NaN   \n",
       "2347                                       homely villa   \n",
       "2348                  nice accommodation and facilities   \n",
       "2349         the residency good centrally located hotel   \n",
       "2350                homely stay with comfort and luxury   \n",
       "\n",
       "                                            review_text  rating  \n",
       "id                                                               \n",
       "0     excellent room and exercise facility all aroun...    80.0  \n",
       "1     very comfortable and felt safe staff were very...   100.0  \n",
       "2     not worth the rating shown service is not good...    71.0  \n",
       "3     first of all nice courteous staff only one con...    86.0  \n",
       "4     overall ambience of the hotel is very good in ...    86.0  \n",
       "...                                                 ...     ...  \n",
       "2346  most impressive service by staff in all areas ...    80.0  \n",
       "2347  new woodlands chennai which gave me a homely e...    71.0  \n",
       "2348  awesome i liked the neatness and maintenance f...   100.0  \n",
       "2349  the overall experience was good however the wi...    80.0  \n",
       "2350  its a very cool and luxurious cottage to stay ...    71.0  \n",
       "\n",
       "[2351 rows x 4 columns]"
      ],
      "text/html": "<div>\n<style scoped>\n    .dataframe tbody tr th:only-of-type {\n        vertical-align: middle;\n    }\n\n    .dataframe tbody tr th {\n        vertical-align: top;\n    }\n\n    .dataframe thead th {\n        text-align: right;\n    }\n</style>\n<table border=\"1\" class=\"dataframe\">\n  <thead>\n    <tr style=\"text-align: right;\">\n      <th></th>\n      <th>hotel_name</th>\n      <th>review_title</th>\n      <th>review_text</th>\n      <th>rating</th>\n    </tr>\n    <tr>\n      <th>id</th>\n      <th></th>\n      <th></th>\n      <th></th>\n      <th></th>\n    </tr>\n  </thead>\n  <tbody>\n    <tr>\n      <th>0</th>\n      <td>park hyatt</td>\n      <td>refuge in chennai</td>\n      <td>excellent room and exercise facility all aroun...</td>\n      <td>80.0</td>\n    </tr>\n    <tr>\n      <th>1</th>\n      <td>hilton chennai</td>\n      <td>hilton chennai</td>\n      <td>very comfortable and felt safe staff were very...</td>\n      <td>100.0</td>\n    </tr>\n    <tr>\n      <th>2</th>\n      <td>the royal regency</td>\n      <td>no worth the rating shown in websites pricing ...</td>\n      <td>not worth the rating shown service is not good...</td>\n      <td>71.0</td>\n    </tr>\n    <tr>\n      <th>3</th>\n      <td>rivera</td>\n      <td>good stay</td>\n      <td>first of all nice courteous staff only one con...</td>\n      <td>86.0</td>\n    </tr>\n    <tr>\n      <th>4</th>\n      <td>park hyatt</td>\n      <td>needs improvement</td>\n      <td>overall ambience of the hotel is very good in ...</td>\n      <td>86.0</td>\n    </tr>\n    <tr>\n      <th>...</th>\n      <td>...</td>\n      <td>...</td>\n      <td>...</td>\n      <td>...</td>\n    </tr>\n    <tr>\n      <th>2346</th>\n      <td>hyatt regency chennai</td>\n      <td>NaN</td>\n      <td>most impressive service by staff in all areas ...</td>\n      <td>80.0</td>\n    </tr>\n    <tr>\n      <th>2347</th>\n      <td>new woodlands</td>\n      <td>homely villa</td>\n      <td>new woodlands chennai which gave me a homely e...</td>\n      <td>71.0</td>\n    </tr>\n    <tr>\n      <th>2348</th>\n      <td>samudra residency</td>\n      <td>nice accommodation and facilities</td>\n      <td>awesome i liked the neatness and maintenance f...</td>\n      <td>100.0</td>\n    </tr>\n    <tr>\n      <th>2349</th>\n      <td>the residency chennai</td>\n      <td>the residency good centrally located hotel</td>\n      <td>the overall experience was good however the wi...</td>\n      <td>80.0</td>\n    </tr>\n    <tr>\n      <th>2350</th>\n      <td>cloud nine serviced apartments</td>\n      <td>homely stay with comfort and luxury</td>\n      <td>its a very cool and luxurious cottage to stay ...</td>\n      <td>71.0</td>\n    </tr>\n  </tbody>\n</table>\n<p>2351 rows × 4 columns</p>\n</div>"
     },
     "metadata": {},
     "execution_count": 14
    }
   ],
   "source": [
    "df[features] = df[features].apply(lambda x: x.str.replace('[\\W]+', ' '))\n",
    "df"
   ]
  },
  {
   "cell_type": "code",
   "execution_count": 15,
   "metadata": {},
   "outputs": [
    {
     "output_type": "display_data",
     "data": {
      "text/plain": "hotel_name        0\nreview_title    215\nreview_text       0\nrating            0\ndtype: int64"
     },
     "metadata": {}
    },
    {
     "output_type": "display_data",
     "data": {
      "text/plain": "hotel_name      0\nreview_title    0\nreview_text     0\nrating          0\ndtype: int64"
     },
     "metadata": {}
    }
   ],
   "source": [
    "display(df.isna().sum())\n",
    "df = df.fillna('')\n",
    "display(df.isna().sum())"
   ]
  },
  {
   "cell_type": "code",
   "execution_count": 16,
   "metadata": {},
   "outputs": [
    {
     "output_type": "stream",
     "name": "stderr",
     "text": [
      "[nltk_data] Downloading package stopwords to /Users/denis/nltk_data...\n[nltk_data]   Package stopwords is already up-to-date!\n"
     ]
    },
    {
     "output_type": "execute_result",
     "data": {
      "text/plain": [
       "True"
      ]
     },
     "metadata": {},
     "execution_count": 16
    }
   ],
   "source": [
    "import nltk\n",
    "nltk.download('stopwords')"
   ]
  },
  {
   "cell_type": "code",
   "execution_count": 17,
   "metadata": {},
   "outputs": [
    {
     "output_type": "execute_result",
     "data": {
      "text/plain": [
       "179"
      ]
     },
     "metadata": {},
     "execution_count": 17
    }
   ],
   "source": [
    "from nltk.corpus import stopwords\n",
    "sw_eng = set(stopwords.words('english'))\n",
    "len(sw_eng)"
   ]
  },
  {
   "cell_type": "code",
   "execution_count": 18,
   "metadata": {},
   "outputs": [
    {
     "output_type": "execute_result",
     "data": {
      "text/plain": [
       "                          hotel_name                            review_title  \\\n",
       "id                                                                             \n",
       "0                         park hyatt                          refuge chennai   \n",
       "1                     hilton chennai                          hilton chennai   \n",
       "2                      royal regency  worth rating shown websites pricing ok   \n",
       "3                             rivera                               good stay   \n",
       "4                         park hyatt                       needs improvement   \n",
       "...                              ...                                     ...   \n",
       "2346           hyatt regency chennai                                           \n",
       "2347                   new woodlands                            homely villa   \n",
       "2348               samudra residency           nice accommodation facilities   \n",
       "2349               residency chennai  residency good centrally located hotel   \n",
       "2350  cloud nine serviced apartments              homely stay comfort luxury   \n",
       "\n",
       "                                            review_text  \n",
       "id                                                       \n",
       "0     excellent room exercise facility around atmosp...  \n",
       "1     comfortable felt safe staff helpful respectful...  \n",
       "2     worth rating shown service good room well main...  \n",
       "3     first nice courteous staff one con stay time c...  \n",
       "4     overall ambience hotel good room facilities ne...  \n",
       "...                                                 ...  \n",
       "2346  impressive service staff areas good restaurant...  \n",
       "2347  new woodlands chennai gave homely experience l...  \n",
       "2348  awesome liked neatness maintenance facilities ...  \n",
       "2349  overall experience good however wi fi getting ...  \n",
       "2350  cool luxurious cottage stay families couples e...  \n",
       "\n",
       "[2351 rows x 3 columns]"
      ],
      "text/html": "<div>\n<style scoped>\n    .dataframe tbody tr th:only-of-type {\n        vertical-align: middle;\n    }\n\n    .dataframe tbody tr th {\n        vertical-align: top;\n    }\n\n    .dataframe thead th {\n        text-align: right;\n    }\n</style>\n<table border=\"1\" class=\"dataframe\">\n  <thead>\n    <tr style=\"text-align: right;\">\n      <th></th>\n      <th>hotel_name</th>\n      <th>review_title</th>\n      <th>review_text</th>\n    </tr>\n    <tr>\n      <th>id</th>\n      <th></th>\n      <th></th>\n      <th></th>\n    </tr>\n  </thead>\n  <tbody>\n    <tr>\n      <th>0</th>\n      <td>park hyatt</td>\n      <td>refuge chennai</td>\n      <td>excellent room exercise facility around atmosp...</td>\n    </tr>\n    <tr>\n      <th>1</th>\n      <td>hilton chennai</td>\n      <td>hilton chennai</td>\n      <td>comfortable felt safe staff helpful respectful...</td>\n    </tr>\n    <tr>\n      <th>2</th>\n      <td>royal regency</td>\n      <td>worth rating shown websites pricing ok</td>\n      <td>worth rating shown service good room well main...</td>\n    </tr>\n    <tr>\n      <th>3</th>\n      <td>rivera</td>\n      <td>good stay</td>\n      <td>first nice courteous staff one con stay time c...</td>\n    </tr>\n    <tr>\n      <th>4</th>\n      <td>park hyatt</td>\n      <td>needs improvement</td>\n      <td>overall ambience hotel good room facilities ne...</td>\n    </tr>\n    <tr>\n      <th>...</th>\n      <td>...</td>\n      <td>...</td>\n      <td>...</td>\n    </tr>\n    <tr>\n      <th>2346</th>\n      <td>hyatt regency chennai</td>\n      <td></td>\n      <td>impressive service staff areas good restaurant...</td>\n    </tr>\n    <tr>\n      <th>2347</th>\n      <td>new woodlands</td>\n      <td>homely villa</td>\n      <td>new woodlands chennai gave homely experience l...</td>\n    </tr>\n    <tr>\n      <th>2348</th>\n      <td>samudra residency</td>\n      <td>nice accommodation facilities</td>\n      <td>awesome liked neatness maintenance facilities ...</td>\n    </tr>\n    <tr>\n      <th>2349</th>\n      <td>residency chennai</td>\n      <td>residency good centrally located hotel</td>\n      <td>overall experience good however wi fi getting ...</td>\n    </tr>\n    <tr>\n      <th>2350</th>\n      <td>cloud nine serviced apartments</td>\n      <td>homely stay comfort luxury</td>\n      <td>cool luxurious cottage stay families couples e...</td>\n    </tr>\n  </tbody>\n</table>\n<p>2351 rows × 3 columns</p>\n</div>"
     },
     "metadata": {},
     "execution_count": 18
    }
   ],
   "source": [
    "df[features] = df[features].apply(lambda x: x.apply(lambda y: ' '.join([word for word in y.split(' ') if not(word in sw_eng)])))\n",
    "df[features]"
   ]
  },
  {
   "cell_type": "code",
   "execution_count": 19,
   "metadata": {},
   "outputs": [
    {
     "output_type": "stream",
     "name": "stderr",
     "text": [
      "[nltk_data] Downloading package wordnet to /Users/denis/nltk_data...\n[nltk_data]   Package wordnet is already up-to-date!\n[nltk_data] Downloading package averaged_perceptron_tagger to\n[nltk_data]     /Users/denis/nltk_data...\n[nltk_data]   Package averaged_perceptron_tagger is already up-to-\n[nltk_data]       date!\n"
     ]
    },
    {
     "output_type": "execute_result",
     "data": {
      "text/plain": [
       "True"
      ]
     },
     "metadata": {},
     "execution_count": 19
    }
   ],
   "source": [
    "nltk.download('wordnet')\n",
    "nltk.download('averaged_perceptron_tagger')"
   ]
  },
  {
   "cell_type": "code",
   "execution_count": 20,
   "metadata": {},
   "outputs": [],
   "source": [
    "def get_wordnet_pos(treebank_tag):\n",
    "    my_switch = {\n",
    "        'J': wordnet.wordnet.ADJ,\n",
    "        'V': wordnet.wordnet.VERB,\n",
    "        'N': wordnet.wordnet.NOUN,\n",
    "        'R': wordnet.wordnet.ADV,\n",
    "    }\n",
    "    for key, item in my_switch.items():\n",
    "        if treebank_tag.startswith(key):\n",
    "            return item\n",
    "    return wordnet.wordnet.NOUN\n",
    "\n",
    "def my_lemmatizer(sent):\n",
    "    lemmatizer = WordNetLemmatizer()\n",
    "    tokenized_sent = sent.split()\n",
    "    pos_tagged = [(word, get_wordnet_pos(tag))\n",
    "                 for word, tag in pos_tag(tokenized_sent)]\n",
    "    return ' '.join([lemmatizer.lemmatize(word, tag)\n",
    "                    for word, tag in pos_tagged])"
   ]
  },
  {
   "cell_type": "code",
   "execution_count": 21,
   "metadata": {},
   "outputs": [
    {
     "output_type": "execute_result",
     "data": {
      "text/plain": [
       "'go'"
      ]
     },
     "metadata": {},
     "execution_count": 21
    }
   ],
   "source": [
    "my_lemmatizer('gone')"
   ]
  },
  {
   "cell_type": "code",
   "execution_count": 22,
   "metadata": {},
   "outputs": [
    {
     "output_type": "execute_result",
     "data": {
      "text/plain": [
       "                        hotel_name                           review_title  \\\n",
       "id                                                                          \n",
       "0                       park hyatt                         refuge chennai   \n",
       "1                   hilton chennai                         hilton chennai   \n",
       "2                    royal regency   worth rating show website pricing ok   \n",
       "3                           rivera                              good stay   \n",
       "4                       park hyatt                       need improvement   \n",
       "...                            ...                                    ...   \n",
       "2346         hyatt regency chennai                                          \n",
       "2347                  new woodland                           homely villa   \n",
       "2348             samudra residency            nice accommodation facility   \n",
       "2349             residency chennai  residency good centrally locate hotel   \n",
       "2350  cloud nine service apartment             homely stay comfort luxury   \n",
       "\n",
       "                                            review_text  rating  \n",
       "id                                                               \n",
       "0     excellent room exercise facility around atmosp...    80.0  \n",
       "1     comfortable felt safe staff helpful respectful...   100.0  \n",
       "2     worth rating show service good room well maint...    71.0  \n",
       "3     first nice courteous staff one con stay time c...    86.0  \n",
       "4     overall ambience hotel good room facility need...    86.0  \n",
       "...                                                 ...     ...  \n",
       "2346  impressive service staff area good restaurant ...    80.0  \n",
       "2347  new woodland chennai give homely experience lu...    71.0  \n",
       "2348  awesome like neatness maintenance facility rea...   100.0  \n",
       "2349  overall experience good however wi fi get disc...    80.0  \n",
       "2350  cool luxurious cottage stay family couple enjo...    71.0  \n",
       "\n",
       "[2351 rows x 4 columns]"
      ],
      "text/html": "<div>\n<style scoped>\n    .dataframe tbody tr th:only-of-type {\n        vertical-align: middle;\n    }\n\n    .dataframe tbody tr th {\n        vertical-align: top;\n    }\n\n    .dataframe thead th {\n        text-align: right;\n    }\n</style>\n<table border=\"1\" class=\"dataframe\">\n  <thead>\n    <tr style=\"text-align: right;\">\n      <th></th>\n      <th>hotel_name</th>\n      <th>review_title</th>\n      <th>review_text</th>\n      <th>rating</th>\n    </tr>\n    <tr>\n      <th>id</th>\n      <th></th>\n      <th></th>\n      <th></th>\n      <th></th>\n    </tr>\n  </thead>\n  <tbody>\n    <tr>\n      <th>0</th>\n      <td>park hyatt</td>\n      <td>refuge chennai</td>\n      <td>excellent room exercise facility around atmosp...</td>\n      <td>80.0</td>\n    </tr>\n    <tr>\n      <th>1</th>\n      <td>hilton chennai</td>\n      <td>hilton chennai</td>\n      <td>comfortable felt safe staff helpful respectful...</td>\n      <td>100.0</td>\n    </tr>\n    <tr>\n      <th>2</th>\n      <td>royal regency</td>\n      <td>worth rating show website pricing ok</td>\n      <td>worth rating show service good room well maint...</td>\n      <td>71.0</td>\n    </tr>\n    <tr>\n      <th>3</th>\n      <td>rivera</td>\n      <td>good stay</td>\n      <td>first nice courteous staff one con stay time c...</td>\n      <td>86.0</td>\n    </tr>\n    <tr>\n      <th>4</th>\n      <td>park hyatt</td>\n      <td>need improvement</td>\n      <td>overall ambience hotel good room facility need...</td>\n      <td>86.0</td>\n    </tr>\n    <tr>\n      <th>...</th>\n      <td>...</td>\n      <td>...</td>\n      <td>...</td>\n      <td>...</td>\n    </tr>\n    <tr>\n      <th>2346</th>\n      <td>hyatt regency chennai</td>\n      <td></td>\n      <td>impressive service staff area good restaurant ...</td>\n      <td>80.0</td>\n    </tr>\n    <tr>\n      <th>2347</th>\n      <td>new woodland</td>\n      <td>homely villa</td>\n      <td>new woodland chennai give homely experience lu...</td>\n      <td>71.0</td>\n    </tr>\n    <tr>\n      <th>2348</th>\n      <td>samudra residency</td>\n      <td>nice accommodation facility</td>\n      <td>awesome like neatness maintenance facility rea...</td>\n      <td>100.0</td>\n    </tr>\n    <tr>\n      <th>2349</th>\n      <td>residency chennai</td>\n      <td>residency good centrally locate hotel</td>\n      <td>overall experience good however wi fi get disc...</td>\n      <td>80.0</td>\n    </tr>\n    <tr>\n      <th>2350</th>\n      <td>cloud nine service apartment</td>\n      <td>homely stay comfort luxury</td>\n      <td>cool luxurious cottage stay family couple enjo...</td>\n      <td>71.0</td>\n    </tr>\n  </tbody>\n</table>\n<p>2351 rows × 4 columns</p>\n</div>"
     },
     "metadata": {},
     "execution_count": 22
    }
   ],
   "source": [
    "df[features] = df[features].apply(lambda x: x.apply(lambda y: ' '.join([my_lemmatizer(word) for word in y.split(' ')])))\n",
    "df"
   ]
  },
  {
   "cell_type": "code",
   "execution_count": 23,
   "metadata": {},
   "outputs": [
    {
     "output_type": "execute_result",
     "data": {
      "text/plain": [
       "id\n",
       "0       park hyattrefuge chennaiexcellent room exercis...\n",
       "1       hilton chennaihilton chennaicomfortable felt s...\n",
       "2       royal regencyworth rating show website pricing...\n",
       "3       riveragood stayfirst nice courteous staff one ...\n",
       "4       park hyattneed improvementoverall ambience hot...\n",
       "                              ...                        \n",
       "2346    hyatt regency chennaiimpressive service staff ...\n",
       "2347    new woodlandhomely villanew woodland chennai g...\n",
       "2348    samudra residencynice accommodation facilityaw...\n",
       "2349    residency chennairesidency good centrally loca...\n",
       "2350    cloud nine service apartmenthomely stay comfor...\n",
       "Length: 2351, dtype: object"
      ]
     },
     "metadata": {},
     "execution_count": 23
    }
   ],
   "source": [
    "all_text_series = df.hotel_name + df.review_title + df.review_text\n",
    "all_text_series"
   ]
  },
  {
   "cell_type": "code",
   "execution_count": 24,
   "metadata": {},
   "outputs": [
    {
     "output_type": "execute_result",
     "data": {
      "text/plain": [
       "5971"
      ]
     },
     "metadata": {},
     "execution_count": 24
    }
   ],
   "source": [
    "count_vect = CountVectorizer()\n",
    "count_vect.fit(all_text_series)\n",
    "len(count_vect.get_feature_names())"
   ]
  },
  {
   "cell_type": "code",
   "execution_count": 25,
   "metadata": {},
   "outputs": [
    {
     "output_type": "display_data",
     "data": {
      "text/plain": "matrix([[0, 0, 0, ..., 0, 0, 0],\n        [0, 0, 0, ..., 0, 0, 0],\n        [0, 0, 0, ..., 0, 0, 0],\n        ...,\n        [0, 0, 0, ..., 0, 0, 0],\n        [0, 0, 0, ..., 0, 0, 0],\n        [0, 0, 0, ..., 0, 0, 0]])"
     },
     "metadata": {}
    },
    {
     "output_type": "display_data",
     "data": {
      "text/plain": "id\n0        80.0\n1       100.0\n2        71.0\n3        86.0\n4        86.0\n        ...  \n2346     80.0\n2347     71.0\n2348    100.0\n2349     80.0\n2350     71.0\nName: rating, Length: 2351, dtype: float64"
     },
     "metadata": {}
    },
    {
     "output_type": "display_data",
     "data": {
      "text/plain": "(353,)"
     },
     "metadata": {}
    }
   ],
   "source": [
    "temp = count_vect.transform(all_text_series)\n",
    "X = temp.todense()\n",
    "y = df.rating\n",
    "display(X)\n",
    "display(y)\n",
    "X_train, X_test, y_train, y_test = train_test_split(X, y, test_size = 0.15)\n",
    "svm = SGDRegressor()\n",
    "svm.fit(X_train, y_train)\n",
    "predicted = svm.predict(X_test)\n",
    "display(predicted.shape)"
   ]
  },
  {
   "cell_type": "code",
   "execution_count": 26,
   "metadata": {},
   "outputs": [
    {
     "output_type": "display_data",
     "data": {
      "text/plain": "'Mean squared error: '"
     },
     "metadata": {}
    },
    {
     "output_type": "display_data",
     "data": {
      "text/plain": "238.02479118320093"
     },
     "metadata": {}
    },
    {
     "output_type": "display_data",
     "data": {
      "text/plain": "'R2 error: '"
     },
     "metadata": {}
    },
    {
     "output_type": "display_data",
     "data": {
      "text/plain": "0.46459055093669144"
     },
     "metadata": {}
    }
   ],
   "source": [
    "display('Mean squared error: ')\n",
    "display(mean_squared_error(y_test, predicted))\n",
    "display('R2 error: ')\n",
    "display(r2_score(y_test, predicted))"
   ]
  },
  {
   "source": [
    "** Неплохо! Попробуем Tf Idf ** "
   ],
   "cell_type": "markdown",
   "metadata": {}
  },
  {
   "cell_type": "code",
   "execution_count": 27,
   "metadata": {},
   "outputs": [
    {
     "output_type": "display_data",
     "data": {
      "text/plain": "'Mean squared error: '"
     },
     "metadata": {}
    },
    {
     "output_type": "display_data",
     "data": {
      "text/plain": "233.38320703361256"
     },
     "metadata": {}
    },
    {
     "output_type": "display_data",
     "data": {
      "text/plain": "'R2 error: '"
     },
     "metadata": {}
    },
    {
     "output_type": "display_data",
     "data": {
      "text/plain": "0.4335782278163506"
     },
     "metadata": {}
    }
   ],
   "source": [
    "tfidf = TfidfVectorizer()\n",
    "tfidf.fit(all_text_series)\n",
    "temp = count_vect.transform(all_text_series).todense()\n",
    "X = temp\n",
    "y = df.rating\n",
    "X_train, X_test, y_train, y_test = train_test_split(X, y, test_size = 0.15)\n",
    "svm = SGDRegressor()\n",
    "svm.fit(X_train, y_train)\n",
    "predicted = svm.predict(X_test)\n",
    "display('Mean squared error: ')\n",
    "display(mean_squared_error(y_test, predicted))\n",
    "display('R2 error: ')\n",
    "display(r2_score(y_test, predicted))\n"
   ]
  },
  {
   "source": [
    "** Немного лучше! Теперь попробуем другие модели **"
   ],
   "cell_type": "markdown",
   "metadata": {}
  },
  {
   "cell_type": "code",
   "execution_count": 28,
   "metadata": {},
   "outputs": [
    {
     "output_type": "display_data",
     "data": {
      "text/plain": "'Mean squared error: '"
     },
     "metadata": {}
    },
    {
     "output_type": "display_data",
     "data": {
      "text/plain": "198.80726543909353"
     },
     "metadata": {}
    },
    {
     "output_type": "display_data",
     "data": {
      "text/plain": "'R2 error: '"
     },
     "metadata": {}
    },
    {
     "output_type": "display_data",
     "data": {
      "text/plain": "0.5174941460257751"
     },
     "metadata": {}
    }
   ],
   "source": [
    "rfr = RandomForestRegressor(n_jobs=-1)\n",
    "rfr.fit(X_train, y_train)\n",
    "predicted = rfr.predict(X_test)\n",
    "display('Mean squared error: ')\n",
    "display(mean_squared_error(y_test, predicted))\n",
    "display('R2 error: ')\n",
    "display(r2_score(y_test, predicted))"
   ]
  },
  {
   "source": [
    "** Хороший результат! Попробуем теперь catboost **"
   ],
   "cell_type": "markdown",
   "metadata": {}
  },
  {
   "cell_type": "code",
   "execution_count": 29,
   "metadata": {
    "tags": [
     "outputPrepend"
    ]
   },
   "outputs": [
    {
     "output_type": "display_data",
     "data": {
      "text/plain": "      0     1     2     3     4     5     6     7     8     9     ...  5961  \\\n0        0     0     0     0     0     0     0     0     0     0  ...     0   \n1        0     0     0     0     0     0     0     0     0     0  ...     0   \n2        0     0     0     0     0     0     0     0     0     0  ...     0   \n3        0     0     0     0     0     0     0     0     0     0  ...     0   \n4        0     0     0     0     0     0     0     0     0     0  ...     0   \n...    ...   ...   ...   ...   ...   ...   ...   ...   ...   ...  ...   ...   \n1993     0     0     0     0     0     0     0     0     0     0  ...     0   \n1994     0     0     0     0     0     0     0     0     0     0  ...     0   \n1995     0     0     0     0     0     0     0     0     0     0  ...     0   \n1996     0     0     0     0     0     0     0     0     0     0  ...     0   \n1997     0     0     0     0     0     0     0     0     0     0  ...     0   \n\n      5962  5963  5964  5965  5966  5967  5968  5969  5970  \n0        0     0     0     0     0     0     0     0     0  \n1        0     0     0     0     0     0     0     0     0  \n2        0     0     0     0     0     0     0     0     0  \n3        0     0     0     0     0     0     0     0     0  \n4        0     0     0     0     0     0     0     0     0  \n...    ...   ...   ...   ...   ...   ...   ...   ...   ...  \n1993     0     0     0     0     0     0     0     0     0  \n1994     0     0     0     0     0     0     0     0     0  \n1995     0     0     0     0     0     0     0     0     0  \n1996     0     0     0     0     0     0     0     0     0  \n1997     0     0     0     0     0     0     0     0     0  \n\n[1998 rows x 5971 columns]",
      "text/html": "<div>\n<style scoped>\n    .dataframe tbody tr th:only-of-type {\n        vertical-align: middle;\n    }\n\n    .dataframe tbody tr th {\n        vertical-align: top;\n    }\n\n    .dataframe thead th {\n        text-align: right;\n    }\n</style>\n<table border=\"1\" class=\"dataframe\">\n  <thead>\n    <tr style=\"text-align: right;\">\n      <th></th>\n      <th>0</th>\n      <th>1</th>\n      <th>2</th>\n      <th>3</th>\n      <th>4</th>\n      <th>5</th>\n      <th>6</th>\n      <th>7</th>\n      <th>8</th>\n      <th>9</th>\n      <th>...</th>\n      <th>5961</th>\n      <th>5962</th>\n      <th>5963</th>\n      <th>5964</th>\n      <th>5965</th>\n      <th>5966</th>\n      <th>5967</th>\n      <th>5968</th>\n      <th>5969</th>\n      <th>5970</th>\n    </tr>\n  </thead>\n  <tbody>\n    <tr>\n      <th>0</th>\n      <td>0</td>\n      <td>0</td>\n      <td>0</td>\n      <td>0</td>\n      <td>0</td>\n      <td>0</td>\n      <td>0</td>\n      <td>0</td>\n      <td>0</td>\n      <td>0</td>\n      <td>...</td>\n      <td>0</td>\n      <td>0</td>\n      <td>0</td>\n      <td>0</td>\n      <td>0</td>\n      <td>0</td>\n      <td>0</td>\n      <td>0</td>\n      <td>0</td>\n      <td>0</td>\n    </tr>\n    <tr>\n      <th>1</th>\n      <td>0</td>\n      <td>0</td>\n      <td>0</td>\n      <td>0</td>\n      <td>0</td>\n      <td>0</td>\n      <td>0</td>\n      <td>0</td>\n      <td>0</td>\n      <td>0</td>\n      <td>...</td>\n      <td>0</td>\n      <td>0</td>\n      <td>0</td>\n      <td>0</td>\n      <td>0</td>\n      <td>0</td>\n      <td>0</td>\n      <td>0</td>\n      <td>0</td>\n      <td>0</td>\n    </tr>\n    <tr>\n      <th>2</th>\n      <td>0</td>\n      <td>0</td>\n      <td>0</td>\n      <td>0</td>\n      <td>0</td>\n      <td>0</td>\n      <td>0</td>\n      <td>0</td>\n      <td>0</td>\n      <td>0</td>\n      <td>...</td>\n      <td>0</td>\n      <td>0</td>\n      <td>0</td>\n      <td>0</td>\n      <td>0</td>\n      <td>0</td>\n      <td>0</td>\n      <td>0</td>\n      <td>0</td>\n      <td>0</td>\n    </tr>\n    <tr>\n      <th>3</th>\n      <td>0</td>\n      <td>0</td>\n      <td>0</td>\n      <td>0</td>\n      <td>0</td>\n      <td>0</td>\n      <td>0</td>\n      <td>0</td>\n      <td>0</td>\n      <td>0</td>\n      <td>...</td>\n      <td>0</td>\n      <td>0</td>\n      <td>0</td>\n      <td>0</td>\n      <td>0</td>\n      <td>0</td>\n      <td>0</td>\n      <td>0</td>\n      <td>0</td>\n      <td>0</td>\n    </tr>\n    <tr>\n      <th>4</th>\n      <td>0</td>\n      <td>0</td>\n      <td>0</td>\n      <td>0</td>\n      <td>0</td>\n      <td>0</td>\n      <td>0</td>\n      <td>0</td>\n      <td>0</td>\n      <td>0</td>\n      <td>...</td>\n      <td>0</td>\n      <td>0</td>\n      <td>0</td>\n      <td>0</td>\n      <td>0</td>\n      <td>0</td>\n      <td>0</td>\n      <td>0</td>\n      <td>0</td>\n      <td>0</td>\n    </tr>\n    <tr>\n      <th>...</th>\n      <td>...</td>\n      <td>...</td>\n      <td>...</td>\n      <td>...</td>\n      <td>...</td>\n      <td>...</td>\n      <td>...</td>\n      <td>...</td>\n      <td>...</td>\n      <td>...</td>\n      <td>...</td>\n      <td>...</td>\n      <td>...</td>\n      <td>...</td>\n      <td>...</td>\n      <td>...</td>\n      <td>...</td>\n      <td>...</td>\n      <td>...</td>\n      <td>...</td>\n      <td>...</td>\n    </tr>\n    <tr>\n      <th>1993</th>\n      <td>0</td>\n      <td>0</td>\n      <td>0</td>\n      <td>0</td>\n      <td>0</td>\n      <td>0</td>\n      <td>0</td>\n      <td>0</td>\n      <td>0</td>\n      <td>0</td>\n      <td>...</td>\n      <td>0</td>\n      <td>0</td>\n      <td>0</td>\n      <td>0</td>\n      <td>0</td>\n      <td>0</td>\n      <td>0</td>\n      <td>0</td>\n      <td>0</td>\n      <td>0</td>\n    </tr>\n    <tr>\n      <th>1994</th>\n      <td>0</td>\n      <td>0</td>\n      <td>0</td>\n      <td>0</td>\n      <td>0</td>\n      <td>0</td>\n      <td>0</td>\n      <td>0</td>\n      <td>0</td>\n      <td>0</td>\n      <td>...</td>\n      <td>0</td>\n      <td>0</td>\n      <td>0</td>\n      <td>0</td>\n      <td>0</td>\n      <td>0</td>\n      <td>0</td>\n      <td>0</td>\n      <td>0</td>\n      <td>0</td>\n    </tr>\n    <tr>\n      <th>1995</th>\n      <td>0</td>\n      <td>0</td>\n      <td>0</td>\n      <td>0</td>\n      <td>0</td>\n      <td>0</td>\n      <td>0</td>\n      <td>0</td>\n      <td>0</td>\n      <td>0</td>\n      <td>...</td>\n      <td>0</td>\n      <td>0</td>\n      <td>0</td>\n      <td>0</td>\n      <td>0</td>\n      <td>0</td>\n      <td>0</td>\n      <td>0</td>\n      <td>0</td>\n      <td>0</td>\n    </tr>\n    <tr>\n      <th>1996</th>\n      <td>0</td>\n      <td>0</td>\n      <td>0</td>\n      <td>0</td>\n      <td>0</td>\n      <td>0</td>\n      <td>0</td>\n      <td>0</td>\n      <td>0</td>\n      <td>0</td>\n      <td>...</td>\n      <td>0</td>\n      <td>0</td>\n      <td>0</td>\n      <td>0</td>\n      <td>0</td>\n      <td>0</td>\n      <td>0</td>\n      <td>0</td>\n      <td>0</td>\n      <td>0</td>\n    </tr>\n    <tr>\n      <th>1997</th>\n      <td>0</td>\n      <td>0</td>\n      <td>0</td>\n      <td>0</td>\n      <td>0</td>\n      <td>0</td>\n      <td>0</td>\n      <td>0</td>\n      <td>0</td>\n      <td>0</td>\n      <td>...</td>\n      <td>0</td>\n      <td>0</td>\n      <td>0</td>\n      <td>0</td>\n      <td>0</td>\n      <td>0</td>\n      <td>0</td>\n      <td>0</td>\n      <td>0</td>\n      <td>0</td>\n    </tr>\n  </tbody>\n</table>\n<p>1998 rows × 5971 columns</p>\n</div>"
     },
     "metadata": {}
    },
    {
     "output_type": "stream",
     "name": "stdout",
     "text": [
      "n: 12.1818171\ttotal: 6.47s\tremaining: 3.93s\n",
      "622:\tlearn: 12.1793511\ttotal: 6.48s\tremaining: 3.92s\n",
      "623:\tlearn: 12.1697192\ttotal: 6.49s\tremaining: 3.91s\n",
      "624:\tlearn: 12.1653647\ttotal: 6.5s\tremaining: 3.9s\n",
      "625:\tlearn: 12.1575821\ttotal: 6.51s\tremaining: 3.89s\n",
      "626:\tlearn: 12.1477685\ttotal: 6.52s\tremaining: 3.88s\n",
      "627:\tlearn: 12.1445793\ttotal: 6.53s\tremaining: 3.87s\n",
      "628:\tlearn: 12.1421192\ttotal: 6.54s\tremaining: 3.86s\n",
      "629:\tlearn: 12.1299251\ttotal: 6.55s\tremaining: 3.85s\n",
      "630:\tlearn: 12.1274768\ttotal: 6.57s\tremaining: 3.84s\n",
      "631:\tlearn: 12.1199778\ttotal: 6.58s\tremaining: 3.83s\n",
      "632:\tlearn: 12.1156376\ttotal: 6.59s\tremaining: 3.82s\n",
      "633:\tlearn: 12.1131950\ttotal: 6.6s\tremaining: 3.81s\n",
      "634:\tlearn: 12.1094444\ttotal: 6.61s\tremaining: 3.8s\n",
      "635:\tlearn: 12.0973663\ttotal: 6.62s\tremaining: 3.79s\n",
      "636:\tlearn: 12.0950340\ttotal: 6.63s\tremaining: 3.78s\n",
      "637:\tlearn: 12.0913183\ttotal: 6.64s\tremaining: 3.77s\n",
      "638:\tlearn: 12.0822334\ttotal: 6.65s\tremaining: 3.75s\n",
      "639:\tlearn: 12.0798122\ttotal: 6.66s\tremaining: 3.74s\n",
      "640:\tlearn: 12.0747299\ttotal: 6.67s\tremaining: 3.73s\n",
      "641:\tlearn: 12.0672893\ttotal: 6.68s\tremaining: 3.72s\n",
      "642:\tlearn: 12.0648777\ttotal: 6.69s\tremaining: 3.71s\n",
      "643:\tlearn: 12.0576281\ttotal: 6.7s\tremaining: 3.7s\n",
      "644:\tlearn: 12.0484873\ttotal: 6.71s\tremaining: 3.69s\n",
      "645:\tlearn: 12.0438034\ttotal: 6.72s\tremaining: 3.68s\n",
      "646:\tlearn: 12.0344535\ttotal: 6.73s\tremaining: 3.67s\n",
      "647:\tlearn: 12.0321361\ttotal: 6.74s\tremaining: 3.66s\n",
      "648:\tlearn: 12.0208236\ttotal: 6.75s\tremaining: 3.65s\n",
      "649:\tlearn: 12.0139743\ttotal: 6.76s\tremaining: 3.64s\n",
      "650:\tlearn: 12.0027421\ttotal: 6.77s\tremaining: 3.63s\n",
      "651:\tlearn: 12.0004608\ttotal: 6.78s\tremaining: 3.62s\n",
      "652:\tlearn: 11.9960324\ttotal: 6.79s\tremaining: 3.61s\n",
      "653:\tlearn: 11.9906963\ttotal: 6.8s\tremaining: 3.6s\n",
      "654:\tlearn: 11.9883302\ttotal: 6.81s\tremaining: 3.59s\n",
      "655:\tlearn: 11.9859291\ttotal: 6.82s\tremaining: 3.58s\n",
      "656:\tlearn: 11.9776756\ttotal: 6.83s\tremaining: 3.57s\n",
      "657:\tlearn: 11.9740915\ttotal: 6.84s\tremaining: 3.56s\n",
      "658:\tlearn: 11.9670525\ttotal: 6.85s\tremaining: 3.54s\n",
      "659:\tlearn: 11.9633881\ttotal: 6.86s\tremaining: 3.53s\n",
      "660:\tlearn: 11.9610216\ttotal: 6.87s\tremaining: 3.52s\n",
      "661:\tlearn: 11.9544524\ttotal: 6.88s\tremaining: 3.51s\n",
      "662:\tlearn: 11.9495928\ttotal: 6.89s\tremaining: 3.5s\n",
      "663:\tlearn: 11.9473144\ttotal: 6.9s\tremaining: 3.49s\n",
      "664:\tlearn: 11.9449687\ttotal: 6.91s\tremaining: 3.48s\n",
      "665:\tlearn: 11.9386970\ttotal: 6.92s\tremaining: 3.47s\n",
      "666:\tlearn: 11.9350317\ttotal: 6.93s\tremaining: 3.46s\n",
      "667:\tlearn: 11.9315570\ttotal: 6.94s\tremaining: 3.45s\n",
      "668:\tlearn: 11.9293451\ttotal: 6.95s\tremaining: 3.44s\n",
      "669:\tlearn: 11.9249716\ttotal: 6.96s\tremaining: 3.43s\n",
      "670:\tlearn: 11.9228871\ttotal: 6.97s\tremaining: 3.42s\n",
      "671:\tlearn: 11.9194279\ttotal: 6.98s\tremaining: 3.41s\n",
      "672:\tlearn: 11.9156693\ttotal: 6.99s\tremaining: 3.4s\n",
      "673:\tlearn: 11.9133828\ttotal: 7s\tremaining: 3.39s\n",
      "674:\tlearn: 11.9043352\ttotal: 7.01s\tremaining: 3.38s\n",
      "675:\tlearn: 11.9006876\ttotal: 7.02s\tremaining: 3.37s\n",
      "676:\tlearn: 11.8932850\ttotal: 7.03s\tremaining: 3.35s\n",
      "677:\tlearn: 11.8887569\ttotal: 7.04s\tremaining: 3.35s\n",
      "678:\tlearn: 11.8864518\ttotal: 7.05s\tremaining: 3.33s\n",
      "679:\tlearn: 11.8818275\ttotal: 7.07s\tremaining: 3.32s\n",
      "680:\tlearn: 11.8761512\ttotal: 7.08s\tremaining: 3.31s\n",
      "681:\tlearn: 11.8705186\ttotal: 7.08s\tremaining: 3.3s\n",
      "682:\tlearn: 11.8626241\ttotal: 7.09s\tremaining: 3.29s\n",
      "683:\tlearn: 11.8535090\ttotal: 7.11s\tremaining: 3.28s\n",
      "684:\tlearn: 11.8429036\ttotal: 7.12s\tremaining: 3.27s\n",
      "685:\tlearn: 11.8406364\ttotal: 7.13s\tremaining: 3.26s\n",
      "686:\tlearn: 11.8383814\ttotal: 7.14s\tremaining: 3.25s\n",
      "687:\tlearn: 11.8302300\ttotal: 7.15s\tremaining: 3.24s\n",
      "688:\tlearn: 11.8268007\ttotal: 7.16s\tremaining: 3.23s\n",
      "689:\tlearn: 11.8246848\ttotal: 7.17s\tremaining: 3.22s\n",
      "690:\tlearn: 11.8224113\ttotal: 7.18s\tremaining: 3.21s\n",
      "691:\tlearn: 11.8189626\ttotal: 7.19s\tremaining: 3.2s\n",
      "692:\tlearn: 11.8097051\ttotal: 7.2s\tremaining: 3.19s\n",
      "693:\tlearn: 11.8028696\ttotal: 7.21s\tremaining: 3.18s\n",
      "694:\tlearn: 11.7983084\ttotal: 7.22s\tremaining: 3.17s\n",
      "695:\tlearn: 11.7874230\ttotal: 7.23s\tremaining: 3.16s\n",
      "696:\tlearn: 11.7851875\ttotal: 7.24s\tremaining: 3.15s\n",
      "697:\tlearn: 11.7828924\ttotal: 7.25s\tremaining: 3.14s\n",
      "698:\tlearn: 11.7783737\ttotal: 7.26s\tremaining: 3.13s\n",
      "699:\tlearn: 11.7762504\ttotal: 7.27s\tremaining: 3.11s\n",
      "700:\tlearn: 11.7724672\ttotal: 7.28s\tremaining: 3.1s\n",
      "701:\tlearn: 11.7619576\ttotal: 7.29s\tremaining: 3.09s\n",
      "702:\tlearn: 11.7586707\ttotal: 7.3s\tremaining: 3.08s\n",
      "703:\tlearn: 11.7520583\ttotal: 7.31s\tremaining: 3.07s\n",
      "704:\tlearn: 11.7421899\ttotal: 7.32s\tremaining: 3.06s\n",
      "705:\tlearn: 11.7401039\ttotal: 7.33s\tremaining: 3.05s\n",
      "706:\tlearn: 11.7378884\ttotal: 7.34s\tremaining: 3.04s\n",
      "707:\tlearn: 11.7343914\ttotal: 7.35s\tremaining: 3.03s\n",
      "708:\tlearn: 11.7300139\ttotal: 7.36s\tremaining: 3.02s\n",
      "709:\tlearn: 11.7278050\ttotal: 7.37s\tremaining: 3.01s\n",
      "710:\tlearn: 11.7240190\ttotal: 7.38s\tremaining: 3s\n",
      "711:\tlearn: 11.7192736\ttotal: 7.39s\tremaining: 2.99s\n",
      "712:\tlearn: 11.7096455\ttotal: 7.4s\tremaining: 2.98s\n",
      "713:\tlearn: 11.7062942\ttotal: 7.41s\tremaining: 2.97s\n",
      "714:\tlearn: 11.7044670\ttotal: 7.42s\tremaining: 2.96s\n",
      "715:\tlearn: 11.6995863\ttotal: 7.43s\tremaining: 2.95s\n",
      "716:\tlearn: 11.6906760\ttotal: 7.44s\tremaining: 2.94s\n",
      "717:\tlearn: 11.6884779\ttotal: 7.45s\tremaining: 2.93s\n",
      "718:\tlearn: 11.6862913\ttotal: 7.46s\tremaining: 2.92s\n",
      "719:\tlearn: 11.6842301\ttotal: 7.47s\tremaining: 2.91s\n",
      "720:\tlearn: 11.6809680\ttotal: 7.48s\tremaining: 2.9s\n",
      "721:\tlearn: 11.6774071\ttotal: 7.49s\tremaining: 2.88s\n",
      "722:\tlearn: 11.6710099\ttotal: 7.5s\tremaining: 2.88s\n",
      "723:\tlearn: 11.6656300\ttotal: 7.51s\tremaining: 2.87s\n",
      "724:\tlearn: 11.6621848\ttotal: 7.53s\tremaining: 2.85s\n",
      "725:\tlearn: 11.6547494\ttotal: 7.54s\tremaining: 2.84s\n",
      "726:\tlearn: 11.6508548\ttotal: 7.54s\tremaining: 2.83s\n",
      "727:\tlearn: 11.6486251\ttotal: 7.55s\tremaining: 2.82s\n",
      "728:\tlearn: 11.6423146\ttotal: 7.57s\tremaining: 2.81s\n",
      "729:\tlearn: 11.6402996\ttotal: 7.58s\tremaining: 2.8s\n",
      "730:\tlearn: 11.6369424\ttotal: 7.58s\tremaining: 2.79s\n",
      "731:\tlearn: 11.6295484\ttotal: 7.6s\tremaining: 2.78s\n",
      "732:\tlearn: 11.6217989\ttotal: 7.61s\tremaining: 2.77s\n",
      "733:\tlearn: 11.6196301\ttotal: 7.62s\tremaining: 2.76s\n",
      "734:\tlearn: 11.6176331\ttotal: 7.63s\tremaining: 2.75s\n",
      "735:\tlearn: 11.6132445\ttotal: 7.64s\tremaining: 2.74s\n",
      "736:\tlearn: 11.6094142\ttotal: 7.65s\tremaining: 2.73s\n",
      "737:\tlearn: 11.6066131\ttotal: 7.66s\tremaining: 2.72s\n",
      "738:\tlearn: 11.6044246\ttotal: 7.67s\tremaining: 2.71s\n",
      "739:\tlearn: 11.5964051\ttotal: 7.68s\tremaining: 2.7s\n",
      "740:\tlearn: 11.5930469\ttotal: 7.69s\tremaining: 2.69s\n",
      "741:\tlearn: 11.5909221\ttotal: 7.7s\tremaining: 2.68s\n",
      "742:\tlearn: 11.5825303\ttotal: 7.71s\tremaining: 2.67s\n",
      "743:\tlearn: 11.5784772\ttotal: 7.72s\tremaining: 2.65s\n",
      "744:\tlearn: 11.5763002\ttotal: 7.73s\tremaining: 2.65s\n",
      "745:\tlearn: 11.5708434\ttotal: 7.74s\tremaining: 2.63s\n",
      "746:\tlearn: 11.5623091\ttotal: 7.75s\tremaining: 2.62s\n",
      "747:\tlearn: 11.5603340\ttotal: 7.76s\tremaining: 2.61s\n",
      "748:\tlearn: 11.5586413\ttotal: 7.77s\tremaining: 2.6s\n",
      "749:\tlearn: 11.5528434\ttotal: 7.78s\tremaining: 2.59s\n",
      "750:\tlearn: 11.5510022\ttotal: 7.79s\tremaining: 2.58s\n",
      "751:\tlearn: 11.5489957\ttotal: 7.8s\tremaining: 2.57s\n",
      "752:\tlearn: 11.5430260\ttotal: 7.81s\tremaining: 2.56s\n",
      "753:\tlearn: 11.5394158\ttotal: 7.82s\tremaining: 2.55s\n",
      "754:\tlearn: 11.5346723\ttotal: 7.83s\tremaining: 2.54s\n",
      "755:\tlearn: 11.5313141\ttotal: 7.84s\tremaining: 2.53s\n",
      "756:\tlearn: 11.5231517\ttotal: 7.85s\tremaining: 2.52s\n",
      "757:\tlearn: 11.5211072\ttotal: 7.86s\tremaining: 2.51s\n",
      "758:\tlearn: 11.5189272\ttotal: 7.87s\tremaining: 2.5s\n",
      "759:\tlearn: 11.5110257\ttotal: 7.88s\tremaining: 2.49s\n",
      "760:\tlearn: 11.5011987\ttotal: 7.89s\tremaining: 2.48s\n",
      "761:\tlearn: 11.4992527\ttotal: 7.9s\tremaining: 2.47s\n",
      "762:\tlearn: 11.4974851\ttotal: 7.91s\tremaining: 2.46s\n",
      "763:\tlearn: 11.4953826\ttotal: 7.92s\tremaining: 2.45s\n",
      "764:\tlearn: 11.4914487\ttotal: 7.93s\tremaining: 2.44s\n",
      "765:\tlearn: 11.4881872\ttotal: 7.94s\tremaining: 2.43s\n",
      "766:\tlearn: 11.4862829\ttotal: 7.95s\tremaining: 2.42s\n",
      "767:\tlearn: 11.4784162\ttotal: 7.96s\tremaining: 2.4s\n",
      "768:\tlearn: 11.4712907\ttotal: 7.97s\tremaining: 2.4s\n",
      "769:\tlearn: 11.4646748\ttotal: 7.98s\tremaining: 2.38s\n",
      "770:\tlearn: 11.4625814\ttotal: 7.99s\tremaining: 2.37s\n",
      "771:\tlearn: 11.4587421\ttotal: 8.01s\tremaining: 2.36s\n",
      "772:\tlearn: 11.4567522\ttotal: 8.02s\tremaining: 2.35s\n",
      "773:\tlearn: 11.4548160\ttotal: 8.03s\tremaining: 2.34s\n",
      "774:\tlearn: 11.4493060\ttotal: 8.04s\tremaining: 2.33s\n",
      "775:\tlearn: 11.4450512\ttotal: 8.04s\tremaining: 2.32s\n",
      "776:\tlearn: 11.4410803\ttotal: 8.05s\tremaining: 2.31s\n",
      "777:\tlearn: 11.4323383\ttotal: 8.06s\tremaining: 2.3s\n",
      "778:\tlearn: 11.4294371\ttotal: 8.07s\tremaining: 2.29s\n",
      "779:\tlearn: 11.4261645\ttotal: 8.09s\tremaining: 2.28s\n",
      "780:\tlearn: 11.4198076\ttotal: 8.1s\tremaining: 2.27s\n",
      "781:\tlearn: 11.4165562\ttotal: 8.11s\tremaining: 2.26s\n",
      "782:\tlearn: 11.4135073\ttotal: 8.12s\tremaining: 2.25s\n",
      "783:\tlearn: 11.4098891\ttotal: 8.13s\tremaining: 2.24s\n",
      "784:\tlearn: 11.4077724\ttotal: 8.14s\tremaining: 2.23s\n",
      "785:\tlearn: 11.4056934\ttotal: 8.15s\tremaining: 2.22s\n",
      "786:\tlearn: 11.4012888\ttotal: 8.16s\tremaining: 2.21s\n",
      "787:\tlearn: 11.3968996\ttotal: 8.17s\tremaining: 2.2s\n",
      "788:\tlearn: 11.3950455\ttotal: 8.18s\tremaining: 2.19s\n",
      "789:\tlearn: 11.3929794\ttotal: 8.19s\tremaining: 2.18s\n",
      "790:\tlearn: 11.3819430\ttotal: 8.2s\tremaining: 2.17s\n",
      "791:\tlearn: 11.3789676\ttotal: 8.21s\tremaining: 2.15s\n",
      "792:\tlearn: 11.3742763\ttotal: 8.22s\tremaining: 2.15s\n",
      "793:\tlearn: 11.3663306\ttotal: 8.23s\tremaining: 2.13s\n",
      "794:\tlearn: 11.3593229\ttotal: 8.24s\tremaining: 2.12s\n",
      "795:\tlearn: 11.3551090\ttotal: 8.25s\tremaining: 2.11s\n",
      "796:\tlearn: 11.3511104\ttotal: 8.26s\tremaining: 2.1s\n",
      "797:\tlearn: 11.3490688\ttotal: 8.27s\tremaining: 2.09s\n",
      "798:\tlearn: 11.3407475\ttotal: 8.28s\tremaining: 2.08s\n",
      "799:\tlearn: 11.3366227\ttotal: 8.29s\tremaining: 2.07s\n",
      "800:\tlearn: 11.3345551\ttotal: 8.3s\tremaining: 2.06s\n",
      "801:\tlearn: 11.3324725\ttotal: 8.31s\tremaining: 2.05s\n",
      "802:\tlearn: 11.3304372\ttotal: 8.32s\tremaining: 2.04s\n",
      "803:\tlearn: 11.3272710\ttotal: 8.33s\tremaining: 2.03s\n",
      "804:\tlearn: 11.3242777\ttotal: 8.35s\tremaining: 2.02s\n",
      "805:\tlearn: 11.3207927\ttotal: 8.36s\tremaining: 2.01s\n",
      "806:\tlearn: 11.3187641\ttotal: 8.37s\tremaining: 2s\n",
      "807:\tlearn: 11.3146646\ttotal: 8.38s\tremaining: 1.99s\n",
      "808:\tlearn: 11.3044489\ttotal: 8.39s\tremaining: 1.98s\n",
      "809:\tlearn: 11.2966828\ttotal: 8.4s\tremaining: 1.97s\n",
      "810:\tlearn: 11.2909340\ttotal: 8.41s\tremaining: 1.96s\n",
      "811:\tlearn: 11.2881002\ttotal: 8.42s\tremaining: 1.95s\n",
      "812:\tlearn: 11.2844787\ttotal: 8.43s\tremaining: 1.94s\n",
      "813:\tlearn: 11.2815039\ttotal: 8.44s\tremaining: 1.93s\n",
      "814:\tlearn: 11.2796611\ttotal: 8.45s\tremaining: 1.92s\n",
      "815:\tlearn: 11.2759798\ttotal: 8.46s\tremaining: 1.91s\n",
      "816:\tlearn: 11.2741143\ttotal: 8.47s\tremaining: 1.9s\n",
      "817:\tlearn: 11.2692027\ttotal: 8.48s\tremaining: 1.89s\n",
      "818:\tlearn: 11.2660567\ttotal: 8.49s\tremaining: 1.88s\n",
      "819:\tlearn: 11.2640415\ttotal: 8.5s\tremaining: 1.86s\n",
      "820:\tlearn: 11.2525071\ttotal: 8.51s\tremaining: 1.85s\n",
      "821:\tlearn: 11.2504788\ttotal: 8.52s\tremaining: 1.84s\n",
      "822:\tlearn: 11.2466606\ttotal: 8.53s\tremaining: 1.83s\n",
      "823:\tlearn: 11.2413423\ttotal: 8.54s\tremaining: 1.82s\n",
      "824:\tlearn: 11.2393167\ttotal: 8.55s\tremaining: 1.81s\n",
      "825:\tlearn: 11.2373138\ttotal: 8.56s\tremaining: 1.8s\n",
      "826:\tlearn: 11.2352974\ttotal: 8.57s\tremaining: 1.79s\n",
      "827:\tlearn: 11.2333043\ttotal: 8.58s\tremaining: 1.78s\n",
      "828:\tlearn: 11.2249025\ttotal: 8.59s\tremaining: 1.77s\n",
      "829:\tlearn: 11.2228294\ttotal: 8.6s\tremaining: 1.76s\n",
      "830:\tlearn: 11.2171810\ttotal: 8.61s\tremaining: 1.75s\n",
      "831:\tlearn: 11.2152608\ttotal: 8.62s\tremaining: 1.74s\n",
      "832:\tlearn: 11.2084934\ttotal: 8.63s\tremaining: 1.73s\n",
      "833:\tlearn: 11.2017382\ttotal: 8.64s\tremaining: 1.72s\n",
      "834:\tlearn: 11.1948632\ttotal: 8.65s\tremaining: 1.71s\n",
      "835:\tlearn: 11.1864701\ttotal: 8.66s\tremaining: 1.7s\n",
      "836:\tlearn: 11.1844701\ttotal: 8.67s\tremaining: 1.69s\n",
      "837:\tlearn: 11.1768510\ttotal: 8.68s\tremaining: 1.68s\n",
      "838:\tlearn: 11.1694595\ttotal: 8.69s\tremaining: 1.67s\n",
      "839:\tlearn: 11.1665747\ttotal: 8.7s\tremaining: 1.66s\n",
      "840:\tlearn: 11.1645912\ttotal: 8.71s\tremaining: 1.65s\n",
      "841:\tlearn: 11.1626161\ttotal: 8.72s\tremaining: 1.64s\n",
      "842:\tlearn: 11.1606461\ttotal: 8.73s\tremaining: 1.63s\n",
      "843:\tlearn: 11.1546555\ttotal: 8.74s\tremaining: 1.62s\n",
      "844:\tlearn: 11.1516440\ttotal: 8.76s\tremaining: 1.61s\n",
      "845:\tlearn: 11.1496769\ttotal: 8.77s\tremaining: 1.59s\n",
      "846:\tlearn: 11.1406272\ttotal: 8.78s\tremaining: 1.58s\n",
      "847:\tlearn: 11.1386078\ttotal: 8.79s\tremaining: 1.57s\n",
      "848:\tlearn: 11.1346288\ttotal: 8.8s\tremaining: 1.56s\n",
      "849:\tlearn: 11.1300559\ttotal: 8.81s\tremaining: 1.55s\n",
      "850:\tlearn: 11.1282272\ttotal: 8.82s\tremaining: 1.54s\n",
      "851:\tlearn: 11.1262586\ttotal: 8.83s\tremaining: 1.53s\n",
      "852:\tlearn: 11.1243079\ttotal: 8.84s\tremaining: 1.52s\n",
      "853:\tlearn: 11.1223498\ttotal: 8.85s\tremaining: 1.51s\n",
      "854:\tlearn: 11.1176408\ttotal: 8.86s\tremaining: 1.5s\n",
      "855:\tlearn: 11.1145360\ttotal: 8.87s\tremaining: 1.49s\n",
      "856:\tlearn: 11.1107635\ttotal: 8.88s\tremaining: 1.48s\n",
      "857:\tlearn: 11.1044684\ttotal: 8.89s\tremaining: 1.47s\n",
      "858:\tlearn: 11.1025129\ttotal: 8.9s\tremaining: 1.46s\n",
      "859:\tlearn: 11.0959467\ttotal: 8.91s\tremaining: 1.45s\n",
      "860:\tlearn: 11.0940411\ttotal: 8.92s\tremaining: 1.44s\n",
      "861:\tlearn: 11.0859153\ttotal: 8.93s\tremaining: 1.43s\n",
      "862:\tlearn: 11.0803404\ttotal: 8.94s\tremaining: 1.42s\n",
      "863:\tlearn: 11.0783898\ttotal: 8.95s\tremaining: 1.41s\n",
      "864:\tlearn: 11.0764623\ttotal: 8.96s\tremaining: 1.4s\n",
      "865:\tlearn: 11.0737322\ttotal: 8.97s\tremaining: 1.39s\n",
      "866:\tlearn: 11.0715340\ttotal: 8.98s\tremaining: 1.38s\n",
      "867:\tlearn: 11.0689484\ttotal: 8.99s\tremaining: 1.37s\n",
      "868:\tlearn: 11.0670141\ttotal: 9s\tremaining: 1.36s\n",
      "869:\tlearn: 11.0651047\ttotal: 9.01s\tremaining: 1.35s\n",
      "870:\tlearn: 11.0581806\ttotal: 9.02s\tremaining: 1.33s\n",
      "871:\tlearn: 11.0488630\ttotal: 9.03s\tremaining: 1.32s\n",
      "872:\tlearn: 11.0449561\ttotal: 9.04s\tremaining: 1.31s\n",
      "873:\tlearn: 11.0368865\ttotal: 9.05s\tremaining: 1.3s\n",
      "874:\tlearn: 11.0333103\ttotal: 9.06s\tremaining: 1.29s\n",
      "875:\tlearn: 11.0313910\ttotal: 9.07s\tremaining: 1.28s\n",
      "876:\tlearn: 11.0294641\ttotal: 9.08s\tremaining: 1.27s\n",
      "877:\tlearn: 11.0221981\ttotal: 9.09s\tremaining: 1.26s\n",
      "878:\tlearn: 11.0169382\ttotal: 9.1s\tremaining: 1.25s\n",
      "879:\tlearn: 11.0138981\ttotal: 9.11s\tremaining: 1.24s\n",
      "880:\tlearn: 11.0088440\ttotal: 9.12s\tremaining: 1.23s\n",
      "881:\tlearn: 11.0025853\ttotal: 9.13s\tremaining: 1.22s\n",
      "882:\tlearn: 10.9981782\ttotal: 9.14s\tremaining: 1.21s\n",
      "883:\tlearn: 10.9962515\ttotal: 9.15s\tremaining: 1.2s\n",
      "884:\tlearn: 10.9930953\ttotal: 9.16s\tremaining: 1.19s\n",
      "885:\tlearn: 10.9865798\ttotal: 9.17s\tremaining: 1.18s\n",
      "886:\tlearn: 10.9833253\ttotal: 9.18s\tremaining: 1.17s\n",
      "887:\tlearn: 10.9803230\ttotal: 9.19s\tremaining: 1.16s\n",
      "888:\tlearn: 10.9774052\ttotal: 9.2s\tremaining: 1.15s\n",
      "889:\tlearn: 10.9748041\ttotal: 9.21s\tremaining: 1.14s\n",
      "890:\tlearn: 10.9681648\ttotal: 9.22s\tremaining: 1.13s\n",
      "891:\tlearn: 10.9655543\ttotal: 9.23s\tremaining: 1.12s\n",
      "892:\tlearn: 10.9625365\ttotal: 9.24s\tremaining: 1.11s\n",
      "893:\tlearn: 10.9606203\ttotal: 9.25s\tremaining: 1.1s\n",
      "894:\tlearn: 10.9560991\ttotal: 9.26s\tremaining: 1.09s\n",
      "895:\tlearn: 10.9518222\ttotal: 9.27s\tremaining: 1.08s\n",
      "896:\tlearn: 10.9500799\ttotal: 9.28s\tremaining: 1.07s\n",
      "897:\tlearn: 10.9471002\ttotal: 9.29s\tremaining: 1.05s\n",
      "898:\tlearn: 10.9430311\ttotal: 9.3s\tremaining: 1.04s\n",
      "899:\tlearn: 10.9411213\ttotal: 9.31s\tremaining: 1.03s\n",
      "900:\tlearn: 10.9393889\ttotal: 9.32s\tremaining: 1.02s\n",
      "901:\tlearn: 10.9374878\ttotal: 9.33s\tremaining: 1.01s\n",
      "902:\tlearn: 10.9357788\ttotal: 9.34s\tremaining: 1s\n",
      "903:\tlearn: 10.9309284\ttotal: 9.36s\tremaining: 994ms\n",
      "904:\tlearn: 10.9281350\ttotal: 9.37s\tremaining: 983ms\n",
      "905:\tlearn: 10.9246521\ttotal: 9.38s\tremaining: 973ms\n",
      "906:\tlearn: 10.9227652\ttotal: 9.38s\tremaining: 962ms\n",
      "907:\tlearn: 10.9208917\ttotal: 9.39s\tremaining: 952ms\n",
      "908:\tlearn: 10.9190131\ttotal: 9.4s\tremaining: 942ms\n",
      "909:\tlearn: 10.9171415\ttotal: 9.41s\tremaining: 931ms\n",
      "910:\tlearn: 10.9100068\ttotal: 9.43s\tremaining: 921ms\n",
      "911:\tlearn: 10.9069755\ttotal: 9.44s\tremaining: 910ms\n",
      "912:\tlearn: 10.8996827\ttotal: 9.45s\tremaining: 900ms\n",
      "913:\tlearn: 10.8978105\ttotal: 9.46s\tremaining: 890ms\n",
      "914:\tlearn: 10.8960682\ttotal: 9.47s\tremaining: 879ms\n",
      "915:\tlearn: 10.8930805\ttotal: 9.48s\tremaining: 869ms\n",
      "916:\tlearn: 10.8875262\ttotal: 9.49s\tremaining: 859ms\n",
      "917:\tlearn: 10.8797872\ttotal: 9.5s\tremaining: 848ms\n",
      "918:\tlearn: 10.8773402\ttotal: 9.51s\tremaining: 838ms\n",
      "919:\tlearn: 10.8727741\ttotal: 9.52s\tremaining: 828ms\n",
      "920:\tlearn: 10.8708638\ttotal: 9.53s\tremaining: 817ms\n",
      "921:\tlearn: 10.8669337\ttotal: 9.54s\tremaining: 807ms\n",
      "922:\tlearn: 10.8640186\ttotal: 9.55s\tremaining: 797ms\n",
      "923:\tlearn: 10.8568133\ttotal: 9.56s\tremaining: 786ms\n",
      "924:\tlearn: 10.8549607\ttotal: 9.57s\tremaining: 776ms\n",
      "925:\tlearn: 10.8517342\ttotal: 9.58s\tremaining: 765ms\n",
      "926:\tlearn: 10.8488388\ttotal: 9.59s\tremaining: 755ms\n",
      "927:\tlearn: 10.8471609\ttotal: 9.6s\tremaining: 745ms\n",
      "928:\tlearn: 10.8427828\ttotal: 9.61s\tremaining: 734ms\n",
      "929:\tlearn: 10.8347037\ttotal: 9.62s\tremaining: 724ms\n",
      "930:\tlearn: 10.8329034\ttotal: 9.63s\tremaining: 714ms\n",
      "931:\tlearn: 10.8309126\ttotal: 9.64s\tremaining: 703ms\n",
      "932:\tlearn: 10.8208464\ttotal: 9.65s\tremaining: 693ms\n",
      "933:\tlearn: 10.8129186\ttotal: 9.66s\tremaining: 683ms\n",
      "934:\tlearn: 10.8089846\ttotal: 9.67s\tremaining: 672ms\n",
      "935:\tlearn: 10.8071378\ttotal: 9.68s\tremaining: 662ms\n",
      "936:\tlearn: 10.8003554\ttotal: 9.69s\tremaining: 652ms\n",
      "937:\tlearn: 10.7956236\ttotal: 9.7s\tremaining: 641ms\n",
      "938:\tlearn: 10.7899771\ttotal: 9.71s\tremaining: 631ms\n",
      "939:\tlearn: 10.7840022\ttotal: 9.72s\tremaining: 621ms\n",
      "940:\tlearn: 10.7806238\ttotal: 9.73s\tremaining: 610ms\n",
      "941:\tlearn: 10.7749962\ttotal: 9.74s\tremaining: 600ms\n",
      "942:\tlearn: 10.7731512\ttotal: 9.75s\tremaining: 590ms\n",
      "943:\tlearn: 10.7658948\ttotal: 9.76s\tremaining: 579ms\n",
      "944:\tlearn: 10.7640604\ttotal: 9.78s\tremaining: 569ms\n",
      "945:\tlearn: 10.7623281\ttotal: 9.79s\tremaining: 559ms\n",
      "946:\tlearn: 10.7605347\ttotal: 9.8s\tremaining: 548ms\n",
      "947:\tlearn: 10.7573798\ttotal: 9.81s\tremaining: 538ms\n",
      "948:\tlearn: 10.7494529\ttotal: 9.82s\tremaining: 528ms\n",
      "949:\tlearn: 10.7469091\ttotal: 9.83s\tremaining: 517ms\n",
      "950:\tlearn: 10.7391617\ttotal: 9.84s\tremaining: 507ms\n",
      "951:\tlearn: 10.7327843\ttotal: 9.85s\tremaining: 497ms\n",
      "952:\tlearn: 10.7309411\ttotal: 9.86s\tremaining: 486ms\n",
      "953:\tlearn: 10.7262287\ttotal: 9.87s\tremaining: 476ms\n",
      "954:\tlearn: 10.7233606\ttotal: 9.88s\tremaining: 465ms\n",
      "955:\tlearn: 10.7174609\ttotal: 9.89s\tremaining: 455ms\n",
      "956:\tlearn: 10.7098934\ttotal: 9.9s\tremaining: 445ms\n",
      "957:\tlearn: 10.7043256\ttotal: 9.91s\tremaining: 434ms\n",
      "958:\tlearn: 10.7025757\ttotal: 9.92s\tremaining: 424ms\n",
      "959:\tlearn: 10.6999006\ttotal: 9.93s\tremaining: 414ms\n",
      "960:\tlearn: 10.6980743\ttotal: 9.94s\tremaining: 403ms\n",
      "961:\tlearn: 10.6961306\ttotal: 9.95s\tremaining: 393ms\n",
      "962:\tlearn: 10.6926793\ttotal: 9.96s\tremaining: 383ms\n",
      "963:\tlearn: 10.6875533\ttotal: 9.97s\tremaining: 372ms\n",
      "964:\tlearn: 10.6857349\ttotal: 9.98s\tremaining: 362ms\n",
      "965:\tlearn: 10.6810326\ttotal: 9.99s\tremaining: 352ms\n",
      "966:\tlearn: 10.6792712\ttotal: 10s\tremaining: 341ms\n",
      "967:\tlearn: 10.6765901\ttotal: 10s\tremaining: 331ms\n",
      "968:\tlearn: 10.6739709\ttotal: 10s\tremaining: 321ms\n",
      "969:\tlearn: 10.6688206\ttotal: 10s\tremaining: 310ms\n",
      "970:\tlearn: 10.6659868\ttotal: 10s\tremaining: 300ms\n",
      "971:\tlearn: 10.6616599\ttotal: 10.1s\tremaining: 290ms\n",
      "972:\tlearn: 10.6598546\ttotal: 10.1s\tremaining: 279ms\n",
      "973:\tlearn: 10.6567501\ttotal: 10.1s\tremaining: 269ms\n",
      "974:\tlearn: 10.6549446\ttotal: 10.1s\tremaining: 259ms\n",
      "975:\tlearn: 10.6532977\ttotal: 10.1s\tremaining: 248ms\n",
      "976:\tlearn: 10.6500800\ttotal: 10.1s\tremaining: 238ms\n",
      "977:\tlearn: 10.6470630\ttotal: 10.1s\tremaining: 228ms\n",
      "978:\tlearn: 10.6452719\ttotal: 10.1s\tremaining: 217ms\n",
      "979:\tlearn: 10.6420615\ttotal: 10.1s\tremaining: 207ms\n",
      "980:\tlearn: 10.6391830\ttotal: 10.1s\tremaining: 197ms\n",
      "981:\tlearn: 10.6365455\ttotal: 10.2s\tremaining: 186ms\n",
      "982:\tlearn: 10.6347405\ttotal: 10.2s\tremaining: 176ms\n",
      "983:\tlearn: 10.6329583\ttotal: 10.2s\tremaining: 166ms\n",
      "984:\tlearn: 10.6312595\ttotal: 10.2s\tremaining: 155ms\n",
      "985:\tlearn: 10.6231169\ttotal: 10.2s\tremaining: 145ms\n",
      "986:\tlearn: 10.6176930\ttotal: 10.2s\tremaining: 134ms\n",
      "987:\tlearn: 10.6148581\ttotal: 10.2s\tremaining: 124ms\n",
      "988:\tlearn: 10.6120492\ttotal: 10.2s\tremaining: 114ms\n",
      "989:\tlearn: 10.6056930\ttotal: 10.2s\tremaining: 103ms\n",
      "990:\tlearn: 10.6038905\ttotal: 10.3s\tremaining: 93.1ms\n",
      "991:\tlearn: 10.5974941\ttotal: 10.3s\tremaining: 82.8ms\n",
      "992:\tlearn: 10.5947576\ttotal: 10.3s\tremaining: 72.4ms\n",
      "993:\tlearn: 10.5918889\ttotal: 10.3s\tremaining: 62.1ms\n",
      "994:\tlearn: 10.5901075\ttotal: 10.3s\tremaining: 51.7ms\n",
      "995:\tlearn: 10.5883297\ttotal: 10.3s\tremaining: 41.4ms\n",
      "996:\tlearn: 10.5852292\ttotal: 10.3s\tremaining: 31ms\n",
      "997:\tlearn: 10.5796714\ttotal: 10.3s\tremaining: 20.7ms\n",
      "998:\tlearn: 10.5767292\ttotal: 10.3s\tremaining: 10.3ms\n",
      "999:\tlearn: 10.5721775\ttotal: 10.3s\tremaining: 0us\n"
     ]
    },
    {
     "output_type": "display_data",
     "data": {
      "text/plain": "'Mean squared error: '"
     },
     "metadata": {}
    },
    {
     "output_type": "display_data",
     "data": {
      "text/plain": "213.16813012946693"
     },
     "metadata": {}
    },
    {
     "output_type": "display_data",
     "data": {
      "text/plain": "'R2 error: '"
     },
     "metadata": {}
    },
    {
     "output_type": "display_data",
     "data": {
      "text/plain": "0.4826402825820383"
     },
     "metadata": {}
    }
   ],
   "source": [
    "cbr = CatBoostRegressor()\n",
    "kek = pd.DataFrame(X_train)\n",
    "kek2 = pd.DataFrame(X_test)\n",
    "display(kek)\n",
    "cbr.fit(kek, y_train)\n",
    "predicted = cbr.predict(kek2)\n",
    "display('Mean squared error: ')\n",
    "display(mean_squared_error(y_test, predicted))\n",
    "display('R2 error: ')\n",
    "display(r2_score(y_test, predicted))"
   ]
  },
  {
   "source": [
    "** Лучшим оказался RandomForestClassifier с tf idf **"
   ],
   "cell_type": "markdown",
   "metadata": {}
  },
  {
   "cell_type": "code",
   "execution_count": 30,
   "metadata": {},
   "outputs": [
    {
     "output_type": "stream",
     "name": "stdout",
     "text": [
      "The autoreload extension is already loaded. To reload it, use:\n  %reload_ext autoreload\n"
     ]
    }
   ],
   "source": [
    "%load_ext autoreload\n",
    "%autoreload 2"
   ]
  },
  {
   "cell_type": "code",
   "execution_count": 31,
   "metadata": {},
   "outputs": [
    {
     "output_type": "stream",
     "name": "stdout",
     "text": [
      "['positive-words.txt', 'sample submission.csv', 'words_from_train.pickle', 'SentiWordNet.txt', 'test.csv', '__pycache__', 'preprocessing.py', 'solve.ipynb', 'train.csv', 'negative-words.txt', 'catboost_info']\n",
      "                          hotel_name                            review_title  \\\n",
      "id                                                                             \n",
      "0                         park hyatt                          refuge chennai   \n",
      "1                     hilton chennai                          hilton chennai   \n",
      "2                      royal regency  worth rating shown websites pricing ok   \n",
      "3                             rivera                               good stay   \n",
      "4                         park hyatt                       needs improvement   \n",
      "...                              ...                                     ...   \n",
      "2346           hyatt regency chennai                                           \n",
      "2347                   new woodlands                            homely villa   \n",
      "2348               samudra residency           nice accommodation facilities   \n",
      "2349               residency chennai  residency good centrally located hotel   \n",
      "2350  cloud nine serviced apartments              homely stay comfort luxury   \n",
      "\n",
      "                                            review_text  rating  \n",
      "id                                                               \n",
      "0     excellent room exercise facility around atmosp...    80.0  \n",
      "1     comfortable felt safe staff helpful respectful...   100.0  \n",
      "2     worth rating shown service good room well main...    71.0  \n",
      "3     first nice courteous staff one con stay time c...    86.0  \n",
      "4     overall ambience hotel good room facilities ne...    86.0  \n",
      "...                                                 ...     ...  \n",
      "2346  impressive service staff areas good restaurant...    80.0  \n",
      "2347  new woodlands chennai gave homely experience l...    71.0  \n",
      "2348  awesome liked neatness maintenance facilities ...   100.0  \n",
      "2349  overall experience good however wi fi getting ...    80.0  \n",
      "2350  cool luxurious cottage stay families couples e...    71.0  \n",
      "\n",
      "[2351 rows x 4 columns]\n",
      "[nltk_data] Downloading package stopwords to /Users/denis/nltk_data...\n",
      "[nltk_data]   Package stopwords is already up-to-date!\n",
      "[nltk_data] Downloading package wordnet to /Users/denis/nltk_data...\n",
      "[nltk_data]   Package wordnet is already up-to-date!\n",
      "[nltk_data] Downloading package averaged_perceptron_tagger to\n",
      "[nltk_data]     /Users/denis/nltk_data...\n",
      "[nltk_data]   Package averaged_perceptron_tagger is already up-to-\n",
      "[nltk_data]       date!\n"
     ]
    },
    {
     "output_type": "display_data",
     "data": {
      "text/plain": "matrix([[0., 0., 0., ..., 0., 0., 0.],\n        [0., 0., 0., ..., 0., 0., 0.],\n        [0., 0., 0., ..., 0., 0., 0.],\n        ...,\n        [0., 0., 0., ..., 0., 0., 0.],\n        [0., 0., 0., ..., 0., 0., 0.],\n        [0., 0., 0., ..., 0., 0., 0.]])"
     },
     "metadata": {}
    },
    {
     "output_type": "display_data",
     "data": {
      "text/plain": "'Mean squared error: '"
     },
     "metadata": {}
    },
    {
     "output_type": "display_data",
     "data": {
      "text/plain": "227.38890254957508"
     },
     "metadata": {}
    },
    {
     "output_type": "display_data",
     "data": {
      "text/plain": "'R2 error: '"
     },
     "metadata": {}
    },
    {
     "output_type": "display_data",
     "data": {
      "text/plain": "0.47900385160933123"
     },
     "metadata": {}
    }
   ],
   "source": [
    "from preprocessing import preprocess\n",
    "X = preprocess('train.csv')\n",
    "display(X)\n",
    "X_train, X_test, y_train, y_test = train_test_split(X, y, test_size = 0.15)\n",
    "rfr = RandomForestRegressor(n_jobs=-1)\n",
    "rfr.fit(X_train, y_train)\n",
    "predicted = rfr.predict(X_test)\n",
    "display('Mean squared error: ')\n",
    "display(mean_squared_error(y_test, predicted))\n",
    "display('R2 error: ')\n",
    "display(r2_score(y_test, predicted))"
   ]
  },
  {
   "cell_type": "code",
   "execution_count": 35,
   "metadata": {},
   "outputs": [
    {
     "output_type": "stream",
     "name": "stdout",
     "text": [
      "['positive-words.txt', 'sample submission.csv', 'words_from_train.pickle', 'SentiWordNet.txt', 'test.csv', '__pycache__', 'preprocessing.py', 'solve.ipynb', 'train.csv', 'negative-words.txt', 'catboost_info']\n",
      "[nltk_data] Downloading package stopwords to /Users/denis/nltk_data...\n",
      "[nltk_data]   Package stopwords is already up-to-date!\n",
      "[nltk_data] Downloading package wordnet to /Users/denis/nltk_data...\n",
      "[nltk_data]   Package wordnet is already up-to-date!\n",
      "[nltk_data] Downloading package averaged_perceptron_tagger to\n",
      "[nltk_data]     /Users/denis/nltk_data...\n",
      "[nltk_data]   Package averaged_perceptron_tagger is already up-to-\n",
      "[nltk_data]       date!\n"
     ]
    },
    {
     "output_type": "display_data",
     "data": {
      "text/plain": "array([91.58, 69.64, 75.42, ..., 45.09, 47.81, 79.45])"
     },
     "metadata": {}
    }
   ],
   "source": [
    "rfr = RandomForestRegressor(n_jobs=-1)\n",
    "X_train, y_train, X_test = preprocess(path_train='train.csv', path_test='test.csv')\n",
    "rfr.fit(X_train, y_train)\n",
    "y_test = rfr.predict(X_test)\n",
    "display(y_test)"
   ]
  },
  {
   "cell_type": "code",
   "execution_count": 39,
   "metadata": {},
   "outputs": [],
   "source": [
    "y_test = np.round(y_test).astype(int)"
   ]
  },
  {
   "cell_type": "code",
   "execution_count": 45,
   "metadata": {},
   "outputs": [
    {
     "output_type": "display_data",
     "data": {
      "text/plain": "      Rating\nId          \n2351      92\n2352      70\n2353      75\n2354      51\n2355      73\n...      ...\n4698      86\n4699      74\n4700      45\n4701      48\n4702      79\n\n[2352 rows x 1 columns]",
      "text/html": "<div>\n<style scoped>\n    .dataframe tbody tr th:only-of-type {\n        vertical-align: middle;\n    }\n\n    .dataframe tbody tr th {\n        vertical-align: top;\n    }\n\n    .dataframe thead th {\n        text-align: right;\n    }\n</style>\n<table border=\"1\" class=\"dataframe\">\n  <thead>\n    <tr style=\"text-align: right;\">\n      <th></th>\n      <th>Rating</th>\n    </tr>\n    <tr>\n      <th>Id</th>\n      <th></th>\n    </tr>\n  </thead>\n  <tbody>\n    <tr>\n      <th>2351</th>\n      <td>92</td>\n    </tr>\n    <tr>\n      <th>2352</th>\n      <td>70</td>\n    </tr>\n    <tr>\n      <th>2353</th>\n      <td>75</td>\n    </tr>\n    <tr>\n      <th>2354</th>\n      <td>51</td>\n    </tr>\n    <tr>\n      <th>2355</th>\n      <td>73</td>\n    </tr>\n    <tr>\n      <th>...</th>\n      <td>...</td>\n    </tr>\n    <tr>\n      <th>4698</th>\n      <td>86</td>\n    </tr>\n    <tr>\n      <th>4699</th>\n      <td>74</td>\n    </tr>\n    <tr>\n      <th>4700</th>\n      <td>45</td>\n    </tr>\n    <tr>\n      <th>4701</th>\n      <td>48</td>\n    </tr>\n    <tr>\n      <th>4702</th>\n      <td>79</td>\n    </tr>\n  </tbody>\n</table>\n<p>2352 rows × 1 columns</p>\n</div>"
     },
     "metadata": {}
    }
   ],
   "source": [
    "temp_test = pd.read_csv('test.csv', encoding='ISO-8859-1')\n",
    "my_submission = pd.DataFrame(y_test, index=temp_test['Id'], columns=['Rating'])\n",
    "display(my_submission)\n",
    "my_submission.to_csv('my_submission.csv')"
   ]
  }
 ]
}