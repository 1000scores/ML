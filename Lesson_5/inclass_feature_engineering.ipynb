{
 "cells": [
  {
   "cell_type": "markdown",
   "metadata": {
    "button": false,
    "colab_type": "text",
    "id": "YUqVw8u7gi0Z",
    "new_sheet": false,
    "run_control": {
     "read_only": false
    }
   },
   "source": [
    "https://www.youtube.com/watch?v=R88rid6k8nM\n",
    "# Что мы узнаем сегодня?\n",
    "\n",
    "\n",
    "1. [Как работать с пропусками в данных](#Пропуски-в-данных)\n",
    "2. [Как работать с категориальными признаками](#Категориальные-признаки)\n",
    "3. [Полезные преобразования данных](#Полезные-преобразования-данных)\n",
    "4. [Инжинирим признаки](#Инжинирим-признаки)\n",
    "5. [Поговорим про отбор признаков](#Отбор-признаков)\n",
    "6. [KaggleInClass](#KaggleInClass)"
   ]
  },
  {
   "cell_type": "markdown",
   "metadata": {
    "button": false,
    "colab_type": "text",
    "id": "Cz8Q1iZPgi0a",
    "new_sheet": false,
    "run_control": {
     "read_only": false
    }
   },
   "source": [
    "# Пропуски в данных\n",
    "\n",
    "Рассмотрим датасет `communities and crime`. Этот датасет содержит различные признаки, которые характеризуют район. Задача предсказать уровень преступности на 100 тысяч человек. Это задача регрессии."
   ]
  },
  {
   "cell_type": "code",
   "execution_count": 3,
   "metadata": {
    "button": false,
    "colab": {},
    "colab_type": "code",
    "id": "FexrNwsVgi0a",
    "new_sheet": false,
    "run_control": {
     "read_only": false
    }
   },
   "outputs": [],
   "source": [
    "import numpy as np\n",
    "import pandas as pd\n",
    "\n",
    "# Датасет взят отсюда: http://archive.ics.uci.edu/ml/datasets/communities+and+crime\n",
    "# Загружаем датасет\n",
    "\n",
    "x = pd.read_csv('communites.csv',delimiter=',', header=None)"
   ]
  },
  {
   "cell_type": "code",
   "execution_count": 4,
   "metadata": {
    "button": false,
    "colab": {},
    "colab_type": "code",
    "id": "MMcMTmEhgi0d",
    "new_sheet": false,
    "outputId": "938d0762-fbff-4572-cd0b-8a1707863fce",
    "run_control": {
     "read_only": false
    }
   },
   "outputs": [
    {
     "output_type": "stream",
     "name": "stdout",
     "text": [
      "<class 'pandas.core.frame.DataFrame'>\nRangeIndex: 1994 entries, 0 to 1993\nColumns: 128 entries, 0 to 127\ndtypes: float64(100), int64(2), object(26)\nmemory usage: 1.9+ MB\n"
     ]
    }
   ],
   "source": [
    "x.info()"
   ]
  },
  {
   "cell_type": "markdown",
   "metadata": {
    "button": false,
    "colab_type": "text",
    "id": "7iIFv4axgi0h",
    "new_sheet": false,
    "run_control": {
     "read_only": false
    }
   },
   "source": [
    "Итак, у нас 1994 района и 122 признака, `ViolentCrimesPerPop` наша таргетная переменная.\n",
    "\n",
    "Давайте взглянем на данные:"
   ]
  },
  {
   "cell_type": "code",
   "execution_count": 5,
   "metadata": {
    "button": false,
    "colab": {
     "base_uri": "https://localhost:8080/",
     "height": 158
    },
    "colab_type": "code",
    "executionInfo": {
     "elapsed": 827,
     "status": "error",
     "timestamp": 1566984991602,
     "user": {
      "displayName": "Татьяна Колинкова",
      "photoUrl": "https://lh3.googleusercontent.com/a-/AAuE7mCfmXmG_a7aTl3yOf3BIP0Ku33817aGXBx91T8fpw=s64",
      "userId": "04352531878150482118"
     },
     "user_tz": -180
    },
    "id": "U6O95oiJgi0i",
    "new_sheet": false,
    "outputId": "c162bbd4-08d7-4f9e-b24c-53b168a377d0",
    "run_control": {
     "read_only": false
    }
   },
   "outputs": [
    {
     "output_type": "execute_result",
     "data": {
      "text/plain": [
       "   0     1      2                    3    4     5     6     7     8     9    \\\n",
       "0    8  None   None         Lakewoodcity    1  0.19  0.33  0.02  0.90  0.12   \n",
       "1   53  None   None          Tukwilacity    1  0.00  0.16  0.12  0.74  0.45   \n",
       "2   24  None   None         Aberdeentown    1  0.00  0.42  0.49  0.56  0.17   \n",
       "3   34     5  81440  Willingborotownship    1  0.04  0.77  1.00  0.08  0.12   \n",
       "4   42    95   6096    Bethlehemtownship    1  0.01  0.55  0.02  0.95  0.09   \n",
       "\n",
       "   ...   118   119   120   121   122   123   124   125   126   127  \n",
       "0  ...  0.12  0.26  0.20  0.06  0.04   0.9   0.5  0.32  0.14  0.20  \n",
       "1  ...  0.02  0.12  0.45  None  None  None  None  0.00  None  0.67  \n",
       "2  ...  0.01  0.21  0.02  None  None  None  None  0.00  None  0.43  \n",
       "3  ...  0.02  0.39  0.28  None  None  None  None  0.00  None  0.12  \n",
       "4  ...  0.04  0.09  0.02  None  None  None  None  0.00  None  0.03  \n",
       "\n",
       "[5 rows x 128 columns]"
      ],
      "text/html": "<div>\n<style scoped>\n    .dataframe tbody tr th:only-of-type {\n        vertical-align: middle;\n    }\n\n    .dataframe tbody tr th {\n        vertical-align: top;\n    }\n\n    .dataframe thead th {\n        text-align: right;\n    }\n</style>\n<table border=\"1\" class=\"dataframe\">\n  <thead>\n    <tr style=\"text-align: right;\">\n      <th></th>\n      <th>0</th>\n      <th>1</th>\n      <th>2</th>\n      <th>3</th>\n      <th>4</th>\n      <th>5</th>\n      <th>6</th>\n      <th>7</th>\n      <th>8</th>\n      <th>9</th>\n      <th>...</th>\n      <th>118</th>\n      <th>119</th>\n      <th>120</th>\n      <th>121</th>\n      <th>122</th>\n      <th>123</th>\n      <th>124</th>\n      <th>125</th>\n      <th>126</th>\n      <th>127</th>\n    </tr>\n  </thead>\n  <tbody>\n    <tr>\n      <th>0</th>\n      <td>8</td>\n      <td>None</td>\n      <td>None</td>\n      <td>Lakewoodcity</td>\n      <td>1</td>\n      <td>0.19</td>\n      <td>0.33</td>\n      <td>0.02</td>\n      <td>0.90</td>\n      <td>0.12</td>\n      <td>...</td>\n      <td>0.12</td>\n      <td>0.26</td>\n      <td>0.20</td>\n      <td>0.06</td>\n      <td>0.04</td>\n      <td>0.9</td>\n      <td>0.5</td>\n      <td>0.32</td>\n      <td>0.14</td>\n      <td>0.20</td>\n    </tr>\n    <tr>\n      <th>1</th>\n      <td>53</td>\n      <td>None</td>\n      <td>None</td>\n      <td>Tukwilacity</td>\n      <td>1</td>\n      <td>0.00</td>\n      <td>0.16</td>\n      <td>0.12</td>\n      <td>0.74</td>\n      <td>0.45</td>\n      <td>...</td>\n      <td>0.02</td>\n      <td>0.12</td>\n      <td>0.45</td>\n      <td>None</td>\n      <td>None</td>\n      <td>None</td>\n      <td>None</td>\n      <td>0.00</td>\n      <td>None</td>\n      <td>0.67</td>\n    </tr>\n    <tr>\n      <th>2</th>\n      <td>24</td>\n      <td>None</td>\n      <td>None</td>\n      <td>Aberdeentown</td>\n      <td>1</td>\n      <td>0.00</td>\n      <td>0.42</td>\n      <td>0.49</td>\n      <td>0.56</td>\n      <td>0.17</td>\n      <td>...</td>\n      <td>0.01</td>\n      <td>0.21</td>\n      <td>0.02</td>\n      <td>None</td>\n      <td>None</td>\n      <td>None</td>\n      <td>None</td>\n      <td>0.00</td>\n      <td>None</td>\n      <td>0.43</td>\n    </tr>\n    <tr>\n      <th>3</th>\n      <td>34</td>\n      <td>5</td>\n      <td>81440</td>\n      <td>Willingborotownship</td>\n      <td>1</td>\n      <td>0.04</td>\n      <td>0.77</td>\n      <td>1.00</td>\n      <td>0.08</td>\n      <td>0.12</td>\n      <td>...</td>\n      <td>0.02</td>\n      <td>0.39</td>\n      <td>0.28</td>\n      <td>None</td>\n      <td>None</td>\n      <td>None</td>\n      <td>None</td>\n      <td>0.00</td>\n      <td>None</td>\n      <td>0.12</td>\n    </tr>\n    <tr>\n      <th>4</th>\n      <td>42</td>\n      <td>95</td>\n      <td>6096</td>\n      <td>Bethlehemtownship</td>\n      <td>1</td>\n      <td>0.01</td>\n      <td>0.55</td>\n      <td>0.02</td>\n      <td>0.95</td>\n      <td>0.09</td>\n      <td>...</td>\n      <td>0.04</td>\n      <td>0.09</td>\n      <td>0.02</td>\n      <td>None</td>\n      <td>None</td>\n      <td>None</td>\n      <td>None</td>\n      <td>0.00</td>\n      <td>None</td>\n      <td>0.03</td>\n    </tr>\n  </tbody>\n</table>\n<p>5 rows × 128 columns</p>\n</div>"
     },
     "metadata": {},
     "execution_count": 5
    }
   ],
   "source": [
    "# Посмотрим на данные:\n",
    "x.head()"
   ]
  },
  {
   "cell_type": "code",
   "execution_count": 6,
   "metadata": {},
   "outputs": [],
   "source": [
    "x.replace('None', np.nan, inplace=True)"
   ]
  },
  {
   "cell_type": "markdown",
   "metadata": {
    "button": false,
    "colab_type": "text",
    "id": "FsZpeJoFgi0l",
    "new_sheet": false,
    "run_control": {
     "read_only": false
    }
   },
   "source": [
    "Видим глазами много пропусков. А как узнать сколько значений не известно?"
   ]
  },
  {
   "cell_type": "code",
   "execution_count": 7,
   "metadata": {
    "scrolled": true
   },
   "outputs": [
    {
     "output_type": "execute_result",
     "data": {
      "text/plain": [
       "        0      1      2      3      4      5      6      7      8      9    \\\n",
       "0     False   True   True  False  False  False  False  False  False  False   \n",
       "1     False   True   True  False  False  False  False  False  False  False   \n",
       "2     False   True   True  False  False  False  False  False  False  False   \n",
       "3     False  False  False  False  False  False  False  False  False  False   \n",
       "4     False  False  False  False  False  False  False  False  False  False   \n",
       "...     ...    ...    ...    ...    ...    ...    ...    ...    ...    ...   \n",
       "1989  False   True   True  False  False  False  False  False  False  False   \n",
       "1990  False   True   True  False  False  False  False  False  False  False   \n",
       "1991  False  False  False  False  False  False  False  False  False  False   \n",
       "1992  False  False  False  False  False  False  False  False  False  False   \n",
       "1993  False   True   True  False  False  False  False  False  False  False   \n",
       "\n",
       "      ...    118    119    120    121    122    123    124    125    126  \\\n",
       "0     ...  False  False  False  False  False  False  False  False  False   \n",
       "1     ...  False  False  False   True   True   True   True  False   True   \n",
       "2     ...  False  False  False   True   True   True   True  False   True   \n",
       "3     ...  False  False  False   True   True   True   True  False   True   \n",
       "4     ...  False  False  False   True   True   True   True  False   True   \n",
       "...   ...    ...    ...    ...    ...    ...    ...    ...    ...    ...   \n",
       "1989  ...  False  False  False   True   True   True   True  False   True   \n",
       "1990  ...  False  False  False   True   True   True   True  False   True   \n",
       "1991  ...  False  False  False  False  False  False  False  False  False   \n",
       "1992  ...  False  False  False  False  False  False  False  False  False   \n",
       "1993  ...  False  False  False  False  False  False  False  False  False   \n",
       "\n",
       "        127  \n",
       "0     False  \n",
       "1     False  \n",
       "2     False  \n",
       "3     False  \n",
       "4     False  \n",
       "...     ...  \n",
       "1989  False  \n",
       "1990  False  \n",
       "1991  False  \n",
       "1992  False  \n",
       "1993  False  \n",
       "\n",
       "[1994 rows x 128 columns]"
      ],
      "text/html": "<div>\n<style scoped>\n    .dataframe tbody tr th:only-of-type {\n        vertical-align: middle;\n    }\n\n    .dataframe tbody tr th {\n        vertical-align: top;\n    }\n\n    .dataframe thead th {\n        text-align: right;\n    }\n</style>\n<table border=\"1\" class=\"dataframe\">\n  <thead>\n    <tr style=\"text-align: right;\">\n      <th></th>\n      <th>0</th>\n      <th>1</th>\n      <th>2</th>\n      <th>3</th>\n      <th>4</th>\n      <th>5</th>\n      <th>6</th>\n      <th>7</th>\n      <th>8</th>\n      <th>9</th>\n      <th>...</th>\n      <th>118</th>\n      <th>119</th>\n      <th>120</th>\n      <th>121</th>\n      <th>122</th>\n      <th>123</th>\n      <th>124</th>\n      <th>125</th>\n      <th>126</th>\n      <th>127</th>\n    </tr>\n  </thead>\n  <tbody>\n    <tr>\n      <th>0</th>\n      <td>False</td>\n      <td>True</td>\n      <td>True</td>\n      <td>False</td>\n      <td>False</td>\n      <td>False</td>\n      <td>False</td>\n      <td>False</td>\n      <td>False</td>\n      <td>False</td>\n      <td>...</td>\n      <td>False</td>\n      <td>False</td>\n      <td>False</td>\n      <td>False</td>\n      <td>False</td>\n      <td>False</td>\n      <td>False</td>\n      <td>False</td>\n      <td>False</td>\n      <td>False</td>\n    </tr>\n    <tr>\n      <th>1</th>\n      <td>False</td>\n      <td>True</td>\n      <td>True</td>\n      <td>False</td>\n      <td>False</td>\n      <td>False</td>\n      <td>False</td>\n      <td>False</td>\n      <td>False</td>\n      <td>False</td>\n      <td>...</td>\n      <td>False</td>\n      <td>False</td>\n      <td>False</td>\n      <td>True</td>\n      <td>True</td>\n      <td>True</td>\n      <td>True</td>\n      <td>False</td>\n      <td>True</td>\n      <td>False</td>\n    </tr>\n    <tr>\n      <th>2</th>\n      <td>False</td>\n      <td>True</td>\n      <td>True</td>\n      <td>False</td>\n      <td>False</td>\n      <td>False</td>\n      <td>False</td>\n      <td>False</td>\n      <td>False</td>\n      <td>False</td>\n      <td>...</td>\n      <td>False</td>\n      <td>False</td>\n      <td>False</td>\n      <td>True</td>\n      <td>True</td>\n      <td>True</td>\n      <td>True</td>\n      <td>False</td>\n      <td>True</td>\n      <td>False</td>\n    </tr>\n    <tr>\n      <th>3</th>\n      <td>False</td>\n      <td>False</td>\n      <td>False</td>\n      <td>False</td>\n      <td>False</td>\n      <td>False</td>\n      <td>False</td>\n      <td>False</td>\n      <td>False</td>\n      <td>False</td>\n      <td>...</td>\n      <td>False</td>\n      <td>False</td>\n      <td>False</td>\n      <td>True</td>\n      <td>True</td>\n      <td>True</td>\n      <td>True</td>\n      <td>False</td>\n      <td>True</td>\n      <td>False</td>\n    </tr>\n    <tr>\n      <th>4</th>\n      <td>False</td>\n      <td>False</td>\n      <td>False</td>\n      <td>False</td>\n      <td>False</td>\n      <td>False</td>\n      <td>False</td>\n      <td>False</td>\n      <td>False</td>\n      <td>False</td>\n      <td>...</td>\n      <td>False</td>\n      <td>False</td>\n      <td>False</td>\n      <td>True</td>\n      <td>True</td>\n      <td>True</td>\n      <td>True</td>\n      <td>False</td>\n      <td>True</td>\n      <td>False</td>\n    </tr>\n    <tr>\n      <th>...</th>\n      <td>...</td>\n      <td>...</td>\n      <td>...</td>\n      <td>...</td>\n      <td>...</td>\n      <td>...</td>\n      <td>...</td>\n      <td>...</td>\n      <td>...</td>\n      <td>...</td>\n      <td>...</td>\n      <td>...</td>\n      <td>...</td>\n      <td>...</td>\n      <td>...</td>\n      <td>...</td>\n      <td>...</td>\n      <td>...</td>\n      <td>...</td>\n      <td>...</td>\n      <td>...</td>\n    </tr>\n    <tr>\n      <th>1989</th>\n      <td>False</td>\n      <td>True</td>\n      <td>True</td>\n      <td>False</td>\n      <td>False</td>\n      <td>False</td>\n      <td>False</td>\n      <td>False</td>\n      <td>False</td>\n      <td>False</td>\n      <td>...</td>\n      <td>False</td>\n      <td>False</td>\n      <td>False</td>\n      <td>True</td>\n      <td>True</td>\n      <td>True</td>\n      <td>True</td>\n      <td>False</td>\n      <td>True</td>\n      <td>False</td>\n    </tr>\n    <tr>\n      <th>1990</th>\n      <td>False</td>\n      <td>True</td>\n      <td>True</td>\n      <td>False</td>\n      <td>False</td>\n      <td>False</td>\n      <td>False</td>\n      <td>False</td>\n      <td>False</td>\n      <td>False</td>\n      <td>...</td>\n      <td>False</td>\n      <td>False</td>\n      <td>False</td>\n      <td>True</td>\n      <td>True</td>\n      <td>True</td>\n      <td>True</td>\n      <td>False</td>\n      <td>True</td>\n      <td>False</td>\n    </tr>\n    <tr>\n      <th>1991</th>\n      <td>False</td>\n      <td>False</td>\n      <td>False</td>\n      <td>False</td>\n      <td>False</td>\n      <td>False</td>\n      <td>False</td>\n      <td>False</td>\n      <td>False</td>\n      <td>False</td>\n      <td>...</td>\n      <td>False</td>\n      <td>False</td>\n      <td>False</td>\n      <td>False</td>\n      <td>False</td>\n      <td>False</td>\n      <td>False</td>\n      <td>False</td>\n      <td>False</td>\n      <td>False</td>\n    </tr>\n    <tr>\n      <th>1992</th>\n      <td>False</td>\n      <td>False</td>\n      <td>False</td>\n      <td>False</td>\n      <td>False</td>\n      <td>False</td>\n      <td>False</td>\n      <td>False</td>\n      <td>False</td>\n      <td>False</td>\n      <td>...</td>\n      <td>False</td>\n      <td>False</td>\n      <td>False</td>\n      <td>False</td>\n      <td>False</td>\n      <td>False</td>\n      <td>False</td>\n      <td>False</td>\n      <td>False</td>\n      <td>False</td>\n    </tr>\n    <tr>\n      <th>1993</th>\n      <td>False</td>\n      <td>True</td>\n      <td>True</td>\n      <td>False</td>\n      <td>False</td>\n      <td>False</td>\n      <td>False</td>\n      <td>False</td>\n      <td>False</td>\n      <td>False</td>\n      <td>...</td>\n      <td>False</td>\n      <td>False</td>\n      <td>False</td>\n      <td>False</td>\n      <td>False</td>\n      <td>False</td>\n      <td>False</td>\n      <td>False</td>\n      <td>False</td>\n      <td>False</td>\n    </tr>\n  </tbody>\n</table>\n<p>1994 rows × 128 columns</p>\n</div>"
     },
     "metadata": {},
     "execution_count": 7
    }
   ],
   "source": [
    "x.isna()"
   ]
  },
  {
   "cell_type": "code",
   "execution_count": 8,
   "metadata": {},
   "outputs": [
    {
     "output_type": "execute_result",
     "data": {
      "text/plain": [
       "25"
      ]
     },
     "metadata": {},
     "execution_count": 8
    }
   ],
   "source": [
    "x.isna().any().sum(axis=0) # сколько признаков содержат неизвестные значения"
   ]
  },
  {
   "cell_type": "code",
   "execution_count": 9,
   "metadata": {
    "button": false,
    "colab": {},
    "colab_type": "code",
    "id": "mq9eMIJtgi0o",
    "new_sheet": false,
    "outputId": "c0a6f085-4433-4e2b-c6a9-cae62c064e36",
    "run_control": {
     "read_only": false
    }
   },
   "outputs": [
    {
     "output_type": "execute_result",
     "data": {
      "text/plain": [
       "0         0\n",
       "1      1174\n",
       "2      1177\n",
       "3         0\n",
       "4         0\n",
       "       ... \n",
       "123    1675\n",
       "124    1675\n",
       "125       0\n",
       "126    1675\n",
       "127       0\n",
       "Length: 128, dtype: int64"
      ]
     },
     "metadata": {},
     "execution_count": 9
    }
   ],
   "source": [
    "x.isna().sum() # cколько неизвестных значений содержит каждый признак"
   ]
  },
  {
   "cell_type": "code",
   "execution_count": 10,
   "metadata": {
    "button": false,
    "colab": {},
    "colab_type": "code",
    "id": "crjS9fSWgi0q",
    "new_sheet": false,
    "run_control": {
     "read_only": false
    }
   },
   "outputs": [
    {
     "output_type": "execute_result",
     "data": {
      "text/plain": [
       "39202"
      ]
     },
     "metadata": {},
     "execution_count": 10
    }
   ],
   "source": [
    "# Выведите одно число -- количество пропущенных значений\n",
    "\n",
    "x.isna().sum().sum()"
   ]
  },
  {
   "cell_type": "markdown",
   "metadata": {
    "button": false,
    "colab_type": "text",
    "id": "sYGznBCRgi0s",
    "new_sheet": false,
    "run_control": {
     "read_only": false
    }
   },
   "source": [
    "**Как быть?**\n"
   ]
  },
  {
   "cell_type": "markdown",
   "metadata": {
    "button": false,
    "colab_type": "text",
    "id": "GiNTVLT-gi0t",
    "new_sheet": false,
    "run_control": {
     "read_only": false
    }
   },
   "source": [
    "**Удалить лишнее**\n",
    "* Выкинуть данные с неизвестным признаком\n",
    "* Выкинуть признак, если он имеет слишком мало известных значений\n",
    "\n",
    "**Восстановить значения**\n",
    "\n",
    "*В англоязычной терминологии это называется `imputation`.*\n",
    "    \n",
    "   * Для **вещественных** признаков\n",
    "    * Заполнить все пропуски средним (модой, медианой) значениями признака\n",
    "    * Предсказывать значение пропущенного признака с помощью линейной регрессии\n",
    "   * Для **категориальных**\n",
    "    * Отдельное значением типа \"n/a\"\n",
    "    * Использовать самое частое значение признака\n",
    "\n",
    "\n",
    "Хорошая идея также добавить отдельный признак `A_missing` и присваивать ему значение `1` всякий раз, когда значение признака `A` пропущено.\n",
    "\n",
    "Более подробно можно почитать [здесь](https://towardsdatascience.com/how-to-handle-missing-data-8646b18db0d4)."
   ]
  },
  {
   "cell_type": "code",
   "execution_count": 11,
   "metadata": {
    "scrolled": true
   },
   "outputs": [
    {
     "output_type": "execute_result",
     "data": {
      "text/plain": [
       "     0   1      2                    3   4     5     6     7     8     9    \\\n",
       "0      8   3   1000         Lakewoodcity   1  0.19  0.33  0.02   0.9  0.12   \n",
       "1     53   3   1000          Tukwilacity   1     0  0.16  0.12  0.74  0.45   \n",
       "2     24   3   1000         Aberdeentown   1     0  0.42  0.49  0.56  0.17   \n",
       "3     34   5  81440  Willingborotownship   1  0.04  0.77     1  0.08  0.12   \n",
       "4     42  95   6096    Bethlehemtownship   1  0.01  0.55  0.02  0.95  0.09   \n",
       "...   ..  ..    ...                  ...  ..   ...   ...   ...   ...   ...   \n",
       "1989  12   3   1000    TempleTerracecity  10  0.01   0.4   0.1  0.87  0.12   \n",
       "1990   6   3   1000          Seasidecity  10  0.05  0.96  0.46  0.28  0.83   \n",
       "1991   9   9  80070        Waterburytown  10  0.16  0.37  0.25  0.69  0.04   \n",
       "1992  25  17  72600          Walthamcity  10  0.08  0.51  0.06  0.87  0.22   \n",
       "1993   6   3   1000          Ontariocity  10   0.2  0.78  0.14  0.46  0.24   \n",
       "\n",
       "      ...   118   119   120   121   122   123  124   125   126   127  \n",
       "0     ...  0.12  0.26   0.2  0.06  0.04   0.9  0.5  0.32  0.14   0.2  \n",
       "1     ...  0.02  0.12  0.45  0.02  0.02  0.74    0     0  0.12  0.67  \n",
       "2     ...  0.01  0.21  0.02  0.02  0.02  0.74    0     0  0.12  0.43  \n",
       "3     ...  0.02  0.39  0.28  0.02  0.02  0.74    0     0  0.12  0.12  \n",
       "4     ...  0.04  0.09  0.02  0.02  0.02  0.74    0     0  0.12  0.03  \n",
       "...   ...   ...   ...   ...   ...   ...   ...  ...   ...   ...   ...  \n",
       "1989  ...  0.01  0.28  0.05  0.02  0.02  0.74    0     0  0.12  0.09  \n",
       "1990  ...  0.02  0.37   0.2  0.02  0.02  0.74    0     0  0.12  0.45  \n",
       "1991  ...  0.08  0.32  0.18  0.08  0.06  0.78    0  0.91  0.28  0.23  \n",
       "1992  ...  0.03  0.38  0.33  0.02  0.02  0.79    0  0.22  0.18  0.19  \n",
       "1993  ...  0.11   0.3  0.05  0.08  0.04  0.73  0.5     1  0.13  0.48  \n",
       "\n",
       "[1994 rows x 128 columns]"
      ],
      "text/html": "<div>\n<style scoped>\n    .dataframe tbody tr th:only-of-type {\n        vertical-align: middle;\n    }\n\n    .dataframe tbody tr th {\n        vertical-align: top;\n    }\n\n    .dataframe thead th {\n        text-align: right;\n    }\n</style>\n<table border=\"1\" class=\"dataframe\">\n  <thead>\n    <tr style=\"text-align: right;\">\n      <th></th>\n      <th>0</th>\n      <th>1</th>\n      <th>2</th>\n      <th>3</th>\n      <th>4</th>\n      <th>5</th>\n      <th>6</th>\n      <th>7</th>\n      <th>8</th>\n      <th>9</th>\n      <th>...</th>\n      <th>118</th>\n      <th>119</th>\n      <th>120</th>\n      <th>121</th>\n      <th>122</th>\n      <th>123</th>\n      <th>124</th>\n      <th>125</th>\n      <th>126</th>\n      <th>127</th>\n    </tr>\n  </thead>\n  <tbody>\n    <tr>\n      <th>0</th>\n      <td>8</td>\n      <td>3</td>\n      <td>1000</td>\n      <td>Lakewoodcity</td>\n      <td>1</td>\n      <td>0.19</td>\n      <td>0.33</td>\n      <td>0.02</td>\n      <td>0.9</td>\n      <td>0.12</td>\n      <td>...</td>\n      <td>0.12</td>\n      <td>0.26</td>\n      <td>0.2</td>\n      <td>0.06</td>\n      <td>0.04</td>\n      <td>0.9</td>\n      <td>0.5</td>\n      <td>0.32</td>\n      <td>0.14</td>\n      <td>0.2</td>\n    </tr>\n    <tr>\n      <th>1</th>\n      <td>53</td>\n      <td>3</td>\n      <td>1000</td>\n      <td>Tukwilacity</td>\n      <td>1</td>\n      <td>0</td>\n      <td>0.16</td>\n      <td>0.12</td>\n      <td>0.74</td>\n      <td>0.45</td>\n      <td>...</td>\n      <td>0.02</td>\n      <td>0.12</td>\n      <td>0.45</td>\n      <td>0.02</td>\n      <td>0.02</td>\n      <td>0.74</td>\n      <td>0</td>\n      <td>0</td>\n      <td>0.12</td>\n      <td>0.67</td>\n    </tr>\n    <tr>\n      <th>2</th>\n      <td>24</td>\n      <td>3</td>\n      <td>1000</td>\n      <td>Aberdeentown</td>\n      <td>1</td>\n      <td>0</td>\n      <td>0.42</td>\n      <td>0.49</td>\n      <td>0.56</td>\n      <td>0.17</td>\n      <td>...</td>\n      <td>0.01</td>\n      <td>0.21</td>\n      <td>0.02</td>\n      <td>0.02</td>\n      <td>0.02</td>\n      <td>0.74</td>\n      <td>0</td>\n      <td>0</td>\n      <td>0.12</td>\n      <td>0.43</td>\n    </tr>\n    <tr>\n      <th>3</th>\n      <td>34</td>\n      <td>5</td>\n      <td>81440</td>\n      <td>Willingborotownship</td>\n      <td>1</td>\n      <td>0.04</td>\n      <td>0.77</td>\n      <td>1</td>\n      <td>0.08</td>\n      <td>0.12</td>\n      <td>...</td>\n      <td>0.02</td>\n      <td>0.39</td>\n      <td>0.28</td>\n      <td>0.02</td>\n      <td>0.02</td>\n      <td>0.74</td>\n      <td>0</td>\n      <td>0</td>\n      <td>0.12</td>\n      <td>0.12</td>\n    </tr>\n    <tr>\n      <th>4</th>\n      <td>42</td>\n      <td>95</td>\n      <td>6096</td>\n      <td>Bethlehemtownship</td>\n      <td>1</td>\n      <td>0.01</td>\n      <td>0.55</td>\n      <td>0.02</td>\n      <td>0.95</td>\n      <td>0.09</td>\n      <td>...</td>\n      <td>0.04</td>\n      <td>0.09</td>\n      <td>0.02</td>\n      <td>0.02</td>\n      <td>0.02</td>\n      <td>0.74</td>\n      <td>0</td>\n      <td>0</td>\n      <td>0.12</td>\n      <td>0.03</td>\n    </tr>\n    <tr>\n      <th>...</th>\n      <td>...</td>\n      <td>...</td>\n      <td>...</td>\n      <td>...</td>\n      <td>...</td>\n      <td>...</td>\n      <td>...</td>\n      <td>...</td>\n      <td>...</td>\n      <td>...</td>\n      <td>...</td>\n      <td>...</td>\n      <td>...</td>\n      <td>...</td>\n      <td>...</td>\n      <td>...</td>\n      <td>...</td>\n      <td>...</td>\n      <td>...</td>\n      <td>...</td>\n      <td>...</td>\n    </tr>\n    <tr>\n      <th>1989</th>\n      <td>12</td>\n      <td>3</td>\n      <td>1000</td>\n      <td>TempleTerracecity</td>\n      <td>10</td>\n      <td>0.01</td>\n      <td>0.4</td>\n      <td>0.1</td>\n      <td>0.87</td>\n      <td>0.12</td>\n      <td>...</td>\n      <td>0.01</td>\n      <td>0.28</td>\n      <td>0.05</td>\n      <td>0.02</td>\n      <td>0.02</td>\n      <td>0.74</td>\n      <td>0</td>\n      <td>0</td>\n      <td>0.12</td>\n      <td>0.09</td>\n    </tr>\n    <tr>\n      <th>1990</th>\n      <td>6</td>\n      <td>3</td>\n      <td>1000</td>\n      <td>Seasidecity</td>\n      <td>10</td>\n      <td>0.05</td>\n      <td>0.96</td>\n      <td>0.46</td>\n      <td>0.28</td>\n      <td>0.83</td>\n      <td>...</td>\n      <td>0.02</td>\n      <td>0.37</td>\n      <td>0.2</td>\n      <td>0.02</td>\n      <td>0.02</td>\n      <td>0.74</td>\n      <td>0</td>\n      <td>0</td>\n      <td>0.12</td>\n      <td>0.45</td>\n    </tr>\n    <tr>\n      <th>1991</th>\n      <td>9</td>\n      <td>9</td>\n      <td>80070</td>\n      <td>Waterburytown</td>\n      <td>10</td>\n      <td>0.16</td>\n      <td>0.37</td>\n      <td>0.25</td>\n      <td>0.69</td>\n      <td>0.04</td>\n      <td>...</td>\n      <td>0.08</td>\n      <td>0.32</td>\n      <td>0.18</td>\n      <td>0.08</td>\n      <td>0.06</td>\n      <td>0.78</td>\n      <td>0</td>\n      <td>0.91</td>\n      <td>0.28</td>\n      <td>0.23</td>\n    </tr>\n    <tr>\n      <th>1992</th>\n      <td>25</td>\n      <td>17</td>\n      <td>72600</td>\n      <td>Walthamcity</td>\n      <td>10</td>\n      <td>0.08</td>\n      <td>0.51</td>\n      <td>0.06</td>\n      <td>0.87</td>\n      <td>0.22</td>\n      <td>...</td>\n      <td>0.03</td>\n      <td>0.38</td>\n      <td>0.33</td>\n      <td>0.02</td>\n      <td>0.02</td>\n      <td>0.79</td>\n      <td>0</td>\n      <td>0.22</td>\n      <td>0.18</td>\n      <td>0.19</td>\n    </tr>\n    <tr>\n      <th>1993</th>\n      <td>6</td>\n      <td>3</td>\n      <td>1000</td>\n      <td>Ontariocity</td>\n      <td>10</td>\n      <td>0.2</td>\n      <td>0.78</td>\n      <td>0.14</td>\n      <td>0.46</td>\n      <td>0.24</td>\n      <td>...</td>\n      <td>0.11</td>\n      <td>0.3</td>\n      <td>0.05</td>\n      <td>0.08</td>\n      <td>0.04</td>\n      <td>0.73</td>\n      <td>0.5</td>\n      <td>1</td>\n      <td>0.13</td>\n      <td>0.48</td>\n    </tr>\n  </tbody>\n</table>\n<p>1994 rows × 128 columns</p>\n</div>"
     },
     "metadata": {},
     "execution_count": 11
    }
   ],
   "source": [
    "from sklearn.impute import SimpleImputer\n",
    "\n",
    "imp_mean = SimpleImputer(missing_values=np.nan, strategy='most_frequent', fill_value=None)\n",
    "x = pd.DataFrame(data=imp_mean.fit_transform(x), columns=x.columns)\n",
    "x"
   ]
  },
  {
   "cell_type": "code",
   "execution_count": 12,
   "metadata": {
    "button": false,
    "colab": {},
    "colab_type": "code",
    "id": "cnNnV83hgi0w",
    "new_sheet": false,
    "run_control": {
     "read_only": false
    }
   },
   "outputs": [],
   "source": [
    "# Aльтернатива через pandas\n",
    "# Подробнее в описании функции\n",
    "x.fillna(value=0, inplace=True)"
   ]
  },
  {
   "cell_type": "code",
   "execution_count": 13,
   "metadata": {
    "button": false,
    "colab": {},
    "colab_type": "code",
    "id": "QQ-m1eN5gi0y",
    "new_sheet": false,
    "run_control": {
     "read_only": false
    }
   },
   "outputs": [
    {
     "output_type": "execute_result",
     "data": {
      "text/plain": [
       "0"
      ]
     },
     "metadata": {},
     "execution_count": 13
    }
   ],
   "source": [
    "# Теперь можно проверить снова сколько у нас пропущенных данных\n",
    "# Выведите одно число -- количество пропущенных значений\n",
    "x.isna().sum().sum()"
   ]
  },
  {
   "cell_type": "markdown",
   "metadata": {
    "button": false,
    "colab_type": "text",
    "id": "xb6EDnHDgi00",
    "new_sheet": false,
    "run_control": {
     "read_only": false
    }
   },
   "source": [
    "---\n",
    "\n",
    "# Категориальные признаки\n",
    "\n",
    "Для примера создадим небольшую табличку"
   ]
  },
  {
   "cell_type": "markdown",
   "metadata": {},
   "source": [
    "https://contrib.scikit-learn.org/categorical-encoding/"
   ]
  },
  {
   "cell_type": "code",
   "execution_count": 14,
   "metadata": {
    "button": false,
    "colab": {},
    "colab_type": "code",
    "id": "PONrGAW4gi01",
    "new_sheet": false,
    "outputId": "ce0811e2-ab92-45a8-a148-515e38f5a8d3",
    "run_control": {
     "read_only": false
    }
   },
   "outputs": [
    {
     "output_type": "execute_result",
     "data": {
      "text/plain": [
       "     city  degree class  income\n",
       "0  Moscow       1     A    10.2\n",
       "1  London       1     B    11.6\n",
       "2  London       2     A     8.8\n",
       "3    Kiev       2     A     9.0\n",
       "4  Moscow       3     B     6.6\n",
       "5  Moscow       3     B    10.0\n",
       "6    Kiev       1     A     9.0\n",
       "7  Moscow       1     A     7.2"
      ],
      "text/html": "<div>\n<style scoped>\n    .dataframe tbody tr th:only-of-type {\n        vertical-align: middle;\n    }\n\n    .dataframe tbody tr th {\n        vertical-align: top;\n    }\n\n    .dataframe thead th {\n        text-align: right;\n    }\n</style>\n<table border=\"1\" class=\"dataframe\">\n  <thead>\n    <tr style=\"text-align: right;\">\n      <th></th>\n      <th>city</th>\n      <th>degree</th>\n      <th>class</th>\n      <th>income</th>\n    </tr>\n  </thead>\n  <tbody>\n    <tr>\n      <th>0</th>\n      <td>Moscow</td>\n      <td>1</td>\n      <td>A</td>\n      <td>10.2</td>\n    </tr>\n    <tr>\n      <th>1</th>\n      <td>London</td>\n      <td>1</td>\n      <td>B</td>\n      <td>11.6</td>\n    </tr>\n    <tr>\n      <th>2</th>\n      <td>London</td>\n      <td>2</td>\n      <td>A</td>\n      <td>8.8</td>\n    </tr>\n    <tr>\n      <th>3</th>\n      <td>Kiev</td>\n      <td>2</td>\n      <td>A</td>\n      <td>9.0</td>\n    </tr>\n    <tr>\n      <th>4</th>\n      <td>Moscow</td>\n      <td>3</td>\n      <td>B</td>\n      <td>6.6</td>\n    </tr>\n    <tr>\n      <th>5</th>\n      <td>Moscow</td>\n      <td>3</td>\n      <td>B</td>\n      <td>10.0</td>\n    </tr>\n    <tr>\n      <th>6</th>\n      <td>Kiev</td>\n      <td>1</td>\n      <td>A</td>\n      <td>9.0</td>\n    </tr>\n    <tr>\n      <th>7</th>\n      <td>Moscow</td>\n      <td>1</td>\n      <td>A</td>\n      <td>7.2</td>\n    </tr>\n  </tbody>\n</table>\n</div>"
     },
     "metadata": {},
     "execution_count": 14
    }
   ],
   "source": [
    "import pandas as pd\n",
    "\n",
    "# просто табличка для примера\n",
    "def create_data():\n",
    "    return (pd.DataFrame({'city': ['Moscow', 'London', 'London', 'Kiev',\n",
    "                                   'Moscow', 'Moscow', 'Kiev','Moscow'],\n",
    "                          'degree': [1,1,2,2,3,3,1,1],\n",
    "                          'class':['A','B','A','A','B','B','A','A'],\n",
    "                          'income':[10.2, 11.6, 8.8, 9.0, 6.6, 10.0, 9.0, 7.2]}))\n",
    "\n",
    "data = create_data()\n",
    "data"
   ]
  },
  {
   "cell_type": "markdown",
   "metadata": {
    "button": false,
    "colab_type": "text",
    "id": "9CYhFdwkgi03",
    "new_sheet": false,
    "run_control": {
     "read_only": false
    }
   },
   "source": [
    "###  Как понять, что признак категориальный?\n",
    "\n",
    "Идея - категориальные признаки те, в которых значения - строки или число уникальных значений достаточно мало."
   ]
  },
  {
   "cell_type": "code",
   "execution_count": 15,
   "metadata": {
    "button": false,
    "colab": {},
    "colab_type": "code",
    "id": "w64ne9TDgi04",
    "new_sheet": false,
    "outputId": "9644b6ce-59cd-493b-cb32-3369acc5ee74",
    "run_control": {
     "read_only": false
    }
   },
   "outputs": [
    {
     "output_type": "stream",
     "name": "stdout",
     "text": [
      "city строка, мало уникальных\ndegree мало уникальных\nclass строка, мало уникальных\n"
     ]
    }
   ],
   "source": [
    "# найти все признаки, в которых первое значение - строка \n",
    "def find_cat(data, num_uniq=4):\n",
    "    for name in data.columns:\n",
    "        s = ''\n",
    "        s += name\n",
    "        if (type(data[name][0]) == str):\n",
    "            s += ' строка,'\n",
    "        if (data[name].nunique()<=num_uniq):\n",
    "            s += ' мало уникальных'\n",
    "        if (s!=name):\n",
    "            print (s)\n",
    "            \n",
    "find_cat(data)"
   ]
  },
  {
   "cell_type": "markdown",
   "metadata": {
    "button": false,
    "colab_type": "text",
    "id": "pu-bBrHcgi07",
    "new_sheet": false,
    "run_control": {
     "read_only": false
    }
   },
   "source": [
    "### Как подавать категориальные признаки алгоритму?\n",
    "\n",
    "Алгоритмы хотят, чтобы им на вход подавали числа, а не строки. Кроме того, большая часть алгоритмов машинного обучения тем или иным образом использует понятие расстояния между точками. Поэтому приходится подумать как же так представить категориальный признак, чтобы все заработало.\n",
    "\n",
    "Существует как минимум *2 популярных подхода*:\n",
    "\n",
    "1) Самый простой подход **one-hot кодирование**.\n",
    "Выглядит это так\n"
   ]
  },
  {
   "cell_type": "markdown",
   "metadata": {},
   "source": [
    "<img src=\"https://miro.medium.com/max/700/1*O_pTwOZZLYZabRjw3Ga21A.png\" width=800px>"
   ]
  },
  {
   "cell_type": "markdown",
   "metadata": {
    "button": false,
    "colab_type": "text",
    "id": "DTeSXzz7gi07",
    "new_sheet": false,
    "run_control": {
     "read_only": false
    }
   },
   "source": [
    "Этот способ наиболее универсален и применяется по умолчанию. Универсальность здесь означает -- возможность использования такого представления в любом алгоритме машинного обучения.\n",
    "\n",
    "Теперь посмотрите на картинку. Если еще не стало понятно, то вот пояснение.\n",
    "\n",
    "Суть в том, что каждое значение категориального признака порождает свой собственный признак. Далее, кодируем нулями и единицами отсутствие или наличие соответствующего признака.\n"
   ]
  },
  {
   "cell_type": "code",
   "execution_count": 16,
   "metadata": {
    "button": false,
    "colab": {},
    "colab_type": "code",
    "id": "1Pylqnqfgi08",
    "new_sheet": false,
    "outputId": "ad45b530-552f-4777-fd88-9ec9ba73e775",
    "run_control": {
     "read_only": false
    }
   },
   "outputs": [
    {
     "output_type": "execute_result",
     "data": {
      "text/plain": [
       "   degree  income  city_Kiev  city_London  city_Moscow  class_A  class_B\n",
       "0       1    10.2          0            0            1        1        0\n",
       "1       1    11.6          0            1            0        0        1\n",
       "2       2     8.8          0            1            0        1        0\n",
       "3       2     9.0          1            0            0        1        0\n",
       "4       3     6.6          0            0            1        0        1\n",
       "5       3    10.0          0            0            1        0        1\n",
       "6       1     9.0          1            0            0        1        0\n",
       "7       1     7.2          0            0            1        1        0"
      ],
      "text/html": "<div>\n<style scoped>\n    .dataframe tbody tr th:only-of-type {\n        vertical-align: middle;\n    }\n\n    .dataframe tbody tr th {\n        vertical-align: top;\n    }\n\n    .dataframe thead th {\n        text-align: right;\n    }\n</style>\n<table border=\"1\" class=\"dataframe\">\n  <thead>\n    <tr style=\"text-align: right;\">\n      <th></th>\n      <th>degree</th>\n      <th>income</th>\n      <th>city_Kiev</th>\n      <th>city_London</th>\n      <th>city_Moscow</th>\n      <th>class_A</th>\n      <th>class_B</th>\n    </tr>\n  </thead>\n  <tbody>\n    <tr>\n      <th>0</th>\n      <td>1</td>\n      <td>10.2</td>\n      <td>0</td>\n      <td>0</td>\n      <td>1</td>\n      <td>1</td>\n      <td>0</td>\n    </tr>\n    <tr>\n      <th>1</th>\n      <td>1</td>\n      <td>11.6</td>\n      <td>0</td>\n      <td>1</td>\n      <td>0</td>\n      <td>0</td>\n      <td>1</td>\n    </tr>\n    <tr>\n      <th>2</th>\n      <td>2</td>\n      <td>8.8</td>\n      <td>0</td>\n      <td>1</td>\n      <td>0</td>\n      <td>1</td>\n      <td>0</td>\n    </tr>\n    <tr>\n      <th>3</th>\n      <td>2</td>\n      <td>9.0</td>\n      <td>1</td>\n      <td>0</td>\n      <td>0</td>\n      <td>1</td>\n      <td>0</td>\n    </tr>\n    <tr>\n      <th>4</th>\n      <td>3</td>\n      <td>6.6</td>\n      <td>0</td>\n      <td>0</td>\n      <td>1</td>\n      <td>0</td>\n      <td>1</td>\n    </tr>\n    <tr>\n      <th>5</th>\n      <td>3</td>\n      <td>10.0</td>\n      <td>0</td>\n      <td>0</td>\n      <td>1</td>\n      <td>0</td>\n      <td>1</td>\n    </tr>\n    <tr>\n      <th>6</th>\n      <td>1</td>\n      <td>9.0</td>\n      <td>1</td>\n      <td>0</td>\n      <td>0</td>\n      <td>1</td>\n      <td>0</td>\n    </tr>\n    <tr>\n      <th>7</th>\n      <td>1</td>\n      <td>7.2</td>\n      <td>0</td>\n      <td>0</td>\n      <td>1</td>\n      <td>1</td>\n      <td>0</td>\n    </tr>\n  </tbody>\n</table>\n</div>"
     },
     "metadata": {},
     "execution_count": 16
    }
   ],
   "source": [
    "# Очень просто с помощью pandas\n",
    "# Заметим при этом, что `degree` и `income` остались неизменными.\n",
    "pd.get_dummies(data)"
   ]
  },
  {
   "cell_type": "markdown",
   "metadata": {
    "button": false,
    "colab_type": "text",
    "id": "HyShoidlgi0_",
    "new_sheet": false,
    "run_control": {
     "read_only": false
    }
   },
   "source": [
    "Если хочется больше гибкости, можно попробовать для тех же целей воспользоваться `OneHotEncoder` из `sklearn.preprocessing`"
   ]
  },
  {
   "cell_type": "markdown",
   "metadata": {
    "button": false,
    "colab_type": "text",
    "id": "dStcJsoRgi1A",
    "new_sheet": false,
    "run_control": {
     "read_only": false
    }
   },
   "source": [
    "2) **Группируем числовые признаки по категориальным**\n",
    "\n",
    "Например, для каждого значения признака `city` из нашей таблички можно посчитать среднее значение `income`."
   ]
  },
  {
   "cell_type": "code",
   "execution_count": 17,
   "metadata": {
    "button": false,
    "colab": {},
    "colab_type": "code",
    "id": "ru8a19wlgi1B",
    "new_sheet": false,
    "outputId": "4dae24b2-8543-401a-e37e-3262d23a4ed9",
    "run_control": {
     "read_only": false
    }
   },
   "outputs": [
    {
     "output_type": "execute_result",
     "data": {
      "text/plain": [
       "     city  degree class  income  city_mean_income\n",
       "0  Moscow       1     A    10.2               8.5\n",
       "1  London       1     B    11.6              10.2\n",
       "2  London       2     A     8.8              10.2\n",
       "3    Kiev       2     A     9.0               9.0\n",
       "4  Moscow       3     B     6.6               8.5\n",
       "5  Moscow       3     B    10.0               8.5"
      ],
      "text/html": "<div>\n<style scoped>\n    .dataframe tbody tr th:only-of-type {\n        vertical-align: middle;\n    }\n\n    .dataframe tbody tr th {\n        vertical-align: top;\n    }\n\n    .dataframe thead th {\n        text-align: right;\n    }\n</style>\n<table border=\"1\" class=\"dataframe\">\n  <thead>\n    <tr style=\"text-align: right;\">\n      <th></th>\n      <th>city</th>\n      <th>degree</th>\n      <th>class</th>\n      <th>income</th>\n      <th>city_mean_income</th>\n    </tr>\n  </thead>\n  <tbody>\n    <tr>\n      <th>0</th>\n      <td>Moscow</td>\n      <td>1</td>\n      <td>A</td>\n      <td>10.2</td>\n      <td>8.5</td>\n    </tr>\n    <tr>\n      <th>1</th>\n      <td>London</td>\n      <td>1</td>\n      <td>B</td>\n      <td>11.6</td>\n      <td>10.2</td>\n    </tr>\n    <tr>\n      <th>2</th>\n      <td>London</td>\n      <td>2</td>\n      <td>A</td>\n      <td>8.8</td>\n      <td>10.2</td>\n    </tr>\n    <tr>\n      <th>3</th>\n      <td>Kiev</td>\n      <td>2</td>\n      <td>A</td>\n      <td>9.0</td>\n      <td>9.0</td>\n    </tr>\n    <tr>\n      <th>4</th>\n      <td>Moscow</td>\n      <td>3</td>\n      <td>B</td>\n      <td>6.6</td>\n      <td>8.5</td>\n    </tr>\n    <tr>\n      <th>5</th>\n      <td>Moscow</td>\n      <td>3</td>\n      <td>B</td>\n      <td>10.0</td>\n      <td>8.5</td>\n    </tr>\n  </tbody>\n</table>\n</div>"
     },
     "metadata": {},
     "execution_count": 17
    }
   ],
   "source": [
    "# функция возвращает значения нового признака\n",
    "def code_mean(data, cat_feature, real_feature):\n",
    "    return (data[cat_feature].map(data.groupby(cat_feature)[real_feature].mean()))\n",
    "\n",
    "data = create_data()\n",
    "data['city_mean_income'] = code_mean(data, 'city', 'income')\n",
    "data[:6]"
   ]
  },
  {
   "cell_type": "code",
   "execution_count": 18,
   "metadata": {
    "button": false,
    "colab": {},
    "colab_type": "code",
    "id": "2AM2FRpjgi1F",
    "new_sheet": false,
    "outputId": "24b66fdd-07fb-4c51-fbe5-6a14271e1ffa",
    "run_control": {
     "read_only": false
    }
   },
   "outputs": [
    {
     "output_type": "execute_result",
     "data": {
      "text/plain": [
       "0     8.5\n",
       "1    10.2\n",
       "2    10.2\n",
       "3     9.0\n",
       "4     8.5\n",
       "5     8.5\n",
       "6     9.0\n",
       "7     8.5\n",
       "Name: city, dtype: float64"
      ]
     },
     "metadata": {},
     "execution_count": 18
    }
   ],
   "source": [
    "code_mean(data, 'city', 'income')"
   ]
  },
  {
   "cell_type": "markdown",
   "metadata": {
    "button": false,
    "colab_type": "text",
    "id": "LIY3peBogi1I",
    "new_sheet": false,
    "run_control": {
     "read_only": false
    }
   },
   "source": [
    "### Дата и время\n",
    "\n",
    "Для примера рассмотрим датасет UFO (оригинальная полная версия датасета находится [здесь](https://www.kaggle.com/NUFORC/ufo-sightings)) в котором для каждого события известна дата и конкретное время"
   ]
  },
  {
   "cell_type": "code",
   "execution_count": 19,
   "metadata": {
    "button": false,
    "colab": {},
    "colab_type": "code",
    "id": "tjSiENXXgi1J",
    "new_sheet": false,
    "outputId": "844c9893-3c00-463f-a721-af31bce93bc6",
    "run_control": {
     "read_only": false
    }
   },
   "outputs": [
    {
     "output_type": "execute_result",
     "data": {
      "text/plain": [
       "           datetime                  city state country     shape  \\\n",
       "0  10/10/1949 20:30            san marcos    tx      us  cylinder   \n",
       "1  10/10/1949 21:00          lackland afb    tx     NaN     light   \n",
       "2  10/10/1955 17:00  chester (uk/england)   NaN      gb    circle   \n",
       "3  10/10/1956 21:00                  edna    tx      us    circle   \n",
       "4  10/10/1960 20:00               kaneohe    hi      us     light   \n",
       "\n",
       "  duration (seconds) duration (hours/min)  \\\n",
       "0               2700           45 minutes   \n",
       "1               7200              1-2 hrs   \n",
       "2                 20           20 seconds   \n",
       "3                 20             1/2 hour   \n",
       "4                900           15 minutes   \n",
       "\n",
       "                                            comments date posted    latitude  \\\n",
       "0  This event took place in early fall around 194...   4/27/2004  29.8830556   \n",
       "1  1949 Lackland AFB&#44 TX.  Lights racing acros...  12/16/2005    29.38421   \n",
       "2  Green/Orange circular disc over Chester&#44 En...   1/21/2008        53.2   \n",
       "3  My older brother and twin sister were leaving ...   1/17/2004  28.9783333   \n",
       "4  AS a Marine 1st Lt. flying an FJ4B fighter/att...   1/22/2004  21.4180556   \n",
       "\n",
       "   longitude   \n",
       "0  -97.941111  \n",
       "1  -98.581082  \n",
       "2   -2.916667  \n",
       "3  -96.645833  \n",
       "4 -157.803611  "
      ],
      "text/html": "<div>\n<style scoped>\n    .dataframe tbody tr th:only-of-type {\n        vertical-align: middle;\n    }\n\n    .dataframe tbody tr th {\n        vertical-align: top;\n    }\n\n    .dataframe thead th {\n        text-align: right;\n    }\n</style>\n<table border=\"1\" class=\"dataframe\">\n  <thead>\n    <tr style=\"text-align: right;\">\n      <th></th>\n      <th>datetime</th>\n      <th>city</th>\n      <th>state</th>\n      <th>country</th>\n      <th>shape</th>\n      <th>duration (seconds)</th>\n      <th>duration (hours/min)</th>\n      <th>comments</th>\n      <th>date posted</th>\n      <th>latitude</th>\n      <th>longitude</th>\n    </tr>\n  </thead>\n  <tbody>\n    <tr>\n      <th>0</th>\n      <td>10/10/1949 20:30</td>\n      <td>san marcos</td>\n      <td>tx</td>\n      <td>us</td>\n      <td>cylinder</td>\n      <td>2700</td>\n      <td>45 minutes</td>\n      <td>This event took place in early fall around 194...</td>\n      <td>4/27/2004</td>\n      <td>29.8830556</td>\n      <td>-97.941111</td>\n    </tr>\n    <tr>\n      <th>1</th>\n      <td>10/10/1949 21:00</td>\n      <td>lackland afb</td>\n      <td>tx</td>\n      <td>NaN</td>\n      <td>light</td>\n      <td>7200</td>\n      <td>1-2 hrs</td>\n      <td>1949 Lackland AFB&amp;#44 TX.  Lights racing acros...</td>\n      <td>12/16/2005</td>\n      <td>29.38421</td>\n      <td>-98.581082</td>\n    </tr>\n    <tr>\n      <th>2</th>\n      <td>10/10/1955 17:00</td>\n      <td>chester (uk/england)</td>\n      <td>NaN</td>\n      <td>gb</td>\n      <td>circle</td>\n      <td>20</td>\n      <td>20 seconds</td>\n      <td>Green/Orange circular disc over Chester&amp;#44 En...</td>\n      <td>1/21/2008</td>\n      <td>53.2</td>\n      <td>-2.916667</td>\n    </tr>\n    <tr>\n      <th>3</th>\n      <td>10/10/1956 21:00</td>\n      <td>edna</td>\n      <td>tx</td>\n      <td>us</td>\n      <td>circle</td>\n      <td>20</td>\n      <td>1/2 hour</td>\n      <td>My older brother and twin sister were leaving ...</td>\n      <td>1/17/2004</td>\n      <td>28.9783333</td>\n      <td>-96.645833</td>\n    </tr>\n    <tr>\n      <th>4</th>\n      <td>10/10/1960 20:00</td>\n      <td>kaneohe</td>\n      <td>hi</td>\n      <td>us</td>\n      <td>light</td>\n      <td>900</td>\n      <td>15 minutes</td>\n      <td>AS a Marine 1st Lt. flying an FJ4B fighter/att...</td>\n      <td>1/22/2004</td>\n      <td>21.4180556</td>\n      <td>-157.803611</td>\n    </tr>\n  </tbody>\n</table>\n</div>"
     },
     "metadata": {},
     "execution_count": 19
    }
   ],
   "source": [
    "df = pd.read_csv(\"ufo.csv\")\n",
    "df.head()"
   ]
  },
  {
   "cell_type": "code",
   "execution_count": 20,
   "metadata": {
    "button": false,
    "colab": {},
    "colab_type": "code",
    "id": "vHUBuwmLgi1M",
    "new_sheet": false,
    "outputId": "46cab873-7178-47eb-a800-c2f34a7e3d48",
    "run_control": {
     "read_only": false
    }
   },
   "outputs": [
    {
     "output_type": "execute_result",
     "data": {
      "text/plain": [
       "datetime                 object\n",
       "city                     object\n",
       "state                    object\n",
       "country                  object\n",
       "shape                    object\n",
       "duration (seconds)       object\n",
       "duration (hours/min)     object\n",
       "comments                 object\n",
       "date posted              object\n",
       "latitude                 object\n",
       "longitude               float64\n",
       "dtype: object"
      ]
     },
     "metadata": {},
     "execution_count": 20
    }
   ],
   "source": [
    "# посмотрим типы столбцов в таблице\n",
    "df.dtypes "
   ]
  },
  {
   "cell_type": "code",
   "execution_count": 21,
   "metadata": {},
   "outputs": [],
   "source": [
    "def date_parser(datestr):\n",
    "    return pd.datetime.strptime(datestr, '%m/%d/%Y %H:%M')"
   ]
  },
  {
   "cell_type": "code",
   "execution_count": 22,
   "metadata": {
    "scrolled": true
   },
   "outputs": [
    {
     "output_type": "execute_result",
     "data": {
      "text/plain": [
       "0       1949-10-10 20:30:00\n",
       "1       1949-10-10 21:00:00\n",
       "2       1955-10-10 17:00:00\n",
       "3       1956-10-10 21:00:00\n",
       "4       1960-10-10 20:00:00\n",
       "                ...        \n",
       "80327   2013-09-09 21:15:00\n",
       "80328   2013-09-09 22:00:00\n",
       "80329   2013-09-09 22:00:00\n",
       "80330   2013-09-09 22:20:00\n",
       "80331   2013-09-09 23:00:00\n",
       "Name: datetime, Length: 80332, dtype: datetime64[ns]"
      ]
     },
     "metadata": {},
     "execution_count": 22
    }
   ],
   "source": [
    "df['datetime'].apply(date_parser)"
   ]
  },
  {
   "cell_type": "code",
   "execution_count": 23,
   "metadata": {},
   "outputs": [],
   "source": [
    "# Переводим Time в формат времени\n",
    "# Теперь для столбца \"Time\" тип изменился\n",
    "df['datetime'] = pd.to_datetime(df['datetime'], infer_datetime_format=True)"
   ]
  },
  {
   "cell_type": "code",
   "execution_count": 24,
   "metadata": {
    "button": false,
    "colab": {},
    "colab_type": "code",
    "id": "3NcP-ZKTgi1Q",
    "new_sheet": false,
    "outputId": "4ea0b6bc-9b83-47ea-f77c-ceb33ad1d515",
    "run_control": {
     "read_only": false
    }
   },
   "outputs": [
    {
     "output_type": "execute_result",
     "data": {
      "text/plain": [
       "datetime                datetime64[ns]\n",
       "city                            object\n",
       "state                           object\n",
       "country                         object\n",
       "shape                           object\n",
       "duration (seconds)              object\n",
       "duration (hours/min)            object\n",
       "comments                        object\n",
       "date posted                     object\n",
       "latitude                        object\n",
       "longitude                      float64\n",
       "dtype: object"
      ]
     },
     "metadata": {},
     "execution_count": 24
    }
   ],
   "source": [
    "df.dtypes"
   ]
  },
  {
   "cell_type": "markdown",
   "metadata": {
    "button": false,
    "colab_type": "text",
    "id": "3jJV8icTgi1V",
    "new_sheet": false,
    "run_control": {
     "read_only": false
    }
   },
   "source": [
    "Правильный формат данных для хранения даты времени позволяет сразу получать категориальные признаки"
   ]
  },
  {
   "cell_type": "code",
   "execution_count": 25,
   "metadata": {},
   "outputs": [
    {
     "output_type": "execute_result",
     "data": {
      "text/plain": [
       "0        1949\n",
       "1        1949\n",
       "2        1955\n",
       "3        1956\n",
       "4        1960\n",
       "         ... \n",
       "80327    2013\n",
       "80328    2013\n",
       "80329    2013\n",
       "80330    2013\n",
       "80331    2013\n",
       "Name: datetime, Length: 80332, dtype: int64"
      ]
     },
     "metadata": {},
     "execution_count": 25
    }
   ],
   "source": [
    "df['datetime'].dt.year"
   ]
  },
  {
   "cell_type": "code",
   "execution_count": 26,
   "metadata": {
    "button": false,
    "colab": {},
    "colab_type": "code",
    "id": "y3C5oAzBgi1W",
    "new_sheet": false,
    "outputId": "4af452d9-1f81-4256-895f-e23764c673bf",
    "run_control": {
     "read_only": false
    }
   },
   "outputs": [
    {
     "output_type": "execute_result",
     "data": {
      "text/plain": [
       "0    20\n",
       "1    21\n",
       "2    17\n",
       "3    21\n",
       "4    20\n",
       "Name: datetime, dtype: int64"
      ]
     },
     "metadata": {},
     "execution_count": 26
    }
   ],
   "source": [
    "# Какой час\n",
    "df['datetime'].dt.hour.head()"
   ]
  },
  {
   "cell_type": "code",
   "execution_count": 27,
   "metadata": {
    "button": false,
    "colab": {},
    "colab_type": "code",
    "id": "R65c69Sxgi1b",
    "new_sheet": false,
    "run_control": {
     "read_only": false
    }
   },
   "outputs": [],
   "source": [
    "# Является ли этот день выходным\n",
    "df['is_weekend'] = df['datetime'].apply(lambda x: 1 if x.date().weekday() in (5, 6) else 0)"
   ]
  },
  {
   "cell_type": "code",
   "execution_count": 28,
   "metadata": {
    "button": false,
    "colab": {},
    "colab_type": "code",
    "id": "Rh672-d5gi1l",
    "new_sheet": false,
    "outputId": "70ec34d8-2f96-418e-c8d6-fe704851c65c",
    "run_control": {
     "read_only": false
    }
   },
   "outputs": [
    {
     "output_type": "execute_result",
     "data": {
      "text/plain": [
       "             datetime                  city state country     shape  \\\n",
       "0 1949-10-10 20:30:00            san marcos    tx      us  cylinder   \n",
       "1 1949-10-10 21:00:00          lackland afb    tx     NaN     light   \n",
       "2 1955-10-10 17:00:00  chester (uk/england)   NaN      gb    circle   \n",
       "3 1956-10-10 21:00:00                  edna    tx      us    circle   \n",
       "4 1960-10-10 20:00:00               kaneohe    hi      us     light   \n",
       "\n",
       "  duration (seconds) duration (hours/min)  \\\n",
       "0               2700           45 minutes   \n",
       "1               7200              1-2 hrs   \n",
       "2                 20           20 seconds   \n",
       "3                 20             1/2 hour   \n",
       "4                900           15 minutes   \n",
       "\n",
       "                                            comments date posted    latitude  \\\n",
       "0  This event took place in early fall around 194...   4/27/2004  29.8830556   \n",
       "1  1949 Lackland AFB&#44 TX.  Lights racing acros...  12/16/2005    29.38421   \n",
       "2  Green/Orange circular disc over Chester&#44 En...   1/21/2008        53.2   \n",
       "3  My older brother and twin sister were leaving ...   1/17/2004  28.9783333   \n",
       "4  AS a Marine 1st Lt. flying an FJ4B fighter/att...   1/22/2004  21.4180556   \n",
       "\n",
       "   longitude   is_weekend  \n",
       "0  -97.941111           0  \n",
       "1  -98.581082           0  \n",
       "2   -2.916667           0  \n",
       "3  -96.645833           0  \n",
       "4 -157.803611           0  "
      ],
      "text/html": "<div>\n<style scoped>\n    .dataframe tbody tr th:only-of-type {\n        vertical-align: middle;\n    }\n\n    .dataframe tbody tr th {\n        vertical-align: top;\n    }\n\n    .dataframe thead th {\n        text-align: right;\n    }\n</style>\n<table border=\"1\" class=\"dataframe\">\n  <thead>\n    <tr style=\"text-align: right;\">\n      <th></th>\n      <th>datetime</th>\n      <th>city</th>\n      <th>state</th>\n      <th>country</th>\n      <th>shape</th>\n      <th>duration (seconds)</th>\n      <th>duration (hours/min)</th>\n      <th>comments</th>\n      <th>date posted</th>\n      <th>latitude</th>\n      <th>longitude</th>\n      <th>is_weekend</th>\n    </tr>\n  </thead>\n  <tbody>\n    <tr>\n      <th>0</th>\n      <td>1949-10-10 20:30:00</td>\n      <td>san marcos</td>\n      <td>tx</td>\n      <td>us</td>\n      <td>cylinder</td>\n      <td>2700</td>\n      <td>45 minutes</td>\n      <td>This event took place in early fall around 194...</td>\n      <td>4/27/2004</td>\n      <td>29.8830556</td>\n      <td>-97.941111</td>\n      <td>0</td>\n    </tr>\n    <tr>\n      <th>1</th>\n      <td>1949-10-10 21:00:00</td>\n      <td>lackland afb</td>\n      <td>tx</td>\n      <td>NaN</td>\n      <td>light</td>\n      <td>7200</td>\n      <td>1-2 hrs</td>\n      <td>1949 Lackland AFB&amp;#44 TX.  Lights racing acros...</td>\n      <td>12/16/2005</td>\n      <td>29.38421</td>\n      <td>-98.581082</td>\n      <td>0</td>\n    </tr>\n    <tr>\n      <th>2</th>\n      <td>1955-10-10 17:00:00</td>\n      <td>chester (uk/england)</td>\n      <td>NaN</td>\n      <td>gb</td>\n      <td>circle</td>\n      <td>20</td>\n      <td>20 seconds</td>\n      <td>Green/Orange circular disc over Chester&amp;#44 En...</td>\n      <td>1/21/2008</td>\n      <td>53.2</td>\n      <td>-2.916667</td>\n      <td>0</td>\n    </tr>\n    <tr>\n      <th>3</th>\n      <td>1956-10-10 21:00:00</td>\n      <td>edna</td>\n      <td>tx</td>\n      <td>us</td>\n      <td>circle</td>\n      <td>20</td>\n      <td>1/2 hour</td>\n      <td>My older brother and twin sister were leaving ...</td>\n      <td>1/17/2004</td>\n      <td>28.9783333</td>\n      <td>-96.645833</td>\n      <td>0</td>\n    </tr>\n    <tr>\n      <th>4</th>\n      <td>1960-10-10 20:00:00</td>\n      <td>kaneohe</td>\n      <td>hi</td>\n      <td>us</td>\n      <td>light</td>\n      <td>900</td>\n      <td>15 minutes</td>\n      <td>AS a Marine 1st Lt. flying an FJ4B fighter/att...</td>\n      <td>1/22/2004</td>\n      <td>21.4180556</td>\n      <td>-157.803611</td>\n      <td>0</td>\n    </tr>\n  </tbody>\n</table>\n</div>"
     },
     "metadata": {},
     "execution_count": 28
    }
   ],
   "source": [
    "df.head()"
   ]
  },
  {
   "cell_type": "markdown",
   "metadata": {
    "button": false,
    "colab_type": "text",
    "id": "sxSQX7qPgi1q",
    "new_sheet": false,
    "run_control": {
     "read_only": false
    }
   },
   "source": [
    "* **Проекция на окружность и использованием 2х координат**\n",
    "\n",
    "Использование более эзотерических подходов для нормализации значения времени.\n",
    "\n",
    "---\n",
    "**Идея взята из курса [ml course open](https://medium.com/open-machine-learning-course/open-machine-learning-course-topic-6-feature-engineering-and-feature-selection-8b94f870706a)"
   ]
  },
  {
   "cell_type": "code",
   "execution_count": 29,
   "metadata": {
    "button": false,
    "colab": {},
    "colab_type": "code",
    "id": "xzhlPSOzgi1r",
    "new_sheet": false,
    "outputId": "e13642bd-8efc-428f-b48b-8873c5eb182f",
    "run_control": {
     "read_only": false
    }
   },
   "outputs": [
    {
     "output_type": "execute_result",
     "data": {
      "text/plain": [
       "(-1.0, 1.2246467991473532e-16)"
      ]
     },
     "metadata": {},
     "execution_count": 29
    }
   ],
   "source": [
    "def make_harmonic_features(value, period=24):\n",
    "    value *= 2 * np.pi / period\n",
    "    return np.cos(value), np.sin(value)\n",
    "\n",
    "make_harmonic_features(12)"
   ]
  },
  {
   "cell_type": "markdown",
   "metadata": {
    "button": false,
    "colab_type": "text",
    "id": "Hd7EmcCNgi1t",
    "new_sheet": false,
    "run_control": {
     "read_only": false
    }
   },
   "source": [
    "### Геоданные\n",
    "\n",
    "Возможно находить строковый адрес по данным координатам локации, однако это требует большой аккуратности в интерпретации и чистке полученных значений.\n",
    "\n",
    "\n",
    "---\n",
    "**Идея взята из курса [ml course open](https://medium.com/open-machine-learning-course/open-machine-learning-course-topic-6-feature-engineering-and-feature-selection-8b94f870706a)"
   ]
  },
  {
   "cell_type": "code",
   "execution_count": 30,
   "metadata": {
    "button": false,
    "colab": {},
    "colab_type": "code",
    "id": "B3B9jNsFgi1w",
    "new_sheet": false,
    "outputId": "46bb734b-2a0a-407e-c34b-cb12a4b66ebc",
    "run_control": {
     "read_only": false
    }
   },
   "outputs": [
    {
     "output_type": "stream",
     "name": "stdout",
     "text": [
      "Loading formatted geocoded file...\n"
     ]
    },
    {
     "output_type": "execute_result",
     "data": {
      "text/plain": [
       "[{'lat': '40.74482',\n",
       "  'lon': '-73.94875',\n",
       "  'name': 'Long Island City',\n",
       "  'admin1': 'New York',\n",
       "  'admin2': 'Queens County',\n",
       "  'cc': 'US'}]"
      ]
     },
     "metadata": {},
     "execution_count": 30
    }
   ],
   "source": [
    "import reverse_geocoder as revgc\n",
    "revgc.search((40.74482, -73.94875))"
   ]
  },
  {
   "cell_type": "markdown",
   "metadata": {
    "button": false,
    "colab_type": "text",
    "id": "FMpsYH7Mgi1z",
    "new_sheet": false,
    "run_control": {
     "read_only": false
    }
   },
   "source": [
    "---\n",
    "\n",
    "# Полезные преобразования данных\n",
    "\n",
    "Иногда числовые значения признаков хорошо бы привести к другим значениям с помощью преобразований. Очень часто это может улучшить результаты некоторых алгоритмов. Такие алгоритмы, как правило, делают некоторые предположения о характере данных или же опираются на расстояния между элементами выборки.\n",
    "\n",
    "\n",
    "**Популярные преобразования**\n",
    "\n",
    "(1) **Z-score**\n",
    "$$\\large z(x) = \\frac{x - \\mu}{\\sigma}$$\n",
    "\n",
    "* Полезно, если существенно расстояние между точками (например в knn)\n",
    "* Это преобразование линейное, оно не меняет распределение данных"
   ]
  },
  {
   "cell_type": "code",
   "execution_count": 31,
   "metadata": {
    "button": false,
    "colab": {},
    "colab_type": "code",
    "id": "17ljUSo6gi1z",
    "new_sheet": false,
    "run_control": {
     "read_only": false
    }
   },
   "outputs": [],
   "source": [
    "# Есть в sklearn\n",
    "from sklearn.preprocessing import StandardScaler"
   ]
  },
  {
   "cell_type": "code",
   "execution_count": 32,
   "metadata": {
    "button": false,
    "colab": {},
    "colab_type": "code",
    "id": "aFiVJOBUgi12",
    "new_sheet": false,
    "outputId": "9cb35c3d-c7ef-45c8-94ba-001dc4047a01",
    "run_control": {
     "read_only": false
    }
   },
   "outputs": [
    {
     "output_type": "execute_result",
     "data": {
      "text/plain": [
       "array([[-0.3529866 ],\n",
       "       [-0.3529866 ],\n",
       "       [-0.38507628],\n",
       "       [-0.417166  ],\n",
       "       [-0.32089692],\n",
       "       [-0.2888072 ],\n",
       "       [-0.44925568],\n",
       "       [-0.25671753],\n",
       "       [ 2.8238928 ]], dtype=float32)"
      ]
     },
     "metadata": {},
     "execution_count": 32
    }
   ],
   "source": [
    "# Обратим внимание на значение 100\n",
    "data = np.array([1, 1, 0, -1, 2, 3, -2, 4, 100], dtype=np.float32).reshape(-1,1)\n",
    "StandardScaler().fit_transform(data)"
   ]
  },
  {
   "cell_type": "code",
   "execution_count": 33,
   "metadata": {
    "button": false,
    "colab": {},
    "colab_type": "code",
    "id": "06gwWUvqgi14",
    "new_sheet": false,
    "outputId": "1bcc1778-595d-4ab4-c0f0-330900403620",
    "run_control": {
     "read_only": false
    }
   },
   "outputs": [
    {
     "output_type": "execute_result",
     "data": {
      "text/plain": [
       "array([[-0.3529866 ],\n",
       "       [-0.3529866 ],\n",
       "       [-0.3850763 ],\n",
       "       [-0.417166  ],\n",
       "       [-0.32089692],\n",
       "       [-0.28880724],\n",
       "       [-0.44925568],\n",
       "       [-0.25671753],\n",
       "       [ 2.8238928 ]], dtype=float32)"
      ]
     },
     "metadata": {},
     "execution_count": 33
    }
   ],
   "source": [
    "# Это то же самое, что сделать это руками:\n",
    "(data - data.mean()) / data.std()"
   ]
  },
  {
   "cell_type": "markdown",
   "metadata": {
    "button": false,
    "colab_type": "text",
    "id": "lM-40oAngi16",
    "new_sheet": false,
    "run_control": {
     "read_only": false
    }
   },
   "source": [
    "   ---\n",
    "   (2) **MinMax Scaling**\n",
    "    \n",
    "Другой достаточно популярный вариант – MinMax Scaling, который переносит все точки на заданный отрезок (обычно (0, 1))\n",
    "$$ \\large X_{norm}=\\frac{X-X_{min}}{X_{max}-X_{min}} $$\n",
    "\n",
    "* Полезно, если хочется оценить влияние признака по весам в линейной регрессии\n",
    "* Можно перенести значение признака в интервал (0, 255) для визуализации\n",
    "\n",
    "В целом, оба варианта часто взаимозаменяемы."
   ]
  },
  {
   "cell_type": "code",
   "execution_count": 34,
   "metadata": {
    "button": false,
    "colab": {},
    "colab_type": "code",
    "id": "aaEs2ZjPgi17",
    "new_sheet": false,
    "outputId": "e77f481b-50af-4164-f0f2-a1a24efe9da3",
    "run_control": {
     "read_only": false
    }
   },
   "outputs": [
    {
     "output_type": "execute_result",
     "data": {
      "text/plain": [
       "array([[0.02941177],\n",
       "       [0.02941177],\n",
       "       [0.01960784],\n",
       "       [0.00980392],\n",
       "       [0.03921569],\n",
       "       [0.04901961],\n",
       "       [0.        ],\n",
       "       [0.05882353],\n",
       "       [1.0000001 ]], dtype=float32)"
      ]
     },
     "metadata": {},
     "execution_count": 34
    }
   ],
   "source": [
    "# Демонстрация\n",
    "from sklearn.preprocessing import MinMaxScaler\n",
    "MinMaxScaler().fit_transform(data)"
   ]
  },
  {
   "cell_type": "code",
   "execution_count": 35,
   "metadata": {
    "button": false,
    "colab": {},
    "colab_type": "code",
    "id": "cFwRs85Bgi1-",
    "new_sheet": false,
    "outputId": "869b45c3-fa6a-4b53-e1e8-70285fca46f6",
    "run_control": {
     "read_only": false
    }
   },
   "outputs": [
    {
     "output_type": "execute_result",
     "data": {
      "text/plain": [
       "array([[0.02941176],\n",
       "       [0.02941176],\n",
       "       [0.01960784],\n",
       "       [0.00980392],\n",
       "       [0.03921569],\n",
       "       [0.04901961],\n",
       "       [0.        ],\n",
       "       [0.05882353],\n",
       "       [1.        ]], dtype=float32)"
      ]
     },
     "metadata": {},
     "execution_count": 35
    }
   ],
   "source": [
    "(data - data.min()) / (data.max() - data.min())"
   ]
  },
  {
   "cell_type": "markdown",
   "metadata": {
    "button": false,
    "colab_type": "text",
    "id": "4IFlvGJ_gi1_",
    "new_sheet": false,
    "run_control": {
     "read_only": false
    }
   },
   "source": [
    "(3) **Логарифмирование**\n",
    "\n",
    "~~(как способ бороться с тяжелыми хвостами)~~\n",
    "\n",
    "\n",
    "* Существует ряд преобразований, которые позволяют из распределения с \"тяжелым хвостом\" (в английском варианте long tail) сделать распределение похожее на нормальное. \n",
    "\n",
    "* Нормальное распределение нравится многим алгоритмам машинного обучения и такое преобразование иногда может улучшить ситуацию.\n"
   ]
  },
  {
   "cell_type": "code",
   "execution_count": 36,
   "metadata": {
    "button": false,
    "colab": {},
    "colab_type": "code",
    "id": "S6y9vl41gi2A",
    "new_sheet": false,
    "outputId": "ece92665-a37f-4018-d77a-21766efb93fa",
    "run_control": {
     "read_only": false
    }
   },
   "outputs": [
    {
     "output_type": "stream",
     "name": "stdout",
     "text": [
      "Populating the interactive namespace from numpy and matplotlib\n"
     ]
    }
   ],
   "source": [
    "# Настраиваем параметры отрисовки графиков\n",
    "%pylab inline\n",
    "plt.style.use('ggplot')\n",
    "plt.rcParams['figure.figsize'] = (10,4)\n",
    "plt.rcParams['font.family'] = 'serif'\n",
    "plt.rcParams['font.serif'] = 'Ubuntu'\n",
    "plt.rcParams['font.monospace'] = 'Ubuntu Mono'\n",
    "plt.rcParams['font.size'] = 10\n",
    "plt.rcParams['axes.labelsize'] = 10\n",
    "plt.rcParams['axes.labelweight'] = 'bold'\n",
    "plt.rcParams['xtick.labelsize'] = 15\n",
    "plt.rcParams['ytick.labelsize'] = 15\n",
    "plt.rcParams['legend.fontsize'] = 10\n",
    "plt.rcParams['figure.titlesize'] = 12"
   ]
  },
  {
   "cell_type": "code",
   "execution_count": 37,
   "metadata": {
    "button": false,
    "colab": {},
    "colab_type": "code",
    "id": "D3v5iEi6gi2B",
    "new_sheet": false,
    "outputId": "7ef7ab56-dd80-4808-9f26-2cee65562a54",
    "run_control": {
     "read_only": false
    }
   },
   "outputs": [
    {
     "output_type": "stream",
     "name": "stderr",
     "text": [
      "findfont: Font family ['serif'] not found. Falling back to DejaVu Sans.\n",
      "findfont: Font family ['serif'] not found. Falling back to DejaVu Sans.\n"
     ]
    },
    {
     "output_type": "display_data",
     "data": {
      "text/plain": "<Figure size 720x288 with 1 Axes>",
      "image/svg+xml": "<?xml version=\"1.0\" encoding=\"utf-8\" standalone=\"no\"?>\n<!DOCTYPE svg PUBLIC \"-//W3C//DTD SVG 1.1//EN\"\n  \"http://www.w3.org/Graphics/SVG/1.1/DTD/svg11.dtd\">\n<!-- Created with matplotlib (https://matplotlib.org/) -->\n<svg height=\"270.874937pt\" version=\"1.1\" viewBox=\"0 0 608.03125 270.874937\" width=\"608.03125pt\" xmlns=\"http://www.w3.org/2000/svg\" xmlns:xlink=\"http://www.w3.org/1999/xlink\">\n <defs>\n  <style type=\"text/css\">\n*{stroke-linecap:butt;stroke-linejoin:round;}\n  </style>\n </defs>\n <g id=\"figure_1\">\n  <g id=\"patch_1\">\n   <path d=\"M 0 270.874937 \nL 608.03125 270.874937 \nL 608.03125 0 \nL 0 0 \nz\n\" style=\"fill:#ffffff;\"/>\n  </g>\n  <g id=\"axes_1\">\n   <g id=\"patch_2\">\n    <path d=\"M 42.83125 242.15775 \nL 600.83125 242.15775 \nL 600.83125 24.71775 \nL 42.83125 24.71775 \nz\n\" style=\"fill:#e5e5e5;\"/>\n   </g>\n   <g id=\"matplotlib.axis_1\">\n    <g id=\"xtick_1\">\n     <g id=\"line2d_1\">\n      <path clip-path=\"url(#pd9ea5418cd)\" d=\"M 67.667416 242.15775 \nL 67.667416 24.71775 \n\" style=\"fill:none;stroke:#ffffff;stroke-linecap:square;stroke-width:0.8;\"/>\n     </g>\n     <g id=\"line2d_2\">\n      <defs>\n       <path d=\"M 0 0 \nL 0 3.5 \n\" id=\"m5abd977c4c\" style=\"stroke:#555555;stroke-width:0.8;\"/>\n      </defs>\n      <g>\n       <use style=\"fill:#555555;stroke:#555555;stroke-width:0.8;\" x=\"67.667416\" xlink:href=\"#m5abd977c4c\" y=\"242.15775\"/>\n      </g>\n     </g>\n     <g id=\"text_1\">\n      <!-- 0 -->\n      <defs>\n       <path d=\"M 31.78125 66.40625 \nQ 24.171875 66.40625 20.328125 58.90625 \nQ 16.5 51.421875 16.5 36.375 \nQ 16.5 21.390625 20.328125 13.890625 \nQ 24.171875 6.390625 31.78125 6.390625 \nQ 39.453125 6.390625 43.28125 13.890625 \nQ 47.125 21.390625 47.125 36.375 \nQ 47.125 51.421875 43.28125 58.90625 \nQ 39.453125 66.40625 31.78125 66.40625 \nz\nM 31.78125 74.21875 \nQ 44.046875 74.21875 50.515625 64.515625 \nQ 56.984375 54.828125 56.984375 36.375 \nQ 56.984375 17.96875 50.515625 8.265625 \nQ 44.046875 -1.421875 31.78125 -1.421875 \nQ 19.53125 -1.421875 13.0625 8.265625 \nQ 6.59375 17.96875 6.59375 36.375 \nQ 6.59375 54.828125 13.0625 64.515625 \nQ 19.53125 74.21875 31.78125 74.21875 \nz\n\" id=\"DejaVuSans-48\"/>\n      </defs>\n      <g style=\"fill:#555555;\" transform=\"translate(62.895541 260.555406)scale(0.15 -0.15)\">\n       <use xlink:href=\"#DejaVuSans-48\"/>\n      </g>\n     </g>\n    </g>\n    <g id=\"xtick_2\">\n     <g id=\"line2d_3\">\n      <path clip-path=\"url(#pd9ea5418cd)\" d=\"M 158.781577 242.15775 \nL 158.781577 24.71775 \n\" style=\"fill:none;stroke:#ffffff;stroke-linecap:square;stroke-width:0.8;\"/>\n     </g>\n     <g id=\"line2d_4\">\n      <g>\n       <use style=\"fill:#555555;stroke:#555555;stroke-width:0.8;\" x=\"158.781577\" xlink:href=\"#m5abd977c4c\" y=\"242.15775\"/>\n      </g>\n     </g>\n     <g id=\"text_2\">\n      <!-- 5 -->\n      <defs>\n       <path d=\"M 10.796875 72.90625 \nL 49.515625 72.90625 \nL 49.515625 64.59375 \nL 19.828125 64.59375 \nL 19.828125 46.734375 \nQ 21.96875 47.46875 24.109375 47.828125 \nQ 26.265625 48.1875 28.421875 48.1875 \nQ 40.625 48.1875 47.75 41.5 \nQ 54.890625 34.8125 54.890625 23.390625 \nQ 54.890625 11.625 47.5625 5.09375 \nQ 40.234375 -1.421875 26.90625 -1.421875 \nQ 22.3125 -1.421875 17.546875 -0.640625 \nQ 12.796875 0.140625 7.71875 1.703125 \nL 7.71875 11.625 \nQ 12.109375 9.234375 16.796875 8.0625 \nQ 21.484375 6.890625 26.703125 6.890625 \nQ 35.15625 6.890625 40.078125 11.328125 \nQ 45.015625 15.765625 45.015625 23.390625 \nQ 45.015625 31 40.078125 35.4375 \nQ 35.15625 39.890625 26.703125 39.890625 \nQ 22.75 39.890625 18.8125 39.015625 \nQ 14.890625 38.140625 10.796875 36.28125 \nz\n\" id=\"DejaVuSans-53\"/>\n      </defs>\n      <g style=\"fill:#555555;\" transform=\"translate(154.009702 260.555406)scale(0.15 -0.15)\">\n       <use xlink:href=\"#DejaVuSans-53\"/>\n      </g>\n     </g>\n    </g>\n    <g id=\"xtick_3\">\n     <g id=\"line2d_5\">\n      <path clip-path=\"url(#pd9ea5418cd)\" d=\"M 249.895738 242.15775 \nL 249.895738 24.71775 \n\" style=\"fill:none;stroke:#ffffff;stroke-linecap:square;stroke-width:0.8;\"/>\n     </g>\n     <g id=\"line2d_6\">\n      <g>\n       <use style=\"fill:#555555;stroke:#555555;stroke-width:0.8;\" x=\"249.895738\" xlink:href=\"#m5abd977c4c\" y=\"242.15775\"/>\n      </g>\n     </g>\n     <g id=\"text_3\">\n      <!-- 10 -->\n      <defs>\n       <path d=\"M 12.40625 8.296875 \nL 28.515625 8.296875 \nL 28.515625 63.921875 \nL 10.984375 60.40625 \nL 10.984375 69.390625 \nL 28.421875 72.90625 \nL 38.28125 72.90625 \nL 38.28125 8.296875 \nL 54.390625 8.296875 \nL 54.390625 0 \nL 12.40625 0 \nz\n\" id=\"DejaVuSans-49\"/>\n      </defs>\n      <g style=\"fill:#555555;\" transform=\"translate(240.351988 260.555406)scale(0.15 -0.15)\">\n       <use xlink:href=\"#DejaVuSans-49\"/>\n       <use x=\"63.623047\" xlink:href=\"#DejaVuSans-48\"/>\n      </g>\n     </g>\n    </g>\n    <g id=\"xtick_4\">\n     <g id=\"line2d_7\">\n      <path clip-path=\"url(#pd9ea5418cd)\" d=\"M 341.009899 242.15775 \nL 341.009899 24.71775 \n\" style=\"fill:none;stroke:#ffffff;stroke-linecap:square;stroke-width:0.8;\"/>\n     </g>\n     <g id=\"line2d_8\">\n      <g>\n       <use style=\"fill:#555555;stroke:#555555;stroke-width:0.8;\" x=\"341.009899\" xlink:href=\"#m5abd977c4c\" y=\"242.15775\"/>\n      </g>\n     </g>\n     <g id=\"text_4\">\n      <!-- 15 -->\n      <g style=\"fill:#555555;\" transform=\"translate(331.466149 260.555406)scale(0.15 -0.15)\">\n       <use xlink:href=\"#DejaVuSans-49\"/>\n       <use x=\"63.623047\" xlink:href=\"#DejaVuSans-53\"/>\n      </g>\n     </g>\n    </g>\n    <g id=\"xtick_5\">\n     <g id=\"line2d_9\">\n      <path clip-path=\"url(#pd9ea5418cd)\" d=\"M 432.124059 242.15775 \nL 432.124059 24.71775 \n\" style=\"fill:none;stroke:#ffffff;stroke-linecap:square;stroke-width:0.8;\"/>\n     </g>\n     <g id=\"line2d_10\">\n      <g>\n       <use style=\"fill:#555555;stroke:#555555;stroke-width:0.8;\" x=\"432.124059\" xlink:href=\"#m5abd977c4c\" y=\"242.15775\"/>\n      </g>\n     </g>\n     <g id=\"text_5\">\n      <!-- 20 -->\n      <defs>\n       <path d=\"M 19.1875 8.296875 \nL 53.609375 8.296875 \nL 53.609375 0 \nL 7.328125 0 \nL 7.328125 8.296875 \nQ 12.9375 14.109375 22.625 23.890625 \nQ 32.328125 33.6875 34.8125 36.53125 \nQ 39.546875 41.84375 41.421875 45.53125 \nQ 43.3125 49.21875 43.3125 52.78125 \nQ 43.3125 58.59375 39.234375 62.25 \nQ 35.15625 65.921875 28.609375 65.921875 \nQ 23.96875 65.921875 18.8125 64.3125 \nQ 13.671875 62.703125 7.8125 59.421875 \nL 7.8125 69.390625 \nQ 13.765625 71.78125 18.9375 73 \nQ 24.125 74.21875 28.421875 74.21875 \nQ 39.75 74.21875 46.484375 68.546875 \nQ 53.21875 62.890625 53.21875 53.421875 \nQ 53.21875 48.921875 51.53125 44.890625 \nQ 49.859375 40.875 45.40625 35.40625 \nQ 44.1875 33.984375 37.640625 27.21875 \nQ 31.109375 20.453125 19.1875 8.296875 \nz\n\" id=\"DejaVuSans-50\"/>\n      </defs>\n      <g style=\"fill:#555555;\" transform=\"translate(422.580309 260.555406)scale(0.15 -0.15)\">\n       <use xlink:href=\"#DejaVuSans-50\"/>\n       <use x=\"63.623047\" xlink:href=\"#DejaVuSans-48\"/>\n      </g>\n     </g>\n    </g>\n    <g id=\"xtick_6\">\n     <g id=\"line2d_11\">\n      <path clip-path=\"url(#pd9ea5418cd)\" d=\"M 523.23822 242.15775 \nL 523.23822 24.71775 \n\" style=\"fill:none;stroke:#ffffff;stroke-linecap:square;stroke-width:0.8;\"/>\n     </g>\n     <g id=\"line2d_12\">\n      <g>\n       <use style=\"fill:#555555;stroke:#555555;stroke-width:0.8;\" x=\"523.23822\" xlink:href=\"#m5abd977c4c\" y=\"242.15775\"/>\n      </g>\n     </g>\n     <g id=\"text_6\">\n      <!-- 25 -->\n      <g style=\"fill:#555555;\" transform=\"translate(513.69447 260.555406)scale(0.15 -0.15)\">\n       <use xlink:href=\"#DejaVuSans-50\"/>\n       <use x=\"63.623047\" xlink:href=\"#DejaVuSans-53\"/>\n      </g>\n     </g>\n    </g>\n   </g>\n   <g id=\"matplotlib.axis_2\">\n    <g id=\"ytick_1\">\n     <g id=\"line2d_13\">\n      <path clip-path=\"url(#pd9ea5418cd)\" d=\"M 42.83125 242.15775 \nL 600.83125 242.15775 \n\" style=\"fill:none;stroke:#ffffff;stroke-linecap:square;stroke-width:0.8;\"/>\n     </g>\n     <g id=\"line2d_14\">\n      <defs>\n       <path d=\"M 0 0 \nL -3.5 0 \n\" id=\"m84a6cb2bd7\" style=\"stroke:#555555;stroke-width:0.8;\"/>\n      </defs>\n      <g>\n       <use style=\"fill:#555555;stroke:#555555;stroke-width:0.8;\" x=\"42.83125\" xlink:href=\"#m84a6cb2bd7\" y=\"242.15775\"/>\n      </g>\n     </g>\n     <g id=\"text_7\">\n      <!-- 0 -->\n      <g style=\"fill:#555555;\" transform=\"translate(26.2875 247.856578)scale(0.15 -0.15)\">\n       <use xlink:href=\"#DejaVuSans-48\"/>\n      </g>\n     </g>\n    </g>\n    <g id=\"ytick_2\">\n     <g id=\"line2d_15\">\n      <path clip-path=\"url(#pd9ea5418cd)\" d=\"M 42.83125 186.188638 \nL 600.83125 186.188638 \n\" style=\"fill:none;stroke:#ffffff;stroke-linecap:square;stroke-width:0.8;\"/>\n     </g>\n     <g id=\"line2d_16\">\n      <g>\n       <use style=\"fill:#555555;stroke:#555555;stroke-width:0.8;\" x=\"42.83125\" xlink:href=\"#m84a6cb2bd7\" y=\"186.188638\"/>\n      </g>\n     </g>\n     <g id=\"text_8\">\n      <!-- 50 -->\n      <g style=\"fill:#555555;\" transform=\"translate(16.74375 191.887466)scale(0.15 -0.15)\">\n       <use xlink:href=\"#DejaVuSans-53\"/>\n       <use x=\"63.623047\" xlink:href=\"#DejaVuSans-48\"/>\n      </g>\n     </g>\n    </g>\n    <g id=\"ytick_3\">\n     <g id=\"line2d_17\">\n      <path clip-path=\"url(#pd9ea5418cd)\" d=\"M 42.83125 130.219526 \nL 600.83125 130.219526 \n\" style=\"fill:none;stroke:#ffffff;stroke-linecap:square;stroke-width:0.8;\"/>\n     </g>\n     <g id=\"line2d_18\">\n      <g>\n       <use style=\"fill:#555555;stroke:#555555;stroke-width:0.8;\" x=\"42.83125\" xlink:href=\"#m84a6cb2bd7\" y=\"130.219526\"/>\n      </g>\n     </g>\n     <g id=\"text_9\">\n      <!-- 100 -->\n      <g style=\"fill:#555555;\" transform=\"translate(7.2 135.918354)scale(0.15 -0.15)\">\n       <use xlink:href=\"#DejaVuSans-49\"/>\n       <use x=\"63.623047\" xlink:href=\"#DejaVuSans-48\"/>\n       <use x=\"127.246094\" xlink:href=\"#DejaVuSans-48\"/>\n      </g>\n     </g>\n    </g>\n    <g id=\"ytick_4\">\n     <g id=\"line2d_19\">\n      <path clip-path=\"url(#pd9ea5418cd)\" d=\"M 42.83125 74.250414 \nL 600.83125 74.250414 \n\" style=\"fill:none;stroke:#ffffff;stroke-linecap:square;stroke-width:0.8;\"/>\n     </g>\n     <g id=\"line2d_20\">\n      <g>\n       <use style=\"fill:#555555;stroke:#555555;stroke-width:0.8;\" x=\"42.83125\" xlink:href=\"#m84a6cb2bd7\" y=\"74.250414\"/>\n      </g>\n     </g>\n     <g id=\"text_10\">\n      <!-- 150 -->\n      <g style=\"fill:#555555;\" transform=\"translate(7.2 79.949242)scale(0.15 -0.15)\">\n       <use xlink:href=\"#DejaVuSans-49\"/>\n       <use x=\"63.623047\" xlink:href=\"#DejaVuSans-53\"/>\n       <use x=\"127.246094\" xlink:href=\"#DejaVuSans-48\"/>\n      </g>\n     </g>\n    </g>\n   </g>\n   <g id=\"patch_3\">\n    <path clip-path=\"url(#pd9ea5418cd)\" d=\"M 68.194886 242.15775 \nL 73.267614 242.15775 \nL 73.267614 95.518677 \nL 68.194886 95.518677 \nz\n\" style=\"fill:#e24a33;\"/>\n   </g>\n   <g id=\"patch_4\">\n    <path clip-path=\"url(#pd9ea5418cd)\" d=\"M 73.267614 242.15775 \nL 78.340341 242.15775 \nL 78.340341 35.072036 \nL 73.267614 35.072036 \nz\n\" style=\"fill:#e24a33;\"/>\n   </g>\n   <g id=\"patch_5\">\n    <path clip-path=\"url(#pd9ea5418cd)\" d=\"M 78.340341 242.15775 \nL 83.413068 242.15775 \nL 83.413068 88.802383 \nL 78.340341 88.802383 \nz\n\" style=\"fill:#e24a33;\"/>\n   </g>\n   <g id=\"patch_6\">\n    <path clip-path=\"url(#pd9ea5418cd)\" d=\"M 83.413068 242.15775 \nL 88.485795 242.15775 \nL 88.485795 140.293966 \nL 83.413068 140.293966 \nz\n\" style=\"fill:#e24a33;\"/>\n   </g>\n   <g id=\"patch_7\">\n    <path clip-path=\"url(#pd9ea5418cd)\" d=\"M 88.485795 242.15775 \nL 93.558523 242.15775 \nL 93.558523 154.845935 \nL 88.485795 154.845935 \nz\n\" style=\"fill:#e24a33;\"/>\n   </g>\n   <g id=\"patch_8\">\n    <path clip-path=\"url(#pd9ea5418cd)\" d=\"M 93.558523 242.15775 \nL 98.63125 242.15775 \nL 98.63125 170.517287 \nL 93.558523 170.517287 \nz\n\" style=\"fill:#e24a33;\"/>\n   </g>\n   <g id=\"patch_9\">\n    <path clip-path=\"url(#pd9ea5418cd)\" d=\"M 98.63125 242.15775 \nL 103.703977 242.15775 \nL 103.703977 200.740607 \nL 98.63125 200.740607 \nz\n\" style=\"fill:#e24a33;\"/>\n   </g>\n   <g id=\"patch_10\">\n    <path clip-path=\"url(#pd9ea5418cd)\" d=\"M 103.703977 242.15775 \nL 108.776705 242.15775 \nL 108.776705 200.740607 \nL 103.703977 200.740607 \nz\n\" style=\"fill:#e24a33;\"/>\n   </g>\n   <g id=\"patch_11\">\n    <path clip-path=\"url(#pd9ea5418cd)\" d=\"M 108.776705 242.15775 \nL 113.849432 242.15775 \nL 113.849432 199.621225 \nL 108.776705 199.621225 \nz\n\" style=\"fill:#e24a33;\"/>\n   </g>\n   <g id=\"patch_12\">\n    <path clip-path=\"url(#pd9ea5418cd)\" d=\"M 113.849432 242.15775 \nL 118.922159 242.15775 \nL 118.922159 214.173194 \nL 113.849432 214.173194 \nz\n\" style=\"fill:#e24a33;\"/>\n   </g>\n   <g id=\"patch_13\">\n    <path clip-path=\"url(#pd9ea5418cd)\" d=\"M 118.922159 242.15775 \nL 123.994886 242.15775 \nL 123.994886 211.93443 \nL 118.922159 211.93443 \nz\n\" style=\"fill:#e24a33;\"/>\n   </g>\n   <g id=\"patch_14\">\n    <path clip-path=\"url(#pd9ea5418cd)\" d=\"M 123.994886 242.15775 \nL 129.067614 242.15775 \nL 129.067614 225.367016 \nL 123.994886 225.367016 \nz\n\" style=\"fill:#e24a33;\"/>\n   </g>\n   <g id=\"patch_15\">\n    <path clip-path=\"url(#pd9ea5418cd)\" d=\"M 129.067614 242.15775 \nL 134.140341 242.15775 \nL 134.140341 216.411958 \nL 129.067614 216.411958 \nz\n\" style=\"fill:#e24a33;\"/>\n   </g>\n   <g id=\"patch_16\">\n    <path clip-path=\"url(#pd9ea5418cd)\" d=\"M 134.140341 242.15775 \nL 139.213068 242.15775 \nL 139.213068 227.605781 \nL 134.140341 227.605781 \nz\n\" style=\"fill:#e24a33;\"/>\n   </g>\n   <g id=\"patch_17\">\n    <path clip-path=\"url(#pd9ea5418cd)\" d=\"M 139.213068 242.15775 \nL 144.285795 242.15775 \nL 144.285795 228.725163 \nL 139.213068 228.725163 \nz\n\" style=\"fill:#e24a33;\"/>\n   </g>\n   <g id=\"patch_18\">\n    <path clip-path=\"url(#pd9ea5418cd)\" d=\"M 144.285795 242.15775 \nL 149.358523 242.15775 \nL 149.358523 232.08331 \nL 144.285795 232.08331 \nz\n\" style=\"fill:#e24a33;\"/>\n   </g>\n   <g id=\"patch_19\">\n    <path clip-path=\"url(#pd9ea5418cd)\" d=\"M 149.358523 242.15775 \nL 154.43125 242.15775 \nL 154.43125 228.725163 \nL 149.358523 228.725163 \nz\n\" style=\"fill:#e24a33;\"/>\n   </g>\n   <g id=\"patch_20\">\n    <path clip-path=\"url(#pd9ea5418cd)\" d=\"M 154.43125 242.15775 \nL 159.503977 242.15775 \nL 159.503977 235.441457 \nL 154.43125 235.441457 \nz\n\" style=\"fill:#e24a33;\"/>\n   </g>\n   <g id=\"patch_21\">\n    <path clip-path=\"url(#pd9ea5418cd)\" d=\"M 159.503977 242.15775 \nL 164.576705 242.15775 \nL 164.576705 235.441457 \nL 159.503977 235.441457 \nz\n\" style=\"fill:#e24a33;\"/>\n   </g>\n   <g id=\"patch_22\">\n    <path clip-path=\"url(#pd9ea5418cd)\" d=\"M 164.576705 242.15775 \nL 169.649432 242.15775 \nL 169.649432 237.680221 \nL 164.576705 237.680221 \nz\n\" style=\"fill:#e24a33;\"/>\n   </g>\n   <g id=\"patch_23\">\n    <path clip-path=\"url(#pd9ea5418cd)\" d=\"M 169.649432 242.15775 \nL 174.722159 242.15775 \nL 174.722159 236.560839 \nL 169.649432 236.560839 \nz\n\" style=\"fill:#e24a33;\"/>\n   </g>\n   <g id=\"patch_24\">\n    <path clip-path=\"url(#pd9ea5418cd)\" d=\"M 174.722159 242.15775 \nL 179.794886 242.15775 \nL 179.794886 239.918986 \nL 174.722159 239.918986 \nz\n\" style=\"fill:#e24a33;\"/>\n   </g>\n   <g id=\"patch_25\">\n    <path clip-path=\"url(#pd9ea5418cd)\" d=\"M 179.794886 242.15775 \nL 184.867614 242.15775 \nL 184.867614 239.918986 \nL 179.794886 239.918986 \nz\n\" style=\"fill:#e24a33;\"/>\n   </g>\n   <g id=\"patch_26\">\n    <path clip-path=\"url(#pd9ea5418cd)\" d=\"M 184.867614 242.15775 \nL 189.940341 242.15775 \nL 189.940341 238.799603 \nL 184.867614 238.799603 \nz\n\" style=\"fill:#e24a33;\"/>\n   </g>\n   <g id=\"patch_27\">\n    <path clip-path=\"url(#pd9ea5418cd)\" d=\"M 189.940341 242.15775 \nL 195.013068 242.15775 \nL 195.013068 237.680221 \nL 189.940341 237.680221 \nz\n\" style=\"fill:#e24a33;\"/>\n   </g>\n   <g id=\"patch_28\">\n    <path clip-path=\"url(#pd9ea5418cd)\" d=\"M 195.013068 242.15775 \nL 200.085795 242.15775 \nL 200.085795 236.560839 \nL 195.013068 236.560839 \nz\n\" style=\"fill:#e24a33;\"/>\n   </g>\n   <g id=\"patch_29\">\n    <path clip-path=\"url(#pd9ea5418cd)\" d=\"M 200.085795 242.15775 \nL 205.158523 242.15775 \nL 205.158523 241.038368 \nL 200.085795 241.038368 \nz\n\" style=\"fill:#e24a33;\"/>\n   </g>\n   <g id=\"patch_30\">\n    <path clip-path=\"url(#pd9ea5418cd)\" d=\"M 205.158523 242.15775 \nL 210.23125 242.15775 \nL 210.23125 237.680221 \nL 205.158523 237.680221 \nz\n\" style=\"fill:#e24a33;\"/>\n   </g>\n   <g id=\"patch_31\">\n    <path clip-path=\"url(#pd9ea5418cd)\" d=\"M 210.23125 242.15775 \nL 215.303977 242.15775 \nL 215.303977 238.799603 \nL 210.23125 238.799603 \nz\n\" style=\"fill:#e24a33;\"/>\n   </g>\n   <g id=\"patch_32\">\n    <path clip-path=\"url(#pd9ea5418cd)\" d=\"M 215.303977 242.15775 \nL 220.376705 242.15775 \nL 220.376705 242.15775 \nL 215.303977 242.15775 \nz\n\" style=\"fill:#e24a33;\"/>\n   </g>\n   <g id=\"patch_33\">\n    <path clip-path=\"url(#pd9ea5418cd)\" d=\"M 220.376705 242.15775 \nL 225.449432 242.15775 \nL 225.449432 237.680221 \nL 220.376705 237.680221 \nz\n\" style=\"fill:#e24a33;\"/>\n   </g>\n   <g id=\"patch_34\">\n    <path clip-path=\"url(#pd9ea5418cd)\" d=\"M 225.449432 242.15775 \nL 230.522159 242.15775 \nL 230.522159 242.15775 \nL 225.449432 242.15775 \nz\n\" style=\"fill:#e24a33;\"/>\n   </g>\n   <g id=\"patch_35\">\n    <path clip-path=\"url(#pd9ea5418cd)\" d=\"M 230.522159 242.15775 \nL 235.594886 242.15775 \nL 235.594886 241.038368 \nL 230.522159 241.038368 \nz\n\" style=\"fill:#e24a33;\"/>\n   </g>\n   <g id=\"patch_36\">\n    <path clip-path=\"url(#pd9ea5418cd)\" d=\"M 235.594886 242.15775 \nL 240.667614 242.15775 \nL 240.667614 241.038368 \nL 235.594886 241.038368 \nz\n\" style=\"fill:#e24a33;\"/>\n   </g>\n   <g id=\"patch_37\">\n    <path clip-path=\"url(#pd9ea5418cd)\" d=\"M 240.667614 242.15775 \nL 245.740341 242.15775 \nL 245.740341 242.15775 \nL 240.667614 242.15775 \nz\n\" style=\"fill:#e24a33;\"/>\n   </g>\n   <g id=\"patch_38\">\n    <path clip-path=\"url(#pd9ea5418cd)\" d=\"M 245.740341 242.15775 \nL 250.813068 242.15775 \nL 250.813068 239.918986 \nL 245.740341 239.918986 \nz\n\" style=\"fill:#e24a33;\"/>\n   </g>\n   <g id=\"patch_39\">\n    <path clip-path=\"url(#pd9ea5418cd)\" d=\"M 250.813068 242.15775 \nL 255.885795 242.15775 \nL 255.885795 242.15775 \nL 250.813068 242.15775 \nz\n\" style=\"fill:#e24a33;\"/>\n   </g>\n   <g id=\"patch_40\">\n    <path clip-path=\"url(#pd9ea5418cd)\" d=\"M 255.885795 242.15775 \nL 260.958523 242.15775 \nL 260.958523 241.038368 \nL 255.885795 241.038368 \nz\n\" style=\"fill:#e24a33;\"/>\n   </g>\n   <g id=\"patch_41\">\n    <path clip-path=\"url(#pd9ea5418cd)\" d=\"M 260.958523 242.15775 \nL 266.03125 242.15775 \nL 266.03125 242.15775 \nL 260.958523 242.15775 \nz\n\" style=\"fill:#e24a33;\"/>\n   </g>\n   <g id=\"patch_42\">\n    <path clip-path=\"url(#pd9ea5418cd)\" d=\"M 266.03125 242.15775 \nL 271.103977 242.15775 \nL 271.103977 242.15775 \nL 266.03125 242.15775 \nz\n\" style=\"fill:#e24a33;\"/>\n   </g>\n   <g id=\"patch_43\">\n    <path clip-path=\"url(#pd9ea5418cd)\" d=\"M 271.103977 242.15775 \nL 276.176705 242.15775 \nL 276.176705 242.15775 \nL 271.103977 242.15775 \nz\n\" style=\"fill:#e24a33;\"/>\n   </g>\n   <g id=\"patch_44\">\n    <path clip-path=\"url(#pd9ea5418cd)\" d=\"M 276.176705 242.15775 \nL 281.249432 242.15775 \nL 281.249432 241.038368 \nL 276.176705 241.038368 \nz\n\" style=\"fill:#e24a33;\"/>\n   </g>\n   <g id=\"patch_45\">\n    <path clip-path=\"url(#pd9ea5418cd)\" d=\"M 281.249432 242.15775 \nL 286.322159 242.15775 \nL 286.322159 242.15775 \nL 281.249432 242.15775 \nz\n\" style=\"fill:#e24a33;\"/>\n   </g>\n   <g id=\"patch_46\">\n    <path clip-path=\"url(#pd9ea5418cd)\" d=\"M 286.322159 242.15775 \nL 291.394886 242.15775 \nL 291.394886 241.038368 \nL 286.322159 241.038368 \nz\n\" style=\"fill:#e24a33;\"/>\n   </g>\n   <g id=\"patch_47\">\n    <path clip-path=\"url(#pd9ea5418cd)\" d=\"M 291.394886 242.15775 \nL 296.467614 242.15775 \nL 296.467614 242.15775 \nL 291.394886 242.15775 \nz\n\" style=\"fill:#e24a33;\"/>\n   </g>\n   <g id=\"patch_48\">\n    <path clip-path=\"url(#pd9ea5418cd)\" d=\"M 296.467614 242.15775 \nL 301.540341 242.15775 \nL 301.540341 242.15775 \nL 296.467614 242.15775 \nz\n\" style=\"fill:#e24a33;\"/>\n   </g>\n   <g id=\"patch_49\">\n    <path clip-path=\"url(#pd9ea5418cd)\" d=\"M 301.540341 242.15775 \nL 306.613068 242.15775 \nL 306.613068 241.038368 \nL 301.540341 241.038368 \nz\n\" style=\"fill:#e24a33;\"/>\n   </g>\n   <g id=\"patch_50\">\n    <path clip-path=\"url(#pd9ea5418cd)\" d=\"M 306.613068 242.15775 \nL 311.685795 242.15775 \nL 311.685795 242.15775 \nL 306.613068 242.15775 \nz\n\" style=\"fill:#e24a33;\"/>\n   </g>\n   <g id=\"patch_51\">\n    <path clip-path=\"url(#pd9ea5418cd)\" d=\"M 311.685795 242.15775 \nL 316.758523 242.15775 \nL 316.758523 241.038368 \nL 311.685795 241.038368 \nz\n\" style=\"fill:#e24a33;\"/>\n   </g>\n   <g id=\"patch_52\">\n    <path clip-path=\"url(#pd9ea5418cd)\" d=\"M 316.758523 242.15775 \nL 321.83125 242.15775 \nL 321.83125 241.038368 \nL 316.758523 241.038368 \nz\n\" style=\"fill:#e24a33;\"/>\n   </g>\n   <g id=\"patch_53\">\n    <path clip-path=\"url(#pd9ea5418cd)\" d=\"M 321.83125 242.15775 \nL 326.903977 242.15775 \nL 326.903977 241.038368 \nL 321.83125 241.038368 \nz\n\" style=\"fill:#e24a33;\"/>\n   </g>\n   <g id=\"patch_54\">\n    <path clip-path=\"url(#pd9ea5418cd)\" d=\"M 326.903977 242.15775 \nL 331.976705 242.15775 \nL 331.976705 242.15775 \nL 326.903977 242.15775 \nz\n\" style=\"fill:#e24a33;\"/>\n   </g>\n   <g id=\"patch_55\">\n    <path clip-path=\"url(#pd9ea5418cd)\" d=\"M 331.976705 242.15775 \nL 337.049432 242.15775 \nL 337.049432 242.15775 \nL 331.976705 242.15775 \nz\n\" style=\"fill:#e24a33;\"/>\n   </g>\n   <g id=\"patch_56\">\n    <path clip-path=\"url(#pd9ea5418cd)\" d=\"M 337.049432 242.15775 \nL 342.122159 242.15775 \nL 342.122159 242.15775 \nL 337.049432 242.15775 \nz\n\" style=\"fill:#e24a33;\"/>\n   </g>\n   <g id=\"patch_57\">\n    <path clip-path=\"url(#pd9ea5418cd)\" d=\"M 342.122159 242.15775 \nL 347.194886 242.15775 \nL 347.194886 242.15775 \nL 342.122159 242.15775 \nz\n\" style=\"fill:#e24a33;\"/>\n   </g>\n   <g id=\"patch_58\">\n    <path clip-path=\"url(#pd9ea5418cd)\" d=\"M 347.194886 242.15775 \nL 352.267614 242.15775 \nL 352.267614 242.15775 \nL 347.194886 242.15775 \nz\n\" style=\"fill:#e24a33;\"/>\n   </g>\n   <g id=\"patch_59\">\n    <path clip-path=\"url(#pd9ea5418cd)\" d=\"M 352.267614 242.15775 \nL 357.340341 242.15775 \nL 357.340341 242.15775 \nL 352.267614 242.15775 \nz\n\" style=\"fill:#e24a33;\"/>\n   </g>\n   <g id=\"patch_60\">\n    <path clip-path=\"url(#pd9ea5418cd)\" d=\"M 357.340341 242.15775 \nL 362.413068 242.15775 \nL 362.413068 241.038368 \nL 357.340341 241.038368 \nz\n\" style=\"fill:#e24a33;\"/>\n   </g>\n   <g id=\"patch_61\">\n    <path clip-path=\"url(#pd9ea5418cd)\" d=\"M 362.413068 242.15775 \nL 367.485795 242.15775 \nL 367.485795 242.15775 \nL 362.413068 242.15775 \nz\n\" style=\"fill:#e24a33;\"/>\n   </g>\n   <g id=\"patch_62\">\n    <path clip-path=\"url(#pd9ea5418cd)\" d=\"M 367.485795 242.15775 \nL 372.558523 242.15775 \nL 372.558523 242.15775 \nL 367.485795 242.15775 \nz\n\" style=\"fill:#e24a33;\"/>\n   </g>\n   <g id=\"patch_63\">\n    <path clip-path=\"url(#pd9ea5418cd)\" d=\"M 372.558523 242.15775 \nL 377.63125 242.15775 \nL 377.63125 241.038368 \nL 372.558523 241.038368 \nz\n\" style=\"fill:#e24a33;\"/>\n   </g>\n   <g id=\"patch_64\">\n    <path clip-path=\"url(#pd9ea5418cd)\" d=\"M 377.63125 242.15775 \nL 382.703977 242.15775 \nL 382.703977 242.15775 \nL 377.63125 242.15775 \nz\n\" style=\"fill:#e24a33;\"/>\n   </g>\n   <g id=\"patch_65\">\n    <path clip-path=\"url(#pd9ea5418cd)\" d=\"M 382.703977 242.15775 \nL 387.776705 242.15775 \nL 387.776705 241.038368 \nL 382.703977 241.038368 \nz\n\" style=\"fill:#e24a33;\"/>\n   </g>\n   <g id=\"patch_66\">\n    <path clip-path=\"url(#pd9ea5418cd)\" d=\"M 387.776705 242.15775 \nL 392.849432 242.15775 \nL 392.849432 242.15775 \nL 387.776705 242.15775 \nz\n\" style=\"fill:#e24a33;\"/>\n   </g>\n   <g id=\"patch_67\">\n    <path clip-path=\"url(#pd9ea5418cd)\" d=\"M 392.849432 242.15775 \nL 397.922159 242.15775 \nL 397.922159 241.038368 \nL 392.849432 241.038368 \nz\n\" style=\"fill:#e24a33;\"/>\n   </g>\n   <g id=\"patch_68\">\n    <path clip-path=\"url(#pd9ea5418cd)\" d=\"M 397.922159 242.15775 \nL 402.994886 242.15775 \nL 402.994886 241.038368 \nL 397.922159 241.038368 \nz\n\" style=\"fill:#e24a33;\"/>\n   </g>\n   <g id=\"patch_69\">\n    <path clip-path=\"url(#pd9ea5418cd)\" d=\"M 402.994886 242.15775 \nL 408.067614 242.15775 \nL 408.067614 242.15775 \nL 402.994886 242.15775 \nz\n\" style=\"fill:#e24a33;\"/>\n   </g>\n   <g id=\"patch_70\">\n    <path clip-path=\"url(#pd9ea5418cd)\" d=\"M 408.067614 242.15775 \nL 413.140341 242.15775 \nL 413.140341 242.15775 \nL 408.067614 242.15775 \nz\n\" style=\"fill:#e24a33;\"/>\n   </g>\n   <g id=\"patch_71\">\n    <path clip-path=\"url(#pd9ea5418cd)\" d=\"M 413.140341 242.15775 \nL 418.213068 242.15775 \nL 418.213068 242.15775 \nL 413.140341 242.15775 \nz\n\" style=\"fill:#e24a33;\"/>\n   </g>\n   <g id=\"patch_72\">\n    <path clip-path=\"url(#pd9ea5418cd)\" d=\"M 418.213068 242.15775 \nL 423.285795 242.15775 \nL 423.285795 242.15775 \nL 418.213068 242.15775 \nz\n\" style=\"fill:#e24a33;\"/>\n   </g>\n   <g id=\"patch_73\">\n    <path clip-path=\"url(#pd9ea5418cd)\" d=\"M 423.285795 242.15775 \nL 428.358523 242.15775 \nL 428.358523 242.15775 \nL 423.285795 242.15775 \nz\n\" style=\"fill:#e24a33;\"/>\n   </g>\n   <g id=\"patch_74\">\n    <path clip-path=\"url(#pd9ea5418cd)\" d=\"M 428.358523 242.15775 \nL 433.43125 242.15775 \nL 433.43125 242.15775 \nL 428.358523 242.15775 \nz\n\" style=\"fill:#e24a33;\"/>\n   </g>\n   <g id=\"patch_75\">\n    <path clip-path=\"url(#pd9ea5418cd)\" d=\"M 433.43125 242.15775 \nL 438.503977 242.15775 \nL 438.503977 242.15775 \nL 433.43125 242.15775 \nz\n\" style=\"fill:#e24a33;\"/>\n   </g>\n   <g id=\"patch_76\">\n    <path clip-path=\"url(#pd9ea5418cd)\" d=\"M 438.503977 242.15775 \nL 443.576705 242.15775 \nL 443.576705 242.15775 \nL 438.503977 242.15775 \nz\n\" style=\"fill:#e24a33;\"/>\n   </g>\n   <g id=\"patch_77\">\n    <path clip-path=\"url(#pd9ea5418cd)\" d=\"M 443.576705 242.15775 \nL 448.649432 242.15775 \nL 448.649432 242.15775 \nL 443.576705 242.15775 \nz\n\" style=\"fill:#e24a33;\"/>\n   </g>\n   <g id=\"patch_78\">\n    <path clip-path=\"url(#pd9ea5418cd)\" d=\"M 448.649432 242.15775 \nL 453.722159 242.15775 \nL 453.722159 242.15775 \nL 448.649432 242.15775 \nz\n\" style=\"fill:#e24a33;\"/>\n   </g>\n   <g id=\"patch_79\">\n    <path clip-path=\"url(#pd9ea5418cd)\" d=\"M 453.722159 242.15775 \nL 458.794886 242.15775 \nL 458.794886 242.15775 \nL 453.722159 242.15775 \nz\n\" style=\"fill:#e24a33;\"/>\n   </g>\n   <g id=\"patch_80\">\n    <path clip-path=\"url(#pd9ea5418cd)\" d=\"M 458.794886 242.15775 \nL 463.867614 242.15775 \nL 463.867614 242.15775 \nL 458.794886 242.15775 \nz\n\" style=\"fill:#e24a33;\"/>\n   </g>\n   <g id=\"patch_81\">\n    <path clip-path=\"url(#pd9ea5418cd)\" d=\"M 463.867614 242.15775 \nL 468.940341 242.15775 \nL 468.940341 242.15775 \nL 463.867614 242.15775 \nz\n\" style=\"fill:#e24a33;\"/>\n   </g>\n   <g id=\"patch_82\">\n    <path clip-path=\"url(#pd9ea5418cd)\" d=\"M 468.940341 242.15775 \nL 474.013068 242.15775 \nL 474.013068 242.15775 \nL 468.940341 242.15775 \nz\n\" style=\"fill:#e24a33;\"/>\n   </g>\n   <g id=\"patch_83\">\n    <path clip-path=\"url(#pd9ea5418cd)\" d=\"M 474.013068 242.15775 \nL 479.085795 242.15775 \nL 479.085795 242.15775 \nL 474.013068 242.15775 \nz\n\" style=\"fill:#e24a33;\"/>\n   </g>\n   <g id=\"patch_84\">\n    <path clip-path=\"url(#pd9ea5418cd)\" d=\"M 479.085795 242.15775 \nL 484.158523 242.15775 \nL 484.158523 242.15775 \nL 479.085795 242.15775 \nz\n\" style=\"fill:#e24a33;\"/>\n   </g>\n   <g id=\"patch_85\">\n    <path clip-path=\"url(#pd9ea5418cd)\" d=\"M 484.158523 242.15775 \nL 489.23125 242.15775 \nL 489.23125 242.15775 \nL 484.158523 242.15775 \nz\n\" style=\"fill:#e24a33;\"/>\n   </g>\n   <g id=\"patch_86\">\n    <path clip-path=\"url(#pd9ea5418cd)\" d=\"M 489.23125 242.15775 \nL 494.303977 242.15775 \nL 494.303977 242.15775 \nL 489.23125 242.15775 \nz\n\" style=\"fill:#e24a33;\"/>\n   </g>\n   <g id=\"patch_87\">\n    <path clip-path=\"url(#pd9ea5418cd)\" d=\"M 494.303977 242.15775 \nL 499.376705 242.15775 \nL 499.376705 242.15775 \nL 494.303977 242.15775 \nz\n\" style=\"fill:#e24a33;\"/>\n   </g>\n   <g id=\"patch_88\">\n    <path clip-path=\"url(#pd9ea5418cd)\" d=\"M 499.376705 242.15775 \nL 504.449432 242.15775 \nL 504.449432 242.15775 \nL 499.376705 242.15775 \nz\n\" style=\"fill:#e24a33;\"/>\n   </g>\n   <g id=\"patch_89\">\n    <path clip-path=\"url(#pd9ea5418cd)\" d=\"M 504.449432 242.15775 \nL 509.522159 242.15775 \nL 509.522159 242.15775 \nL 504.449432 242.15775 \nz\n\" style=\"fill:#e24a33;\"/>\n   </g>\n   <g id=\"patch_90\">\n    <path clip-path=\"url(#pd9ea5418cd)\" d=\"M 509.522159 242.15775 \nL 514.594886 242.15775 \nL 514.594886 242.15775 \nL 509.522159 242.15775 \nz\n\" style=\"fill:#e24a33;\"/>\n   </g>\n   <g id=\"patch_91\">\n    <path clip-path=\"url(#pd9ea5418cd)\" d=\"M 514.594886 242.15775 \nL 519.667614 242.15775 \nL 519.667614 242.15775 \nL 514.594886 242.15775 \nz\n\" style=\"fill:#e24a33;\"/>\n   </g>\n   <g id=\"patch_92\">\n    <path clip-path=\"url(#pd9ea5418cd)\" d=\"M 519.667614 242.15775 \nL 524.740341 242.15775 \nL 524.740341 242.15775 \nL 519.667614 242.15775 \nz\n\" style=\"fill:#e24a33;\"/>\n   </g>\n   <g id=\"patch_93\">\n    <path clip-path=\"url(#pd9ea5418cd)\" d=\"M 524.740341 242.15775 \nL 529.813068 242.15775 \nL 529.813068 242.15775 \nL 524.740341 242.15775 \nz\n\" style=\"fill:#e24a33;\"/>\n   </g>\n   <g id=\"patch_94\">\n    <path clip-path=\"url(#pd9ea5418cd)\" d=\"M 529.813068 242.15775 \nL 534.885795 242.15775 \nL 534.885795 242.15775 \nL 529.813068 242.15775 \nz\n\" style=\"fill:#e24a33;\"/>\n   </g>\n   <g id=\"patch_95\">\n    <path clip-path=\"url(#pd9ea5418cd)\" d=\"M 534.885795 242.15775 \nL 539.958523 242.15775 \nL 539.958523 242.15775 \nL 534.885795 242.15775 \nz\n\" style=\"fill:#e24a33;\"/>\n   </g>\n   <g id=\"patch_96\">\n    <path clip-path=\"url(#pd9ea5418cd)\" d=\"M 539.958523 242.15775 \nL 545.03125 242.15775 \nL 545.03125 242.15775 \nL 539.958523 242.15775 \nz\n\" style=\"fill:#e24a33;\"/>\n   </g>\n   <g id=\"patch_97\">\n    <path clip-path=\"url(#pd9ea5418cd)\" d=\"M 545.03125 242.15775 \nL 550.103977 242.15775 \nL 550.103977 242.15775 \nL 545.03125 242.15775 \nz\n\" style=\"fill:#e24a33;\"/>\n   </g>\n   <g id=\"patch_98\">\n    <path clip-path=\"url(#pd9ea5418cd)\" d=\"M 550.103977 242.15775 \nL 555.176705 242.15775 \nL 555.176705 242.15775 \nL 550.103977 242.15775 \nz\n\" style=\"fill:#e24a33;\"/>\n   </g>\n   <g id=\"patch_99\">\n    <path clip-path=\"url(#pd9ea5418cd)\" d=\"M 555.176705 242.15775 \nL 560.249432 242.15775 \nL 560.249432 242.15775 \nL 555.176705 242.15775 \nz\n\" style=\"fill:#e24a33;\"/>\n   </g>\n   <g id=\"patch_100\">\n    <path clip-path=\"url(#pd9ea5418cd)\" d=\"M 560.249432 242.15775 \nL 565.322159 242.15775 \nL 565.322159 242.15775 \nL 560.249432 242.15775 \nz\n\" style=\"fill:#e24a33;\"/>\n   </g>\n   <g id=\"patch_101\">\n    <path clip-path=\"url(#pd9ea5418cd)\" d=\"M 565.322159 242.15775 \nL 570.394886 242.15775 \nL 570.394886 242.15775 \nL 565.322159 242.15775 \nz\n\" style=\"fill:#e24a33;\"/>\n   </g>\n   <g id=\"patch_102\">\n    <path clip-path=\"url(#pd9ea5418cd)\" d=\"M 570.394886 242.15775 \nL 575.467614 242.15775 \nL 575.467614 241.038368 \nL 570.394886 241.038368 \nz\n\" style=\"fill:#e24a33;\"/>\n   </g>\n   <g id=\"patch_103\">\n    <path d=\"M 42.83125 242.15775 \nL 42.83125 24.71775 \n\" style=\"fill:none;stroke:#ffffff;stroke-linecap:square;stroke-linejoin:miter;\"/>\n   </g>\n   <g id=\"patch_104\">\n    <path d=\"M 600.83125 242.15775 \nL 600.83125 24.71775 \n\" style=\"fill:none;stroke:#ffffff;stroke-linecap:square;stroke-linejoin:miter;\"/>\n   </g>\n   <g id=\"patch_105\">\n    <path d=\"M 42.83125 242.15775 \nL 600.83125 242.15775 \n\" style=\"fill:none;stroke:#ffffff;stroke-linecap:square;stroke-linejoin:miter;\"/>\n   </g>\n   <g id=\"patch_106\">\n    <path d=\"M 42.83125 24.71775 \nL 600.83125 24.71775 \n\" style=\"fill:none;stroke:#ffffff;stroke-linecap:square;stroke-linejoin:miter;\"/>\n   </g>\n   <g id=\"text_11\">\n    <!-- Классический пример `long tail` -->\n    <defs>\n     <path d=\"M 9.8125 72.90625 \nL 19.671875 72.90625 \nL 19.671875 36.859375 \nL 54.9375 72.90625 \nL 67.578125 72.90625 \nL 39.40625 44.09375 \nL 69.046875 0 \nL 58.296875 0 \nL 33.015625 37.546875 \nL 19.671875 23.921875 \nL 19.671875 0 \nL 9.8125 0 \nz\n\" id=\"DejaVuSans-1050\"/>\n     <path d=\"M 3.71875 0 \nL 3.71875 7.46875 \nQ 12.59375 8.84375 15.328125 14.984375 \nQ 18.65625 23.640625 18.65625 45.75 \nL 18.65625 54.6875 \nL 55.609375 54.6875 \nL 55.609375 0 \nL 46.625 0 \nL 46.625 47.515625 \nL 27.640625 47.515625 \nL 27.640625 42.09375 \nQ 27.640625 21 23.34375 11.53125 \nQ 18.75 1.421875 3.71875 0 \nz\n\" id=\"DejaVuSans-1083\"/>\n     <path d=\"M 34.28125 27.484375 \nQ 23.390625 27.484375 19.1875 25 \nQ 14.984375 22.515625 14.984375 16.5 \nQ 14.984375 11.71875 18.140625 8.90625 \nQ 21.296875 6.109375 26.703125 6.109375 \nQ 34.1875 6.109375 38.703125 11.40625 \nQ 43.21875 16.703125 43.21875 25.484375 \nL 43.21875 27.484375 \nz\nM 52.203125 31.203125 \nL 52.203125 0 \nL 43.21875 0 \nL 43.21875 8.296875 \nQ 40.140625 3.328125 35.546875 0.953125 \nQ 30.953125 -1.421875 24.3125 -1.421875 \nQ 15.921875 -1.421875 10.953125 3.296875 \nQ 6 8.015625 6 15.921875 \nQ 6 25.140625 12.171875 29.828125 \nQ 18.359375 34.515625 30.609375 34.515625 \nL 43.21875 34.515625 \nL 43.21875 35.40625 \nQ 43.21875 41.609375 39.140625 45 \nQ 35.0625 48.390625 27.6875 48.390625 \nQ 23 48.390625 18.546875 47.265625 \nQ 14.109375 46.140625 10.015625 43.890625 \nL 10.015625 52.203125 \nQ 14.9375 54.109375 19.578125 55.046875 \nQ 24.21875 56 28.609375 56 \nQ 40.484375 56 46.34375 49.84375 \nQ 52.203125 43.703125 52.203125 31.203125 \nz\n\" id=\"DejaVuSans-1072\"/>\n     <path d=\"M 48.78125 52.59375 \nL 48.78125 44.1875 \nQ 44.96875 46.296875 41.140625 47.34375 \nQ 37.3125 48.390625 33.40625 48.390625 \nQ 24.65625 48.390625 19.8125 42.84375 \nQ 14.984375 37.3125 14.984375 27.296875 \nQ 14.984375 17.28125 19.8125 11.734375 \nQ 24.65625 6.203125 33.40625 6.203125 \nQ 37.3125 6.203125 41.140625 7.25 \nQ 44.96875 8.296875 48.78125 10.40625 \nL 48.78125 2.09375 \nQ 45.015625 0.34375 40.984375 -0.53125 \nQ 36.96875 -1.421875 32.421875 -1.421875 \nQ 20.0625 -1.421875 12.78125 6.34375 \nQ 5.515625 14.109375 5.515625 27.296875 \nQ 5.515625 40.671875 12.859375 48.328125 \nQ 20.21875 56 33.015625 56 \nQ 37.15625 56 41.109375 55.140625 \nQ 45.0625 54.296875 48.78125 52.59375 \nz\n\" id=\"DejaVuSans-1089\"/>\n     <path d=\"M 55.90625 54.6875 \nL 55.90625 0 \nL 46.96875 0 \nL 46.96875 43.890625 \nL 20.609375 0 \nL 9.078125 0 \nL 9.078125 54.6875 \nL 18.015625 54.6875 \nL 18.015625 10.890625 \nL 44.34375 54.6875 \nz\n\" id=\"DejaVuSans-1080\"/>\n     <path d=\"M 41.015625 0 \nL 41.015625 23 \nL 24.265625 23 \nQ 16.796875 23 11.8125 27.640625 \nQ 7.328125 31.84375 7.328125 40.828125 \nL 7.328125 54.6875 \nL 16.3125 54.6875 \nL 16.3125 41.65625 \nQ 16.3125 35.9375 18.84375 33.0625 \nQ 21.4375 30.171875 26.515625 30.171875 \nL 41.015625 30.171875 \nL 41.015625 54.6875 \nL 50 54.6875 \nL 50 0 \nz\n\" id=\"DejaVuSans-1095\"/>\n     <path d=\"M 56.203125 29.59375 \nL 56.203125 25.203125 \nL 14.890625 25.203125 \nQ 15.484375 15.921875 20.484375 11.0625 \nQ 25.484375 6.203125 34.421875 6.203125 \nQ 39.59375 6.203125 44.453125 7.46875 \nQ 49.3125 8.734375 54.109375 11.28125 \nL 54.109375 2.78125 \nQ 49.265625 0.734375 44.1875 -0.34375 \nQ 39.109375 -1.421875 33.890625 -1.421875 \nQ 20.796875 -1.421875 13.15625 6.1875 \nQ 5.515625 13.8125 5.515625 26.8125 \nQ 5.515625 40.234375 12.765625 48.109375 \nQ 20.015625 56 32.328125 56 \nQ 43.359375 56 49.78125 48.890625 \nQ 56.203125 41.796875 56.203125 29.59375 \nz\nM 47.21875 32.234375 \nQ 47.125 39.59375 43.09375 43.984375 \nQ 39.0625 48.390625 32.421875 48.390625 \nQ 24.90625 48.390625 20.390625 44.140625 \nQ 15.875 39.890625 15.1875 32.171875 \nz\n\" id=\"DejaVuSans-1077\"/>\n     <path d=\"M 9.078125 54.6875 \nL 18.015625 54.6875 \nL 18.015625 29 \nL 43.359375 54.6875 \nL 54.390625 54.6875 \nL 33.5 33.546875 \nL 57.078125 0 \nL 47.015625 0 \nL 27.640625 27.59375 \nL 18.015625 17.828125 \nL 18.015625 0 \nL 9.078125 0 \nz\n\" id=\"DejaVuSans-1082\"/>\n     <path d=\"M 55.90625 54.6875 \nL 55.90625 0 \nL 46.96875 0 \nL 46.96875 43.890625 \nL 20.609375 0 \nL 9.078125 0 \nL 9.078125 54.6875 \nL 18.015625 54.6875 \nL 18.015625 10.890625 \nL 44.34375 54.6875 \nz\nM 17.21875 75.515625 \nL 22.984375 75.515625 \nQ 23.515625 71.859375 25.875 70.015625 \nQ 28.25 68.1875 32.5 68.1875 \nQ 36.703125 68.1875 39.046875 70 \nQ 41.390625 71.8125 42.015625 75.515625 \nL 47.78125 75.515625 \nQ 47.296875 68.53125 43.4375 65.015625 \nQ 39.578125 61.5 32.5 61.5 \nQ 25.421875 61.5 21.5625 65.015625 \nQ 17.703125 68.53125 17.21875 75.515625 \nz\n\" id=\"DejaVuSans-1081\"/>\n     <path id=\"DejaVuSans-32\"/>\n     <path d=\"M 56.296875 54.6875 \nL 56.296875 0 \nL 47.265625 0 \nL 47.265625 47.515625 \nL 18.109375 47.515625 \nL 18.109375 0 \nL 9.078125 0 \nL 9.078125 54.6875 \nz\n\" id=\"DejaVuSans-1087\"/>\n     <path d=\"M 18.109375 8.203125 \nL 18.109375 -20.796875 \nL 9.078125 -20.796875 \nL 9.078125 54.6875 \nL 18.109375 54.6875 \nL 18.109375 46.390625 \nQ 20.953125 51.265625 25.265625 53.625 \nQ 29.59375 56 35.59375 56 \nQ 45.5625 56 51.78125 48.09375 \nQ 58.015625 40.1875 58.015625 27.296875 \nQ 58.015625 14.40625 51.78125 6.484375 \nQ 45.5625 -1.421875 35.59375 -1.421875 \nQ 29.59375 -1.421875 25.265625 0.953125 \nQ 20.953125 3.328125 18.109375 8.203125 \nz\nM 48.6875 27.296875 \nQ 48.6875 37.203125 44.609375 42.84375 \nQ 40.53125 48.484375 33.40625 48.484375 \nQ 26.265625 48.484375 22.1875 42.84375 \nQ 18.109375 37.203125 18.109375 27.296875 \nQ 18.109375 17.390625 22.1875 11.75 \nQ 26.265625 6.109375 33.40625 6.109375 \nQ 40.53125 6.109375 44.609375 11.75 \nQ 48.6875 17.390625 48.6875 27.296875 \nz\n\" id=\"DejaVuSans-1088\"/>\n     <path d=\"M 9.078125 54.6875 \nL 22.21875 54.6875 \nL 37.75 18.0625 \nL 53.328125 54.6875 \nL 66.359375 54.6875 \nL 66.359375 0 \nL 57.328125 0 \nL 57.328125 46.09375 \nL 42.234375 10.5 \nL 33.25 10.5 \nL 18.109375 46.09375 \nL 18.109375 0 \nL 9.078125 0 \nz\n\" id=\"DejaVuSans-1084\"/>\n     <path d=\"M 17.921875 79.984375 \nL 31.6875 61.71875 \nL 24.21875 61.71875 \nL 8.296875 79.984375 \nz\n\" id=\"DejaVuSans-96\"/>\n     <path d=\"M 9.421875 75.984375 \nL 18.40625 75.984375 \nL 18.40625 0 \nL 9.421875 0 \nz\n\" id=\"DejaVuSans-108\"/>\n     <path d=\"M 30.609375 48.390625 \nQ 23.390625 48.390625 19.1875 42.75 \nQ 14.984375 37.109375 14.984375 27.296875 \nQ 14.984375 17.484375 19.15625 11.84375 \nQ 23.34375 6.203125 30.609375 6.203125 \nQ 37.796875 6.203125 41.984375 11.859375 \nQ 46.1875 17.53125 46.1875 27.296875 \nQ 46.1875 37.015625 41.984375 42.703125 \nQ 37.796875 48.390625 30.609375 48.390625 \nz\nM 30.609375 56 \nQ 42.328125 56 49.015625 48.375 \nQ 55.71875 40.765625 55.71875 27.296875 \nQ 55.71875 13.875 49.015625 6.21875 \nQ 42.328125 -1.421875 30.609375 -1.421875 \nQ 18.84375 -1.421875 12.171875 6.21875 \nQ 5.515625 13.875 5.515625 27.296875 \nQ 5.515625 40.765625 12.171875 48.375 \nQ 18.84375 56 30.609375 56 \nz\n\" id=\"DejaVuSans-111\"/>\n     <path d=\"M 54.890625 33.015625 \nL 54.890625 0 \nL 45.90625 0 \nL 45.90625 32.71875 \nQ 45.90625 40.484375 42.875 44.328125 \nQ 39.84375 48.1875 33.796875 48.1875 \nQ 26.515625 48.1875 22.3125 43.546875 \nQ 18.109375 38.921875 18.109375 30.90625 \nL 18.109375 0 \nL 9.078125 0 \nL 9.078125 54.6875 \nL 18.109375 54.6875 \nL 18.109375 46.1875 \nQ 21.34375 51.125 25.703125 53.5625 \nQ 30.078125 56 35.796875 56 \nQ 45.21875 56 50.046875 50.171875 \nQ 54.890625 44.34375 54.890625 33.015625 \nz\n\" id=\"DejaVuSans-110\"/>\n     <path d=\"M 45.40625 27.984375 \nQ 45.40625 37.75 41.375 43.109375 \nQ 37.359375 48.484375 30.078125 48.484375 \nQ 22.859375 48.484375 18.828125 43.109375 \nQ 14.796875 37.75 14.796875 27.984375 \nQ 14.796875 18.265625 18.828125 12.890625 \nQ 22.859375 7.515625 30.078125 7.515625 \nQ 37.359375 7.515625 41.375 12.890625 \nQ 45.40625 18.265625 45.40625 27.984375 \nz\nM 54.390625 6.78125 \nQ 54.390625 -7.171875 48.1875 -13.984375 \nQ 42 -20.796875 29.203125 -20.796875 \nQ 24.46875 -20.796875 20.265625 -20.09375 \nQ 16.0625 -19.390625 12.109375 -17.921875 \nL 12.109375 -9.1875 \nQ 16.0625 -11.328125 19.921875 -12.34375 \nQ 23.78125 -13.375 27.78125 -13.375 \nQ 36.625 -13.375 41.015625 -8.765625 \nQ 45.40625 -4.15625 45.40625 5.171875 \nL 45.40625 9.625 \nQ 42.625 4.78125 38.28125 2.390625 \nQ 33.9375 0 27.875 0 \nQ 17.828125 0 11.671875 7.65625 \nQ 5.515625 15.328125 5.515625 27.984375 \nQ 5.515625 40.671875 11.671875 48.328125 \nQ 17.828125 56 27.875 56 \nQ 33.9375 56 38.28125 53.609375 \nQ 42.625 51.21875 45.40625 46.390625 \nL 45.40625 54.6875 \nL 54.390625 54.6875 \nz\n\" id=\"DejaVuSans-103\"/>\n     <path d=\"M 18.3125 70.21875 \nL 18.3125 54.6875 \nL 36.8125 54.6875 \nL 36.8125 47.703125 \nL 18.3125 47.703125 \nL 18.3125 18.015625 \nQ 18.3125 11.328125 20.140625 9.421875 \nQ 21.96875 7.515625 27.59375 7.515625 \nL 36.8125 7.515625 \nL 36.8125 0 \nL 27.59375 0 \nQ 17.1875 0 13.234375 3.875 \nQ 9.28125 7.765625 9.28125 18.015625 \nL 9.28125 47.703125 \nL 2.6875 47.703125 \nL 2.6875 54.6875 \nL 9.28125 54.6875 \nL 9.28125 70.21875 \nz\n\" id=\"DejaVuSans-116\"/>\n     <path d=\"M 34.28125 27.484375 \nQ 23.390625 27.484375 19.1875 25 \nQ 14.984375 22.515625 14.984375 16.5 \nQ 14.984375 11.71875 18.140625 8.90625 \nQ 21.296875 6.109375 26.703125 6.109375 \nQ 34.1875 6.109375 38.703125 11.40625 \nQ 43.21875 16.703125 43.21875 25.484375 \nL 43.21875 27.484375 \nz\nM 52.203125 31.203125 \nL 52.203125 0 \nL 43.21875 0 \nL 43.21875 8.296875 \nQ 40.140625 3.328125 35.546875 0.953125 \nQ 30.953125 -1.421875 24.3125 -1.421875 \nQ 15.921875 -1.421875 10.953125 3.296875 \nQ 6 8.015625 6 15.921875 \nQ 6 25.140625 12.171875 29.828125 \nQ 18.359375 34.515625 30.609375 34.515625 \nL 43.21875 34.515625 \nL 43.21875 35.40625 \nQ 43.21875 41.609375 39.140625 45 \nQ 35.0625 48.390625 27.6875 48.390625 \nQ 23 48.390625 18.546875 47.265625 \nQ 14.109375 46.140625 10.015625 43.890625 \nL 10.015625 52.203125 \nQ 14.9375 54.109375 19.578125 55.046875 \nQ 24.21875 56 28.609375 56 \nQ 40.484375 56 46.34375 49.84375 \nQ 52.203125 43.703125 52.203125 31.203125 \nz\n\" id=\"DejaVuSans-97\"/>\n     <path d=\"M 9.421875 54.6875 \nL 18.40625 54.6875 \nL 18.40625 0 \nL 9.421875 0 \nz\nM 9.421875 75.984375 \nL 18.40625 75.984375 \nL 18.40625 64.59375 \nL 9.421875 64.59375 \nz\n\" id=\"DejaVuSans-105\"/>\n    </defs>\n    <g transform=\"translate(199.529125 18.71775)scale(0.144 -0.144)\">\n     <use xlink:href=\"#DejaVuSans-1050\"/>\n     <use x=\"70.996094\" xlink:href=\"#DejaVuSans-1083\"/>\n     <use x=\"134.912109\" xlink:href=\"#DejaVuSans-1072\"/>\n     <use x=\"196.191406\" xlink:href=\"#DejaVuSans-1089\"/>\n     <use x=\"251.171875\" xlink:href=\"#DejaVuSans-1089\"/>\n     <use x=\"306.152344\" xlink:href=\"#DejaVuSans-1080\"/>\n     <use x=\"371.142578\" xlink:href=\"#DejaVuSans-1095\"/>\n     <use x=\"430.224609\" xlink:href=\"#DejaVuSans-1077\"/>\n     <use x=\"491.748047\" xlink:href=\"#DejaVuSans-1089\"/>\n     <use x=\"546.728516\" xlink:href=\"#DejaVuSans-1082\"/>\n     <use x=\"607.128906\" xlink:href=\"#DejaVuSans-1080\"/>\n     <use x=\"672.119141\" xlink:href=\"#DejaVuSans-1081\"/>\n     <use x=\"737.109375\" xlink:href=\"#DejaVuSans-32\"/>\n     <use x=\"768.896484\" xlink:href=\"#DejaVuSans-1087\"/>\n     <use x=\"834.277344\" xlink:href=\"#DejaVuSans-1088\"/>\n     <use x=\"897.753906\" xlink:href=\"#DejaVuSans-1080\"/>\n     <use x=\"962.744141\" xlink:href=\"#DejaVuSans-1084\"/>\n     <use x=\"1038.183594\" xlink:href=\"#DejaVuSans-1077\"/>\n     <use x=\"1099.707031\" xlink:href=\"#DejaVuSans-1088\"/>\n     <use x=\"1163.183594\" xlink:href=\"#DejaVuSans-32\"/>\n     <use x=\"1194.970703\" xlink:href=\"#DejaVuSans-96\"/>\n     <use x=\"1244.970703\" xlink:href=\"#DejaVuSans-108\"/>\n     <use x=\"1272.753906\" xlink:href=\"#DejaVuSans-111\"/>\n     <use x=\"1333.935547\" xlink:href=\"#DejaVuSans-110\"/>\n     <use x=\"1397.314453\" xlink:href=\"#DejaVuSans-103\"/>\n     <use x=\"1460.791016\" xlink:href=\"#DejaVuSans-32\"/>\n     <use x=\"1492.578125\" xlink:href=\"#DejaVuSans-116\"/>\n     <use x=\"1531.787109\" xlink:href=\"#DejaVuSans-97\"/>\n     <use x=\"1593.066406\" xlink:href=\"#DejaVuSans-105\"/>\n     <use x=\"1620.849609\" xlink:href=\"#DejaVuSans-108\"/>\n     <use x=\"1648.632812\" xlink:href=\"#DejaVuSans-96\"/>\n    </g>\n   </g>\n  </g>\n </g>\n <defs>\n  <clipPath id=\"pd9ea5418cd\">\n   <rect height=\"217.44\" width=\"558\" x=\"42.83125\" y=\"24.71775\"/>\n  </clipPath>\n </defs>\n</svg>\n",
      "image/png": "[encoded data removed]"
     },
     "metadata": {}
    }
   ],
   "source": [
    "from scipy.stats import lognorm\n",
    "\n",
    "# сгенерируем себе выборку\n",
    "\n",
    "data = lognorm(s=1).rvs(1000)\n",
    "plt.hist(data, bins=100)\n",
    "plt.title(\"Классический пример `long tail`\")\n",
    "plt.show()"
   ]
  },
  {
   "cell_type": "code",
   "execution_count": 38,
   "metadata": {},
   "outputs": [],
   "source": [
    "log_data = np.log(data)"
   ]
  },
  {
   "cell_type": "code",
   "execution_count": 39,
   "metadata": {
    "button": false,
    "colab": {},
    "colab_type": "code",
    "id": "7gG3rCiogi2F",
    "new_sheet": false,
    "outputId": "5fd04e6e-ae82-489d-a551-cee474f07949",
    "run_control": {
     "read_only": false
    },
    "scrolled": true
   },
   "outputs": [
    {
     "output_type": "display_data",
     "data": {
      "text/plain": "<Figure size 720x288 with 1 Axes>",
      "image/svg+xml": "<?xml version=\"1.0\" encoding=\"utf-8\" standalone=\"no\"?>\n<!DOCTYPE svg PUBLIC \"-//W3C//DTD SVG 1.1//EN\"\n  \"http://www.w3.org/Graphics/SVG/1.1/DTD/svg11.dtd\">\n<!-- Created with matplotlib (https://matplotlib.org/) -->\n<svg height=\"270.298938pt\" version=\"1.1\" viewBox=\"0 0 608.03125 270.298938\" width=\"608.03125pt\" xmlns=\"http://www.w3.org/2000/svg\" xmlns:xlink=\"http://www.w3.org/1999/xlink\">\n <defs>\n  <style type=\"text/css\">\n*{stroke-linecap:butt;stroke-linejoin:round;}\n  </style>\n </defs>\n <g id=\"figure_1\">\n  <g id=\"patch_1\">\n   <path d=\"M 0 270.298938 \nL 608.03125 270.298938 \nL 608.03125 -0 \nL 0 -0 \nz\n\" style=\"fill:#ffffff;\"/>\n  </g>\n  <g id=\"axes_1\">\n   <g id=\"patch_2\">\n    <path d=\"M 42.83125 241.58175 \nL 600.83125 241.58175 \nL 600.83125 24.14175 \nL 42.83125 24.14175 \nz\n\" style=\"fill:#e5e5e5;\"/>\n   </g>\n   <g id=\"matplotlib.axis_1\">\n    <g id=\"xtick_1\">\n     <g id=\"line2d_1\">\n      <path clip-path=\"url(#p7105366c96)\" d=\"M 108.241974 241.58175 \nL 108.241974 24.14175 \n\" style=\"fill:none;stroke:#ffffff;stroke-linecap:square;stroke-width:0.8;\"/>\n     </g>\n     <g id=\"line2d_2\">\n      <defs>\n       <path d=\"M 0 0 \nL 0 3.5 \n\" id=\"mf0f6f1bea8\" style=\"stroke:#555555;stroke-width:0.8;\"/>\n      </defs>\n      <g>\n       <use style=\"fill:#555555;stroke:#555555;stroke-width:0.8;\" x=\"108.241974\" xlink:href=\"#mf0f6f1bea8\" y=\"241.58175\"/>\n      </g>\n     </g>\n     <g id=\"text_1\">\n      <!-- −3 -->\n      <defs>\n       <path d=\"M 10.59375 35.5 \nL 73.1875 35.5 \nL 73.1875 27.203125 \nL 10.59375 27.203125 \nz\n\" id=\"DejaVuSans-8722\"/>\n       <path d=\"M 40.578125 39.3125 \nQ 47.65625 37.796875 51.625 33 \nQ 55.609375 28.21875 55.609375 21.1875 \nQ 55.609375 10.40625 48.1875 4.484375 \nQ 40.765625 -1.421875 27.09375 -1.421875 \nQ 22.515625 -1.421875 17.65625 -0.515625 \nQ 12.796875 0.390625 7.625 2.203125 \nL 7.625 11.71875 \nQ 11.71875 9.328125 16.59375 8.109375 \nQ 21.484375 6.890625 26.8125 6.890625 \nQ 36.078125 6.890625 40.9375 10.546875 \nQ 45.796875 14.203125 45.796875 21.1875 \nQ 45.796875 27.640625 41.28125 31.265625 \nQ 36.765625 34.90625 28.71875 34.90625 \nL 20.21875 34.90625 \nL 20.21875 43.015625 \nL 29.109375 43.015625 \nQ 36.375 43.015625 40.234375 45.921875 \nQ 44.09375 48.828125 44.09375 54.296875 \nQ 44.09375 59.90625 40.109375 62.90625 \nQ 36.140625 65.921875 28.71875 65.921875 \nQ 24.65625 65.921875 20.015625 65.03125 \nQ 15.375 64.15625 9.8125 62.3125 \nL 9.8125 71.09375 \nQ 15.4375 72.65625 20.34375 73.4375 \nQ 25.25 74.21875 29.59375 74.21875 \nQ 40.828125 74.21875 47.359375 69.109375 \nQ 53.90625 64.015625 53.90625 55.328125 \nQ 53.90625 49.265625 50.4375 45.09375 \nQ 46.96875 40.921875 40.578125 39.3125 \nz\n\" id=\"DejaVuSans-51\"/>\n      </defs>\n      <g style=\"fill:#555555;\" transform=\"translate(97.185334 259.979406)scale(0.15 -0.15)\">\n       <use xlink:href=\"#DejaVuSans-8722\"/>\n       <use x=\"83.789062\" xlink:href=\"#DejaVuSans-51\"/>\n      </g>\n     </g>\n    </g>\n    <g id=\"xtick_2\">\n     <g id=\"line2d_3\">\n      <path clip-path=\"url(#p7105366c96)\" d=\"M 182.083473 241.58175 \nL 182.083473 24.14175 \n\" style=\"fill:none;stroke:#ffffff;stroke-linecap:square;stroke-width:0.8;\"/>\n     </g>\n     <g id=\"line2d_4\">\n      <g>\n       <use style=\"fill:#555555;stroke:#555555;stroke-width:0.8;\" x=\"182.083473\" xlink:href=\"#mf0f6f1bea8\" y=\"241.58175\"/>\n      </g>\n     </g>\n     <g id=\"text_2\">\n      <!-- −2 -->\n      <defs>\n       <path d=\"M 19.1875 8.296875 \nL 53.609375 8.296875 \nL 53.609375 0 \nL 7.328125 0 \nL 7.328125 8.296875 \nQ 12.9375 14.109375 22.625 23.890625 \nQ 32.328125 33.6875 34.8125 36.53125 \nQ 39.546875 41.84375 41.421875 45.53125 \nQ 43.3125 49.21875 43.3125 52.78125 \nQ 43.3125 58.59375 39.234375 62.25 \nQ 35.15625 65.921875 28.609375 65.921875 \nQ 23.96875 65.921875 18.8125 64.3125 \nQ 13.671875 62.703125 7.8125 59.421875 \nL 7.8125 69.390625 \nQ 13.765625 71.78125 18.9375 73 \nQ 24.125 74.21875 28.421875 74.21875 \nQ 39.75 74.21875 46.484375 68.546875 \nQ 53.21875 62.890625 53.21875 53.421875 \nQ 53.21875 48.921875 51.53125 44.890625 \nQ 49.859375 40.875 45.40625 35.40625 \nQ 44.1875 33.984375 37.640625 27.21875 \nQ 31.109375 20.453125 19.1875 8.296875 \nz\n\" id=\"DejaVuSans-50\"/>\n      </defs>\n      <g style=\"fill:#555555;\" transform=\"translate(171.026832 259.979406)scale(0.15 -0.15)\">\n       <use xlink:href=\"#DejaVuSans-8722\"/>\n       <use x=\"83.789062\" xlink:href=\"#DejaVuSans-50\"/>\n      </g>\n     </g>\n    </g>\n    <g id=\"xtick_3\">\n     <g id=\"line2d_5\">\n      <path clip-path=\"url(#p7105366c96)\" d=\"M 255.924972 241.58175 \nL 255.924972 24.14175 \n\" style=\"fill:none;stroke:#ffffff;stroke-linecap:square;stroke-width:0.8;\"/>\n     </g>\n     <g id=\"line2d_6\">\n      <g>\n       <use style=\"fill:#555555;stroke:#555555;stroke-width:0.8;\" x=\"255.924972\" xlink:href=\"#mf0f6f1bea8\" y=\"241.58175\"/>\n      </g>\n     </g>\n     <g id=\"text_3\">\n      <!-- −1 -->\n      <defs>\n       <path d=\"M 12.40625 8.296875 \nL 28.515625 8.296875 \nL 28.515625 63.921875 \nL 10.984375 60.40625 \nL 10.984375 69.390625 \nL 28.421875 72.90625 \nL 38.28125 72.90625 \nL 38.28125 8.296875 \nL 54.390625 8.296875 \nL 54.390625 0 \nL 12.40625 0 \nz\n\" id=\"DejaVuSans-49\"/>\n      </defs>\n      <g style=\"fill:#555555;\" transform=\"translate(244.868331 259.979406)scale(0.15 -0.15)\">\n       <use xlink:href=\"#DejaVuSans-8722\"/>\n       <use x=\"83.789062\" xlink:href=\"#DejaVuSans-49\"/>\n      </g>\n     </g>\n    </g>\n    <g id=\"xtick_4\">\n     <g id=\"line2d_7\">\n      <path clip-path=\"url(#p7105366c96)\" d=\"M 329.76647 241.58175 \nL 329.76647 24.14175 \n\" style=\"fill:none;stroke:#ffffff;stroke-linecap:square;stroke-width:0.8;\"/>\n     </g>\n     <g id=\"line2d_8\">\n      <g>\n       <use style=\"fill:#555555;stroke:#555555;stroke-width:0.8;\" x=\"329.76647\" xlink:href=\"#mf0f6f1bea8\" y=\"241.58175\"/>\n      </g>\n     </g>\n     <g id=\"text_4\">\n      <!-- 0 -->\n      <defs>\n       <path d=\"M 31.78125 66.40625 \nQ 24.171875 66.40625 20.328125 58.90625 \nQ 16.5 51.421875 16.5 36.375 \nQ 16.5 21.390625 20.328125 13.890625 \nQ 24.171875 6.390625 31.78125 6.390625 \nQ 39.453125 6.390625 43.28125 13.890625 \nQ 47.125 21.390625 47.125 36.375 \nQ 47.125 51.421875 43.28125 58.90625 \nQ 39.453125 66.40625 31.78125 66.40625 \nz\nM 31.78125 74.21875 \nQ 44.046875 74.21875 50.515625 64.515625 \nQ 56.984375 54.828125 56.984375 36.375 \nQ 56.984375 17.96875 50.515625 8.265625 \nQ 44.046875 -1.421875 31.78125 -1.421875 \nQ 19.53125 -1.421875 13.0625 8.265625 \nQ 6.59375 17.96875 6.59375 36.375 \nQ 6.59375 54.828125 13.0625 64.515625 \nQ 19.53125 74.21875 31.78125 74.21875 \nz\n\" id=\"DejaVuSans-48\"/>\n      </defs>\n      <g style=\"fill:#555555;\" transform=\"translate(324.994595 259.979406)scale(0.15 -0.15)\">\n       <use xlink:href=\"#DejaVuSans-48\"/>\n      </g>\n     </g>\n    </g>\n    <g id=\"xtick_5\">\n     <g id=\"line2d_9\">\n      <path clip-path=\"url(#p7105366c96)\" d=\"M 403.607969 241.58175 \nL 403.607969 24.14175 \n\" style=\"fill:none;stroke:#ffffff;stroke-linecap:square;stroke-width:0.8;\"/>\n     </g>\n     <g id=\"line2d_10\">\n      <g>\n       <use style=\"fill:#555555;stroke:#555555;stroke-width:0.8;\" x=\"403.607969\" xlink:href=\"#mf0f6f1bea8\" y=\"241.58175\"/>\n      </g>\n     </g>\n     <g id=\"text_5\">\n      <!-- 1 -->\n      <g style=\"fill:#555555;\" transform=\"translate(398.836094 259.979406)scale(0.15 -0.15)\">\n       <use xlink:href=\"#DejaVuSans-49\"/>\n      </g>\n     </g>\n    </g>\n    <g id=\"xtick_6\">\n     <g id=\"line2d_11\">\n      <path clip-path=\"url(#p7105366c96)\" d=\"M 477.449468 241.58175 \nL 477.449468 24.14175 \n\" style=\"fill:none;stroke:#ffffff;stroke-linecap:square;stroke-width:0.8;\"/>\n     </g>\n     <g id=\"line2d_12\">\n      <g>\n       <use style=\"fill:#555555;stroke:#555555;stroke-width:0.8;\" x=\"477.449468\" xlink:href=\"#mf0f6f1bea8\" y=\"241.58175\"/>\n      </g>\n     </g>\n     <g id=\"text_6\">\n      <!-- 2 -->\n      <g style=\"fill:#555555;\" transform=\"translate(472.677593 259.979406)scale(0.15 -0.15)\">\n       <use xlink:href=\"#DejaVuSans-50\"/>\n      </g>\n     </g>\n    </g>\n    <g id=\"xtick_7\">\n     <g id=\"line2d_13\">\n      <path clip-path=\"url(#p7105366c96)\" d=\"M 551.290967 241.58175 \nL 551.290967 24.14175 \n\" style=\"fill:none;stroke:#ffffff;stroke-linecap:square;stroke-width:0.8;\"/>\n     </g>\n     <g id=\"line2d_14\">\n      <g>\n       <use style=\"fill:#555555;stroke:#555555;stroke-width:0.8;\" x=\"551.290967\" xlink:href=\"#mf0f6f1bea8\" y=\"241.58175\"/>\n      </g>\n     </g>\n     <g id=\"text_7\">\n      <!-- 3 -->\n      <g style=\"fill:#555555;\" transform=\"translate(546.519092 259.979406)scale(0.15 -0.15)\">\n       <use xlink:href=\"#DejaVuSans-51\"/>\n      </g>\n     </g>\n    </g>\n   </g>\n   <g id=\"matplotlib.axis_2\">\n    <g id=\"ytick_1\">\n     <g id=\"line2d_15\">\n      <path clip-path=\"url(#p7105366c96)\" d=\"M 42.83125 241.58175 \nL 600.83125 241.58175 \n\" style=\"fill:none;stroke:#ffffff;stroke-linecap:square;stroke-width:0.8;\"/>\n     </g>\n     <g id=\"line2d_16\">\n      <defs>\n       <path d=\"M 0 0 \nL -3.5 0 \n\" id=\"m17931f82a6\" style=\"stroke:#555555;stroke-width:0.8;\"/>\n      </defs>\n      <g>\n       <use style=\"fill:#555555;stroke:#555555;stroke-width:0.8;\" x=\"42.83125\" xlink:href=\"#m17931f82a6\" y=\"241.58175\"/>\n      </g>\n     </g>\n     <g id=\"text_8\">\n      <!-- 0 -->\n      <g style=\"fill:#555555;\" transform=\"translate(26.2875 247.280578)scale(0.15 -0.15)\">\n       <use xlink:href=\"#DejaVuSans-48\"/>\n      </g>\n     </g>\n    </g>\n    <g id=\"ytick_2\">\n     <g id=\"line2d_17\">\n      <path clip-path=\"url(#p7105366c96)\" d=\"M 42.83125 197.892781 \nL 600.83125 197.892781 \n\" style=\"fill:none;stroke:#ffffff;stroke-linecap:square;stroke-width:0.8;\"/>\n     </g>\n     <g id=\"line2d_18\">\n      <g>\n       <use style=\"fill:#555555;stroke:#555555;stroke-width:0.8;\" x=\"42.83125\" xlink:href=\"#m17931f82a6\" y=\"197.892781\"/>\n      </g>\n     </g>\n     <g id=\"text_9\">\n      <!-- 50 -->\n      <defs>\n       <path d=\"M 10.796875 72.90625 \nL 49.515625 72.90625 \nL 49.515625 64.59375 \nL 19.828125 64.59375 \nL 19.828125 46.734375 \nQ 21.96875 47.46875 24.109375 47.828125 \nQ 26.265625 48.1875 28.421875 48.1875 \nQ 40.625 48.1875 47.75 41.5 \nQ 54.890625 34.8125 54.890625 23.390625 \nQ 54.890625 11.625 47.5625 5.09375 \nQ 40.234375 -1.421875 26.90625 -1.421875 \nQ 22.3125 -1.421875 17.546875 -0.640625 \nQ 12.796875 0.140625 7.71875 1.703125 \nL 7.71875 11.625 \nQ 12.109375 9.234375 16.796875 8.0625 \nQ 21.484375 6.890625 26.703125 6.890625 \nQ 35.15625 6.890625 40.078125 11.328125 \nQ 45.015625 15.765625 45.015625 23.390625 \nQ 45.015625 31 40.078125 35.4375 \nQ 35.15625 39.890625 26.703125 39.890625 \nQ 22.75 39.890625 18.8125 39.015625 \nQ 14.890625 38.140625 10.796875 36.28125 \nz\n\" id=\"DejaVuSans-53\"/>\n      </defs>\n      <g style=\"fill:#555555;\" transform=\"translate(16.74375 203.591609)scale(0.15 -0.15)\">\n       <use xlink:href=\"#DejaVuSans-53\"/>\n       <use x=\"63.623047\" xlink:href=\"#DejaVuSans-48\"/>\n      </g>\n     </g>\n    </g>\n    <g id=\"ytick_3\">\n     <g id=\"line2d_19\">\n      <path clip-path=\"url(#p7105366c96)\" d=\"M 42.83125 154.203811 \nL 600.83125 154.203811 \n\" style=\"fill:none;stroke:#ffffff;stroke-linecap:square;stroke-width:0.8;\"/>\n     </g>\n     <g id=\"line2d_20\">\n      <g>\n       <use style=\"fill:#555555;stroke:#555555;stroke-width:0.8;\" x=\"42.83125\" xlink:href=\"#m17931f82a6\" y=\"154.203811\"/>\n      </g>\n     </g>\n     <g id=\"text_10\">\n      <!-- 100 -->\n      <g style=\"fill:#555555;\" transform=\"translate(7.2 159.90264)scale(0.15 -0.15)\">\n       <use xlink:href=\"#DejaVuSans-49\"/>\n       <use x=\"63.623047\" xlink:href=\"#DejaVuSans-48\"/>\n       <use x=\"127.246094\" xlink:href=\"#DejaVuSans-48\"/>\n      </g>\n     </g>\n    </g>\n    <g id=\"ytick_4\">\n     <g id=\"line2d_21\">\n      <path clip-path=\"url(#p7105366c96)\" d=\"M 42.83125 110.514842 \nL 600.83125 110.514842 \n\" style=\"fill:none;stroke:#ffffff;stroke-linecap:square;stroke-width:0.8;\"/>\n     </g>\n     <g id=\"line2d_22\">\n      <g>\n       <use style=\"fill:#555555;stroke:#555555;stroke-width:0.8;\" x=\"42.83125\" xlink:href=\"#m17931f82a6\" y=\"110.514842\"/>\n      </g>\n     </g>\n     <g id=\"text_11\">\n      <!-- 150 -->\n      <g style=\"fill:#555555;\" transform=\"translate(7.2 116.21367)scale(0.15 -0.15)\">\n       <use xlink:href=\"#DejaVuSans-49\"/>\n       <use x=\"63.623047\" xlink:href=\"#DejaVuSans-53\"/>\n       <use x=\"127.246094\" xlink:href=\"#DejaVuSans-48\"/>\n      </g>\n     </g>\n    </g>\n    <g id=\"ytick_5\">\n     <g id=\"line2d_23\">\n      <path clip-path=\"url(#p7105366c96)\" d=\"M 42.83125 66.825873 \nL 600.83125 66.825873 \n\" style=\"fill:none;stroke:#ffffff;stroke-linecap:square;stroke-width:0.8;\"/>\n     </g>\n     <g id=\"line2d_24\">\n      <g>\n       <use style=\"fill:#555555;stroke:#555555;stroke-width:0.8;\" x=\"42.83125\" xlink:href=\"#m17931f82a6\" y=\"66.825873\"/>\n      </g>\n     </g>\n     <g id=\"text_12\">\n      <!-- 200 -->\n      <g style=\"fill:#555555;\" transform=\"translate(7.2 72.524701)scale(0.15 -0.15)\">\n       <use xlink:href=\"#DejaVuSans-50\"/>\n       <use x=\"63.623047\" xlink:href=\"#DejaVuSans-48\"/>\n       <use x=\"127.246094\" xlink:href=\"#DejaVuSans-48\"/>\n      </g>\n     </g>\n    </g>\n   </g>\n   <g id=\"patch_3\">\n    <path clip-path=\"url(#p7105366c96)\" d=\"M 68.194886 241.58175 \nL 118.922159 241.58175 \nL 118.922159 239.834191 \nL 68.194886 239.834191 \nz\n\" style=\"fill:#e24a33;\"/>\n   </g>\n   <g id=\"patch_4\">\n    <path clip-path=\"url(#p7105366c96)\" d=\"M 118.922159 241.58175 \nL 169.649432 241.58175 \nL 169.649432 230.222618 \nL 118.922159 230.222618 \nz\n\" style=\"fill:#e24a33;\"/>\n   </g>\n   <g id=\"patch_5\">\n    <path clip-path=\"url(#p7105366c96)\" d=\"M 169.649432 241.58175 \nL 220.376705 241.58175 \nL 220.376705 182.164752 \nL 169.649432 182.164752 \nz\n\" style=\"fill:#e24a33;\"/>\n   </g>\n   <g id=\"patch_6\">\n    <path clip-path=\"url(#p7105366c96)\" d=\"M 220.376705 241.58175 \nL 271.103977 241.58175 \nL 271.103977 116.631298 \nL 220.376705 116.631298 \nz\n\" style=\"fill:#e24a33;\"/>\n   </g>\n   <g id=\"patch_7\">\n    <path clip-path=\"url(#p7105366c96)\" d=\"M 271.103977 241.58175 \nL 321.83125 241.58175 \nL 321.83125 34.496036 \nL 271.103977 34.496036 \nz\n\" style=\"fill:#e24a33;\"/>\n   </g>\n   <g id=\"patch_8\">\n    <path clip-path=\"url(#p7105366c96)\" d=\"M 321.83125 241.58175 \nL 372.558523 241.58175 \nL 372.558523 34.496036 \nL 321.83125 34.496036 \nz\n\" style=\"fill:#e24a33;\"/>\n   </g>\n   <g id=\"patch_9\">\n    <path clip-path=\"url(#p7105366c96)\" d=\"M 372.558523 241.58175 \nL 423.285795 241.58175 \nL 423.285795 82.553902 \nL 372.558523 82.553902 \nz\n\" style=\"fill:#e24a33;\"/>\n   </g>\n   <g id=\"patch_10\">\n    <path clip-path=\"url(#p7105366c96)\" d=\"M 423.285795 241.58175 \nL 474.013068 241.58175 \nL 474.013068 168.184282 \nL 423.285795 168.184282 \nz\n\" style=\"fill:#e24a33;\"/>\n   </g>\n   <g id=\"patch_11\">\n    <path clip-path=\"url(#p7105366c96)\" d=\"M 474.013068 241.58175 \nL 524.740341 241.58175 \nL 524.740341 217.989707 \nL 474.013068 217.989707 \nz\n\" style=\"fill:#e24a33;\"/>\n   </g>\n   <g id=\"patch_12\">\n    <path clip-path=\"url(#p7105366c96)\" d=\"M 524.740341 241.58175 \nL 575.467614 241.58175 \nL 575.467614 235.465294 \nL 524.740341 235.465294 \nz\n\" style=\"fill:#e24a33;\"/>\n   </g>\n   <g id=\"patch_13\">\n    <path d=\"M 42.83125 241.58175 \nL 42.83125 24.14175 \n\" style=\"fill:none;stroke:#ffffff;stroke-linecap:square;stroke-linejoin:miter;\"/>\n   </g>\n   <g id=\"patch_14\">\n    <path d=\"M 600.83125 241.58175 \nL 600.83125 24.14175 \n\" style=\"fill:none;stroke:#ffffff;stroke-linecap:square;stroke-linejoin:miter;\"/>\n   </g>\n   <g id=\"patch_15\">\n    <path d=\"M 42.83125 241.58175 \nL 600.83125 241.58175 \n\" style=\"fill:none;stroke:#ffffff;stroke-linecap:square;stroke-linejoin:miter;\"/>\n   </g>\n   <g id=\"patch_16\">\n    <path d=\"M 42.83125 24.14175 \nL 600.83125 24.14175 \n\" style=\"fill:none;stroke:#ffffff;stroke-linecap:square;stroke-linejoin:miter;\"/>\n   </g>\n   <g id=\"text_13\">\n    <!-- Log(data) -->\n    <defs>\n     <path d=\"M 9.8125 72.90625 \nL 19.671875 72.90625 \nL 19.671875 8.296875 \nL 55.171875 8.296875 \nL 55.171875 0 \nL 9.8125 0 \nz\n\" id=\"DejaVuSans-76\"/>\n     <path d=\"M 30.609375 48.390625 \nQ 23.390625 48.390625 19.1875 42.75 \nQ 14.984375 37.109375 14.984375 27.296875 \nQ 14.984375 17.484375 19.15625 11.84375 \nQ 23.34375 6.203125 30.609375 6.203125 \nQ 37.796875 6.203125 41.984375 11.859375 \nQ 46.1875 17.53125 46.1875 27.296875 \nQ 46.1875 37.015625 41.984375 42.703125 \nQ 37.796875 48.390625 30.609375 48.390625 \nz\nM 30.609375 56 \nQ 42.328125 56 49.015625 48.375 \nQ 55.71875 40.765625 55.71875 27.296875 \nQ 55.71875 13.875 49.015625 6.21875 \nQ 42.328125 -1.421875 30.609375 -1.421875 \nQ 18.84375 -1.421875 12.171875 6.21875 \nQ 5.515625 13.875 5.515625 27.296875 \nQ 5.515625 40.765625 12.171875 48.375 \nQ 18.84375 56 30.609375 56 \nz\n\" id=\"DejaVuSans-111\"/>\n     <path d=\"M 45.40625 27.984375 \nQ 45.40625 37.75 41.375 43.109375 \nQ 37.359375 48.484375 30.078125 48.484375 \nQ 22.859375 48.484375 18.828125 43.109375 \nQ 14.796875 37.75 14.796875 27.984375 \nQ 14.796875 18.265625 18.828125 12.890625 \nQ 22.859375 7.515625 30.078125 7.515625 \nQ 37.359375 7.515625 41.375 12.890625 \nQ 45.40625 18.265625 45.40625 27.984375 \nz\nM 54.390625 6.78125 \nQ 54.390625 -7.171875 48.1875 -13.984375 \nQ 42 -20.796875 29.203125 -20.796875 \nQ 24.46875 -20.796875 20.265625 -20.09375 \nQ 16.0625 -19.390625 12.109375 -17.921875 \nL 12.109375 -9.1875 \nQ 16.0625 -11.328125 19.921875 -12.34375 \nQ 23.78125 -13.375 27.78125 -13.375 \nQ 36.625 -13.375 41.015625 -8.765625 \nQ 45.40625 -4.15625 45.40625 5.171875 \nL 45.40625 9.625 \nQ 42.625 4.78125 38.28125 2.390625 \nQ 33.9375 0 27.875 0 \nQ 17.828125 0 11.671875 7.65625 \nQ 5.515625 15.328125 5.515625 27.984375 \nQ 5.515625 40.671875 11.671875 48.328125 \nQ 17.828125 56 27.875 56 \nQ 33.9375 56 38.28125 53.609375 \nQ 42.625 51.21875 45.40625 46.390625 \nL 45.40625 54.6875 \nL 54.390625 54.6875 \nz\n\" id=\"DejaVuSans-103\"/>\n     <path d=\"M 31 75.875 \nQ 24.46875 64.65625 21.28125 53.65625 \nQ 18.109375 42.671875 18.109375 31.390625 \nQ 18.109375 20.125 21.3125 9.0625 \nQ 24.515625 -2 31 -13.1875 \nL 23.1875 -13.1875 \nQ 15.875 -1.703125 12.234375 9.375 \nQ 8.59375 20.453125 8.59375 31.390625 \nQ 8.59375 42.28125 12.203125 53.3125 \nQ 15.828125 64.359375 23.1875 75.875 \nz\n\" id=\"DejaVuSans-40\"/>\n     <path d=\"M 45.40625 46.390625 \nL 45.40625 75.984375 \nL 54.390625 75.984375 \nL 54.390625 0 \nL 45.40625 0 \nL 45.40625 8.203125 \nQ 42.578125 3.328125 38.25 0.953125 \nQ 33.9375 -1.421875 27.875 -1.421875 \nQ 17.96875 -1.421875 11.734375 6.484375 \nQ 5.515625 14.40625 5.515625 27.296875 \nQ 5.515625 40.1875 11.734375 48.09375 \nQ 17.96875 56 27.875 56 \nQ 33.9375 56 38.25 53.625 \nQ 42.578125 51.265625 45.40625 46.390625 \nz\nM 14.796875 27.296875 \nQ 14.796875 17.390625 18.875 11.75 \nQ 22.953125 6.109375 30.078125 6.109375 \nQ 37.203125 6.109375 41.296875 11.75 \nQ 45.40625 17.390625 45.40625 27.296875 \nQ 45.40625 37.203125 41.296875 42.84375 \nQ 37.203125 48.484375 30.078125 48.484375 \nQ 22.953125 48.484375 18.875 42.84375 \nQ 14.796875 37.203125 14.796875 27.296875 \nz\n\" id=\"DejaVuSans-100\"/>\n     <path d=\"M 34.28125 27.484375 \nQ 23.390625 27.484375 19.1875 25 \nQ 14.984375 22.515625 14.984375 16.5 \nQ 14.984375 11.71875 18.140625 8.90625 \nQ 21.296875 6.109375 26.703125 6.109375 \nQ 34.1875 6.109375 38.703125 11.40625 \nQ 43.21875 16.703125 43.21875 25.484375 \nL 43.21875 27.484375 \nz\nM 52.203125 31.203125 \nL 52.203125 0 \nL 43.21875 0 \nL 43.21875 8.296875 \nQ 40.140625 3.328125 35.546875 0.953125 \nQ 30.953125 -1.421875 24.3125 -1.421875 \nQ 15.921875 -1.421875 10.953125 3.296875 \nQ 6 8.015625 6 15.921875 \nQ 6 25.140625 12.171875 29.828125 \nQ 18.359375 34.515625 30.609375 34.515625 \nL 43.21875 34.515625 \nL 43.21875 35.40625 \nQ 43.21875 41.609375 39.140625 45 \nQ 35.0625 48.390625 27.6875 48.390625 \nQ 23 48.390625 18.546875 47.265625 \nQ 14.109375 46.140625 10.015625 43.890625 \nL 10.015625 52.203125 \nQ 14.9375 54.109375 19.578125 55.046875 \nQ 24.21875 56 28.609375 56 \nQ 40.484375 56 46.34375 49.84375 \nQ 52.203125 43.703125 52.203125 31.203125 \nz\n\" id=\"DejaVuSans-97\"/>\n     <path d=\"M 18.3125 70.21875 \nL 18.3125 54.6875 \nL 36.8125 54.6875 \nL 36.8125 47.703125 \nL 18.3125 47.703125 \nL 18.3125 18.015625 \nQ 18.3125 11.328125 20.140625 9.421875 \nQ 21.96875 7.515625 27.59375 7.515625 \nL 36.8125 7.515625 \nL 36.8125 0 \nL 27.59375 0 \nQ 17.1875 0 13.234375 3.875 \nQ 9.28125 7.765625 9.28125 18.015625 \nL 9.28125 47.703125 \nL 2.6875 47.703125 \nL 2.6875 54.6875 \nL 9.28125 54.6875 \nL 9.28125 70.21875 \nz\n\" id=\"DejaVuSans-116\"/>\n     <path d=\"M 8.015625 75.875 \nL 15.828125 75.875 \nQ 23.140625 64.359375 26.78125 53.3125 \nQ 30.421875 42.28125 30.421875 31.390625 \nQ 30.421875 20.453125 26.78125 9.375 \nQ 23.140625 -1.703125 15.828125 -13.1875 \nL 8.015625 -13.1875 \nQ 14.5 -2 17.703125 9.0625 \nQ 20.90625 20.125 20.90625 31.390625 \nQ 20.90625 42.671875 17.703125 53.65625 \nQ 14.5 64.65625 8.015625 75.875 \nz\n\" id=\"DejaVuSans-41\"/>\n    </defs>\n    <g transform=\"translate(287.132875 18.14175)scale(0.144 -0.144)\">\n     <use xlink:href=\"#DejaVuSans-76\"/>\n     <use x=\"53.962891\" xlink:href=\"#DejaVuSans-111\"/>\n     <use x=\"115.144531\" xlink:href=\"#DejaVuSans-103\"/>\n     <use x=\"178.621094\" xlink:href=\"#DejaVuSans-40\"/>\n     <use x=\"217.634766\" xlink:href=\"#DejaVuSans-100\"/>\n     <use x=\"281.111328\" xlink:href=\"#DejaVuSans-97\"/>\n     <use x=\"342.390625\" xlink:href=\"#DejaVuSans-116\"/>\n     <use x=\"381.599609\" xlink:href=\"#DejaVuSans-97\"/>\n     <use x=\"442.878906\" xlink:href=\"#DejaVuSans-41\"/>\n    </g>\n   </g>\n  </g>\n </g>\n <defs>\n  <clipPath id=\"p7105366c96\">\n   <rect height=\"217.44\" width=\"558\" x=\"42.83125\" y=\"24.14175\"/>\n  </clipPath>\n </defs>\n</svg>\n",
      "image/png": "[encoded data removed]"
     },
     "metadata": {}
    }
   ],
   "source": [
    "# А вот так выглядят данные после логарифмирования\n",
    "\n",
    "plt.hist(log_data)\n",
    "plt.title(\"Log(data)\")\n",
    "plt.show()"
   ]
  },
  {
   "cell_type": "markdown",
   "metadata": {
    "button": false,
    "colab_type": "text",
    "id": "K2TwATTCgi2H",
    "new_sheet": false,
    "run_control": {
     "read_only": false
    }
   },
   "source": [
    "---\n",
    "\n",
    "# Инжинирим признаки\n",
    "\n",
    "\n",
    "Как помочь нашей модели найти полезные зависимости в данных?\n",
    "\n",
    "Можно условно поделить генерацию признаков на **две части**:\n",
    " 1. Создание признаков **на основе знаний** и житейского опыта\n",
    " 2. Создание различных **взаимодействий** признаков\n",
    " "
   ]
  },
  {
   "cell_type": "markdown",
   "metadata": {
    "button": false,
    "colab_type": "text",
    "id": "mC-F-LOSgi2I",
    "new_sheet": false,
    "run_control": {
     "read_only": false
    }
   },
   "source": [
    "### Полиномиальные признаки"
   ]
  },
  {
   "cell_type": "markdown",
   "metadata": {
    "button": false,
    "colab_type": "text",
    "id": "OiiwO8eXgi2I",
    "new_sheet": false,
    "run_control": {
     "read_only": false
    }
   },
   "source": [
    "Почему готовить новые признаки это хорошо?\n",
    "\n",
    "**XOR проблема**\n",
    "\n",
    "XOR – это \"исключающее ИЛИ\", булева функция со следующей таблицей истинности:\n",
    "\n"
   ]
  },
  {
   "cell_type": "markdown",
   "metadata": {},
   "source": [
    "<img src=\"https://present5.com/presentation/248311883_358936180/image-23.jpg\" width=400px>"
   ]
  },
  {
   "cell_type": "code",
   "execution_count": 40,
   "metadata": {
    "button": false,
    "colab": {},
    "colab_type": "code",
    "id": "MGEjykIQgi2J",
    "new_sheet": false,
    "outputId": "fd622cbe-08f8-43c5-bd16-f4beff9aa5ff",
    "run_control": {
     "read_only": false
    }
   },
   "outputs": [
    {
     "output_type": "display_data",
     "data": {
      "text/plain": "<Figure size 720x288 with 1 Axes>",
      "image/svg+xml": "<?xml version=\"1.0\" encoding=\"utf-8\" standalone=\"no\"?>\n<!DOCTYPE svg PUBLIC \"-//W3C//DTD SVG 1.1//EN\"\n  \"http://www.w3.org/Graphics/SVG/1.1/DTD/svg11.dtd\">\n<!-- Created with matplotlib (https://matplotlib.org/) -->\n<svg height=\"253.357187pt\" version=\"1.1\" viewBox=\"0 0 601.513281 253.357187\" width=\"601.513281pt\" xmlns=\"http://www.w3.org/2000/svg\" xmlns:xlink=\"http://www.w3.org/1999/xlink\">\n <defs>\n  <style type=\"text/css\">\n*{stroke-linecap:butt;stroke-linejoin:round;}\n  </style>\n </defs>\n <g id=\"figure_1\">\n  <g id=\"patch_1\">\n   <path d=\"M 0 253.357187 \nL 601.513281 253.357187 \nL 601.513281 0 \nL 0 0 \nz\n\" style=\"fill:#ffffff;\"/>\n  </g>\n  <g id=\"axes_1\">\n   <g id=\"patch_2\">\n    <path d=\"M 36.313281 224.64 \nL 594.313281 224.64 \nL 594.313281 7.2 \nL 36.313281 7.2 \nz\n\" style=\"fill:#e5e5e5;\"/>\n   </g>\n   <g id=\"matplotlib.axis_1\">\n    <g id=\"xtick_1\">\n     <g id=\"line2d_1\">\n      <path clip-path=\"url(#pe690e59766)\" d=\"M 127.991689 224.64 \nL 127.991689 7.2 \n\" style=\"fill:none;stroke:#ffffff;stroke-linecap:square;stroke-width:0.8;\"/>\n     </g>\n     <g id=\"line2d_2\">\n      <defs>\n       <path d=\"M 0 0 \nL 0 3.5 \n\" id=\"m2dc8bd30cb\" style=\"stroke:#555555;stroke-width:0.8;\"/>\n      </defs>\n      <g>\n       <use style=\"fill:#555555;stroke:#555555;stroke-width:0.8;\" x=\"127.991689\" xlink:href=\"#m2dc8bd30cb\" y=\"224.64\"/>\n      </g>\n     </g>\n     <g id=\"text_1\">\n      <!-- −2 -->\n      <defs>\n       <path d=\"M 10.59375 35.5 \nL 73.1875 35.5 \nL 73.1875 27.203125 \nL 10.59375 27.203125 \nz\n\" id=\"DejaVuSans-8722\"/>\n       <path d=\"M 19.1875 8.296875 \nL 53.609375 8.296875 \nL 53.609375 0 \nL 7.328125 0 \nL 7.328125 8.296875 \nQ 12.9375 14.109375 22.625 23.890625 \nQ 32.328125 33.6875 34.8125 36.53125 \nQ 39.546875 41.84375 41.421875 45.53125 \nQ 43.3125 49.21875 43.3125 52.78125 \nQ 43.3125 58.59375 39.234375 62.25 \nQ 35.15625 65.921875 28.609375 65.921875 \nQ 23.96875 65.921875 18.8125 64.3125 \nQ 13.671875 62.703125 7.8125 59.421875 \nL 7.8125 69.390625 \nQ 13.765625 71.78125 18.9375 73 \nQ 24.125 74.21875 28.421875 74.21875 \nQ 39.75 74.21875 46.484375 68.546875 \nQ 53.21875 62.890625 53.21875 53.421875 \nQ 53.21875 48.921875 51.53125 44.890625 \nQ 49.859375 40.875 45.40625 35.40625 \nQ 44.1875 33.984375 37.640625 27.21875 \nQ 31.109375 20.453125 19.1875 8.296875 \nz\n\" id=\"DejaVuSans-50\"/>\n      </defs>\n      <g style=\"fill:#555555;\" transform=\"translate(116.935048 243.037656)scale(0.15 -0.15)\">\n       <use xlink:href=\"#DejaVuSans-8722\"/>\n       <use x=\"83.789062\" xlink:href=\"#DejaVuSans-50\"/>\n      </g>\n     </g>\n    </g>\n    <g id=\"xtick_2\">\n     <g id=\"line2d_3\">\n      <path clip-path=\"url(#pe690e59766)\" d=\"M 228.59479 224.64 \nL 228.59479 7.2 \n\" style=\"fill:none;stroke:#ffffff;stroke-linecap:square;stroke-width:0.8;\"/>\n     </g>\n     <g id=\"line2d_4\">\n      <g>\n       <use style=\"fill:#555555;stroke:#555555;stroke-width:0.8;\" x=\"228.59479\" xlink:href=\"#m2dc8bd30cb\" y=\"224.64\"/>\n      </g>\n     </g>\n     <g id=\"text_2\">\n      <!-- −1 -->\n      <defs>\n       <path d=\"M 12.40625 8.296875 \nL 28.515625 8.296875 \nL 28.515625 63.921875 \nL 10.984375 60.40625 \nL 10.984375 69.390625 \nL 28.421875 72.90625 \nL 38.28125 72.90625 \nL 38.28125 8.296875 \nL 54.390625 8.296875 \nL 54.390625 0 \nL 12.40625 0 \nz\n\" id=\"DejaVuSans-49\"/>\n      </defs>\n      <g style=\"fill:#555555;\" transform=\"translate(217.538149 243.037656)scale(0.15 -0.15)\">\n       <use xlink:href=\"#DejaVuSans-8722\"/>\n       <use x=\"83.789062\" xlink:href=\"#DejaVuSans-49\"/>\n      </g>\n     </g>\n    </g>\n    <g id=\"xtick_3\">\n     <g id=\"line2d_5\">\n      <path clip-path=\"url(#pe690e59766)\" d=\"M 329.197891 224.64 \nL 329.197891 7.2 \n\" style=\"fill:none;stroke:#ffffff;stroke-linecap:square;stroke-width:0.8;\"/>\n     </g>\n     <g id=\"line2d_6\">\n      <g>\n       <use style=\"fill:#555555;stroke:#555555;stroke-width:0.8;\" x=\"329.197891\" xlink:href=\"#m2dc8bd30cb\" y=\"224.64\"/>\n      </g>\n     </g>\n     <g id=\"text_3\">\n      <!-- 0 -->\n      <defs>\n       <path d=\"M 31.78125 66.40625 \nQ 24.171875 66.40625 20.328125 58.90625 \nQ 16.5 51.421875 16.5 36.375 \nQ 16.5 21.390625 20.328125 13.890625 \nQ 24.171875 6.390625 31.78125 6.390625 \nQ 39.453125 6.390625 43.28125 13.890625 \nQ 47.125 21.390625 47.125 36.375 \nQ 47.125 51.421875 43.28125 58.90625 \nQ 39.453125 66.40625 31.78125 66.40625 \nz\nM 31.78125 74.21875 \nQ 44.046875 74.21875 50.515625 64.515625 \nQ 56.984375 54.828125 56.984375 36.375 \nQ 56.984375 17.96875 50.515625 8.265625 \nQ 44.046875 -1.421875 31.78125 -1.421875 \nQ 19.53125 -1.421875 13.0625 8.265625 \nQ 6.59375 17.96875 6.59375 36.375 \nQ 6.59375 54.828125 13.0625 64.515625 \nQ 19.53125 74.21875 31.78125 74.21875 \nz\n\" id=\"DejaVuSans-48\"/>\n      </defs>\n      <g style=\"fill:#555555;\" transform=\"translate(324.426016 243.037656)scale(0.15 -0.15)\">\n       <use xlink:href=\"#DejaVuSans-48\"/>\n      </g>\n     </g>\n    </g>\n    <g id=\"xtick_4\">\n     <g id=\"line2d_7\">\n      <path clip-path=\"url(#pe690e59766)\" d=\"M 429.800992 224.64 \nL 429.800992 7.2 \n\" style=\"fill:none;stroke:#ffffff;stroke-linecap:square;stroke-width:0.8;\"/>\n     </g>\n     <g id=\"line2d_8\">\n      <g>\n       <use style=\"fill:#555555;stroke:#555555;stroke-width:0.8;\" x=\"429.800992\" xlink:href=\"#m2dc8bd30cb\" y=\"224.64\"/>\n      </g>\n     </g>\n     <g id=\"text_4\">\n      <!-- 1 -->\n      <g style=\"fill:#555555;\" transform=\"translate(425.029117 243.037656)scale(0.15 -0.15)\">\n       <use xlink:href=\"#DejaVuSans-49\"/>\n      </g>\n     </g>\n    </g>\n    <g id=\"xtick_5\">\n     <g id=\"line2d_9\">\n      <path clip-path=\"url(#pe690e59766)\" d=\"M 530.404092 224.64 \nL 530.404092 7.2 \n\" style=\"fill:none;stroke:#ffffff;stroke-linecap:square;stroke-width:0.8;\"/>\n     </g>\n     <g id=\"line2d_10\">\n      <g>\n       <use style=\"fill:#555555;stroke:#555555;stroke-width:0.8;\" x=\"530.404092\" xlink:href=\"#m2dc8bd30cb\" y=\"224.64\"/>\n      </g>\n     </g>\n     <g id=\"text_5\">\n      <!-- 2 -->\n      <g style=\"fill:#555555;\" transform=\"translate(525.632217 243.037656)scale(0.15 -0.15)\">\n       <use xlink:href=\"#DejaVuSans-50\"/>\n      </g>\n     </g>\n    </g>\n   </g>\n   <g id=\"matplotlib.axis_2\">\n    <g id=\"ytick_1\">\n     <g id=\"line2d_11\">\n      <path clip-path=\"url(#pe690e59766)\" d=\"M 36.313281 223.6944 \nL 594.313281 223.6944 \n\" style=\"fill:none;stroke:#ffffff;stroke-linecap:square;stroke-width:0.8;\"/>\n     </g>\n     <g id=\"line2d_12\">\n      <defs>\n       <path d=\"M 0 0 \nL -3.5 0 \n\" id=\"m46015eff6f\" style=\"stroke:#555555;stroke-width:0.8;\"/>\n      </defs>\n      <g>\n       <use style=\"fill:#555555;stroke:#555555;stroke-width:0.8;\" x=\"36.313281\" xlink:href=\"#m46015eff6f\" y=\"223.6944\"/>\n      </g>\n     </g>\n     <g id=\"text_6\">\n      <!-- −3 -->\n      <defs>\n       <path d=\"M 40.578125 39.3125 \nQ 47.65625 37.796875 51.625 33 \nQ 55.609375 28.21875 55.609375 21.1875 \nQ 55.609375 10.40625 48.1875 4.484375 \nQ 40.765625 -1.421875 27.09375 -1.421875 \nQ 22.515625 -1.421875 17.65625 -0.515625 \nQ 12.796875 0.390625 7.625 2.203125 \nL 7.625 11.71875 \nQ 11.71875 9.328125 16.59375 8.109375 \nQ 21.484375 6.890625 26.8125 6.890625 \nQ 36.078125 6.890625 40.9375 10.546875 \nQ 45.796875 14.203125 45.796875 21.1875 \nQ 45.796875 27.640625 41.28125 31.265625 \nQ 36.765625 34.90625 28.71875 34.90625 \nL 20.21875 34.90625 \nL 20.21875 43.015625 \nL 29.109375 43.015625 \nQ 36.375 43.015625 40.234375 45.921875 \nQ 44.09375 48.828125 44.09375 54.296875 \nQ 44.09375 59.90625 40.109375 62.90625 \nQ 36.140625 65.921875 28.71875 65.921875 \nQ 24.65625 65.921875 20.015625 65.03125 \nQ 15.375 64.15625 9.8125 62.3125 \nL 9.8125 71.09375 \nQ 15.4375 72.65625 20.34375 73.4375 \nQ 25.25 74.21875 29.59375 74.21875 \nQ 40.828125 74.21875 47.359375 69.109375 \nQ 53.90625 64.015625 53.90625 55.328125 \nQ 53.90625 49.265625 50.4375 45.09375 \nQ 46.96875 40.921875 40.578125 39.3125 \nz\n\" id=\"DejaVuSans-51\"/>\n      </defs>\n      <g style=\"fill:#555555;\" transform=\"translate(7.2 229.393228)scale(0.15 -0.15)\">\n       <use xlink:href=\"#DejaVuSans-8722\"/>\n       <use x=\"83.789062\" xlink:href=\"#DejaVuSans-51\"/>\n      </g>\n     </g>\n    </g>\n    <g id=\"ytick_2\">\n     <g id=\"line2d_13\">\n      <path clip-path=\"url(#pe690e59766)\" d=\"M 36.313281 184.390304 \nL 594.313281 184.390304 \n\" style=\"fill:none;stroke:#ffffff;stroke-linecap:square;stroke-width:0.8;\"/>\n     </g>\n     <g id=\"line2d_14\">\n      <g>\n       <use style=\"fill:#555555;stroke:#555555;stroke-width:0.8;\" x=\"36.313281\" xlink:href=\"#m46015eff6f\" y=\"184.390304\"/>\n      </g>\n     </g>\n     <g id=\"text_7\">\n      <!-- −2 -->\n      <g style=\"fill:#555555;\" transform=\"translate(7.2 190.089132)scale(0.15 -0.15)\">\n       <use xlink:href=\"#DejaVuSans-8722\"/>\n       <use x=\"83.789062\" xlink:href=\"#DejaVuSans-50\"/>\n      </g>\n     </g>\n    </g>\n    <g id=\"ytick_3\">\n     <g id=\"line2d_15\">\n      <path clip-path=\"url(#pe690e59766)\" d=\"M 36.313281 145.086208 \nL 594.313281 145.086208 \n\" style=\"fill:none;stroke:#ffffff;stroke-linecap:square;stroke-width:0.8;\"/>\n     </g>\n     <g id=\"line2d_16\">\n      <g>\n       <use style=\"fill:#555555;stroke:#555555;stroke-width:0.8;\" x=\"36.313281\" xlink:href=\"#m46015eff6f\" y=\"145.086208\"/>\n      </g>\n     </g>\n     <g id=\"text_8\">\n      <!-- −1 -->\n      <g style=\"fill:#555555;\" transform=\"translate(7.2 150.785036)scale(0.15 -0.15)\">\n       <use xlink:href=\"#DejaVuSans-8722\"/>\n       <use x=\"83.789062\" xlink:href=\"#DejaVuSans-49\"/>\n      </g>\n     </g>\n    </g>\n    <g id=\"ytick_4\">\n     <g id=\"line2d_17\">\n      <path clip-path=\"url(#pe690e59766)\" d=\"M 36.313281 105.782113 \nL 594.313281 105.782113 \n\" style=\"fill:none;stroke:#ffffff;stroke-linecap:square;stroke-width:0.8;\"/>\n     </g>\n     <g id=\"line2d_18\">\n      <g>\n       <use style=\"fill:#555555;stroke:#555555;stroke-width:0.8;\" x=\"36.313281\" xlink:href=\"#m46015eff6f\" y=\"105.782113\"/>\n      </g>\n     </g>\n     <g id=\"text_9\">\n      <!-- 0 -->\n      <g style=\"fill:#555555;\" transform=\"translate(19.769531 111.480941)scale(0.15 -0.15)\">\n       <use xlink:href=\"#DejaVuSans-48\"/>\n      </g>\n     </g>\n    </g>\n    <g id=\"ytick_5\">\n     <g id=\"line2d_19\">\n      <path clip-path=\"url(#pe690e59766)\" d=\"M 36.313281 66.478017 \nL 594.313281 66.478017 \n\" style=\"fill:none;stroke:#ffffff;stroke-linecap:square;stroke-width:0.8;\"/>\n     </g>\n     <g id=\"line2d_20\">\n      <g>\n       <use style=\"fill:#555555;stroke:#555555;stroke-width:0.8;\" x=\"36.313281\" xlink:href=\"#m46015eff6f\" y=\"66.478017\"/>\n      </g>\n     </g>\n     <g id=\"text_10\">\n      <!-- 1 -->\n      <g style=\"fill:#555555;\" transform=\"translate(19.769531 72.176845)scale(0.15 -0.15)\">\n       <use xlink:href=\"#DejaVuSans-49\"/>\n      </g>\n     </g>\n    </g>\n    <g id=\"ytick_6\">\n     <g id=\"line2d_21\">\n      <path clip-path=\"url(#pe690e59766)\" d=\"M 36.313281 27.173921 \nL 594.313281 27.173921 \n\" style=\"fill:none;stroke:#ffffff;stroke-linecap:square;stroke-width:0.8;\"/>\n     </g>\n     <g id=\"line2d_22\">\n      <g>\n       <use style=\"fill:#555555;stroke:#555555;stroke-width:0.8;\" x=\"36.313281\" xlink:href=\"#m46015eff6f\" y=\"27.173921\"/>\n      </g>\n     </g>\n     <g id=\"text_11\">\n      <!-- 2 -->\n      <g style=\"fill:#555555;\" transform=\"translate(19.769531 32.872749)scale(0.15 -0.15)\">\n       <use xlink:href=\"#DejaVuSans-50\"/>\n      </g>\n     </g>\n    </g>\n   </g>\n   <g id=\"PathCollection_1\">\n    <defs>\n     <path d=\"M 0 2.738613 \nC 0.726289 2.738613 1.422928 2.450055 1.936492 1.936492 \nC 2.450055 1.422928 2.738613 0.726289 2.738613 0 \nC 2.738613 -0.726289 2.450055 -1.422928 1.936492 -1.936492 \nC 1.422928 -2.450055 0.726289 -2.738613 0 -2.738613 \nC -0.726289 -2.738613 -1.422928 -2.450055 -1.936492 -1.936492 \nC -2.450055 -1.422928 -2.738613 -0.726289 -2.738613 0 \nC -2.738613 0.726289 -2.450055 1.422928 -1.936492 1.936492 \nC -1.422928 2.450055 -0.726289 2.738613 0 2.738613 \nz\n\" id=\"C0_0_4f4a09c604\"/>\n    </defs>\n    <g clip-path=\"url(#pe690e59766)\">\n     <use style=\"fill:#a6cee3;stroke:#a6cee3;stroke-width:0.5;\" x=\"506.667027\" xlink:href=\"#C0_0_4f4a09c604\" y=\"90.054295\"/>\n    </g>\n    <g clip-path=\"url(#pe690e59766)\">\n     <use style=\"fill:#a6cee3;stroke:#a6cee3;stroke-width:0.5;\" x=\"427.661967\" xlink:href=\"#C0_0_4f4a09c604\" y=\"17.705832\"/>\n    </g>\n    <g clip-path=\"url(#pe690e59766)\">\n     <use style=\"fill:#b15928;stroke:#b15928;stroke-width:0.5;\" x=\"517.080016\" xlink:href=\"#C0_0_4f4a09c604\" y=\"144.193136\"/>\n    </g>\n    <g clip-path=\"url(#pe690e59766)\">\n     <use style=\"fill:#b15928;stroke:#b15928;stroke-width:0.5;\" x=\"424.779732\" xlink:href=\"#C0_0_4f4a09c604\" y=\"111.731071\"/>\n    </g>\n    <g clip-path=\"url(#pe690e59766)\">\n     <use style=\"fill:#b15928;stroke:#b15928;stroke-width:0.5;\" x=\"318.813754\" xlink:href=\"#C0_0_4f4a09c604\" y=\"89.64391\"/>\n    </g>\n    <g clip-path=\"url(#pe690e59766)\">\n     <use style=\"fill:#a6cee3;stroke:#a6cee3;stroke-width:0.5;\" x=\"343.689121\" xlink:href=\"#C0_0_4f4a09c604\" y=\"48.623208\"/>\n    </g>\n    <g clip-path=\"url(#pe690e59766)\">\n     <use style=\"fill:#a6cee3;stroke:#a6cee3;stroke-width:0.5;\" x=\"405.760646\" xlink:href=\"#C0_0_4f4a09c604\" y=\"100.999786\"/>\n    </g>\n    <g clip-path=\"url(#pe690e59766)\">\n     <use style=\"fill:#a6cee3;stroke:#a6cee3;stroke-width:0.5;\" x=\"373.851908\" xlink:href=\"#C0_0_4f4a09c604\" y=\"92.667345\"/>\n    </g>\n    <g clip-path=\"url(#pe690e59766)\">\n     <use style=\"fill:#b15928;stroke:#b15928;stroke-width:0.5;\" x=\"479.506878\" xlink:href=\"#C0_0_4f4a09c604\" y=\"113.845673\"/>\n    </g>\n    <g clip-path=\"url(#pe690e59766)\">\n     <use style=\"fill:#b15928;stroke:#b15928;stroke-width:0.5;\" x=\"360.693472\" xlink:href=\"#C0_0_4f4a09c604\" y=\"139.351573\"/>\n    </g>\n    <g clip-path=\"url(#pe690e59766)\">\n     <use style=\"fill:#b15928;stroke:#b15928;stroke-width:0.5;\" x=\"72.359199\" xlink:href=\"#C0_0_4f4a09c604\" y=\"80.092225\"/>\n    </g>\n    <g clip-path=\"url(#pe690e59766)\">\n     <use style=\"fill:#b15928;stroke:#b15928;stroke-width:0.5;\" x=\"416.162853\" xlink:href=\"#C0_0_4f4a09c604\" y=\"134.952238\"/>\n    </g>\n    <g clip-path=\"url(#pe690e59766)\">\n     <use style=\"fill:#b15928;stroke:#b15928;stroke-width:0.5;\" x=\"557.542244\" xlink:href=\"#C0_0_4f4a09c604\" y=\"162.94464\"/>\n    </g>\n    <g clip-path=\"url(#pe690e59766)\">\n     <use style=\"fill:#b15928;stroke:#b15928;stroke-width:0.5;\" x=\"333.801339\" xlink:href=\"#C0_0_4f4a09c604\" y=\"113.139205\"/>\n    </g>\n    <g clip-path=\"url(#pe690e59766)\">\n     <use style=\"fill:#a6cee3;stroke:#a6cee3;stroke-width:0.5;\" x=\"483.400233\" xlink:href=\"#C0_0_4f4a09c604\" y=\"48.030295\"/>\n    </g>\n    <g clip-path=\"url(#pe690e59766)\">\n     <use style=\"fill:#a6cee3;stroke:#a6cee3;stroke-width:0.5;\" x=\"344.786082\" xlink:href=\"#C0_0_4f4a09c604\" y=\"90.918777\"/>\n    </g>\n    <g clip-path=\"url(#pe690e59766)\">\n     <use style=\"fill:#a6cee3;stroke:#a6cee3;stroke-width:0.5;\" x=\"239.883891\" xlink:href=\"#C0_0_4f4a09c604\" y=\"183.635527\"/>\n    </g>\n    <g clip-path=\"url(#pe690e59766)\">\n     <use style=\"fill:#b15928;stroke:#b15928;stroke-width:0.5;\" x=\"294.19685\" xlink:href=\"#C0_0_4f4a09c604\" y=\"99.636958\"/>\n    </g>\n    <g clip-path=\"url(#pe690e59766)\">\n     <use style=\"fill:#a6cee3;stroke:#a6cee3;stroke-width:0.5;\" x=\"452.968948\" xlink:href=\"#C0_0_4f4a09c604\" y=\"58.52366\"/>\n    </g>\n    <g clip-path=\"url(#pe690e59766)\">\n     <use style=\"fill:#a6cee3;stroke:#a6cee3;stroke-width:0.5;\" x=\"290.231612\" xlink:href=\"#C0_0_4f4a09c604\" y=\"117.663849\"/>\n    </g>\n    <g clip-path=\"url(#pe690e59766)\">\n     <use style=\"fill:#a6cee3;stroke:#a6cee3;stroke-width:0.5;\" x=\"223.710211\" xlink:href=\"#C0_0_4f4a09c604\" y=\"161.594634\"/>\n    </g>\n    <g clip-path=\"url(#pe690e59766)\">\n     <use style=\"fill:#b15928;stroke:#b15928;stroke-width:0.5;\" x=\"157.541818\" xlink:href=\"#C0_0_4f4a09c604\" y=\"29.10865\"/>\n    </g>\n    <g clip-path=\"url(#pe690e59766)\">\n     <use style=\"fill:#a6cee3;stroke:#a6cee3;stroke-width:0.5;\" x=\"277.925301\" xlink:href=\"#C0_0_4f4a09c604\" y=\"123.000227\"/>\n    </g>\n    <g clip-path=\"url(#pe690e59766)\">\n     <use style=\"fill:#b15928;stroke:#b15928;stroke-width:0.5;\" x=\"203.162793\" xlink:href=\"#C0_0_4f4a09c604\" y=\"75.223557\"/>\n    </g>\n    <g clip-path=\"url(#pe690e59766)\">\n     <use style=\"fill:#a6cee3;stroke:#a6cee3;stroke-width:0.5;\" x=\"166.834763\" xlink:href=\"#C0_0_4f4a09c604\" y=\"114.143677\"/>\n    </g>\n    <g clip-path=\"url(#pe690e59766)\">\n     <use style=\"fill:#b15928;stroke:#b15928;stroke-width:0.5;\" x=\"239.111178\" xlink:href=\"#C0_0_4f4a09c604\" y=\"90.57526\"/>\n    </g>\n    <g clip-path=\"url(#pe690e59766)\">\n     <use style=\"fill:#a6cee3;stroke:#a6cee3;stroke-width:0.5;\" x=\"277.80931\" xlink:href=\"#C0_0_4f4a09c604\" y=\"152.185793\"/>\n    </g>\n    <g clip-path=\"url(#pe690e59766)\">\n     <use style=\"fill:#b15928;stroke:#b15928;stroke-width:0.5;\" x=\"326.362671\" xlink:href=\"#C0_0_4f4a09c604\" y=\"88.946916\"/>\n    </g>\n    <g clip-path=\"url(#pe690e59766)\">\n     <use style=\"fill:#a6cee3;stroke:#a6cee3;stroke-width:0.5;\" x=\"335.889729\" xlink:href=\"#C0_0_4f4a09c604\" y=\"93.893728\"/>\n    </g>\n    <g clip-path=\"url(#pe690e59766)\">\n     <use style=\"fill:#a6cee3;stroke:#a6cee3;stroke-width:0.5;\" x=\"265.383121\" xlink:href=\"#C0_0_4f4a09c604\" y=\"120.039326\"/>\n    </g>\n    <g clip-path=\"url(#pe690e59766)\">\n     <use style=\"fill:#a6cee3;stroke:#a6cee3;stroke-width:0.5;\" x=\"261.546284\" xlink:href=\"#C0_0_4f4a09c604\" y=\"119.914025\"/>\n    </g>\n    <g clip-path=\"url(#pe690e59766)\">\n     <use style=\"fill:#a6cee3;stroke:#a6cee3;stroke-width:0.5;\" x=\"247.392853\" xlink:href=\"#C0_0_4f4a09c604\" y=\"173.632089\"/>\n    </g>\n    <g clip-path=\"url(#pe690e59766)\">\n     <use style=\"fill:#b15928;stroke:#b15928;stroke-width:0.5;\" x=\"347.047511\" xlink:href=\"#C0_0_4f4a09c604\" y=\"121.573749\"/>\n    </g>\n    <g clip-path=\"url(#pe690e59766)\">\n     <use style=\"fill:#b15928;stroke:#b15928;stroke-width:0.5;\" x=\"165.194882\" xlink:href=\"#C0_0_4f4a09c604\" y=\"87.592875\"/>\n    </g>\n    <g clip-path=\"url(#pe690e59766)\">\n     <use style=\"fill:#b15928;stroke:#b15928;stroke-width:0.5;\" x=\"237.920862\" xlink:href=\"#C0_0_4f4a09c604\" y=\"103.740446\"/>\n    </g>\n    <g clip-path=\"url(#pe690e59766)\">\n     <use style=\"fill:#a6cee3;stroke:#a6cee3;stroke-width:0.5;\" x=\"402.546662\" xlink:href=\"#C0_0_4f4a09c604\" y=\"100.712556\"/>\n    </g>\n    <g clip-path=\"url(#pe690e59766)\">\n     <use style=\"fill:#b15928;stroke:#b15928;stroke-width:0.5;\" x=\"443.825133\" xlink:href=\"#C0_0_4f4a09c604\" y=\"154.315825\"/>\n    </g>\n    <g clip-path=\"url(#pe690e59766)\">\n     <use style=\"fill:#b15928;stroke:#b15928;stroke-width:0.5;\" x=\"369.674707\" xlink:href=\"#C0_0_4f4a09c604\" y=\"132.697954\"/>\n    </g>\n    <g clip-path=\"url(#pe690e59766)\">\n     <use style=\"fill:#a6cee3;stroke:#a6cee3;stroke-width:0.5;\" x=\"241.592997\" xlink:href=\"#C0_0_4f4a09c604\" y=\"128.533275\"/>\n    </g>\n    <g clip-path=\"url(#pe690e59766)\">\n     <use style=\"fill:#b15928;stroke:#b15928;stroke-width:0.5;\" x=\"297.85474\" xlink:href=\"#C0_0_4f4a09c604\" y=\"103.574585\"/>\n    </g>\n    <g clip-path=\"url(#pe690e59766)\">\n     <use style=\"fill:#b15928;stroke:#b15928;stroke-width:0.5;\" x=\"211.980204\" xlink:href=\"#C0_0_4f4a09c604\" y=\"70.375942\"/>\n    </g>\n    <g clip-path=\"url(#pe690e59766)\">\n     <use style=\"fill:#b15928;stroke:#b15928;stroke-width:0.5;\" x=\"376.044976\" xlink:href=\"#C0_0_4f4a09c604\" y=\"166.162781\"/>\n    </g>\n    <g clip-path=\"url(#pe690e59766)\">\n     <use style=\"fill:#a6cee3;stroke:#a6cee3;stroke-width:0.5;\" x=\"478.920676\" xlink:href=\"#C0_0_4f4a09c604\" y=\"31.265903\"/>\n    </g>\n    <g clip-path=\"url(#pe690e59766)\">\n     <use style=\"fill:#b15928;stroke:#b15928;stroke-width:0.5;\" x=\"447.786771\" xlink:href=\"#C0_0_4f4a09c604\" y=\"112.853896\"/>\n    </g>\n    <g clip-path=\"url(#pe690e59766)\">\n     <use style=\"fill:#b15928;stroke:#b15928;stroke-width:0.5;\" x=\"221.476857\" xlink:href=\"#C0_0_4f4a09c604\" y=\"64.337841\"/>\n    </g>\n    <g clip-path=\"url(#pe690e59766)\">\n     <use style=\"fill:#b15928;stroke:#b15928;stroke-width:0.5;\" x=\"288.63704\" xlink:href=\"#C0_0_4f4a09c604\" y=\"57.735015\"/>\n    </g>\n    <g clip-path=\"url(#pe690e59766)\">\n     <use style=\"fill:#a6cee3;stroke:#a6cee3;stroke-width:0.5;\" x=\"350.150999\" xlink:href=\"#C0_0_4f4a09c604\" y=\"67.396198\"/>\n    </g>\n    <g clip-path=\"url(#pe690e59766)\">\n     <use style=\"fill:#a6cee3;stroke:#a6cee3;stroke-width:0.5;\" x=\"365.049455\" xlink:href=\"#C0_0_4f4a09c604\" y=\"78.010893\"/>\n    </g>\n    <g clip-path=\"url(#pe690e59766)\">\n     <use style=\"fill:#a6cee3;stroke:#a6cee3;stroke-width:0.5;\" x=\"330.254225\" xlink:href=\"#C0_0_4f4a09c604\" y=\"35.590088\"/>\n    </g>\n    <g clip-path=\"url(#pe690e59766)\">\n     <use style=\"fill:#a6cee3;stroke:#a6cee3;stroke-width:0.5;\" x=\"341.965641\" xlink:href=\"#C0_0_4f4a09c604\" y=\"89.982284\"/>\n    </g>\n    <g clip-path=\"url(#pe690e59766)\">\n     <use style=\"fill:#b15928;stroke:#b15928;stroke-width:0.5;\" x=\"518.64869\" xlink:href=\"#C0_0_4f4a09c604\" y=\"158.754564\"/>\n    </g>\n    <g clip-path=\"url(#pe690e59766)\">\n     <use style=\"fill:#b15928;stroke:#b15928;stroke-width:0.5;\" x=\"201.38316\" xlink:href=\"#C0_0_4f4a09c604\" y=\"67.680852\"/>\n    </g>\n    <g clip-path=\"url(#pe690e59766)\">\n     <use style=\"fill:#b15928;stroke:#b15928;stroke-width:0.5;\" x=\"211.178038\" xlink:href=\"#C0_0_4f4a09c604\" y=\"29.38984\"/>\n    </g>\n    <g clip-path=\"url(#pe690e59766)\">\n     <use style=\"fill:#a6cee3;stroke:#a6cee3;stroke-width:0.5;\" x=\"287.586539\" xlink:href=\"#C0_0_4f4a09c604\" y=\"135.160148\"/>\n    </g>\n    <g clip-path=\"url(#pe690e59766)\">\n     <use style=\"fill:#a6cee3;stroke:#a6cee3;stroke-width:0.5;\" x=\"522.651821\" xlink:href=\"#C0_0_4f4a09c604\" y=\"47.591818\"/>\n    </g>\n    <g clip-path=\"url(#pe690e59766)\">\n     <use style=\"fill:#a6cee3;stroke:#a6cee3;stroke-width:0.5;\" x=\"517.080113\" xlink:href=\"#C0_0_4f4a09c604\" y=\"70.170847\"/>\n    </g>\n    <g clip-path=\"url(#pe690e59766)\">\n     <use style=\"fill:#b15928;stroke:#b15928;stroke-width:0.5;\" x=\"242.555916\" xlink:href=\"#C0_0_4f4a09c604\" y=\"30.708737\"/>\n    </g>\n    <g clip-path=\"url(#pe690e59766)\">\n     <use style=\"fill:#b15928;stroke:#b15928;stroke-width:0.5;\" x=\"302.23592\" xlink:href=\"#C0_0_4f4a09c604\" y=\"74.24229\"/>\n    </g>\n    <g clip-path=\"url(#pe690e59766)\">\n     <use style=\"fill:#b15928;stroke:#b15928;stroke-width:0.5;\" x=\"424.494376\" xlink:href=\"#C0_0_4f4a09c604\" y=\"111.874644\"/>\n    </g>\n    <g clip-path=\"url(#pe690e59766)\">\n     <use style=\"fill:#a6cee3;stroke:#a6cee3;stroke-width:0.5;\" x=\"390.976179\" xlink:href=\"#C0_0_4f4a09c604\" y=\"69.535613\"/>\n    </g>\n    <g clip-path=\"url(#pe690e59766)\">\n     <use style=\"fill:#b15928;stroke:#b15928;stroke-width:0.5;\" x=\"367.067466\" xlink:href=\"#C0_0_4f4a09c604\" y=\"148.993067\"/>\n    </g>\n    <g clip-path=\"url(#pe690e59766)\">\n     <use style=\"fill:#a6cee3;stroke:#a6cee3;stroke-width:0.5;\" x=\"359.201576\" xlink:href=\"#C0_0_4f4a09c604\" y=\"53.649714\"/>\n    </g>\n    <g clip-path=\"url(#pe690e59766)\">\n     <use style=\"fill:#a6cee3;stroke:#a6cee3;stroke-width:0.5;\" x=\"259.32221\" xlink:href=\"#C0_0_4f4a09c604\" y=\"111.663363\"/>\n    </g>\n    <g clip-path=\"url(#pe690e59766)\">\n     <use style=\"fill:#b15928;stroke:#b15928;stroke-width:0.5;\" x=\"285.420094\" xlink:href=\"#C0_0_4f4a09c604\" y=\"33.098474\"/>\n    </g>\n    <g clip-path=\"url(#pe690e59766)\">\n     <use style=\"fill:#a6cee3;stroke:#a6cee3;stroke-width:0.5;\" x=\"396.832828\" xlink:href=\"#C0_0_4f4a09c604\" y=\"89.767194\"/>\n    </g>\n    <g clip-path=\"url(#pe690e59766)\">\n     <use style=\"fill:#b15928;stroke:#b15928;stroke-width:0.5;\" x=\"251.741946\" xlink:href=\"#C0_0_4f4a09c604\" y=\"84.587411\"/>\n    </g>\n    <g clip-path=\"url(#pe690e59766)\">\n     <use style=\"fill:#b15928;stroke:#b15928;stroke-width:0.5;\" x=\"261.357934\" xlink:href=\"#C0_0_4f4a09c604\" y=\"104.531041\"/>\n    </g>\n    <g clip-path=\"url(#pe690e59766)\">\n     <use style=\"fill:#b15928;stroke:#b15928;stroke-width:0.5;\" x=\"265.229803\" xlink:href=\"#C0_0_4f4a09c604\" y=\"79.195514\"/>\n    </g>\n    <g clip-path=\"url(#pe690e59766)\">\n     <use style=\"fill:#b15928;stroke:#b15928;stroke-width:0.5;\" x=\"387.204715\" xlink:href=\"#C0_0_4f4a09c604\" y=\"113.969107\"/>\n    </g>\n    <g clip-path=\"url(#pe690e59766)\">\n     <use style=\"fill:#b15928;stroke:#b15928;stroke-width:0.5;\" x=\"369.037394\" xlink:href=\"#C0_0_4f4a09c604\" y=\"148.743907\"/>\n    </g>\n    <g clip-path=\"url(#pe690e59766)\">\n     <use style=\"fill:#b15928;stroke:#b15928;stroke-width:0.5;\" x=\"179.172753\" xlink:href=\"#C0_0_4f4a09c604\" y=\"88.512219\"/>\n    </g>\n    <g clip-path=\"url(#pe690e59766)\">\n     <use style=\"fill:#a6cee3;stroke:#a6cee3;stroke-width:0.5;\" x=\"345.965761\" xlink:href=\"#C0_0_4f4a09c604\" y=\"80.822776\"/>\n    </g>\n    <g clip-path=\"url(#pe690e59766)\">\n     <use style=\"fill:#a6cee3;stroke:#a6cee3;stroke-width:0.5;\" x=\"568.949645\" xlink:href=\"#C0_0_4f4a09c604\" y=\"68.660201\"/>\n    </g>\n    <g clip-path=\"url(#pe690e59766)\">\n     <use style=\"fill:#b15928;stroke:#b15928;stroke-width:0.5;\" x=\"237.365144\" xlink:href=\"#C0_0_4f4a09c604\" y=\"61.878798\"/>\n    </g>\n    <g clip-path=\"url(#pe690e59766)\">\n     <use style=\"fill:#a6cee3;stroke:#a6cee3;stroke-width:0.5;\" x=\"196.813525\" xlink:href=\"#C0_0_4f4a09c604\" y=\"123.924278\"/>\n    </g>\n    <g clip-path=\"url(#pe690e59766)\">\n     <use style=\"fill:#b15928;stroke:#b15928;stroke-width:0.5;\" x=\"322.332574\" xlink:href=\"#C0_0_4f4a09c604\" y=\"38.440726\"/>\n    </g>\n    <g clip-path=\"url(#pe690e59766)\">\n     <use style=\"fill:#a6cee3;stroke:#a6cee3;stroke-width:0.5;\" x=\"254.273246\" xlink:href=\"#C0_0_4f4a09c604\" y=\"138.264532\"/>\n    </g>\n    <g clip-path=\"url(#pe690e59766)\">\n     <use style=\"fill:#a6cee3;stroke:#a6cee3;stroke-width:0.5;\" x=\"319.293261\" xlink:href=\"#C0_0_4f4a09c604\" y=\"131.859527\"/>\n    </g>\n    <g clip-path=\"url(#pe690e59766)\">\n     <use style=\"fill:#b15928;stroke:#b15928;stroke-width:0.5;\" x=\"442.540958\" xlink:href=\"#C0_0_4f4a09c604\" y=\"148.227844\"/>\n    </g>\n    <g clip-path=\"url(#pe690e59766)\">\n     <use style=\"fill:#a6cee3;stroke:#a6cee3;stroke-width:0.5;\" x=\"213.758986\" xlink:href=\"#C0_0_4f4a09c604\" y=\"122.990234\"/>\n    </g>\n    <g clip-path=\"url(#pe690e59766)\">\n     <use style=\"fill:#b15928;stroke:#b15928;stroke-width:0.5;\" x=\"279.094282\" xlink:href=\"#C0_0_4f4a09c604\" y=\"29.9436\"/>\n    </g>\n    <g clip-path=\"url(#pe690e59766)\">\n     <use style=\"fill:#a6cee3;stroke:#a6cee3;stroke-width:0.5;\" x=\"424.712568\" xlink:href=\"#C0_0_4f4a09c604\" y=\"102.34099\"/>\n    </g>\n    <g clip-path=\"url(#pe690e59766)\">\n     <use style=\"fill:#b15928;stroke:#b15928;stroke-width:0.5;\" x=\"205.915277\" xlink:href=\"#C0_0_4f4a09c604\" y=\"72.595189\"/>\n    </g>\n    <g clip-path=\"url(#pe690e59766)\">\n     <use style=\"fill:#a6cee3;stroke:#a6cee3;stroke-width:0.5;\" x=\"228.573125\" xlink:href=\"#C0_0_4f4a09c604\" y=\"166.497944\"/>\n    </g>\n    <g clip-path=\"url(#pe690e59766)\">\n     <use style=\"fill:#a6cee3;stroke:#a6cee3;stroke-width:0.5;\" x=\"448.717372\" xlink:href=\"#C0_0_4f4a09c604\" y=\"93.32497\"/>\n    </g>\n    <g clip-path=\"url(#pe690e59766)\">\n     <use style=\"fill:#a6cee3;stroke:#a6cee3;stroke-width:0.5;\" x=\"421.839144\" xlink:href=\"#C0_0_4f4a09c604\" y=\"93.25481\"/>\n    </g>\n    <g clip-path=\"url(#pe690e59766)\">\n     <use style=\"fill:#b15928;stroke:#b15928;stroke-width:0.5;\" x=\"415.397707\" xlink:href=\"#C0_0_4f4a09c604\" y=\"131.370085\"/>\n    </g>\n    <g clip-path=\"url(#pe690e59766)\">\n     <use style=\"fill:#b15928;stroke:#b15928;stroke-width:0.5;\" x=\"225.149854\" xlink:href=\"#C0_0_4f4a09c604\" y=\"78.992656\"/>\n    </g>\n    <g clip-path=\"url(#pe690e59766)\">\n     <use style=\"fill:#a6cee3;stroke:#a6cee3;stroke-width:0.5;\" x=\"248.372387\" xlink:href=\"#C0_0_4f4a09c604\" y=\"132.884243\"/>\n    </g>\n    <g clip-path=\"url(#pe690e59766)\">\n     <use style=\"fill:#b15928;stroke:#b15928;stroke-width:0.5;\" x=\"283.369908\" xlink:href=\"#C0_0_4f4a09c604\" y=\"105.09511\"/>\n    </g>\n    <g clip-path=\"url(#pe690e59766)\">\n     <use style=\"fill:#a6cee3;stroke:#a6cee3;stroke-width:0.5;\" x=\"293.585005\" xlink:href=\"#C0_0_4f4a09c604\" y=\"159.82333\"/>\n    </g>\n    <g clip-path=\"url(#pe690e59766)\">\n     <use style=\"fill:#a6cee3;stroke:#a6cee3;stroke-width:0.5;\" x=\"264.447883\" xlink:href=\"#C0_0_4f4a09c604\" y=\"193.170963\"/>\n    </g>\n    <g clip-path=\"url(#pe690e59766)\">\n     <use style=\"fill:#b15928;stroke:#b15928;stroke-width:0.5;\" x=\"392.098113\" xlink:href=\"#C0_0_4f4a09c604\" y=\"168.74954\"/>\n    </g>\n    <g clip-path=\"url(#pe690e59766)\">\n     <use style=\"fill:#b15928;stroke:#b15928;stroke-width:0.5;\" x=\"218.093502\" xlink:href=\"#C0_0_4f4a09c604\" y=\"103.731811\"/>\n    </g>\n    <g clip-path=\"url(#pe690e59766)\">\n     <use style=\"fill:#b15928;stroke:#b15928;stroke-width:0.5;\" x=\"254.79556\" xlink:href=\"#C0_0_4f4a09c604\" y=\"45.135319\"/>\n    </g>\n    <g clip-path=\"url(#pe690e59766)\">\n     <use style=\"fill:#b15928;stroke:#b15928;stroke-width:0.5;\" x=\"199.132476\" xlink:href=\"#C0_0_4f4a09c604\" y=\"95.28592\"/>\n    </g>\n    <g clip-path=\"url(#pe690e59766)\">\n     <use style=\"fill:#a6cee3;stroke:#a6cee3;stroke-width:0.5;\" x=\"325.245917\" xlink:href=\"#C0_0_4f4a09c604\" y=\"151.692971\"/>\n    </g>\n    <g clip-path=\"url(#pe690e59766)\">\n     <use style=\"fill:#b15928;stroke:#b15928;stroke-width:0.5;\" x=\"381.841145\" xlink:href=\"#C0_0_4f4a09c604\" y=\"112.524586\"/>\n    </g>\n    <g clip-path=\"url(#pe690e59766)\">\n     <use style=\"fill:#a6cee3;stroke:#a6cee3;stroke-width:0.5;\" x=\"406.842413\" xlink:href=\"#C0_0_4f4a09c604\" y=\"73.415027\"/>\n    </g>\n    <g clip-path=\"url(#pe690e59766)\">\n     <use style=\"fill:#a6cee3;stroke:#a6cee3;stroke-width:0.5;\" x=\"546.826135\" xlink:href=\"#C0_0_4f4a09c604\" y=\"53.25109\"/>\n    </g>\n    <g clip-path=\"url(#pe690e59766)\">\n     <use style=\"fill:#a6cee3;stroke:#a6cee3;stroke-width:0.5;\" x=\"292.057053\" xlink:href=\"#C0_0_4f4a09c604\" y=\"115.190695\"/>\n    </g>\n    <g clip-path=\"url(#pe690e59766)\">\n     <use style=\"fill:#a6cee3;stroke:#a6cee3;stroke-width:0.5;\" x=\"439.827056\" xlink:href=\"#C0_0_4f4a09c604\" y=\"80.027564\"/>\n    </g>\n    <g clip-path=\"url(#pe690e59766)\">\n     <use style=\"fill:#b15928;stroke:#b15928;stroke-width:0.5;\" x=\"393.597107\" xlink:href=\"#C0_0_4f4a09c604\" y=\"169.335108\"/>\n    </g>\n    <g clip-path=\"url(#pe690e59766)\">\n     <use style=\"fill:#a6cee3;stroke:#a6cee3;stroke-width:0.5;\" x=\"326.750607\" xlink:href=\"#C0_0_4f4a09c604\" y=\"134.78975\"/>\n    </g>\n    <g clip-path=\"url(#pe690e59766)\">\n     <use style=\"fill:#b15928;stroke:#b15928;stroke-width:0.5;\" x=\"357.359173\" xlink:href=\"#C0_0_4f4a09c604\" y=\"109.639825\"/>\n    </g>\n    <g clip-path=\"url(#pe690e59766)\">\n     <use style=\"fill:#a6cee3;stroke:#a6cee3;stroke-width:0.5;\" x=\"420.764711\" xlink:href=\"#C0_0_4f4a09c604\" y=\"93.314138\"/>\n    </g>\n    <g clip-path=\"url(#pe690e59766)\">\n     <use style=\"fill:#b15928;stroke:#b15928;stroke-width:0.5;\" x=\"408.304922\" xlink:href=\"#C0_0_4f4a09c604\" y=\"124.114293\"/>\n    </g>\n    <g clip-path=\"url(#pe690e59766)\">\n     <use style=\"fill:#a6cee3;stroke:#a6cee3;stroke-width:0.5;\" x=\"234.183669\" xlink:href=\"#C0_0_4f4a09c604\" y=\"121.898745\"/>\n    </g>\n    <g clip-path=\"url(#pe690e59766)\">\n     <use style=\"fill:#b15928;stroke:#b15928;stroke-width:0.5;\" x=\"327.485584\" xlink:href=\"#C0_0_4f4a09c604\" y=\"90.879897\"/>\n    </g>\n    <g clip-path=\"url(#pe690e59766)\">\n     <use style=\"fill:#b15928;stroke:#b15928;stroke-width:0.5;\" x=\"556.491377\" xlink:href=\"#C0_0_4f4a09c604\" y=\"107.442992\"/>\n    </g>\n    <g clip-path=\"url(#pe690e59766)\">\n     <use style=\"fill:#a6cee3;stroke:#a6cee3;stroke-width:0.5;\" x=\"233.026859\" xlink:href=\"#C0_0_4f4a09c604\" y=\"119.380613\"/>\n    </g>\n    <g clip-path=\"url(#pe690e59766)\">\n     <use style=\"fill:#b15928;stroke:#b15928;stroke-width:0.5;\" x=\"282.558698\" xlink:href=\"#C0_0_4f4a09c604\" y=\"86.857919\"/>\n    </g>\n    <g clip-path=\"url(#pe690e59766)\">\n     <use style=\"fill:#b15928;stroke:#b15928;stroke-width:0.5;\" x=\"174.188933\" xlink:href=\"#C0_0_4f4a09c604\" y=\"103.295657\"/>\n    </g>\n    <g clip-path=\"url(#pe690e59766)\">\n     <use style=\"fill:#a6cee3;stroke:#a6cee3;stroke-width:0.5;\" x=\"344.942934\" xlink:href=\"#C0_0_4f4a09c604\" y=\"96.656447\"/>\n    </g>\n    <g clip-path=\"url(#pe690e59766)\">\n     <use style=\"fill:#a6cee3;stroke:#a6cee3;stroke-width:0.5;\" x=\"269.106042\" xlink:href=\"#C0_0_4f4a09c604\" y=\"115.133411\"/>\n    </g>\n    <g clip-path=\"url(#pe690e59766)\">\n     <use style=\"fill:#a6cee3;stroke:#a6cee3;stroke-width:0.5;\" x=\"185.932947\" xlink:href=\"#C0_0_4f4a09c604\" y=\"125.171605\"/>\n    </g>\n    <g clip-path=\"url(#pe690e59766)\">\n     <use style=\"fill:#b15928;stroke:#b15928;stroke-width:0.5;\" x=\"274.584343\" xlink:href=\"#C0_0_4f4a09c604\" y=\"89.429642\"/>\n    </g>\n    <g clip-path=\"url(#pe690e59766)\">\n     <use style=\"fill:#b15928;stroke:#b15928;stroke-width:0.5;\" x=\"212.882353\" xlink:href=\"#C0_0_4f4a09c604\" y=\"75.077828\"/>\n    </g>\n    <g clip-path=\"url(#pe690e59766)\">\n     <use style=\"fill:#b15928;stroke:#b15928;stroke-width:0.5;\" x=\"479.54767\" xlink:href=\"#C0_0_4f4a09c604\" y=\"187.141002\"/>\n    </g>\n    <g clip-path=\"url(#pe690e59766)\">\n     <use style=\"fill:#a6cee3;stroke:#a6cee3;stroke-width:0.5;\" x=\"372.080841\" xlink:href=\"#C0_0_4f4a09c604\" y=\"79.176854\"/>\n    </g>\n    <g clip-path=\"url(#pe690e59766)\">\n     <use style=\"fill:#a6cee3;stroke:#a6cee3;stroke-width:0.5;\" x=\"265.069749\" xlink:href=\"#C0_0_4f4a09c604\" y=\"121.396522\"/>\n    </g>\n    <g clip-path=\"url(#pe690e59766)\">\n     <use style=\"fill:#a6cee3;stroke:#a6cee3;stroke-width:0.5;\" x=\"315.829692\" xlink:href=\"#C0_0_4f4a09c604\" y=\"117.486514\"/>\n    </g>\n    <g clip-path=\"url(#pe690e59766)\">\n     <use style=\"fill:#a6cee3;stroke:#a6cee3;stroke-width:0.5;\" x=\"298.110228\" xlink:href=\"#C0_0_4f4a09c604\" y=\"171.655927\"/>\n    </g>\n    <g clip-path=\"url(#pe690e59766)\">\n     <use style=\"fill:#a6cee3;stroke:#a6cee3;stroke-width:0.5;\" x=\"445.126019\" xlink:href=\"#C0_0_4f4a09c604\" y=\"63.34868\"/>\n    </g>\n    <g clip-path=\"url(#pe690e59766)\">\n     <use style=\"fill:#a6cee3;stroke:#a6cee3;stroke-width:0.5;\" x=\"247.370924\" xlink:href=\"#C0_0_4f4a09c604\" y=\"163.418595\"/>\n    </g>\n    <g clip-path=\"url(#pe690e59766)\">\n     <use style=\"fill:#b15928;stroke:#b15928;stroke-width:0.5;\" x=\"381.618633\" xlink:href=\"#C0_0_4f4a09c604\" y=\"128.412938\"/>\n    </g>\n    <g clip-path=\"url(#pe690e59766)\">\n     <use style=\"fill:#b15928;stroke:#b15928;stroke-width:0.5;\" x=\"343.478819\" xlink:href=\"#C0_0_4f4a09c604\" y=\"118.333027\"/>\n    </g>\n    <g clip-path=\"url(#pe690e59766)\">\n     <use style=\"fill:#a6cee3;stroke:#a6cee3;stroke-width:0.5;\" x=\"398.768833\" xlink:href=\"#C0_0_4f4a09c604\" y=\"78.475626\"/>\n    </g>\n    <g clip-path=\"url(#pe690e59766)\">\n     <use style=\"fill:#a6cee3;stroke:#a6cee3;stroke-width:0.5;\" x=\"256.200544\" xlink:href=\"#C0_0_4f4a09c604\" y=\"160.153982\"/>\n    </g>\n    <g clip-path=\"url(#pe690e59766)\">\n     <use style=\"fill:#b15928;stroke:#b15928;stroke-width:0.5;\" x=\"169.949379\" xlink:href=\"#C0_0_4f4a09c604\" y=\"81.791703\"/>\n    </g>\n    <g clip-path=\"url(#pe690e59766)\">\n     <use style=\"fill:#a6cee3;stroke:#a6cee3;stroke-width:0.5;\" x=\"209.594963\" xlink:href=\"#C0_0_4f4a09c604\" y=\"125.702071\"/>\n    </g>\n    <g clip-path=\"url(#pe690e59766)\">\n     <use style=\"fill:#a6cee3;stroke:#a6cee3;stroke-width:0.5;\" x=\"269.206849\" xlink:href=\"#C0_0_4f4a09c604\" y=\"107.848223\"/>\n    </g>\n    <g clip-path=\"url(#pe690e59766)\">\n     <use style=\"fill:#b15928;stroke:#b15928;stroke-width:0.5;\" x=\"134.402138\" xlink:href=\"#C0_0_4f4a09c604\" y=\"98.362341\"/>\n    </g>\n    <g clip-path=\"url(#pe690e59766)\">\n     <use style=\"fill:#a6cee3;stroke:#a6cee3;stroke-width:0.5;\" x=\"381.902952\" xlink:href=\"#C0_0_4f4a09c604\" y=\"102.306762\"/>\n    </g>\n    <g clip-path=\"url(#pe690e59766)\">\n     <use style=\"fill:#b15928;stroke:#b15928;stroke-width:0.5;\" x=\"297.921778\" xlink:href=\"#C0_0_4f4a09c604\" y=\"101.953887\"/>\n    </g>\n    <g clip-path=\"url(#pe690e59766)\">\n     <use style=\"fill:#b15928;stroke:#b15928;stroke-width:0.5;\" x=\"369.34319\" xlink:href=\"#C0_0_4f4a09c604\" y=\"214.756364\"/>\n    </g>\n    <g clip-path=\"url(#pe690e59766)\">\n     <use style=\"fill:#a6cee3;stroke:#a6cee3;stroke-width:0.5;\" x=\"525.968734\" xlink:href=\"#C0_0_4f4a09c604\" y=\"90.449847\"/>\n    </g>\n    <g clip-path=\"url(#pe690e59766)\">\n     <use style=\"fill:#a6cee3;stroke:#a6cee3;stroke-width:0.5;\" x=\"263.563564\" xlink:href=\"#C0_0_4f4a09c604\" y=\"121.148182\"/>\n    </g>\n    <g clip-path=\"url(#pe690e59766)\">\n     <use style=\"fill:#b15928;stroke:#b15928;stroke-width:0.5;\" x=\"378.869844\" xlink:href=\"#C0_0_4f4a09c604\" y=\"110.345473\"/>\n    </g>\n    <g clip-path=\"url(#pe690e59766)\">\n     <use style=\"fill:#b15928;stroke:#b15928;stroke-width:0.5;\" x=\"124.904736\" xlink:href=\"#C0_0_4f4a09c604\" y=\"24.639088\"/>\n    </g>\n    <g clip-path=\"url(#pe690e59766)\">\n     <use style=\"fill:#b15928;stroke:#b15928;stroke-width:0.5;\" x=\"318.077158\" xlink:href=\"#C0_0_4f4a09c604\" y=\"65.685147\"/>\n    </g>\n    <g clip-path=\"url(#pe690e59766)\">\n     <use style=\"fill:#b15928;stroke:#b15928;stroke-width:0.5;\" x=\"259.57553\" xlink:href=\"#C0_0_4f4a09c604\" y=\"45.396202\"/>\n    </g>\n    <g clip-path=\"url(#pe690e59766)\">\n     <use style=\"fill:#a6cee3;stroke:#a6cee3;stroke-width:0.5;\" x=\"358.004954\" xlink:href=\"#C0_0_4f4a09c604\" y=\"81.852056\"/>\n    </g>\n    <g clip-path=\"url(#pe690e59766)\">\n     <use style=\"fill:#b15928;stroke:#b15928;stroke-width:0.5;\" x=\"224.042161\" xlink:href=\"#C0_0_4f4a09c604\" y=\"58.179142\"/>\n    </g>\n    <g clip-path=\"url(#pe690e59766)\">\n     <use style=\"fill:#a6cee3;stroke:#a6cee3;stroke-width:0.5;\" x=\"398.595737\" xlink:href=\"#C0_0_4f4a09c604\" y=\"54.614224\"/>\n    </g>\n    <g clip-path=\"url(#pe690e59766)\">\n     <use style=\"fill:#a6cee3;stroke:#a6cee3;stroke-width:0.5;\" x=\"266.010334\" xlink:href=\"#C0_0_4f4a09c604\" y=\"124.688449\"/>\n    </g>\n    <g clip-path=\"url(#pe690e59766)\">\n     <use style=\"fill:#b15928;stroke:#b15928;stroke-width:0.5;\" x=\"560.979055\" xlink:href=\"#C0_0_4f4a09c604\" y=\"147.445076\"/>\n    </g>\n    <g clip-path=\"url(#pe690e59766)\">\n     <use style=\"fill:#b15928;stroke:#b15928;stroke-width:0.5;\" x=\"315.520929\" xlink:href=\"#C0_0_4f4a09c604\" y=\"61.097626\"/>\n    </g>\n    <g clip-path=\"url(#pe690e59766)\">\n     <use style=\"fill:#a6cee3;stroke:#a6cee3;stroke-width:0.5;\" x=\"339.029325\" xlink:href=\"#C0_0_4f4a09c604\" y=\"82.869645\"/>\n    </g>\n    <g clip-path=\"url(#pe690e59766)\">\n     <use style=\"fill:#b15928;stroke:#b15928;stroke-width:0.5;\" x=\"289.01208\" xlink:href=\"#C0_0_4f4a09c604\" y=\"91.237401\"/>\n    </g>\n    <g clip-path=\"url(#pe690e59766)\">\n     <use style=\"fill:#b15928;stroke:#b15928;stroke-width:0.5;\" x=\"197.757238\" xlink:href=\"#C0_0_4f4a09c604\" y=\"40.610786\"/>\n    </g>\n    <g clip-path=\"url(#pe690e59766)\">\n     <use style=\"fill:#a6cee3;stroke:#a6cee3;stroke-width:0.5;\" x=\"317.310221\" xlink:href=\"#C0_0_4f4a09c604\" y=\"132.515902\"/>\n    </g>\n    <g clip-path=\"url(#pe690e59766)\">\n     <use style=\"fill:#b15928;stroke:#b15928;stroke-width:0.5;\" x=\"396.238095\" xlink:href=\"#C0_0_4f4a09c604\" y=\"123.890287\"/>\n    </g>\n    <g clip-path=\"url(#pe690e59766)\">\n     <use style=\"fill:#a6cee3;stroke:#a6cee3;stroke-width:0.5;\" x=\"194.967351\" xlink:href=\"#C0_0_4f4a09c604\" y=\"158.713626\"/>\n    </g>\n    <g clip-path=\"url(#pe690e59766)\">\n     <use style=\"fill:#b15928;stroke:#b15928;stroke-width:0.5;\" x=\"398.993621\" xlink:href=\"#C0_0_4f4a09c604\" y=\"112.054002\"/>\n    </g>\n    <g clip-path=\"url(#pe690e59766)\">\n     <use style=\"fill:#b15928;stroke:#b15928;stroke-width:0.5;\" x=\"315.747099\" xlink:href=\"#C0_0_4f4a09c604\" y=\"63.422367\"/>\n    </g>\n    <g clip-path=\"url(#pe690e59766)\">\n     <use style=\"fill:#a6cee3;stroke:#a6cee3;stroke-width:0.5;\" x=\"215.83572\" xlink:href=\"#C0_0_4f4a09c604\" y=\"134.500741\"/>\n    </g>\n    <g clip-path=\"url(#pe690e59766)\">\n     <use style=\"fill:#b15928;stroke:#b15928;stroke-width:0.5;\" x=\"290.477788\" xlink:href=\"#C0_0_4f4a09c604\" y=\"102.073709\"/>\n    </g>\n    <g clip-path=\"url(#pe690e59766)\">\n     <use style=\"fill:#a6cee3;stroke:#a6cee3;stroke-width:0.5;\" x=\"324.955312\" xlink:href=\"#C0_0_4f4a09c604\" y=\"117.057954\"/>\n    </g>\n    <g clip-path=\"url(#pe690e59766)\">\n     <use style=\"fill:#a6cee3;stroke:#a6cee3;stroke-width:0.5;\" x=\"322.998083\" xlink:href=\"#C0_0_4f4a09c604\" y=\"109.999649\"/>\n    </g>\n    <g clip-path=\"url(#pe690e59766)\">\n     <use style=\"fill:#a6cee3;stroke:#a6cee3;stroke-width:0.5;\" x=\"256.803458\" xlink:href=\"#C0_0_4f4a09c604\" y=\"137.736067\"/>\n    </g>\n    <g clip-path=\"url(#pe690e59766)\">\n     <use style=\"fill:#b15928;stroke:#b15928;stroke-width:0.5;\" x=\"356.815087\" xlink:href=\"#C0_0_4f4a09c604\" y=\"140.798724\"/>\n    </g>\n    <g clip-path=\"url(#pe690e59766)\">\n     <use style=\"fill:#a6cee3;stroke:#a6cee3;stroke-width:0.5;\" x=\"212.764363\" xlink:href=\"#C0_0_4f4a09c604\" y=\"118.056477\"/>\n    </g>\n    <g clip-path=\"url(#pe690e59766)\">\n     <use style=\"fill:#b15928;stroke:#b15928;stroke-width:0.5;\" x=\"313.3361\" xlink:href=\"#C0_0_4f4a09c604\" y=\"17.083636\"/>\n    </g>\n    <g clip-path=\"url(#pe690e59766)\">\n     <use style=\"fill:#b15928;stroke:#b15928;stroke-width:0.5;\" x=\"258.302858\" xlink:href=\"#C0_0_4f4a09c604\" y=\"68.708103\"/>\n    </g>\n    <g clip-path=\"url(#pe690e59766)\">\n     <use style=\"fill:#b15928;stroke:#b15928;stroke-width:0.5;\" x=\"404.367354\" xlink:href=\"#C0_0_4f4a09c604\" y=\"152.512519\"/>\n    </g>\n    <g clip-path=\"url(#pe690e59766)\">\n     <use style=\"fill:#b15928;stroke:#b15928;stroke-width:0.5;\" x=\"406.989538\" xlink:href=\"#C0_0_4f4a09c604\" y=\"152.313471\"/>\n    </g>\n    <g clip-path=\"url(#pe690e59766)\">\n     <use style=\"fill:#b15928;stroke:#b15928;stroke-width:0.5;\" x=\"61.676918\" xlink:href=\"#C0_0_4f4a09c604\" y=\"81.951272\"/>\n    </g>\n    <g clip-path=\"url(#pe690e59766)\">\n     <use style=\"fill:#b15928;stroke:#b15928;stroke-width:0.5;\" x=\"152.549853\" xlink:href=\"#C0_0_4f4a09c604\" y=\"88.058541\"/>\n    </g>\n    <g clip-path=\"url(#pe690e59766)\">\n     <use style=\"fill:#b15928;stroke:#b15928;stroke-width:0.5;\" x=\"260.384273\" xlink:href=\"#C0_0_4f4a09c604\" y=\"40.554969\"/>\n    </g>\n    <g clip-path=\"url(#pe690e59766)\">\n     <use style=\"fill:#b15928;stroke:#b15928;stroke-width:0.5;\" x=\"436.69325\" xlink:href=\"#C0_0_4f4a09c604\" y=\"123.602032\"/>\n    </g>\n    <g clip-path=\"url(#pe690e59766)\">\n     <use style=\"fill:#a6cee3;stroke:#a6cee3;stroke-width:0.5;\" x=\"259.999294\" xlink:href=\"#C0_0_4f4a09c604\" y=\"153.500327\"/>\n    </g>\n    <g clip-path=\"url(#pe690e59766)\">\n     <use style=\"fill:#a6cee3;stroke:#a6cee3;stroke-width:0.5;\" x=\"284.839707\" xlink:href=\"#C0_0_4f4a09c604\" y=\"116.801232\"/>\n    </g>\n    <g clip-path=\"url(#pe690e59766)\">\n     <use style=\"fill:#b15928;stroke:#b15928;stroke-width:0.5;\" x=\"292.508589\" xlink:href=\"#C0_0_4f4a09c604\" y=\"99.623009\"/>\n    </g>\n    <g clip-path=\"url(#pe690e59766)\">\n     <use style=\"fill:#a6cee3;stroke:#a6cee3;stroke-width:0.5;\" x=\"387.398947\" xlink:href=\"#C0_0_4f4a09c604\" y=\"92.03926\"/>\n    </g>\n    <g clip-path=\"url(#pe690e59766)\">\n     <use style=\"fill:#a6cee3;stroke:#a6cee3;stroke-width:0.5;\" x=\"252.322642\" xlink:href=\"#C0_0_4f4a09c604\" y=\"162.293206\"/>\n    </g>\n    <g clip-path=\"url(#pe690e59766)\">\n     <use style=\"fill:#b15928;stroke:#b15928;stroke-width:0.5;\" x=\"466.474026\" xlink:href=\"#C0_0_4f4a09c604\" y=\"132.880289\"/>\n    </g>\n    <g clip-path=\"url(#pe690e59766)\">\n     <use style=\"fill:#a6cee3;stroke:#a6cee3;stroke-width:0.5;\" x=\"263.575132\" xlink:href=\"#C0_0_4f4a09c604\" y=\"126.266987\"/>\n    </g>\n    <g clip-path=\"url(#pe690e59766)\">\n     <use style=\"fill:#a6cee3;stroke:#a6cee3;stroke-width:0.5;\" x=\"143.779379\" xlink:href=\"#C0_0_4f4a09c604\" y=\"124.568449\"/>\n    </g>\n    <g clip-path=\"url(#pe690e59766)\">\n     <use style=\"fill:#b15928;stroke:#b15928;stroke-width:0.5;\" x=\"280.943028\" xlink:href=\"#C0_0_4f4a09c604\" y=\"81.399491\"/>\n    </g>\n    <g clip-path=\"url(#pe690e59766)\">\n     <use style=\"fill:#a6cee3;stroke:#a6cee3;stroke-width:0.5;\" x=\"399.464846\" xlink:href=\"#C0_0_4f4a09c604\" y=\"105.633901\"/>\n    </g>\n    <g clip-path=\"url(#pe690e59766)\">\n     <use style=\"fill:#a6cee3;stroke:#a6cee3;stroke-width:0.5;\" x=\"422.944727\" xlink:href=\"#C0_0_4f4a09c604\" y=\"92.420096\"/>\n    </g>\n    <g clip-path=\"url(#pe690e59766)\">\n     <use style=\"fill:#b15928;stroke:#b15928;stroke-width:0.5;\" x=\"327.620222\" xlink:href=\"#C0_0_4f4a09c604\" y=\"99.456977\"/>\n    </g>\n    <g clip-path=\"url(#pe690e59766)\">\n     <use style=\"fill:#a6cee3;stroke:#a6cee3;stroke-width:0.5;\" x=\"310.017558\" xlink:href=\"#C0_0_4f4a09c604\" y=\"121.301316\"/>\n    </g>\n    <g clip-path=\"url(#pe690e59766)\">\n     <use style=\"fill:#a6cee3;stroke:#a6cee3;stroke-width:0.5;\" x=\"302.263067\" xlink:href=\"#C0_0_4f4a09c604\" y=\"150.117578\"/>\n    </g>\n    <g clip-path=\"url(#pe690e59766)\">\n     <use style=\"fill:#b15928;stroke:#b15928;stroke-width:0.5;\" x=\"357.411196\" xlink:href=\"#C0_0_4f4a09c604\" y=\"144.815938\"/>\n    </g>\n    <g clip-path=\"url(#pe690e59766)\">\n     <use style=\"fill:#b15928;stroke:#b15928;stroke-width:0.5;\" x=\"413.868606\" xlink:href=\"#C0_0_4f4a09c604\" y=\"115.586857\"/>\n    </g>\n    <g clip-path=\"url(#pe690e59766)\">\n     <use style=\"fill:#a6cee3;stroke:#a6cee3;stroke-width:0.5;\" x=\"334.177239\" xlink:href=\"#C0_0_4f4a09c604\" y=\"86.372305\"/>\n    </g>\n    <g clip-path=\"url(#pe690e59766)\">\n     <use style=\"fill:#b15928;stroke:#b15928;stroke-width:0.5;\" x=\"393.917321\" xlink:href=\"#C0_0_4f4a09c604\" y=\"167.514045\"/>\n    </g>\n    <g clip-path=\"url(#pe690e59766)\">\n     <use style=\"fill:#b15928;stroke:#b15928;stroke-width:0.5;\" x=\"308.382739\" xlink:href=\"#C0_0_4f4a09c604\" y=\"71.187476\"/>\n    </g>\n    <g clip-path=\"url(#pe690e59766)\">\n     <use style=\"fill:#b15928;stroke:#b15928;stroke-width:0.5;\" x=\"158.36318\" xlink:href=\"#C0_0_4f4a09c604\" y=\"90.560404\"/>\n    </g>\n    <g clip-path=\"url(#pe690e59766)\">\n     <use style=\"fill:#a6cee3;stroke:#a6cee3;stroke-width:0.5;\" x=\"102.281135\" xlink:href=\"#C0_0_4f4a09c604\" y=\"145.970819\"/>\n    </g>\n    <g clip-path=\"url(#pe690e59766)\">\n     <use style=\"fill:#b15928;stroke:#b15928;stroke-width:0.5;\" x=\"333.084244\" xlink:href=\"#C0_0_4f4a09c604\" y=\"170.897802\"/>\n    </g>\n    <g clip-path=\"url(#pe690e59766)\">\n     <use style=\"fill:#a6cee3;stroke:#a6cee3;stroke-width:0.5;\" x=\"230.052454\" xlink:href=\"#C0_0_4f4a09c604\" y=\"163.631257\"/>\n    </g>\n    <g clip-path=\"url(#pe690e59766)\">\n     <use style=\"fill:#a6cee3;stroke:#a6cee3;stroke-width:0.5;\" x=\"495.005376\" xlink:href=\"#C0_0_4f4a09c604\" y=\"99.327289\"/>\n    </g>\n    <g clip-path=\"url(#pe690e59766)\">\n     <use style=\"fill:#b15928;stroke:#b15928;stroke-width:0.5;\" x=\"386.269052\" xlink:href=\"#C0_0_4f4a09c604\" y=\"114.534156\"/>\n    </g>\n    <g clip-path=\"url(#pe690e59766)\">\n     <use style=\"fill:#a6cee3;stroke:#a6cee3;stroke-width:0.5;\" x=\"293.641561\" xlink:href=\"#C0_0_4f4a09c604\" y=\"169.316169\"/>\n    </g>\n    <g clip-path=\"url(#pe690e59766)\">\n     <use style=\"fill:#a6cee3;stroke:#a6cee3;stroke-width:0.5;\" x=\"299.838147\" xlink:href=\"#C0_0_4f4a09c604\" y=\"135.711875\"/>\n    </g>\n    <g clip-path=\"url(#pe690e59766)\">\n     <use style=\"fill:#a6cee3;stroke:#a6cee3;stroke-width:0.5;\" x=\"415.507698\" xlink:href=\"#C0_0_4f4a09c604\" y=\"60.932136\"/>\n    </g>\n    <g clip-path=\"url(#pe690e59766)\">\n     <use style=\"fill:#a6cee3;stroke:#a6cee3;stroke-width:0.5;\" x=\"476.740257\" xlink:href=\"#C0_0_4f4a09c604\" y=\"72.27333\"/>\n    </g>\n   </g>\n   <g id=\"patch_3\">\n    <path d=\"M 36.313281 224.64 \nL 36.313281 7.2 \n\" style=\"fill:none;stroke:#ffffff;stroke-linecap:square;stroke-linejoin:miter;\"/>\n   </g>\n   <g id=\"patch_4\">\n    <path d=\"M 594.313281 224.64 \nL 594.313281 7.2 \n\" style=\"fill:none;stroke:#ffffff;stroke-linecap:square;stroke-linejoin:miter;\"/>\n   </g>\n   <g id=\"patch_5\">\n    <path d=\"M 36.313281 224.64 \nL 594.313281 224.64 \n\" style=\"fill:none;stroke:#ffffff;stroke-linecap:square;stroke-linejoin:miter;\"/>\n   </g>\n   <g id=\"patch_6\">\n    <path d=\"M 36.313281 7.2 \nL 594.313281 7.2 \n\" style=\"fill:none;stroke:#ffffff;stroke-linecap:square;stroke-linejoin:miter;\"/>\n   </g>\n  </g>\n </g>\n <defs>\n  <clipPath id=\"pe690e59766\">\n   <rect height=\"217.44\" width=\"558\" x=\"36.313281\" y=\"7.2\"/>\n  </clipPath>\n </defs>\n</svg>\n",
      "image/png": "[encoded data removed]"
     },
     "metadata": {}
    }
   ],
   "source": [
    "# порождаем данные\n",
    "rng = np.random.RandomState(0)\n",
    "X = rng.randn(200, 2)\n",
    "y = np.logical_xor(X[:, 0] > 0, X[:, 1] > 0)\n",
    "plt.scatter(X[:, 0], X[:, 1], s=30, c=y, cmap=plt.cm.Paired)\n",
    "plt.show()"
   ]
  },
  {
   "cell_type": "code",
   "execution_count": 41,
   "metadata": {
    "button": false,
    "colab": {},
    "colab_type": "code",
    "id": "SalrmG9bgi2L",
    "new_sheet": false,
    "run_control": {
     "read_only": false
    }
   },
   "outputs": [],
   "source": [
    "import warnings\n",
    "warnings.filterwarnings('ignore')"
   ]
  },
  {
   "cell_type": "code",
   "execution_count": 42,
   "metadata": {
    "button": false,
    "colab": {},
    "colab_type": "code",
    "id": "O8r79rQTgi2N",
    "new_sheet": false,
    "run_control": {
     "read_only": false
    }
   },
   "outputs": [],
   "source": [
    "# Функция рисует плоскость согласно предсказаниям классификатора clf\n",
    "def plot_boundary(clf, X, y, plot_title):\n",
    "    xx, yy = np.meshgrid(np.linspace(-3, 3, 50),\n",
    "                     np.linspace(-3, 3, 50))\n",
    "    clf.fit(X, y)\n",
    "    # plot the decision function for each datapoint on the grid\n",
    "    Z = clf.predict_proba(np.vstack((xx.ravel(), yy.ravel())).T)[:, 1]\n",
    "    Z = Z.reshape(xx.shape)\n",
    "\n",
    "    image = plt.imshow(Z, interpolation='nearest',\n",
    "                           extent=(xx.min(), xx.max(), yy.min(), yy.max()),\n",
    "                           aspect='auto', origin='lower', cmap=plt.cm.PuOr_r)\n",
    "    contours = plt.contour(xx, yy, Z, levels=[0], linewidths=2,\n",
    "                               linetypes='--')\n",
    "    plt.scatter(X[:, 0], X[:, 1], s=30, c=y, cmap=plt.cm.Paired)\n",
    "    plt.xticks(())\n",
    "    plt.yticks(())\n",
    "    plt.xlabel(r'$x_1$')\n",
    "    plt.ylabel(r'$x_2$')\n",
    "    plt.axis([-3, 3, -3, 3])\n",
    "    plt.colorbar(image)\n",
    "    plt.title(plot_title, fontsize=12);"
   ]
  },
  {
   "cell_type": "code",
   "execution_count": 43,
   "metadata": {
    "button": false,
    "colab": {},
    "colab_type": "code",
    "id": "EMUWaXTSgi2Q",
    "new_sheet": false,
    "run_control": {
     "read_only": false
    }
   },
   "outputs": [],
   "source": [
    "from sklearn.linear_model import LogisticRegression"
   ]
  },
  {
   "cell_type": "code",
   "execution_count": 44,
   "metadata": {
    "button": false,
    "colab": {},
    "colab_type": "code",
    "id": "It32CLODgi2T",
    "new_sheet": false,
    "outputId": "6f426da4-95d0-4489-99bc-d6cbfae2baf0",
    "run_control": {
     "read_only": false
    }
   },
   "outputs": [
    {
     "output_type": "stream",
     "name": "stderr",
     "text": [
      "findfont: Font family ['serif'] not found. Falling back to DejaVu Sans.\n",
      "findfont: Font family ['serif'] not found. Falling back to DejaVu Sans.\n",
      "findfont: Font family ['serif'] not found. Falling back to DejaVu Sans.\n"
     ]
    },
    {
     "output_type": "display_data",
     "data": {
      "text/plain": "<Figure size 720x288 with 2 Axes>",
      "image/svg+xml": "<?xml version=\"1.0\" encoding=\"utf-8\" standalone=\"no\"?>\n<!DOCTYPE svg PUBLIC \"-//W3C//DTD SVG 1.1//EN\"\n  \"http://www.w3.org/Graphics/SVG/1.1/DTD/svg11.dtd\">\n<!-- Created with matplotlib (https://matplotlib.org/) -->\n<svg height=\"260.63625pt\" version=\"1.1\" viewBox=\"0 0 544.104813 260.63625\" width=\"544.104813pt\" xmlns=\"http://www.w3.org/2000/svg\" xmlns:xlink=\"http://www.w3.org/1999/xlink\">\n <defs>\n  <style type=\"text/css\">\n*{stroke-linecap:butt;stroke-linejoin:round;}\n  </style>\n </defs>\n <g id=\"figure_1\">\n  <g id=\"patch_1\">\n   <path d=\"M 0 260.63625 \nL 544.104813 260.63625 \nL 544.104813 0 \nL 0 0 \nz\n\" style=\"fill:#ffffff;\"/>\n  </g>\n  <g id=\"axes_1\">\n   <g id=\"patch_2\">\n    <path d=\"M 20.878125 239.758125 \nL 467.278125 239.758125 \nL 467.278125 22.318125 \nL 20.878125 22.318125 \nz\n\" style=\"fill:#e5e5e5;\"/>\n   </g>\n   <g clip-path=\"url(#p466e63fa41)\">\n    <image height=\"218\" id=\"image25ed05721f\" transform=\"scale(1 -1)translate(0 -218)\" width=\"447\" x=\"20.878125\" xlink:href=\"data:image/png;base64,\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\" y=\"-21.758125\"/>\n   </g>\n   <g id=\"matplotlib.axis_1\">\n    <g id=\"text_1\">\n     <!-- $x_1$ -->\n     <defs>\n      <path d=\"M 60.015625 54.6875 \nL 34.90625 27.875 \nL 50.296875 0 \nL 39.984375 0 \nL 28.421875 21.6875 \nL 8.296875 0 \nL -2.59375 0 \nL 24.3125 28.8125 \nL 10.015625 54.6875 \nL 20.3125 54.6875 \nL 30.8125 34.90625 \nL 49.125 54.6875 \nz\n\" id=\"DejaVuSans-Oblique-120\"/>\n      <path d=\"M 12.40625 8.296875 \nL 28.515625 8.296875 \nL 28.515625 63.921875 \nL 10.984375 60.40625 \nL 10.984375 69.390625 \nL 28.421875 72.90625 \nL 38.28125 72.90625 \nL 38.28125 8.296875 \nL 54.390625 8.296875 \nL 54.390625 0 \nL 12.40625 0 \nz\n\" id=\"DejaVuSans-49\"/>\n     </defs>\n     <g style=\"fill:#555555;\" transform=\"translate(238.728125 251.356563)scale(0.1 -0.1)\">\n      <use transform=\"translate(0 0.3125)\" xlink:href=\"#DejaVuSans-Oblique-120\"/>\n      <use transform=\"translate(59.179688 -16.09375)scale(0.7)\" xlink:href=\"#DejaVuSans-49\"/>\n     </g>\n    </g>\n   </g>\n   <g id=\"matplotlib.axis_2\">\n    <g id=\"text_2\">\n     <!-- $x_2$ -->\n     <defs>\n      <path d=\"M 19.1875 8.296875 \nL 53.609375 8.296875 \nL 53.609375 0 \nL 7.328125 0 \nL 7.328125 8.296875 \nQ 12.9375 14.109375 22.625 23.890625 \nQ 32.328125 33.6875 34.8125 36.53125 \nQ 39.546875 41.84375 41.421875 45.53125 \nQ 43.3125 49.21875 43.3125 52.78125 \nQ 43.3125 58.59375 39.234375 62.25 \nQ 35.15625 65.921875 28.609375 65.921875 \nQ 23.96875 65.921875 18.8125 64.3125 \nQ 13.671875 62.703125 7.8125 59.421875 \nL 7.8125 69.390625 \nQ 13.765625 71.78125 18.9375 73 \nQ 24.125 74.21875 28.421875 74.21875 \nQ 39.75 74.21875 46.484375 68.546875 \nQ 53.21875 62.890625 53.21875 53.421875 \nQ 53.21875 48.921875 51.53125 44.890625 \nQ 49.859375 40.875 45.40625 35.40625 \nQ 44.1875 33.984375 37.640625 27.21875 \nQ 31.109375 20.453125 19.1875 8.296875 \nz\n\" id=\"DejaVuSans-50\"/>\n     </defs>\n     <g style=\"fill:#555555;\" transform=\"translate(14.798437 136.388125)rotate(-90)scale(0.1 -0.1)\">\n      <use transform=\"translate(0 0.3125)\" xlink:href=\"#DejaVuSans-Oblique-120\"/>\n      <use transform=\"translate(59.179688 -16.09375)scale(0.7)\" xlink:href=\"#DejaVuSans-50\"/>\n     </g>\n    </g>\n   </g>\n   <g id=\"PathCollection_1\">\n    <defs>\n     <path d=\"M 0 2.738613 \nC 0.726289 2.738613 1.422928 2.450055 1.936492 1.936492 \nC 2.450055 1.422928 2.738613 0.726289 2.738613 0 \nC 2.738613 -0.726289 2.450055 -1.422928 1.936492 -1.936492 \nC 1.422928 -2.450055 0.726289 -2.738613 0 -2.738613 \nC -0.726289 -2.738613 -1.422928 -2.450055 -1.936492 -1.936492 \nC -2.450055 -1.422928 -2.738613 -0.726289 -2.738613 0 \nC -2.738613 0.726289 -2.450055 1.422928 -1.936492 1.936492 \nC -1.422928 2.450055 -0.726289 2.738613 0 2.738613 \nz\n\" id=\"C0_0_ff87ed2dc2\"/>\n    </defs>\n    <g clip-path=\"url(#p466e63fa41)\">\n     <use style=\"fill:#a6cee3;stroke:#a6cee3;stroke-width:0.5;\" x=\"375.32362\" xlink:href=\"#C0_0_ff87ed2dc2\" y=\"116.536428\"/>\n    </g>\n    <g clip-path=\"url(#p466e63fa41)\">\n     <use style=\"fill:#a6cee3;stroke:#a6cee3;stroke-width:0.5;\" x=\"316.896231\" xlink:href=\"#C0_0_ff87ed2dc2\" y=\"49.828155\"/>\n    </g>\n    <g clip-path=\"url(#p466e63fa41)\">\n     <use style=\"fill:#b15928;stroke:#b15928;stroke-width:0.5;\" x=\"383.024439\" xlink:href=\"#C0_0_ff87ed2dc2\" y=\"166.454675\"/>\n    </g>\n    <g clip-path=\"url(#p466e63fa41)\">\n     <use style=\"fill:#b15928;stroke:#b15928;stroke-width:0.5;\" x=\"314.764703\" xlink:href=\"#C0_0_ff87ed2dc2\" y=\"136.52331\"/>\n    </g>\n    <g clip-path=\"url(#p466e63fa41)\">\n     <use style=\"fill:#b15928;stroke:#b15928;stroke-width:0.5;\" x=\"236.398642\" xlink:href=\"#C0_0_ff87ed2dc2\" y=\"116.158035\"/>\n    </g>\n    <g clip-path=\"url(#p466e63fa41)\">\n     <use style=\"fill:#a6cee3;stroke:#a6cee3;stroke-width:0.5;\" x=\"254.794967\" xlink:href=\"#C0_0_ff87ed2dc2\" y=\"78.335253\"/>\n    </g>\n    <g clip-path=\"url(#p466e63fa41)\">\n     <use style=\"fill:#a6cee3;stroke:#a6cee3;stroke-width:0.5;\" x=\"300.699332\" xlink:href=\"#C0_0_ff87ed2dc2\" y=\"126.628622\"/>\n    </g>\n    <g clip-path=\"url(#p466e63fa41)\">\n     <use style=\"fill:#a6cee3;stroke:#a6cee3;stroke-width:0.5;\" x=\"277.10155\" xlink:href=\"#C0_0_ff87ed2dc2\" y=\"118.945767\"/>\n    </g>\n    <g clip-path=\"url(#p466e63fa41)\">\n     <use style=\"fill:#b15928;stroke:#b15928;stroke-width:0.5;\" x=\"355.237608\" xlink:href=\"#C0_0_ff87ed2dc2\" y=\"138.47306\"/>\n    </g>\n    <g clip-path=\"url(#p466e63fa41)\">\n     <use style=\"fill:#b15928;stroke:#b15928;stroke-width:0.5;\" x=\"267.370362\" xlink:href=\"#C0_0_ff87ed2dc2\" y=\"161.990555\"/>\n    </g>\n    <g clip-path=\"url(#p466e63fa41)\">\n     <use style=\"fill:#b15928;stroke:#b15928;stroke-width:0.5;\" x=\"54.135683\" xlink:href=\"#C0_0_ff87ed2dc2\" y=\"107.350987\"/>\n    </g>\n    <g clip-path=\"url(#p466e63fa41)\">\n     <use style=\"fill:#b15928;stroke:#b15928;stroke-width:0.5;\" x=\"308.392178\" xlink:href=\"#C0_0_ff87ed2dc2\" y=\"157.934185\"/>\n    </g>\n    <g clip-path=\"url(#p466e63fa41)\">\n     <use style=\"fill:#b15928;stroke:#b15928;stroke-width:0.5;\" x=\"412.947869\" xlink:href=\"#C0_0_ff87ed2dc2\" y=\"183.744337\"/>\n    </g>\n    <g clip-path=\"url(#p466e63fa41)\">\n     <use style=\"fill:#b15928;stroke:#b15928;stroke-width:0.5;\" x=\"247.482559\" xlink:href=\"#C0_0_ff87ed2dc2\" y=\"137.821668\"/>\n    </g>\n    <g clip-path=\"url(#p466e63fa41)\">\n     <use style=\"fill:#a6cee3;stroke:#a6cee3;stroke-width:0.5;\" x=\"358.116899\" xlink:href=\"#C0_0_ff87ed2dc2\" y=\"77.788563\"/>\n    </g>\n    <g clip-path=\"url(#p466e63fa41)\">\n     <use style=\"fill:#a6cee3;stroke:#a6cee3;stroke-width:0.5;\" x=\"255.606213\" xlink:href=\"#C0_0_ff87ed2dc2\" y=\"117.333515\"/>\n    </g>\n    <g clip-path=\"url(#p466e63fa41)\">\n     <use style=\"fill:#a6cee3;stroke:#a6cee3;stroke-width:0.5;\" x=\"178.026865\" xlink:href=\"#C0_0_ff87ed2dc2\" y=\"202.822189\"/>\n    </g>\n    <g clip-path=\"url(#p466e63fa41)\">\n     <use style=\"fill:#b15928;stroke:#b15928;stroke-width:0.5;\" x=\"218.193461\" xlink:href=\"#C0_0_ff87ed2dc2\" y=\"125.372038\"/>\n    </g>\n    <g clip-path=\"url(#p466e63fa41)\">\n     <use style=\"fill:#a6cee3;stroke:#a6cee3;stroke-width:0.5;\" x=\"335.611752\" xlink:href=\"#C0_0_ff87ed2dc2\" y=\"87.463879\"/>\n    </g>\n    <g clip-path=\"url(#p466e63fa41)\">\n     <use style=\"fill:#a6cee3;stroke:#a6cee3;stroke-width:0.5;\" x=\"215.26101\" xlink:href=\"#C0_0_ff87ed2dc2\" y=\"141.993577\"/>\n    </g>\n    <g clip-path=\"url(#p466e63fa41)\">\n     <use style=\"fill:#a6cee3;stroke:#a6cee3;stroke-width:0.5;\" x=\"166.065784\" xlink:href=\"#C0_0_ff87ed2dc2\" y=\"182.499575\"/>\n    </g>\n    <g clip-path=\"url(#p466e63fa41)\">\n     <use style=\"fill:#b15928;stroke:#b15928;stroke-width:0.5;\" x=\"117.131623\" xlink:href=\"#C0_0_ff87ed2dc2\" y=\"60.342025\"/>\n    </g>\n    <g clip-path=\"url(#p466e63fa41)\">\n     <use style=\"fill:#a6cee3;stroke:#a6cee3;stroke-width:0.5;\" x=\"206.160003\" xlink:href=\"#C0_0_ff87ed2dc2\" y=\"146.913938\"/>\n    </g>\n    <g clip-path=\"url(#p466e63fa41)\">\n     <use style=\"fill:#b15928;stroke:#b15928;stroke-width:0.5;\" x=\"150.87015\" xlink:href=\"#C0_0_ff87ed2dc2\" y=\"102.861875\"/>\n    </g>\n    <g clip-path=\"url(#p466e63fa41)\">\n     <use style=\"fill:#a6cee3;stroke:#a6cee3;stroke-width:0.5;\" x=\"124.004125\" xlink:href=\"#C0_0_ff87ed2dc2\" y=\"138.747833\"/>\n    </g>\n    <g clip-path=\"url(#p466e63fa41)\">\n     <use style=\"fill:#b15928;stroke:#b15928;stroke-width:0.5;\" x=\"177.455413\" xlink:href=\"#C0_0_ff87ed2dc2\" y=\"117.016778\"/>\n    </g>\n    <g clip-path=\"url(#p466e63fa41)\">\n     <use style=\"fill:#a6cee3;stroke:#a6cee3;stroke-width:0.5;\" x=\"206.074223\" xlink:href=\"#C0_0_ff87ed2dc2\" y=\"173.824235\"/>\n    </g>\n    <g clip-path=\"url(#p466e63fa41)\">\n     <use style=\"fill:#b15928;stroke:#b15928;stroke-width:0.5;\" x=\"241.981367\" xlink:href=\"#C0_0_ff87ed2dc2\" y=\"115.515378\"/>\n    </g>\n    <g clip-path=\"url(#p466e63fa41)\">\n     <use style=\"fill:#a6cee3;stroke:#a6cee3;stroke-width:0.5;\" x=\"249.027006\" xlink:href=\"#C0_0_ff87ed2dc2\" y=\"120.076543\"/>\n    </g>\n    <g clip-path=\"url(#p466e63fa41)\">\n     <use style=\"fill:#a6cee3;stroke:#a6cee3;stroke-width:0.5;\" x=\"196.884561\" xlink:href=\"#C0_0_ff87ed2dc2\" y=\"144.183865\"/>\n    </g>\n    <g clip-path=\"url(#p466e63fa41)\">\n     <use style=\"fill:#a6cee3;stroke:#a6cee3;stroke-width:0.5;\" x=\"194.047068\" xlink:href=\"#C0_0_ff87ed2dc2\" y=\"144.068332\"/>\n    </g>\n    <g clip-path=\"url(#p466e63fa41)\">\n     <use style=\"fill:#a6cee3;stroke:#a6cee3;stroke-width:0.5;\" x=\"183.580042\" xlink:href=\"#C0_0_ff87ed2dc2\" y=\"193.598607\"/>\n    </g>\n    <g clip-path=\"url(#p466e63fa41)\">\n     <use style=\"fill:#b15928;stroke:#b15928;stroke-width:0.5;\" x=\"257.27863\" xlink:href=\"#C0_0_ff87ed2dc2\" y=\"145.598666\"/>\n    </g>\n    <g clip-path=\"url(#p466e63fa41)\">\n     <use style=\"fill:#b15928;stroke:#b15928;stroke-width:0.5;\" x=\"122.791368\" xlink:href=\"#C0_0_ff87ed2dc2\" y=\"114.266896\"/>\n    </g>\n    <g clip-path=\"url(#p466e63fa41)\">\n     <use style=\"fill:#b15928;stroke:#b15928;stroke-width:0.5;\" x=\"176.575127\" xlink:href=\"#C0_0_ff87ed2dc2\" y=\"129.155624\"/>\n    </g>\n    <g clip-path=\"url(#p466e63fa41)\">\n     <use style=\"fill:#a6cee3;stroke:#a6cee3;stroke-width:0.5;\" x=\"298.322463\" xlink:href=\"#C0_0_ff87ed2dc2\" y=\"126.363784\"/>\n    </g>\n    <g clip-path=\"url(#p466e63fa41)\">\n     <use style=\"fill:#b15928;stroke:#b15928;stroke-width:0.5;\" x=\"328.849536\" xlink:href=\"#C0_0_ff87ed2dc2\" y=\"175.788213\"/>\n    </g>\n    <g clip-path=\"url(#p466e63fa41)\">\n     <use style=\"fill:#b15928;stroke:#b15928;stroke-width:0.5;\" x=\"274.012343\" xlink:href=\"#C0_0_ff87ed2dc2\" y=\"155.855643\"/>\n    </g>\n    <g clip-path=\"url(#p466e63fa41)\">\n     <use style=\"fill:#a6cee3;stroke:#a6cee3;stroke-width:0.5;\" x=\"179.290817\" xlink:href=\"#C0_0_ff87ed2dc2\" y=\"152.015637\"/>\n    </g>\n    <g clip-path=\"url(#p466e63fa41)\">\n     <use style=\"fill:#b15928;stroke:#b15928;stroke-width:0.5;\" x=\"220.898617\" xlink:href=\"#C0_0_ff87ed2dc2\" y=\"129.002693\"/>\n    </g>\n    <g clip-path=\"url(#p466e63fa41)\">\n     <use style=\"fill:#b15928;stroke:#b15928;stroke-width:0.5;\" x=\"157.390977\" xlink:href=\"#C0_0_ff87ed2dc2\" y=\"98.392173\"/>\n    </g>\n    <g clip-path=\"url(#p466e63fa41)\">\n     <use style=\"fill:#b15928;stroke:#b15928;stroke-width:0.5;\" x=\"278.723411\" xlink:href=\"#C0_0_ff87ed2dc2\" y=\"186.711596\"/>\n    </g>\n    <g clip-path=\"url(#p466e63fa41)\">\n     <use style=\"fill:#a6cee3;stroke:#a6cee3;stroke-width:0.5;\" x=\"354.804088\" xlink:href=\"#C0_0_ff87ed2dc2\" y=\"62.331101\"/>\n    </g>\n    <g clip-path=\"url(#p466e63fa41)\">\n     <use style=\"fill:#b15928;stroke:#b15928;stroke-width:0.5;\" x=\"331.779325\" xlink:href=\"#C0_0_ff87ed2dc2\" y=\"137.558601\"/>\n    </g>\n    <g clip-path=\"url(#p466e63fa41)\">\n     <use style=\"fill:#b15928;stroke:#b15928;stroke-width:0.5;\" x=\"164.41413\" xlink:href=\"#C0_0_ff87ed2dc2\" y=\"92.824794\"/>\n    </g>\n    <g clip-path=\"url(#p466e63fa41)\">\n     <use style=\"fill:#b15928;stroke:#b15928;stroke-width:0.5;\" x=\"214.08176\" xlink:href=\"#C0_0_ff87ed2dc2\" y=\"86.736716\"/>\n    </g>\n    <g clip-path=\"url(#p466e63fa41)\">\n     <use style=\"fill:#a6cee3;stroke:#a6cee3;stroke-width:0.5;\" x=\"259.573783\" xlink:href=\"#C0_0_ff87ed2dc2\" y=\"95.644726\"/>\n    </g>\n    <g clip-path=\"url(#p466e63fa41)\">\n     <use style=\"fill:#a6cee3;stroke:#a6cee3;stroke-width:0.5;\" x=\"270.591785\" xlink:href=\"#C0_0_ff87ed2dc2\" y=\"105.431913\"/>\n    </g>\n    <g clip-path=\"url(#p466e63fa41)\">\n     <use style=\"fill:#a6cee3;stroke:#a6cee3;stroke-width:0.5;\" x=\"244.859327\" xlink:href=\"#C0_0_ff87ed2dc2\" y=\"66.318178\"/>\n    </g>\n    <g clip-path=\"url(#p466e63fa41)\">\n     <use style=\"fill:#a6cee3;stroke:#a6cee3;stroke-width:0.5;\" x=\"253.520385\" xlink:href=\"#C0_0_ff87ed2dc2\" y=\"116.47003\"/>\n    </g>\n    <g clip-path=\"url(#p466e63fa41)\">\n     <use style=\"fill:#b15928;stroke:#b15928;stroke-width:0.5;\" x=\"384.184537\" xlink:href=\"#C0_0_ff87ed2dc2\" y=\"179.880913\"/>\n    </g>\n    <g clip-path=\"url(#p466e63fa41)\">\n     <use style=\"fill:#b15928;stroke:#b15928;stroke-width:0.5;\" x=\"149.554041\" xlink:href=\"#C0_0_ff87ed2dc2\" y=\"95.907188\"/>\n    </g>\n    <g clip-path=\"url(#p466e63fa41)\">\n     <use style=\"fill:#b15928;stroke:#b15928;stroke-width:0.5;\" x=\"156.797744\" xlink:href=\"#C0_0_ff87ed2dc2\" y=\"60.601293\"/>\n    </g>\n    <g clip-path=\"url(#p466e63fa41)\">\n     <use style=\"fill:#a6cee3;stroke:#a6cee3;stroke-width:0.5;\" x=\"213.304873\" xlink:href=\"#C0_0_ff87ed2dc2\" y=\"158.125887\"/>\n    </g>\n    <g clip-path=\"url(#p466e63fa41)\">\n     <use style=\"fill:#a6cee3;stroke:#a6cee3;stroke-width:0.5;\" x=\"387.145012\" xlink:href=\"#C0_0_ff87ed2dc2\" y=\"77.384269\"/>\n    </g>\n    <g clip-path=\"url(#p466e63fa41)\">\n     <use style=\"fill:#a6cee3;stroke:#a6cee3;stroke-width:0.5;\" x=\"383.024512\" xlink:href=\"#C0_0_ff87ed2dc2\" y=\"98.203067\"/>\n    </g>\n    <g clip-path=\"url(#p466e63fa41)\">\n     <use style=\"fill:#b15928;stroke:#b15928;stroke-width:0.5;\" x=\"180.002934\" xlink:href=\"#C0_0_ff87ed2dc2\" y=\"61.817371\"/>\n    </g>\n    <g clip-path=\"url(#p466e63fa41)\">\n     <use style=\"fill:#b15928;stroke:#b15928;stroke-width:0.5;\" x=\"224.138674\" xlink:href=\"#C0_0_ff87ed2dc2\" y=\"101.957105\"/>\n    </g>\n    <g clip-path=\"url(#p466e63fa41)\">\n     <use style=\"fill:#b15928;stroke:#b15928;stroke-width:0.5;\" x=\"314.553671\" xlink:href=\"#C0_0_ff87ed2dc2\" y=\"136.655691\"/>\n    </g>\n    <g clip-path=\"url(#p466e63fa41)\">\n     <use style=\"fill:#a6cee3;stroke:#a6cee3;stroke-width:0.5;\" x=\"289.76563\" xlink:href=\"#C0_0_ff87ed2dc2\" y=\"97.617355\"/>\n    </g>\n    <g clip-path=\"url(#p466e63fa41)\">\n     <use style=\"fill:#b15928;stroke:#b15928;stroke-width:0.5;\" x=\"272.084185\" xlink:href=\"#C0_0_ff87ed2dc2\" y=\"170.88041\"/>\n    </g>\n    <g clip-path=\"url(#p466e63fa41)\">\n     <use style=\"fill:#a6cee3;stroke:#a6cee3;stroke-width:0.5;\" x=\"266.267045\" xlink:href=\"#C0_0_ff87ed2dc2\" y=\"82.9699\"/>\n    </g>\n    <g clip-path=\"url(#p466e63fa41)\">\n     <use style=\"fill:#a6cee3;stroke:#a6cee3;stroke-width:0.5;\" x=\"192.402276\" xlink:href=\"#C0_0_ff87ed2dc2\" y=\"136.460881\"/>\n    </g>\n    <g clip-path=\"url(#p466e63fa41)\">\n     <use style=\"fill:#b15928;stroke:#b15928;stroke-width:0.5;\" x=\"211.702701\" xlink:href=\"#C0_0_ff87ed2dc2\" y=\"64.020807\"/>\n    </g>\n    <g clip-path=\"url(#p466e63fa41)\">\n     <use style=\"fill:#a6cee3;stroke:#a6cee3;stroke-width:0.5;\" x=\"294.096855\" xlink:href=\"#C0_0_ff87ed2dc2\" y=\"116.271708\"/>\n    </g>\n    <g clip-path=\"url(#p466e63fa41)\">\n     <use style=\"fill:#b15928;stroke:#b15928;stroke-width:0.5;\" x=\"186.796369\" xlink:href=\"#C0_0_ff87ed2dc2\" y=\"111.495734\"/>\n    </g>\n    <g clip-path=\"url(#p466e63fa41)\">\n     <use style=\"fill:#b15928;stroke:#b15928;stroke-width:0.5;\" x=\"193.907775\" xlink:href=\"#C0_0_ff87ed2dc2\" y=\"129.884586\"/>\n    </g>\n    <g clip-path=\"url(#p466e63fa41)\">\n     <use style=\"fill:#b15928;stroke:#b15928;stroke-width:0.5;\" x=\"196.771177\" xlink:href=\"#C0_0_ff87ed2dc2\" y=\"106.524182\"/>\n    </g>\n    <g clip-path=\"url(#p466e63fa41)\">\n     <use style=\"fill:#b15928;stroke:#b15928;stroke-width:0.5;\" x=\"286.976482\" xlink:href=\"#C0_0_ff87ed2dc2\" y=\"138.586872\"/>\n    </g>\n    <g clip-path=\"url(#p466e63fa41)\">\n     <use style=\"fill:#b15928;stroke:#b15928;stroke-width:0.5;\" x=\"273.541024\" xlink:href=\"#C0_0_ff87ed2dc2\" y=\"170.650674\"/>\n    </g>\n    <g clip-path=\"url(#p466e63fa41)\">\n     <use style=\"fill:#b15928;stroke:#b15928;stroke-width:0.5;\" x=\"133.12856\" xlink:href=\"#C0_0_ff87ed2dc2\" y=\"115.11457\"/>\n    </g>\n    <g clip-path=\"url(#p466e63fa41)\">\n     <use style=\"fill:#a6cee3;stroke:#a6cee3;stroke-width:0.5;\" x=\"256.478633\" xlink:href=\"#C0_0_ff87ed2dc2\" y=\"108.024586\"/>\n    </g>\n    <g clip-path=\"url(#p466e63fa41)\">\n     <use style=\"fill:#a6cee3;stroke:#a6cee3;stroke-width:0.5;\" x=\"421.384096\" xlink:href=\"#C0_0_ff87ed2dc2\" y=\"96.810188\"/>\n    </g>\n    <g clip-path=\"url(#p466e63fa41)\">\n     <use style=\"fill:#b15928;stroke:#b15928;stroke-width:0.5;\" x=\"176.164151\" xlink:href=\"#C0_0_ff87ed2dc2\" y=\"90.557455\"/>\n    </g>\n    <g clip-path=\"url(#p466e63fa41)\">\n     <use style=\"fill:#a6cee3;stroke:#a6cee3;stroke-width:0.5;\" x=\"146.174614\" xlink:href=\"#C0_0_ff87ed2dc2\" y=\"147.765951\"/>\n    </g>\n    <g clip-path=\"url(#p466e63fa41)\">\n     <use style=\"fill:#b15928;stroke:#b15928;stroke-width:0.5;\" x=\"239.00095\" xlink:href=\"#C0_0_ff87ed2dc2\" y=\"68.946585\"/>\n    </g>\n    <g clip-path=\"url(#p466e63fa41)\">\n     <use style=\"fill:#a6cee3;stroke:#a6cee3;stroke-width:0.5;\" x=\"188.668366\" xlink:href=\"#C0_0_ff87ed2dc2\" y=\"160.988258\"/>\n    </g>\n    <g clip-path=\"url(#p466e63fa41)\">\n     <use style=\"fill:#a6cee3;stroke:#a6cee3;stroke-width:0.5;\" x=\"236.753257\" xlink:href=\"#C0_0_ff87ed2dc2\" y=\"155.082578\"/>\n    </g>\n    <g clip-path=\"url(#p466e63fa41)\">\n     <use style=\"fill:#b15928;stroke:#b15928;stroke-width:0.5;\" x=\"327.899838\" xlink:href=\"#C0_0_ff87ed2dc2\" y=\"170.174843\"/>\n    </g>\n    <g clip-path=\"url(#p466e63fa41)\">\n     <use style=\"fill:#a6cee3;stroke:#a6cee3;stroke-width:0.5;\" x=\"158.706457\" xlink:href=\"#C0_0_ff87ed2dc2\" y=\"146.904723\"/>\n    </g>\n    <g clip-path=\"url(#p466e63fa41)\">\n     <use style=\"fill:#b15928;stroke:#b15928;stroke-width:0.5;\" x=\"207.024511\" xlink:href=\"#C0_0_ff87ed2dc2\" y=\"61.111883\"/>\n    </g>\n    <g clip-path=\"url(#p466e63fa41)\">\n     <use style=\"fill:#a6cee3;stroke:#a6cee3;stroke-width:0.5;\" x=\"314.715033\" xlink:href=\"#C0_0_ff87ed2dc2\" y=\"127.865268\"/>\n    </g>\n    <g clip-path=\"url(#p466e63fa41)\">\n     <use style=\"fill:#b15928;stroke:#b15928;stroke-width:0.5;\" x=\"152.905722\" xlink:href=\"#C0_0_ff87ed2dc2\" y=\"100.438411\"/>\n    </g>\n    <g clip-path=\"url(#p466e63fa41)\">\n     <use style=\"fill:#a6cee3;stroke:#a6cee3;stroke-width:0.5;\" x=\"169.662103\" xlink:href=\"#C0_0_ff87ed2dc2\" y=\"187.02063\"/>\n    </g>\n    <g clip-path=\"url(#p466e63fa41)\">\n     <use style=\"fill:#a6cee3;stroke:#a6cee3;stroke-width:0.5;\" x=\"332.467542\" xlink:href=\"#C0_0_ff87ed2dc2\" y=\"119.552125\"/>\n    </g>\n    <g clip-path=\"url(#p466e63fa41)\">\n     <use style=\"fill:#a6cee3;stroke:#a6cee3;stroke-width:0.5;\" x=\"312.590021\" xlink:href=\"#C0_0_ff87ed2dc2\" y=\"119.487435\"/>\n    </g>\n    <g clip-path=\"url(#p466e63fa41)\">\n     <use style=\"fill:#b15928;stroke:#b15928;stroke-width:0.5;\" x=\"307.826323\" xlink:href=\"#C0_0_ff87ed2dc2\" y=\"154.631293\"/>\n    </g>\n    <g clip-path=\"url(#p466e63fa41)\">\n     <use style=\"fill:#b15928;stroke:#b15928;stroke-width:0.5;\" x=\"167.130458\" xlink:href=\"#C0_0_ff87ed2dc2\" y=\"106.33714\"/>\n    </g>\n    <g clip-path=\"url(#p466e63fa41)\">\n     <use style=\"fill:#a6cee3;stroke:#a6cee3;stroke-width:0.5;\" x=\"184.304446\" xlink:href=\"#C0_0_ff87ed2dc2\" y=\"156.027409\"/>\n    </g>\n    <g clip-path=\"url(#p466e63fa41)\">\n     <use style=\"fill:#b15928;stroke:#b15928;stroke-width:0.5;\" x=\"210.186507\" xlink:href=\"#C0_0_ff87ed2dc2\" y=\"130.40468\"/>\n    </g>\n    <g clip-path=\"url(#p466e63fa41)\">\n     <use style=\"fill:#a6cee3;stroke:#a6cee3;stroke-width:0.5;\" x=\"217.740978\" xlink:href=\"#C0_0_ff87ed2dc2\" y=\"180.86636\"/>\n    </g>\n    <g clip-path=\"url(#p466e63fa41)\">\n     <use style=\"fill:#a6cee3;stroke:#a6cee3;stroke-width:0.5;\" x=\"196.192916\" xlink:href=\"#C0_0_ff87ed2dc2\" y=\"211.614255\"/>\n    </g>\n    <g clip-path=\"url(#p466e63fa41)\">\n     <use style=\"fill:#b15928;stroke:#b15928;stroke-width:0.5;\" x=\"290.595345\" xlink:href=\"#C0_0_ff87ed2dc2\" y=\"189.096694\"/>\n    </g>\n    <g clip-path=\"url(#p466e63fa41)\">\n     <use style=\"fill:#b15928;stroke:#b15928;stroke-width:0.5;\" x=\"161.912005\" xlink:href=\"#C0_0_ff87ed2dc2\" y=\"129.147663\"/>\n    </g>\n    <g clip-path=\"url(#p466e63fa41)\">\n     <use style=\"fill:#b15928;stroke:#b15928;stroke-width:0.5;\" x=\"189.054638\" xlink:href=\"#C0_0_ff87ed2dc2\" y=\"75.119276\"/>\n    </g>\n    <g clip-path=\"url(#p466e63fa41)\">\n     <use style=\"fill:#b15928;stroke:#b15928;stroke-width:0.5;\" x=\"147.889571\" xlink:href=\"#C0_0_ff87ed2dc2\" y=\"121.360201\"/>\n    </g>\n    <g clip-path=\"url(#p466e63fa41)\">\n     <use style=\"fill:#a6cee3;stroke:#a6cee3;stroke-width:0.5;\" x=\"241.155483\" xlink:href=\"#C0_0_ff87ed2dc2\" y=\"173.369833\"/>\n    </g>\n    <g clip-path=\"url(#p466e63fa41)\">\n     <use style=\"fill:#b15928;stroke:#b15928;stroke-width:0.5;\" x=\"283.009909\" xlink:href=\"#C0_0_ff87ed2dc2\" y=\"137.254964\"/>\n    </g>\n    <g clip-path=\"url(#p466e63fa41)\">\n     <use style=\"fill:#a6cee3;stroke:#a6cee3;stroke-width:0.5;\" x=\"301.499342\" xlink:href=\"#C0_0_ff87ed2dc2\" y=\"101.194334\"/>\n    </g>\n    <g clip-path=\"url(#p466e63fa41)\">\n     <use style=\"fill:#a6cee3;stroke:#a6cee3;stroke-width:0.5;\" x=\"405.02288\" xlink:href=\"#C0_0_ff87ed2dc2\" y=\"82.602352\"/>\n    </g>\n    <g clip-path=\"url(#p466e63fa41)\">\n     <use style=\"fill:#a6cee3;stroke:#a6cee3;stroke-width:0.5;\" x=\"216.610996\" xlink:href=\"#C0_0_ff87ed2dc2\" y=\"139.713226\"/>\n    </g>\n    <g clip-path=\"url(#p466e63fa41)\">\n     <use style=\"fill:#a6cee3;stroke:#a6cee3;stroke-width:0.5;\" x=\"325.892799\" xlink:href=\"#C0_0_ff87ed2dc2\" y=\"107.291367\"/>\n    </g>\n    <g clip-path=\"url(#p466e63fa41)\">\n     <use style=\"fill:#b15928;stroke:#b15928;stroke-width:0.5;\" x=\"291.703911\" xlink:href=\"#C0_0_ff87ed2dc2\" y=\"189.636612\"/>\n    </g>\n    <g clip-path=\"url(#p466e63fa41)\">\n     <use style=\"fill:#a6cee3;stroke:#a6cee3;stroke-width:0.5;\" x=\"242.268261\" xlink:href=\"#C0_0_ff87ed2dc2\" y=\"157.784365\"/>\n    </g>\n    <g clip-path=\"url(#p466e63fa41)\">\n     <use style=\"fill:#b15928;stroke:#b15928;stroke-width:0.5;\" x=\"264.904515\" xlink:href=\"#C0_0_ff87ed2dc2\" y=\"134.595095\"/>\n    </g>\n    <g clip-path=\"url(#p466e63fa41)\">\n     <use style=\"fill:#a6cee3;stroke:#a6cee3;stroke-width:0.5;\" x=\"311.795436\" xlink:href=\"#C0_0_ff87ed2dc2\" y=\"119.542137\"/>\n    </g>\n    <g clip-path=\"url(#p466e63fa41)\">\n     <use style=\"fill:#b15928;stroke:#b15928;stroke-width:0.5;\" x=\"302.580925\" xlink:href=\"#C0_0_ff87ed2dc2\" y=\"147.941153\"/>\n    </g>\n    <g clip-path=\"url(#p466e63fa41)\">\n     <use style=\"fill:#a6cee3;stroke:#a6cee3;stroke-width:0.5;\" x=\"173.811324\" xlink:href=\"#C0_0_ff87ed2dc2\" y=\"145.898326\"/>\n    </g>\n    <g clip-path=\"url(#p466e63fa41)\">\n     <use style=\"fill:#b15928;stroke:#b15928;stroke-width:0.5;\" x=\"242.811806\" xlink:href=\"#C0_0_ff87ed2dc2\" y=\"117.297666\"/>\n    </g>\n    <g clip-path=\"url(#p466e63fa41)\">\n     <use style=\"fill:#b15928;stroke:#b15928;stroke-width:0.5;\" x=\"412.170711\" xlink:href=\"#C0_0_ff87ed2dc2\" y=\"132.569524\"/>\n    </g>\n    <g clip-path=\"url(#p466e63fa41)\">\n     <use style=\"fill:#a6cee3;stroke:#a6cee3;stroke-width:0.5;\" x=\"172.955817\" xlink:href=\"#C0_0_ff87ed2dc2\" y=\"143.576505\"/>\n    </g>\n    <g clip-path=\"url(#p466e63fa41)\">\n     <use style=\"fill:#b15928;stroke:#b15928;stroke-width:0.5;\" x=\"209.586584\" xlink:href=\"#C0_0_ff87ed2dc2\" y=\"113.589236\"/>\n    </g>\n    <g clip-path=\"url(#p466e63fa41)\">\n     <use style=\"fill:#b15928;stroke:#b15928;stroke-width:0.5;\" x=\"129.442827\" xlink:href=\"#C0_0_ff87ed2dc2\" y=\"128.74551\"/>\n    </g>\n    <g clip-path=\"url(#p466e63fa41)\">\n     <use style=\"fill:#a6cee3;stroke:#a6cee3;stroke-width:0.5;\" x=\"255.722211\" xlink:href=\"#C0_0_ff87ed2dc2\" y=\"122.623884\"/>\n    </g>\n    <g clip-path=\"url(#p466e63fa41)\">\n     <use style=\"fill:#a6cee3;stroke:#a6cee3;stroke-width:0.5;\" x=\"199.637809\" xlink:href=\"#C0_0_ff87ed2dc2\" y=\"139.660408\"/>\n    </g>\n    <g clip-path=\"url(#p466e63fa41)\">\n     <use style=\"fill:#a6cee3;stroke:#a6cee3;stroke-width:0.5;\" x=\"138.127993\" xlink:href=\"#C0_0_ff87ed2dc2\" y=\"148.916038\"/>\n    </g>\n    <g clip-path=\"url(#p466e63fa41)\">\n     <use style=\"fill:#b15928;stroke:#b15928;stroke-width:0.5;\" x=\"203.689231\" xlink:href=\"#C0_0_ff87ed2dc2\" y=\"115.960471\"/>\n    </g>\n    <g clip-path=\"url(#p466e63fa41)\">\n     <use style=\"fill:#b15928;stroke:#b15928;stroke-width:0.5;\" x=\"158.058152\" xlink:href=\"#C0_0_ff87ed2dc2\" y=\"102.727506\"/>\n    </g>\n    <g clip-path=\"url(#p466e63fa41)\">\n     <use style=\"fill:#b15928;stroke:#b15928;stroke-width:0.5;\" x=\"355.267775\" xlink:href=\"#C0_0_ff87ed2dc2\" y=\"206.054382\"/>\n    </g>\n    <g clip-path=\"url(#p466e63fa41)\">\n     <use style=\"fill:#a6cee3;stroke:#a6cee3;stroke-width:0.5;\" x=\"275.791775\" xlink:href=\"#C0_0_ff87ed2dc2\" y=\"106.506978\"/>\n    </g>\n    <g clip-path=\"url(#p466e63fa41)\">\n     <use style=\"fill:#a6cee3;stroke:#a6cee3;stroke-width:0.5;\" x=\"196.65281\" xlink:href=\"#C0_0_ff87ed2dc2\" y=\"145.435256\"/>\n    </g>\n    <g clip-path=\"url(#p466e63fa41)\">\n     <use style=\"fill:#a6cee3;stroke:#a6cee3;stroke-width:0.5;\" x=\"234.19181\" xlink:href=\"#C0_0_ff87ed2dc2\" y=\"141.830066\"/>\n    </g>\n    <g clip-path=\"url(#p466e63fa41)\">\n     <use style=\"fill:#a6cee3;stroke:#a6cee3;stroke-width:0.5;\" x=\"221.08756\" xlink:href=\"#C0_0_ff87ed2dc2\" y=\"191.776503\"/>\n    </g>\n    <g clip-path=\"url(#p466e63fa41)\">\n     <use style=\"fill:#a6cee3;stroke:#a6cee3;stroke-width:0.5;\" x=\"329.811593\" xlink:href=\"#C0_0_ff87ed2dc2\" y=\"91.912747\"/>\n    </g>\n    <g clip-path=\"url(#p466e63fa41)\">\n     <use style=\"fill:#a6cee3;stroke:#a6cee3;stroke-width:0.5;\" x=\"183.563824\" xlink:href=\"#C0_0_ff87ed2dc2\" y=\"184.181343\"/>\n    </g>\n    <g clip-path=\"url(#p466e63fa41)\">\n     <use style=\"fill:#b15928;stroke:#b15928;stroke-width:0.5;\" x=\"282.845352\" xlink:href=\"#C0_0_ff87ed2dc2\" y=\"151.904681\"/>\n    </g>\n    <g clip-path=\"url(#p466e63fa41)\">\n     <use style=\"fill:#b15928;stroke:#b15928;stroke-width:0.5;\" x=\"254.63944\" xlink:href=\"#C0_0_ff87ed2dc2\" y=\"142.610587\"/>\n    </g>\n    <g clip-path=\"url(#p466e63fa41)\">\n     <use style=\"fill:#a6cee3;stroke:#a6cee3;stroke-width:0.5;\" x=\"295.528608\" xlink:href=\"#C0_0_ff87ed2dc2\" y=\"105.860416\"/>\n    </g>\n    <g clip-path=\"url(#p466e63fa41)\">\n     <use style=\"fill:#a6cee3;stroke:#a6cee3;stroke-width:0.5;\" x=\"190.09368\" xlink:href=\"#C0_0_ff87ed2dc2\" y=\"181.171235\"/>\n    </g>\n    <g clip-path=\"url(#p466e63fa41)\">\n     <use style=\"fill:#b15928;stroke:#b15928;stroke-width:0.5;\" x=\"126.307508\" xlink:href=\"#C0_0_ff87ed2dc2\" y=\"108.917976\"/>\n    </g>\n    <g clip-path=\"url(#p466e63fa41)\">\n     <use style=\"fill:#a6cee3;stroke:#a6cee3;stroke-width:0.5;\" x=\"155.626996\" xlink:href=\"#C0_0_ff87ed2dc2\" y=\"149.40515\"/>\n    </g>\n    <g clip-path=\"url(#p466e63fa41)\">\n     <use style=\"fill:#a6cee3;stroke:#a6cee3;stroke-width:0.5;\" x=\"199.712361\" xlink:href=\"#C0_0_ff87ed2dc2\" y=\"132.943164\"/>\n    </g>\n    <g clip-path=\"url(#p466e63fa41)\">\n     <use style=\"fill:#b15928;stroke:#b15928;stroke-width:0.5;\" x=\"100.018907\" xlink:href=\"#C0_0_ff87ed2dc2\" y=\"124.196789\"/>\n    </g>\n    <g clip-path=\"url(#p466e63fa41)\">\n     <use style=\"fill:#a6cee3;stroke:#a6cee3;stroke-width:0.5;\" x=\"283.055617\" xlink:href=\"#C0_0_ff87ed2dc2\" y=\"127.833709\"/>\n    </g>\n    <g clip-path=\"url(#p466e63fa41)\">\n     <use style=\"fill:#b15928;stroke:#b15928;stroke-width:0.5;\" x=\"220.948194\" xlink:href=\"#C0_0_ff87ed2dc2\" y=\"127.508343\"/>\n    </g>\n    <g clip-path=\"url(#p466e63fa41)\">\n     <use style=\"fill:#b15928;stroke:#b15928;stroke-width:0.5;\" x=\"273.767173\" xlink:href=\"#C0_0_ff87ed2dc2\" y=\"231.516886\"/>\n    </g>\n    <g clip-path=\"url(#p466e63fa41)\">\n     <use style=\"fill:#a6cee3;stroke:#a6cee3;stroke-width:0.5;\" x=\"389.598001\" xlink:href=\"#C0_0_ff87ed2dc2\" y=\"116.901143\"/>\n    </g>\n    <g clip-path=\"url(#p466e63fa41)\">\n     <use style=\"fill:#a6cee3;stroke:#a6cee3;stroke-width:0.5;\" x=\"195.538926\" xlink:href=\"#C0_0_ff87ed2dc2\" y=\"145.206275\"/>\n    </g>\n    <g clip-path=\"url(#p466e63fa41)\">\n     <use style=\"fill:#b15928;stroke:#b15928;stroke-width:0.5;\" x=\"280.812513\" xlink:href=\"#C0_0_ff87ed2dc2\" y=\"135.245732\"/>\n    </g>\n    <g clip-path=\"url(#p466e63fa41)\">\n     <use style=\"fill:#b15928;stroke:#b15928;stroke-width:0.5;\" x=\"92.995201\" xlink:href=\"#C0_0_ff87ed2dc2\" y=\"56.220904\"/>\n    </g>\n    <g clip-path=\"url(#p466e63fa41)\">\n     <use style=\"fill:#b15928;stroke:#b15928;stroke-width:0.5;\" x=\"235.8539\" xlink:href=\"#C0_0_ff87ed2dc2\" y=\"94.067066\"/>\n    </g>\n    <g clip-path=\"url(#p466e63fa41)\">\n     <use style=\"fill:#b15928;stroke:#b15928;stroke-width:0.5;\" x=\"192.589616\" xlink:href=\"#C0_0_ff87ed2dc2\" y=\"75.359821\"/>\n    </g>\n    <g clip-path=\"url(#p466e63fa41)\">\n     <use style=\"fill:#a6cee3;stroke:#a6cee3;stroke-width:0.5;\" x=\"265.382095\" xlink:href=\"#C0_0_ff87ed2dc2\" y=\"108.973624\"/>\n    </g>\n    <g clip-path=\"url(#p466e63fa41)\">\n     <use style=\"fill:#b15928;stroke:#b15928;stroke-width:0.5;\" x=\"166.311275\" xlink:href=\"#C0_0_ff87ed2dc2\" y=\"87.14622\"/>\n    </g>\n    <g clip-path=\"url(#p466e63fa41)\">\n     <use style=\"fill:#a6cee3;stroke:#a6cee3;stroke-width:0.5;\" x=\"295.400596\" xlink:href=\"#C0_0_ff87ed2dc2\" y=\"83.859218\"/>\n    </g>\n    <g clip-path=\"url(#p466e63fa41)\">\n     <use style=\"fill:#a6cee3;stroke:#a6cee3;stroke-width:0.5;\" x=\"197.348411\" xlink:href=\"#C0_0_ff87ed2dc2\" y=\"148.470548\"/>\n    </g>\n    <g clip-path=\"url(#p466e63fa41)\">\n     <use style=\"fill:#b15928;stroke:#b15928;stroke-width:0.5;\" x=\"415.489527\" xlink:href=\"#C0_0_ff87ed2dc2\" y=\"169.453098\"/>\n    </g>\n    <g clip-path=\"url(#p466e63fa41)\">\n     <use style=\"fill:#b15928;stroke:#b15928;stroke-width:0.5;\" x=\"233.963467\" xlink:href=\"#C0_0_ff87ed2dc2\" y=\"89.837182\"/>\n    </g>\n    <g clip-path=\"url(#p466e63fa41)\">\n     <use style=\"fill:#a6cee3;stroke:#a6cee3;stroke-width:0.5;\" x=\"251.348863\" xlink:href=\"#C0_0_ff87ed2dc2\" y=\"109.911884\"/>\n    </g>\n    <g clip-path=\"url(#p466e63fa41)\">\n     <use style=\"fill:#b15928;stroke:#b15928;stroke-width:0.5;\" x=\"214.359117\" xlink:href=\"#C0_0_ff87ed2dc2\" y=\"117.6273\"/>\n    </g>\n    <g clip-path=\"url(#p466e63fa41)\">\n     <use style=\"fill:#b15928;stroke:#b15928;stroke-width:0.5;\" x=\"146.872527\" xlink:href=\"#C0_0_ff87ed2dc2\" y=\"70.947469\"/>\n    </g>\n    <g clip-path=\"url(#p466e63fa41)\">\n     <use style=\"fill:#a6cee3;stroke:#a6cee3;stroke-width:0.5;\" x=\"235.28672\" xlink:href=\"#C0_0_ff87ed2dc2\" y=\"155.687783\"/>\n    </g>\n    <g clip-path=\"url(#p466e63fa41)\">\n     <use style=\"fill:#b15928;stroke:#b15928;stroke-width:0.5;\" x=\"293.657026\" xlink:href=\"#C0_0_ff87ed2dc2\" y=\"147.73461\"/>\n    </g>\n    <g clip-path=\"url(#p466e63fa41)\">\n     <use style=\"fill:#a6cee3;stroke:#a6cee3;stroke-width:0.5;\" x=\"144.809295\" xlink:href=\"#C0_0_ff87ed2dc2\" y=\"179.843167\"/>\n    </g>\n    <g clip-path=\"url(#p466e63fa41)\">\n     <use style=\"fill:#b15928;stroke:#b15928;stroke-width:0.5;\" x=\"295.694848\" xlink:href=\"#C0_0_ff87ed2dc2\" y=\"136.821066\"/>\n    </g>\n    <g clip-path=\"url(#p466e63fa41)\">\n     <use style=\"fill:#b15928;stroke:#b15928;stroke-width:0.5;\" x=\"234.130729\" xlink:href=\"#C0_0_ff87ed2dc2\" y=\"91.980689\"/>\n    </g>\n    <g clip-path=\"url(#p466e63fa41)\">\n     <use style=\"fill:#a6cee3;stroke:#a6cee3;stroke-width:0.5;\" x=\"160.242285\" xlink:href=\"#C0_0_ff87ed2dc2\" y=\"157.517887\"/>\n    </g>\n    <g clip-path=\"url(#p466e63fa41)\">\n     <use style=\"fill:#b15928;stroke:#b15928;stroke-width:0.5;\" x=\"215.443067\" xlink:href=\"#C0_0_ff87ed2dc2\" y=\"127.618823\"/>\n    </g>\n    <g clip-path=\"url(#p466e63fa41)\">\n     <use style=\"fill:#a6cee3;stroke:#a6cee3;stroke-width:0.5;\" x=\"240.940569\" xlink:href=\"#C0_0_ff87ed2dc2\" y=\"141.434917\"/>\n    </g>\n    <g clip-path=\"url(#p466e63fa41)\">\n     <use style=\"fill:#a6cee3;stroke:#a6cee3;stroke-width:0.5;\" x=\"239.493121\" xlink:href=\"#C0_0_ff87ed2dc2\" y=\"134.926868\"/>\n    </g>\n    <g clip-path=\"url(#p466e63fa41)\">\n     <use style=\"fill:#a6cee3;stroke:#a6cee3;stroke-width:0.5;\" x=\"190.539558\" xlink:href=\"#C0_0_ff87ed2dc2\" y=\"160.500991\"/>\n    </g>\n    <g clip-path=\"url(#p466e63fa41)\">\n     <use style=\"fill:#b15928;stroke:#b15928;stroke-width:0.5;\" x=\"264.502142\" xlink:href=\"#C0_0_ff87ed2dc2\" y=\"163.324888\"/>\n    </g>\n    <g clip-path=\"url(#p466e63fa41)\">\n     <use style=\"fill:#a6cee3;stroke:#a6cee3;stroke-width:0.5;\" x=\"157.970894\" xlink:href=\"#C0_0_ff87ed2dc2\" y=\"142.355596\"/>\n    </g>\n    <g clip-path=\"url(#p466e63fa41)\">\n     <use style=\"fill:#b15928;stroke:#b15928;stroke-width:0.5;\" x=\"232.347699\" xlink:href=\"#C0_0_ff87ed2dc2\" y=\"49.254465\"/>\n    </g>\n    <g clip-path=\"url(#p466e63fa41)\">\n     <use style=\"fill:#b15928;stroke:#b15928;stroke-width:0.5;\" x=\"191.648424\" xlink:href=\"#C0_0_ff87ed2dc2\" y=\"96.854356\"/>\n    </g>\n    <g clip-path=\"url(#p466e63fa41)\">\n     <use style=\"fill:#b15928;stroke:#b15928;stroke-width:0.5;\" x=\"299.668937\" xlink:href=\"#C0_0_ff87ed2dc2\" y=\"174.12549\"/>\n    </g>\n    <g clip-path=\"url(#p466e63fa41)\">\n     <use style=\"fill:#b15928;stroke:#b15928;stroke-width:0.5;\" x=\"301.608147\" xlink:href=\"#C0_0_ff87ed2dc2\" y=\"173.941959\"/>\n    </g>\n    <g clip-path=\"url(#p466e63fa41)\">\n     <use style=\"fill:#b15928;stroke:#b15928;stroke-width:0.5;\" x=\"46.23571\" xlink:href=\"#C0_0_ff87ed2dc2\" y=\"109.065105\"/>\n    </g>\n    <g clip-path=\"url(#p466e63fa41)\">\n     <use style=\"fill:#b15928;stroke:#b15928;stroke-width:0.5;\" x=\"113.439866\" xlink:href=\"#C0_0_ff87ed2dc2\" y=\"114.69626\"/>\n    </g>\n    <g clip-path=\"url(#p466e63fa41)\">\n     <use style=\"fill:#b15928;stroke:#b15928;stroke-width:0.5;\" x=\"193.187714\" xlink:href=\"#C0_0_ff87ed2dc2\" y=\"70.896004\"/>\n    </g>\n    <g clip-path=\"url(#p466e63fa41)\">\n     <use style=\"fill:#b15928;stroke:#b15928;stroke-width:0.5;\" x=\"323.575224\" xlink:href=\"#C0_0_ff87ed2dc2\" y=\"147.468827\"/>\n    </g>\n    <g clip-path=\"url(#p466e63fa41)\">\n     <use style=\"fill:#a6cee3;stroke:#a6cee3;stroke-width:0.5;\" x=\"192.903007\" xlink:href=\"#C0_0_ff87ed2dc2\" y=\"175.03629\"/>\n    </g>\n    <g clip-path=\"url(#p466e63fa41)\">\n     <use style=\"fill:#a6cee3;stroke:#a6cee3;stroke-width:0.5;\" x=\"211.273481\" xlink:href=\"#C0_0_ff87ed2dc2\" y=\"141.198208\"/>\n    </g>\n    <g clip-path=\"url(#p466e63fa41)\">\n     <use style=\"fill:#b15928;stroke:#b15928;stroke-width:0.5;\" x=\"216.944925\" xlink:href=\"#C0_0_ff87ed2dc2\" y=\"125.359177\"/>\n    </g>\n    <g clip-path=\"url(#p466e63fa41)\">\n     <use style=\"fill:#a6cee3;stroke:#a6cee3;stroke-width:0.5;\" x=\"287.120124\" xlink:href=\"#C0_0_ff87ed2dc2\" y=\"118.366647\"/>\n    </g>\n    <g clip-path=\"url(#p466e63fa41)\">\n     <use style=\"fill:#a6cee3;stroke:#a6cee3;stroke-width:0.5;\" x=\"187.225817\" xlink:href=\"#C0_0_ff87ed2dc2\" y=\"183.143688\"/>\n    </g>\n    <g clip-path=\"url(#p466e63fa41)\">\n     <use style=\"fill:#b15928;stroke:#b15928;stroke-width:0.5;\" x=\"345.599294\" xlink:href=\"#C0_0_ff87ed2dc2\" y=\"156.023763\"/>\n    </g>\n    <g clip-path=\"url(#p466e63fa41)\">\n     <use style=\"fill:#a6cee3;stroke:#a6cee3;stroke-width:0.5;\" x=\"195.547481\" xlink:href=\"#C0_0_ff87ed2dc2\" y=\"149.926026\"/>\n    </g>\n    <g clip-path=\"url(#p466e63fa41)\">\n     <use style=\"fill:#a6cee3;stroke:#a6cee3;stroke-width:0.5;\" x=\"106.95375\" xlink:href=\"#C0_0_ff87ed2dc2\" y=\"148.359903\"/>\n    </g>\n    <g clip-path=\"url(#p466e63fa41)\">\n     <use style=\"fill:#b15928;stroke:#b15928;stroke-width:0.5;\" x=\"208.391732\" xlink:href=\"#C0_0_ff87ed2dc2\" y=\"108.55634\"/>\n    </g>\n    <g clip-path=\"url(#p466e63fa41)\">\n     <use style=\"fill:#a6cee3;stroke:#a6cee3;stroke-width:0.5;\" x=\"296.043337\" xlink:href=\"#C0_0_ff87ed2dc2\" y=\"130.901468\"/>\n    </g>\n    <g clip-path=\"url(#p466e63fa41)\">\n     <use style=\"fill:#a6cee3;stroke:#a6cee3;stroke-width:0.5;\" x=\"313.407644\" xlink:href=\"#C0_0_ff87ed2dc2\" y=\"118.717794\"/>\n    </g>\n    <g clip-path=\"url(#p466e63fa41)\">\n     <use style=\"fill:#b15928;stroke:#b15928;stroke-width:0.5;\" x=\"242.911376\" xlink:href=\"#C0_0_ff87ed2dc2\" y=\"125.206088\"/>\n    </g>\n    <g clip-path=\"url(#p466e63fa41)\">\n     <use style=\"fill:#a6cee3;stroke:#a6cee3;stroke-width:0.5;\" x=\"229.893505\" xlink:href=\"#C0_0_ff87ed2dc2\" y=\"145.347471\"/>\n    </g>\n    <g clip-path=\"url(#p466e63fa41)\">\n     <use style=\"fill:#a6cee3;stroke:#a6cee3;stroke-width:0.5;\" x=\"224.15875\" xlink:href=\"#C0_0_ff87ed2dc2\" y=\"171.917256\"/>\n    </g>\n    <g clip-path=\"url(#p466e63fa41)\">\n     <use style=\"fill:#b15928;stroke:#b15928;stroke-width:0.5;\" x=\"264.942988\" xlink:href=\"#C0_0_ff87ed2dc2\" y=\"167.028925\"/>\n    </g>\n    <g clip-path=\"url(#p466e63fa41)\">\n     <use style=\"fill:#b15928;stroke:#b15928;stroke-width:0.5;\" x=\"306.695491\" xlink:href=\"#C0_0_ff87ed2dc2\" y=\"140.078504\"/>\n    </g>\n    <g clip-path=\"url(#p466e63fa41)\">\n     <use style=\"fill:#a6cee3;stroke:#a6cee3;stroke-width:0.5;\" x=\"247.760552\" xlink:href=\"#C0_0_ff87ed2dc2\" y=\"113.14148\"/>\n    </g>\n    <g clip-path=\"url(#p466e63fa41)\">\n     <use style=\"fill:#b15928;stroke:#b15928;stroke-width:0.5;\" x=\"291.940721\" xlink:href=\"#C0_0_ff87ed2dc2\" y=\"187.957517\"/>\n    </g>\n    <g clip-path=\"url(#p466e63fa41)\">\n     <use style=\"fill:#b15928;stroke:#b15928;stroke-width:0.5;\" x=\"228.684491\" xlink:href=\"#C0_0_ff87ed2dc2\" y=\"99.140441\"/>\n    </g>\n    <g clip-path=\"url(#p466e63fa41)\">\n     <use style=\"fill:#b15928;stroke:#b15928;stroke-width:0.5;\" x=\"117.739052\" xlink:href=\"#C0_0_ff87ed2dc2\" y=\"117.003081\"/>\n    </g>\n    <g clip-path=\"url(#p466e63fa41)\">\n     <use style=\"fill:#a6cee3;stroke:#a6cee3;stroke-width:0.5;\" x=\"76.264146\" xlink:href=\"#C0_0_ff87ed2dc2\" y=\"168.093773\"/>\n    </g>\n    <g clip-path=\"url(#p466e63fa41)\">\n     <use style=\"fill:#b15928;stroke:#b15928;stroke-width:0.5;\" x=\"246.952238\" xlink:href=\"#C0_0_ff87ed2dc2\" y=\"191.07748\"/>\n    </g>\n    <g clip-path=\"url(#p466e63fa41)\">\n     <use style=\"fill:#a6cee3;stroke:#a6cee3;stroke-width:0.5;\" x=\"170.756126\" xlink:href=\"#C0_0_ff87ed2dc2\" y=\"184.377426\"/>\n    </g>\n    <g clip-path=\"url(#p466e63fa41)\">\n     <use style=\"fill:#a6cee3;stroke:#a6cee3;stroke-width:0.5;\" x=\"366.699364\" xlink:href=\"#C0_0_ff87ed2dc2\" y=\"125.086511\"/>\n    </g>\n    <g clip-path=\"url(#p466e63fa41)\">\n     <use style=\"fill:#b15928;stroke:#b15928;stroke-width:0.5;\" x=\"286.284522\" xlink:href=\"#C0_0_ff87ed2dc2\" y=\"139.107871\"/>\n    </g>\n    <g clip-path=\"url(#p466e63fa41)\">\n     <use style=\"fill:#a6cee3;stroke:#a6cee3;stroke-width:0.5;\" x=\"217.782803\" xlink:href=\"#C0_0_ff87ed2dc2\" y=\"189.61915\"/>\n    </g>\n    <g clip-path=\"url(#p466e63fa41)\">\n     <use style=\"fill:#a6cee3;stroke:#a6cee3;stroke-width:0.5;\" x=\"222.365425\" xlink:href=\"#C0_0_ff87ed2dc2\" y=\"158.634603\"/>\n    </g>\n    <g clip-path=\"url(#p466e63fa41)\">\n     <use style=\"fill:#a6cee3;stroke:#a6cee3;stroke-width:0.5;\" x=\"307.907665\" xlink:href=\"#C0_0_ff87ed2dc2\" y=\"89.684593\"/>\n    </g>\n    <g clip-path=\"url(#p466e63fa41)\">\n     <use style=\"fill:#a6cee3;stroke:#a6cee3;stroke-width:0.5;\" x=\"353.191581\" xlink:href=\"#C0_0_ff87ed2dc2\" y=\"100.141643\"/>\n    </g>\n   </g>\n   <g id=\"LineCollection_1\">\n    <path clip-path=\"url(#p466e63fa41)\" d=\"M 467.278125 239.758125 \n\" style=\"fill:none;stroke:#440154;stroke-width:2;\"/>\n   </g>\n   <g id=\"patch_3\">\n    <path d=\"M 20.878125 239.758125 \nL 20.878125 22.318125 \n\" style=\"fill:none;stroke:#ffffff;stroke-linecap:square;stroke-linejoin:miter;\"/>\n   </g>\n   <g id=\"patch_4\">\n    <path d=\"M 467.278125 239.758125 \nL 467.278125 22.318125 \n\" style=\"fill:none;stroke:#ffffff;stroke-linecap:square;stroke-linejoin:miter;\"/>\n   </g>\n   <g id=\"patch_5\">\n    <path d=\"M 20.878125 239.758125 \nL 467.278125 239.758125 \n\" style=\"fill:none;stroke:#ffffff;stroke-linecap:square;stroke-linejoin:miter;\"/>\n   </g>\n   <g id=\"patch_6\">\n    <path d=\"M 20.878125 22.318125 \nL 467.278125 22.318125 \n\" style=\"fill:none;stroke:#ffffff;stroke-linecap:square;stroke-linejoin:miter;\"/>\n   </g>\n   <g id=\"text_3\">\n    <!-- Logistic Regression, XOR problem -->\n    <defs>\n     <path d=\"M 9.8125 72.90625 \nL 19.671875 72.90625 \nL 19.671875 8.296875 \nL 55.171875 8.296875 \nL 55.171875 0 \nL 9.8125 0 \nz\n\" id=\"DejaVuSans-76\"/>\n     <path d=\"M 30.609375 48.390625 \nQ 23.390625 48.390625 19.1875 42.75 \nQ 14.984375 37.109375 14.984375 27.296875 \nQ 14.984375 17.484375 19.15625 11.84375 \nQ 23.34375 6.203125 30.609375 6.203125 \nQ 37.796875 6.203125 41.984375 11.859375 \nQ 46.1875 17.53125 46.1875 27.296875 \nQ 46.1875 37.015625 41.984375 42.703125 \nQ 37.796875 48.390625 30.609375 48.390625 \nz\nM 30.609375 56 \nQ 42.328125 56 49.015625 48.375 \nQ 55.71875 40.765625 55.71875 27.296875 \nQ 55.71875 13.875 49.015625 6.21875 \nQ 42.328125 -1.421875 30.609375 -1.421875 \nQ 18.84375 -1.421875 12.171875 6.21875 \nQ 5.515625 13.875 5.515625 27.296875 \nQ 5.515625 40.765625 12.171875 48.375 \nQ 18.84375 56 30.609375 56 \nz\n\" id=\"DejaVuSans-111\"/>\n     <path d=\"M 45.40625 27.984375 \nQ 45.40625 37.75 41.375 43.109375 \nQ 37.359375 48.484375 30.078125 48.484375 \nQ 22.859375 48.484375 18.828125 43.109375 \nQ 14.796875 37.75 14.796875 27.984375 \nQ 14.796875 18.265625 18.828125 12.890625 \nQ 22.859375 7.515625 30.078125 7.515625 \nQ 37.359375 7.515625 41.375 12.890625 \nQ 45.40625 18.265625 45.40625 27.984375 \nz\nM 54.390625 6.78125 \nQ 54.390625 -7.171875 48.1875 -13.984375 \nQ 42 -20.796875 29.203125 -20.796875 \nQ 24.46875 -20.796875 20.265625 -20.09375 \nQ 16.0625 -19.390625 12.109375 -17.921875 \nL 12.109375 -9.1875 \nQ 16.0625 -11.328125 19.921875 -12.34375 \nQ 23.78125 -13.375 27.78125 -13.375 \nQ 36.625 -13.375 41.015625 -8.765625 \nQ 45.40625 -4.15625 45.40625 5.171875 \nL 45.40625 9.625 \nQ 42.625 4.78125 38.28125 2.390625 \nQ 33.9375 0 27.875 0 \nQ 17.828125 0 11.671875 7.65625 \nQ 5.515625 15.328125 5.515625 27.984375 \nQ 5.515625 40.671875 11.671875 48.328125 \nQ 17.828125 56 27.875 56 \nQ 33.9375 56 38.28125 53.609375 \nQ 42.625 51.21875 45.40625 46.390625 \nL 45.40625 54.6875 \nL 54.390625 54.6875 \nz\n\" id=\"DejaVuSans-103\"/>\n     <path d=\"M 9.421875 54.6875 \nL 18.40625 54.6875 \nL 18.40625 0 \nL 9.421875 0 \nz\nM 9.421875 75.984375 \nL 18.40625 75.984375 \nL 18.40625 64.59375 \nL 9.421875 64.59375 \nz\n\" id=\"DejaVuSans-105\"/>\n     <path d=\"M 44.28125 53.078125 \nL 44.28125 44.578125 \nQ 40.484375 46.53125 36.375 47.5 \nQ 32.28125 48.484375 27.875 48.484375 \nQ 21.1875 48.484375 17.84375 46.4375 \nQ 14.5 44.390625 14.5 40.28125 \nQ 14.5 37.15625 16.890625 35.375 \nQ 19.28125 33.59375 26.515625 31.984375 \nL 29.59375 31.296875 \nQ 39.15625 29.25 43.1875 25.515625 \nQ 47.21875 21.78125 47.21875 15.09375 \nQ 47.21875 7.46875 41.1875 3.015625 \nQ 35.15625 -1.421875 24.609375 -1.421875 \nQ 20.21875 -1.421875 15.453125 -0.5625 \nQ 10.6875 0.296875 5.421875 2 \nL 5.421875 11.28125 \nQ 10.40625 8.6875 15.234375 7.390625 \nQ 20.0625 6.109375 24.8125 6.109375 \nQ 31.15625 6.109375 34.5625 8.28125 \nQ 37.984375 10.453125 37.984375 14.40625 \nQ 37.984375 18.0625 35.515625 20.015625 \nQ 33.0625 21.96875 24.703125 23.78125 \nL 21.578125 24.515625 \nQ 13.234375 26.265625 9.515625 29.90625 \nQ 5.8125 33.546875 5.8125 39.890625 \nQ 5.8125 47.609375 11.28125 51.796875 \nQ 16.75 56 26.8125 56 \nQ 31.78125 56 36.171875 55.265625 \nQ 40.578125 54.546875 44.28125 53.078125 \nz\n\" id=\"DejaVuSans-115\"/>\n     <path d=\"M 18.3125 70.21875 \nL 18.3125 54.6875 \nL 36.8125 54.6875 \nL 36.8125 47.703125 \nL 18.3125 47.703125 \nL 18.3125 18.015625 \nQ 18.3125 11.328125 20.140625 9.421875 \nQ 21.96875 7.515625 27.59375 7.515625 \nL 36.8125 7.515625 \nL 36.8125 0 \nL 27.59375 0 \nQ 17.1875 0 13.234375 3.875 \nQ 9.28125 7.765625 9.28125 18.015625 \nL 9.28125 47.703125 \nL 2.6875 47.703125 \nL 2.6875 54.6875 \nL 9.28125 54.6875 \nL 9.28125 70.21875 \nz\n\" id=\"DejaVuSans-116\"/>\n     <path d=\"M 48.78125 52.59375 \nL 48.78125 44.1875 \nQ 44.96875 46.296875 41.140625 47.34375 \nQ 37.3125 48.390625 33.40625 48.390625 \nQ 24.65625 48.390625 19.8125 42.84375 \nQ 14.984375 37.3125 14.984375 27.296875 \nQ 14.984375 17.28125 19.8125 11.734375 \nQ 24.65625 6.203125 33.40625 6.203125 \nQ 37.3125 6.203125 41.140625 7.25 \nQ 44.96875 8.296875 48.78125 10.40625 \nL 48.78125 2.09375 \nQ 45.015625 0.34375 40.984375 -0.53125 \nQ 36.96875 -1.421875 32.421875 -1.421875 \nQ 20.0625 -1.421875 12.78125 6.34375 \nQ 5.515625 14.109375 5.515625 27.296875 \nQ 5.515625 40.671875 12.859375 48.328125 \nQ 20.21875 56 33.015625 56 \nQ 37.15625 56 41.109375 55.140625 \nQ 45.0625 54.296875 48.78125 52.59375 \nz\n\" id=\"DejaVuSans-99\"/>\n     <path id=\"DejaVuSans-32\"/>\n     <path d=\"M 44.390625 34.1875 \nQ 47.5625 33.109375 50.5625 29.59375 \nQ 53.5625 26.078125 56.59375 19.921875 \nL 66.609375 0 \nL 56 0 \nL 46.6875 18.703125 \nQ 43.0625 26.03125 39.671875 28.421875 \nQ 36.28125 30.8125 30.421875 30.8125 \nL 19.671875 30.8125 \nL 19.671875 0 \nL 9.8125 0 \nL 9.8125 72.90625 \nL 32.078125 72.90625 \nQ 44.578125 72.90625 50.734375 67.671875 \nQ 56.890625 62.453125 56.890625 51.90625 \nQ 56.890625 45.015625 53.6875 40.46875 \nQ 50.484375 35.9375 44.390625 34.1875 \nz\nM 19.671875 64.796875 \nL 19.671875 38.921875 \nL 32.078125 38.921875 \nQ 39.203125 38.921875 42.84375 42.21875 \nQ 46.484375 45.515625 46.484375 51.90625 \nQ 46.484375 58.296875 42.84375 61.546875 \nQ 39.203125 64.796875 32.078125 64.796875 \nz\n\" id=\"DejaVuSans-82\"/>\n     <path d=\"M 56.203125 29.59375 \nL 56.203125 25.203125 \nL 14.890625 25.203125 \nQ 15.484375 15.921875 20.484375 11.0625 \nQ 25.484375 6.203125 34.421875 6.203125 \nQ 39.59375 6.203125 44.453125 7.46875 \nQ 49.3125 8.734375 54.109375 11.28125 \nL 54.109375 2.78125 \nQ 49.265625 0.734375 44.1875 -0.34375 \nQ 39.109375 -1.421875 33.890625 -1.421875 \nQ 20.796875 -1.421875 13.15625 6.1875 \nQ 5.515625 13.8125 5.515625 26.8125 \nQ 5.515625 40.234375 12.765625 48.109375 \nQ 20.015625 56 32.328125 56 \nQ 43.359375 56 49.78125 48.890625 \nQ 56.203125 41.796875 56.203125 29.59375 \nz\nM 47.21875 32.234375 \nQ 47.125 39.59375 43.09375 43.984375 \nQ 39.0625 48.390625 32.421875 48.390625 \nQ 24.90625 48.390625 20.390625 44.140625 \nQ 15.875 39.890625 15.1875 32.171875 \nz\n\" id=\"DejaVuSans-101\"/>\n     <path d=\"M 41.109375 46.296875 \nQ 39.59375 47.171875 37.8125 47.578125 \nQ 36.03125 48 33.890625 48 \nQ 26.265625 48 22.1875 43.046875 \nQ 18.109375 38.09375 18.109375 28.8125 \nL 18.109375 0 \nL 9.078125 0 \nL 9.078125 54.6875 \nL 18.109375 54.6875 \nL 18.109375 46.1875 \nQ 20.953125 51.171875 25.484375 53.578125 \nQ 30.03125 56 36.53125 56 \nQ 37.453125 56 38.578125 55.875 \nQ 39.703125 55.765625 41.0625 55.515625 \nz\n\" id=\"DejaVuSans-114\"/>\n     <path d=\"M 54.890625 33.015625 \nL 54.890625 0 \nL 45.90625 0 \nL 45.90625 32.71875 \nQ 45.90625 40.484375 42.875 44.328125 \nQ 39.84375 48.1875 33.796875 48.1875 \nQ 26.515625 48.1875 22.3125 43.546875 \nQ 18.109375 38.921875 18.109375 30.90625 \nL 18.109375 0 \nL 9.078125 0 \nL 9.078125 54.6875 \nL 18.109375 54.6875 \nL 18.109375 46.1875 \nQ 21.34375 51.125 25.703125 53.5625 \nQ 30.078125 56 35.796875 56 \nQ 45.21875 56 50.046875 50.171875 \nQ 54.890625 44.34375 54.890625 33.015625 \nz\n\" id=\"DejaVuSans-110\"/>\n     <path d=\"M 11.71875 12.40625 \nL 22.015625 12.40625 \nL 22.015625 4 \nL 14.015625 -11.625 \nL 7.71875 -11.625 \nL 11.71875 4 \nz\n\" id=\"DejaVuSans-44\"/>\n     <path d=\"M 6.296875 72.90625 \nL 16.890625 72.90625 \nL 35.015625 45.796875 \nL 53.21875 72.90625 \nL 63.8125 72.90625 \nL 40.375 37.890625 \nL 65.375 0 \nL 54.78125 0 \nL 34.28125 31 \nL 13.625 0 \nL 2.984375 0 \nL 29 38.921875 \nz\n\" id=\"DejaVuSans-88\"/>\n     <path d=\"M 39.40625 66.21875 \nQ 28.65625 66.21875 22.328125 58.203125 \nQ 16.015625 50.203125 16.015625 36.375 \nQ 16.015625 22.609375 22.328125 14.59375 \nQ 28.65625 6.59375 39.40625 6.59375 \nQ 50.140625 6.59375 56.421875 14.59375 \nQ 62.703125 22.609375 62.703125 36.375 \nQ 62.703125 50.203125 56.421875 58.203125 \nQ 50.140625 66.21875 39.40625 66.21875 \nz\nM 39.40625 74.21875 \nQ 54.734375 74.21875 63.90625 63.9375 \nQ 73.09375 53.65625 73.09375 36.375 \nQ 73.09375 19.140625 63.90625 8.859375 \nQ 54.734375 -1.421875 39.40625 -1.421875 \nQ 24.03125 -1.421875 14.8125 8.828125 \nQ 5.609375 19.09375 5.609375 36.375 \nQ 5.609375 53.65625 14.8125 63.9375 \nQ 24.03125 74.21875 39.40625 74.21875 \nz\n\" id=\"DejaVuSans-79\"/>\n     <path d=\"M 18.109375 8.203125 \nL 18.109375 -20.796875 \nL 9.078125 -20.796875 \nL 9.078125 54.6875 \nL 18.109375 54.6875 \nL 18.109375 46.390625 \nQ 20.953125 51.265625 25.265625 53.625 \nQ 29.59375 56 35.59375 56 \nQ 45.5625 56 51.78125 48.09375 \nQ 58.015625 40.1875 58.015625 27.296875 \nQ 58.015625 14.40625 51.78125 6.484375 \nQ 45.5625 -1.421875 35.59375 -1.421875 \nQ 29.59375 -1.421875 25.265625 0.953125 \nQ 20.953125 3.328125 18.109375 8.203125 \nz\nM 48.6875 27.296875 \nQ 48.6875 37.203125 44.609375 42.84375 \nQ 40.53125 48.484375 33.40625 48.484375 \nQ 26.265625 48.484375 22.1875 42.84375 \nQ 18.109375 37.203125 18.109375 27.296875 \nQ 18.109375 17.390625 22.1875 11.75 \nQ 26.265625 6.109375 33.40625 6.109375 \nQ 40.53125 6.109375 44.609375 11.75 \nQ 48.6875 17.390625 48.6875 27.296875 \nz\n\" id=\"DejaVuSans-112\"/>\n     <path d=\"M 48.6875 27.296875 \nQ 48.6875 37.203125 44.609375 42.84375 \nQ 40.53125 48.484375 33.40625 48.484375 \nQ 26.265625 48.484375 22.1875 42.84375 \nQ 18.109375 37.203125 18.109375 27.296875 \nQ 18.109375 17.390625 22.1875 11.75 \nQ 26.265625 6.109375 33.40625 6.109375 \nQ 40.53125 6.109375 44.609375 11.75 \nQ 48.6875 17.390625 48.6875 27.296875 \nz\nM 18.109375 46.390625 \nQ 20.953125 51.265625 25.265625 53.625 \nQ 29.59375 56 35.59375 56 \nQ 45.5625 56 51.78125 48.09375 \nQ 58.015625 40.1875 58.015625 27.296875 \nQ 58.015625 14.40625 51.78125 6.484375 \nQ 45.5625 -1.421875 35.59375 -1.421875 \nQ 29.59375 -1.421875 25.265625 0.953125 \nQ 20.953125 3.328125 18.109375 8.203125 \nL 18.109375 0 \nL 9.078125 0 \nL 9.078125 75.984375 \nL 18.109375 75.984375 \nz\n\" id=\"DejaVuSans-98\"/>\n     <path d=\"M 9.421875 75.984375 \nL 18.40625 75.984375 \nL 18.40625 0 \nL 9.421875 0 \nz\n\" id=\"DejaVuSans-108\"/>\n     <path d=\"M 52 44.1875 \nQ 55.375 50.25 60.0625 53.125 \nQ 64.75 56 71.09375 56 \nQ 79.640625 56 84.28125 50.015625 \nQ 88.921875 44.046875 88.921875 33.015625 \nL 88.921875 0 \nL 79.890625 0 \nL 79.890625 32.71875 \nQ 79.890625 40.578125 77.09375 44.375 \nQ 74.3125 48.1875 68.609375 48.1875 \nQ 61.625 48.1875 57.5625 43.546875 \nQ 53.515625 38.921875 53.515625 30.90625 \nL 53.515625 0 \nL 44.484375 0 \nL 44.484375 32.71875 \nQ 44.484375 40.625 41.703125 44.40625 \nQ 38.921875 48.1875 33.109375 48.1875 \nQ 26.21875 48.1875 22.15625 43.53125 \nQ 18.109375 38.875 18.109375 30.90625 \nL 18.109375 0 \nL 9.078125 0 \nL 9.078125 54.6875 \nL 18.109375 54.6875 \nL 18.109375 46.1875 \nQ 21.1875 51.21875 25.484375 53.609375 \nQ 29.78125 56 35.6875 56 \nQ 41.65625 56 45.828125 52.96875 \nQ 50 49.953125 52 44.1875 \nz\n\" id=\"DejaVuSans-109\"/>\n    </defs>\n    <g transform=\"translate(143.3625 16.318125)scale(0.12 -0.12)\">\n     <use xlink:href=\"#DejaVuSans-76\"/>\n     <use x=\"53.962891\" xlink:href=\"#DejaVuSans-111\"/>\n     <use x=\"115.144531\" xlink:href=\"#DejaVuSans-103\"/>\n     <use x=\"178.621094\" xlink:href=\"#DejaVuSans-105\"/>\n     <use x=\"206.404297\" xlink:href=\"#DejaVuSans-115\"/>\n     <use x=\"258.503906\" xlink:href=\"#DejaVuSans-116\"/>\n     <use x=\"297.712891\" xlink:href=\"#DejaVuSans-105\"/>\n     <use x=\"325.496094\" xlink:href=\"#DejaVuSans-99\"/>\n     <use x=\"380.476562\" xlink:href=\"#DejaVuSans-32\"/>\n     <use x=\"412.263672\" xlink:href=\"#DejaVuSans-82\"/>\n     <use x=\"477.246094\" xlink:href=\"#DejaVuSans-101\"/>\n     <use x=\"538.769531\" xlink:href=\"#DejaVuSans-103\"/>\n     <use x=\"602.246094\" xlink:href=\"#DejaVuSans-114\"/>\n     <use x=\"641.109375\" xlink:href=\"#DejaVuSans-101\"/>\n     <use x=\"702.632812\" xlink:href=\"#DejaVuSans-115\"/>\n     <use x=\"754.732422\" xlink:href=\"#DejaVuSans-115\"/>\n     <use x=\"806.832031\" xlink:href=\"#DejaVuSans-105\"/>\n     <use x=\"834.615234\" xlink:href=\"#DejaVuSans-111\"/>\n     <use x=\"895.796875\" xlink:href=\"#DejaVuSans-110\"/>\n     <use x=\"959.175781\" xlink:href=\"#DejaVuSans-44\"/>\n     <use x=\"990.962891\" xlink:href=\"#DejaVuSans-32\"/>\n     <use x=\"1022.75\" xlink:href=\"#DejaVuSans-88\"/>\n     <use x=\"1084.880859\" xlink:href=\"#DejaVuSans-79\"/>\n     <use x=\"1163.591797\" xlink:href=\"#DejaVuSans-82\"/>\n     <use x=\"1233.074219\" xlink:href=\"#DejaVuSans-32\"/>\n     <use x=\"1264.861328\" xlink:href=\"#DejaVuSans-112\"/>\n     <use x=\"1328.337891\" xlink:href=\"#DejaVuSans-114\"/>\n     <use x=\"1367.201172\" xlink:href=\"#DejaVuSans-111\"/>\n     <use x=\"1428.382812\" xlink:href=\"#DejaVuSans-98\"/>\n     <use x=\"1491.859375\" xlink:href=\"#DejaVuSans-108\"/>\n     <use x=\"1519.642578\" xlink:href=\"#DejaVuSans-101\"/>\n     <use x=\"1581.166016\" xlink:href=\"#DejaVuSans-109\"/>\n    </g>\n   </g>\n  </g>\n  <g id=\"axes_2\">\n   <g id=\"patch_7\">\n    <path clip-path=\"url(#pe3c1fd97ae)\" d=\"M 495.178125 239.758125 \nL 495.178125 238.90875 \nL 495.178125 23.1675 \nL 495.178125 22.318125 \nL 506.050125 22.318125 \nL 506.050125 23.1675 \nL 506.050125 238.90875 \nL 506.050125 239.758125 \nz\n\" style=\"fill:#e5e5e5;stroke:#e5e5e5;stroke-linejoin:miter;stroke-width:0.01;\"/>\n   </g>\n   <g id=\"matplotlib.axis_3\"/>\n   <g id=\"matplotlib.axis_4\">\n    <g id=\"ytick_1\">\n     <g id=\"line2d_1\">\n      <defs>\n       <path d=\"M 0 0 \nL 3.5 0 \n\" id=\"me2d0580f35\" style=\"stroke:#555555;stroke-width:0.8;\"/>\n      </defs>\n      <g>\n       <use style=\"fill:#555555;stroke:#555555;stroke-width:0.8;\" x=\"506.050125\" xlink:href=\"#me2d0580f35\" y=\"223.155191\"/>\n      </g>\n     </g>\n     <g id=\"text_4\">\n      <!-- 0.3 -->\n      <defs>\n       <path d=\"M 31.78125 66.40625 \nQ 24.171875 66.40625 20.328125 58.90625 \nQ 16.5 51.421875 16.5 36.375 \nQ 16.5 21.390625 20.328125 13.890625 \nQ 24.171875 6.390625 31.78125 6.390625 \nQ 39.453125 6.390625 43.28125 13.890625 \nQ 47.125 21.390625 47.125 36.375 \nQ 47.125 51.421875 43.28125 58.90625 \nQ 39.453125 66.40625 31.78125 66.40625 \nz\nM 31.78125 74.21875 \nQ 44.046875 74.21875 50.515625 64.515625 \nQ 56.984375 54.828125 56.984375 36.375 \nQ 56.984375 17.96875 50.515625 8.265625 \nQ 44.046875 -1.421875 31.78125 -1.421875 \nQ 19.53125 -1.421875 13.0625 8.265625 \nQ 6.59375 17.96875 6.59375 36.375 \nQ 6.59375 54.828125 13.0625 64.515625 \nQ 19.53125 74.21875 31.78125 74.21875 \nz\n\" id=\"DejaVuSans-48\"/>\n       <path d=\"M 10.6875 12.40625 \nL 21 12.40625 \nL 21 0 \nL 10.6875 0 \nz\n\" id=\"DejaVuSans-46\"/>\n       <path d=\"M 40.578125 39.3125 \nQ 47.65625 37.796875 51.625 33 \nQ 55.609375 28.21875 55.609375 21.1875 \nQ 55.609375 10.40625 48.1875 4.484375 \nQ 40.765625 -1.421875 27.09375 -1.421875 \nQ 22.515625 -1.421875 17.65625 -0.515625 \nQ 12.796875 0.390625 7.625 2.203125 \nL 7.625 11.71875 \nQ 11.71875 9.328125 16.59375 8.109375 \nQ 21.484375 6.890625 26.8125 6.890625 \nQ 36.078125 6.890625 40.9375 10.546875 \nQ 45.796875 14.203125 45.796875 21.1875 \nQ 45.796875 27.640625 41.28125 31.265625 \nQ 36.765625 34.90625 28.71875 34.90625 \nL 20.21875 34.90625 \nL 20.21875 43.015625 \nL 29.109375 43.015625 \nQ 36.375 43.015625 40.234375 45.921875 \nQ 44.09375 48.828125 44.09375 54.296875 \nQ 44.09375 59.90625 40.109375 62.90625 \nQ 36.140625 65.921875 28.71875 65.921875 \nQ 24.65625 65.921875 20.015625 65.03125 \nQ 15.375 64.15625 9.8125 62.3125 \nL 9.8125 71.09375 \nQ 15.4375 72.65625 20.34375 73.4375 \nQ 25.25 74.21875 29.59375 74.21875 \nQ 40.828125 74.21875 47.359375 69.109375 \nQ 53.90625 64.015625 53.90625 55.328125 \nQ 53.90625 49.265625 50.4375 45.09375 \nQ 46.96875 40.921875 40.578125 39.3125 \nz\n\" id=\"DejaVuSans-51\"/>\n      </defs>\n      <g style=\"fill:#555555;\" transform=\"translate(513.050125 228.854019)scale(0.15 -0.15)\">\n       <use xlink:href=\"#DejaVuSans-48\"/>\n       <use x=\"63.623047\" xlink:href=\"#DejaVuSans-46\"/>\n       <use x=\"95.410156\" xlink:href=\"#DejaVuSans-51\"/>\n      </g>\n     </g>\n    </g>\n    <g id=\"ytick_2\">\n     <g id=\"line2d_2\">\n      <g>\n       <use style=\"fill:#555555;stroke:#555555;stroke-width:0.8;\" x=\"506.050125\" xlink:href=\"#me2d0580f35\" y=\"177.449411\"/>\n      </g>\n     </g>\n     <g id=\"text_5\">\n      <!-- 0.4 -->\n      <defs>\n       <path d=\"M 37.796875 64.3125 \nL 12.890625 25.390625 \nL 37.796875 25.390625 \nz\nM 35.203125 72.90625 \nL 47.609375 72.90625 \nL 47.609375 25.390625 \nL 58.015625 25.390625 \nL 58.015625 17.1875 \nL 47.609375 17.1875 \nL 47.609375 0 \nL 37.796875 0 \nL 37.796875 17.1875 \nL 4.890625 17.1875 \nL 4.890625 26.703125 \nz\n\" id=\"DejaVuSans-52\"/>\n      </defs>\n      <g style=\"fill:#555555;\" transform=\"translate(513.050125 183.148239)scale(0.15 -0.15)\">\n       <use xlink:href=\"#DejaVuSans-48\"/>\n       <use x=\"63.623047\" xlink:href=\"#DejaVuSans-46\"/>\n       <use x=\"95.410156\" xlink:href=\"#DejaVuSans-52\"/>\n      </g>\n     </g>\n    </g>\n    <g id=\"ytick_3\">\n     <g id=\"line2d_3\">\n      <g>\n       <use style=\"fill:#555555;stroke:#555555;stroke-width:0.8;\" x=\"506.050125\" xlink:href=\"#me2d0580f35\" y=\"131.74363\"/>\n      </g>\n     </g>\n     <g id=\"text_6\">\n      <!-- 0.5 -->\n      <defs>\n       <path d=\"M 10.796875 72.90625 \nL 49.515625 72.90625 \nL 49.515625 64.59375 \nL 19.828125 64.59375 \nL 19.828125 46.734375 \nQ 21.96875 47.46875 24.109375 47.828125 \nQ 26.265625 48.1875 28.421875 48.1875 \nQ 40.625 48.1875 47.75 41.5 \nQ 54.890625 34.8125 54.890625 23.390625 \nQ 54.890625 11.625 47.5625 5.09375 \nQ 40.234375 -1.421875 26.90625 -1.421875 \nQ 22.3125 -1.421875 17.546875 -0.640625 \nQ 12.796875 0.140625 7.71875 1.703125 \nL 7.71875 11.625 \nQ 12.109375 9.234375 16.796875 8.0625 \nQ 21.484375 6.890625 26.703125 6.890625 \nQ 35.15625 6.890625 40.078125 11.328125 \nQ 45.015625 15.765625 45.015625 23.390625 \nQ 45.015625 31 40.078125 35.4375 \nQ 35.15625 39.890625 26.703125 39.890625 \nQ 22.75 39.890625 18.8125 39.015625 \nQ 14.890625 38.140625 10.796875 36.28125 \nz\n\" id=\"DejaVuSans-53\"/>\n      </defs>\n      <g style=\"fill:#555555;\" transform=\"translate(513.050125 137.442458)scale(0.15 -0.15)\">\n       <use xlink:href=\"#DejaVuSans-48\"/>\n       <use x=\"63.623047\" xlink:href=\"#DejaVuSans-46\"/>\n       <use x=\"95.410156\" xlink:href=\"#DejaVuSans-53\"/>\n      </g>\n     </g>\n    </g>\n    <g id=\"ytick_4\">\n     <g id=\"line2d_4\">\n      <g>\n       <use style=\"fill:#555555;stroke:#555555;stroke-width:0.8;\" x=\"506.050125\" xlink:href=\"#me2d0580f35\" y=\"86.03785\"/>\n      </g>\n     </g>\n     <g id=\"text_7\">\n      <!-- 0.6 -->\n      <defs>\n       <path d=\"M 33.015625 40.375 \nQ 26.375 40.375 22.484375 35.828125 \nQ 18.609375 31.296875 18.609375 23.390625 \nQ 18.609375 15.53125 22.484375 10.953125 \nQ 26.375 6.390625 33.015625 6.390625 \nQ 39.65625 6.390625 43.53125 10.953125 \nQ 47.40625 15.53125 47.40625 23.390625 \nQ 47.40625 31.296875 43.53125 35.828125 \nQ 39.65625 40.375 33.015625 40.375 \nz\nM 52.59375 71.296875 \nL 52.59375 62.3125 \nQ 48.875 64.0625 45.09375 64.984375 \nQ 41.3125 65.921875 37.59375 65.921875 \nQ 27.828125 65.921875 22.671875 59.328125 \nQ 17.53125 52.734375 16.796875 39.40625 \nQ 19.671875 43.65625 24.015625 45.921875 \nQ 28.375 48.1875 33.59375 48.1875 \nQ 44.578125 48.1875 50.953125 41.515625 \nQ 57.328125 34.859375 57.328125 23.390625 \nQ 57.328125 12.15625 50.6875 5.359375 \nQ 44.046875 -1.421875 33.015625 -1.421875 \nQ 20.359375 -1.421875 13.671875 8.265625 \nQ 6.984375 17.96875 6.984375 36.375 \nQ 6.984375 53.65625 15.1875 63.9375 \nQ 23.390625 74.21875 37.203125 74.21875 \nQ 40.921875 74.21875 44.703125 73.484375 \nQ 48.484375 72.75 52.59375 71.296875 \nz\n\" id=\"DejaVuSans-54\"/>\n      </defs>\n      <g style=\"fill:#555555;\" transform=\"translate(513.050125 91.736678)scale(0.15 -0.15)\">\n       <use xlink:href=\"#DejaVuSans-48\"/>\n       <use x=\"63.623047\" xlink:href=\"#DejaVuSans-46\"/>\n       <use x=\"95.410156\" xlink:href=\"#DejaVuSans-54\"/>\n      </g>\n     </g>\n    </g>\n    <g id=\"ytick_5\">\n     <g id=\"line2d_5\">\n      <g>\n       <use style=\"fill:#555555;stroke:#555555;stroke-width:0.8;\" x=\"506.050125\" xlink:href=\"#me2d0580f35\" y=\"40.33207\"/>\n      </g>\n     </g>\n     <g id=\"text_8\">\n      <!-- 0.7 -->\n      <defs>\n       <path d=\"M 8.203125 72.90625 \nL 55.078125 72.90625 \nL 55.078125 68.703125 \nL 28.609375 0 \nL 18.3125 0 \nL 43.21875 64.59375 \nL 8.203125 64.59375 \nz\n\" id=\"DejaVuSans-55\"/>\n      </defs>\n      <g style=\"fill:#555555;\" transform=\"translate(513.050125 46.030898)scale(0.15 -0.15)\">\n       <use xlink:href=\"#DejaVuSans-48\"/>\n       <use x=\"63.623047\" xlink:href=\"#DejaVuSans-46\"/>\n       <use x=\"95.410156\" xlink:href=\"#DejaVuSans-55\"/>\n      </g>\n     </g>\n    </g>\n   </g>\n   <image height=\"217\" id=\"imagec0d60a7009\" transform=\"scale(1 -1)translate(0 -217)\" width=\"11\" x=\"495\" xlink:href=\"data:image/png;base64,\niVBORw0KGgoAAAANSUhEUgAAAAsAAADZCAYAAAD2WsoCAAAABHNCSVQICAgIfAhkiAAAAXFJREFUaIHtmFFuQyEMBAE7uU5P0vufpQ2YXoGpNNJ7afNtrWaXxQ+lf4zP3Q5/2XuczrYcY5wPI+WIJBhAuXfAbCqD4YiHhnGJ6P5AGpbBEf18uAdhJsoeRj5JkRgGMuhFR7rxRBhkP18jjdCO22P2rlWmlgbZSGNYyvlAn4n7GUTXih23ZxD12evGLctPdl2i97OF0TWDSBmlMUgaFzHIuoG+3f8Gf4uBlEHp4IUN9N7QMEAYUBkxs2WuYXgGw2udpuzlzC4swzj+66tl2wso7wLK9SLKAAMxN8TspbFBGiaGlbPXDYbRvDSActcMtkLMU1Mmw+vLwvCYi0RHlPf6tjDENLTj9jC0E0QYm6SxkbI3vCzlNUH5zTRAN5ByvSyDdZFuIOZJyk9ad8c05gIv811guM7fJi1rW8qLGCxk8HwWR2dhrImUteMWDYInMVJGzOBhbuYMwqBpiMPgj4W3TwNsr5bzfPFfxiA77jdP4wcilQIyzeCubgAAAABJRU5ErkJggg==\" y=\"-22\"/>\n   <g id=\"patch_8\">\n    <path d=\"M 495.178125 239.758125 \nL 495.178125 238.90875 \nL 495.178125 23.1675 \nL 495.178125 22.318125 \nL 506.050125 22.318125 \nL 506.050125 23.1675 \nL 506.050125 238.90875 \nL 506.050125 239.758125 \nz\n\" style=\"fill:none;stroke:#ffffff;stroke-linejoin:miter;\"/>\n   </g>\n  </g>\n </g>\n <defs>\n  <clipPath id=\"p466e63fa41\">\n   <rect height=\"217.44\" width=\"446.4\" x=\"20.878125\" y=\"22.318125\"/>\n  </clipPath>\n  <clipPath id=\"pe3c1fd97ae\">\n   <rect height=\"217.44\" width=\"10.872\" x=\"495.178125\" y=\"22.318125\"/>\n  </clipPath>\n </defs>\n</svg>\n",
      "image/png": "[encoded data removed]"
     },
     "metadata": {}
    }
   ],
   "source": [
    "# Применяем логистическую регрессию к нашим данным\n",
    "# И видим, что линейная модель не способна разделить точки правильно\n",
    "plot_boundary(LogisticRegression(), X, y, \"Logistic Regression, XOR problem\")"
   ]
  },
  {
   "cell_type": "markdown",
   "metadata": {
    "button": false,
    "colab_type": "text",
    "id": "s6uipSeQgi2Z",
    "new_sheet": false,
    "run_control": {
     "read_only": false
    }
   },
   "source": [
    "### Что мы делаем?\n",
    "Добавляем полиномиальные признаки!\n",
    "\n",
    "Т.е. получаем несколько признаков из данных путем их возведения в степень и перемножения между собой.\n",
    "\n",
    "**Пример с двумерными данными, degree*=2**\n",
    "\n",
    "**degree - максимальная сумма степеней множителей-признаков в отдельно полученном новом признаке*\n",
    "\n",
    "$$\\Large (a, b) \\rightarrow (1, a, b, a^2, ab, b^2)$$"
   ]
  },
  {
   "cell_type": "markdown",
   "metadata": {
    "button": false,
    "colab_type": "text",
    "id": "PDj1MyWXgi2a",
    "new_sheet": false,
    "run_control": {
     "read_only": false
    }
   },
   "source": [
    "Удобно, что sklearn уже умеет генерировать полиномиальные признаки для нас"
   ]
  },
  {
   "cell_type": "code",
   "execution_count": 45,
   "metadata": {
    "button": false,
    "colab": {},
    "colab_type": "code",
    "id": "MluyBwyMgi2a",
    "new_sheet": false,
    "outputId": "37e9a755-4bed-4657-b44e-be894a309753",
    "run_control": {
     "read_only": false
    }
   },
   "outputs": [
    {
     "output_type": "display_data",
     "data": {
      "text/plain": "<Figure size 720x288 with 2 Axes>",
      "image/svg+xml": "<?xml version=\"1.0\" encoding=\"utf-8\" standalone=\"no\"?>\n<!DOCTYPE svg PUBLIC \"-//W3C//DTD SVG 1.1//EN\"\n  \"http://www.w3.org/Graphics/SVG/1.1/DTD/svg11.dtd\">\n<!-- Created with matplotlib (https://matplotlib.org/) -->\n<svg height=\"260.63625pt\" version=\"1.1\" viewBox=\"0 0 544.104813 260.63625\" width=\"544.104813pt\" xmlns=\"http://www.w3.org/2000/svg\" xmlns:xlink=\"http://www.w3.org/1999/xlink\">\n <defs>\n  <style type=\"text/css\">\n*{stroke-linecap:butt;stroke-linejoin:round;}\n  </style>\n </defs>\n <g id=\"figure_1\">\n  <g id=\"patch_1\">\n   <path d=\"M 0 260.63625 \nL 544.104813 260.63625 \nL 544.104813 0 \nL 0 0 \nz\n\" style=\"fill:#ffffff;\"/>\n  </g>\n  <g id=\"axes_1\">\n   <g id=\"patch_2\">\n    <path d=\"M 20.878125 239.758125 \nL 467.278125 239.758125 \nL 467.278125 22.318125 \nL 20.878125 22.318125 \nz\n\" style=\"fill:#e5e5e5;\"/>\n   </g>\n   <g clip-path=\"url(#pfa2ca6f7ff)\">\n    <image height=\"218\" id=\"imagea20b7ab282\" transform=\"scale(1 -1)translate(0 -218)\" width=\"447\" x=\"20.878125\" xlink:href=\"data:image/png;base64,\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\" y=\"-21.758125\"/>\n   </g>\n   <g id=\"matplotlib.axis_1\">\n    <g id=\"text_1\">\n     <!-- $x_1$ -->\n     <defs>\n      <path d=\"M 60.015625 54.6875 \nL 34.90625 27.875 \nL 50.296875 0 \nL 39.984375 0 \nL 28.421875 21.6875 \nL 8.296875 0 \nL -2.59375 0 \nL 24.3125 28.8125 \nL 10.015625 54.6875 \nL 20.3125 54.6875 \nL 30.8125 34.90625 \nL 49.125 54.6875 \nz\n\" id=\"DejaVuSans-Oblique-120\"/>\n      <path d=\"M 12.40625 8.296875 \nL 28.515625 8.296875 \nL 28.515625 63.921875 \nL 10.984375 60.40625 \nL 10.984375 69.390625 \nL 28.421875 72.90625 \nL 38.28125 72.90625 \nL 38.28125 8.296875 \nL 54.390625 8.296875 \nL 54.390625 0 \nL 12.40625 0 \nz\n\" id=\"DejaVuSans-49\"/>\n     </defs>\n     <g style=\"fill:#555555;\" transform=\"translate(238.728125 251.356563)scale(0.1 -0.1)\">\n      <use transform=\"translate(0 0.3125)\" xlink:href=\"#DejaVuSans-Oblique-120\"/>\n      <use transform=\"translate(59.179688 -16.09375)scale(0.7)\" xlink:href=\"#DejaVuSans-49\"/>\n     </g>\n    </g>\n   </g>\n   <g id=\"matplotlib.axis_2\">\n    <g id=\"text_2\">\n     <!-- $x_2$ -->\n     <defs>\n      <path d=\"M 19.1875 8.296875 \nL 53.609375 8.296875 \nL 53.609375 0 \nL 7.328125 0 \nL 7.328125 8.296875 \nQ 12.9375 14.109375 22.625 23.890625 \nQ 32.328125 33.6875 34.8125 36.53125 \nQ 39.546875 41.84375 41.421875 45.53125 \nQ 43.3125 49.21875 43.3125 52.78125 \nQ 43.3125 58.59375 39.234375 62.25 \nQ 35.15625 65.921875 28.609375 65.921875 \nQ 23.96875 65.921875 18.8125 64.3125 \nQ 13.671875 62.703125 7.8125 59.421875 \nL 7.8125 69.390625 \nQ 13.765625 71.78125 18.9375 73 \nQ 24.125 74.21875 28.421875 74.21875 \nQ 39.75 74.21875 46.484375 68.546875 \nQ 53.21875 62.890625 53.21875 53.421875 \nQ 53.21875 48.921875 51.53125 44.890625 \nQ 49.859375 40.875 45.40625 35.40625 \nQ 44.1875 33.984375 37.640625 27.21875 \nQ 31.109375 20.453125 19.1875 8.296875 \nz\n\" id=\"DejaVuSans-50\"/>\n     </defs>\n     <g style=\"fill:#555555;\" transform=\"translate(14.798437 136.388125)rotate(-90)scale(0.1 -0.1)\">\n      <use transform=\"translate(0 0.3125)\" xlink:href=\"#DejaVuSans-Oblique-120\"/>\n      <use transform=\"translate(59.179688 -16.09375)scale(0.7)\" xlink:href=\"#DejaVuSans-50\"/>\n     </g>\n    </g>\n   </g>\n   <g id=\"PathCollection_1\">\n    <defs>\n     <path d=\"M 0 2.738613 \nC 0.726289 2.738613 1.422928 2.450055 1.936492 1.936492 \nC 2.450055 1.422928 2.738613 0.726289 2.738613 0 \nC 2.738613 -0.726289 2.450055 -1.422928 1.936492 -1.936492 \nC 1.422928 -2.450055 0.726289 -2.738613 0 -2.738613 \nC -0.726289 -2.738613 -1.422928 -2.450055 -1.936492 -1.936492 \nC -2.450055 -1.422928 -2.738613 -0.726289 -2.738613 0 \nC -2.738613 0.726289 -2.450055 1.422928 -1.936492 1.936492 \nC -1.422928 2.450055 -0.726289 2.738613 0 2.738613 \nz\n\" id=\"C0_0_dfbc6e937a\"/>\n    </defs>\n    <g clip-path=\"url(#pfa2ca6f7ff)\">\n     <use style=\"fill:#a6cee3;stroke:#a6cee3;stroke-width:0.5;\" x=\"375.32362\" xlink:href=\"#C0_0_dfbc6e937a\" y=\"116.536428\"/>\n    </g>\n    <g clip-path=\"url(#pfa2ca6f7ff)\">\n     <use style=\"fill:#a6cee3;stroke:#a6cee3;stroke-width:0.5;\" x=\"316.896231\" xlink:href=\"#C0_0_dfbc6e937a\" y=\"49.828155\"/>\n    </g>\n    <g clip-path=\"url(#pfa2ca6f7ff)\">\n     <use style=\"fill:#b15928;stroke:#b15928;stroke-width:0.5;\" x=\"383.024439\" xlink:href=\"#C0_0_dfbc6e937a\" y=\"166.454675\"/>\n    </g>\n    <g clip-path=\"url(#pfa2ca6f7ff)\">\n     <use style=\"fill:#b15928;stroke:#b15928;stroke-width:0.5;\" x=\"314.764703\" xlink:href=\"#C0_0_dfbc6e937a\" y=\"136.52331\"/>\n    </g>\n    <g clip-path=\"url(#pfa2ca6f7ff)\">\n     <use style=\"fill:#b15928;stroke:#b15928;stroke-width:0.5;\" x=\"236.398642\" xlink:href=\"#C0_0_dfbc6e937a\" y=\"116.158035\"/>\n    </g>\n    <g clip-path=\"url(#pfa2ca6f7ff)\">\n     <use style=\"fill:#a6cee3;stroke:#a6cee3;stroke-width:0.5;\" x=\"254.794967\" xlink:href=\"#C0_0_dfbc6e937a\" y=\"78.335253\"/>\n    </g>\n    <g clip-path=\"url(#pfa2ca6f7ff)\">\n     <use style=\"fill:#a6cee3;stroke:#a6cee3;stroke-width:0.5;\" x=\"300.699332\" xlink:href=\"#C0_0_dfbc6e937a\" y=\"126.628622\"/>\n    </g>\n    <g clip-path=\"url(#pfa2ca6f7ff)\">\n     <use style=\"fill:#a6cee3;stroke:#a6cee3;stroke-width:0.5;\" x=\"277.10155\" xlink:href=\"#C0_0_dfbc6e937a\" y=\"118.945767\"/>\n    </g>\n    <g clip-path=\"url(#pfa2ca6f7ff)\">\n     <use style=\"fill:#b15928;stroke:#b15928;stroke-width:0.5;\" x=\"355.237608\" xlink:href=\"#C0_0_dfbc6e937a\" y=\"138.47306\"/>\n    </g>\n    <g clip-path=\"url(#pfa2ca6f7ff)\">\n     <use style=\"fill:#b15928;stroke:#b15928;stroke-width:0.5;\" x=\"267.370362\" xlink:href=\"#C0_0_dfbc6e937a\" y=\"161.990555\"/>\n    </g>\n    <g clip-path=\"url(#pfa2ca6f7ff)\">\n     <use style=\"fill:#b15928;stroke:#b15928;stroke-width:0.5;\" x=\"54.135683\" xlink:href=\"#C0_0_dfbc6e937a\" y=\"107.350987\"/>\n    </g>\n    <g clip-path=\"url(#pfa2ca6f7ff)\">\n     <use style=\"fill:#b15928;stroke:#b15928;stroke-width:0.5;\" x=\"308.392178\" xlink:href=\"#C0_0_dfbc6e937a\" y=\"157.934185\"/>\n    </g>\n    <g clip-path=\"url(#pfa2ca6f7ff)\">\n     <use style=\"fill:#b15928;stroke:#b15928;stroke-width:0.5;\" x=\"412.947869\" xlink:href=\"#C0_0_dfbc6e937a\" y=\"183.744337\"/>\n    </g>\n    <g clip-path=\"url(#pfa2ca6f7ff)\">\n     <use style=\"fill:#b15928;stroke:#b15928;stroke-width:0.5;\" x=\"247.482559\" xlink:href=\"#C0_0_dfbc6e937a\" y=\"137.821668\"/>\n    </g>\n    <g clip-path=\"url(#pfa2ca6f7ff)\">\n     <use style=\"fill:#a6cee3;stroke:#a6cee3;stroke-width:0.5;\" x=\"358.116899\" xlink:href=\"#C0_0_dfbc6e937a\" y=\"77.788563\"/>\n    </g>\n    <g clip-path=\"url(#pfa2ca6f7ff)\">\n     <use style=\"fill:#a6cee3;stroke:#a6cee3;stroke-width:0.5;\" x=\"255.606213\" xlink:href=\"#C0_0_dfbc6e937a\" y=\"117.333515\"/>\n    </g>\n    <g clip-path=\"url(#pfa2ca6f7ff)\">\n     <use style=\"fill:#a6cee3;stroke:#a6cee3;stroke-width:0.5;\" x=\"178.026865\" xlink:href=\"#C0_0_dfbc6e937a\" y=\"202.822189\"/>\n    </g>\n    <g clip-path=\"url(#pfa2ca6f7ff)\">\n     <use style=\"fill:#b15928;stroke:#b15928;stroke-width:0.5;\" x=\"218.193461\" xlink:href=\"#C0_0_dfbc6e937a\" y=\"125.372038\"/>\n    </g>\n    <g clip-path=\"url(#pfa2ca6f7ff)\">\n     <use style=\"fill:#a6cee3;stroke:#a6cee3;stroke-width:0.5;\" x=\"335.611752\" xlink:href=\"#C0_0_dfbc6e937a\" y=\"87.463879\"/>\n    </g>\n    <g clip-path=\"url(#pfa2ca6f7ff)\">\n     <use style=\"fill:#a6cee3;stroke:#a6cee3;stroke-width:0.5;\" x=\"215.26101\" xlink:href=\"#C0_0_dfbc6e937a\" y=\"141.993577\"/>\n    </g>\n    <g clip-path=\"url(#pfa2ca6f7ff)\">\n     <use style=\"fill:#a6cee3;stroke:#a6cee3;stroke-width:0.5;\" x=\"166.065784\" xlink:href=\"#C0_0_dfbc6e937a\" y=\"182.499575\"/>\n    </g>\n    <g clip-path=\"url(#pfa2ca6f7ff)\">\n     <use style=\"fill:#b15928;stroke:#b15928;stroke-width:0.5;\" x=\"117.131623\" xlink:href=\"#C0_0_dfbc6e937a\" y=\"60.342025\"/>\n    </g>\n    <g clip-path=\"url(#pfa2ca6f7ff)\">\n     <use style=\"fill:#a6cee3;stroke:#a6cee3;stroke-width:0.5;\" x=\"206.160003\" xlink:href=\"#C0_0_dfbc6e937a\" y=\"146.913938\"/>\n    </g>\n    <g clip-path=\"url(#pfa2ca6f7ff)\">\n     <use style=\"fill:#b15928;stroke:#b15928;stroke-width:0.5;\" x=\"150.87015\" xlink:href=\"#C0_0_dfbc6e937a\" y=\"102.861875\"/>\n    </g>\n    <g clip-path=\"url(#pfa2ca6f7ff)\">\n     <use style=\"fill:#a6cee3;stroke:#a6cee3;stroke-width:0.5;\" x=\"124.004125\" xlink:href=\"#C0_0_dfbc6e937a\" y=\"138.747833\"/>\n    </g>\n    <g clip-path=\"url(#pfa2ca6f7ff)\">\n     <use style=\"fill:#b15928;stroke:#b15928;stroke-width:0.5;\" x=\"177.455413\" xlink:href=\"#C0_0_dfbc6e937a\" y=\"117.016778\"/>\n    </g>\n    <g clip-path=\"url(#pfa2ca6f7ff)\">\n     <use style=\"fill:#a6cee3;stroke:#a6cee3;stroke-width:0.5;\" x=\"206.074223\" xlink:href=\"#C0_0_dfbc6e937a\" y=\"173.824235\"/>\n    </g>\n    <g clip-path=\"url(#pfa2ca6f7ff)\">\n     <use style=\"fill:#b15928;stroke:#b15928;stroke-width:0.5;\" x=\"241.981367\" xlink:href=\"#C0_0_dfbc6e937a\" y=\"115.515378\"/>\n    </g>\n    <g clip-path=\"url(#pfa2ca6f7ff)\">\n     <use style=\"fill:#a6cee3;stroke:#a6cee3;stroke-width:0.5;\" x=\"249.027006\" xlink:href=\"#C0_0_dfbc6e937a\" y=\"120.076543\"/>\n    </g>\n    <g clip-path=\"url(#pfa2ca6f7ff)\">\n     <use style=\"fill:#a6cee3;stroke:#a6cee3;stroke-width:0.5;\" x=\"196.884561\" xlink:href=\"#C0_0_dfbc6e937a\" y=\"144.183865\"/>\n    </g>\n    <g clip-path=\"url(#pfa2ca6f7ff)\">\n     <use style=\"fill:#a6cee3;stroke:#a6cee3;stroke-width:0.5;\" x=\"194.047068\" xlink:href=\"#C0_0_dfbc6e937a\" y=\"144.068332\"/>\n    </g>\n    <g clip-path=\"url(#pfa2ca6f7ff)\">\n     <use style=\"fill:#a6cee3;stroke:#a6cee3;stroke-width:0.5;\" x=\"183.580042\" xlink:href=\"#C0_0_dfbc6e937a\" y=\"193.598607\"/>\n    </g>\n    <g clip-path=\"url(#pfa2ca6f7ff)\">\n     <use style=\"fill:#b15928;stroke:#b15928;stroke-width:0.5;\" x=\"257.27863\" xlink:href=\"#C0_0_dfbc6e937a\" y=\"145.598666\"/>\n    </g>\n    <g clip-path=\"url(#pfa2ca6f7ff)\">\n     <use style=\"fill:#b15928;stroke:#b15928;stroke-width:0.5;\" x=\"122.791368\" xlink:href=\"#C0_0_dfbc6e937a\" y=\"114.266896\"/>\n    </g>\n    <g clip-path=\"url(#pfa2ca6f7ff)\">\n     <use style=\"fill:#b15928;stroke:#b15928;stroke-width:0.5;\" x=\"176.575127\" xlink:href=\"#C0_0_dfbc6e937a\" y=\"129.155624\"/>\n    </g>\n    <g clip-path=\"url(#pfa2ca6f7ff)\">\n     <use style=\"fill:#a6cee3;stroke:#a6cee3;stroke-width:0.5;\" x=\"298.322463\" xlink:href=\"#C0_0_dfbc6e937a\" y=\"126.363784\"/>\n    </g>\n    <g clip-path=\"url(#pfa2ca6f7ff)\">\n     <use style=\"fill:#b15928;stroke:#b15928;stroke-width:0.5;\" x=\"328.849536\" xlink:href=\"#C0_0_dfbc6e937a\" y=\"175.788213\"/>\n    </g>\n    <g clip-path=\"url(#pfa2ca6f7ff)\">\n     <use style=\"fill:#b15928;stroke:#b15928;stroke-width:0.5;\" x=\"274.012343\" xlink:href=\"#C0_0_dfbc6e937a\" y=\"155.855643\"/>\n    </g>\n    <g clip-path=\"url(#pfa2ca6f7ff)\">\n     <use style=\"fill:#a6cee3;stroke:#a6cee3;stroke-width:0.5;\" x=\"179.290817\" xlink:href=\"#C0_0_dfbc6e937a\" y=\"152.015637\"/>\n    </g>\n    <g clip-path=\"url(#pfa2ca6f7ff)\">\n     <use style=\"fill:#b15928;stroke:#b15928;stroke-width:0.5;\" x=\"220.898617\" xlink:href=\"#C0_0_dfbc6e937a\" y=\"129.002693\"/>\n    </g>\n    <g clip-path=\"url(#pfa2ca6f7ff)\">\n     <use style=\"fill:#b15928;stroke:#b15928;stroke-width:0.5;\" x=\"157.390977\" xlink:href=\"#C0_0_dfbc6e937a\" y=\"98.392173\"/>\n    </g>\n    <g clip-path=\"url(#pfa2ca6f7ff)\">\n     <use style=\"fill:#b15928;stroke:#b15928;stroke-width:0.5;\" x=\"278.723411\" xlink:href=\"#C0_0_dfbc6e937a\" y=\"186.711596\"/>\n    </g>\n    <g clip-path=\"url(#pfa2ca6f7ff)\">\n     <use style=\"fill:#a6cee3;stroke:#a6cee3;stroke-width:0.5;\" x=\"354.804088\" xlink:href=\"#C0_0_dfbc6e937a\" y=\"62.331101\"/>\n    </g>\n    <g clip-path=\"url(#pfa2ca6f7ff)\">\n     <use style=\"fill:#b15928;stroke:#b15928;stroke-width:0.5;\" x=\"331.779325\" xlink:href=\"#C0_0_dfbc6e937a\" y=\"137.558601\"/>\n    </g>\n    <g clip-path=\"url(#pfa2ca6f7ff)\">\n     <use style=\"fill:#b15928;stroke:#b15928;stroke-width:0.5;\" x=\"164.41413\" xlink:href=\"#C0_0_dfbc6e937a\" y=\"92.824794\"/>\n    </g>\n    <g clip-path=\"url(#pfa2ca6f7ff)\">\n     <use style=\"fill:#b15928;stroke:#b15928;stroke-width:0.5;\" x=\"214.08176\" xlink:href=\"#C0_0_dfbc6e937a\" y=\"86.736716\"/>\n    </g>\n    <g clip-path=\"url(#pfa2ca6f7ff)\">\n     <use style=\"fill:#a6cee3;stroke:#a6cee3;stroke-width:0.5;\" x=\"259.573783\" xlink:href=\"#C0_0_dfbc6e937a\" y=\"95.644726\"/>\n    </g>\n    <g clip-path=\"url(#pfa2ca6f7ff)\">\n     <use style=\"fill:#a6cee3;stroke:#a6cee3;stroke-width:0.5;\" x=\"270.591785\" xlink:href=\"#C0_0_dfbc6e937a\" y=\"105.431913\"/>\n    </g>\n    <g clip-path=\"url(#pfa2ca6f7ff)\">\n     <use style=\"fill:#a6cee3;stroke:#a6cee3;stroke-width:0.5;\" x=\"244.859327\" xlink:href=\"#C0_0_dfbc6e937a\" y=\"66.318178\"/>\n    </g>\n    <g clip-path=\"url(#pfa2ca6f7ff)\">\n     <use style=\"fill:#a6cee3;stroke:#a6cee3;stroke-width:0.5;\" x=\"253.520385\" xlink:href=\"#C0_0_dfbc6e937a\" y=\"116.47003\"/>\n    </g>\n    <g clip-path=\"url(#pfa2ca6f7ff)\">\n     <use style=\"fill:#b15928;stroke:#b15928;stroke-width:0.5;\" x=\"384.184537\" xlink:href=\"#C0_0_dfbc6e937a\" y=\"179.880913\"/>\n    </g>\n    <g clip-path=\"url(#pfa2ca6f7ff)\">\n     <use style=\"fill:#b15928;stroke:#b15928;stroke-width:0.5;\" x=\"149.554041\" xlink:href=\"#C0_0_dfbc6e937a\" y=\"95.907188\"/>\n    </g>\n    <g clip-path=\"url(#pfa2ca6f7ff)\">\n     <use style=\"fill:#b15928;stroke:#b15928;stroke-width:0.5;\" x=\"156.797744\" xlink:href=\"#C0_0_dfbc6e937a\" y=\"60.601293\"/>\n    </g>\n    <g clip-path=\"url(#pfa2ca6f7ff)\">\n     <use style=\"fill:#a6cee3;stroke:#a6cee3;stroke-width:0.5;\" x=\"213.304873\" xlink:href=\"#C0_0_dfbc6e937a\" y=\"158.125887\"/>\n    </g>\n    <g clip-path=\"url(#pfa2ca6f7ff)\">\n     <use style=\"fill:#a6cee3;stroke:#a6cee3;stroke-width:0.5;\" x=\"387.145012\" xlink:href=\"#C0_0_dfbc6e937a\" y=\"77.384269\"/>\n    </g>\n    <g clip-path=\"url(#pfa2ca6f7ff)\">\n     <use style=\"fill:#a6cee3;stroke:#a6cee3;stroke-width:0.5;\" x=\"383.024512\" xlink:href=\"#C0_0_dfbc6e937a\" y=\"98.203067\"/>\n    </g>\n    <g clip-path=\"url(#pfa2ca6f7ff)\">\n     <use style=\"fill:#b15928;stroke:#b15928;stroke-width:0.5;\" x=\"180.002934\" xlink:href=\"#C0_0_dfbc6e937a\" y=\"61.817371\"/>\n    </g>\n    <g clip-path=\"url(#pfa2ca6f7ff)\">\n     <use style=\"fill:#b15928;stroke:#b15928;stroke-width:0.5;\" x=\"224.138674\" xlink:href=\"#C0_0_dfbc6e937a\" y=\"101.957105\"/>\n    </g>\n    <g clip-path=\"url(#pfa2ca6f7ff)\">\n     <use style=\"fill:#b15928;stroke:#b15928;stroke-width:0.5;\" x=\"314.553671\" xlink:href=\"#C0_0_dfbc6e937a\" y=\"136.655691\"/>\n    </g>\n    <g clip-path=\"url(#pfa2ca6f7ff)\">\n     <use style=\"fill:#a6cee3;stroke:#a6cee3;stroke-width:0.5;\" x=\"289.76563\" xlink:href=\"#C0_0_dfbc6e937a\" y=\"97.617355\"/>\n    </g>\n    <g clip-path=\"url(#pfa2ca6f7ff)\">\n     <use style=\"fill:#b15928;stroke:#b15928;stroke-width:0.5;\" x=\"272.084185\" xlink:href=\"#C0_0_dfbc6e937a\" y=\"170.88041\"/>\n    </g>\n    <g clip-path=\"url(#pfa2ca6f7ff)\">\n     <use style=\"fill:#a6cee3;stroke:#a6cee3;stroke-width:0.5;\" x=\"266.267045\" xlink:href=\"#C0_0_dfbc6e937a\" y=\"82.9699\"/>\n    </g>\n    <g clip-path=\"url(#pfa2ca6f7ff)\">\n     <use style=\"fill:#a6cee3;stroke:#a6cee3;stroke-width:0.5;\" x=\"192.402276\" xlink:href=\"#C0_0_dfbc6e937a\" y=\"136.460881\"/>\n    </g>\n    <g clip-path=\"url(#pfa2ca6f7ff)\">\n     <use style=\"fill:#b15928;stroke:#b15928;stroke-width:0.5;\" x=\"211.702701\" xlink:href=\"#C0_0_dfbc6e937a\" y=\"64.020807\"/>\n    </g>\n    <g clip-path=\"url(#pfa2ca6f7ff)\">\n     <use style=\"fill:#a6cee3;stroke:#a6cee3;stroke-width:0.5;\" x=\"294.096855\" xlink:href=\"#C0_0_dfbc6e937a\" y=\"116.271708\"/>\n    </g>\n    <g clip-path=\"url(#pfa2ca6f7ff)\">\n     <use style=\"fill:#b15928;stroke:#b15928;stroke-width:0.5;\" x=\"186.796369\" xlink:href=\"#C0_0_dfbc6e937a\" y=\"111.495734\"/>\n    </g>\n    <g clip-path=\"url(#pfa2ca6f7ff)\">\n     <use style=\"fill:#b15928;stroke:#b15928;stroke-width:0.5;\" x=\"193.907775\" xlink:href=\"#C0_0_dfbc6e937a\" y=\"129.884586\"/>\n    </g>\n    <g clip-path=\"url(#pfa2ca6f7ff)\">\n     <use style=\"fill:#b15928;stroke:#b15928;stroke-width:0.5;\" x=\"196.771177\" xlink:href=\"#C0_0_dfbc6e937a\" y=\"106.524182\"/>\n    </g>\n    <g clip-path=\"url(#pfa2ca6f7ff)\">\n     <use style=\"fill:#b15928;stroke:#b15928;stroke-width:0.5;\" x=\"286.976482\" xlink:href=\"#C0_0_dfbc6e937a\" y=\"138.586872\"/>\n    </g>\n    <g clip-path=\"url(#pfa2ca6f7ff)\">\n     <use style=\"fill:#b15928;stroke:#b15928;stroke-width:0.5;\" x=\"273.541024\" xlink:href=\"#C0_0_dfbc6e937a\" y=\"170.650674\"/>\n    </g>\n    <g clip-path=\"url(#pfa2ca6f7ff)\">\n     <use style=\"fill:#b15928;stroke:#b15928;stroke-width:0.5;\" x=\"133.12856\" xlink:href=\"#C0_0_dfbc6e937a\" y=\"115.11457\"/>\n    </g>\n    <g clip-path=\"url(#pfa2ca6f7ff)\">\n     <use style=\"fill:#a6cee3;stroke:#a6cee3;stroke-width:0.5;\" x=\"256.478633\" xlink:href=\"#C0_0_dfbc6e937a\" y=\"108.024586\"/>\n    </g>\n    <g clip-path=\"url(#pfa2ca6f7ff)\">\n     <use style=\"fill:#a6cee3;stroke:#a6cee3;stroke-width:0.5;\" x=\"421.384096\" xlink:href=\"#C0_0_dfbc6e937a\" y=\"96.810188\"/>\n    </g>\n    <g clip-path=\"url(#pfa2ca6f7ff)\">\n     <use style=\"fill:#b15928;stroke:#b15928;stroke-width:0.5;\" x=\"176.164151\" xlink:href=\"#C0_0_dfbc6e937a\" y=\"90.557455\"/>\n    </g>\n    <g clip-path=\"url(#pfa2ca6f7ff)\">\n     <use style=\"fill:#a6cee3;stroke:#a6cee3;stroke-width:0.5;\" x=\"146.174614\" xlink:href=\"#C0_0_dfbc6e937a\" y=\"147.765951\"/>\n    </g>\n    <g clip-path=\"url(#pfa2ca6f7ff)\">\n     <use style=\"fill:#b15928;stroke:#b15928;stroke-width:0.5;\" x=\"239.00095\" xlink:href=\"#C0_0_dfbc6e937a\" y=\"68.946585\"/>\n    </g>\n    <g clip-path=\"url(#pfa2ca6f7ff)\">\n     <use style=\"fill:#a6cee3;stroke:#a6cee3;stroke-width:0.5;\" x=\"188.668366\" xlink:href=\"#C0_0_dfbc6e937a\" y=\"160.988258\"/>\n    </g>\n    <g clip-path=\"url(#pfa2ca6f7ff)\">\n     <use style=\"fill:#a6cee3;stroke:#a6cee3;stroke-width:0.5;\" x=\"236.753257\" xlink:href=\"#C0_0_dfbc6e937a\" y=\"155.082578\"/>\n    </g>\n    <g clip-path=\"url(#pfa2ca6f7ff)\">\n     <use style=\"fill:#b15928;stroke:#b15928;stroke-width:0.5;\" x=\"327.899838\" xlink:href=\"#C0_0_dfbc6e937a\" y=\"170.174843\"/>\n    </g>\n    <g clip-path=\"url(#pfa2ca6f7ff)\">\n     <use style=\"fill:#a6cee3;stroke:#a6cee3;stroke-width:0.5;\" x=\"158.706457\" xlink:href=\"#C0_0_dfbc6e937a\" y=\"146.904723\"/>\n    </g>\n    <g clip-path=\"url(#pfa2ca6f7ff)\">\n     <use style=\"fill:#b15928;stroke:#b15928;stroke-width:0.5;\" x=\"207.024511\" xlink:href=\"#C0_0_dfbc6e937a\" y=\"61.111883\"/>\n    </g>\n    <g clip-path=\"url(#pfa2ca6f7ff)\">\n     <use style=\"fill:#a6cee3;stroke:#a6cee3;stroke-width:0.5;\" x=\"314.715033\" xlink:href=\"#C0_0_dfbc6e937a\" y=\"127.865268\"/>\n    </g>\n    <g clip-path=\"url(#pfa2ca6f7ff)\">\n     <use style=\"fill:#b15928;stroke:#b15928;stroke-width:0.5;\" x=\"152.905722\" xlink:href=\"#C0_0_dfbc6e937a\" y=\"100.438411\"/>\n    </g>\n    <g clip-path=\"url(#pfa2ca6f7ff)\">\n     <use style=\"fill:#a6cee3;stroke:#a6cee3;stroke-width:0.5;\" x=\"169.662103\" xlink:href=\"#C0_0_dfbc6e937a\" y=\"187.02063\"/>\n    </g>\n    <g clip-path=\"url(#pfa2ca6f7ff)\">\n     <use style=\"fill:#a6cee3;stroke:#a6cee3;stroke-width:0.5;\" x=\"332.467542\" xlink:href=\"#C0_0_dfbc6e937a\" y=\"119.552125\"/>\n    </g>\n    <g clip-path=\"url(#pfa2ca6f7ff)\">\n     <use style=\"fill:#a6cee3;stroke:#a6cee3;stroke-width:0.5;\" x=\"312.590021\" xlink:href=\"#C0_0_dfbc6e937a\" y=\"119.487435\"/>\n    </g>\n    <g clip-path=\"url(#pfa2ca6f7ff)\">\n     <use style=\"fill:#b15928;stroke:#b15928;stroke-width:0.5;\" x=\"307.826323\" xlink:href=\"#C0_0_dfbc6e937a\" y=\"154.631293\"/>\n    </g>\n    <g clip-path=\"url(#pfa2ca6f7ff)\">\n     <use style=\"fill:#b15928;stroke:#b15928;stroke-width:0.5;\" x=\"167.130458\" xlink:href=\"#C0_0_dfbc6e937a\" y=\"106.33714\"/>\n    </g>\n    <g clip-path=\"url(#pfa2ca6f7ff)\">\n     <use style=\"fill:#a6cee3;stroke:#a6cee3;stroke-width:0.5;\" x=\"184.304446\" xlink:href=\"#C0_0_dfbc6e937a\" y=\"156.027409\"/>\n    </g>\n    <g clip-path=\"url(#pfa2ca6f7ff)\">\n     <use style=\"fill:#b15928;stroke:#b15928;stroke-width:0.5;\" x=\"210.186507\" xlink:href=\"#C0_0_dfbc6e937a\" y=\"130.40468\"/>\n    </g>\n    <g clip-path=\"url(#pfa2ca6f7ff)\">\n     <use style=\"fill:#a6cee3;stroke:#a6cee3;stroke-width:0.5;\" x=\"217.740978\" xlink:href=\"#C0_0_dfbc6e937a\" y=\"180.86636\"/>\n    </g>\n    <g clip-path=\"url(#pfa2ca6f7ff)\">\n     <use style=\"fill:#a6cee3;stroke:#a6cee3;stroke-width:0.5;\" x=\"196.192916\" xlink:href=\"#C0_0_dfbc6e937a\" y=\"211.614255\"/>\n    </g>\n    <g clip-path=\"url(#pfa2ca6f7ff)\">\n     <use style=\"fill:#b15928;stroke:#b15928;stroke-width:0.5;\" x=\"290.595345\" xlink:href=\"#C0_0_dfbc6e937a\" y=\"189.096694\"/>\n    </g>\n    <g clip-path=\"url(#pfa2ca6f7ff)\">\n     <use style=\"fill:#b15928;stroke:#b15928;stroke-width:0.5;\" x=\"161.912005\" xlink:href=\"#C0_0_dfbc6e937a\" y=\"129.147663\"/>\n    </g>\n    <g clip-path=\"url(#pfa2ca6f7ff)\">\n     <use style=\"fill:#b15928;stroke:#b15928;stroke-width:0.5;\" x=\"189.054638\" xlink:href=\"#C0_0_dfbc6e937a\" y=\"75.119276\"/>\n    </g>\n    <g clip-path=\"url(#pfa2ca6f7ff)\">\n     <use style=\"fill:#b15928;stroke:#b15928;stroke-width:0.5;\" x=\"147.889571\" xlink:href=\"#C0_0_dfbc6e937a\" y=\"121.360201\"/>\n    </g>\n    <g clip-path=\"url(#pfa2ca6f7ff)\">\n     <use style=\"fill:#a6cee3;stroke:#a6cee3;stroke-width:0.5;\" x=\"241.155483\" xlink:href=\"#C0_0_dfbc6e937a\" y=\"173.369833\"/>\n    </g>\n    <g clip-path=\"url(#pfa2ca6f7ff)\">\n     <use style=\"fill:#b15928;stroke:#b15928;stroke-width:0.5;\" x=\"283.009909\" xlink:href=\"#C0_0_dfbc6e937a\" y=\"137.254964\"/>\n    </g>\n    <g clip-path=\"url(#pfa2ca6f7ff)\">\n     <use style=\"fill:#a6cee3;stroke:#a6cee3;stroke-width:0.5;\" x=\"301.499342\" xlink:href=\"#C0_0_dfbc6e937a\" y=\"101.194334\"/>\n    </g>\n    <g clip-path=\"url(#pfa2ca6f7ff)\">\n     <use style=\"fill:#a6cee3;stroke:#a6cee3;stroke-width:0.5;\" x=\"405.02288\" xlink:href=\"#C0_0_dfbc6e937a\" y=\"82.602352\"/>\n    </g>\n    <g clip-path=\"url(#pfa2ca6f7ff)\">\n     <use style=\"fill:#a6cee3;stroke:#a6cee3;stroke-width:0.5;\" x=\"216.610996\" xlink:href=\"#C0_0_dfbc6e937a\" y=\"139.713226\"/>\n    </g>\n    <g clip-path=\"url(#pfa2ca6f7ff)\">\n     <use style=\"fill:#a6cee3;stroke:#a6cee3;stroke-width:0.5;\" x=\"325.892799\" xlink:href=\"#C0_0_dfbc6e937a\" y=\"107.291367\"/>\n    </g>\n    <g clip-path=\"url(#pfa2ca6f7ff)\">\n     <use style=\"fill:#b15928;stroke:#b15928;stroke-width:0.5;\" x=\"291.703911\" xlink:href=\"#C0_0_dfbc6e937a\" y=\"189.636612\"/>\n    </g>\n    <g clip-path=\"url(#pfa2ca6f7ff)\">\n     <use style=\"fill:#a6cee3;stroke:#a6cee3;stroke-width:0.5;\" x=\"242.268261\" xlink:href=\"#C0_0_dfbc6e937a\" y=\"157.784365\"/>\n    </g>\n    <g clip-path=\"url(#pfa2ca6f7ff)\">\n     <use style=\"fill:#b15928;stroke:#b15928;stroke-width:0.5;\" x=\"264.904515\" xlink:href=\"#C0_0_dfbc6e937a\" y=\"134.595095\"/>\n    </g>\n    <g clip-path=\"url(#pfa2ca6f7ff)\">\n     <use style=\"fill:#a6cee3;stroke:#a6cee3;stroke-width:0.5;\" x=\"311.795436\" xlink:href=\"#C0_0_dfbc6e937a\" y=\"119.542137\"/>\n    </g>\n    <g clip-path=\"url(#pfa2ca6f7ff)\">\n     <use style=\"fill:#b15928;stroke:#b15928;stroke-width:0.5;\" x=\"302.580925\" xlink:href=\"#C0_0_dfbc6e937a\" y=\"147.941153\"/>\n    </g>\n    <g clip-path=\"url(#pfa2ca6f7ff)\">\n     <use style=\"fill:#a6cee3;stroke:#a6cee3;stroke-width:0.5;\" x=\"173.811324\" xlink:href=\"#C0_0_dfbc6e937a\" y=\"145.898326\"/>\n    </g>\n    <g clip-path=\"url(#pfa2ca6f7ff)\">\n     <use style=\"fill:#b15928;stroke:#b15928;stroke-width:0.5;\" x=\"242.811806\" xlink:href=\"#C0_0_dfbc6e937a\" y=\"117.297666\"/>\n    </g>\n    <g clip-path=\"url(#pfa2ca6f7ff)\">\n     <use style=\"fill:#b15928;stroke:#b15928;stroke-width:0.5;\" x=\"412.170711\" xlink:href=\"#C0_0_dfbc6e937a\" y=\"132.569524\"/>\n    </g>\n    <g clip-path=\"url(#pfa2ca6f7ff)\">\n     <use style=\"fill:#a6cee3;stroke:#a6cee3;stroke-width:0.5;\" x=\"172.955817\" xlink:href=\"#C0_0_dfbc6e937a\" y=\"143.576505\"/>\n    </g>\n    <g clip-path=\"url(#pfa2ca6f7ff)\">\n     <use style=\"fill:#b15928;stroke:#b15928;stroke-width:0.5;\" x=\"209.586584\" xlink:href=\"#C0_0_dfbc6e937a\" y=\"113.589236\"/>\n    </g>\n    <g clip-path=\"url(#pfa2ca6f7ff)\">\n     <use style=\"fill:#b15928;stroke:#b15928;stroke-width:0.5;\" x=\"129.442827\" xlink:href=\"#C0_0_dfbc6e937a\" y=\"128.74551\"/>\n    </g>\n    <g clip-path=\"url(#pfa2ca6f7ff)\">\n     <use style=\"fill:#a6cee3;stroke:#a6cee3;stroke-width:0.5;\" x=\"255.722211\" xlink:href=\"#C0_0_dfbc6e937a\" y=\"122.623884\"/>\n    </g>\n    <g clip-path=\"url(#pfa2ca6f7ff)\">\n     <use style=\"fill:#a6cee3;stroke:#a6cee3;stroke-width:0.5;\" x=\"199.637809\" xlink:href=\"#C0_0_dfbc6e937a\" y=\"139.660408\"/>\n    </g>\n    <g clip-path=\"url(#pfa2ca6f7ff)\">\n     <use style=\"fill:#a6cee3;stroke:#a6cee3;stroke-width:0.5;\" x=\"138.127993\" xlink:href=\"#C0_0_dfbc6e937a\" y=\"148.916038\"/>\n    </g>\n    <g clip-path=\"url(#pfa2ca6f7ff)\">\n     <use style=\"fill:#b15928;stroke:#b15928;stroke-width:0.5;\" x=\"203.689231\" xlink:href=\"#C0_0_dfbc6e937a\" y=\"115.960471\"/>\n    </g>\n    <g clip-path=\"url(#pfa2ca6f7ff)\">\n     <use style=\"fill:#b15928;stroke:#b15928;stroke-width:0.5;\" x=\"158.058152\" xlink:href=\"#C0_0_dfbc6e937a\" y=\"102.727506\"/>\n    </g>\n    <g clip-path=\"url(#pfa2ca6f7ff)\">\n     <use style=\"fill:#b15928;stroke:#b15928;stroke-width:0.5;\" x=\"355.267775\" xlink:href=\"#C0_0_dfbc6e937a\" y=\"206.054382\"/>\n    </g>\n    <g clip-path=\"url(#pfa2ca6f7ff)\">\n     <use style=\"fill:#a6cee3;stroke:#a6cee3;stroke-width:0.5;\" x=\"275.791775\" xlink:href=\"#C0_0_dfbc6e937a\" y=\"106.506978\"/>\n    </g>\n    <g clip-path=\"url(#pfa2ca6f7ff)\">\n     <use style=\"fill:#a6cee3;stroke:#a6cee3;stroke-width:0.5;\" x=\"196.65281\" xlink:href=\"#C0_0_dfbc6e937a\" y=\"145.435256\"/>\n    </g>\n    <g clip-path=\"url(#pfa2ca6f7ff)\">\n     <use style=\"fill:#a6cee3;stroke:#a6cee3;stroke-width:0.5;\" x=\"234.19181\" xlink:href=\"#C0_0_dfbc6e937a\" y=\"141.830066\"/>\n    </g>\n    <g clip-path=\"url(#pfa2ca6f7ff)\">\n     <use style=\"fill:#a6cee3;stroke:#a6cee3;stroke-width:0.5;\" x=\"221.08756\" xlink:href=\"#C0_0_dfbc6e937a\" y=\"191.776503\"/>\n    </g>\n    <g clip-path=\"url(#pfa2ca6f7ff)\">\n     <use style=\"fill:#a6cee3;stroke:#a6cee3;stroke-width:0.5;\" x=\"329.811593\" xlink:href=\"#C0_0_dfbc6e937a\" y=\"91.912747\"/>\n    </g>\n    <g clip-path=\"url(#pfa2ca6f7ff)\">\n     <use style=\"fill:#a6cee3;stroke:#a6cee3;stroke-width:0.5;\" x=\"183.563824\" xlink:href=\"#C0_0_dfbc6e937a\" y=\"184.181343\"/>\n    </g>\n    <g clip-path=\"url(#pfa2ca6f7ff)\">\n     <use style=\"fill:#b15928;stroke:#b15928;stroke-width:0.5;\" x=\"282.845352\" xlink:href=\"#C0_0_dfbc6e937a\" y=\"151.904681\"/>\n    </g>\n    <g clip-path=\"url(#pfa2ca6f7ff)\">\n     <use style=\"fill:#b15928;stroke:#b15928;stroke-width:0.5;\" x=\"254.63944\" xlink:href=\"#C0_0_dfbc6e937a\" y=\"142.610587\"/>\n    </g>\n    <g clip-path=\"url(#pfa2ca6f7ff)\">\n     <use style=\"fill:#a6cee3;stroke:#a6cee3;stroke-width:0.5;\" x=\"295.528608\" xlink:href=\"#C0_0_dfbc6e937a\" y=\"105.860416\"/>\n    </g>\n    <g clip-path=\"url(#pfa2ca6f7ff)\">\n     <use style=\"fill:#a6cee3;stroke:#a6cee3;stroke-width:0.5;\" x=\"190.09368\" xlink:href=\"#C0_0_dfbc6e937a\" y=\"181.171235\"/>\n    </g>\n    <g clip-path=\"url(#pfa2ca6f7ff)\">\n     <use style=\"fill:#b15928;stroke:#b15928;stroke-width:0.5;\" x=\"126.307508\" xlink:href=\"#C0_0_dfbc6e937a\" y=\"108.917976\"/>\n    </g>\n    <g clip-path=\"url(#pfa2ca6f7ff)\">\n     <use style=\"fill:#a6cee3;stroke:#a6cee3;stroke-width:0.5;\" x=\"155.626996\" xlink:href=\"#C0_0_dfbc6e937a\" y=\"149.40515\"/>\n    </g>\n    <g clip-path=\"url(#pfa2ca6f7ff)\">\n     <use style=\"fill:#a6cee3;stroke:#a6cee3;stroke-width:0.5;\" x=\"199.712361\" xlink:href=\"#C0_0_dfbc6e937a\" y=\"132.943164\"/>\n    </g>\n    <g clip-path=\"url(#pfa2ca6f7ff)\">\n     <use style=\"fill:#b15928;stroke:#b15928;stroke-width:0.5;\" x=\"100.018907\" xlink:href=\"#C0_0_dfbc6e937a\" y=\"124.196789\"/>\n    </g>\n    <g clip-path=\"url(#pfa2ca6f7ff)\">\n     <use style=\"fill:#a6cee3;stroke:#a6cee3;stroke-width:0.5;\" x=\"283.055617\" xlink:href=\"#C0_0_dfbc6e937a\" y=\"127.833709\"/>\n    </g>\n    <g clip-path=\"url(#pfa2ca6f7ff)\">\n     <use style=\"fill:#b15928;stroke:#b15928;stroke-width:0.5;\" x=\"220.948194\" xlink:href=\"#C0_0_dfbc6e937a\" y=\"127.508343\"/>\n    </g>\n    <g clip-path=\"url(#pfa2ca6f7ff)\">\n     <use style=\"fill:#b15928;stroke:#b15928;stroke-width:0.5;\" x=\"273.767173\" xlink:href=\"#C0_0_dfbc6e937a\" y=\"231.516886\"/>\n    </g>\n    <g clip-path=\"url(#pfa2ca6f7ff)\">\n     <use style=\"fill:#a6cee3;stroke:#a6cee3;stroke-width:0.5;\" x=\"389.598001\" xlink:href=\"#C0_0_dfbc6e937a\" y=\"116.901143\"/>\n    </g>\n    <g clip-path=\"url(#pfa2ca6f7ff)\">\n     <use style=\"fill:#a6cee3;stroke:#a6cee3;stroke-width:0.5;\" x=\"195.538926\" xlink:href=\"#C0_0_dfbc6e937a\" y=\"145.206275\"/>\n    </g>\n    <g clip-path=\"url(#pfa2ca6f7ff)\">\n     <use style=\"fill:#b15928;stroke:#b15928;stroke-width:0.5;\" x=\"280.812513\" xlink:href=\"#C0_0_dfbc6e937a\" y=\"135.245732\"/>\n    </g>\n    <g clip-path=\"url(#pfa2ca6f7ff)\">\n     <use style=\"fill:#b15928;stroke:#b15928;stroke-width:0.5;\" x=\"92.995201\" xlink:href=\"#C0_0_dfbc6e937a\" y=\"56.220904\"/>\n    </g>\n    <g clip-path=\"url(#pfa2ca6f7ff)\">\n     <use style=\"fill:#b15928;stroke:#b15928;stroke-width:0.5;\" x=\"235.8539\" xlink:href=\"#C0_0_dfbc6e937a\" y=\"94.067066\"/>\n    </g>\n    <g clip-path=\"url(#pfa2ca6f7ff)\">\n     <use style=\"fill:#b15928;stroke:#b15928;stroke-width:0.5;\" x=\"192.589616\" xlink:href=\"#C0_0_dfbc6e937a\" y=\"75.359821\"/>\n    </g>\n    <g clip-path=\"url(#pfa2ca6f7ff)\">\n     <use style=\"fill:#a6cee3;stroke:#a6cee3;stroke-width:0.5;\" x=\"265.382095\" xlink:href=\"#C0_0_dfbc6e937a\" y=\"108.973624\"/>\n    </g>\n    <g clip-path=\"url(#pfa2ca6f7ff)\">\n     <use style=\"fill:#b15928;stroke:#b15928;stroke-width:0.5;\" x=\"166.311275\" xlink:href=\"#C0_0_dfbc6e937a\" y=\"87.14622\"/>\n    </g>\n    <g clip-path=\"url(#pfa2ca6f7ff)\">\n     <use style=\"fill:#a6cee3;stroke:#a6cee3;stroke-width:0.5;\" x=\"295.400596\" xlink:href=\"#C0_0_dfbc6e937a\" y=\"83.859218\"/>\n    </g>\n    <g clip-path=\"url(#pfa2ca6f7ff)\">\n     <use style=\"fill:#a6cee3;stroke:#a6cee3;stroke-width:0.5;\" x=\"197.348411\" xlink:href=\"#C0_0_dfbc6e937a\" y=\"148.470548\"/>\n    </g>\n    <g clip-path=\"url(#pfa2ca6f7ff)\">\n     <use style=\"fill:#b15928;stroke:#b15928;stroke-width:0.5;\" x=\"415.489527\" xlink:href=\"#C0_0_dfbc6e937a\" y=\"169.453098\"/>\n    </g>\n    <g clip-path=\"url(#pfa2ca6f7ff)\">\n     <use style=\"fill:#b15928;stroke:#b15928;stroke-width:0.5;\" x=\"233.963467\" xlink:href=\"#C0_0_dfbc6e937a\" y=\"89.837182\"/>\n    </g>\n    <g clip-path=\"url(#pfa2ca6f7ff)\">\n     <use style=\"fill:#a6cee3;stroke:#a6cee3;stroke-width:0.5;\" x=\"251.348863\" xlink:href=\"#C0_0_dfbc6e937a\" y=\"109.911884\"/>\n    </g>\n    <g clip-path=\"url(#pfa2ca6f7ff)\">\n     <use style=\"fill:#b15928;stroke:#b15928;stroke-width:0.5;\" x=\"214.359117\" xlink:href=\"#C0_0_dfbc6e937a\" y=\"117.6273\"/>\n    </g>\n    <g clip-path=\"url(#pfa2ca6f7ff)\">\n     <use style=\"fill:#b15928;stroke:#b15928;stroke-width:0.5;\" x=\"146.872527\" xlink:href=\"#C0_0_dfbc6e937a\" y=\"70.947469\"/>\n    </g>\n    <g clip-path=\"url(#pfa2ca6f7ff)\">\n     <use style=\"fill:#a6cee3;stroke:#a6cee3;stroke-width:0.5;\" x=\"235.28672\" xlink:href=\"#C0_0_dfbc6e937a\" y=\"155.687783\"/>\n    </g>\n    <g clip-path=\"url(#pfa2ca6f7ff)\">\n     <use style=\"fill:#b15928;stroke:#b15928;stroke-width:0.5;\" x=\"293.657026\" xlink:href=\"#C0_0_dfbc6e937a\" y=\"147.73461\"/>\n    </g>\n    <g clip-path=\"url(#pfa2ca6f7ff)\">\n     <use style=\"fill:#a6cee3;stroke:#a6cee3;stroke-width:0.5;\" x=\"144.809295\" xlink:href=\"#C0_0_dfbc6e937a\" y=\"179.843167\"/>\n    </g>\n    <g clip-path=\"url(#pfa2ca6f7ff)\">\n     <use style=\"fill:#b15928;stroke:#b15928;stroke-width:0.5;\" x=\"295.694848\" xlink:href=\"#C0_0_dfbc6e937a\" y=\"136.821066\"/>\n    </g>\n    <g clip-path=\"url(#pfa2ca6f7ff)\">\n     <use style=\"fill:#b15928;stroke:#b15928;stroke-width:0.5;\" x=\"234.130729\" xlink:href=\"#C0_0_dfbc6e937a\" y=\"91.980689\"/>\n    </g>\n    <g clip-path=\"url(#pfa2ca6f7ff)\">\n     <use style=\"fill:#a6cee3;stroke:#a6cee3;stroke-width:0.5;\" x=\"160.242285\" xlink:href=\"#C0_0_dfbc6e937a\" y=\"157.517887\"/>\n    </g>\n    <g clip-path=\"url(#pfa2ca6f7ff)\">\n     <use style=\"fill:#b15928;stroke:#b15928;stroke-width:0.5;\" x=\"215.443067\" xlink:href=\"#C0_0_dfbc6e937a\" y=\"127.618823\"/>\n    </g>\n    <g clip-path=\"url(#pfa2ca6f7ff)\">\n     <use style=\"fill:#a6cee3;stroke:#a6cee3;stroke-width:0.5;\" x=\"240.940569\" xlink:href=\"#C0_0_dfbc6e937a\" y=\"141.434917\"/>\n    </g>\n    <g clip-path=\"url(#pfa2ca6f7ff)\">\n     <use style=\"fill:#a6cee3;stroke:#a6cee3;stroke-width:0.5;\" x=\"239.493121\" xlink:href=\"#C0_0_dfbc6e937a\" y=\"134.926868\"/>\n    </g>\n    <g clip-path=\"url(#pfa2ca6f7ff)\">\n     <use style=\"fill:#a6cee3;stroke:#a6cee3;stroke-width:0.5;\" x=\"190.539558\" xlink:href=\"#C0_0_dfbc6e937a\" y=\"160.500991\"/>\n    </g>\n    <g clip-path=\"url(#pfa2ca6f7ff)\">\n     <use style=\"fill:#b15928;stroke:#b15928;stroke-width:0.5;\" x=\"264.502142\" xlink:href=\"#C0_0_dfbc6e937a\" y=\"163.324888\"/>\n    </g>\n    <g clip-path=\"url(#pfa2ca6f7ff)\">\n     <use style=\"fill:#a6cee3;stroke:#a6cee3;stroke-width:0.5;\" x=\"157.970894\" xlink:href=\"#C0_0_dfbc6e937a\" y=\"142.355596\"/>\n    </g>\n    <g clip-path=\"url(#pfa2ca6f7ff)\">\n     <use style=\"fill:#b15928;stroke:#b15928;stroke-width:0.5;\" x=\"232.347699\" xlink:href=\"#C0_0_dfbc6e937a\" y=\"49.254465\"/>\n    </g>\n    <g clip-path=\"url(#pfa2ca6f7ff)\">\n     <use style=\"fill:#b15928;stroke:#b15928;stroke-width:0.5;\" x=\"191.648424\" xlink:href=\"#C0_0_dfbc6e937a\" y=\"96.854356\"/>\n    </g>\n    <g clip-path=\"url(#pfa2ca6f7ff)\">\n     <use style=\"fill:#b15928;stroke:#b15928;stroke-width:0.5;\" x=\"299.668937\" xlink:href=\"#C0_0_dfbc6e937a\" y=\"174.12549\"/>\n    </g>\n    <g clip-path=\"url(#pfa2ca6f7ff)\">\n     <use style=\"fill:#b15928;stroke:#b15928;stroke-width:0.5;\" x=\"301.608147\" xlink:href=\"#C0_0_dfbc6e937a\" y=\"173.941959\"/>\n    </g>\n    <g clip-path=\"url(#pfa2ca6f7ff)\">\n     <use style=\"fill:#b15928;stroke:#b15928;stroke-width:0.5;\" x=\"46.23571\" xlink:href=\"#C0_0_dfbc6e937a\" y=\"109.065105\"/>\n    </g>\n    <g clip-path=\"url(#pfa2ca6f7ff)\">\n     <use style=\"fill:#b15928;stroke:#b15928;stroke-width:0.5;\" x=\"113.439866\" xlink:href=\"#C0_0_dfbc6e937a\" y=\"114.69626\"/>\n    </g>\n    <g clip-path=\"url(#pfa2ca6f7ff)\">\n     <use style=\"fill:#b15928;stroke:#b15928;stroke-width:0.5;\" x=\"193.187714\" xlink:href=\"#C0_0_dfbc6e937a\" y=\"70.896004\"/>\n    </g>\n    <g clip-path=\"url(#pfa2ca6f7ff)\">\n     <use style=\"fill:#b15928;stroke:#b15928;stroke-width:0.5;\" x=\"323.575224\" xlink:href=\"#C0_0_dfbc6e937a\" y=\"147.468827\"/>\n    </g>\n    <g clip-path=\"url(#pfa2ca6f7ff)\">\n     <use style=\"fill:#a6cee3;stroke:#a6cee3;stroke-width:0.5;\" x=\"192.903007\" xlink:href=\"#C0_0_dfbc6e937a\" y=\"175.03629\"/>\n    </g>\n    <g clip-path=\"url(#pfa2ca6f7ff)\">\n     <use style=\"fill:#a6cee3;stroke:#a6cee3;stroke-width:0.5;\" x=\"211.273481\" xlink:href=\"#C0_0_dfbc6e937a\" y=\"141.198208\"/>\n    </g>\n    <g clip-path=\"url(#pfa2ca6f7ff)\">\n     <use style=\"fill:#b15928;stroke:#b15928;stroke-width:0.5;\" x=\"216.944925\" xlink:href=\"#C0_0_dfbc6e937a\" y=\"125.359177\"/>\n    </g>\n    <g clip-path=\"url(#pfa2ca6f7ff)\">\n     <use style=\"fill:#a6cee3;stroke:#a6cee3;stroke-width:0.5;\" x=\"287.120124\" xlink:href=\"#C0_0_dfbc6e937a\" y=\"118.366647\"/>\n    </g>\n    <g clip-path=\"url(#pfa2ca6f7ff)\">\n     <use style=\"fill:#a6cee3;stroke:#a6cee3;stroke-width:0.5;\" x=\"187.225817\" xlink:href=\"#C0_0_dfbc6e937a\" y=\"183.143688\"/>\n    </g>\n    <g clip-path=\"url(#pfa2ca6f7ff)\">\n     <use style=\"fill:#b15928;stroke:#b15928;stroke-width:0.5;\" x=\"345.599294\" xlink:href=\"#C0_0_dfbc6e937a\" y=\"156.023763\"/>\n    </g>\n    <g clip-path=\"url(#pfa2ca6f7ff)\">\n     <use style=\"fill:#a6cee3;stroke:#a6cee3;stroke-width:0.5;\" x=\"195.547481\" xlink:href=\"#C0_0_dfbc6e937a\" y=\"149.926026\"/>\n    </g>\n    <g clip-path=\"url(#pfa2ca6f7ff)\">\n     <use style=\"fill:#a6cee3;stroke:#a6cee3;stroke-width:0.5;\" x=\"106.95375\" xlink:href=\"#C0_0_dfbc6e937a\" y=\"148.359903\"/>\n    </g>\n    <g clip-path=\"url(#pfa2ca6f7ff)\">\n     <use style=\"fill:#b15928;stroke:#b15928;stroke-width:0.5;\" x=\"208.391732\" xlink:href=\"#C0_0_dfbc6e937a\" y=\"108.55634\"/>\n    </g>\n    <g clip-path=\"url(#pfa2ca6f7ff)\">\n     <use style=\"fill:#a6cee3;stroke:#a6cee3;stroke-width:0.5;\" x=\"296.043337\" xlink:href=\"#C0_0_dfbc6e937a\" y=\"130.901468\"/>\n    </g>\n    <g clip-path=\"url(#pfa2ca6f7ff)\">\n     <use style=\"fill:#a6cee3;stroke:#a6cee3;stroke-width:0.5;\" x=\"313.407644\" xlink:href=\"#C0_0_dfbc6e937a\" y=\"118.717794\"/>\n    </g>\n    <g clip-path=\"url(#pfa2ca6f7ff)\">\n     <use style=\"fill:#b15928;stroke:#b15928;stroke-width:0.5;\" x=\"242.911376\" xlink:href=\"#C0_0_dfbc6e937a\" y=\"125.206088\"/>\n    </g>\n    <g clip-path=\"url(#pfa2ca6f7ff)\">\n     <use style=\"fill:#a6cee3;stroke:#a6cee3;stroke-width:0.5;\" x=\"229.893505\" xlink:href=\"#C0_0_dfbc6e937a\" y=\"145.347471\"/>\n    </g>\n    <g clip-path=\"url(#pfa2ca6f7ff)\">\n     <use style=\"fill:#a6cee3;stroke:#a6cee3;stroke-width:0.5;\" x=\"224.15875\" xlink:href=\"#C0_0_dfbc6e937a\" y=\"171.917256\"/>\n    </g>\n    <g clip-path=\"url(#pfa2ca6f7ff)\">\n     <use style=\"fill:#b15928;stroke:#b15928;stroke-width:0.5;\" x=\"264.942988\" xlink:href=\"#C0_0_dfbc6e937a\" y=\"167.028925\"/>\n    </g>\n    <g clip-path=\"url(#pfa2ca6f7ff)\">\n     <use style=\"fill:#b15928;stroke:#b15928;stroke-width:0.5;\" x=\"306.695491\" xlink:href=\"#C0_0_dfbc6e937a\" y=\"140.078504\"/>\n    </g>\n    <g clip-path=\"url(#pfa2ca6f7ff)\">\n     <use style=\"fill:#a6cee3;stroke:#a6cee3;stroke-width:0.5;\" x=\"247.760552\" xlink:href=\"#C0_0_dfbc6e937a\" y=\"113.14148\"/>\n    </g>\n    <g clip-path=\"url(#pfa2ca6f7ff)\">\n     <use style=\"fill:#b15928;stroke:#b15928;stroke-width:0.5;\" x=\"291.940721\" xlink:href=\"#C0_0_dfbc6e937a\" y=\"187.957517\"/>\n    </g>\n    <g clip-path=\"url(#pfa2ca6f7ff)\">\n     <use style=\"fill:#b15928;stroke:#b15928;stroke-width:0.5;\" x=\"228.684491\" xlink:href=\"#C0_0_dfbc6e937a\" y=\"99.140441\"/>\n    </g>\n    <g clip-path=\"url(#pfa2ca6f7ff)\">\n     <use style=\"fill:#b15928;stroke:#b15928;stroke-width:0.5;\" x=\"117.739052\" xlink:href=\"#C0_0_dfbc6e937a\" y=\"117.003081\"/>\n    </g>\n    <g clip-path=\"url(#pfa2ca6f7ff)\">\n     <use style=\"fill:#a6cee3;stroke:#a6cee3;stroke-width:0.5;\" x=\"76.264146\" xlink:href=\"#C0_0_dfbc6e937a\" y=\"168.093773\"/>\n    </g>\n    <g clip-path=\"url(#pfa2ca6f7ff)\">\n     <use style=\"fill:#b15928;stroke:#b15928;stroke-width:0.5;\" x=\"246.952238\" xlink:href=\"#C0_0_dfbc6e937a\" y=\"191.07748\"/>\n    </g>\n    <g clip-path=\"url(#pfa2ca6f7ff)\">\n     <use style=\"fill:#a6cee3;stroke:#a6cee3;stroke-width:0.5;\" x=\"170.756126\" xlink:href=\"#C0_0_dfbc6e937a\" y=\"184.377426\"/>\n    </g>\n    <g clip-path=\"url(#pfa2ca6f7ff)\">\n     <use style=\"fill:#a6cee3;stroke:#a6cee3;stroke-width:0.5;\" x=\"366.699364\" xlink:href=\"#C0_0_dfbc6e937a\" y=\"125.086511\"/>\n    </g>\n    <g clip-path=\"url(#pfa2ca6f7ff)\">\n     <use style=\"fill:#b15928;stroke:#b15928;stroke-width:0.5;\" x=\"286.284522\" xlink:href=\"#C0_0_dfbc6e937a\" y=\"139.107871\"/>\n    </g>\n    <g clip-path=\"url(#pfa2ca6f7ff)\">\n     <use style=\"fill:#a6cee3;stroke:#a6cee3;stroke-width:0.5;\" x=\"217.782803\" xlink:href=\"#C0_0_dfbc6e937a\" y=\"189.61915\"/>\n    </g>\n    <g clip-path=\"url(#pfa2ca6f7ff)\">\n     <use style=\"fill:#a6cee3;stroke:#a6cee3;stroke-width:0.5;\" x=\"222.365425\" xlink:href=\"#C0_0_dfbc6e937a\" y=\"158.634603\"/>\n    </g>\n    <g clip-path=\"url(#pfa2ca6f7ff)\">\n     <use style=\"fill:#a6cee3;stroke:#a6cee3;stroke-width:0.5;\" x=\"307.907665\" xlink:href=\"#C0_0_dfbc6e937a\" y=\"89.684593\"/>\n    </g>\n    <g clip-path=\"url(#pfa2ca6f7ff)\">\n     <use style=\"fill:#a6cee3;stroke:#a6cee3;stroke-width:0.5;\" x=\"353.191581\" xlink:href=\"#C0_0_dfbc6e937a\" y=\"100.141643\"/>\n    </g>\n   </g>\n   <g id=\"LineCollection_1\">\n    <path clip-path=\"url(#pfa2ca6f7ff)\" d=\"M 20.878125 239.758125 \n\" style=\"fill:none;stroke:#440154;stroke-width:2;\"/>\n   </g>\n   <g id=\"patch_3\">\n    <path d=\"M 20.878125 239.758125 \nL 20.878125 22.318125 \n\" style=\"fill:none;stroke:#ffffff;stroke-linecap:square;stroke-linejoin:miter;\"/>\n   </g>\n   <g id=\"patch_4\">\n    <path d=\"M 467.278125 239.758125 \nL 467.278125 22.318125 \n\" style=\"fill:none;stroke:#ffffff;stroke-linecap:square;stroke-linejoin:miter;\"/>\n   </g>\n   <g id=\"patch_5\">\n    <path d=\"M 20.878125 239.758125 \nL 467.278125 239.758125 \n\" style=\"fill:none;stroke:#ffffff;stroke-linecap:square;stroke-linejoin:miter;\"/>\n   </g>\n   <g id=\"patch_6\">\n    <path d=\"M 20.878125 22.318125 \nL 467.278125 22.318125 \n\" style=\"fill:none;stroke:#ffffff;stroke-linecap:square;stroke-linejoin:miter;\"/>\n   </g>\n   <g id=\"text_3\">\n    <!-- Logistic Regression + quadratic features. XOR problem -->\n    <defs>\n     <path d=\"M 9.8125 72.90625 \nL 19.671875 72.90625 \nL 19.671875 8.296875 \nL 55.171875 8.296875 \nL 55.171875 0 \nL 9.8125 0 \nz\n\" id=\"DejaVuSans-76\"/>\n     <path d=\"M 30.609375 48.390625 \nQ 23.390625 48.390625 19.1875 42.75 \nQ 14.984375 37.109375 14.984375 27.296875 \nQ 14.984375 17.484375 19.15625 11.84375 \nQ 23.34375 6.203125 30.609375 6.203125 \nQ 37.796875 6.203125 41.984375 11.859375 \nQ 46.1875 17.53125 46.1875 27.296875 \nQ 46.1875 37.015625 41.984375 42.703125 \nQ 37.796875 48.390625 30.609375 48.390625 \nz\nM 30.609375 56 \nQ 42.328125 56 49.015625 48.375 \nQ 55.71875 40.765625 55.71875 27.296875 \nQ 55.71875 13.875 49.015625 6.21875 \nQ 42.328125 -1.421875 30.609375 -1.421875 \nQ 18.84375 -1.421875 12.171875 6.21875 \nQ 5.515625 13.875 5.515625 27.296875 \nQ 5.515625 40.765625 12.171875 48.375 \nQ 18.84375 56 30.609375 56 \nz\n\" id=\"DejaVuSans-111\"/>\n     <path d=\"M 45.40625 27.984375 \nQ 45.40625 37.75 41.375 43.109375 \nQ 37.359375 48.484375 30.078125 48.484375 \nQ 22.859375 48.484375 18.828125 43.109375 \nQ 14.796875 37.75 14.796875 27.984375 \nQ 14.796875 18.265625 18.828125 12.890625 \nQ 22.859375 7.515625 30.078125 7.515625 \nQ 37.359375 7.515625 41.375 12.890625 \nQ 45.40625 18.265625 45.40625 27.984375 \nz\nM 54.390625 6.78125 \nQ 54.390625 -7.171875 48.1875 -13.984375 \nQ 42 -20.796875 29.203125 -20.796875 \nQ 24.46875 -20.796875 20.265625 -20.09375 \nQ 16.0625 -19.390625 12.109375 -17.921875 \nL 12.109375 -9.1875 \nQ 16.0625 -11.328125 19.921875 -12.34375 \nQ 23.78125 -13.375 27.78125 -13.375 \nQ 36.625 -13.375 41.015625 -8.765625 \nQ 45.40625 -4.15625 45.40625 5.171875 \nL 45.40625 9.625 \nQ 42.625 4.78125 38.28125 2.390625 \nQ 33.9375 0 27.875 0 \nQ 17.828125 0 11.671875 7.65625 \nQ 5.515625 15.328125 5.515625 27.984375 \nQ 5.515625 40.671875 11.671875 48.328125 \nQ 17.828125 56 27.875 56 \nQ 33.9375 56 38.28125 53.609375 \nQ 42.625 51.21875 45.40625 46.390625 \nL 45.40625 54.6875 \nL 54.390625 54.6875 \nz\n\" id=\"DejaVuSans-103\"/>\n     <path d=\"M 9.421875 54.6875 \nL 18.40625 54.6875 \nL 18.40625 0 \nL 9.421875 0 \nz\nM 9.421875 75.984375 \nL 18.40625 75.984375 \nL 18.40625 64.59375 \nL 9.421875 64.59375 \nz\n\" id=\"DejaVuSans-105\"/>\n     <path d=\"M 44.28125 53.078125 \nL 44.28125 44.578125 \nQ 40.484375 46.53125 36.375 47.5 \nQ 32.28125 48.484375 27.875 48.484375 \nQ 21.1875 48.484375 17.84375 46.4375 \nQ 14.5 44.390625 14.5 40.28125 \nQ 14.5 37.15625 16.890625 35.375 \nQ 19.28125 33.59375 26.515625 31.984375 \nL 29.59375 31.296875 \nQ 39.15625 29.25 43.1875 25.515625 \nQ 47.21875 21.78125 47.21875 15.09375 \nQ 47.21875 7.46875 41.1875 3.015625 \nQ 35.15625 -1.421875 24.609375 -1.421875 \nQ 20.21875 -1.421875 15.453125 -0.5625 \nQ 10.6875 0.296875 5.421875 2 \nL 5.421875 11.28125 \nQ 10.40625 8.6875 15.234375 7.390625 \nQ 20.0625 6.109375 24.8125 6.109375 \nQ 31.15625 6.109375 34.5625 8.28125 \nQ 37.984375 10.453125 37.984375 14.40625 \nQ 37.984375 18.0625 35.515625 20.015625 \nQ 33.0625 21.96875 24.703125 23.78125 \nL 21.578125 24.515625 \nQ 13.234375 26.265625 9.515625 29.90625 \nQ 5.8125 33.546875 5.8125 39.890625 \nQ 5.8125 47.609375 11.28125 51.796875 \nQ 16.75 56 26.8125 56 \nQ 31.78125 56 36.171875 55.265625 \nQ 40.578125 54.546875 44.28125 53.078125 \nz\n\" id=\"DejaVuSans-115\"/>\n     <path d=\"M 18.3125 70.21875 \nL 18.3125 54.6875 \nL 36.8125 54.6875 \nL 36.8125 47.703125 \nL 18.3125 47.703125 \nL 18.3125 18.015625 \nQ 18.3125 11.328125 20.140625 9.421875 \nQ 21.96875 7.515625 27.59375 7.515625 \nL 36.8125 7.515625 \nL 36.8125 0 \nL 27.59375 0 \nQ 17.1875 0 13.234375 3.875 \nQ 9.28125 7.765625 9.28125 18.015625 \nL 9.28125 47.703125 \nL 2.6875 47.703125 \nL 2.6875 54.6875 \nL 9.28125 54.6875 \nL 9.28125 70.21875 \nz\n\" id=\"DejaVuSans-116\"/>\n     <path d=\"M 48.78125 52.59375 \nL 48.78125 44.1875 \nQ 44.96875 46.296875 41.140625 47.34375 \nQ 37.3125 48.390625 33.40625 48.390625 \nQ 24.65625 48.390625 19.8125 42.84375 \nQ 14.984375 37.3125 14.984375 27.296875 \nQ 14.984375 17.28125 19.8125 11.734375 \nQ 24.65625 6.203125 33.40625 6.203125 \nQ 37.3125 6.203125 41.140625 7.25 \nQ 44.96875 8.296875 48.78125 10.40625 \nL 48.78125 2.09375 \nQ 45.015625 0.34375 40.984375 -0.53125 \nQ 36.96875 -1.421875 32.421875 -1.421875 \nQ 20.0625 -1.421875 12.78125 6.34375 \nQ 5.515625 14.109375 5.515625 27.296875 \nQ 5.515625 40.671875 12.859375 48.328125 \nQ 20.21875 56 33.015625 56 \nQ 37.15625 56 41.109375 55.140625 \nQ 45.0625 54.296875 48.78125 52.59375 \nz\n\" id=\"DejaVuSans-99\"/>\n     <path id=\"DejaVuSans-32\"/>\n     <path d=\"M 44.390625 34.1875 \nQ 47.5625 33.109375 50.5625 29.59375 \nQ 53.5625 26.078125 56.59375 19.921875 \nL 66.609375 0 \nL 56 0 \nL 46.6875 18.703125 \nQ 43.0625 26.03125 39.671875 28.421875 \nQ 36.28125 30.8125 30.421875 30.8125 \nL 19.671875 30.8125 \nL 19.671875 0 \nL 9.8125 0 \nL 9.8125 72.90625 \nL 32.078125 72.90625 \nQ 44.578125 72.90625 50.734375 67.671875 \nQ 56.890625 62.453125 56.890625 51.90625 \nQ 56.890625 45.015625 53.6875 40.46875 \nQ 50.484375 35.9375 44.390625 34.1875 \nz\nM 19.671875 64.796875 \nL 19.671875 38.921875 \nL 32.078125 38.921875 \nQ 39.203125 38.921875 42.84375 42.21875 \nQ 46.484375 45.515625 46.484375 51.90625 \nQ 46.484375 58.296875 42.84375 61.546875 \nQ 39.203125 64.796875 32.078125 64.796875 \nz\n\" id=\"DejaVuSans-82\"/>\n     <path d=\"M 56.203125 29.59375 \nL 56.203125 25.203125 \nL 14.890625 25.203125 \nQ 15.484375 15.921875 20.484375 11.0625 \nQ 25.484375 6.203125 34.421875 6.203125 \nQ 39.59375 6.203125 44.453125 7.46875 \nQ 49.3125 8.734375 54.109375 11.28125 \nL 54.109375 2.78125 \nQ 49.265625 0.734375 44.1875 -0.34375 \nQ 39.109375 -1.421875 33.890625 -1.421875 \nQ 20.796875 -1.421875 13.15625 6.1875 \nQ 5.515625 13.8125 5.515625 26.8125 \nQ 5.515625 40.234375 12.765625 48.109375 \nQ 20.015625 56 32.328125 56 \nQ 43.359375 56 49.78125 48.890625 \nQ 56.203125 41.796875 56.203125 29.59375 \nz\nM 47.21875 32.234375 \nQ 47.125 39.59375 43.09375 43.984375 \nQ 39.0625 48.390625 32.421875 48.390625 \nQ 24.90625 48.390625 20.390625 44.140625 \nQ 15.875 39.890625 15.1875 32.171875 \nz\n\" id=\"DejaVuSans-101\"/>\n     <path d=\"M 41.109375 46.296875 \nQ 39.59375 47.171875 37.8125 47.578125 \nQ 36.03125 48 33.890625 48 \nQ 26.265625 48 22.1875 43.046875 \nQ 18.109375 38.09375 18.109375 28.8125 \nL 18.109375 0 \nL 9.078125 0 \nL 9.078125 54.6875 \nL 18.109375 54.6875 \nL 18.109375 46.1875 \nQ 20.953125 51.171875 25.484375 53.578125 \nQ 30.03125 56 36.53125 56 \nQ 37.453125 56 38.578125 55.875 \nQ 39.703125 55.765625 41.0625 55.515625 \nz\n\" id=\"DejaVuSans-114\"/>\n     <path d=\"M 54.890625 33.015625 \nL 54.890625 0 \nL 45.90625 0 \nL 45.90625 32.71875 \nQ 45.90625 40.484375 42.875 44.328125 \nQ 39.84375 48.1875 33.796875 48.1875 \nQ 26.515625 48.1875 22.3125 43.546875 \nQ 18.109375 38.921875 18.109375 30.90625 \nL 18.109375 0 \nL 9.078125 0 \nL 9.078125 54.6875 \nL 18.109375 54.6875 \nL 18.109375 46.1875 \nQ 21.34375 51.125 25.703125 53.5625 \nQ 30.078125 56 35.796875 56 \nQ 45.21875 56 50.046875 50.171875 \nQ 54.890625 44.34375 54.890625 33.015625 \nz\n\" id=\"DejaVuSans-110\"/>\n     <path d=\"M 46 62.703125 \nL 46 35.5 \nL 73.1875 35.5 \nL 73.1875 27.203125 \nL 46 27.203125 \nL 46 0 \nL 37.796875 0 \nL 37.796875 27.203125 \nL 10.59375 27.203125 \nL 10.59375 35.5 \nL 37.796875 35.5 \nL 37.796875 62.703125 \nz\n\" id=\"DejaVuSans-43\"/>\n     <path d=\"M 14.796875 27.296875 \nQ 14.796875 17.390625 18.875 11.75 \nQ 22.953125 6.109375 30.078125 6.109375 \nQ 37.203125 6.109375 41.296875 11.75 \nQ 45.40625 17.390625 45.40625 27.296875 \nQ 45.40625 37.203125 41.296875 42.84375 \nQ 37.203125 48.484375 30.078125 48.484375 \nQ 22.953125 48.484375 18.875 42.84375 \nQ 14.796875 37.203125 14.796875 27.296875 \nz\nM 45.40625 8.203125 \nQ 42.578125 3.328125 38.25 0.953125 \nQ 33.9375 -1.421875 27.875 -1.421875 \nQ 17.96875 -1.421875 11.734375 6.484375 \nQ 5.515625 14.40625 5.515625 27.296875 \nQ 5.515625 40.1875 11.734375 48.09375 \nQ 17.96875 56 27.875 56 \nQ 33.9375 56 38.25 53.625 \nQ 42.578125 51.265625 45.40625 46.390625 \nL 45.40625 54.6875 \nL 54.390625 54.6875 \nL 54.390625 -20.796875 \nL 45.40625 -20.796875 \nz\n\" id=\"DejaVuSans-113\"/>\n     <path d=\"M 8.5 21.578125 \nL 8.5 54.6875 \nL 17.484375 54.6875 \nL 17.484375 21.921875 \nQ 17.484375 14.15625 20.5 10.265625 \nQ 23.53125 6.390625 29.59375 6.390625 \nQ 36.859375 6.390625 41.078125 11.03125 \nQ 45.3125 15.671875 45.3125 23.6875 \nL 45.3125 54.6875 \nL 54.296875 54.6875 \nL 54.296875 0 \nL 45.3125 0 \nL 45.3125 8.40625 \nQ 42.046875 3.421875 37.71875 1 \nQ 33.40625 -1.421875 27.6875 -1.421875 \nQ 18.265625 -1.421875 13.375 4.4375 \nQ 8.5 10.296875 8.5 21.578125 \nz\nM 31.109375 56 \nz\n\" id=\"DejaVuSans-117\"/>\n     <path d=\"M 34.28125 27.484375 \nQ 23.390625 27.484375 19.1875 25 \nQ 14.984375 22.515625 14.984375 16.5 \nQ 14.984375 11.71875 18.140625 8.90625 \nQ 21.296875 6.109375 26.703125 6.109375 \nQ 34.1875 6.109375 38.703125 11.40625 \nQ 43.21875 16.703125 43.21875 25.484375 \nL 43.21875 27.484375 \nz\nM 52.203125 31.203125 \nL 52.203125 0 \nL 43.21875 0 \nL 43.21875 8.296875 \nQ 40.140625 3.328125 35.546875 0.953125 \nQ 30.953125 -1.421875 24.3125 -1.421875 \nQ 15.921875 -1.421875 10.953125 3.296875 \nQ 6 8.015625 6 15.921875 \nQ 6 25.140625 12.171875 29.828125 \nQ 18.359375 34.515625 30.609375 34.515625 \nL 43.21875 34.515625 \nL 43.21875 35.40625 \nQ 43.21875 41.609375 39.140625 45 \nQ 35.0625 48.390625 27.6875 48.390625 \nQ 23 48.390625 18.546875 47.265625 \nQ 14.109375 46.140625 10.015625 43.890625 \nL 10.015625 52.203125 \nQ 14.9375 54.109375 19.578125 55.046875 \nQ 24.21875 56 28.609375 56 \nQ 40.484375 56 46.34375 49.84375 \nQ 52.203125 43.703125 52.203125 31.203125 \nz\n\" id=\"DejaVuSans-97\"/>\n     <path d=\"M 45.40625 46.390625 \nL 45.40625 75.984375 \nL 54.390625 75.984375 \nL 54.390625 0 \nL 45.40625 0 \nL 45.40625 8.203125 \nQ 42.578125 3.328125 38.25 0.953125 \nQ 33.9375 -1.421875 27.875 -1.421875 \nQ 17.96875 -1.421875 11.734375 6.484375 \nQ 5.515625 14.40625 5.515625 27.296875 \nQ 5.515625 40.1875 11.734375 48.09375 \nQ 17.96875 56 27.875 56 \nQ 33.9375 56 38.25 53.625 \nQ 42.578125 51.265625 45.40625 46.390625 \nz\nM 14.796875 27.296875 \nQ 14.796875 17.390625 18.875 11.75 \nQ 22.953125 6.109375 30.078125 6.109375 \nQ 37.203125 6.109375 41.296875 11.75 \nQ 45.40625 17.390625 45.40625 27.296875 \nQ 45.40625 37.203125 41.296875 42.84375 \nQ 37.203125 48.484375 30.078125 48.484375 \nQ 22.953125 48.484375 18.875 42.84375 \nQ 14.796875 37.203125 14.796875 27.296875 \nz\n\" id=\"DejaVuSans-100\"/>\n     <path d=\"M 37.109375 75.984375 \nL 37.109375 68.5 \nL 28.515625 68.5 \nQ 23.6875 68.5 21.796875 66.546875 \nQ 19.921875 64.59375 19.921875 59.515625 \nL 19.921875 54.6875 \nL 34.71875 54.6875 \nL 34.71875 47.703125 \nL 19.921875 47.703125 \nL 19.921875 0 \nL 10.890625 0 \nL 10.890625 47.703125 \nL 2.296875 47.703125 \nL 2.296875 54.6875 \nL 10.890625 54.6875 \nL 10.890625 58.5 \nQ 10.890625 67.625 15.140625 71.796875 \nQ 19.390625 75.984375 28.609375 75.984375 \nz\n\" id=\"DejaVuSans-102\"/>\n     <path d=\"M 10.6875 12.40625 \nL 21 12.40625 \nL 21 0 \nL 10.6875 0 \nz\n\" id=\"DejaVuSans-46\"/>\n     <path d=\"M 6.296875 72.90625 \nL 16.890625 72.90625 \nL 35.015625 45.796875 \nL 53.21875 72.90625 \nL 63.8125 72.90625 \nL 40.375 37.890625 \nL 65.375 0 \nL 54.78125 0 \nL 34.28125 31 \nL 13.625 0 \nL 2.984375 0 \nL 29 38.921875 \nz\n\" id=\"DejaVuSans-88\"/>\n     <path d=\"M 39.40625 66.21875 \nQ 28.65625 66.21875 22.328125 58.203125 \nQ 16.015625 50.203125 16.015625 36.375 \nQ 16.015625 22.609375 22.328125 14.59375 \nQ 28.65625 6.59375 39.40625 6.59375 \nQ 50.140625 6.59375 56.421875 14.59375 \nQ 62.703125 22.609375 62.703125 36.375 \nQ 62.703125 50.203125 56.421875 58.203125 \nQ 50.140625 66.21875 39.40625 66.21875 \nz\nM 39.40625 74.21875 \nQ 54.734375 74.21875 63.90625 63.9375 \nQ 73.09375 53.65625 73.09375 36.375 \nQ 73.09375 19.140625 63.90625 8.859375 \nQ 54.734375 -1.421875 39.40625 -1.421875 \nQ 24.03125 -1.421875 14.8125 8.828125 \nQ 5.609375 19.09375 5.609375 36.375 \nQ 5.609375 53.65625 14.8125 63.9375 \nQ 24.03125 74.21875 39.40625 74.21875 \nz\n\" id=\"DejaVuSans-79\"/>\n     <path d=\"M 18.109375 8.203125 \nL 18.109375 -20.796875 \nL 9.078125 -20.796875 \nL 9.078125 54.6875 \nL 18.109375 54.6875 \nL 18.109375 46.390625 \nQ 20.953125 51.265625 25.265625 53.625 \nQ 29.59375 56 35.59375 56 \nQ 45.5625 56 51.78125 48.09375 \nQ 58.015625 40.1875 58.015625 27.296875 \nQ 58.015625 14.40625 51.78125 6.484375 \nQ 45.5625 -1.421875 35.59375 -1.421875 \nQ 29.59375 -1.421875 25.265625 0.953125 \nQ 20.953125 3.328125 18.109375 8.203125 \nz\nM 48.6875 27.296875 \nQ 48.6875 37.203125 44.609375 42.84375 \nQ 40.53125 48.484375 33.40625 48.484375 \nQ 26.265625 48.484375 22.1875 42.84375 \nQ 18.109375 37.203125 18.109375 27.296875 \nQ 18.109375 17.390625 22.1875 11.75 \nQ 26.265625 6.109375 33.40625 6.109375 \nQ 40.53125 6.109375 44.609375 11.75 \nQ 48.6875 17.390625 48.6875 27.296875 \nz\n\" id=\"DejaVuSans-112\"/>\n     <path d=\"M 48.6875 27.296875 \nQ 48.6875 37.203125 44.609375 42.84375 \nQ 40.53125 48.484375 33.40625 48.484375 \nQ 26.265625 48.484375 22.1875 42.84375 \nQ 18.109375 37.203125 18.109375 27.296875 \nQ 18.109375 17.390625 22.1875 11.75 \nQ 26.265625 6.109375 33.40625 6.109375 \nQ 40.53125 6.109375 44.609375 11.75 \nQ 48.6875 17.390625 48.6875 27.296875 \nz\nM 18.109375 46.390625 \nQ 20.953125 51.265625 25.265625 53.625 \nQ 29.59375 56 35.59375 56 \nQ 45.5625 56 51.78125 48.09375 \nQ 58.015625 40.1875 58.015625 27.296875 \nQ 58.015625 14.40625 51.78125 6.484375 \nQ 45.5625 -1.421875 35.59375 -1.421875 \nQ 29.59375 -1.421875 25.265625 0.953125 \nQ 20.953125 3.328125 18.109375 8.203125 \nL 18.109375 0 \nL 9.078125 0 \nL 9.078125 75.984375 \nL 18.109375 75.984375 \nz\n\" id=\"DejaVuSans-98\"/>\n     <path d=\"M 9.421875 75.984375 \nL 18.40625 75.984375 \nL 18.40625 0 \nL 9.421875 0 \nz\n\" id=\"DejaVuSans-108\"/>\n     <path d=\"M 52 44.1875 \nQ 55.375 50.25 60.0625 53.125 \nQ 64.75 56 71.09375 56 \nQ 79.640625 56 84.28125 50.015625 \nQ 88.921875 44.046875 88.921875 33.015625 \nL 88.921875 0 \nL 79.890625 0 \nL 79.890625 32.71875 \nQ 79.890625 40.578125 77.09375 44.375 \nQ 74.3125 48.1875 68.609375 48.1875 \nQ 61.625 48.1875 57.5625 43.546875 \nQ 53.515625 38.921875 53.515625 30.90625 \nL 53.515625 0 \nL 44.484375 0 \nL 44.484375 32.71875 \nQ 44.484375 40.625 41.703125 44.40625 \nQ 38.921875 48.1875 33.109375 48.1875 \nQ 26.21875 48.1875 22.15625 43.53125 \nQ 18.109375 38.875 18.109375 30.90625 \nL 18.109375 0 \nL 9.078125 0 \nL 9.078125 54.6875 \nL 18.109375 54.6875 \nL 18.109375 46.1875 \nQ 21.1875 51.21875 25.484375 53.609375 \nQ 29.78125 56 35.6875 56 \nQ 41.65625 56 45.828125 52.96875 \nQ 50 49.953125 52 44.1875 \nz\n\" id=\"DejaVuSans-109\"/>\n    </defs>\n    <g transform=\"translate(79.270313 16.318125)scale(0.12 -0.12)\">\n     <use xlink:href=\"#DejaVuSans-76\"/>\n     <use x=\"53.962891\" xlink:href=\"#DejaVuSans-111\"/>\n     <use x=\"115.144531\" xlink:href=\"#DejaVuSans-103\"/>\n     <use x=\"178.621094\" xlink:href=\"#DejaVuSans-105\"/>\n     <use x=\"206.404297\" xlink:href=\"#DejaVuSans-115\"/>\n     <use x=\"258.503906\" xlink:href=\"#DejaVuSans-116\"/>\n     <use x=\"297.712891\" xlink:href=\"#DejaVuSans-105\"/>\n     <use x=\"325.496094\" xlink:href=\"#DejaVuSans-99\"/>\n     <use x=\"380.476562\" xlink:href=\"#DejaVuSans-32\"/>\n     <use x=\"412.263672\" xlink:href=\"#DejaVuSans-82\"/>\n     <use x=\"477.246094\" xlink:href=\"#DejaVuSans-101\"/>\n     <use x=\"538.769531\" xlink:href=\"#DejaVuSans-103\"/>\n     <use x=\"602.246094\" xlink:href=\"#DejaVuSans-114\"/>\n     <use x=\"641.109375\" xlink:href=\"#DejaVuSans-101\"/>\n     <use x=\"702.632812\" xlink:href=\"#DejaVuSans-115\"/>\n     <use x=\"754.732422\" xlink:href=\"#DejaVuSans-115\"/>\n     <use x=\"806.832031\" xlink:href=\"#DejaVuSans-105\"/>\n     <use x=\"834.615234\" xlink:href=\"#DejaVuSans-111\"/>\n     <use x=\"895.796875\" xlink:href=\"#DejaVuSans-110\"/>\n     <use x=\"959.175781\" xlink:href=\"#DejaVuSans-32\"/>\n     <use x=\"990.962891\" xlink:href=\"#DejaVuSans-43\"/>\n     <use x=\"1074.751953\" xlink:href=\"#DejaVuSans-32\"/>\n     <use x=\"1106.539062\" xlink:href=\"#DejaVuSans-113\"/>\n     <use x=\"1170.015625\" xlink:href=\"#DejaVuSans-117\"/>\n     <use x=\"1233.394531\" xlink:href=\"#DejaVuSans-97\"/>\n     <use x=\"1294.673828\" xlink:href=\"#DejaVuSans-100\"/>\n     <use x=\"1358.150391\" xlink:href=\"#DejaVuSans-114\"/>\n     <use x=\"1399.263672\" xlink:href=\"#DejaVuSans-97\"/>\n     <use x=\"1460.542969\" xlink:href=\"#DejaVuSans-116\"/>\n     <use x=\"1499.751953\" xlink:href=\"#DejaVuSans-105\"/>\n     <use x=\"1527.535156\" xlink:href=\"#DejaVuSans-99\"/>\n     <use x=\"1582.515625\" xlink:href=\"#DejaVuSans-32\"/>\n     <use x=\"1614.302734\" xlink:href=\"#DejaVuSans-102\"/>\n     <use x=\"1649.507812\" xlink:href=\"#DejaVuSans-101\"/>\n     <use x=\"1711.03125\" xlink:href=\"#DejaVuSans-97\"/>\n     <use x=\"1772.310547\" xlink:href=\"#DejaVuSans-116\"/>\n     <use x=\"1811.519531\" xlink:href=\"#DejaVuSans-117\"/>\n     <use x=\"1874.898438\" xlink:href=\"#DejaVuSans-114\"/>\n     <use x=\"1913.761719\" xlink:href=\"#DejaVuSans-101\"/>\n     <use x=\"1975.285156\" xlink:href=\"#DejaVuSans-115\"/>\n     <use x=\"2027.384766\" xlink:href=\"#DejaVuSans-46\"/>\n     <use x=\"2059.171875\" xlink:href=\"#DejaVuSans-32\"/>\n     <use x=\"2090.958984\" xlink:href=\"#DejaVuSans-88\"/>\n     <use x=\"2153.089844\" xlink:href=\"#DejaVuSans-79\"/>\n     <use x=\"2231.800781\" xlink:href=\"#DejaVuSans-82\"/>\n     <use x=\"2301.283203\" xlink:href=\"#DejaVuSans-32\"/>\n     <use x=\"2333.070312\" xlink:href=\"#DejaVuSans-112\"/>\n     <use x=\"2396.546875\" xlink:href=\"#DejaVuSans-114\"/>\n     <use x=\"2435.410156\" xlink:href=\"#DejaVuSans-111\"/>\n     <use x=\"2496.591797\" xlink:href=\"#DejaVuSans-98\"/>\n     <use x=\"2560.068359\" xlink:href=\"#DejaVuSans-108\"/>\n     <use x=\"2587.851562\" xlink:href=\"#DejaVuSans-101\"/>\n     <use x=\"2649.375\" xlink:href=\"#DejaVuSans-109\"/>\n    </g>\n   </g>\n  </g>\n  <g id=\"axes_2\">\n   <g id=\"patch_7\">\n    <path clip-path=\"url(#pd9d2fb5092)\" d=\"M 495.178125 239.758125 \nL 495.178125 238.90875 \nL 495.178125 23.1675 \nL 495.178125 22.318125 \nL 506.050125 22.318125 \nL 506.050125 23.1675 \nL 506.050125 238.90875 \nL 506.050125 239.758125 \nz\n\" style=\"fill:#e5e5e5;stroke:#e5e5e5;stroke-linejoin:miter;stroke-width:0.01;\"/>\n   </g>\n   <g id=\"matplotlib.axis_3\"/>\n   <g id=\"matplotlib.axis_4\">\n    <g id=\"ytick_1\">\n     <g id=\"line2d_1\">\n      <defs>\n       <path d=\"M 0 0 \nL 3.5 0 \n\" id=\"m73c76eb460\" style=\"stroke:#555555;stroke-width:0.8;\"/>\n      </defs>\n      <g>\n       <use style=\"fill:#555555;stroke:#555555;stroke-width:0.8;\" x=\"506.050125\" xlink:href=\"#m73c76eb460\" y=\"239.758125\"/>\n      </g>\n     </g>\n     <g id=\"text_4\">\n      <!-- 0.0 -->\n      <defs>\n       <path d=\"M 31.78125 66.40625 \nQ 24.171875 66.40625 20.328125 58.90625 \nQ 16.5 51.421875 16.5 36.375 \nQ 16.5 21.390625 20.328125 13.890625 \nQ 24.171875 6.390625 31.78125 6.390625 \nQ 39.453125 6.390625 43.28125 13.890625 \nQ 47.125 21.390625 47.125 36.375 \nQ 47.125 51.421875 43.28125 58.90625 \nQ 39.453125 66.40625 31.78125 66.40625 \nz\nM 31.78125 74.21875 \nQ 44.046875 74.21875 50.515625 64.515625 \nQ 56.984375 54.828125 56.984375 36.375 \nQ 56.984375 17.96875 50.515625 8.265625 \nQ 44.046875 -1.421875 31.78125 -1.421875 \nQ 19.53125 -1.421875 13.0625 8.265625 \nQ 6.59375 17.96875 6.59375 36.375 \nQ 6.59375 54.828125 13.0625 64.515625 \nQ 19.53125 74.21875 31.78125 74.21875 \nz\n\" id=\"DejaVuSans-48\"/>\n      </defs>\n      <g style=\"fill:#555555;\" transform=\"translate(513.050125 245.456953)scale(0.15 -0.15)\">\n       <use xlink:href=\"#DejaVuSans-48\"/>\n       <use x=\"63.623047\" xlink:href=\"#DejaVuSans-46\"/>\n       <use x=\"95.410156\" xlink:href=\"#DejaVuSans-48\"/>\n      </g>\n     </g>\n    </g>\n    <g id=\"ytick_2\">\n     <g id=\"line2d_2\">\n      <g>\n       <use style=\"fill:#555555;stroke:#555555;stroke-width:0.8;\" x=\"506.050125\" xlink:href=\"#m73c76eb460\" y=\"196.270125\"/>\n      </g>\n     </g>\n     <g id=\"text_5\">\n      <!-- 0.2 -->\n      <g style=\"fill:#555555;\" transform=\"translate(513.050125 201.968953)scale(0.15 -0.15)\">\n       <use xlink:href=\"#DejaVuSans-48\"/>\n       <use x=\"63.623047\" xlink:href=\"#DejaVuSans-46\"/>\n       <use x=\"95.410156\" xlink:href=\"#DejaVuSans-50\"/>\n      </g>\n     </g>\n    </g>\n    <g id=\"ytick_3\">\n     <g id=\"line2d_3\">\n      <g>\n       <use style=\"fill:#555555;stroke:#555555;stroke-width:0.8;\" x=\"506.050125\" xlink:href=\"#m73c76eb460\" y=\"152.782125\"/>\n      </g>\n     </g>\n     <g id=\"text_6\">\n      <!-- 0.4 -->\n      <defs>\n       <path d=\"M 37.796875 64.3125 \nL 12.890625 25.390625 \nL 37.796875 25.390625 \nz\nM 35.203125 72.90625 \nL 47.609375 72.90625 \nL 47.609375 25.390625 \nL 58.015625 25.390625 \nL 58.015625 17.1875 \nL 47.609375 17.1875 \nL 47.609375 0 \nL 37.796875 0 \nL 37.796875 17.1875 \nL 4.890625 17.1875 \nL 4.890625 26.703125 \nz\n\" id=\"DejaVuSans-52\"/>\n      </defs>\n      <g style=\"fill:#555555;\" transform=\"translate(513.050125 158.480953)scale(0.15 -0.15)\">\n       <use xlink:href=\"#DejaVuSans-48\"/>\n       <use x=\"63.623047\" xlink:href=\"#DejaVuSans-46\"/>\n       <use x=\"95.410156\" xlink:href=\"#DejaVuSans-52\"/>\n      </g>\n     </g>\n    </g>\n    <g id=\"ytick_4\">\n     <g id=\"line2d_4\">\n      <g>\n       <use style=\"fill:#555555;stroke:#555555;stroke-width:0.8;\" x=\"506.050125\" xlink:href=\"#m73c76eb460\" y=\"109.294125\"/>\n      </g>\n     </g>\n     <g id=\"text_7\">\n      <!-- 0.6 -->\n      <defs>\n       <path d=\"M 33.015625 40.375 \nQ 26.375 40.375 22.484375 35.828125 \nQ 18.609375 31.296875 18.609375 23.390625 \nQ 18.609375 15.53125 22.484375 10.953125 \nQ 26.375 6.390625 33.015625 6.390625 \nQ 39.65625 6.390625 43.53125 10.953125 \nQ 47.40625 15.53125 47.40625 23.390625 \nQ 47.40625 31.296875 43.53125 35.828125 \nQ 39.65625 40.375 33.015625 40.375 \nz\nM 52.59375 71.296875 \nL 52.59375 62.3125 \nQ 48.875 64.0625 45.09375 64.984375 \nQ 41.3125 65.921875 37.59375 65.921875 \nQ 27.828125 65.921875 22.671875 59.328125 \nQ 17.53125 52.734375 16.796875 39.40625 \nQ 19.671875 43.65625 24.015625 45.921875 \nQ 28.375 48.1875 33.59375 48.1875 \nQ 44.578125 48.1875 50.953125 41.515625 \nQ 57.328125 34.859375 57.328125 23.390625 \nQ 57.328125 12.15625 50.6875 5.359375 \nQ 44.046875 -1.421875 33.015625 -1.421875 \nQ 20.359375 -1.421875 13.671875 8.265625 \nQ 6.984375 17.96875 6.984375 36.375 \nQ 6.984375 53.65625 15.1875 63.9375 \nQ 23.390625 74.21875 37.203125 74.21875 \nQ 40.921875 74.21875 44.703125 73.484375 \nQ 48.484375 72.75 52.59375 71.296875 \nz\n\" id=\"DejaVuSans-54\"/>\n      </defs>\n      <g style=\"fill:#555555;\" transform=\"translate(513.050125 114.992953)scale(0.15 -0.15)\">\n       <use xlink:href=\"#DejaVuSans-48\"/>\n       <use x=\"63.623047\" xlink:href=\"#DejaVuSans-46\"/>\n       <use x=\"95.410156\" xlink:href=\"#DejaVuSans-54\"/>\n      </g>\n     </g>\n    </g>\n    <g id=\"ytick_5\">\n     <g id=\"line2d_5\">\n      <g>\n       <use style=\"fill:#555555;stroke:#555555;stroke-width:0.8;\" x=\"506.050125\" xlink:href=\"#m73c76eb460\" y=\"65.806125\"/>\n      </g>\n     </g>\n     <g id=\"text_8\">\n      <!-- 0.8 -->\n      <defs>\n       <path d=\"M 31.78125 34.625 \nQ 24.75 34.625 20.71875 30.859375 \nQ 16.703125 27.09375 16.703125 20.515625 \nQ 16.703125 13.921875 20.71875 10.15625 \nQ 24.75 6.390625 31.78125 6.390625 \nQ 38.8125 6.390625 42.859375 10.171875 \nQ 46.921875 13.96875 46.921875 20.515625 \nQ 46.921875 27.09375 42.890625 30.859375 \nQ 38.875 34.625 31.78125 34.625 \nz\nM 21.921875 38.8125 \nQ 15.578125 40.375 12.03125 44.71875 \nQ 8.5 49.078125 8.5 55.328125 \nQ 8.5 64.0625 14.71875 69.140625 \nQ 20.953125 74.21875 31.78125 74.21875 \nQ 42.671875 74.21875 48.875 69.140625 \nQ 55.078125 64.0625 55.078125 55.328125 \nQ 55.078125 49.078125 51.53125 44.71875 \nQ 48 40.375 41.703125 38.8125 \nQ 48.828125 37.15625 52.796875 32.3125 \nQ 56.78125 27.484375 56.78125 20.515625 \nQ 56.78125 9.90625 50.3125 4.234375 \nQ 43.84375 -1.421875 31.78125 -1.421875 \nQ 19.734375 -1.421875 13.25 4.234375 \nQ 6.78125 9.90625 6.78125 20.515625 \nQ 6.78125 27.484375 10.78125 32.3125 \nQ 14.796875 37.15625 21.921875 38.8125 \nz\nM 18.3125 54.390625 \nQ 18.3125 48.734375 21.84375 45.5625 \nQ 25.390625 42.390625 31.78125 42.390625 \nQ 38.140625 42.390625 41.71875 45.5625 \nQ 45.3125 48.734375 45.3125 54.390625 \nQ 45.3125 60.0625 41.71875 63.234375 \nQ 38.140625 66.40625 31.78125 66.40625 \nQ 25.390625 66.40625 21.84375 63.234375 \nQ 18.3125 60.0625 18.3125 54.390625 \nz\n\" id=\"DejaVuSans-56\"/>\n      </defs>\n      <g style=\"fill:#555555;\" transform=\"translate(513.050125 71.504953)scale(0.15 -0.15)\">\n       <use xlink:href=\"#DejaVuSans-48\"/>\n       <use x=\"63.623047\" xlink:href=\"#DejaVuSans-46\"/>\n       <use x=\"95.410156\" xlink:href=\"#DejaVuSans-56\"/>\n      </g>\n     </g>\n    </g>\n    <g id=\"ytick_6\">\n     <g id=\"line2d_6\">\n      <g>\n       <use style=\"fill:#555555;stroke:#555555;stroke-width:0.8;\" x=\"506.050125\" xlink:href=\"#m73c76eb460\" y=\"22.318125\"/>\n      </g>\n     </g>\n     <g id=\"text_9\">\n      <!-- 1.0 -->\n      <g style=\"fill:#555555;\" transform=\"translate(513.050125 28.016953)scale(0.15 -0.15)\">\n       <use xlink:href=\"#DejaVuSans-49\"/>\n       <use x=\"63.623047\" xlink:href=\"#DejaVuSans-46\"/>\n       <use x=\"95.410156\" xlink:href=\"#DejaVuSans-48\"/>\n      </g>\n     </g>\n    </g>\n   </g>\n   <image height=\"217\" id=\"imageed64d9683f\" transform=\"scale(1 -1)translate(0 -217)\" width=\"11\" x=\"495\" xlink:href=\"data:image/png;base64,\niVBORw0KGgoAAAANSUhEUgAAAAsAAADZCAYAAAD2WsoCAAAABHNCSVQICAgIfAhkiAAAAXFJREFUaIHtmFFuQyEMBAE7uU5P0vufpQ2YXoGpNNJ7afNtrWaXxQ+lf4zP3Q5/2XuczrYcY5wPI+WIJBhAuXfAbCqD4YiHhnGJ6P5AGpbBEf18uAdhJsoeRj5JkRgGMuhFR7rxRBhkP18jjdCO22P2rlWmlgbZSGNYyvlAn4n7GUTXih23ZxD12evGLctPdl2i97OF0TWDSBmlMUgaFzHIuoG+3f8Gf4uBlEHp4IUN9N7QMEAYUBkxs2WuYXgGw2udpuzlzC4swzj+66tl2wso7wLK9SLKAAMxN8TspbFBGiaGlbPXDYbRvDSActcMtkLMU1Mmw+vLwvCYi0RHlPf6tjDENLTj9jC0E0QYm6SxkbI3vCzlNUH5zTRAN5ByvSyDdZFuIOZJyk9ad8c05gIv811guM7fJi1rW8qLGCxk8HwWR2dhrImUteMWDYInMVJGzOBhbuYMwqBpiMPgj4W3TwNsr5bzfPFfxiA77jdP4wcilQIyzeCubgAAAABJRU5ErkJggg==\" y=\"-22\"/>\n   <g id=\"patch_8\">\n    <path d=\"M 495.178125 239.758125 \nL 495.178125 238.90875 \nL 495.178125 23.1675 \nL 495.178125 22.318125 \nL 506.050125 22.318125 \nL 506.050125 23.1675 \nL 506.050125 238.90875 \nL 506.050125 239.758125 \nz\n\" style=\"fill:none;stroke:#ffffff;stroke-linejoin:miter;\"/>\n   </g>\n  </g>\n </g>\n <defs>\n  <clipPath id=\"pfa2ca6f7ff\">\n   <rect height=\"217.44\" width=\"446.4\" x=\"20.878125\" y=\"22.318125\"/>\n  </clipPath>\n  <clipPath id=\"pd9d2fb5092\">\n   <rect height=\"217.44\" width=\"10.872\" x=\"495.178125\" y=\"22.318125\"/>\n  </clipPath>\n </defs>\n</svg>\n",
      "image/png": "[encoded data removed]"
     },
     "metadata": {}
    }
   ],
   "source": [
    "from sklearn.preprocessing import PolynomialFeatures\n",
    "from sklearn.pipeline import Pipeline\n",
    "\n",
    "# Очень часто удобно использовать Pipeline\n",
    "# для последовательного применения алгоритмов из sklearn\n",
    "logit_pipe = Pipeline([('poly', PolynomialFeatures(degree=2)), \n",
    "                       ('logit', LogisticRegression())])\n",
    "plot_boundary(logit_pipe, X, y,\n",
    "        \"Logistic Regression + quadratic features. XOR problem\")\n",
    "\n",
    "# Проблема решается!"
   ]
  },
  {
   "cell_type": "markdown",
   "metadata": {
    "button": false,
    "colab_type": "text",
    "id": "t5pqXRn7gi2c",
    "new_sheet": false,
    "run_control": {
     "read_only": false
    }
   },
   "source": [
    "### Применение житейской смекалки\n",
    "для создания признаков\n",
    "\n"
   ]
  },
  {
   "cell_type": "markdown",
   "metadata": {
    "button": false,
    "colab_type": "text",
    "id": "uHmQZKwfgi2d",
    "new_sheet": false,
    "run_control": {
     "read_only": false
    }
   },
   "source": [
    "Есть количество комнат и стоимость аренды\n",
    "\n",
    "Выделяем новый признак -- стоимость аренды одной комнаты:\n",
    "```python\n",
    "rooms = df[\"bedrooms\"]\n",
    "df[\"price_per_bedroom\"] = df[\"price\"] / rooms\n",
    "```"
   ]
  },
  {
   "cell_type": "markdown",
   "metadata": {
    "button": false,
    "colab_type": "text",
    "id": "skzGb5IXgi2d",
    "new_sheet": false,
    "run_control": {
     "read_only": false
    }
   },
   "source": [
    "# Отбор признаков\n",
    "\n",
    "1. Чисто статистическими методами\n",
    "2. С использованием моделей\n",
    "3. Перебором"
   ]
  },
  {
   "cell_type": "markdown",
   "metadata": {},
   "source": [
    "Зачем отбирать признаки?"
   ]
  },
  {
   "cell_type": "markdown",
   "metadata": {},
   "source": [
    "Методы отбора:\n",
    "1. Filter\n",
    "2. Wrapper\n",
    "3. Embedded"
   ]
  },
  {
   "cell_type": "markdown",
   "metadata": {
    "button": false,
    "colab_type": "text",
    "id": "IjJCyS7Ogi2d",
    "new_sheet": false,
    "run_control": {
     "read_only": false
    }
   },
   "source": [
    "## Статистические методы"
   ]
  },
  {
   "cell_type": "markdown",
   "metadata": {
    "button": false,
    "colab_type": "text",
    "id": "1o_m_medgi2e",
    "new_sheet": false,
    "run_control": {
     "read_only": false
    }
   },
   "source": [
    "### Отсечение низко вариативных признаков\n",
    "\n",
    "1. Если признак имеет одинаковые значения на всех элементах выборки за исключением очень небольшого подмножества, то такой признак скорее всего не будет полезен.\n",
    "\n",
    "2. Такой же вывод можно сделать для признаков, имеющих одинаковые значения для всех элементов выборки.\n",
    "\n",
    "Чтобы посчитать численно насколько признак вариативен можно посчитать дисперсию этого признака. Дисперсия будет давать 0 для случая 2 и число, близкое к 0 для случая 1.\n",
    "$${ D ={\\dfrac {\\sum \\limits _{i=1}^{n}(X_{i}-{\\bar {X}})^{2}}{n}}}$$\n",
    "* $\\bar{X}$ -- среднее значение признака в датасете $X$\n",
    "\n",
    "\n",
    "В качестве бейзлайна можно воспользоваться отбором признаков по пороговому значению дисперсии.\n",
    "\n",
    "    !ВАЖНО ПОМНИТЬ:\n",
    "    Необходимо, чтобы все признаки в датасете при таком подходе имели одинаковый разброс значений. Т.е максимальное и минимальное значение должно быть одинаковым для всех признаков, чтобы сравнение значений их дисперсий было корректным. Для соблюдения этого условия удобно воспользоваться MinMaxScaler."
   ]
  },
  {
   "cell_type": "code",
   "execution_count": 46,
   "metadata": {},
   "outputs": [],
   "source": [
    "random.seed(14)"
   ]
  },
  {
   "cell_type": "code",
   "execution_count": 47,
   "metadata": {
    "button": false,
    "colab": {},
    "colab_type": "code",
    "id": "vZkdZMtHgi2e",
    "new_sheet": false,
    "outputId": "96d35f04-9df4-4323-d1dc-eee006e7e7d6",
    "run_control": {
     "read_only": false
    }
   },
   "outputs": [
    {
     "output_type": "stream",
     "name": "stdout",
     "text": [
      "data shape:  (100, 20)\n"
     ]
    }
   ],
   "source": [
    "# сгенерируем признаки с разбросом 0..1\n",
    "from sklearn.feature_selection import VarianceThreshold\n",
    "from sklearn.datasets import make_classification\n",
    "\n",
    "x_data_generated, y_data_generated = make_classification(scale=1)\n",
    "print(\"data shape: \", x_data_generated.shape)"
   ]
  },
  {
   "cell_type": "code",
   "execution_count": 48,
   "metadata": {
    "button": false,
    "colab": {},
    "colab_type": "code",
    "id": "2LJV5h6Kgi2i",
    "new_sheet": false,
    "outputId": "97375537-f17c-4ae2-d183-0515d02085ab",
    "run_control": {
     "read_only": false
    }
   },
   "outputs": [
    {
     "output_type": "execute_result",
     "data": {
      "text/plain": [
       "(100, 20)"
      ]
     },
     "metadata": {},
     "execution_count": 48
    }
   ],
   "source": [
    "VarianceThreshold(.1).fit_transform(x_data_generated).shape"
   ]
  },
  {
   "cell_type": "code",
   "execution_count": 49,
   "metadata": {
    "button": false,
    "colab": {},
    "colab_type": "code",
    "id": "2-i0UtmQgi2l",
    "new_sheet": false,
    "outputId": "2928be5e-86ca-4b7b-9332-3e91e5111a0a",
    "run_control": {
     "read_only": false
    }
   },
   "outputs": [
    {
     "output_type": "execute_result",
     "data": {
      "text/plain": [
       "(100, 20)"
      ]
     },
     "metadata": {},
     "execution_count": 49
    }
   ],
   "source": [
    "VarianceThreshold(.2).fit_transform(x_data_generated).shape"
   ]
  },
  {
   "cell_type": "markdown",
   "metadata": {
    "button": false,
    "colab_type": "text",
    "id": "YmyQBePxgi2n",
    "new_sheet": false,
    "run_control": {
     "read_only": false
    }
   },
   "source": [
    "### Отбор k лучших с помощью ANOVA\n",
    "\n",
    "**Главная идея метода ANOVA для задачи классификации**\n",
    "\n",
    "ANOVA -- ANalysis Of VAriance (или дисперсионный анализ).\n",
    "\n",
    "Для каждого признака из датасета мы можем посчитать его выразительную способность. Т.е мы можем получить число, показывающее насколько сильно данный признак различается между различными классами из $Y$. \n",
    "Упрощенное объяснение следующее.\n",
    "\n",
    "1. Используем знания о лейблах $Y$. Считаем дисперсию данного признака внутри каждого класса из $Y$.\n",
    "2. Считаем дисперсию данного признака между группами, которые задает $Y$.\n",
    "2. Финальный скор это -- отношение дисперсии между группами к дисперсии внутри групп.\n",
    "\n",
    "Для лучшего понимания можно посмотреть [видео 1](https://youtu.be/ITf4vHhyGpc) (тут интуиция) и [видео 2](https://youtu.be/q48uKU_KWas) (тут математика).\n",
    "\n",
    "Такой скор можно использовать для ранжирования признаков по их значимости. Реализация из sklearn позволяет заранее задать число признаков, которое мы хотим оставить исходя из полученных с помощью метода ANOVA скоров.\n",
    "\n"
   ]
  },
  {
   "cell_type": "code",
   "execution_count": 55,
   "metadata": {
    "button": false,
    "colab": {},
    "colab_type": "code",
    "id": "ohIoqeH_gi2o",
    "new_sheet": false,
    "run_control": {
     "read_only": false
    }
   },
   "outputs": [],
   "source": [
    "from sklearn.feature_selection import SelectKBest, f_classif\n",
    "\n",
    "# Выбираем 5 лучших фичей с помощью скоринговой функции для классификации f_classif в методе ANOVA\n",
    "x_data_kbest = SelectKBest(f_classif, k=5).fit_transform(x_data_generated, y_data_generated)\n",
    "\n",
    "# Выбираем фичи по граничному значению дисперсии данных\n",
    "x_data_varth = VarianceThreshold(.9).fit_transform(x_data_generated)"
   ]
  },
  {
   "cell_type": "code",
   "execution_count": 56,
   "metadata": {
    "button": false,
    "colab": {},
    "colab_type": "code",
    "id": "_o3nra3Ogi2p",
    "new_sheet": false,
    "outputId": "6af08a2b-8353-4daa-d1ff-83ee191b3750",
    "run_control": {
     "read_only": false
    }
   },
   "outputs": [
    {
     "output_type": "execute_result",
     "data": {
      "text/plain": [
       "0.72"
      ]
     },
     "metadata": {},
     "execution_count": 56
    }
   ],
   "source": [
    "from sklearn.linear_model import LogisticRegression\n",
    "from sklearn.model_selection import cross_val_score\n",
    "\n",
    "# Результат для исходных данных\n",
    "cross_val_score(LogisticRegression(), x_data_generated, y_data_generated, scoring='accuracy').mean()"
   ]
  },
  {
   "cell_type": "code",
   "execution_count": 57,
   "metadata": {
    "button": false,
    "colab": {},
    "colab_type": "code",
    "id": "FQyDlaJFgi2r",
    "new_sheet": false,
    "outputId": "7e6a226a-6717-4923-ae5e-85f0ff8babae",
    "run_control": {
     "read_only": false
    }
   },
   "outputs": [
    {
     "output_type": "execute_result",
     "data": {
      "text/plain": [
       "0.76"
      ]
     },
     "metadata": {},
     "execution_count": 57
    }
   ],
   "source": [
    "# Для отбора по вариативности\n",
    "cross_val_score(LogisticRegression(), x_data_varth, y_data_generated, scoring='accuracy').mean()"
   ]
  },
  {
   "cell_type": "code",
   "execution_count": 58,
   "metadata": {
    "button": false,
    "colab": {},
    "colab_type": "code",
    "id": "3BQrbw2ngi2t",
    "new_sheet": false,
    "outputId": "c1141b70-f999-4e8d-aa64-6194708a96dd",
    "run_control": {
     "read_only": false
    }
   },
   "outputs": [
    {
     "output_type": "execute_result",
     "data": {
      "text/plain": [
       "0.8100000000000002"
      ]
     },
     "metadata": {},
     "execution_count": 58
    }
   ],
   "source": [
    "# Для отбора по ANOVA\n",
    "cross_val_score(LogisticRegression(), x_data_kbest, y_data_generated, scoring='accuracy').mean()"
   ]
  },
  {
   "cell_type": "markdown",
   "metadata": {
    "button": false,
    "colab_type": "text",
    "id": "XNvC_Pkfgi2u",
    "new_sheet": false,
    "run_control": {
     "read_only": false
    }
   },
   "source": [
    "### Использование моделей\n",
    "Для отбора признаков чаще всего используют L1 регуляризацию с линейной/логистической регрессией или случайный лес (о котором вы пока не знаете)"
   ]
  },
  {
   "cell_type": "code",
   "execution_count": 59,
   "metadata": {
    "button": false,
    "colab": {},
    "colab_type": "code",
    "id": "GqcDNxV6gi2v",
    "new_sheet": false,
    "outputId": "f9217014-0673-4072-a025-bcc94c6a7522",
    "run_control": {
     "read_only": false
    }
   },
   "outputs": [
    {
     "output_type": "stream",
     "name": "stdout",
     "text": [
      "0.72\n"
     ]
    }
   ],
   "source": [
    "from sklearn.datasets import make_classification\n",
    "from sklearn.linear_model import LogisticRegression\n",
    "from sklearn.feature_selection import SelectFromModel\n",
    "from sklearn.model_selection import cross_val_score\n",
    "from sklearn.pipeline import make_pipeline\n",
    "\n",
    "# Еще раз покажем результат с простой моделью и исходными данными\n",
    "\n",
    "lr = LogisticRegression()\n",
    "print(cross_val_score(lr, x_data_generated, y_data_generated, scoring='accuracy').mean())"
   ]
  },
  {
   "cell_type": "code",
   "execution_count": 60,
   "metadata": {
    "button": false,
    "colab": {},
    "colab_type": "code",
    "id": "Eu2gEQRkgi2w",
    "new_sheet": false,
    "outputId": "6fd6200c-451d-410e-dc9d-121c2d352a45",
    "run_control": {
     "read_only": false
    }
   },
   "outputs": [
    {
     "output_type": "stream",
     "name": "stdout",
     "text": [
      "0.7100000000000001\n"
     ]
    }
   ],
   "source": [
    "# Теперь произведем отбор признаков с помощью нашей логистической регрессии,\n",
    "# Отобранные признаки подадим далее в саму логистическую регрессию\n",
    "\n",
    "pipe = make_pipeline(SelectFromModel(estimator=LogisticRegression(C=1, penalty='l1', solver='liblinear')), LogisticRegression())\n",
    "print(cross_val_score(pipe, x_data_generated, y_data_generated, scoring='accuracy').mean())"
   ]
  },
  {
   "cell_type": "markdown",
   "metadata": {
    "button": false,
    "colab_type": "text",
    "id": "U1YUP4ULgi2z",
    "new_sheet": false,
    "run_control": {
     "read_only": false
    }
   },
   "source": [
    "Также возможно рекурсивное удаление признаков из датасета с помощью [sklearn.feature_selection.RFE](https://scikit-learn.org/stable/modules/generated/sklearn.feature_selection.RFE.html). \n",
    "\n",
    "В этом случае после удаления наихудшего признака по меркам коэффициентов регрессии, модель будет обучена заново на уже меньшем подмножестве признаков. Затем процесс с удалением признака и переобучением модели повторяется, пока не достигнуто желаемое количество лучших признаков."
   ]
  },
  {
   "cell_type": "markdown",
   "metadata": {
    "button": false,
    "colab_type": "text",
    "id": "hZioudnCgi2z",
    "new_sheet": false,
    "run_control": {
     "read_only": false
    }
   },
   "source": [
    "### Перебор признаков"
   ]
  },
  {
   "cell_type": "markdown",
   "metadata": {
    "button": false,
    "colab_type": "text",
    "id": "x4ZD95Iqgi20",
    "new_sheet": false,
    "run_control": {
     "read_only": false
    }
   },
   "source": [
    "* **SequentialFeatureSelector** - жадный алгоритм поиска подмножества из k признаков на основании результатов кросс-валидации. Может быть использован с любой моделью.\n",
    "\n",
    "Имеет 2 основных сеттинга\n",
    "* Sequential Forward Selection (SFS)\n",
    "\n",
    "        Начальное число избранных признаков 0.\n",
    "        Алгоритм добавляет на каждом шаге один признак, который максимизирует скор на кросс-валидации. Алгоритм           останавливает добавление новых признаков, когда достигнуто необходимое число этих признаков. Используется         по дефолту в `SequentialFeatureSelector`.\n",
    "\n",
    "* Sequential Backward Selection (SBS)\n",
    "\n",
    "        Начальное число избранных признаков N (т.е все признаки включены в коллекцию).\n",
    "        Алгоритм убирает из коллекции на каждом шаге один признак, удаление которого максимизирует скор на кросс-валидации. Алгоритм останавливает удаление признаков, когда достигнуто необходимое число этих признаков. Параметр `forward=False` в `SequentialFeatureSelector`."
   ]
  },
  {
   "cell_type": "code",
   "execution_count": 61,
   "metadata": {
    "button": false,
    "colab": {},
    "colab_type": "code",
    "id": "JZuBsXmGgi22",
    "new_sheet": false,
    "outputId": "71015b8a-d6dd-402d-8f88-3d716ee7fb85",
    "run_control": {
     "read_only": false
    }
   },
   "outputs": [
    {
     "output_type": "stream",
     "name": "stderr",
     "text": [
      "[Parallel(n_jobs=-1)]: Using backend LokyBackend with 12 concurrent workers.\n",
      "[Parallel(n_jobs=-1)]: Done   8 out of  20 | elapsed:    1.3s remaining:    1.9s\n",
      "[Parallel(n_jobs=-1)]: Done  20 out of  20 | elapsed:    1.3s finished\n",
      "\n",
      "[2021-01-15 07:08:52] Features: 1/7 -- score: 0.8200000000000001[Parallel(n_jobs=-1)]: Using backend LokyBackend with 12 concurrent workers.\n",
      "[Parallel(n_jobs=-1)]: Done   6 out of  19 | elapsed:    0.0s remaining:    0.1s\n",
      "[Parallel(n_jobs=-1)]: Done  16 out of  19 | elapsed:    0.1s remaining:    0.0s\n",
      "[Parallel(n_jobs=-1)]: Done  19 out of  19 | elapsed:    0.1s finished\n",
      "\n",
      "[2021-01-15 07:08:52] Features: 2/7 -- score: 0.8400000000000001[Parallel(n_jobs=-1)]: Using backend LokyBackend with 12 concurrent workers.\n",
      "[Parallel(n_jobs=-1)]: Done   5 out of  18 | elapsed:    0.0s remaining:    0.1s\n",
      "[Parallel(n_jobs=-1)]: Done  15 out of  18 | elapsed:    0.0s remaining:    0.0s\n",
      "[Parallel(n_jobs=-1)]: Done  18 out of  18 | elapsed:    0.0s finished\n",
      "\n",
      "[2021-01-15 07:08:52] Features: 3/7 -- score: 0.8500000000000002[Parallel(n_jobs=-1)]: Using backend LokyBackend with 12 concurrent workers.\n",
      "[Parallel(n_jobs=-1)]: Done   3 out of  17 | elapsed:    0.0s remaining:    0.1s\n",
      "[Parallel(n_jobs=-1)]: Done  12 out of  17 | elapsed:    0.0s remaining:    0.0s\n",
      "[Parallel(n_jobs=-1)]: Done  17 out of  17 | elapsed:    0.0s finished\n",
      "\n",
      "[2021-01-15 07:08:52] Features: 4/7 -- score: 0.8600000000000001[Parallel(n_jobs=-1)]: Using backend LokyBackend with 12 concurrent workers.\n",
      "[Parallel(n_jobs=-1)]: Done   2 out of  16 | elapsed:    0.0s remaining:    0.2s\n",
      "[Parallel(n_jobs=-1)]: Done  11 out of  16 | elapsed:    0.0s remaining:    0.0s\n",
      "[Parallel(n_jobs=-1)]: Done  16 out of  16 | elapsed:    0.0s finished\n",
      "\n",
      "[2021-01-15 07:08:52] Features: 5/7 -- score: 0.8700000000000001[Parallel(n_jobs=-1)]: Using backend LokyBackend with 12 concurrent workers.\n",
      "[Parallel(n_jobs=-1)]: Done   8 out of  15 | elapsed:    0.0s remaining:    0.0s\n",
      "[Parallel(n_jobs=-1)]: Done  15 out of  15 | elapsed:    0.0s finished\n",
      "\n",
      "[2021-01-15 07:08:52] Features: 6/7 -- score: 0.8800000000000001[Parallel(n_jobs=-1)]: Using backend LokyBackend with 12 concurrent workers.\n",
      "[Parallel(n_jobs=-1)]: Done   7 out of  14 | elapsed:    0.0s remaining:    0.0s\n",
      "[Parallel(n_jobs=-1)]: Done  14 out of  14 | elapsed:    0.0s finished\n",
      "\n",
      "[2021-01-15 07:08:52] Features: 7/7 -- score: 0.8800000000000001"
     ]
    },
    {
     "output_type": "execute_result",
     "data": {
      "text/plain": [
       "SequentialFeatureSelector(estimator=LogisticRegression(), k_features=7,\n",
       "                          n_jobs=-1, scoring='accuracy', verbose=2)"
      ]
     },
     "metadata": {},
     "execution_count": 61
    }
   ],
   "source": [
    "from mlxtend.feature_selection import SequentialFeatureSelector\n",
    "\n",
    "selector = SequentialFeatureSelector(LogisticRegression(), scoring='accuracy',\n",
    "                                     verbose=2, k_features=7, forward=True, n_jobs=-1)\n",
    "\n",
    "selector.fit(x_data_generated, y_data_generated)"
   ]
  },
  {
   "cell_type": "markdown",
   "metadata": {
    "button": false,
    "colab_type": "text",
    "id": "vz0Vw0hrgi24",
    "new_sheet": false,
    "run_control": {
     "read_only": false
    }
   },
   "source": [
    "Итак, удалось достаточно неплохо улучшить accuracy с этим методом по сравнению с предыдущими, однако, это синтетическая задачка. С реальными данными все намного сложнее."
   ]
  },
  {
   "cell_type": "markdown",
   "metadata": {
    "button": false,
    "colab_type": "text",
    "id": "kxtselOwgi24",
    "new_sheet": false,
    "run_control": {
     "read_only": false
    }
   },
   "source": [
    "# KaggleInClass"
   ]
  },
  {
   "cell_type": "markdown",
   "metadata": {
    "button": false,
    "colab_type": "text",
    "id": "uluK_2rUgi25",
    "new_sheet": false,
    "run_control": {
     "read_only": false
    }
   },
   "source": [
    "Начнем решать соревнование на платформе `Kaggle` (пока только `InClass`)\n",
    "\n",
    "Ссылка на соревнование: https://www.kaggle.com/c/best-home2"
   ]
  },
  {
   "cell_type": "code",
   "execution_count": null,
   "metadata": {
    "button": false,
    "colab": {},
    "colab_type": "code",
    "id": "y_u7wnypgi25",
    "new_sheet": false,
    "run_control": {
     "read_only": false
    }
   },
   "outputs": [],
   "source": [
    "#<YOUR TURN>"
   ]
  },
  {
   "cell_type": "code",
   "execution_count": null,
   "metadata": {
    "button": false,
    "colab": {},
    "colab_type": "code",
    "id": "3Kti1iKXgi26",
    "new_sheet": false,
    "outputId": "d4e5c3fa-36b9-4f70-a310-c32a6a2f03a8",
    "run_control": {
     "read_only": false
    }
   },
   "outputs": [],
   "source": [
    "df = pd.read_csv(\"test.csv\")\n",
    "df.head()"
   ]
  },
  {
   "cell_type": "code",
   "execution_count": null,
   "metadata": {
    "button": false,
    "colab": {},
    "colab_type": "code",
    "id": "mgkVi1_kgi28",
    "new_sheet": false,
    "outputId": "37fdf9ea-0f32-44dd-d733-349c5ddce466",
    "run_control": {
     "read_only": false
    }
   },
   "outputs": [],
   "source": [
    "df.manager_id.nunique()"
   ]
  }
 ],
 "metadata": {
  "colab": {
   "name": "seminar5.ipynb",
   "provenance": [],
   "version": "0.3.2"
  },
  "kernelspec": {
   "display_name": "Python 3",
   "language": "python",
   "name": "python3"
  },
  "language_info": {
   "codemirror_mode": {
    "name": "ipython",
    "version": 3
   },
   "file_extension": ".py",
   "mimetype": "text/x-python",
   "name": "python",
   "nbconvert_exporter": "python",
   "pygments_lexer": "ipython3",
   "version": "3.8.1-final"
  }
 },
 "nbformat": 4,
 "nbformat_minor": 1
}