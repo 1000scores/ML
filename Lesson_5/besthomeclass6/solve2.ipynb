{
 "metadata": {
  "language_info": {
   "codemirror_mode": {
    "name": "ipython",
    "version": 3
   },
   "file_extension": ".py",
   "mimetype": "text/x-python",
   "name": "python",
   "nbconvert_exporter": "python",
   "pygments_lexer": "ipython3",
   "version": "3.8.1-final"
  },
  "orig_nbformat": 2,
  "kernelspec": {
   "name": "python3",
   "display_name": "Python 3",
   "language": "python"
  }
 },
 "nbformat": 4,
 "nbformat_minor": 2,
 "cells": [
  {
   "cell_type": "code",
   "execution_count": 67,
   "metadata": {},
   "outputs": [],
   "source": [
    "import numpy as np\n",
    "import pandas as pd\n",
    "from sklearn.impute import *\n",
    "from scipy.stats import *\n",
    "from sklearn.linear_model import *\n",
    "from sklearn.preprocessing import *\n",
    "from sklearn.pipeline import *\n",
    "from sklearn.feature_selection import *\n",
    "from sklearn.datasets import *\n",
    "from sklearn.model_selection import *\n",
    "%matplotlib inline\n",
    "from matplotlib import pyplot as plt \n",
    "from sklearn.metrics import *"
   ]
  },
  {
   "cell_type": "code",
   "execution_count": 2,
   "metadata": {},
   "outputs": [],
   "source": [
    "%load_ext autoreload\n",
    "%autoreload 2"
   ]
  },
  {
   "cell_type": "code",
   "execution_count": 3,
   "metadata": {},
   "outputs": [
    {
     "output_type": "display_data",
     "data": {
      "text/plain": "(34546, 16)"
     },
     "metadata": {}
    },
    {
     "output_type": "display_data",
     "data": {
      "text/plain": "(14806, 15)"
     },
     "metadata": {}
    }
   ],
   "source": [
    "df_train = pd.read_csv('train-2.csv', converters={'features': eval})\n",
    "df_test = pd.read_csv('test-2.csv', converters={'features': eval})\n",
    "display(df_train.shape)\n",
    "display(df_test.shape)"
   ]
  },
  {
   "cell_type": "code",
   "execution_count": 4,
   "metadata": {},
   "outputs": [
    {
     "output_type": "display_data",
     "data": {
      "text/plain": "(49352, 16)"
     },
     "metadata": {}
    },
    {
     "output_type": "display_data",
     "data": {
      "text/plain": "          Id  bathrooms  bedrooms                       building_id  \\\n0      57094        1.0         3                                 0   \n1      33389        1.0         1  9225efdfb57a50bf3ec17ebab082f94a   \n2      60458        1.0         0  320de7d3cc88e50a7fbbcfde1e825d21   \n3      53048        1.0         2  ce6d18bf3238e668b2bf23f4110b7b67   \n4        592        1.0         3  fee4d465932160318364d9d48d272879   \n...      ...        ...       ...                               ...   \n14801   8577        1.0         1  d9586931e798234e400f348bccaf5215   \n14802  91314        1.0         2  f14c5a7d9fd514887b772e2b6a4ef513   \n14803  38696        1.0         2  61d667a0541bab54f1d19d12601d6855   \n14804  64331        1.0         1  80a120d6bc3aba97f40fee8c2204524b   \n14805  82599        1.0         0  70093585319d049535fdc64e4f387da3   \n\n                   created                                        description  \\\n0      2016-05-19 18:06:27  A FABULOUS 3BR IN MIDTOWN WEST!   PERFECT APAR...   \n1      2016-06-16 02:01:49                    Renovated Kitchen and Bathroom!   \n2      2016-05-04 02:42:50  RARE AND BEST DEAL ON THE MARKET!!!! PERFECT S...   \n3      2016-05-12 05:57:56  Newly renovated flex 2 apartment offers the ne...   \n4      2016-06-16 06:06:15  LOW FEE apartments do not come around like thi...   \n...                    ...                                                ...   \n14801  2016-06-21 04:28:08                                                      \n14802  2016-04-15 12:22:48  NO BROKER FEE!   LUXURY FULL SERVICE MID-RISE ...   \n14803  2016-06-12 09:22:19          Check Out This Lovely, Sunny & Large 2...   \n14804  2016-05-21 02:57:07  Located in the fast-paced Financial District o...   \n14805  2016-05-03 05:30:13  **Marvelous NO FEE studio with FREE RENT unit ...   \n\n                                         display_address  \\\n0      HOW AMAZING IS THIS MIDTOWN WEST STEAL!! NO FE...   \n1                                   55 River Drive South   \n2                                            W 77 Street   \n3                                            John Street   \n4                                       West 16th Street   \n...                                                  ...   \n14801                                           50th Ave   \n14802                                            W-27St    \n14803                                         Carlton St   \n14804                                              Water   \n14805                                               W St   \n\n                                                features  latitude  \\\n0                    [Laundry In Unit, No Fee, Elevator]   40.7647   \n1                   [Dogs Allowed, Cats Allowed, No Fee]   40.7275   \n2                            [Elevator, Hardwood Floors]   40.7798   \n3      [Swimming Pool, Doorman, Elevator, Fitness Cen...   40.7081   \n4      [Laundry in Building, Laundry in Unit, Dishwas...   40.7416   \n...                                                  ...       ...   \n14801  [Elevator, Fitness Center, Cats Allowed, Dogs ...   40.7437   \n14802  [Common Outdoor Space, Laundry In Unit, Cats A...   40.7490   \n14803                                                 []   40.7238   \n14804  [Roof Deck, Doorman, Elevator, Fitness Center,...   40.7075   \n14805  [Doorman, Elevator, Laundry in Building, Dishw...   40.7100   \n\n       listing_id  longitude                        manager_id  \\\n0         7039994   -73.9918  4bdc3d8c1aaa90d997ce2cb77680679b   \n1         7166774   -74.0322  e5808a5e6cc13988fe596704428d38d5   \n2         6962716   -73.9751  d69d4e111612dd12ef864031c1148543   \n3         7002458   -74.0065  e6472c7237327dd3903b3d6f6a94515a   \n4         7170465   -74.0025  6fba9b3a8327c607b8b043716efee684   \n...           ...        ...                               ...   \n14801     7190465   -73.9585  918acb34f159aeefe0b829a53ed6179c   \n14802     6880034   -73.9991  b86f058ac6fd8bf03193369be9e0d396   \n14803     7148415   -73.8623  605757e0108c66606280905d76d50e80   \n14804     7047583   -74.0043  e6472c7237327dd3903b3d6f6a94515a   \n14805     6958612   -74.0143  30a7951cfc21240e8c46b2d079d292e5   \n\n                                                  photos  price  \\\n0      ['https://photos.renthop.com/2/7039994_07be01b...   4495   \n1      ['https://photos.renthop.com/2/7166774_03cf63a...   2570   \n2      ['https://photos.renthop.com/2/6962716_ec7f56f...   1795   \n3      ['https://photos.renthop.com/2/7002458_93f4010...   3400   \n4      ['https://photos.renthop.com/2/7170465_9c3f173...   5695   \n...                                                  ...    ...   \n14801                                                 []   3420   \n14802  ['https://photos.renthop.com/2/6880034_533ce59...   4200   \n14803  ['https://photos.renthop.com/2/7148415_d4d4c4f...   1800   \n14804  ['https://photos.renthop.com/2/7047583_80f69a3...   3325   \n14805  ['https://photos.renthop.com/2/6958612_52d0a93...   2345   \n\n             street_address  TARGET  \n0             W 50 & AVE 10  medium  \n1      55 River Drive South  medium  \n2            22 W 77 Street     low  \n3           100 John Street     low  \n4      321 West 16th Street     low  \n...                     ...     ...  \n14801         2-01 50th Ave     NaN  \n14802         303 10TH AVE      NaN  \n14803     63-145 Carlton St     NaN  \n14804             200 Water     NaN  \n14805               90 W St     NaN  \n\n[49352 rows x 16 columns]",
      "text/html": "<div>\n<style scoped>\n    .dataframe tbody tr th:only-of-type {\n        vertical-align: middle;\n    }\n\n    .dataframe tbody tr th {\n        vertical-align: top;\n    }\n\n    .dataframe thead th {\n        text-align: right;\n    }\n</style>\n<table border=\"1\" class=\"dataframe\">\n  <thead>\n    <tr style=\"text-align: right;\">\n      <th></th>\n      <th>Id</th>\n      <th>bathrooms</th>\n      <th>bedrooms</th>\n      <th>building_id</th>\n      <th>created</th>\n      <th>description</th>\n      <th>display_address</th>\n      <th>features</th>\n      <th>latitude</th>\n      <th>listing_id</th>\n      <th>longitude</th>\n      <th>manager_id</th>\n      <th>photos</th>\n      <th>price</th>\n      <th>street_address</th>\n      <th>TARGET</th>\n    </tr>\n  </thead>\n  <tbody>\n    <tr>\n      <th>0</th>\n      <td>57094</td>\n      <td>1.0</td>\n      <td>3</td>\n      <td>0</td>\n      <td>2016-05-19 18:06:27</td>\n      <td>A FABULOUS 3BR IN MIDTOWN WEST!   PERFECT APAR...</td>\n      <td>HOW AMAZING IS THIS MIDTOWN WEST STEAL!! NO FE...</td>\n      <td>[Laundry In Unit, No Fee, Elevator]</td>\n      <td>40.7647</td>\n      <td>7039994</td>\n      <td>-73.9918</td>\n      <td>4bdc3d8c1aaa90d997ce2cb77680679b</td>\n      <td>['https://photos.renthop.com/2/7039994_07be01b...</td>\n      <td>4495</td>\n      <td>W 50 &amp; AVE 10</td>\n      <td>medium</td>\n    </tr>\n    <tr>\n      <th>1</th>\n      <td>33389</td>\n      <td>1.0</td>\n      <td>1</td>\n      <td>9225efdfb57a50bf3ec17ebab082f94a</td>\n      <td>2016-06-16 02:01:49</td>\n      <td>Renovated Kitchen and Bathroom!</td>\n      <td>55 River Drive South</td>\n      <td>[Dogs Allowed, Cats Allowed, No Fee]</td>\n      <td>40.7275</td>\n      <td>7166774</td>\n      <td>-74.0322</td>\n      <td>e5808a5e6cc13988fe596704428d38d5</td>\n      <td>['https://photos.renthop.com/2/7166774_03cf63a...</td>\n      <td>2570</td>\n      <td>55 River Drive South</td>\n      <td>medium</td>\n    </tr>\n    <tr>\n      <th>2</th>\n      <td>60458</td>\n      <td>1.0</td>\n      <td>0</td>\n      <td>320de7d3cc88e50a7fbbcfde1e825d21</td>\n      <td>2016-05-04 02:42:50</td>\n      <td>RARE AND BEST DEAL ON THE MARKET!!!! PERFECT S...</td>\n      <td>W 77 Street</td>\n      <td>[Elevator, Hardwood Floors]</td>\n      <td>40.7798</td>\n      <td>6962716</td>\n      <td>-73.9751</td>\n      <td>d69d4e111612dd12ef864031c1148543</td>\n      <td>['https://photos.renthop.com/2/6962716_ec7f56f...</td>\n      <td>1795</td>\n      <td>22 W 77 Street</td>\n      <td>low</td>\n    </tr>\n    <tr>\n      <th>3</th>\n      <td>53048</td>\n      <td>1.0</td>\n      <td>2</td>\n      <td>ce6d18bf3238e668b2bf23f4110b7b67</td>\n      <td>2016-05-12 05:57:56</td>\n      <td>Newly renovated flex 2 apartment offers the ne...</td>\n      <td>John Street</td>\n      <td>[Swimming Pool, Doorman, Elevator, Fitness Cen...</td>\n      <td>40.7081</td>\n      <td>7002458</td>\n      <td>-74.0065</td>\n      <td>e6472c7237327dd3903b3d6f6a94515a</td>\n      <td>['https://photos.renthop.com/2/7002458_93f4010...</td>\n      <td>3400</td>\n      <td>100 John Street</td>\n      <td>low</td>\n    </tr>\n    <tr>\n      <th>4</th>\n      <td>592</td>\n      <td>1.0</td>\n      <td>3</td>\n      <td>fee4d465932160318364d9d48d272879</td>\n      <td>2016-06-16 06:06:15</td>\n      <td>LOW FEE apartments do not come around like thi...</td>\n      <td>West 16th Street</td>\n      <td>[Laundry in Building, Laundry in Unit, Dishwas...</td>\n      <td>40.7416</td>\n      <td>7170465</td>\n      <td>-74.0025</td>\n      <td>6fba9b3a8327c607b8b043716efee684</td>\n      <td>['https://photos.renthop.com/2/7170465_9c3f173...</td>\n      <td>5695</td>\n      <td>321 West 16th Street</td>\n      <td>low</td>\n    </tr>\n    <tr>\n      <th>...</th>\n      <td>...</td>\n      <td>...</td>\n      <td>...</td>\n      <td>...</td>\n      <td>...</td>\n      <td>...</td>\n      <td>...</td>\n      <td>...</td>\n      <td>...</td>\n      <td>...</td>\n      <td>...</td>\n      <td>...</td>\n      <td>...</td>\n      <td>...</td>\n      <td>...</td>\n      <td>...</td>\n    </tr>\n    <tr>\n      <th>14801</th>\n      <td>8577</td>\n      <td>1.0</td>\n      <td>1</td>\n      <td>d9586931e798234e400f348bccaf5215</td>\n      <td>2016-06-21 04:28:08</td>\n      <td></td>\n      <td>50th Ave</td>\n      <td>[Elevator, Fitness Center, Cats Allowed, Dogs ...</td>\n      <td>40.7437</td>\n      <td>7190465</td>\n      <td>-73.9585</td>\n      <td>918acb34f159aeefe0b829a53ed6179c</td>\n      <td>[]</td>\n      <td>3420</td>\n      <td>2-01 50th Ave</td>\n      <td>NaN</td>\n    </tr>\n    <tr>\n      <th>14802</th>\n      <td>91314</td>\n      <td>1.0</td>\n      <td>2</td>\n      <td>f14c5a7d9fd514887b772e2b6a4ef513</td>\n      <td>2016-04-15 12:22:48</td>\n      <td>NO BROKER FEE!   LUXURY FULL SERVICE MID-RISE ...</td>\n      <td>W-27St</td>\n      <td>[Common Outdoor Space, Laundry In Unit, Cats A...</td>\n      <td>40.7490</td>\n      <td>6880034</td>\n      <td>-73.9991</td>\n      <td>b86f058ac6fd8bf03193369be9e0d396</td>\n      <td>['https://photos.renthop.com/2/6880034_533ce59...</td>\n      <td>4200</td>\n      <td>303 10TH AVE</td>\n      <td>NaN</td>\n    </tr>\n    <tr>\n      <th>14803</th>\n      <td>38696</td>\n      <td>1.0</td>\n      <td>2</td>\n      <td>61d667a0541bab54f1d19d12601d6855</td>\n      <td>2016-06-12 09:22:19</td>\n      <td>Check Out This Lovely, Sunny &amp; Large 2...</td>\n      <td>Carlton St</td>\n      <td>[]</td>\n      <td>40.7238</td>\n      <td>7148415</td>\n      <td>-73.8623</td>\n      <td>605757e0108c66606280905d76d50e80</td>\n      <td>['https://photos.renthop.com/2/7148415_d4d4c4f...</td>\n      <td>1800</td>\n      <td>63-145 Carlton St</td>\n      <td>NaN</td>\n    </tr>\n    <tr>\n      <th>14804</th>\n      <td>64331</td>\n      <td>1.0</td>\n      <td>1</td>\n      <td>80a120d6bc3aba97f40fee8c2204524b</td>\n      <td>2016-05-21 02:57:07</td>\n      <td>Located in the fast-paced Financial District o...</td>\n      <td>Water</td>\n      <td>[Roof Deck, Doorman, Elevator, Fitness Center,...</td>\n      <td>40.7075</td>\n      <td>7047583</td>\n      <td>-74.0043</td>\n      <td>e6472c7237327dd3903b3d6f6a94515a</td>\n      <td>['https://photos.renthop.com/2/7047583_80f69a3...</td>\n      <td>3325</td>\n      <td>200 Water</td>\n      <td>NaN</td>\n    </tr>\n    <tr>\n      <th>14805</th>\n      <td>82599</td>\n      <td>1.0</td>\n      <td>0</td>\n      <td>70093585319d049535fdc64e4f387da3</td>\n      <td>2016-05-03 05:30:13</td>\n      <td>**Marvelous NO FEE studio with FREE RENT unit ...</td>\n      <td>W St</td>\n      <td>[Doorman, Elevator, Laundry in Building, Dishw...</td>\n      <td>40.7100</td>\n      <td>6958612</td>\n      <td>-74.0143</td>\n      <td>30a7951cfc21240e8c46b2d079d292e5</td>\n      <td>['https://photos.renthop.com/2/6958612_52d0a93...</td>\n      <td>2345</td>\n      <td>90 W St</td>\n      <td>NaN</td>\n    </tr>\n  </tbody>\n</table>\n<p>49352 rows × 16 columns</p>\n</div>"
     },
     "metadata": {}
    }
   ],
   "source": [
    "df = pd.concat([df_train, df_test])\n",
    "display(df.shape)\n",
    "display(df)"
   ]
  },
  {
   "cell_type": "code",
   "execution_count": 5,
   "metadata": {},
   "outputs": [
    {
     "output_type": "display_data",
     "data": {
      "text/plain": "       bathrooms  bedrooms                       building_id  \\\nid                                                             \n57094        1.0         3                                 0   \n33389        1.0         1  9225efdfb57a50bf3ec17ebab082f94a   \n60458        1.0         0  320de7d3cc88e50a7fbbcfde1e825d21   \n53048        1.0         2  ce6d18bf3238e668b2bf23f4110b7b67   \n592          1.0         3  fee4d465932160318364d9d48d272879   \n...          ...       ...                               ...   \n8577         1.0         1  d9586931e798234e400f348bccaf5215   \n91314        1.0         2  f14c5a7d9fd514887b772e2b6a4ef513   \n38696        1.0         2  61d667a0541bab54f1d19d12601d6855   \n64331        1.0         1  80a120d6bc3aba97f40fee8c2204524b   \n82599        1.0         0  70093585319d049535fdc64e4f387da3   \n\n                   created                                        description  \\\nid                                                                              \n57094  2016-05-19 18:06:27  A FABULOUS 3BR IN MIDTOWN WEST!   PERFECT APAR...   \n33389  2016-06-16 02:01:49                    Renovated Kitchen and Bathroom!   \n60458  2016-05-04 02:42:50  RARE AND BEST DEAL ON THE MARKET!!!! PERFECT S...   \n53048  2016-05-12 05:57:56  Newly renovated flex 2 apartment offers the ne...   \n592    2016-06-16 06:06:15  LOW FEE apartments do not come around like thi...   \n...                    ...                                                ...   \n8577   2016-06-21 04:28:08                                                      \n91314  2016-04-15 12:22:48  NO BROKER FEE!   LUXURY FULL SERVICE MID-RISE ...   \n38696  2016-06-12 09:22:19          Check Out This Lovely, Sunny & Large 2...   \n64331  2016-05-21 02:57:07  Located in the fast-paced Financial District o...   \n82599  2016-05-03 05:30:13  **Marvelous NO FEE studio with FREE RENT unit ...   \n\n                                         display_address  \\\nid                                                         \n57094  HOW AMAZING IS THIS MIDTOWN WEST STEAL!! NO FE...   \n33389                               55 River Drive South   \n60458                                        W 77 Street   \n53048                                        John Street   \n592                                     West 16th Street   \n...                                                  ...   \n8577                                            50th Ave   \n91314                                            W-27St    \n38696                                         Carlton St   \n64331                                              Water   \n82599                                               W St   \n\n                                                features  latitude  \\\nid                                                                   \n57094                [Laundry In Unit, No Fee, Elevator]   40.7647   \n33389               [Dogs Allowed, Cats Allowed, No Fee]   40.7275   \n60458                        [Elevator, Hardwood Floors]   40.7798   \n53048  [Swimming Pool, Doorman, Elevator, Fitness Cen...   40.7081   \n592    [Laundry in Building, Laundry in Unit, Dishwas...   40.7416   \n...                                                  ...       ...   \n8577   [Elevator, Fitness Center, Cats Allowed, Dogs ...   40.7437   \n91314  [Common Outdoor Space, Laundry In Unit, Cats A...   40.7490   \n38696                                                 []   40.7238   \n64331  [Roof Deck, Doorman, Elevator, Fitness Center,...   40.7075   \n82599  [Doorman, Elevator, Laundry in Building, Dishw...   40.7100   \n\n       listing_id  longitude                        manager_id  \\\nid                                                               \n57094     7039994   -73.9918  4bdc3d8c1aaa90d997ce2cb77680679b   \n33389     7166774   -74.0322  e5808a5e6cc13988fe596704428d38d5   \n60458     6962716   -73.9751  d69d4e111612dd12ef864031c1148543   \n53048     7002458   -74.0065  e6472c7237327dd3903b3d6f6a94515a   \n592       7170465   -74.0025  6fba9b3a8327c607b8b043716efee684   \n...           ...        ...                               ...   \n8577      7190465   -73.9585  918acb34f159aeefe0b829a53ed6179c   \n91314     6880034   -73.9991  b86f058ac6fd8bf03193369be9e0d396   \n38696     7148415   -73.8623  605757e0108c66606280905d76d50e80   \n64331     7047583   -74.0043  e6472c7237327dd3903b3d6f6a94515a   \n82599     6958612   -74.0143  30a7951cfc21240e8c46b2d079d292e5   \n\n                                                  photos  price  \\\nid                                                                \n57094  ['https://photos.renthop.com/2/7039994_07be01b...   4495   \n33389  ['https://photos.renthop.com/2/7166774_03cf63a...   2570   \n60458  ['https://photos.renthop.com/2/6962716_ec7f56f...   1795   \n53048  ['https://photos.renthop.com/2/7002458_93f4010...   3400   \n592    ['https://photos.renthop.com/2/7170465_9c3f173...   5695   \n...                                                  ...    ...   \n8577                                                  []   3420   \n91314  ['https://photos.renthop.com/2/6880034_533ce59...   4200   \n38696  ['https://photos.renthop.com/2/7148415_d4d4c4f...   1800   \n64331  ['https://photos.renthop.com/2/7047583_80f69a3...   3325   \n82599  ['https://photos.renthop.com/2/6958612_52d0a93...   2345   \n\n             street_address  target  \nid                                   \n57094         W 50 & AVE 10  medium  \n33389  55 River Drive South  medium  \n60458        22 W 77 Street     low  \n53048       100 John Street     low  \n592    321 West 16th Street     low  \n...                     ...     ...  \n8577          2-01 50th Ave     NaN  \n91314         303 10TH AVE      NaN  \n38696     63-145 Carlton St     NaN  \n64331             200 Water     NaN  \n82599               90 W St     NaN  \n\n[49352 rows x 15 columns]",
      "text/html": "<div>\n<style scoped>\n    .dataframe tbody tr th:only-of-type {\n        vertical-align: middle;\n    }\n\n    .dataframe tbody tr th {\n        vertical-align: top;\n    }\n\n    .dataframe thead th {\n        text-align: right;\n    }\n</style>\n<table border=\"1\" class=\"dataframe\">\n  <thead>\n    <tr style=\"text-align: right;\">\n      <th></th>\n      <th>bathrooms</th>\n      <th>bedrooms</th>\n      <th>building_id</th>\n      <th>created</th>\n      <th>description</th>\n      <th>display_address</th>\n      <th>features</th>\n      <th>latitude</th>\n      <th>listing_id</th>\n      <th>longitude</th>\n      <th>manager_id</th>\n      <th>photos</th>\n      <th>price</th>\n      <th>street_address</th>\n      <th>target</th>\n    </tr>\n    <tr>\n      <th>id</th>\n      <th></th>\n      <th></th>\n      <th></th>\n      <th></th>\n      <th></th>\n      <th></th>\n      <th></th>\n      <th></th>\n      <th></th>\n      <th></th>\n      <th></th>\n      <th></th>\n      <th></th>\n      <th></th>\n      <th></th>\n    </tr>\n  </thead>\n  <tbody>\n    <tr>\n      <th>57094</th>\n      <td>1.0</td>\n      <td>3</td>\n      <td>0</td>\n      <td>2016-05-19 18:06:27</td>\n      <td>A FABULOUS 3BR IN MIDTOWN WEST!   PERFECT APAR...</td>\n      <td>HOW AMAZING IS THIS MIDTOWN WEST STEAL!! NO FE...</td>\n      <td>[Laundry In Unit, No Fee, Elevator]</td>\n      <td>40.7647</td>\n      <td>7039994</td>\n      <td>-73.9918</td>\n      <td>4bdc3d8c1aaa90d997ce2cb77680679b</td>\n      <td>['https://photos.renthop.com/2/7039994_07be01b...</td>\n      <td>4495</td>\n      <td>W 50 &amp; AVE 10</td>\n      <td>medium</td>\n    </tr>\n    <tr>\n      <th>33389</th>\n      <td>1.0</td>\n      <td>1</td>\n      <td>9225efdfb57a50bf3ec17ebab082f94a</td>\n      <td>2016-06-16 02:01:49</td>\n      <td>Renovated Kitchen and Bathroom!</td>\n      <td>55 River Drive South</td>\n      <td>[Dogs Allowed, Cats Allowed, No Fee]</td>\n      <td>40.7275</td>\n      <td>7166774</td>\n      <td>-74.0322</td>\n      <td>e5808a5e6cc13988fe596704428d38d5</td>\n      <td>['https://photos.renthop.com/2/7166774_03cf63a...</td>\n      <td>2570</td>\n      <td>55 River Drive South</td>\n      <td>medium</td>\n    </tr>\n    <tr>\n      <th>60458</th>\n      <td>1.0</td>\n      <td>0</td>\n      <td>320de7d3cc88e50a7fbbcfde1e825d21</td>\n      <td>2016-05-04 02:42:50</td>\n      <td>RARE AND BEST DEAL ON THE MARKET!!!! PERFECT S...</td>\n      <td>W 77 Street</td>\n      <td>[Elevator, Hardwood Floors]</td>\n      <td>40.7798</td>\n      <td>6962716</td>\n      <td>-73.9751</td>\n      <td>d69d4e111612dd12ef864031c1148543</td>\n      <td>['https://photos.renthop.com/2/6962716_ec7f56f...</td>\n      <td>1795</td>\n      <td>22 W 77 Street</td>\n      <td>low</td>\n    </tr>\n    <tr>\n      <th>53048</th>\n      <td>1.0</td>\n      <td>2</td>\n      <td>ce6d18bf3238e668b2bf23f4110b7b67</td>\n      <td>2016-05-12 05:57:56</td>\n      <td>Newly renovated flex 2 apartment offers the ne...</td>\n      <td>John Street</td>\n      <td>[Swimming Pool, Doorman, Elevator, Fitness Cen...</td>\n      <td>40.7081</td>\n      <td>7002458</td>\n      <td>-74.0065</td>\n      <td>e6472c7237327dd3903b3d6f6a94515a</td>\n      <td>['https://photos.renthop.com/2/7002458_93f4010...</td>\n      <td>3400</td>\n      <td>100 John Street</td>\n      <td>low</td>\n    </tr>\n    <tr>\n      <th>592</th>\n      <td>1.0</td>\n      <td>3</td>\n      <td>fee4d465932160318364d9d48d272879</td>\n      <td>2016-06-16 06:06:15</td>\n      <td>LOW FEE apartments do not come around like thi...</td>\n      <td>West 16th Street</td>\n      <td>[Laundry in Building, Laundry in Unit, Dishwas...</td>\n      <td>40.7416</td>\n      <td>7170465</td>\n      <td>-74.0025</td>\n      <td>6fba9b3a8327c607b8b043716efee684</td>\n      <td>['https://photos.renthop.com/2/7170465_9c3f173...</td>\n      <td>5695</td>\n      <td>321 West 16th Street</td>\n      <td>low</td>\n    </tr>\n    <tr>\n      <th>...</th>\n      <td>...</td>\n      <td>...</td>\n      <td>...</td>\n      <td>...</td>\n      <td>...</td>\n      <td>...</td>\n      <td>...</td>\n      <td>...</td>\n      <td>...</td>\n      <td>...</td>\n      <td>...</td>\n      <td>...</td>\n      <td>...</td>\n      <td>...</td>\n      <td>...</td>\n    </tr>\n    <tr>\n      <th>8577</th>\n      <td>1.0</td>\n      <td>1</td>\n      <td>d9586931e798234e400f348bccaf5215</td>\n      <td>2016-06-21 04:28:08</td>\n      <td></td>\n      <td>50th Ave</td>\n      <td>[Elevator, Fitness Center, Cats Allowed, Dogs ...</td>\n      <td>40.7437</td>\n      <td>7190465</td>\n      <td>-73.9585</td>\n      <td>918acb34f159aeefe0b829a53ed6179c</td>\n      <td>[]</td>\n      <td>3420</td>\n      <td>2-01 50th Ave</td>\n      <td>NaN</td>\n    </tr>\n    <tr>\n      <th>91314</th>\n      <td>1.0</td>\n      <td>2</td>\n      <td>f14c5a7d9fd514887b772e2b6a4ef513</td>\n      <td>2016-04-15 12:22:48</td>\n      <td>NO BROKER FEE!   LUXURY FULL SERVICE MID-RISE ...</td>\n      <td>W-27St</td>\n      <td>[Common Outdoor Space, Laundry In Unit, Cats A...</td>\n      <td>40.7490</td>\n      <td>6880034</td>\n      <td>-73.9991</td>\n      <td>b86f058ac6fd8bf03193369be9e0d396</td>\n      <td>['https://photos.renthop.com/2/6880034_533ce59...</td>\n      <td>4200</td>\n      <td>303 10TH AVE</td>\n      <td>NaN</td>\n    </tr>\n    <tr>\n      <th>38696</th>\n      <td>1.0</td>\n      <td>2</td>\n      <td>61d667a0541bab54f1d19d12601d6855</td>\n      <td>2016-06-12 09:22:19</td>\n      <td>Check Out This Lovely, Sunny &amp; Large 2...</td>\n      <td>Carlton St</td>\n      <td>[]</td>\n      <td>40.7238</td>\n      <td>7148415</td>\n      <td>-73.8623</td>\n      <td>605757e0108c66606280905d76d50e80</td>\n      <td>['https://photos.renthop.com/2/7148415_d4d4c4f...</td>\n      <td>1800</td>\n      <td>63-145 Carlton St</td>\n      <td>NaN</td>\n    </tr>\n    <tr>\n      <th>64331</th>\n      <td>1.0</td>\n      <td>1</td>\n      <td>80a120d6bc3aba97f40fee8c2204524b</td>\n      <td>2016-05-21 02:57:07</td>\n      <td>Located in the fast-paced Financial District o...</td>\n      <td>Water</td>\n      <td>[Roof Deck, Doorman, Elevator, Fitness Center,...</td>\n      <td>40.7075</td>\n      <td>7047583</td>\n      <td>-74.0043</td>\n      <td>e6472c7237327dd3903b3d6f6a94515a</td>\n      <td>['https://photos.renthop.com/2/7047583_80f69a3...</td>\n      <td>3325</td>\n      <td>200 Water</td>\n      <td>NaN</td>\n    </tr>\n    <tr>\n      <th>82599</th>\n      <td>1.0</td>\n      <td>0</td>\n      <td>70093585319d049535fdc64e4f387da3</td>\n      <td>2016-05-03 05:30:13</td>\n      <td>**Marvelous NO FEE studio with FREE RENT unit ...</td>\n      <td>W St</td>\n      <td>[Doorman, Elevator, Laundry in Building, Dishw...</td>\n      <td>40.7100</td>\n      <td>6958612</td>\n      <td>-74.0143</td>\n      <td>30a7951cfc21240e8c46b2d079d292e5</td>\n      <td>['https://photos.renthop.com/2/6958612_52d0a93...</td>\n      <td>2345</td>\n      <td>90 W St</td>\n      <td>NaN</td>\n    </tr>\n  </tbody>\n</table>\n<p>49352 rows × 15 columns</p>\n</div>"
     },
     "metadata": {}
    }
   ],
   "source": [
    "df = df.rename(str.lower, axis='columns',)\n",
    "df = df.set_index('id')\n",
    "display(df)"
   ]
  },
  {
   "cell_type": "code",
   "execution_count": 6,
   "metadata": {},
   "outputs": [
    {
     "output_type": "execute_result",
     "data": {
      "text/plain": [
       "(34546,)"
      ]
     },
     "metadata": {},
     "execution_count": 6
    }
   ],
   "source": [
    "y = df_train['TARGET']\n",
    "y.shape"
   ]
  },
  {
   "cell_type": "code",
   "execution_count": 7,
   "metadata": {},
   "outputs": [
    {
     "output_type": "execute_result",
     "data": {
      "text/plain": [
       "       bathrooms  bedrooms                       building_id  \\\n",
       "id                                                             \n",
       "57094        1.0         3                                 0   \n",
       "33389        1.0         1  9225efdfb57a50bf3ec17ebab082f94a   \n",
       "60458        1.0         0  320de7d3cc88e50a7fbbcfde1e825d21   \n",
       "53048        1.0         2  ce6d18bf3238e668b2bf23f4110b7b67   \n",
       "592          1.0         3  fee4d465932160318364d9d48d272879   \n",
       "\n",
       "                   created                                        description  \\\n",
       "id                                                                              \n",
       "57094  2016-05-19 18:06:27  a fabulous 3br in midtown west!   perfect apar...   \n",
       "33389  2016-06-16 02:01:49                    renovated kitchen and bathroom!   \n",
       "60458  2016-05-04 02:42:50  rare and best deal on the market!!!! perfect s...   \n",
       "53048  2016-05-12 05:57:56  newly renovated flex 2 apartment offers the ne...   \n",
       "592    2016-06-16 06:06:15  low fee apartments do not come around like thi...   \n",
       "\n",
       "                                         display_address  \\\n",
       "id                                                         \n",
       "57094  HOW AMAZING IS THIS MIDTOWN WEST STEAL!! NO FE...   \n",
       "33389                               55 River Drive South   \n",
       "60458                                        W 77 Street   \n",
       "53048                                        John Street   \n",
       "592                                     West 16th Street   \n",
       "\n",
       "                                                features  latitude  \\\n",
       "id                                                                   \n",
       "57094                [Laundry In Unit, No Fee, Elevator]   40.7647   \n",
       "33389               [Dogs Allowed, Cats Allowed, No Fee]   40.7275   \n",
       "60458                        [Elevator, Hardwood Floors]   40.7798   \n",
       "53048  [Swimming Pool, Doorman, Elevator, Fitness Cen...   40.7081   \n",
       "592    [Laundry in Building, Laundry in Unit, Dishwas...   40.7416   \n",
       "\n",
       "       listing_id  longitude                        manager_id  \\\n",
       "id                                                               \n",
       "57094     7039994   -73.9918  4bdc3d8c1aaa90d997ce2cb77680679b   \n",
       "33389     7166774   -74.0322  e5808a5e6cc13988fe596704428d38d5   \n",
       "60458     6962716   -73.9751  d69d4e111612dd12ef864031c1148543   \n",
       "53048     7002458   -74.0065  e6472c7237327dd3903b3d6f6a94515a   \n",
       "592       7170465   -74.0025  6fba9b3a8327c607b8b043716efee684   \n",
       "\n",
       "                                                  photos  price  \\\n",
       "id                                                                \n",
       "57094  ['https://photos.renthop.com/2/7039994_07be01b...   4495   \n",
       "33389  ['https://photos.renthop.com/2/7166774_03cf63a...   2570   \n",
       "60458  ['https://photos.renthop.com/2/6962716_ec7f56f...   1795   \n",
       "53048  ['https://photos.renthop.com/2/7002458_93f4010...   3400   \n",
       "592    ['https://photos.renthop.com/2/7170465_9c3f173...   5695   \n",
       "\n",
       "             street_address  target  \n",
       "id                                   \n",
       "57094         W 50 & AVE 10  medium  \n",
       "33389  55 River Drive South  medium  \n",
       "60458        22 W 77 Street     low  \n",
       "53048       100 John Street     low  \n",
       "592    321 West 16th Street     low  "
      ],
      "text/html": "<div>\n<style scoped>\n    .dataframe tbody tr th:only-of-type {\n        vertical-align: middle;\n    }\n\n    .dataframe tbody tr th {\n        vertical-align: top;\n    }\n\n    .dataframe thead th {\n        text-align: right;\n    }\n</style>\n<table border=\"1\" class=\"dataframe\">\n  <thead>\n    <tr style=\"text-align: right;\">\n      <th></th>\n      <th>bathrooms</th>\n      <th>bedrooms</th>\n      <th>building_id</th>\n      <th>created</th>\n      <th>description</th>\n      <th>display_address</th>\n      <th>features</th>\n      <th>latitude</th>\n      <th>listing_id</th>\n      <th>longitude</th>\n      <th>manager_id</th>\n      <th>photos</th>\n      <th>price</th>\n      <th>street_address</th>\n      <th>target</th>\n    </tr>\n    <tr>\n      <th>id</th>\n      <th></th>\n      <th></th>\n      <th></th>\n      <th></th>\n      <th></th>\n      <th></th>\n      <th></th>\n      <th></th>\n      <th></th>\n      <th></th>\n      <th></th>\n      <th></th>\n      <th></th>\n      <th></th>\n      <th></th>\n    </tr>\n  </thead>\n  <tbody>\n    <tr>\n      <th>57094</th>\n      <td>1.0</td>\n      <td>3</td>\n      <td>0</td>\n      <td>2016-05-19 18:06:27</td>\n      <td>a fabulous 3br in midtown west!   perfect apar...</td>\n      <td>HOW AMAZING IS THIS MIDTOWN WEST STEAL!! NO FE...</td>\n      <td>[Laundry In Unit, No Fee, Elevator]</td>\n      <td>40.7647</td>\n      <td>7039994</td>\n      <td>-73.9918</td>\n      <td>4bdc3d8c1aaa90d997ce2cb77680679b</td>\n      <td>['https://photos.renthop.com/2/7039994_07be01b...</td>\n      <td>4495</td>\n      <td>W 50 &amp; AVE 10</td>\n      <td>medium</td>\n    </tr>\n    <tr>\n      <th>33389</th>\n      <td>1.0</td>\n      <td>1</td>\n      <td>9225efdfb57a50bf3ec17ebab082f94a</td>\n      <td>2016-06-16 02:01:49</td>\n      <td>renovated kitchen and bathroom!</td>\n      <td>55 River Drive South</td>\n      <td>[Dogs Allowed, Cats Allowed, No Fee]</td>\n      <td>40.7275</td>\n      <td>7166774</td>\n      <td>-74.0322</td>\n      <td>e5808a5e6cc13988fe596704428d38d5</td>\n      <td>['https://photos.renthop.com/2/7166774_03cf63a...</td>\n      <td>2570</td>\n      <td>55 River Drive South</td>\n      <td>medium</td>\n    </tr>\n    <tr>\n      <th>60458</th>\n      <td>1.0</td>\n      <td>0</td>\n      <td>320de7d3cc88e50a7fbbcfde1e825d21</td>\n      <td>2016-05-04 02:42:50</td>\n      <td>rare and best deal on the market!!!! perfect s...</td>\n      <td>W 77 Street</td>\n      <td>[Elevator, Hardwood Floors]</td>\n      <td>40.7798</td>\n      <td>6962716</td>\n      <td>-73.9751</td>\n      <td>d69d4e111612dd12ef864031c1148543</td>\n      <td>['https://photos.renthop.com/2/6962716_ec7f56f...</td>\n      <td>1795</td>\n      <td>22 W 77 Street</td>\n      <td>low</td>\n    </tr>\n    <tr>\n      <th>53048</th>\n      <td>1.0</td>\n      <td>2</td>\n      <td>ce6d18bf3238e668b2bf23f4110b7b67</td>\n      <td>2016-05-12 05:57:56</td>\n      <td>newly renovated flex 2 apartment offers the ne...</td>\n      <td>John Street</td>\n      <td>[Swimming Pool, Doorman, Elevator, Fitness Cen...</td>\n      <td>40.7081</td>\n      <td>7002458</td>\n      <td>-74.0065</td>\n      <td>e6472c7237327dd3903b3d6f6a94515a</td>\n      <td>['https://photos.renthop.com/2/7002458_93f4010...</td>\n      <td>3400</td>\n      <td>100 John Street</td>\n      <td>low</td>\n    </tr>\n    <tr>\n      <th>592</th>\n      <td>1.0</td>\n      <td>3</td>\n      <td>fee4d465932160318364d9d48d272879</td>\n      <td>2016-06-16 06:06:15</td>\n      <td>low fee apartments do not come around like thi...</td>\n      <td>West 16th Street</td>\n      <td>[Laundry in Building, Laundry in Unit, Dishwas...</td>\n      <td>40.7416</td>\n      <td>7170465</td>\n      <td>-74.0025</td>\n      <td>6fba9b3a8327c607b8b043716efee684</td>\n      <td>['https://photos.renthop.com/2/7170465_9c3f173...</td>\n      <td>5695</td>\n      <td>321 West 16th Street</td>\n      <td>low</td>\n    </tr>\n  </tbody>\n</table>\n</div>"
     },
     "metadata": {},
     "execution_count": 7
    }
   ],
   "source": [
    "df['description'] = df['description'].str.lower()\n",
    "df.head()"
   ]
  },
  {
   "cell_type": "code",
   "execution_count": 8,
   "metadata": {},
   "outputs": [
    {
     "output_type": "execute_result",
     "data": {
      "text/plain": [
       "       bathrooms  bedrooms                       building_id  \\\n",
       "id                                                             \n",
       "57094        1.0         3                                 0   \n",
       "33389        1.0         1  9225efdfb57a50bf3ec17ebab082f94a   \n",
       "60458        1.0         0  320de7d3cc88e50a7fbbcfde1e825d21   \n",
       "53048        1.0         2  ce6d18bf3238e668b2bf23f4110b7b67   \n",
       "592          1.0         3  fee4d465932160318364d9d48d272879   \n",
       "\n",
       "                   created                                        description  \\\n",
       "id                                                                              \n",
       "57094  2016-05-19 18:06:27  [a, fabulous, br, in, midtown, west, , , perfe...   \n",
       "33389  2016-06-16 02:01:49                [renovated, kitchen, and, bathroom]   \n",
       "60458  2016-05-04 02:42:50  [rare, and, best, deal, on, the, market, perfe...   \n",
       "53048  2016-05-12 05:57:56  [newly, renovated, flex, , apartment, offers, ...   \n",
       "592    2016-06-16 06:06:15  [low, fee, apartments, do, not, come, around, ...   \n",
       "\n",
       "                                         display_address  \\\n",
       "id                                                         \n",
       "57094  HOW AMAZING IS THIS MIDTOWN WEST STEAL!! NO FE...   \n",
       "33389                               55 River Drive South   \n",
       "60458                                        W 77 Street   \n",
       "53048                                        John Street   \n",
       "592                                     West 16th Street   \n",
       "\n",
       "                                                features  latitude  \\\n",
       "id                                                                   \n",
       "57094                [Laundry In Unit, No Fee, Elevator]   40.7647   \n",
       "33389               [Dogs Allowed, Cats Allowed, No Fee]   40.7275   \n",
       "60458                        [Elevator, Hardwood Floors]   40.7798   \n",
       "53048  [Swimming Pool, Doorman, Elevator, Fitness Cen...   40.7081   \n",
       "592    [Laundry in Building, Laundry in Unit, Dishwas...   40.7416   \n",
       "\n",
       "       listing_id  longitude                        manager_id  \\\n",
       "id                                                               \n",
       "57094     7039994   -73.9918  4bdc3d8c1aaa90d997ce2cb77680679b   \n",
       "33389     7166774   -74.0322  e5808a5e6cc13988fe596704428d38d5   \n",
       "60458     6962716   -73.9751  d69d4e111612dd12ef864031c1148543   \n",
       "53048     7002458   -74.0065  e6472c7237327dd3903b3d6f6a94515a   \n",
       "592       7170465   -74.0025  6fba9b3a8327c607b8b043716efee684   \n",
       "\n",
       "                                                  photos  price  \\\n",
       "id                                                                \n",
       "57094  ['https://photos.renthop.com/2/7039994_07be01b...   4495   \n",
       "33389  ['https://photos.renthop.com/2/7166774_03cf63a...   2570   \n",
       "60458  ['https://photos.renthop.com/2/6962716_ec7f56f...   1795   \n",
       "53048  ['https://photos.renthop.com/2/7002458_93f4010...   3400   \n",
       "592    ['https://photos.renthop.com/2/7170465_9c3f173...   5695   \n",
       "\n",
       "             street_address  target  \n",
       "id                                   \n",
       "57094         W 50 & AVE 10  medium  \n",
       "33389  55 River Drive South  medium  \n",
       "60458        22 W 77 Street     low  \n",
       "53048       100 John Street     low  \n",
       "592    321 West 16th Street     low  "
      ],
      "text/html": "<div>\n<style scoped>\n    .dataframe tbody tr th:only-of-type {\n        vertical-align: middle;\n    }\n\n    .dataframe tbody tr th {\n        vertical-align: top;\n    }\n\n    .dataframe thead th {\n        text-align: right;\n    }\n</style>\n<table border=\"1\" class=\"dataframe\">\n  <thead>\n    <tr style=\"text-align: right;\">\n      <th></th>\n      <th>bathrooms</th>\n      <th>bedrooms</th>\n      <th>building_id</th>\n      <th>created</th>\n      <th>description</th>\n      <th>display_address</th>\n      <th>features</th>\n      <th>latitude</th>\n      <th>listing_id</th>\n      <th>longitude</th>\n      <th>manager_id</th>\n      <th>photos</th>\n      <th>price</th>\n      <th>street_address</th>\n      <th>target</th>\n    </tr>\n    <tr>\n      <th>id</th>\n      <th></th>\n      <th></th>\n      <th></th>\n      <th></th>\n      <th></th>\n      <th></th>\n      <th></th>\n      <th></th>\n      <th></th>\n      <th></th>\n      <th></th>\n      <th></th>\n      <th></th>\n      <th></th>\n      <th></th>\n    </tr>\n  </thead>\n  <tbody>\n    <tr>\n      <th>57094</th>\n      <td>1.0</td>\n      <td>3</td>\n      <td>0</td>\n      <td>2016-05-19 18:06:27</td>\n      <td>[a, fabulous, br, in, midtown, west, , , perfe...</td>\n      <td>HOW AMAZING IS THIS MIDTOWN WEST STEAL!! NO FE...</td>\n      <td>[Laundry In Unit, No Fee, Elevator]</td>\n      <td>40.7647</td>\n      <td>7039994</td>\n      <td>-73.9918</td>\n      <td>4bdc3d8c1aaa90d997ce2cb77680679b</td>\n      <td>['https://photos.renthop.com/2/7039994_07be01b...</td>\n      <td>4495</td>\n      <td>W 50 &amp; AVE 10</td>\n      <td>medium</td>\n    </tr>\n    <tr>\n      <th>33389</th>\n      <td>1.0</td>\n      <td>1</td>\n      <td>9225efdfb57a50bf3ec17ebab082f94a</td>\n      <td>2016-06-16 02:01:49</td>\n      <td>[renovated, kitchen, and, bathroom]</td>\n      <td>55 River Drive South</td>\n      <td>[Dogs Allowed, Cats Allowed, No Fee]</td>\n      <td>40.7275</td>\n      <td>7166774</td>\n      <td>-74.0322</td>\n      <td>e5808a5e6cc13988fe596704428d38d5</td>\n      <td>['https://photos.renthop.com/2/7166774_03cf63a...</td>\n      <td>2570</td>\n      <td>55 River Drive South</td>\n      <td>medium</td>\n    </tr>\n    <tr>\n      <th>60458</th>\n      <td>1.0</td>\n      <td>0</td>\n      <td>320de7d3cc88e50a7fbbcfde1e825d21</td>\n      <td>2016-05-04 02:42:50</td>\n      <td>[rare, and, best, deal, on, the, market, perfe...</td>\n      <td>W 77 Street</td>\n      <td>[Elevator, Hardwood Floors]</td>\n      <td>40.7798</td>\n      <td>6962716</td>\n      <td>-73.9751</td>\n      <td>d69d4e111612dd12ef864031c1148543</td>\n      <td>['https://photos.renthop.com/2/6962716_ec7f56f...</td>\n      <td>1795</td>\n      <td>22 W 77 Street</td>\n      <td>low</td>\n    </tr>\n    <tr>\n      <th>53048</th>\n      <td>1.0</td>\n      <td>2</td>\n      <td>ce6d18bf3238e668b2bf23f4110b7b67</td>\n      <td>2016-05-12 05:57:56</td>\n      <td>[newly, renovated, flex, , apartment, offers, ...</td>\n      <td>John Street</td>\n      <td>[Swimming Pool, Doorman, Elevator, Fitness Cen...</td>\n      <td>40.7081</td>\n      <td>7002458</td>\n      <td>-74.0065</td>\n      <td>e6472c7237327dd3903b3d6f6a94515a</td>\n      <td>['https://photos.renthop.com/2/7002458_93f4010...</td>\n      <td>3400</td>\n      <td>100 John Street</td>\n      <td>low</td>\n    </tr>\n    <tr>\n      <th>592</th>\n      <td>1.0</td>\n      <td>3</td>\n      <td>fee4d465932160318364d9d48d272879</td>\n      <td>2016-06-16 06:06:15</td>\n      <td>[low, fee, apartments, do, not, come, around, ...</td>\n      <td>West 16th Street</td>\n      <td>[Laundry in Building, Laundry in Unit, Dishwas...</td>\n      <td>40.7416</td>\n      <td>7170465</td>\n      <td>-74.0025</td>\n      <td>6fba9b3a8327c607b8b043716efee684</td>\n      <td>['https://photos.renthop.com/2/7170465_9c3f173...</td>\n      <td>5695</td>\n      <td>321 West 16th Street</td>\n      <td>low</td>\n    </tr>\n  </tbody>\n</table>\n</div>"
     },
     "metadata": {},
     "execution_count": 8
    }
   ],
   "source": [
    "def remove_trash(cur_str):\n",
    "    cur_str = str(cur_str)\n",
    "    nw_str = \"\"\n",
    "    for elem in cur_str:\n",
    "        if (elem >= 'a' and elem <= 'z') or elem == ' ':\n",
    "            nw_str += elem\n",
    "\n",
    "    return nw_str.split(' ')\n",
    "\n",
    "df['description'] = df['description'].apply(remove_trash)\n",
    "df.head()"
   ]
  },
  {
   "cell_type": "code",
   "execution_count": 10,
   "metadata": {},
   "outputs": [
    {
     "output_type": "stream",
     "name": "stdout",
     "text": [
      "bitch\n"
     ]
    }
   ],
   "source": [
    "from all_the_way import *\n",
    "set_description_json(df, y)"
   ]
  },
  {
   "cell_type": "code",
   "execution_count": 12,
   "metadata": {},
   "outputs": [],
   "source": [
    "description_words_weight = None\n",
    "with open('description.json', 'r') as json_file:\n",
    "    description_words_weight = json.load(json_file)"
   ]
  },
  {
   "cell_type": "code",
   "execution_count": 13,
   "metadata": {},
   "outputs": [
    {
     "output_type": "execute_result",
     "data": {
      "text/plain": [
       "       bathrooms  bedrooms                       building_id  \\\n",
       "id                                                             \n",
       "57094        1.0         3                                 0   \n",
       "33389        1.0         1  9225efdfb57a50bf3ec17ebab082f94a   \n",
       "60458        1.0         0  320de7d3cc88e50a7fbbcfde1e825d21   \n",
       "53048        1.0         2  ce6d18bf3238e668b2bf23f4110b7b67   \n",
       "592          1.0         3  fee4d465932160318364d9d48d272879   \n",
       "\n",
       "                   created  description  \\\n",
       "id                                        \n",
       "57094  2016-05-19 18:06:27     0.153092   \n",
       "33389  2016-06-16 02:01:49     0.214983   \n",
       "60458  2016-05-04 02:42:50     0.149183   \n",
       "53048  2016-05-12 05:57:56     0.152593   \n",
       "592    2016-06-16 06:06:15     0.143985   \n",
       "\n",
       "                                         display_address  \\\n",
       "id                                                         \n",
       "57094  HOW AMAZING IS THIS MIDTOWN WEST STEAL!! NO FE...   \n",
       "33389                               55 River Drive South   \n",
       "60458                                        W 77 Street   \n",
       "53048                                        John Street   \n",
       "592                                     West 16th Street   \n",
       "\n",
       "                                                features  latitude  \\\n",
       "id                                                                   \n",
       "57094                [Laundry In Unit, No Fee, Elevator]   40.7647   \n",
       "33389               [Dogs Allowed, Cats Allowed, No Fee]   40.7275   \n",
       "60458                        [Elevator, Hardwood Floors]   40.7798   \n",
       "53048  [Swimming Pool, Doorman, Elevator, Fitness Cen...   40.7081   \n",
       "592    [Laundry in Building, Laundry in Unit, Dishwas...   40.7416   \n",
       "\n",
       "       listing_id  longitude                        manager_id  \\\n",
       "id                                                               \n",
       "57094     7039994   -73.9918  4bdc3d8c1aaa90d997ce2cb77680679b   \n",
       "33389     7166774   -74.0322  e5808a5e6cc13988fe596704428d38d5   \n",
       "60458     6962716   -73.9751  d69d4e111612dd12ef864031c1148543   \n",
       "53048     7002458   -74.0065  e6472c7237327dd3903b3d6f6a94515a   \n",
       "592       7170465   -74.0025  6fba9b3a8327c607b8b043716efee684   \n",
       "\n",
       "                                                  photos  price  \\\n",
       "id                                                                \n",
       "57094  ['https://photos.renthop.com/2/7039994_07be01b...   4495   \n",
       "33389  ['https://photos.renthop.com/2/7166774_03cf63a...   2570   \n",
       "60458  ['https://photos.renthop.com/2/6962716_ec7f56f...   1795   \n",
       "53048  ['https://photos.renthop.com/2/7002458_93f4010...   3400   \n",
       "592    ['https://photos.renthop.com/2/7170465_9c3f173...   5695   \n",
       "\n",
       "             street_address  target  \n",
       "id                                   \n",
       "57094         W 50 & AVE 10  medium  \n",
       "33389  55 River Drive South  medium  \n",
       "60458        22 W 77 Street     low  \n",
       "53048       100 John Street     low  \n",
       "592    321 West 16th Street     low  "
      ],
      "text/html": "<div>\n<style scoped>\n    .dataframe tbody tr th:only-of-type {\n        vertical-align: middle;\n    }\n\n    .dataframe tbody tr th {\n        vertical-align: top;\n    }\n\n    .dataframe thead th {\n        text-align: right;\n    }\n</style>\n<table border=\"1\" class=\"dataframe\">\n  <thead>\n    <tr style=\"text-align: right;\">\n      <th></th>\n      <th>bathrooms</th>\n      <th>bedrooms</th>\n      <th>building_id</th>\n      <th>created</th>\n      <th>description</th>\n      <th>display_address</th>\n      <th>features</th>\n      <th>latitude</th>\n      <th>listing_id</th>\n      <th>longitude</th>\n      <th>manager_id</th>\n      <th>photos</th>\n      <th>price</th>\n      <th>street_address</th>\n      <th>target</th>\n    </tr>\n    <tr>\n      <th>id</th>\n      <th></th>\n      <th></th>\n      <th></th>\n      <th></th>\n      <th></th>\n      <th></th>\n      <th></th>\n      <th></th>\n      <th></th>\n      <th></th>\n      <th></th>\n      <th></th>\n      <th></th>\n      <th></th>\n      <th></th>\n    </tr>\n  </thead>\n  <tbody>\n    <tr>\n      <th>57094</th>\n      <td>1.0</td>\n      <td>3</td>\n      <td>0</td>\n      <td>2016-05-19 18:06:27</td>\n      <td>0.153092</td>\n      <td>HOW AMAZING IS THIS MIDTOWN WEST STEAL!! NO FE...</td>\n      <td>[Laundry In Unit, No Fee, Elevator]</td>\n      <td>40.7647</td>\n      <td>7039994</td>\n      <td>-73.9918</td>\n      <td>4bdc3d8c1aaa90d997ce2cb77680679b</td>\n      <td>['https://photos.renthop.com/2/7039994_07be01b...</td>\n      <td>4495</td>\n      <td>W 50 &amp; AVE 10</td>\n      <td>medium</td>\n    </tr>\n    <tr>\n      <th>33389</th>\n      <td>1.0</td>\n      <td>1</td>\n      <td>9225efdfb57a50bf3ec17ebab082f94a</td>\n      <td>2016-06-16 02:01:49</td>\n      <td>0.214983</td>\n      <td>55 River Drive South</td>\n      <td>[Dogs Allowed, Cats Allowed, No Fee]</td>\n      <td>40.7275</td>\n      <td>7166774</td>\n      <td>-74.0322</td>\n      <td>e5808a5e6cc13988fe596704428d38d5</td>\n      <td>['https://photos.renthop.com/2/7166774_03cf63a...</td>\n      <td>2570</td>\n      <td>55 River Drive South</td>\n      <td>medium</td>\n    </tr>\n    <tr>\n      <th>60458</th>\n      <td>1.0</td>\n      <td>0</td>\n      <td>320de7d3cc88e50a7fbbcfde1e825d21</td>\n      <td>2016-05-04 02:42:50</td>\n      <td>0.149183</td>\n      <td>W 77 Street</td>\n      <td>[Elevator, Hardwood Floors]</td>\n      <td>40.7798</td>\n      <td>6962716</td>\n      <td>-73.9751</td>\n      <td>d69d4e111612dd12ef864031c1148543</td>\n      <td>['https://photos.renthop.com/2/6962716_ec7f56f...</td>\n      <td>1795</td>\n      <td>22 W 77 Street</td>\n      <td>low</td>\n    </tr>\n    <tr>\n      <th>53048</th>\n      <td>1.0</td>\n      <td>2</td>\n      <td>ce6d18bf3238e668b2bf23f4110b7b67</td>\n      <td>2016-05-12 05:57:56</td>\n      <td>0.152593</td>\n      <td>John Street</td>\n      <td>[Swimming Pool, Doorman, Elevator, Fitness Cen...</td>\n      <td>40.7081</td>\n      <td>7002458</td>\n      <td>-74.0065</td>\n      <td>e6472c7237327dd3903b3d6f6a94515a</td>\n      <td>['https://photos.renthop.com/2/7002458_93f4010...</td>\n      <td>3400</td>\n      <td>100 John Street</td>\n      <td>low</td>\n    </tr>\n    <tr>\n      <th>592</th>\n      <td>1.0</td>\n      <td>3</td>\n      <td>fee4d465932160318364d9d48d272879</td>\n      <td>2016-06-16 06:06:15</td>\n      <td>0.143985</td>\n      <td>West 16th Street</td>\n      <td>[Laundry in Building, Laundry in Unit, Dishwas...</td>\n      <td>40.7416</td>\n      <td>7170465</td>\n      <td>-74.0025</td>\n      <td>6fba9b3a8327c607b8b043716efee684</td>\n      <td>['https://photos.renthop.com/2/7170465_9c3f173...</td>\n      <td>5695</td>\n      <td>321 West 16th Street</td>\n      <td>low</td>\n    </tr>\n  </tbody>\n</table>\n</div>"
     },
     "metadata": {},
     "execution_count": 13
    }
   ],
   "source": [
    "def words_weight(x):\n",
    "    res = 0.0\n",
    "    for word in x:\n",
    "        if word in description_words_weight:\n",
    "            res += description_words_weight[word]\n",
    "    if len(x) > 0:\n",
    "        res /= len(x)\n",
    "    return res\n",
    "\n",
    "df['description'] = df['description'].apply(words_weight)\n",
    "df.head()"
   ]
  },
  {
   "cell_type": "code",
   "execution_count": 15,
   "metadata": {},
   "outputs": [
    {
     "output_type": "stream",
     "name": "stdout",
     "text": [
      "0.0024736383096804885\n"
     ]
    }
   ],
   "source": [
    "from all_the_way import set_features_json\n",
    "set_features_json(df, y)"
   ]
  },
  {
   "cell_type": "code",
   "execution_count": 16,
   "metadata": {},
   "outputs": [],
   "source": [
    "features_words_weight = None\n",
    "with open('features.json', 'r') as json_file:\n",
    "    features_words_weight = json.load(json_file)"
   ]
  },
  {
   "cell_type": "code",
   "execution_count": 17,
   "metadata": {},
   "outputs": [
    {
     "output_type": "execute_result",
     "data": {
      "text/plain": [
       "       bathrooms  bedrooms                       building_id  \\\n",
       "id                                                             \n",
       "57094        1.0         3                                 0   \n",
       "33389        1.0         1  9225efdfb57a50bf3ec17ebab082f94a   \n",
       "60458        1.0         0  320de7d3cc88e50a7fbbcfde1e825d21   \n",
       "53048        1.0         2  ce6d18bf3238e668b2bf23f4110b7b67   \n",
       "592          1.0         3  fee4d465932160318364d9d48d272879   \n",
       "\n",
       "                   created  description  \\\n",
       "id                                        \n",
       "57094  2016-05-19 18:06:27     0.153092   \n",
       "33389  2016-06-16 02:01:49     0.214983   \n",
       "60458  2016-05-04 02:42:50     0.149183   \n",
       "53048  2016-05-12 05:57:56     0.152593   \n",
       "592    2016-06-16 06:06:15     0.143985   \n",
       "\n",
       "                                         display_address  features  latitude  \\\n",
       "id                                                                             \n",
       "57094  HOW AMAZING IS THIS MIDTOWN WEST STEAL!! NO FE...  0.002117   40.7647   \n",
       "33389                               55 River Drive South  0.001945   40.7275   \n",
       "60458                                        W 77 Street  0.002076   40.7798   \n",
       "53048                                        John Street  0.001974   40.7081   \n",
       "592                                     West 16th Street  0.002158   40.7416   \n",
       "\n",
       "       listing_id  longitude                        manager_id  \\\n",
       "id                                                               \n",
       "57094     7039994   -73.9918  4bdc3d8c1aaa90d997ce2cb77680679b   \n",
       "33389     7166774   -74.0322  e5808a5e6cc13988fe596704428d38d5   \n",
       "60458     6962716   -73.9751  d69d4e111612dd12ef864031c1148543   \n",
       "53048     7002458   -74.0065  e6472c7237327dd3903b3d6f6a94515a   \n",
       "592       7170465   -74.0025  6fba9b3a8327c607b8b043716efee684   \n",
       "\n",
       "                                                  photos  price  \\\n",
       "id                                                                \n",
       "57094  ['https://photos.renthop.com/2/7039994_07be01b...   4495   \n",
       "33389  ['https://photos.renthop.com/2/7166774_03cf63a...   2570   \n",
       "60458  ['https://photos.renthop.com/2/6962716_ec7f56f...   1795   \n",
       "53048  ['https://photos.renthop.com/2/7002458_93f4010...   3400   \n",
       "592    ['https://photos.renthop.com/2/7170465_9c3f173...   5695   \n",
       "\n",
       "             street_address  target  \n",
       "id                                   \n",
       "57094         W 50 & AVE 10  medium  \n",
       "33389  55 River Drive South  medium  \n",
       "60458        22 W 77 Street     low  \n",
       "53048       100 John Street     low  \n",
       "592    321 West 16th Street     low  "
      ],
      "text/html": "<div>\n<style scoped>\n    .dataframe tbody tr th:only-of-type {\n        vertical-align: middle;\n    }\n\n    .dataframe tbody tr th {\n        vertical-align: top;\n    }\n\n    .dataframe thead th {\n        text-align: right;\n    }\n</style>\n<table border=\"1\" class=\"dataframe\">\n  <thead>\n    <tr style=\"text-align: right;\">\n      <th></th>\n      <th>bathrooms</th>\n      <th>bedrooms</th>\n      <th>building_id</th>\n      <th>created</th>\n      <th>description</th>\n      <th>display_address</th>\n      <th>features</th>\n      <th>latitude</th>\n      <th>listing_id</th>\n      <th>longitude</th>\n      <th>manager_id</th>\n      <th>photos</th>\n      <th>price</th>\n      <th>street_address</th>\n      <th>target</th>\n    </tr>\n    <tr>\n      <th>id</th>\n      <th></th>\n      <th></th>\n      <th></th>\n      <th></th>\n      <th></th>\n      <th></th>\n      <th></th>\n      <th></th>\n      <th></th>\n      <th></th>\n      <th></th>\n      <th></th>\n      <th></th>\n      <th></th>\n      <th></th>\n    </tr>\n  </thead>\n  <tbody>\n    <tr>\n      <th>57094</th>\n      <td>1.0</td>\n      <td>3</td>\n      <td>0</td>\n      <td>2016-05-19 18:06:27</td>\n      <td>0.153092</td>\n      <td>HOW AMAZING IS THIS MIDTOWN WEST STEAL!! NO FE...</td>\n      <td>0.002117</td>\n      <td>40.7647</td>\n      <td>7039994</td>\n      <td>-73.9918</td>\n      <td>4bdc3d8c1aaa90d997ce2cb77680679b</td>\n      <td>['https://photos.renthop.com/2/7039994_07be01b...</td>\n      <td>4495</td>\n      <td>W 50 &amp; AVE 10</td>\n      <td>medium</td>\n    </tr>\n    <tr>\n      <th>33389</th>\n      <td>1.0</td>\n      <td>1</td>\n      <td>9225efdfb57a50bf3ec17ebab082f94a</td>\n      <td>2016-06-16 02:01:49</td>\n      <td>0.214983</td>\n      <td>55 River Drive South</td>\n      <td>0.001945</td>\n      <td>40.7275</td>\n      <td>7166774</td>\n      <td>-74.0322</td>\n      <td>e5808a5e6cc13988fe596704428d38d5</td>\n      <td>['https://photos.renthop.com/2/7166774_03cf63a...</td>\n      <td>2570</td>\n      <td>55 River Drive South</td>\n      <td>medium</td>\n    </tr>\n    <tr>\n      <th>60458</th>\n      <td>1.0</td>\n      <td>0</td>\n      <td>320de7d3cc88e50a7fbbcfde1e825d21</td>\n      <td>2016-05-04 02:42:50</td>\n      <td>0.149183</td>\n      <td>W 77 Street</td>\n      <td>0.002076</td>\n      <td>40.7798</td>\n      <td>6962716</td>\n      <td>-73.9751</td>\n      <td>d69d4e111612dd12ef864031c1148543</td>\n      <td>['https://photos.renthop.com/2/6962716_ec7f56f...</td>\n      <td>1795</td>\n      <td>22 W 77 Street</td>\n      <td>low</td>\n    </tr>\n    <tr>\n      <th>53048</th>\n      <td>1.0</td>\n      <td>2</td>\n      <td>ce6d18bf3238e668b2bf23f4110b7b67</td>\n      <td>2016-05-12 05:57:56</td>\n      <td>0.152593</td>\n      <td>John Street</td>\n      <td>0.001974</td>\n      <td>40.7081</td>\n      <td>7002458</td>\n      <td>-74.0065</td>\n      <td>e6472c7237327dd3903b3d6f6a94515a</td>\n      <td>['https://photos.renthop.com/2/7002458_93f4010...</td>\n      <td>3400</td>\n      <td>100 John Street</td>\n      <td>low</td>\n    </tr>\n    <tr>\n      <th>592</th>\n      <td>1.0</td>\n      <td>3</td>\n      <td>fee4d465932160318364d9d48d272879</td>\n      <td>2016-06-16 06:06:15</td>\n      <td>0.143985</td>\n      <td>West 16th Street</td>\n      <td>0.002158</td>\n      <td>40.7416</td>\n      <td>7170465</td>\n      <td>-74.0025</td>\n      <td>6fba9b3a8327c607b8b043716efee684</td>\n      <td>['https://photos.renthop.com/2/7170465_9c3f173...</td>\n      <td>5695</td>\n      <td>321 West 16th Street</td>\n      <td>low</td>\n    </tr>\n  </tbody>\n</table>\n</div>"
     },
     "metadata": {},
     "execution_count": 17
    }
   ],
   "source": [
    "def features_weight(x):\n",
    "    res = 0.0\n",
    "    for word in x:\n",
    "        word = str.lower(word)\n",
    "        if word in features_words_weight:\n",
    "            res += features_words_weight[word]\n",
    "    if len(x) > 0:\n",
    "        res /= len(x)\n",
    "    return res\n",
    "\n",
    "#display(features_weight(df.iloc[0, 6]))\n",
    "df['features'] = df['features'].apply(features_weight)\n",
    "df.head()"
   ]
  },
  {
   "cell_type": "code",
   "execution_count": 18,
   "metadata": {},
   "outputs": [
    {
     "output_type": "execute_result",
     "data": {
      "text/plain": [
       "       bathrooms  bedrooms  description  features  price  target\n",
       "id                                                              \n",
       "57094        1.0         3     0.153092  0.002117   4495  medium\n",
       "33389        1.0         1     0.214983  0.001945   2570  medium\n",
       "60458        1.0         0     0.149183  0.002076   1795     low\n",
       "53048        1.0         2     0.152593  0.001974   3400     low\n",
       "592          1.0         3     0.143985  0.002158   5695     low"
      ],
      "text/html": "<div>\n<style scoped>\n    .dataframe tbody tr th:only-of-type {\n        vertical-align: middle;\n    }\n\n    .dataframe tbody tr th {\n        vertical-align: top;\n    }\n\n    .dataframe thead th {\n        text-align: right;\n    }\n</style>\n<table border=\"1\" class=\"dataframe\">\n  <thead>\n    <tr style=\"text-align: right;\">\n      <th></th>\n      <th>bathrooms</th>\n      <th>bedrooms</th>\n      <th>description</th>\n      <th>features</th>\n      <th>price</th>\n      <th>target</th>\n    </tr>\n    <tr>\n      <th>id</th>\n      <th></th>\n      <th></th>\n      <th></th>\n      <th></th>\n      <th></th>\n      <th></th>\n    </tr>\n  </thead>\n  <tbody>\n    <tr>\n      <th>57094</th>\n      <td>1.0</td>\n      <td>3</td>\n      <td>0.153092</td>\n      <td>0.002117</td>\n      <td>4495</td>\n      <td>medium</td>\n    </tr>\n    <tr>\n      <th>33389</th>\n      <td>1.0</td>\n      <td>1</td>\n      <td>0.214983</td>\n      <td>0.001945</td>\n      <td>2570</td>\n      <td>medium</td>\n    </tr>\n    <tr>\n      <th>60458</th>\n      <td>1.0</td>\n      <td>0</td>\n      <td>0.149183</td>\n      <td>0.002076</td>\n      <td>1795</td>\n      <td>low</td>\n    </tr>\n    <tr>\n      <th>53048</th>\n      <td>1.0</td>\n      <td>2</td>\n      <td>0.152593</td>\n      <td>0.001974</td>\n      <td>3400</td>\n      <td>low</td>\n    </tr>\n    <tr>\n      <th>592</th>\n      <td>1.0</td>\n      <td>3</td>\n      <td>0.143985</td>\n      <td>0.002158</td>\n      <td>5695</td>\n      <td>low</td>\n    </tr>\n  </tbody>\n</table>\n</div>"
     },
     "metadata": {},
     "execution_count": 18
    }
   ],
   "source": [
    "df.drop(['building_id', 'created', 'display_address', 'latitude', 'listing_id', 'longitude', 'manager_id', 'photos', 'street_address'], inplace = True, axis = 1)\n",
    "df.head()"
   ]
  },
  {
   "cell_type": "code",
   "execution_count": 53,
   "metadata": {},
   "outputs": [
    {
     "output_type": "execute_result",
     "data": {
      "text/plain": [
       "       bathrooms  bedrooms  description  features     price  target\n",
       "id                                                                 \n",
       "57094  -0.423163  1.307938     0.229637  0.211696  0.030128  medium\n",
       "33389  -0.423163 -0.485772     0.322474  0.194492 -0.057108  medium\n",
       "60458  -0.423163 -1.382628     0.223774  0.207620 -0.092229     low\n",
       "53048  -0.423163  0.411083     0.228889  0.197394 -0.019494     low\n",
       "592    -0.423163  1.307938     0.215978  0.215843  0.084509     low\n",
       "...          ...       ...          ...       ...       ...     ...\n",
       "8577   -0.423163 -0.485772     0.000000  0.172130 -0.018588     NaN\n",
       "91314  -0.423163  0.411083     0.248911  0.214244  0.016760     NaN\n",
       "38696  -0.423163  0.411083     0.213658  0.000000 -0.092002     NaN\n",
       "64331  -0.423163 -0.485772     0.248394  0.205654 -0.022893     NaN\n",
       "82599  -0.423163 -1.382628     0.230265  0.205565 -0.067304     NaN\n",
       "\n",
       "[49352 rows x 6 columns]"
      ],
      "text/html": "<div>\n<style scoped>\n    .dataframe tbody tr th:only-of-type {\n        vertical-align: middle;\n    }\n\n    .dataframe tbody tr th {\n        vertical-align: top;\n    }\n\n    .dataframe thead th {\n        text-align: right;\n    }\n</style>\n<table border=\"1\" class=\"dataframe\">\n  <thead>\n    <tr style=\"text-align: right;\">\n      <th></th>\n      <th>bathrooms</th>\n      <th>bedrooms</th>\n      <th>description</th>\n      <th>features</th>\n      <th>price</th>\n      <th>target</th>\n    </tr>\n    <tr>\n      <th>id</th>\n      <th></th>\n      <th></th>\n      <th></th>\n      <th></th>\n      <th></th>\n      <th></th>\n    </tr>\n  </thead>\n  <tbody>\n    <tr>\n      <th>57094</th>\n      <td>-0.423163</td>\n      <td>1.307938</td>\n      <td>0.229637</td>\n      <td>0.211696</td>\n      <td>0.030128</td>\n      <td>medium</td>\n    </tr>\n    <tr>\n      <th>33389</th>\n      <td>-0.423163</td>\n      <td>-0.485772</td>\n      <td>0.322474</td>\n      <td>0.194492</td>\n      <td>-0.057108</td>\n      <td>medium</td>\n    </tr>\n    <tr>\n      <th>60458</th>\n      <td>-0.423163</td>\n      <td>-1.382628</td>\n      <td>0.223774</td>\n      <td>0.207620</td>\n      <td>-0.092229</td>\n      <td>low</td>\n    </tr>\n    <tr>\n      <th>53048</th>\n      <td>-0.423163</td>\n      <td>0.411083</td>\n      <td>0.228889</td>\n      <td>0.197394</td>\n      <td>-0.019494</td>\n      <td>low</td>\n    </tr>\n    <tr>\n      <th>592</th>\n      <td>-0.423163</td>\n      <td>1.307938</td>\n      <td>0.215978</td>\n      <td>0.215843</td>\n      <td>0.084509</td>\n      <td>low</td>\n    </tr>\n    <tr>\n      <th>...</th>\n      <td>...</td>\n      <td>...</td>\n      <td>...</td>\n      <td>...</td>\n      <td>...</td>\n      <td>...</td>\n    </tr>\n    <tr>\n      <th>8577</th>\n      <td>-0.423163</td>\n      <td>-0.485772</td>\n      <td>0.000000</td>\n      <td>0.172130</td>\n      <td>-0.018588</td>\n      <td>NaN</td>\n    </tr>\n    <tr>\n      <th>91314</th>\n      <td>-0.423163</td>\n      <td>0.411083</td>\n      <td>0.248911</td>\n      <td>0.214244</td>\n      <td>0.016760</td>\n      <td>NaN</td>\n    </tr>\n    <tr>\n      <th>38696</th>\n      <td>-0.423163</td>\n      <td>0.411083</td>\n      <td>0.213658</td>\n      <td>0.000000</td>\n      <td>-0.092002</td>\n      <td>NaN</td>\n    </tr>\n    <tr>\n      <th>64331</th>\n      <td>-0.423163</td>\n      <td>-0.485772</td>\n      <td>0.248394</td>\n      <td>0.205654</td>\n      <td>-0.022893</td>\n      <td>NaN</td>\n    </tr>\n    <tr>\n      <th>82599</th>\n      <td>-0.423163</td>\n      <td>-1.382628</td>\n      <td>0.230265</td>\n      <td>0.205565</td>\n      <td>-0.067304</td>\n      <td>NaN</td>\n    </tr>\n  </tbody>\n</table>\n<p>49352 rows × 6 columns</p>\n</div>"
     },
     "metadata": {},
     "execution_count": 53
    }
   ],
   "source": [
    "mms = MinMaxScaler()\n",
    "sc = StandardScaler()\n",
    "df[['description', 'features']] = mms.fit_transform(df[['description', 'features']])\n",
    "df[['bathrooms', 'bedrooms', 'price']] = mms.fit_transform(df[['bathrooms', 'bedrooms', 'price']])\n",
    "df"
   ]
  },
  {
   "cell_type": "code",
   "execution_count": 54,
   "metadata": {},
   "outputs": [
    {
     "output_type": "execute_result",
     "data": {
      "text/plain": [
       "        bathrooms  bedrooms  description  features     price  target\n",
       "id                                                                  \n",
       "57094   -0.423163  1.307938     0.229637  0.211696  0.030128  medium\n",
       "33389   -0.423163 -0.485772     0.322474  0.194492 -0.057108  medium\n",
       "60458   -0.423163 -1.382628     0.223774  0.207620 -0.092229     low\n",
       "53048   -0.423163  0.411083     0.228889  0.197394 -0.019494     low\n",
       "592     -0.423163  1.307938     0.215978  0.215843  0.084509     low\n",
       "...           ...       ...          ...       ...       ...     ...\n",
       "25582   -0.423163 -0.485772     0.246222  0.333333 -0.085204     low\n",
       "50013   -0.423163 -1.382628     0.207832  0.203218 -0.055748  medium\n",
       "111475   1.571195  0.411083     0.161237  0.000000  0.057998     low\n",
       "71184   -0.423163  0.411083     0.220793  0.186526 -0.019494  medium\n",
       "117473  -0.423163  0.411083     0.133569  0.000000 -0.039887  medium\n",
       "\n",
       "[34546 rows x 6 columns]"
      ],
      "text/html": "<div>\n<style scoped>\n    .dataframe tbody tr th:only-of-type {\n        vertical-align: middle;\n    }\n\n    .dataframe tbody tr th {\n        vertical-align: top;\n    }\n\n    .dataframe thead th {\n        text-align: right;\n    }\n</style>\n<table border=\"1\" class=\"dataframe\">\n  <thead>\n    <tr style=\"text-align: right;\">\n      <th></th>\n      <th>bathrooms</th>\n      <th>bedrooms</th>\n      <th>description</th>\n      <th>features</th>\n      <th>price</th>\n      <th>target</th>\n    </tr>\n    <tr>\n      <th>id</th>\n      <th></th>\n      <th></th>\n      <th></th>\n      <th></th>\n      <th></th>\n      <th></th>\n    </tr>\n  </thead>\n  <tbody>\n    <tr>\n      <th>57094</th>\n      <td>-0.423163</td>\n      <td>1.307938</td>\n      <td>0.229637</td>\n      <td>0.211696</td>\n      <td>0.030128</td>\n      <td>medium</td>\n    </tr>\n    <tr>\n      <th>33389</th>\n      <td>-0.423163</td>\n      <td>-0.485772</td>\n      <td>0.322474</td>\n      <td>0.194492</td>\n      <td>-0.057108</td>\n      <td>medium</td>\n    </tr>\n    <tr>\n      <th>60458</th>\n      <td>-0.423163</td>\n      <td>-1.382628</td>\n      <td>0.223774</td>\n      <td>0.207620</td>\n      <td>-0.092229</td>\n      <td>low</td>\n    </tr>\n    <tr>\n      <th>53048</th>\n      <td>-0.423163</td>\n      <td>0.411083</td>\n      <td>0.228889</td>\n      <td>0.197394</td>\n      <td>-0.019494</td>\n      <td>low</td>\n    </tr>\n    <tr>\n      <th>592</th>\n      <td>-0.423163</td>\n      <td>1.307938</td>\n      <td>0.215978</td>\n      <td>0.215843</td>\n      <td>0.084509</td>\n      <td>low</td>\n    </tr>\n    <tr>\n      <th>...</th>\n      <td>...</td>\n      <td>...</td>\n      <td>...</td>\n      <td>...</td>\n      <td>...</td>\n      <td>...</td>\n    </tr>\n    <tr>\n      <th>25582</th>\n      <td>-0.423163</td>\n      <td>-0.485772</td>\n      <td>0.246222</td>\n      <td>0.333333</td>\n      <td>-0.085204</td>\n      <td>low</td>\n    </tr>\n    <tr>\n      <th>50013</th>\n      <td>-0.423163</td>\n      <td>-1.382628</td>\n      <td>0.207832</td>\n      <td>0.203218</td>\n      <td>-0.055748</td>\n      <td>medium</td>\n    </tr>\n    <tr>\n      <th>111475</th>\n      <td>1.571195</td>\n      <td>0.411083</td>\n      <td>0.161237</td>\n      <td>0.000000</td>\n      <td>0.057998</td>\n      <td>low</td>\n    </tr>\n    <tr>\n      <th>71184</th>\n      <td>-0.423163</td>\n      <td>0.411083</td>\n      <td>0.220793</td>\n      <td>0.186526</td>\n      <td>-0.019494</td>\n      <td>medium</td>\n    </tr>\n    <tr>\n      <th>117473</th>\n      <td>-0.423163</td>\n      <td>0.411083</td>\n      <td>0.133569</td>\n      <td>0.000000</td>\n      <td>-0.039887</td>\n      <td>medium</td>\n    </tr>\n  </tbody>\n</table>\n<p>34546 rows × 6 columns</p>\n</div>"
     },
     "metadata": {},
     "execution_count": 54
    }
   ],
   "source": [
    "gdf_train = df[:df_train.shape[0]]\n",
    "gdf_train"
   ]
  },
  {
   "cell_type": "code",
   "execution_count": 55,
   "metadata": {},
   "outputs": [
    {
     "output_type": "execute_result",
     "data": {
      "text/plain": [
       "        bathrooms  bedrooms  description  features     price\n",
       "id                                                          \n",
       "19477    1.571195  1.307938     0.231178  0.203609  0.038285\n",
       "29937   -0.423163  0.411083     0.223694  0.000000 -0.078407\n",
       "109148  -0.423163  0.411083     0.201731  0.168056 -0.046685\n",
       "65728    1.571195  1.307938     0.295607  0.400817  0.075672\n",
       "33623   -0.423163  1.307938     0.218238  0.218444  0.007469\n",
       "...           ...       ...          ...       ...       ...\n",
       "8577    -0.423163 -0.485772     0.000000  0.172130 -0.018588\n",
       "91314   -0.423163  0.411083     0.248911  0.214244  0.016760\n",
       "38696   -0.423163  0.411083     0.213658  0.000000 -0.092002\n",
       "64331   -0.423163 -0.485772     0.248394  0.205654 -0.022893\n",
       "82599   -0.423163 -1.382628     0.230265  0.205565 -0.067304\n",
       "\n",
       "[14806 rows x 5 columns]"
      ],
      "text/html": "<div>\n<style scoped>\n    .dataframe tbody tr th:only-of-type {\n        vertical-align: middle;\n    }\n\n    .dataframe tbody tr th {\n        vertical-align: top;\n    }\n\n    .dataframe thead th {\n        text-align: right;\n    }\n</style>\n<table border=\"1\" class=\"dataframe\">\n  <thead>\n    <tr style=\"text-align: right;\">\n      <th></th>\n      <th>bathrooms</th>\n      <th>bedrooms</th>\n      <th>description</th>\n      <th>features</th>\n      <th>price</th>\n    </tr>\n    <tr>\n      <th>id</th>\n      <th></th>\n      <th></th>\n      <th></th>\n      <th></th>\n      <th></th>\n    </tr>\n  </thead>\n  <tbody>\n    <tr>\n      <th>19477</th>\n      <td>1.571195</td>\n      <td>1.307938</td>\n      <td>0.231178</td>\n      <td>0.203609</td>\n      <td>0.038285</td>\n    </tr>\n    <tr>\n      <th>29937</th>\n      <td>-0.423163</td>\n      <td>0.411083</td>\n      <td>0.223694</td>\n      <td>0.000000</td>\n      <td>-0.078407</td>\n    </tr>\n    <tr>\n      <th>109148</th>\n      <td>-0.423163</td>\n      <td>0.411083</td>\n      <td>0.201731</td>\n      <td>0.168056</td>\n      <td>-0.046685</td>\n    </tr>\n    <tr>\n      <th>65728</th>\n      <td>1.571195</td>\n      <td>1.307938</td>\n      <td>0.295607</td>\n      <td>0.400817</td>\n      <td>0.075672</td>\n    </tr>\n    <tr>\n      <th>33623</th>\n      <td>-0.423163</td>\n      <td>1.307938</td>\n      <td>0.218238</td>\n      <td>0.218444</td>\n      <td>0.007469</td>\n    </tr>\n    <tr>\n      <th>...</th>\n      <td>...</td>\n      <td>...</td>\n      <td>...</td>\n      <td>...</td>\n      <td>...</td>\n    </tr>\n    <tr>\n      <th>8577</th>\n      <td>-0.423163</td>\n      <td>-0.485772</td>\n      <td>0.000000</td>\n      <td>0.172130</td>\n      <td>-0.018588</td>\n    </tr>\n    <tr>\n      <th>91314</th>\n      <td>-0.423163</td>\n      <td>0.411083</td>\n      <td>0.248911</td>\n      <td>0.214244</td>\n      <td>0.016760</td>\n    </tr>\n    <tr>\n      <th>38696</th>\n      <td>-0.423163</td>\n      <td>0.411083</td>\n      <td>0.213658</td>\n      <td>0.000000</td>\n      <td>-0.092002</td>\n    </tr>\n    <tr>\n      <th>64331</th>\n      <td>-0.423163</td>\n      <td>-0.485772</td>\n      <td>0.248394</td>\n      <td>0.205654</td>\n      <td>-0.022893</td>\n    </tr>\n    <tr>\n      <th>82599</th>\n      <td>-0.423163</td>\n      <td>-1.382628</td>\n      <td>0.230265</td>\n      <td>0.205565</td>\n      <td>-0.067304</td>\n    </tr>\n  </tbody>\n</table>\n<p>14806 rows × 5 columns</p>\n</div>"
     },
     "metadata": {},
     "execution_count": 55
    }
   ],
   "source": [
    "gdf_test = df[df_train.shape[0]:]\n",
    "gdf_test.drop('target', inplace=True, axis=1)\n",
    "gdf_test"
   ]
  },
  {
   "cell_type": "code",
   "execution_count": 137,
   "metadata": {},
   "outputs": [
    {
     "output_type": "display_data",
     "data": {
      "text/plain": "        bathrooms  bedrooms  description  features     price\nid                                                          \n57094   -0.423163  1.307938     0.229637  0.211696  0.030128\n33389   -0.423163 -0.485772     0.322474  0.194492 -0.057108\n60458   -0.423163 -1.382628     0.223774  0.207620 -0.092229\n53048   -0.423163  0.411083     0.228889  0.197394 -0.019494\n592     -0.423163  1.307938     0.215978  0.215843  0.084509\n...           ...       ...          ...       ...       ...\n25582   -0.423163 -0.485772     0.246222  0.333333 -0.085204\n50013   -0.423163 -1.382628     0.207832  0.203218 -0.055748\n111475   1.571195  0.411083     0.161237  0.000000  0.057998\n71184   -0.423163  0.411083     0.220793  0.186526 -0.019494\n117473  -0.423163  0.411083     0.133569  0.000000 -0.039887\n\n[34546 rows x 5 columns]",
      "text/html": "<div>\n<style scoped>\n    .dataframe tbody tr th:only-of-type {\n        vertical-align: middle;\n    }\n\n    .dataframe tbody tr th {\n        vertical-align: top;\n    }\n\n    .dataframe thead th {\n        text-align: right;\n    }\n</style>\n<table border=\"1\" class=\"dataframe\">\n  <thead>\n    <tr style=\"text-align: right;\">\n      <th></th>\n      <th>bathrooms</th>\n      <th>bedrooms</th>\n      <th>description</th>\n      <th>features</th>\n      <th>price</th>\n    </tr>\n    <tr>\n      <th>id</th>\n      <th></th>\n      <th></th>\n      <th></th>\n      <th></th>\n      <th></th>\n    </tr>\n  </thead>\n  <tbody>\n    <tr>\n      <th>57094</th>\n      <td>-0.423163</td>\n      <td>1.307938</td>\n      <td>0.229637</td>\n      <td>0.211696</td>\n      <td>0.030128</td>\n    </tr>\n    <tr>\n      <th>33389</th>\n      <td>-0.423163</td>\n      <td>-0.485772</td>\n      <td>0.322474</td>\n      <td>0.194492</td>\n      <td>-0.057108</td>\n    </tr>\n    <tr>\n      <th>60458</th>\n      <td>-0.423163</td>\n      <td>-1.382628</td>\n      <td>0.223774</td>\n      <td>0.207620</td>\n      <td>-0.092229</td>\n    </tr>\n    <tr>\n      <th>53048</th>\n      <td>-0.423163</td>\n      <td>0.411083</td>\n      <td>0.228889</td>\n      <td>0.197394</td>\n      <td>-0.019494</td>\n    </tr>\n    <tr>\n      <th>592</th>\n      <td>-0.423163</td>\n      <td>1.307938</td>\n      <td>0.215978</td>\n      <td>0.215843</td>\n      <td>0.084509</td>\n    </tr>\n    <tr>\n      <th>...</th>\n      <td>...</td>\n      <td>...</td>\n      <td>...</td>\n      <td>...</td>\n      <td>...</td>\n    </tr>\n    <tr>\n      <th>25582</th>\n      <td>-0.423163</td>\n      <td>-0.485772</td>\n      <td>0.246222</td>\n      <td>0.333333</td>\n      <td>-0.085204</td>\n    </tr>\n    <tr>\n      <th>50013</th>\n      <td>-0.423163</td>\n      <td>-1.382628</td>\n      <td>0.207832</td>\n      <td>0.203218</td>\n      <td>-0.055748</td>\n    </tr>\n    <tr>\n      <th>111475</th>\n      <td>1.571195</td>\n      <td>0.411083</td>\n      <td>0.161237</td>\n      <td>0.000000</td>\n      <td>0.057998</td>\n    </tr>\n    <tr>\n      <th>71184</th>\n      <td>-0.423163</td>\n      <td>0.411083</td>\n      <td>0.220793</td>\n      <td>0.186526</td>\n      <td>-0.019494</td>\n    </tr>\n    <tr>\n      <th>117473</th>\n      <td>-0.423163</td>\n      <td>0.411083</td>\n      <td>0.133569</td>\n      <td>0.000000</td>\n      <td>-0.039887</td>\n    </tr>\n  </tbody>\n</table>\n<p>34546 rows × 5 columns</p>\n</div>"
     },
     "metadata": {}
    },
    {
     "output_type": "display_data",
     "data": {
      "text/plain": "id\n57094     2\n33389     2\n60458     1\n53048     1\n592       1\n         ..\n25582     1\n50013     2\n111475    1\n71184     2\n117473    2\nName: target, Length: 34546, dtype: int64"
     },
     "metadata": {}
    }
   ],
   "source": [
    "data_y_train = gdf_train['target']\n",
    "data_X_train = gdf_train.drop('target', axis=1)\n",
    "data_y_train = data_y_train.map({'low': 1, 'medium': 2, 'high': 3})\n",
    "display(data_X_train)\n",
    "display(data_y_train)"
   ]
  },
  {
   "cell_type": "code",
   "execution_count": 138,
   "metadata": {},
   "outputs": [],
   "source": [
    "X_train, X_test, y_train, y_test = train_test_split(data_X_train, data_y_train, test_size = 0.2)"
   ]
  },
  {
   "cell_type": "code",
   "execution_count": 139,
   "metadata": {},
   "outputs": [
    {
     "output_type": "execute_result",
     "data": {
      "text/plain": [
       "LogisticRegression()"
      ]
     },
     "metadata": {},
     "execution_count": 139
    }
   ],
   "source": [
    "log_reg = LogisticRegression() \n",
    "log_reg.fit(X_train, y_train)"
   ]
  },
  {
   "cell_type": "code",
   "execution_count": 140,
   "metadata": {},
   "outputs": [
    {
     "output_type": "execute_result",
     "data": {
      "text/plain": [
       "array([1, 1, 1, ..., 1, 1, 1])"
      ]
     },
     "metadata": {},
     "execution_count": 140
    }
   ],
   "source": [
    "y_pred = log_reg.predict(X_test)\n",
    "y_pred"
   ]
  },
  {
   "cell_type": "code",
   "execution_count": 141,
   "metadata": {},
   "outputs": [
    {
     "output_type": "execute_result",
     "data": {
      "text/plain": [
       "2054"
      ]
     },
     "metadata": {},
     "execution_count": 141
    }
   ],
   "source": [
    "cnt = 0\n",
    "for elem in y_test:\n",
    "    if elem != 1:\n",
    "        cnt += 1\n",
    "cnt"
   ]
  },
  {
   "cell_type": "code",
   "execution_count": 142,
   "metadata": {},
   "outputs": [
    {
     "output_type": "execute_result",
     "data": {
      "text/plain": [
       "0.7219971056439942"
      ]
     },
     "metadata": {},
     "execution_count": 142
    }
   ],
   "source": [
    "accuracy_score(y_test, y_pred)"
   ]
  },
  {
   "cell_type": "code",
   "execution_count": 143,
   "metadata": {},
   "outputs": [
    {
     "output_type": "execute_result",
     "data": {
      "text/plain": [
       "0.7027496382054993"
      ]
     },
     "metadata": {},
     "execution_count": 143
    }
   ],
   "source": [
    "y_const = np.ones(len(y_test))\n",
    "accuracy_score(y_test, y_const)"
   ]
  },
  {
   "cell_type": "code",
   "execution_count": 144,
   "metadata": {},
   "outputs": [
    {
     "output_type": "execute_result",
     "data": {
      "text/plain": [
       "array([1, 1, 1, ..., 1, 1, 1])"
      ]
     },
     "metadata": {},
     "execution_count": 144
    }
   ],
   "source": [
    "big_test_y = log_reg.predict(gdf_test)\n",
    "big_test_y"
   ]
  },
  {
   "cell_type": "code",
   "execution_count": 145,
   "metadata": {},
   "outputs": [],
   "source": [
    "log_reg = LogisticRegression() \n",
    "log_reg.fit(data_X_train, data_y_train)\n",
    "submission = pd.DataFrame(gdf_test.index)\n",
    "submission['TARGET'] = log_reg.predict(gdf_test)\n",
    "submission['TARGET'] = submission['TARGET'].map({1: 'low', 2: 'medium', 3: 'high'})\n",
    "submission.to_csv('submission.csv', index=False)"
   ]
  },
  {
   "cell_type": "code",
   "execution_count": 106,
   "metadata": {},
   "outputs": [
    {
     "output_type": "display_data",
     "data": {
      "text/plain": "0        1\n1        2\n2        1\n3        2\n4        2\n        ..\n29359    2\n29360    1\n29361    2\n29362    1\n29363    1\nName: target, Length: 29364, dtype: int64"
     },
     "metadata": {}
    },
    {
     "output_type": "display_data",
     "data": {
      "text/plain": "array([1.38267947, 1.38267947, 1.38267947, 1.38267947, 1.38267947,\n       1.38267947, 1.38267947, 1.38267947, 1.38267947, 1.38267947,\n       1.38267947, 1.38267947, 1.38267947, 1.38267947, 1.38267947,\n       1.38267947, 1.38267947, 1.38267947, 1.38267947, 1.38267947,\n       1.38267947, 1.38267947, 1.38267947, 1.38267947, 1.38267947,\n       1.38267947, 1.38267947, 1.38267947, 1.38267947, 1.38267947])"
     },
     "metadata": {}
    },
    {
     "output_type": "error",
     "ename": "ValueError",
     "evalue": "Classification metrics can't handle a mix of multiclass and continuous targets",
     "traceback": [
      "\u001b[0;31m---------------------------------------------------------------------------\u001b[0m",
      "\u001b[0;31mValueError\u001b[0m                                Traceback (most recent call last)",
      "\u001b[0;32m<ipython-input-106-60247be87f2e>\u001b[0m in \u001b[0;36m<module>\u001b[0;34m\u001b[0m\n\u001b[1;32m      4\u001b[0m \u001b[0my_pred_lasso\u001b[0m \u001b[0;34m=\u001b[0m \u001b[0mlasso\u001b[0m\u001b[0;34m.\u001b[0m\u001b[0mpredict\u001b[0m\u001b[0;34m(\u001b[0m\u001b[0mX_test\u001b[0m\u001b[0;34m)\u001b[0m\u001b[0;34m\u001b[0m\u001b[0;34m\u001b[0m\u001b[0m\n\u001b[1;32m      5\u001b[0m \u001b[0mdisplay\u001b[0m\u001b[0;34m(\u001b[0m\u001b[0my_pred_lasso\u001b[0m\u001b[0;34m[\u001b[0m\u001b[0;34m:\u001b[0m\u001b[0;36m30\u001b[0m\u001b[0;34m]\u001b[0m\u001b[0;34m)\u001b[0m\u001b[0;34m\u001b[0m\u001b[0;34m\u001b[0m\u001b[0m\n\u001b[0;32m----> 6\u001b[0;31m \u001b[0maccuracy_score\u001b[0m\u001b[0;34m(\u001b[0m\u001b[0my_test\u001b[0m\u001b[0;34m,\u001b[0m \u001b[0my_pred_lasso\u001b[0m\u001b[0;34m)\u001b[0m\u001b[0;34m\u001b[0m\u001b[0;34m\u001b[0m\u001b[0m\n\u001b[0m",
      "\u001b[0;32m/Library/Frameworks/Python.framework/Versions/3.8/lib/python3.8/site-packages/sklearn/utils/validation.py\u001b[0m in \u001b[0;36minner_f\u001b[0;34m(*args, **kwargs)\u001b[0m\n\u001b[1;32m     70\u001b[0m                           FutureWarning)\n\u001b[1;32m     71\u001b[0m         \u001b[0mkwargs\u001b[0m\u001b[0;34m.\u001b[0m\u001b[0mupdate\u001b[0m\u001b[0;34m(\u001b[0m\u001b[0;34m{\u001b[0m\u001b[0mk\u001b[0m\u001b[0;34m:\u001b[0m \u001b[0marg\u001b[0m \u001b[0;32mfor\u001b[0m \u001b[0mk\u001b[0m\u001b[0;34m,\u001b[0m \u001b[0marg\u001b[0m \u001b[0;32min\u001b[0m \u001b[0mzip\u001b[0m\u001b[0;34m(\u001b[0m\u001b[0msig\u001b[0m\u001b[0;34m.\u001b[0m\u001b[0mparameters\u001b[0m\u001b[0;34m,\u001b[0m \u001b[0margs\u001b[0m\u001b[0;34m)\u001b[0m\u001b[0;34m}\u001b[0m\u001b[0;34m)\u001b[0m\u001b[0;34m\u001b[0m\u001b[0;34m\u001b[0m\u001b[0m\n\u001b[0;32m---> 72\u001b[0;31m         \u001b[0;32mreturn\u001b[0m \u001b[0mf\u001b[0m\u001b[0;34m(\u001b[0m\u001b[0;34m**\u001b[0m\u001b[0mkwargs\u001b[0m\u001b[0;34m)\u001b[0m\u001b[0;34m\u001b[0m\u001b[0;34m\u001b[0m\u001b[0m\n\u001b[0m\u001b[1;32m     73\u001b[0m     \u001b[0;32mreturn\u001b[0m \u001b[0minner_f\u001b[0m\u001b[0;34m\u001b[0m\u001b[0;34m\u001b[0m\u001b[0m\n\u001b[1;32m     74\u001b[0m \u001b[0;34m\u001b[0m\u001b[0m\n",
      "\u001b[0;32m/Library/Frameworks/Python.framework/Versions/3.8/lib/python3.8/site-packages/sklearn/metrics/_classification.py\u001b[0m in \u001b[0;36maccuracy_score\u001b[0;34m(y_true, y_pred, normalize, sample_weight)\u001b[0m\n\u001b[1;32m    185\u001b[0m \u001b[0;34m\u001b[0m\u001b[0m\n\u001b[1;32m    186\u001b[0m     \u001b[0;31m# Compute accuracy for each possible representation\u001b[0m\u001b[0;34m\u001b[0m\u001b[0;34m\u001b[0m\u001b[0;34m\u001b[0m\u001b[0m\n\u001b[0;32m--> 187\u001b[0;31m     \u001b[0my_type\u001b[0m\u001b[0;34m,\u001b[0m \u001b[0my_true\u001b[0m\u001b[0;34m,\u001b[0m \u001b[0my_pred\u001b[0m \u001b[0;34m=\u001b[0m \u001b[0m_check_targets\u001b[0m\u001b[0;34m(\u001b[0m\u001b[0my_true\u001b[0m\u001b[0;34m,\u001b[0m \u001b[0my_pred\u001b[0m\u001b[0;34m)\u001b[0m\u001b[0;34m\u001b[0m\u001b[0;34m\u001b[0m\u001b[0m\n\u001b[0m\u001b[1;32m    188\u001b[0m     \u001b[0mcheck_consistent_length\u001b[0m\u001b[0;34m(\u001b[0m\u001b[0my_true\u001b[0m\u001b[0;34m,\u001b[0m \u001b[0my_pred\u001b[0m\u001b[0;34m,\u001b[0m \u001b[0msample_weight\u001b[0m\u001b[0;34m)\u001b[0m\u001b[0;34m\u001b[0m\u001b[0;34m\u001b[0m\u001b[0m\n\u001b[1;32m    189\u001b[0m     \u001b[0;32mif\u001b[0m \u001b[0my_type\u001b[0m\u001b[0;34m.\u001b[0m\u001b[0mstartswith\u001b[0m\u001b[0;34m(\u001b[0m\u001b[0;34m'multilabel'\u001b[0m\u001b[0;34m)\u001b[0m\u001b[0;34m:\u001b[0m\u001b[0;34m\u001b[0m\u001b[0;34m\u001b[0m\u001b[0m\n",
      "\u001b[0;32m/Library/Frameworks/Python.framework/Versions/3.8/lib/python3.8/site-packages/sklearn/metrics/_classification.py\u001b[0m in \u001b[0;36m_check_targets\u001b[0;34m(y_true, y_pred)\u001b[0m\n\u001b[1;32m     88\u001b[0m \u001b[0;34m\u001b[0m\u001b[0m\n\u001b[1;32m     89\u001b[0m     \u001b[0;32mif\u001b[0m \u001b[0mlen\u001b[0m\u001b[0;34m(\u001b[0m\u001b[0my_type\u001b[0m\u001b[0;34m)\u001b[0m \u001b[0;34m>\u001b[0m \u001b[0;36m1\u001b[0m\u001b[0;34m:\u001b[0m\u001b[0;34m\u001b[0m\u001b[0;34m\u001b[0m\u001b[0m\n\u001b[0;32m---> 90\u001b[0;31m         raise ValueError(\"Classification metrics can't handle a mix of {0} \"\n\u001b[0m\u001b[1;32m     91\u001b[0m                          \"and {1} targets\".format(type_true, type_pred))\n\u001b[1;32m     92\u001b[0m \u001b[0;34m\u001b[0m\u001b[0m\n",
      "\u001b[0;31mValueError\u001b[0m: Classification metrics can't handle a mix of multiclass and continuous targets"
     ]
    }
   ],
   "source": [
    "lasso = Lasso()\n",
    "display(y_train.reset_index()['target'])\n",
    "lasso.fit(X_train, y_train.reset_index()['target'])\n",
    "y_pred_lasso = lasso.predict(X_test)\n",
    "display(y_pred_lasso[:30])\n",
    "accuracy_score(y_test, y_pred_lasso)"
   ]
  },
  {
   "cell_type": "code",
   "execution_count": 108,
   "metadata": {},
   "outputs": [
    {
     "output_type": "error",
     "ename": "ValueError",
     "evalue": "Classification metrics can't handle a mix of multiclass and continuous targets",
     "traceback": [
      "\u001b[0;31m---------------------------------------------------------------------------\u001b[0m",
      "\u001b[0;31mValueError\u001b[0m                                Traceback (most recent call last)",
      "\u001b[0;32m<ipython-input-108-ef028dd9411d>\u001b[0m in \u001b[0;36m<module>\u001b[0;34m\u001b[0m\n\u001b[1;32m      2\u001b[0m \u001b[0mridge\u001b[0m\u001b[0;34m.\u001b[0m\u001b[0mfit\u001b[0m\u001b[0;34m(\u001b[0m\u001b[0mX_train\u001b[0m\u001b[0;34m,\u001b[0m \u001b[0my_train\u001b[0m\u001b[0;34m)\u001b[0m\u001b[0;34m\u001b[0m\u001b[0;34m\u001b[0m\u001b[0m\n\u001b[1;32m      3\u001b[0m \u001b[0my_pred_ridge\u001b[0m \u001b[0;34m=\u001b[0m \u001b[0mridge\u001b[0m\u001b[0;34m.\u001b[0m\u001b[0mpredict\u001b[0m\u001b[0;34m(\u001b[0m\u001b[0mX_test\u001b[0m\u001b[0;34m)\u001b[0m\u001b[0;34m\u001b[0m\u001b[0;34m\u001b[0m\u001b[0m\n\u001b[0;32m----> 4\u001b[0;31m \u001b[0maccuracy_score\u001b[0m\u001b[0;34m(\u001b[0m\u001b[0my_test\u001b[0m\u001b[0;34m,\u001b[0m \u001b[0my_pred_ridge\u001b[0m\u001b[0;34m)\u001b[0m\u001b[0;34m\u001b[0m\u001b[0;34m\u001b[0m\u001b[0m\n\u001b[0m",
      "\u001b[0;32m/Library/Frameworks/Python.framework/Versions/3.8/lib/python3.8/site-packages/sklearn/utils/validation.py\u001b[0m in \u001b[0;36minner_f\u001b[0;34m(*args, **kwargs)\u001b[0m\n\u001b[1;32m     70\u001b[0m                           FutureWarning)\n\u001b[1;32m     71\u001b[0m         \u001b[0mkwargs\u001b[0m\u001b[0;34m.\u001b[0m\u001b[0mupdate\u001b[0m\u001b[0;34m(\u001b[0m\u001b[0;34m{\u001b[0m\u001b[0mk\u001b[0m\u001b[0;34m:\u001b[0m \u001b[0marg\u001b[0m \u001b[0;32mfor\u001b[0m \u001b[0mk\u001b[0m\u001b[0;34m,\u001b[0m \u001b[0marg\u001b[0m \u001b[0;32min\u001b[0m \u001b[0mzip\u001b[0m\u001b[0;34m(\u001b[0m\u001b[0msig\u001b[0m\u001b[0;34m.\u001b[0m\u001b[0mparameters\u001b[0m\u001b[0;34m,\u001b[0m \u001b[0margs\u001b[0m\u001b[0;34m)\u001b[0m\u001b[0;34m}\u001b[0m\u001b[0;34m)\u001b[0m\u001b[0;34m\u001b[0m\u001b[0;34m\u001b[0m\u001b[0m\n\u001b[0;32m---> 72\u001b[0;31m         \u001b[0;32mreturn\u001b[0m \u001b[0mf\u001b[0m\u001b[0;34m(\u001b[0m\u001b[0;34m**\u001b[0m\u001b[0mkwargs\u001b[0m\u001b[0;34m)\u001b[0m\u001b[0;34m\u001b[0m\u001b[0;34m\u001b[0m\u001b[0m\n\u001b[0m\u001b[1;32m     73\u001b[0m     \u001b[0;32mreturn\u001b[0m \u001b[0minner_f\u001b[0m\u001b[0;34m\u001b[0m\u001b[0;34m\u001b[0m\u001b[0m\n\u001b[1;32m     74\u001b[0m \u001b[0;34m\u001b[0m\u001b[0m\n",
      "\u001b[0;32m/Library/Frameworks/Python.framework/Versions/3.8/lib/python3.8/site-packages/sklearn/metrics/_classification.py\u001b[0m in \u001b[0;36maccuracy_score\u001b[0;34m(y_true, y_pred, normalize, sample_weight)\u001b[0m\n\u001b[1;32m    185\u001b[0m \u001b[0;34m\u001b[0m\u001b[0m\n\u001b[1;32m    186\u001b[0m     \u001b[0;31m# Compute accuracy for each possible representation\u001b[0m\u001b[0;34m\u001b[0m\u001b[0;34m\u001b[0m\u001b[0;34m\u001b[0m\u001b[0m\n\u001b[0;32m--> 187\u001b[0;31m     \u001b[0my_type\u001b[0m\u001b[0;34m,\u001b[0m \u001b[0my_true\u001b[0m\u001b[0;34m,\u001b[0m \u001b[0my_pred\u001b[0m \u001b[0;34m=\u001b[0m \u001b[0m_check_targets\u001b[0m\u001b[0;34m(\u001b[0m\u001b[0my_true\u001b[0m\u001b[0;34m,\u001b[0m \u001b[0my_pred\u001b[0m\u001b[0;34m)\u001b[0m\u001b[0;34m\u001b[0m\u001b[0;34m\u001b[0m\u001b[0m\n\u001b[0m\u001b[1;32m    188\u001b[0m     \u001b[0mcheck_consistent_length\u001b[0m\u001b[0;34m(\u001b[0m\u001b[0my_true\u001b[0m\u001b[0;34m,\u001b[0m \u001b[0my_pred\u001b[0m\u001b[0;34m,\u001b[0m \u001b[0msample_weight\u001b[0m\u001b[0;34m)\u001b[0m\u001b[0;34m\u001b[0m\u001b[0;34m\u001b[0m\u001b[0m\n\u001b[1;32m    189\u001b[0m     \u001b[0;32mif\u001b[0m \u001b[0my_type\u001b[0m\u001b[0;34m.\u001b[0m\u001b[0mstartswith\u001b[0m\u001b[0;34m(\u001b[0m\u001b[0;34m'multilabel'\u001b[0m\u001b[0;34m)\u001b[0m\u001b[0;34m:\u001b[0m\u001b[0;34m\u001b[0m\u001b[0;34m\u001b[0m\u001b[0m\n",
      "\u001b[0;32m/Library/Frameworks/Python.framework/Versions/3.8/lib/python3.8/site-packages/sklearn/metrics/_classification.py\u001b[0m in \u001b[0;36m_check_targets\u001b[0;34m(y_true, y_pred)\u001b[0m\n\u001b[1;32m     88\u001b[0m \u001b[0;34m\u001b[0m\u001b[0m\n\u001b[1;32m     89\u001b[0m     \u001b[0;32mif\u001b[0m \u001b[0mlen\u001b[0m\u001b[0;34m(\u001b[0m\u001b[0my_type\u001b[0m\u001b[0;34m)\u001b[0m \u001b[0;34m>\u001b[0m \u001b[0;36m1\u001b[0m\u001b[0;34m:\u001b[0m\u001b[0;34m\u001b[0m\u001b[0;34m\u001b[0m\u001b[0m\n\u001b[0;32m---> 90\u001b[0;31m         raise ValueError(\"Classification metrics can't handle a mix of {0} \"\n\u001b[0m\u001b[1;32m     91\u001b[0m                          \"and {1} targets\".format(type_true, type_pred))\n\u001b[1;32m     92\u001b[0m \u001b[0;34m\u001b[0m\u001b[0m\n",
      "\u001b[0;31mValueError\u001b[0m: Classification metrics can't handle a mix of multiclass and continuous targets"
     ]
    }
   ],
   "source": [
    "ridge = Ridge()\n",
    "ridge.fit(X_train, y_train)\n",
    "y_pred_ridge = ridge.predict(X_test)\n",
    "accuracy_score(y_test, y_pred_ridge)"
   ]
  },
  {
   "cell_type": "code",
   "execution_count": null,
   "metadata": {},
   "outputs": [],
   "source": []
  }
 ]
}