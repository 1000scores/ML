{
 "metadata": {
  "language_info": {
   "codemirror_mode": {
    "name": "ipython",
    "version": 3
   },
   "file_extension": ".py",
   "mimetype": "text/x-python",
   "name": "python",
   "nbconvert_exporter": "python",
   "pygments_lexer": "ipython3",
   "version": "3.8.1-final"
  },
  "orig_nbformat": 2,
  "kernelspec": {
   "name": "python3",
   "display_name": "Python 3",
   "language": "python"
  }
 },
 "nbformat": 4,
 "nbformat_minor": 2,
 "cells": [
  {
   "cell_type": "code",
   "execution_count": 1,
   "metadata": {},
   "outputs": [],
   "source": [
    "import numpy as np\n",
    "import pandas as pd\n",
    "from sklearn.impute import SimpleImputer\n",
    "from scipy.stats import lognorm\n",
    "from sklearn.linear_model import LogisticRegression\n",
    "from sklearn.preprocessing import PolynomialFeatures\n",
    "from sklearn.pipeline import Pipeline\n",
    "from sklearn.feature_selection import VarianceThreshold\n",
    "from sklearn.datasets import make_classification\n",
    "from sklearn.feature_selection import SelectKBest, f_classif\n",
    "from sklearn.linear_model import LogisticRegression\n",
    "from sklearn.model_selection import cross_val_score\n",
    "from sklearn.datasets import make_classification\n",
    "from sklearn.linear_model import LogisticRegression\n",
    "from sklearn.feature_selection import SelectFromModel\n",
    "from sklearn.model_selection import cross_val_score\n",
    "from sklearn.pipeline import make_pipeline\n",
    "from mlxtend.feature_selection import SequentialFeatureSelector\n",
    "%matplotlib inline\n",
    "from matplotlib import pyplot as plt \n",
    "from sklearn.model_selection import train_test_split\n",
    "from sklearn.preprocessing import MinMaxScaler\n",
    "from sklearn.preprocessing import StandardScaler\n",
    "from sklearn.metrics import accuracy_score"
   ]
  },
  {
   "cell_type": "code",
   "execution_count": 2,
   "metadata": {},
   "outputs": [],
   "source": [
    "%load_ext autoreload\n",
    "%autoreload 2"
   ]
  },
  {
   "cell_type": "code",
   "execution_count": 3,
   "metadata": {},
   "outputs": [
    {
     "output_type": "display_data",
     "data": {
      "text/plain": "        bathrooms  bedrooms                       building_id  \\\nid                                                              \n57094         1.0         3                                 0   \n33389         1.0         1  9225efdfb57a50bf3ec17ebab082f94a   \n60458         1.0         0  320de7d3cc88e50a7fbbcfde1e825d21   \n53048         1.0         2  ce6d18bf3238e668b2bf23f4110b7b67   \n592           1.0         3  fee4d465932160318364d9d48d272879   \n...           ...       ...                               ...   \n25582         1.0         1  14fdc4b01ae44b025f6c4d28c9097e5f   \n50013         1.0         0  9b6cf886379a2511f8c633c84028efe7   \n111475        2.0         2                                 0   \n71184         1.0         2  8754cae39f6e053974aa2337017eb3c1   \n117473        1.0         2  a068b783287190d47d1564ab4d898675   \n\n                    created  \\\nid                            \n57094   2016-05-19 18:06:27   \n33389   2016-06-16 02:01:49   \n60458   2016-05-04 02:42:50   \n53048   2016-05-12 05:57:56   \n592     2016-06-16 06:06:15   \n...                     ...   \n25582   2016-06-16 02:12:57   \n50013   2016-05-10 03:17:32   \n111475  2016-04-21 03:29:35   \n71184   2016-05-14 02:27:47   \n117473  2016-04-05 03:35:52   \n\n                                              description  \\\nid                                                          \n57094   A FABULOUS 3BR IN MIDTOWN WEST!   PERFECT APAR...   \n33389                     Renovated Kitchen and Bathroom!   \n60458   RARE AND BEST DEAL ON THE MARKET!!!! PERFECT S...   \n53048   Newly renovated flex 2 apartment offers the ne...   \n592     LOW FEE apartments do not come around like thi...   \n...                                                   ...   \n25582   Newly renovated bedroom apartment located off ...   \n50013   All apartments are newly renovated featuring: ...   \n111475  <![CDATA[2 bedrooms, 5110, Astoria / Long Isla...   \n71184   CooperCooper.com :: Listing ID #10_0385; 400 W...   \n117473  Renovated two bedroom apartment with beautiful...   \n\n                                          display_address  \\\nid                                                          \n57094   HOW AMAZING IS THIS MIDTOWN WEST STEAL!! NO FE...   \n33389                                55 River Drive South   \n60458                                         W 77 Street   \n53048                                         John Street   \n592                                      West 16th Street   \n...                                                   ...   \n25582                                             29th St   \n50013                                            E 1st St   \n111475                                        50th Avenue   \n71184                                400 West 56th Street   \n117473                                        E 82 Street   \n\n                                                 features  latitude  \\\nid                                                                    \n57094                 [Laundry In Unit, No Fee, Elevator]   40.7647   \n33389                [Dogs Allowed, Cats Allowed, No Fee]   40.7275   \n60458                         [Elevator, Hardwood Floors]   40.7798   \n53048   [Swimming Pool, Doorman, Elevator, Fitness Cen...   40.7081   \n592     [Laundry in Building, Laundry in Unit, Dishwas...   40.7416   \n...                                                   ...       ...   \n25582                                           [No pets]   40.7653   \n50013   [Pre-War, Laundry in Unit, Dishwasher, Hardwoo...   40.7239   \n111475                                                 []   40.7437   \n71184   [Laundry in Unit, Dishwasher, Cats Allowed, Do...   40.7673   \n117473                                                 []   40.7765   \n\n        listing_id  longitude                        manager_id  \\\nid                                                                \n57094      7039994   -73.9918  4bdc3d8c1aaa90d997ce2cb77680679b   \n33389      7166774   -74.0322  e5808a5e6cc13988fe596704428d38d5   \n60458      6962716   -73.9751  d69d4e111612dd12ef864031c1148543   \n53048      7002458   -74.0065  e6472c7237327dd3903b3d6f6a94515a   \n592        7170465   -74.0025  6fba9b3a8327c607b8b043716efee684   \n...            ...        ...                               ...   \n25582      7166867   -73.9248  e6472c7237327dd3903b3d6f6a94515a   \n50013      6989251   -73.9901  5599e962719af3ccc2976855c2d5893c   \n111475     6905568   -73.9585  e6472c7237327dd3903b3d6f6a94515a   \n71184      7010187   -73.9866  6e5c10246156ae5bdcd9b487ca99d96a   \n117473     6824588   -73.9571  e0f4c69279ce5ae6421b39d46303554b   \n\n                                                   photos  price  \\\nid                                                                 \n57094   ['https://photos.renthop.com/2/7039994_07be01b...   4495   \n33389   ['https://photos.renthop.com/2/7166774_03cf63a...   2570   \n60458   ['https://photos.renthop.com/2/6962716_ec7f56f...   1795   \n53048   ['https://photos.renthop.com/2/7002458_93f4010...   3400   \n592     ['https://photos.renthop.com/2/7170465_9c3f173...   5695   \n...                                                   ...    ...   \n25582   ['https://photos.renthop.com/2/7166867_625fde3...   1950   \n50013   ['https://photos.renthop.com/2/6989251_42a4884...   2600   \n111475  ['https://photos.renthop.com/2/6905568_01602e3...   5110   \n71184   ['https://photos.renthop.com/2/7010187_ab1db5d...   3400   \n117473  ['https://photos.renthop.com/2/6824588_b997d59...   2950   \n\n              street_address  target  \nid                                    \n57094          W 50 & AVE 10  medium  \n33389   55 River Drive South  medium  \n60458         22 W 77 Street     low  \n53048        100 John Street     low  \n592     321 West 16th Street     low  \n...                      ...     ...  \n25582          30-95 29th St     low  \n50013            39 E 1st St  medium  \n111475      2-01 50th Avenue     low  \n71184   400 West 56th Street  medium  \n117473       158 E 82 Street  medium  \n\n[34546 rows x 15 columns]",
      "text/html": "<div>\n<style scoped>\n    .dataframe tbody tr th:only-of-type {\n        vertical-align: middle;\n    }\n\n    .dataframe tbody tr th {\n        vertical-align: top;\n    }\n\n    .dataframe thead th {\n        text-align: right;\n    }\n</style>\n<table border=\"1\" class=\"dataframe\">\n  <thead>\n    <tr style=\"text-align: right;\">\n      <th></th>\n      <th>bathrooms</th>\n      <th>bedrooms</th>\n      <th>building_id</th>\n      <th>created</th>\n      <th>description</th>\n      <th>display_address</th>\n      <th>features</th>\n      <th>latitude</th>\n      <th>listing_id</th>\n      <th>longitude</th>\n      <th>manager_id</th>\n      <th>photos</th>\n      <th>price</th>\n      <th>street_address</th>\n      <th>target</th>\n    </tr>\n    <tr>\n      <th>id</th>\n      <th></th>\n      <th></th>\n      <th></th>\n      <th></th>\n      <th></th>\n      <th></th>\n      <th></th>\n      <th></th>\n      <th></th>\n      <th></th>\n      <th></th>\n      <th></th>\n      <th></th>\n      <th></th>\n      <th></th>\n    </tr>\n  </thead>\n  <tbody>\n    <tr>\n      <th>57094</th>\n      <td>1.0</td>\n      <td>3</td>\n      <td>0</td>\n      <td>2016-05-19 18:06:27</td>\n      <td>A FABULOUS 3BR IN MIDTOWN WEST!   PERFECT APAR...</td>\n      <td>HOW AMAZING IS THIS MIDTOWN WEST STEAL!! NO FE...</td>\n      <td>[Laundry In Unit, No Fee, Elevator]</td>\n      <td>40.7647</td>\n      <td>7039994</td>\n      <td>-73.9918</td>\n      <td>4bdc3d8c1aaa90d997ce2cb77680679b</td>\n      <td>['https://photos.renthop.com/2/7039994_07be01b...</td>\n      <td>4495</td>\n      <td>W 50 &amp; AVE 10</td>\n      <td>medium</td>\n    </tr>\n    <tr>\n      <th>33389</th>\n      <td>1.0</td>\n      <td>1</td>\n      <td>9225efdfb57a50bf3ec17ebab082f94a</td>\n      <td>2016-06-16 02:01:49</td>\n      <td>Renovated Kitchen and Bathroom!</td>\n      <td>55 River Drive South</td>\n      <td>[Dogs Allowed, Cats Allowed, No Fee]</td>\n      <td>40.7275</td>\n      <td>7166774</td>\n      <td>-74.0322</td>\n      <td>e5808a5e6cc13988fe596704428d38d5</td>\n      <td>['https://photos.renthop.com/2/7166774_03cf63a...</td>\n      <td>2570</td>\n      <td>55 River Drive South</td>\n      <td>medium</td>\n    </tr>\n    <tr>\n      <th>60458</th>\n      <td>1.0</td>\n      <td>0</td>\n      <td>320de7d3cc88e50a7fbbcfde1e825d21</td>\n      <td>2016-05-04 02:42:50</td>\n      <td>RARE AND BEST DEAL ON THE MARKET!!!! PERFECT S...</td>\n      <td>W 77 Street</td>\n      <td>[Elevator, Hardwood Floors]</td>\n      <td>40.7798</td>\n      <td>6962716</td>\n      <td>-73.9751</td>\n      <td>d69d4e111612dd12ef864031c1148543</td>\n      <td>['https://photos.renthop.com/2/6962716_ec7f56f...</td>\n      <td>1795</td>\n      <td>22 W 77 Street</td>\n      <td>low</td>\n    </tr>\n    <tr>\n      <th>53048</th>\n      <td>1.0</td>\n      <td>2</td>\n      <td>ce6d18bf3238e668b2bf23f4110b7b67</td>\n      <td>2016-05-12 05:57:56</td>\n      <td>Newly renovated flex 2 apartment offers the ne...</td>\n      <td>John Street</td>\n      <td>[Swimming Pool, Doorman, Elevator, Fitness Cen...</td>\n      <td>40.7081</td>\n      <td>7002458</td>\n      <td>-74.0065</td>\n      <td>e6472c7237327dd3903b3d6f6a94515a</td>\n      <td>['https://photos.renthop.com/2/7002458_93f4010...</td>\n      <td>3400</td>\n      <td>100 John Street</td>\n      <td>low</td>\n    </tr>\n    <tr>\n      <th>592</th>\n      <td>1.0</td>\n      <td>3</td>\n      <td>fee4d465932160318364d9d48d272879</td>\n      <td>2016-06-16 06:06:15</td>\n      <td>LOW FEE apartments do not come around like thi...</td>\n      <td>West 16th Street</td>\n      <td>[Laundry in Building, Laundry in Unit, Dishwas...</td>\n      <td>40.7416</td>\n      <td>7170465</td>\n      <td>-74.0025</td>\n      <td>6fba9b3a8327c607b8b043716efee684</td>\n      <td>['https://photos.renthop.com/2/7170465_9c3f173...</td>\n      <td>5695</td>\n      <td>321 West 16th Street</td>\n      <td>low</td>\n    </tr>\n    <tr>\n      <th>...</th>\n      <td>...</td>\n      <td>...</td>\n      <td>...</td>\n      <td>...</td>\n      <td>...</td>\n      <td>...</td>\n      <td>...</td>\n      <td>...</td>\n      <td>...</td>\n      <td>...</td>\n      <td>...</td>\n      <td>...</td>\n      <td>...</td>\n      <td>...</td>\n      <td>...</td>\n    </tr>\n    <tr>\n      <th>25582</th>\n      <td>1.0</td>\n      <td>1</td>\n      <td>14fdc4b01ae44b025f6c4d28c9097e5f</td>\n      <td>2016-06-16 02:12:57</td>\n      <td>Newly renovated bedroom apartment located off ...</td>\n      <td>29th St</td>\n      <td>[No pets]</td>\n      <td>40.7653</td>\n      <td>7166867</td>\n      <td>-73.9248</td>\n      <td>e6472c7237327dd3903b3d6f6a94515a</td>\n      <td>['https://photos.renthop.com/2/7166867_625fde3...</td>\n      <td>1950</td>\n      <td>30-95 29th St</td>\n      <td>low</td>\n    </tr>\n    <tr>\n      <th>50013</th>\n      <td>1.0</td>\n      <td>0</td>\n      <td>9b6cf886379a2511f8c633c84028efe7</td>\n      <td>2016-05-10 03:17:32</td>\n      <td>All apartments are newly renovated featuring: ...</td>\n      <td>E 1st St</td>\n      <td>[Pre-War, Laundry in Unit, Dishwasher, Hardwoo...</td>\n      <td>40.7239</td>\n      <td>6989251</td>\n      <td>-73.9901</td>\n      <td>5599e962719af3ccc2976855c2d5893c</td>\n      <td>['https://photos.renthop.com/2/6989251_42a4884...</td>\n      <td>2600</td>\n      <td>39 E 1st St</td>\n      <td>medium</td>\n    </tr>\n    <tr>\n      <th>111475</th>\n      <td>2.0</td>\n      <td>2</td>\n      <td>0</td>\n      <td>2016-04-21 03:29:35</td>\n      <td>&lt;![CDATA[2 bedrooms, 5110, Astoria / Long Isla...</td>\n      <td>50th Avenue</td>\n      <td>[]</td>\n      <td>40.7437</td>\n      <td>6905568</td>\n      <td>-73.9585</td>\n      <td>e6472c7237327dd3903b3d6f6a94515a</td>\n      <td>['https://photos.renthop.com/2/6905568_01602e3...</td>\n      <td>5110</td>\n      <td>2-01 50th Avenue</td>\n      <td>low</td>\n    </tr>\n    <tr>\n      <th>71184</th>\n      <td>1.0</td>\n      <td>2</td>\n      <td>8754cae39f6e053974aa2337017eb3c1</td>\n      <td>2016-05-14 02:27:47</td>\n      <td>CooperCooper.com :: Listing ID #10_0385; 400 W...</td>\n      <td>400 West 56th Street</td>\n      <td>[Laundry in Unit, Dishwasher, Cats Allowed, Do...</td>\n      <td>40.7673</td>\n      <td>7010187</td>\n      <td>-73.9866</td>\n      <td>6e5c10246156ae5bdcd9b487ca99d96a</td>\n      <td>['https://photos.renthop.com/2/7010187_ab1db5d...</td>\n      <td>3400</td>\n      <td>400 West 56th Street</td>\n      <td>medium</td>\n    </tr>\n    <tr>\n      <th>117473</th>\n      <td>1.0</td>\n      <td>2</td>\n      <td>a068b783287190d47d1564ab4d898675</td>\n      <td>2016-04-05 03:35:52</td>\n      <td>Renovated two bedroom apartment with beautiful...</td>\n      <td>E 82 Street</td>\n      <td>[]</td>\n      <td>40.7765</td>\n      <td>6824588</td>\n      <td>-73.9571</td>\n      <td>e0f4c69279ce5ae6421b39d46303554b</td>\n      <td>['https://photos.renthop.com/2/6824588_b997d59...</td>\n      <td>2950</td>\n      <td>158 E 82 Street</td>\n      <td>medium</td>\n    </tr>\n  </tbody>\n</table>\n<p>34546 rows × 15 columns</p>\n</div>"
     },
     "metadata": {}
    }
   ],
   "source": [
    "df = pd.read_csv('train-2.csv', converters={'features': eval})\n",
    "df = df.rename(str.lower, axis='columns',)\n",
    "df = df.set_index('id')\n",
    "display(df)"
   ]
  },
  {
   "cell_type": "code",
   "execution_count": 4,
   "metadata": {},
   "outputs": [
    {
     "output_type": "display_data",
     "data": {
      "text/plain": "id\n57094     medium\n33389     medium\n60458        low\n53048        low\n592          low\n           ...  \n25582        low\n50013     medium\n111475       low\n71184     medium\n117473    medium\nName: target, Length: 34546, dtype: object"
     },
     "metadata": {}
    },
    {
     "output_type": "display_data",
     "data": {
      "text/plain": "       bathrooms  bedrooms                       building_id  \\\nid                                                             \n57094        1.0         3                                 0   \n33389        1.0         1  9225efdfb57a50bf3ec17ebab082f94a   \n60458        1.0         0  320de7d3cc88e50a7fbbcfde1e825d21   \n53048        1.0         2  ce6d18bf3238e668b2bf23f4110b7b67   \n592          1.0         3  fee4d465932160318364d9d48d272879   \n\n                   created                                        description  \\\nid                                                                              \n57094  2016-05-19 18:06:27  A FABULOUS 3BR IN MIDTOWN WEST!   PERFECT APAR...   \n33389  2016-06-16 02:01:49                    Renovated Kitchen and Bathroom!   \n60458  2016-05-04 02:42:50  RARE AND BEST DEAL ON THE MARKET!!!! PERFECT S...   \n53048  2016-05-12 05:57:56  Newly renovated flex 2 apartment offers the ne...   \n592    2016-06-16 06:06:15  LOW FEE apartments do not come around like thi...   \n\n                                         display_address  \\\nid                                                         \n57094  HOW AMAZING IS THIS MIDTOWN WEST STEAL!! NO FE...   \n33389                               55 River Drive South   \n60458                                        W 77 Street   \n53048                                        John Street   \n592                                     West 16th Street   \n\n                                                features  latitude  \\\nid                                                                   \n57094                [Laundry In Unit, No Fee, Elevator]   40.7647   \n33389               [Dogs Allowed, Cats Allowed, No Fee]   40.7275   \n60458                        [Elevator, Hardwood Floors]   40.7798   \n53048  [Swimming Pool, Doorman, Elevator, Fitness Cen...   40.7081   \n592    [Laundry in Building, Laundry in Unit, Dishwas...   40.7416   \n\n       listing_id  longitude                        manager_id  \\\nid                                                               \n57094     7039994   -73.9918  4bdc3d8c1aaa90d997ce2cb77680679b   \n33389     7166774   -74.0322  e5808a5e6cc13988fe596704428d38d5   \n60458     6962716   -73.9751  d69d4e111612dd12ef864031c1148543   \n53048     7002458   -74.0065  e6472c7237327dd3903b3d6f6a94515a   \n592       7170465   -74.0025  6fba9b3a8327c607b8b043716efee684   \n\n                                                  photos  price  \\\nid                                                                \n57094  ['https://photos.renthop.com/2/7039994_07be01b...   4495   \n33389  ['https://photos.renthop.com/2/7166774_03cf63a...   2570   \n60458  ['https://photos.renthop.com/2/6962716_ec7f56f...   1795   \n53048  ['https://photos.renthop.com/2/7002458_93f4010...   3400   \n592    ['https://photos.renthop.com/2/7170465_9c3f173...   5695   \n\n             street_address  \nid                           \n57094         W 50 & AVE 10  \n33389  55 River Drive South  \n60458        22 W 77 Street  \n53048       100 John Street  \n592    321 West 16th Street  ",
      "text/html": "<div>\n<style scoped>\n    .dataframe tbody tr th:only-of-type {\n        vertical-align: middle;\n    }\n\n    .dataframe tbody tr th {\n        vertical-align: top;\n    }\n\n    .dataframe thead th {\n        text-align: right;\n    }\n</style>\n<table border=\"1\" class=\"dataframe\">\n  <thead>\n    <tr style=\"text-align: right;\">\n      <th></th>\n      <th>bathrooms</th>\n      <th>bedrooms</th>\n      <th>building_id</th>\n      <th>created</th>\n      <th>description</th>\n      <th>display_address</th>\n      <th>features</th>\n      <th>latitude</th>\n      <th>listing_id</th>\n      <th>longitude</th>\n      <th>manager_id</th>\n      <th>photos</th>\n      <th>price</th>\n      <th>street_address</th>\n    </tr>\n    <tr>\n      <th>id</th>\n      <th></th>\n      <th></th>\n      <th></th>\n      <th></th>\n      <th></th>\n      <th></th>\n      <th></th>\n      <th></th>\n      <th></th>\n      <th></th>\n      <th></th>\n      <th></th>\n      <th></th>\n      <th></th>\n    </tr>\n  </thead>\n  <tbody>\n    <tr>\n      <th>57094</th>\n      <td>1.0</td>\n      <td>3</td>\n      <td>0</td>\n      <td>2016-05-19 18:06:27</td>\n      <td>A FABULOUS 3BR IN MIDTOWN WEST!   PERFECT APAR...</td>\n      <td>HOW AMAZING IS THIS MIDTOWN WEST STEAL!! NO FE...</td>\n      <td>[Laundry In Unit, No Fee, Elevator]</td>\n      <td>40.7647</td>\n      <td>7039994</td>\n      <td>-73.9918</td>\n      <td>4bdc3d8c1aaa90d997ce2cb77680679b</td>\n      <td>['https://photos.renthop.com/2/7039994_07be01b...</td>\n      <td>4495</td>\n      <td>W 50 &amp; AVE 10</td>\n    </tr>\n    <tr>\n      <th>33389</th>\n      <td>1.0</td>\n      <td>1</td>\n      <td>9225efdfb57a50bf3ec17ebab082f94a</td>\n      <td>2016-06-16 02:01:49</td>\n      <td>Renovated Kitchen and Bathroom!</td>\n      <td>55 River Drive South</td>\n      <td>[Dogs Allowed, Cats Allowed, No Fee]</td>\n      <td>40.7275</td>\n      <td>7166774</td>\n      <td>-74.0322</td>\n      <td>e5808a5e6cc13988fe596704428d38d5</td>\n      <td>['https://photos.renthop.com/2/7166774_03cf63a...</td>\n      <td>2570</td>\n      <td>55 River Drive South</td>\n    </tr>\n    <tr>\n      <th>60458</th>\n      <td>1.0</td>\n      <td>0</td>\n      <td>320de7d3cc88e50a7fbbcfde1e825d21</td>\n      <td>2016-05-04 02:42:50</td>\n      <td>RARE AND BEST DEAL ON THE MARKET!!!! PERFECT S...</td>\n      <td>W 77 Street</td>\n      <td>[Elevator, Hardwood Floors]</td>\n      <td>40.7798</td>\n      <td>6962716</td>\n      <td>-73.9751</td>\n      <td>d69d4e111612dd12ef864031c1148543</td>\n      <td>['https://photos.renthop.com/2/6962716_ec7f56f...</td>\n      <td>1795</td>\n      <td>22 W 77 Street</td>\n    </tr>\n    <tr>\n      <th>53048</th>\n      <td>1.0</td>\n      <td>2</td>\n      <td>ce6d18bf3238e668b2bf23f4110b7b67</td>\n      <td>2016-05-12 05:57:56</td>\n      <td>Newly renovated flex 2 apartment offers the ne...</td>\n      <td>John Street</td>\n      <td>[Swimming Pool, Doorman, Elevator, Fitness Cen...</td>\n      <td>40.7081</td>\n      <td>7002458</td>\n      <td>-74.0065</td>\n      <td>e6472c7237327dd3903b3d6f6a94515a</td>\n      <td>['https://photos.renthop.com/2/7002458_93f4010...</td>\n      <td>3400</td>\n      <td>100 John Street</td>\n    </tr>\n    <tr>\n      <th>592</th>\n      <td>1.0</td>\n      <td>3</td>\n      <td>fee4d465932160318364d9d48d272879</td>\n      <td>2016-06-16 06:06:15</td>\n      <td>LOW FEE apartments do not come around like thi...</td>\n      <td>West 16th Street</td>\n      <td>[Laundry in Building, Laundry in Unit, Dishwas...</td>\n      <td>40.7416</td>\n      <td>7170465</td>\n      <td>-74.0025</td>\n      <td>6fba9b3a8327c607b8b043716efee684</td>\n      <td>['https://photos.renthop.com/2/7170465_9c3f173...</td>\n      <td>5695</td>\n      <td>321 West 16th Street</td>\n    </tr>\n  </tbody>\n</table>\n</div>"
     },
     "metadata": {}
    }
   ],
   "source": [
    "y = df['target']\n",
    "display(y)\n",
    "X = df.drop(['target'], axis=1)\n",
    "display(X.head())\n"
   ]
  },
  {
   "cell_type": "code",
   "execution_count": 5,
   "metadata": {},
   "outputs": [
    {
     "output_type": "display_data",
     "data": {
      "text/plain": "(34546, 15)"
     },
     "metadata": {}
    },
    {
     "output_type": "stream",
     "name": "stdout",
     "text": [
      "<class 'pandas.core.frame.DataFrame'>\nInt64Index: 34546 entries, 57094 to 117473\nData columns (total 15 columns):\n #   Column           Non-Null Count  Dtype  \n---  ------           --------------  -----  \n 0   bathrooms        34546 non-null  float64\n 1   bedrooms         34546 non-null  int64  \n 2   building_id      34546 non-null  object \n 3   created          34546 non-null  object \n 4   description      33509 non-null  object \n 5   display_address  34458 non-null  object \n 6   features         34546 non-null  object \n 7   latitude         34546 non-null  float64\n 8   listing_id       34546 non-null  int64  \n 9   longitude        34546 non-null  float64\n 10  manager_id       34546 non-null  object \n 11  photos           34546 non-null  object \n 12  price            34546 non-null  int64  \n 13  street_address   34542 non-null  object \n 14  target           34546 non-null  object \ndtypes: float64(3), int64(3), object(9)\nmemory usage: 4.2+ MB\n"
     ]
    },
    {
     "output_type": "display_data",
     "data": {
      "text/plain": "None"
     },
     "metadata": {}
    },
    {
     "output_type": "display_data",
     "data": {
      "text/plain": "bathrooms             0\nbedrooms              0\nbuilding_id           0\ncreated               0\ndescription        1037\ndisplay_address      88\nfeatures              0\nlatitude              0\nlisting_id            0\nlongitude             0\nmanager_id            0\nphotos                0\nprice                 0\nstreet_address        4\ntarget                0\ndtype: int64"
     },
     "metadata": {}
    }
   ],
   "source": [
    "display(df.shape)\n",
    "display(df.info())\n",
    "display(df.isna().sum())"
   ]
  },
  {
   "cell_type": "code",
   "execution_count": 6,
   "metadata": {},
   "outputs": [
    {
     "output_type": "display_data",
     "data": {
      "text/plain": "(23999, 15)"
     },
     "metadata": {}
    }
   ],
   "source": [
    "display(df[df['target'] == 'low'].shape)"
   ]
  },
  {
   "cell_type": "code",
   "execution_count": 7,
   "metadata": {},
   "outputs": [
    {
     "output_type": "display_data",
     "data": {
      "text/plain": "'high: 7.778035083656574%'"
     },
     "metadata": {}
    },
    {
     "output_type": "display_data",
     "data": {
      "text/plain": "'medium: 22.752272332542116%'"
     },
     "metadata": {}
    },
    {
     "output_type": "display_data",
     "data": {
      "text/plain": "'low: 69.4696925838013%'"
     },
     "metadata": {}
    }
   ],
   "source": [
    "high_percent = len(df[df['target'] == 'high']) * 100 / len(df)\n",
    "medium_percent = len(df[df['target'] == 'medium']) * 100 / len(df)\n",
    "low_percent = len(df[df['target'] == 'low']) * 100 / len(df)\n",
    "display(f\"high: {high_percent}%\")\n",
    "display(f\"medium: {medium_percent}%\")\n",
    "display(f\"low: {low_percent}%\")\n"
   ]
  },
  {
   "cell_type": "code",
   "execution_count": 8,
   "metadata": {},
   "outputs": [
    {
     "output_type": "execute_result",
     "data": {
      "text/plain": [
       "       bathrooms  bedrooms                       building_id  \\\n",
       "id                                                             \n",
       "57094        1.0         3                                 0   \n",
       "33389        1.0         1  9225efdfb57a50bf3ec17ebab082f94a   \n",
       "60458        1.0         0  320de7d3cc88e50a7fbbcfde1e825d21   \n",
       "53048        1.0         2  ce6d18bf3238e668b2bf23f4110b7b67   \n",
       "592          1.0         3  fee4d465932160318364d9d48d272879   \n",
       "\n",
       "                   created                                        description  \\\n",
       "id                                                                              \n",
       "57094  2016-05-19 18:06:27  a fabulous 3br in midtown west!   perfect apar...   \n",
       "33389  2016-06-16 02:01:49                    renovated kitchen and bathroom!   \n",
       "60458  2016-05-04 02:42:50  rare and best deal on the market!!!! perfect s...   \n",
       "53048  2016-05-12 05:57:56  newly renovated flex 2 apartment offers the ne...   \n",
       "592    2016-06-16 06:06:15  low fee apartments do not come around like thi...   \n",
       "\n",
       "                                         display_address  \\\n",
       "id                                                         \n",
       "57094  HOW AMAZING IS THIS MIDTOWN WEST STEAL!! NO FE...   \n",
       "33389                               55 River Drive South   \n",
       "60458                                        W 77 Street   \n",
       "53048                                        John Street   \n",
       "592                                     West 16th Street   \n",
       "\n",
       "                                                features  latitude  \\\n",
       "id                                                                   \n",
       "57094                [Laundry In Unit, No Fee, Elevator]   40.7647   \n",
       "33389               [Dogs Allowed, Cats Allowed, No Fee]   40.7275   \n",
       "60458                        [Elevator, Hardwood Floors]   40.7798   \n",
       "53048  [Swimming Pool, Doorman, Elevator, Fitness Cen...   40.7081   \n",
       "592    [Laundry in Building, Laundry in Unit, Dishwas...   40.7416   \n",
       "\n",
       "       listing_id  longitude                        manager_id  \\\n",
       "id                                                               \n",
       "57094     7039994   -73.9918  4bdc3d8c1aaa90d997ce2cb77680679b   \n",
       "33389     7166774   -74.0322  e5808a5e6cc13988fe596704428d38d5   \n",
       "60458     6962716   -73.9751  d69d4e111612dd12ef864031c1148543   \n",
       "53048     7002458   -74.0065  e6472c7237327dd3903b3d6f6a94515a   \n",
       "592       7170465   -74.0025  6fba9b3a8327c607b8b043716efee684   \n",
       "\n",
       "                                                  photos  price  \\\n",
       "id                                                                \n",
       "57094  ['https://photos.renthop.com/2/7039994_07be01b...   4495   \n",
       "33389  ['https://photos.renthop.com/2/7166774_03cf63a...   2570   \n",
       "60458  ['https://photos.renthop.com/2/6962716_ec7f56f...   1795   \n",
       "53048  ['https://photos.renthop.com/2/7002458_93f4010...   3400   \n",
       "592    ['https://photos.renthop.com/2/7170465_9c3f173...   5695   \n",
       "\n",
       "             street_address  target  \n",
       "id                                   \n",
       "57094         W 50 & AVE 10  medium  \n",
       "33389  55 River Drive South  medium  \n",
       "60458        22 W 77 Street     low  \n",
       "53048       100 John Street     low  \n",
       "592    321 West 16th Street     low  "
      ],
      "text/html": "<div>\n<style scoped>\n    .dataframe tbody tr th:only-of-type {\n        vertical-align: middle;\n    }\n\n    .dataframe tbody tr th {\n        vertical-align: top;\n    }\n\n    .dataframe thead th {\n        text-align: right;\n    }\n</style>\n<table border=\"1\" class=\"dataframe\">\n  <thead>\n    <tr style=\"text-align: right;\">\n      <th></th>\n      <th>bathrooms</th>\n      <th>bedrooms</th>\n      <th>building_id</th>\n      <th>created</th>\n      <th>description</th>\n      <th>display_address</th>\n      <th>features</th>\n      <th>latitude</th>\n      <th>listing_id</th>\n      <th>longitude</th>\n      <th>manager_id</th>\n      <th>photos</th>\n      <th>price</th>\n      <th>street_address</th>\n      <th>target</th>\n    </tr>\n    <tr>\n      <th>id</th>\n      <th></th>\n      <th></th>\n      <th></th>\n      <th></th>\n      <th></th>\n      <th></th>\n      <th></th>\n      <th></th>\n      <th></th>\n      <th></th>\n      <th></th>\n      <th></th>\n      <th></th>\n      <th></th>\n      <th></th>\n    </tr>\n  </thead>\n  <tbody>\n    <tr>\n      <th>57094</th>\n      <td>1.0</td>\n      <td>3</td>\n      <td>0</td>\n      <td>2016-05-19 18:06:27</td>\n      <td>a fabulous 3br in midtown west!   perfect apar...</td>\n      <td>HOW AMAZING IS THIS MIDTOWN WEST STEAL!! NO FE...</td>\n      <td>[Laundry In Unit, No Fee, Elevator]</td>\n      <td>40.7647</td>\n      <td>7039994</td>\n      <td>-73.9918</td>\n      <td>4bdc3d8c1aaa90d997ce2cb77680679b</td>\n      <td>['https://photos.renthop.com/2/7039994_07be01b...</td>\n      <td>4495</td>\n      <td>W 50 &amp; AVE 10</td>\n      <td>medium</td>\n    </tr>\n    <tr>\n      <th>33389</th>\n      <td>1.0</td>\n      <td>1</td>\n      <td>9225efdfb57a50bf3ec17ebab082f94a</td>\n      <td>2016-06-16 02:01:49</td>\n      <td>renovated kitchen and bathroom!</td>\n      <td>55 River Drive South</td>\n      <td>[Dogs Allowed, Cats Allowed, No Fee]</td>\n      <td>40.7275</td>\n      <td>7166774</td>\n      <td>-74.0322</td>\n      <td>e5808a5e6cc13988fe596704428d38d5</td>\n      <td>['https://photos.renthop.com/2/7166774_03cf63a...</td>\n      <td>2570</td>\n      <td>55 River Drive South</td>\n      <td>medium</td>\n    </tr>\n    <tr>\n      <th>60458</th>\n      <td>1.0</td>\n      <td>0</td>\n      <td>320de7d3cc88e50a7fbbcfde1e825d21</td>\n      <td>2016-05-04 02:42:50</td>\n      <td>rare and best deal on the market!!!! perfect s...</td>\n      <td>W 77 Street</td>\n      <td>[Elevator, Hardwood Floors]</td>\n      <td>40.7798</td>\n      <td>6962716</td>\n      <td>-73.9751</td>\n      <td>d69d4e111612dd12ef864031c1148543</td>\n      <td>['https://photos.renthop.com/2/6962716_ec7f56f...</td>\n      <td>1795</td>\n      <td>22 W 77 Street</td>\n      <td>low</td>\n    </tr>\n    <tr>\n      <th>53048</th>\n      <td>1.0</td>\n      <td>2</td>\n      <td>ce6d18bf3238e668b2bf23f4110b7b67</td>\n      <td>2016-05-12 05:57:56</td>\n      <td>newly renovated flex 2 apartment offers the ne...</td>\n      <td>John Street</td>\n      <td>[Swimming Pool, Doorman, Elevator, Fitness Cen...</td>\n      <td>40.7081</td>\n      <td>7002458</td>\n      <td>-74.0065</td>\n      <td>e6472c7237327dd3903b3d6f6a94515a</td>\n      <td>['https://photos.renthop.com/2/7002458_93f4010...</td>\n      <td>3400</td>\n      <td>100 John Street</td>\n      <td>low</td>\n    </tr>\n    <tr>\n      <th>592</th>\n      <td>1.0</td>\n      <td>3</td>\n      <td>fee4d465932160318364d9d48d272879</td>\n      <td>2016-06-16 06:06:15</td>\n      <td>low fee apartments do not come around like thi...</td>\n      <td>West 16th Street</td>\n      <td>[Laundry in Building, Laundry in Unit, Dishwas...</td>\n      <td>40.7416</td>\n      <td>7170465</td>\n      <td>-74.0025</td>\n      <td>6fba9b3a8327c607b8b043716efee684</td>\n      <td>['https://photos.renthop.com/2/7170465_9c3f173...</td>\n      <td>5695</td>\n      <td>321 West 16th Street</td>\n      <td>low</td>\n    </tr>\n  </tbody>\n</table>\n</div>"
     },
     "metadata": {},
     "execution_count": 8
    }
   ],
   "source": [
    "df['description'] = df['description'].str.lower()\n",
    "df.head()"
   ]
  },
  {
   "cell_type": "code",
   "execution_count": 9,
   "metadata": {},
   "outputs": [
    {
     "output_type": "execute_result",
     "data": {
      "text/plain": [
       "       bathrooms  bedrooms                       building_id  \\\n",
       "id                                                             \n",
       "57094        1.0         3                                 0   \n",
       "33389        1.0         1  9225efdfb57a50bf3ec17ebab082f94a   \n",
       "60458        1.0         0  320de7d3cc88e50a7fbbcfde1e825d21   \n",
       "53048        1.0         2  ce6d18bf3238e668b2bf23f4110b7b67   \n",
       "592          1.0         3  fee4d465932160318364d9d48d272879   \n",
       "\n",
       "                   created                                        description  \\\n",
       "id                                                                              \n",
       "57094  2016-05-19 18:06:27  [a, fabulous, br, in, midtown, west, , , perfe...   \n",
       "33389  2016-06-16 02:01:49                [renovated, kitchen, and, bathroom]   \n",
       "60458  2016-05-04 02:42:50  [rare, and, best, deal, on, the, market, perfe...   \n",
       "53048  2016-05-12 05:57:56  [newly, renovated, flex, , apartment, offers, ...   \n",
       "592    2016-06-16 06:06:15  [low, fee, apartments, do, not, come, around, ...   \n",
       "\n",
       "                                         display_address  \\\n",
       "id                                                         \n",
       "57094  HOW AMAZING IS THIS MIDTOWN WEST STEAL!! NO FE...   \n",
       "33389                               55 River Drive South   \n",
       "60458                                        W 77 Street   \n",
       "53048                                        John Street   \n",
       "592                                     West 16th Street   \n",
       "\n",
       "                                                features  latitude  \\\n",
       "id                                                                   \n",
       "57094                [Laundry In Unit, No Fee, Elevator]   40.7647   \n",
       "33389               [Dogs Allowed, Cats Allowed, No Fee]   40.7275   \n",
       "60458                        [Elevator, Hardwood Floors]   40.7798   \n",
       "53048  [Swimming Pool, Doorman, Elevator, Fitness Cen...   40.7081   \n",
       "592    [Laundry in Building, Laundry in Unit, Dishwas...   40.7416   \n",
       "\n",
       "       listing_id  longitude                        manager_id  \\\n",
       "id                                                               \n",
       "57094     7039994   -73.9918  4bdc3d8c1aaa90d997ce2cb77680679b   \n",
       "33389     7166774   -74.0322  e5808a5e6cc13988fe596704428d38d5   \n",
       "60458     6962716   -73.9751  d69d4e111612dd12ef864031c1148543   \n",
       "53048     7002458   -74.0065  e6472c7237327dd3903b3d6f6a94515a   \n",
       "592       7170465   -74.0025  6fba9b3a8327c607b8b043716efee684   \n",
       "\n",
       "                                                  photos  price  \\\n",
       "id                                                                \n",
       "57094  ['https://photos.renthop.com/2/7039994_07be01b...   4495   \n",
       "33389  ['https://photos.renthop.com/2/7166774_03cf63a...   2570   \n",
       "60458  ['https://photos.renthop.com/2/6962716_ec7f56f...   1795   \n",
       "53048  ['https://photos.renthop.com/2/7002458_93f4010...   3400   \n",
       "592    ['https://photos.renthop.com/2/7170465_9c3f173...   5695   \n",
       "\n",
       "             street_address  target  \n",
       "id                                   \n",
       "57094         W 50 & AVE 10  medium  \n",
       "33389  55 River Drive South  medium  \n",
       "60458        22 W 77 Street     low  \n",
       "53048       100 John Street     low  \n",
       "592    321 West 16th Street     low  "
      ],
      "text/html": "<div>\n<style scoped>\n    .dataframe tbody tr th:only-of-type {\n        vertical-align: middle;\n    }\n\n    .dataframe tbody tr th {\n        vertical-align: top;\n    }\n\n    .dataframe thead th {\n        text-align: right;\n    }\n</style>\n<table border=\"1\" class=\"dataframe\">\n  <thead>\n    <tr style=\"text-align: right;\">\n      <th></th>\n      <th>bathrooms</th>\n      <th>bedrooms</th>\n      <th>building_id</th>\n      <th>created</th>\n      <th>description</th>\n      <th>display_address</th>\n      <th>features</th>\n      <th>latitude</th>\n      <th>listing_id</th>\n      <th>longitude</th>\n      <th>manager_id</th>\n      <th>photos</th>\n      <th>price</th>\n      <th>street_address</th>\n      <th>target</th>\n    </tr>\n    <tr>\n      <th>id</th>\n      <th></th>\n      <th></th>\n      <th></th>\n      <th></th>\n      <th></th>\n      <th></th>\n      <th></th>\n      <th></th>\n      <th></th>\n      <th></th>\n      <th></th>\n      <th></th>\n      <th></th>\n      <th></th>\n      <th></th>\n    </tr>\n  </thead>\n  <tbody>\n    <tr>\n      <th>57094</th>\n      <td>1.0</td>\n      <td>3</td>\n      <td>0</td>\n      <td>2016-05-19 18:06:27</td>\n      <td>[a, fabulous, br, in, midtown, west, , , perfe...</td>\n      <td>HOW AMAZING IS THIS MIDTOWN WEST STEAL!! NO FE...</td>\n      <td>[Laundry In Unit, No Fee, Elevator]</td>\n      <td>40.7647</td>\n      <td>7039994</td>\n      <td>-73.9918</td>\n      <td>4bdc3d8c1aaa90d997ce2cb77680679b</td>\n      <td>['https://photos.renthop.com/2/7039994_07be01b...</td>\n      <td>4495</td>\n      <td>W 50 &amp; AVE 10</td>\n      <td>medium</td>\n    </tr>\n    <tr>\n      <th>33389</th>\n      <td>1.0</td>\n      <td>1</td>\n      <td>9225efdfb57a50bf3ec17ebab082f94a</td>\n      <td>2016-06-16 02:01:49</td>\n      <td>[renovated, kitchen, and, bathroom]</td>\n      <td>55 River Drive South</td>\n      <td>[Dogs Allowed, Cats Allowed, No Fee]</td>\n      <td>40.7275</td>\n      <td>7166774</td>\n      <td>-74.0322</td>\n      <td>e5808a5e6cc13988fe596704428d38d5</td>\n      <td>['https://photos.renthop.com/2/7166774_03cf63a...</td>\n      <td>2570</td>\n      <td>55 River Drive South</td>\n      <td>medium</td>\n    </tr>\n    <tr>\n      <th>60458</th>\n      <td>1.0</td>\n      <td>0</td>\n      <td>320de7d3cc88e50a7fbbcfde1e825d21</td>\n      <td>2016-05-04 02:42:50</td>\n      <td>[rare, and, best, deal, on, the, market, perfe...</td>\n      <td>W 77 Street</td>\n      <td>[Elevator, Hardwood Floors]</td>\n      <td>40.7798</td>\n      <td>6962716</td>\n      <td>-73.9751</td>\n      <td>d69d4e111612dd12ef864031c1148543</td>\n      <td>['https://photos.renthop.com/2/6962716_ec7f56f...</td>\n      <td>1795</td>\n      <td>22 W 77 Street</td>\n      <td>low</td>\n    </tr>\n    <tr>\n      <th>53048</th>\n      <td>1.0</td>\n      <td>2</td>\n      <td>ce6d18bf3238e668b2bf23f4110b7b67</td>\n      <td>2016-05-12 05:57:56</td>\n      <td>[newly, renovated, flex, , apartment, offers, ...</td>\n      <td>John Street</td>\n      <td>[Swimming Pool, Doorman, Elevator, Fitness Cen...</td>\n      <td>40.7081</td>\n      <td>7002458</td>\n      <td>-74.0065</td>\n      <td>e6472c7237327dd3903b3d6f6a94515a</td>\n      <td>['https://photos.renthop.com/2/7002458_93f4010...</td>\n      <td>3400</td>\n      <td>100 John Street</td>\n      <td>low</td>\n    </tr>\n    <tr>\n      <th>592</th>\n      <td>1.0</td>\n      <td>3</td>\n      <td>fee4d465932160318364d9d48d272879</td>\n      <td>2016-06-16 06:06:15</td>\n      <td>[low, fee, apartments, do, not, come, around, ...</td>\n      <td>West 16th Street</td>\n      <td>[Laundry in Building, Laundry in Unit, Dishwas...</td>\n      <td>40.7416</td>\n      <td>7170465</td>\n      <td>-74.0025</td>\n      <td>6fba9b3a8327c607b8b043716efee684</td>\n      <td>['https://photos.renthop.com/2/7170465_9c3f173...</td>\n      <td>5695</td>\n      <td>321 West 16th Street</td>\n      <td>low</td>\n    </tr>\n  </tbody>\n</table>\n</div>"
     },
     "metadata": {},
     "execution_count": 9
    }
   ],
   "source": [
    "def remove_trash(cur_str):\n",
    "    cur_str = str(cur_str)\n",
    "    nw_str = \"\"\n",
    "    for elem in cur_str:\n",
    "        if (elem >= 'a' and elem <= 'z') or elem == ' ':\n",
    "            nw_str += elem\n",
    "\n",
    "    return nw_str.split(' ')\n",
    "\n",
    "df['description'] = df['description'].apply(remove_trash)\n",
    "df.head()"
   ]
  },
  {
   "cell_type": "code",
   "execution_count": 10,
   "metadata": {},
   "outputs": [],
   "source": [
    "target_to_okey = {'low': 0, 'medium': 0.5, 'high' : 1}"
   ]
  },
  {
   "cell_type": "code",
   "execution_count": 11,
   "metadata": {},
   "outputs": [
    {
     "output_type": "display_data",
     "data": {
      "text/plain": "0.2412309728656519"
     },
     "metadata": {}
    }
   ],
   "source": [
    "description_words_weight = dict()\n",
    "description_words_count = dict()\n",
    "for index, row in df.iterrows():\n",
    "    for word in row.description:\n",
    "        if len(word) < 3:\n",
    "            continue\n",
    "        if word in description_words_weight:\n",
    "            description_words_weight[word] += target_to_okey[row.target]\n",
    "            description_words_count[word] += 1\n",
    "        else:\n",
    "            description_words_weight[word] = target_to_okey[row.target]\n",
    "            description_words_count[word] = 1\n",
    "        \n",
    "for key, value in description_words_weight.items():\n",
    "    description_words_weight[key] = value / (description_words_count[key])\n",
    "\n",
    "display(description_words_weight['good'])"
   ]
  },
  {
   "cell_type": "code",
   "execution_count": 12,
   "metadata": {},
   "outputs": [
    {
     "output_type": "execute_result",
     "data": {
      "text/plain": [
       "       bathrooms  bedrooms                       building_id  \\\n",
       "id                                                             \n",
       "57094        1.0         3                                 0   \n",
       "33389        1.0         1  9225efdfb57a50bf3ec17ebab082f94a   \n",
       "60458        1.0         0  320de7d3cc88e50a7fbbcfde1e825d21   \n",
       "53048        1.0         2  ce6d18bf3238e668b2bf23f4110b7b67   \n",
       "592          1.0         3  fee4d465932160318364d9d48d272879   \n",
       "\n",
       "                   created  description  \\\n",
       "id                                        \n",
       "57094  2016-05-19 18:06:27     0.153092   \n",
       "33389  2016-06-16 02:01:49     0.214983   \n",
       "60458  2016-05-04 02:42:50     0.149183   \n",
       "53048  2016-05-12 05:57:56     0.152593   \n",
       "592    2016-06-16 06:06:15     0.143985   \n",
       "\n",
       "                                         display_address  \\\n",
       "id                                                         \n",
       "57094  HOW AMAZING IS THIS MIDTOWN WEST STEAL!! NO FE...   \n",
       "33389                               55 River Drive South   \n",
       "60458                                        W 77 Street   \n",
       "53048                                        John Street   \n",
       "592                                     West 16th Street   \n",
       "\n",
       "                                                features  latitude  \\\n",
       "id                                                                   \n",
       "57094                [Laundry In Unit, No Fee, Elevator]   40.7647   \n",
       "33389               [Dogs Allowed, Cats Allowed, No Fee]   40.7275   \n",
       "60458                        [Elevator, Hardwood Floors]   40.7798   \n",
       "53048  [Swimming Pool, Doorman, Elevator, Fitness Cen...   40.7081   \n",
       "592    [Laundry in Building, Laundry in Unit, Dishwas...   40.7416   \n",
       "\n",
       "       listing_id  longitude                        manager_id  \\\n",
       "id                                                               \n",
       "57094     7039994   -73.9918  4bdc3d8c1aaa90d997ce2cb77680679b   \n",
       "33389     7166774   -74.0322  e5808a5e6cc13988fe596704428d38d5   \n",
       "60458     6962716   -73.9751  d69d4e111612dd12ef864031c1148543   \n",
       "53048     7002458   -74.0065  e6472c7237327dd3903b3d6f6a94515a   \n",
       "592       7170465   -74.0025  6fba9b3a8327c607b8b043716efee684   \n",
       "\n",
       "                                                  photos  price  \\\n",
       "id                                                                \n",
       "57094  ['https://photos.renthop.com/2/7039994_07be01b...   4495   \n",
       "33389  ['https://photos.renthop.com/2/7166774_03cf63a...   2570   \n",
       "60458  ['https://photos.renthop.com/2/6962716_ec7f56f...   1795   \n",
       "53048  ['https://photos.renthop.com/2/7002458_93f4010...   3400   \n",
       "592    ['https://photos.renthop.com/2/7170465_9c3f173...   5695   \n",
       "\n",
       "             street_address  target  \n",
       "id                                   \n",
       "57094         W 50 & AVE 10  medium  \n",
       "33389  55 River Drive South  medium  \n",
       "60458        22 W 77 Street     low  \n",
       "53048       100 John Street     low  \n",
       "592    321 West 16th Street     low  "
      ],
      "text/html": "<div>\n<style scoped>\n    .dataframe tbody tr th:only-of-type {\n        vertical-align: middle;\n    }\n\n    .dataframe tbody tr th {\n        vertical-align: top;\n    }\n\n    .dataframe thead th {\n        text-align: right;\n    }\n</style>\n<table border=\"1\" class=\"dataframe\">\n  <thead>\n    <tr style=\"text-align: right;\">\n      <th></th>\n      <th>bathrooms</th>\n      <th>bedrooms</th>\n      <th>building_id</th>\n      <th>created</th>\n      <th>description</th>\n      <th>display_address</th>\n      <th>features</th>\n      <th>latitude</th>\n      <th>listing_id</th>\n      <th>longitude</th>\n      <th>manager_id</th>\n      <th>photos</th>\n      <th>price</th>\n      <th>street_address</th>\n      <th>target</th>\n    </tr>\n    <tr>\n      <th>id</th>\n      <th></th>\n      <th></th>\n      <th></th>\n      <th></th>\n      <th></th>\n      <th></th>\n      <th></th>\n      <th></th>\n      <th></th>\n      <th></th>\n      <th></th>\n      <th></th>\n      <th></th>\n      <th></th>\n      <th></th>\n    </tr>\n  </thead>\n  <tbody>\n    <tr>\n      <th>57094</th>\n      <td>1.0</td>\n      <td>3</td>\n      <td>0</td>\n      <td>2016-05-19 18:06:27</td>\n      <td>0.153092</td>\n      <td>HOW AMAZING IS THIS MIDTOWN WEST STEAL!! NO FE...</td>\n      <td>[Laundry In Unit, No Fee, Elevator]</td>\n      <td>40.7647</td>\n      <td>7039994</td>\n      <td>-73.9918</td>\n      <td>4bdc3d8c1aaa90d997ce2cb77680679b</td>\n      <td>['https://photos.renthop.com/2/7039994_07be01b...</td>\n      <td>4495</td>\n      <td>W 50 &amp; AVE 10</td>\n      <td>medium</td>\n    </tr>\n    <tr>\n      <th>33389</th>\n      <td>1.0</td>\n      <td>1</td>\n      <td>9225efdfb57a50bf3ec17ebab082f94a</td>\n      <td>2016-06-16 02:01:49</td>\n      <td>0.214983</td>\n      <td>55 River Drive South</td>\n      <td>[Dogs Allowed, Cats Allowed, No Fee]</td>\n      <td>40.7275</td>\n      <td>7166774</td>\n      <td>-74.0322</td>\n      <td>e5808a5e6cc13988fe596704428d38d5</td>\n      <td>['https://photos.renthop.com/2/7166774_03cf63a...</td>\n      <td>2570</td>\n      <td>55 River Drive South</td>\n      <td>medium</td>\n    </tr>\n    <tr>\n      <th>60458</th>\n      <td>1.0</td>\n      <td>0</td>\n      <td>320de7d3cc88e50a7fbbcfde1e825d21</td>\n      <td>2016-05-04 02:42:50</td>\n      <td>0.149183</td>\n      <td>W 77 Street</td>\n      <td>[Elevator, Hardwood Floors]</td>\n      <td>40.7798</td>\n      <td>6962716</td>\n      <td>-73.9751</td>\n      <td>d69d4e111612dd12ef864031c1148543</td>\n      <td>['https://photos.renthop.com/2/6962716_ec7f56f...</td>\n      <td>1795</td>\n      <td>22 W 77 Street</td>\n      <td>low</td>\n    </tr>\n    <tr>\n      <th>53048</th>\n      <td>1.0</td>\n      <td>2</td>\n      <td>ce6d18bf3238e668b2bf23f4110b7b67</td>\n      <td>2016-05-12 05:57:56</td>\n      <td>0.152593</td>\n      <td>John Street</td>\n      <td>[Swimming Pool, Doorman, Elevator, Fitness Cen...</td>\n      <td>40.7081</td>\n      <td>7002458</td>\n      <td>-74.0065</td>\n      <td>e6472c7237327dd3903b3d6f6a94515a</td>\n      <td>['https://photos.renthop.com/2/7002458_93f4010...</td>\n      <td>3400</td>\n      <td>100 John Street</td>\n      <td>low</td>\n    </tr>\n    <tr>\n      <th>592</th>\n      <td>1.0</td>\n      <td>3</td>\n      <td>fee4d465932160318364d9d48d272879</td>\n      <td>2016-06-16 06:06:15</td>\n      <td>0.143985</td>\n      <td>West 16th Street</td>\n      <td>[Laundry in Building, Laundry in Unit, Dishwas...</td>\n      <td>40.7416</td>\n      <td>7170465</td>\n      <td>-74.0025</td>\n      <td>6fba9b3a8327c607b8b043716efee684</td>\n      <td>['https://photos.renthop.com/2/7170465_9c3f173...</td>\n      <td>5695</td>\n      <td>321 West 16th Street</td>\n      <td>low</td>\n    </tr>\n  </tbody>\n</table>\n</div>"
     },
     "metadata": {},
     "execution_count": 12
    }
   ],
   "source": [
    "def words_weight(x):\n",
    "    res = 0.0\n",
    "    for word in x:\n",
    "        if word in description_words_weight:\n",
    "            res += description_words_weight[word]\n",
    "    if len(x) > 0:\n",
    "        res /= len(x)\n",
    "    return res\n",
    "\n",
    "df['description'] = df['description'].apply(words_weight)\n",
    "df.head()"
   ]
  },
  {
   "cell_type": "code",
   "execution_count": 83,
   "metadata": {},
   "outputs": [
    {
     "output_type": "execute_result",
     "data": {
      "text/plain": [
       "'kek'"
      ]
     },
     "metadata": {},
     "execution_count": 83
    }
   ],
   "source": [
    "str.lower(\"KeK\")"
   ]
  },
  {
   "cell_type": "code",
   "execution_count": 84,
   "metadata": {},
   "outputs": [
    {
     "output_type": "display_data",
     "data": {
      "text/plain": "0.6943055699304582"
     },
     "metadata": {}
    },
    {
     "output_type": "execute_result",
     "data": {
      "text/plain": [
       "       bathrooms  bedrooms                       building_id  \\\n",
       "id                                                             \n",
       "57094        1.0         3                                 0   \n",
       "33389        1.0         1  9225efdfb57a50bf3ec17ebab082f94a   \n",
       "60458        1.0         0  320de7d3cc88e50a7fbbcfde1e825d21   \n",
       "53048        1.0         2  ce6d18bf3238e668b2bf23f4110b7b67   \n",
       "592          1.0         3  fee4d465932160318364d9d48d272879   \n",
       "\n",
       "                   created  description  \\\n",
       "id                                        \n",
       "57094  2016-05-19 18:06:27     0.548578   \n",
       "33389  2016-06-16 02:01:49     0.693230   \n",
       "60458  2016-05-04 02:42:50     0.542103   \n",
       "53048  2016-05-12 05:57:56     0.510558   \n",
       "592    2016-06-16 06:06:15     0.533959   \n",
       "\n",
       "                                         display_address  \\\n",
       "id                                                         \n",
       "57094  HOW AMAZING IS THIS MIDTOWN WEST STEAL!! NO FE...   \n",
       "33389                               55 River Drive South   \n",
       "60458                                        W 77 Street   \n",
       "53048                                        John Street   \n",
       "592                                     West 16th Street   \n",
       "\n",
       "                                                features  latitude  \\\n",
       "id                                                                   \n",
       "57094                [Laundry In Unit, No Fee, Elevator]   40.7647   \n",
       "33389               [Dogs Allowed, Cats Allowed, No Fee]   40.7275   \n",
       "60458                        [Elevator, Hardwood Floors]   40.7798   \n",
       "53048  [Swimming Pool, Doorman, Elevator, Fitness Cen...   40.7081   \n",
       "592    [Laundry in Building, Laundry in Unit, Dishwas...   40.7416   \n",
       "\n",
       "       listing_id  longitude                        manager_id  \\\n",
       "id                                                               \n",
       "57094     7039994   -73.9918  4bdc3d8c1aaa90d997ce2cb77680679b   \n",
       "33389     7166774   -74.0322  e5808a5e6cc13988fe596704428d38d5   \n",
       "60458     6962716   -73.9751  d69d4e111612dd12ef864031c1148543   \n",
       "53048     7002458   -74.0065  e6472c7237327dd3903b3d6f6a94515a   \n",
       "592       7170465   -74.0025  6fba9b3a8327c607b8b043716efee684   \n",
       "\n",
       "                                                  photos  price  \\\n",
       "id                                                                \n",
       "57094  ['https://photos.renthop.com/2/7039994_07be01b...   4495   \n",
       "33389  ['https://photos.renthop.com/2/7166774_03cf63a...   2570   \n",
       "60458  ['https://photos.renthop.com/2/6962716_ec7f56f...   1795   \n",
       "53048  ['https://photos.renthop.com/2/7002458_93f4010...   3400   \n",
       "592    ['https://photos.renthop.com/2/7170465_9c3f173...   5695   \n",
       "\n",
       "             street_address  target  temp_target  most_frequent_house_comment  \\\n",
       "id                                                                              \n",
       "57094         W 50 & AVE 10  medium    92.221965                    69.297433   \n",
       "33389  55 River Drive South  medium    92.221965                    80.845829   \n",
       "60458        22 W 77 Street     low    69.469693                    66.188957   \n",
       "53048       100 John Street     low    69.469693                    67.339708   \n",
       "592    321 West 16th Street     low    69.469693                    70.878405   \n",
       "\n",
       "       most_frequent_rieltor_comment  \n",
       "id                                    \n",
       "57094                      70.320227  \n",
       "33389                      74.579835  \n",
       "60458                      70.474858  \n",
       "53048                      69.829174  \n",
       "592                        69.463040  "
      ],
      "text/html": "<div>\n<style scoped>\n    .dataframe tbody tr th:only-of-type {\n        vertical-align: middle;\n    }\n\n    .dataframe tbody tr th {\n        vertical-align: top;\n    }\n\n    .dataframe thead th {\n        text-align: right;\n    }\n</style>\n<table border=\"1\" class=\"dataframe\">\n  <thead>\n    <tr style=\"text-align: right;\">\n      <th></th>\n      <th>bathrooms</th>\n      <th>bedrooms</th>\n      <th>building_id</th>\n      <th>created</th>\n      <th>description</th>\n      <th>display_address</th>\n      <th>features</th>\n      <th>latitude</th>\n      <th>listing_id</th>\n      <th>longitude</th>\n      <th>manager_id</th>\n      <th>photos</th>\n      <th>price</th>\n      <th>street_address</th>\n      <th>target</th>\n      <th>temp_target</th>\n      <th>most_frequent_house_comment</th>\n      <th>most_frequent_rieltor_comment</th>\n    </tr>\n    <tr>\n      <th>id</th>\n      <th></th>\n      <th></th>\n      <th></th>\n      <th></th>\n      <th></th>\n      <th></th>\n      <th></th>\n      <th></th>\n      <th></th>\n      <th></th>\n      <th></th>\n      <th></th>\n      <th></th>\n      <th></th>\n      <th></th>\n      <th></th>\n      <th></th>\n      <th></th>\n    </tr>\n  </thead>\n  <tbody>\n    <tr>\n      <th>57094</th>\n      <td>1.0</td>\n      <td>3</td>\n      <td>0</td>\n      <td>2016-05-19 18:06:27</td>\n      <td>0.548578</td>\n      <td>HOW AMAZING IS THIS MIDTOWN WEST STEAL!! NO FE...</td>\n      <td>[Laundry In Unit, No Fee, Elevator]</td>\n      <td>40.7647</td>\n      <td>7039994</td>\n      <td>-73.9918</td>\n      <td>4bdc3d8c1aaa90d997ce2cb77680679b</td>\n      <td>['https://photos.renthop.com/2/7039994_07be01b...</td>\n      <td>4495</td>\n      <td>W 50 &amp; AVE 10</td>\n      <td>medium</td>\n      <td>92.221965</td>\n      <td>69.297433</td>\n      <td>70.320227</td>\n    </tr>\n    <tr>\n      <th>33389</th>\n      <td>1.0</td>\n      <td>1</td>\n      <td>9225efdfb57a50bf3ec17ebab082f94a</td>\n      <td>2016-06-16 02:01:49</td>\n      <td>0.693230</td>\n      <td>55 River Drive South</td>\n      <td>[Dogs Allowed, Cats Allowed, No Fee]</td>\n      <td>40.7275</td>\n      <td>7166774</td>\n      <td>-74.0322</td>\n      <td>e5808a5e6cc13988fe596704428d38d5</td>\n      <td>['https://photos.renthop.com/2/7166774_03cf63a...</td>\n      <td>2570</td>\n      <td>55 River Drive South</td>\n      <td>medium</td>\n      <td>92.221965</td>\n      <td>80.845829</td>\n      <td>74.579835</td>\n    </tr>\n    <tr>\n      <th>60458</th>\n      <td>1.0</td>\n      <td>0</td>\n      <td>320de7d3cc88e50a7fbbcfde1e825d21</td>\n      <td>2016-05-04 02:42:50</td>\n      <td>0.542103</td>\n      <td>W 77 Street</td>\n      <td>[Elevator, Hardwood Floors]</td>\n      <td>40.7798</td>\n      <td>6962716</td>\n      <td>-73.9751</td>\n      <td>d69d4e111612dd12ef864031c1148543</td>\n      <td>['https://photos.renthop.com/2/6962716_ec7f56f...</td>\n      <td>1795</td>\n      <td>22 W 77 Street</td>\n      <td>low</td>\n      <td>69.469693</td>\n      <td>66.188957</td>\n      <td>70.474858</td>\n    </tr>\n    <tr>\n      <th>53048</th>\n      <td>1.0</td>\n      <td>2</td>\n      <td>ce6d18bf3238e668b2bf23f4110b7b67</td>\n      <td>2016-05-12 05:57:56</td>\n      <td>0.510558</td>\n      <td>John Street</td>\n      <td>[Swimming Pool, Doorman, Elevator, Fitness Cen...</td>\n      <td>40.7081</td>\n      <td>7002458</td>\n      <td>-74.0065</td>\n      <td>e6472c7237327dd3903b3d6f6a94515a</td>\n      <td>['https://photos.renthop.com/2/7002458_93f4010...</td>\n      <td>3400</td>\n      <td>100 John Street</td>\n      <td>low</td>\n      <td>69.469693</td>\n      <td>67.339708</td>\n      <td>69.829174</td>\n    </tr>\n    <tr>\n      <th>592</th>\n      <td>1.0</td>\n      <td>3</td>\n      <td>fee4d465932160318364d9d48d272879</td>\n      <td>2016-06-16 06:06:15</td>\n      <td>0.533959</td>\n      <td>West 16th Street</td>\n      <td>[Laundry in Building, Laundry in Unit, Dishwas...</td>\n      <td>40.7416</td>\n      <td>7170465</td>\n      <td>-74.0025</td>\n      <td>6fba9b3a8327c607b8b043716efee684</td>\n      <td>['https://photos.renthop.com/2/7170465_9c3f173...</td>\n      <td>5695</td>\n      <td>321 West 16th Street</td>\n      <td>low</td>\n      <td>69.469693</td>\n      <td>70.878405</td>\n      <td>69.463040</td>\n    </tr>\n  </tbody>\n</table>\n</div>"
     },
     "metadata": {},
     "execution_count": 84
    }
   ],
   "source": [
    "features_words_weight = dict()\n",
    "features_words_count = dict()\n",
    "for index, row in df.iterrows():\n",
    "    for word in row.features:\n",
    "        word = str.lower(word)\n",
    "        if word in features_words_weight:\n",
    "            features_words_weight[word] += row.temp_target\n",
    "            features_words_count[word] += 1\n",
    "        else:\n",
    "            features_words_weight[word] = row.temp_target\n",
    "            features_words_count[word] = 1\n",
    "        \n",
    "        \n",
    "for key, value in features_words_weight.items():\n",
    "    features_words_weight[key] = value / (features_words_count[key] * 100)\n",
    "\n",
    "display(features_words_weight['no fee'])\n",
    "df.head()"
   ]
  },
  {
   "cell_type": "code",
   "execution_count": 85,
   "metadata": {},
   "outputs": [
    {
     "output_type": "execute_result",
     "data": {
      "text/plain": [
       "       bathrooms  bedrooms                       building_id  \\\n",
       "id                                                             \n",
       "57094        1.0         3                                 0   \n",
       "33389        1.0         1  9225efdfb57a50bf3ec17ebab082f94a   \n",
       "60458        1.0         0  320de7d3cc88e50a7fbbcfde1e825d21   \n",
       "53048        1.0         2  ce6d18bf3238e668b2bf23f4110b7b67   \n",
       "592          1.0         3  fee4d465932160318364d9d48d272879   \n",
       "\n",
       "                   created  description  \\\n",
       "id                                        \n",
       "57094  2016-05-19 18:06:27     0.548578   \n",
       "33389  2016-06-16 02:01:49     0.693230   \n",
       "60458  2016-05-04 02:42:50     0.542103   \n",
       "53048  2016-05-12 05:57:56     0.510558   \n",
       "592    2016-06-16 06:06:15     0.533959   \n",
       "\n",
       "                                         display_address  features  latitude  \\\n",
       "id                                                                             \n",
       "57094  HOW AMAZING IS THIS MIDTOWN WEST STEAL!! NO FE...  0.700512   40.7647   \n",
       "33389                               55 River Drive South  0.695180   40.7275   \n",
       "60458                                        W 77 Street  0.701212   40.7798   \n",
       "53048                                        John Street  0.704414   40.7081   \n",
       "592                                     West 16th Street  0.703955   40.7416   \n",
       "\n",
       "       listing_id  longitude                        manager_id  \\\n",
       "id                                                               \n",
       "57094     7039994   -73.9918  4bdc3d8c1aaa90d997ce2cb77680679b   \n",
       "33389     7166774   -74.0322  e5808a5e6cc13988fe596704428d38d5   \n",
       "60458     6962716   -73.9751  d69d4e111612dd12ef864031c1148543   \n",
       "53048     7002458   -74.0065  e6472c7237327dd3903b3d6f6a94515a   \n",
       "592       7170465   -74.0025  6fba9b3a8327c607b8b043716efee684   \n",
       "\n",
       "                                                  photos  price  \\\n",
       "id                                                                \n",
       "57094  ['https://photos.renthop.com/2/7039994_07be01b...   4495   \n",
       "33389  ['https://photos.renthop.com/2/7166774_03cf63a...   2570   \n",
       "60458  ['https://photos.renthop.com/2/6962716_ec7f56f...   1795   \n",
       "53048  ['https://photos.renthop.com/2/7002458_93f4010...   3400   \n",
       "592    ['https://photos.renthop.com/2/7170465_9c3f173...   5695   \n",
       "\n",
       "             street_address  target  temp_target  most_frequent_house_comment  \\\n",
       "id                                                                              \n",
       "57094         W 50 & AVE 10  medium    92.221965                    69.297433   \n",
       "33389  55 River Drive South  medium    92.221965                    80.845829   \n",
       "60458        22 W 77 Street     low    69.469693                    66.188957   \n",
       "53048       100 John Street     low    69.469693                    67.339708   \n",
       "592    321 West 16th Street     low    69.469693                    70.878405   \n",
       "\n",
       "       most_frequent_rieltor_comment  \n",
       "id                                    \n",
       "57094                      70.320227  \n",
       "33389                      74.579835  \n",
       "60458                      70.474858  \n",
       "53048                      69.829174  \n",
       "592                        69.463040  "
      ],
      "text/html": "<div>\n<style scoped>\n    .dataframe tbody tr th:only-of-type {\n        vertical-align: middle;\n    }\n\n    .dataframe tbody tr th {\n        vertical-align: top;\n    }\n\n    .dataframe thead th {\n        text-align: right;\n    }\n</style>\n<table border=\"1\" class=\"dataframe\">\n  <thead>\n    <tr style=\"text-align: right;\">\n      <th></th>\n      <th>bathrooms</th>\n      <th>bedrooms</th>\n      <th>building_id</th>\n      <th>created</th>\n      <th>description</th>\n      <th>display_address</th>\n      <th>features</th>\n      <th>latitude</th>\n      <th>listing_id</th>\n      <th>longitude</th>\n      <th>manager_id</th>\n      <th>photos</th>\n      <th>price</th>\n      <th>street_address</th>\n      <th>target</th>\n      <th>temp_target</th>\n      <th>most_frequent_house_comment</th>\n      <th>most_frequent_rieltor_comment</th>\n    </tr>\n    <tr>\n      <th>id</th>\n      <th></th>\n      <th></th>\n      <th></th>\n      <th></th>\n      <th></th>\n      <th></th>\n      <th></th>\n      <th></th>\n      <th></th>\n      <th></th>\n      <th></th>\n      <th></th>\n      <th></th>\n      <th></th>\n      <th></th>\n      <th></th>\n      <th></th>\n      <th></th>\n    </tr>\n  </thead>\n  <tbody>\n    <tr>\n      <th>57094</th>\n      <td>1.0</td>\n      <td>3</td>\n      <td>0</td>\n      <td>2016-05-19 18:06:27</td>\n      <td>0.548578</td>\n      <td>HOW AMAZING IS THIS MIDTOWN WEST STEAL!! NO FE...</td>\n      <td>0.700512</td>\n      <td>40.7647</td>\n      <td>7039994</td>\n      <td>-73.9918</td>\n      <td>4bdc3d8c1aaa90d997ce2cb77680679b</td>\n      <td>['https://photos.renthop.com/2/7039994_07be01b...</td>\n      <td>4495</td>\n      <td>W 50 &amp; AVE 10</td>\n      <td>medium</td>\n      <td>92.221965</td>\n      <td>69.297433</td>\n      <td>70.320227</td>\n    </tr>\n    <tr>\n      <th>33389</th>\n      <td>1.0</td>\n      <td>1</td>\n      <td>9225efdfb57a50bf3ec17ebab082f94a</td>\n      <td>2016-06-16 02:01:49</td>\n      <td>0.693230</td>\n      <td>55 River Drive South</td>\n      <td>0.695180</td>\n      <td>40.7275</td>\n      <td>7166774</td>\n      <td>-74.0322</td>\n      <td>e5808a5e6cc13988fe596704428d38d5</td>\n      <td>['https://photos.renthop.com/2/7166774_03cf63a...</td>\n      <td>2570</td>\n      <td>55 River Drive South</td>\n      <td>medium</td>\n      <td>92.221965</td>\n      <td>80.845829</td>\n      <td>74.579835</td>\n    </tr>\n    <tr>\n      <th>60458</th>\n      <td>1.0</td>\n      <td>0</td>\n      <td>320de7d3cc88e50a7fbbcfde1e825d21</td>\n      <td>2016-05-04 02:42:50</td>\n      <td>0.542103</td>\n      <td>W 77 Street</td>\n      <td>0.701212</td>\n      <td>40.7798</td>\n      <td>6962716</td>\n      <td>-73.9751</td>\n      <td>d69d4e111612dd12ef864031c1148543</td>\n      <td>['https://photos.renthop.com/2/6962716_ec7f56f...</td>\n      <td>1795</td>\n      <td>22 W 77 Street</td>\n      <td>low</td>\n      <td>69.469693</td>\n      <td>66.188957</td>\n      <td>70.474858</td>\n    </tr>\n    <tr>\n      <th>53048</th>\n      <td>1.0</td>\n      <td>2</td>\n      <td>ce6d18bf3238e668b2bf23f4110b7b67</td>\n      <td>2016-05-12 05:57:56</td>\n      <td>0.510558</td>\n      <td>John Street</td>\n      <td>0.704414</td>\n      <td>40.7081</td>\n      <td>7002458</td>\n      <td>-74.0065</td>\n      <td>e6472c7237327dd3903b3d6f6a94515a</td>\n      <td>['https://photos.renthop.com/2/7002458_93f4010...</td>\n      <td>3400</td>\n      <td>100 John Street</td>\n      <td>low</td>\n      <td>69.469693</td>\n      <td>67.339708</td>\n      <td>69.829174</td>\n    </tr>\n    <tr>\n      <th>592</th>\n      <td>1.0</td>\n      <td>3</td>\n      <td>fee4d465932160318364d9d48d272879</td>\n      <td>2016-06-16 06:06:15</td>\n      <td>0.533959</td>\n      <td>West 16th Street</td>\n      <td>0.703955</td>\n      <td>40.7416</td>\n      <td>7170465</td>\n      <td>-74.0025</td>\n      <td>6fba9b3a8327c607b8b043716efee684</td>\n      <td>['https://photos.renthop.com/2/7170465_9c3f173...</td>\n      <td>5695</td>\n      <td>321 West 16th Street</td>\n      <td>low</td>\n      <td>69.469693</td>\n      <td>70.878405</td>\n      <td>69.463040</td>\n    </tr>\n  </tbody>\n</table>\n</div>"
     },
     "metadata": {},
     "execution_count": 85
    }
   ],
   "source": [
    "def features_weight(x):\n",
    "    res = 0.0\n",
    "    for word in x:\n",
    "        word = str.lower(word)\n",
    "        if word in features_words_weight:\n",
    "            res += features_words_weight[word]\n",
    "    if len(x) > 0:\n",
    "        res /= len(x)\n",
    "    return res\n",
    "\n",
    "#display(features_weight(df.iloc[0, 6]))\n",
    "df['features'] = df['features'].apply(features_weight)\n",
    "df.head()"
   ]
  },
  {
   "cell_type": "code",
   "execution_count": 86,
   "metadata": {},
   "outputs": [
    {
     "output_type": "execute_result",
     "data": {
      "text/plain": [
       "       bathrooms  bedrooms  description  features  price  target  temp_target  \\\n",
       "id                                                                              \n",
       "57094        1.0         3     0.548578  0.700512   4495  medium    92.221965   \n",
       "33389        1.0         1     0.693230  0.695180   2570  medium    92.221965   \n",
       "60458        1.0         0     0.542103  0.701212   1795     low    69.469693   \n",
       "53048        1.0         2     0.510558  0.704414   3400     low    69.469693   \n",
       "592          1.0         3     0.533959  0.703955   5695     low    69.469693   \n",
       "\n",
       "       most_frequent_house_comment  most_frequent_rieltor_comment  \n",
       "id                                                                 \n",
       "57094                    69.297433                      70.320227  \n",
       "33389                    80.845829                      74.579835  \n",
       "60458                    66.188957                      70.474858  \n",
       "53048                    67.339708                      69.829174  \n",
       "592                      70.878405                      69.463040  "
      ],
      "text/html": "<div>\n<style scoped>\n    .dataframe tbody tr th:only-of-type {\n        vertical-align: middle;\n    }\n\n    .dataframe tbody tr th {\n        vertical-align: top;\n    }\n\n    .dataframe thead th {\n        text-align: right;\n    }\n</style>\n<table border=\"1\" class=\"dataframe\">\n  <thead>\n    <tr style=\"text-align: right;\">\n      <th></th>\n      <th>bathrooms</th>\n      <th>bedrooms</th>\n      <th>description</th>\n      <th>features</th>\n      <th>price</th>\n      <th>target</th>\n      <th>temp_target</th>\n      <th>most_frequent_house_comment</th>\n      <th>most_frequent_rieltor_comment</th>\n    </tr>\n    <tr>\n      <th>id</th>\n      <th></th>\n      <th></th>\n      <th></th>\n      <th></th>\n      <th></th>\n      <th></th>\n      <th></th>\n      <th></th>\n      <th></th>\n    </tr>\n  </thead>\n  <tbody>\n    <tr>\n      <th>57094</th>\n      <td>1.0</td>\n      <td>3</td>\n      <td>0.548578</td>\n      <td>0.700512</td>\n      <td>4495</td>\n      <td>medium</td>\n      <td>92.221965</td>\n      <td>69.297433</td>\n      <td>70.320227</td>\n    </tr>\n    <tr>\n      <th>33389</th>\n      <td>1.0</td>\n      <td>1</td>\n      <td>0.693230</td>\n      <td>0.695180</td>\n      <td>2570</td>\n      <td>medium</td>\n      <td>92.221965</td>\n      <td>80.845829</td>\n      <td>74.579835</td>\n    </tr>\n    <tr>\n      <th>60458</th>\n      <td>1.0</td>\n      <td>0</td>\n      <td>0.542103</td>\n      <td>0.701212</td>\n      <td>1795</td>\n      <td>low</td>\n      <td>69.469693</td>\n      <td>66.188957</td>\n      <td>70.474858</td>\n    </tr>\n    <tr>\n      <th>53048</th>\n      <td>1.0</td>\n      <td>2</td>\n      <td>0.510558</td>\n      <td>0.704414</td>\n      <td>3400</td>\n      <td>low</td>\n      <td>69.469693</td>\n      <td>67.339708</td>\n      <td>69.829174</td>\n    </tr>\n    <tr>\n      <th>592</th>\n      <td>1.0</td>\n      <td>3</td>\n      <td>0.533959</td>\n      <td>0.703955</td>\n      <td>5695</td>\n      <td>low</td>\n      <td>69.469693</td>\n      <td>70.878405</td>\n      <td>69.463040</td>\n    </tr>\n  </tbody>\n</table>\n</div>"
     },
     "metadata": {},
     "execution_count": 86
    }
   ],
   "source": [
    "df.drop(['building_id', 'created', 'display_address', 'latitude', 'listing_id', 'longitude', 'manager_id', 'photos', 'street_address'], inplace = True, axis = 1)\n",
    "df.head()"
   ]
  },
  {
   "cell_type": "code",
   "execution_count": 89,
   "metadata": {},
   "outputs": [
    {
     "output_type": "execute_result",
     "data": {
      "text/plain": [
       "       bathrooms  bedrooms  description  features  price  target  \\\n",
       "id                                                                 \n",
       "57094        1.0         3     0.548578  0.700512   4495  medium   \n",
       "33389        1.0         1     0.693230  0.695180   2570  medium   \n",
       "60458        1.0         0     0.542103  0.701212   1795     low   \n",
       "53048        1.0         2     0.510558  0.704414   3400     low   \n",
       "592          1.0         3     0.533959  0.703955   5695     low   \n",
       "\n",
       "       most_frequent_house_comment  most_frequent_rieltor_comment  \n",
       "id                                                                 \n",
       "57094                    69.297433                      70.320227  \n",
       "33389                    80.845829                      74.579835  \n",
       "60458                    66.188957                      70.474858  \n",
       "53048                    67.339708                      69.829174  \n",
       "592                      70.878405                      69.463040  "
      ],
      "text/html": "<div>\n<style scoped>\n    .dataframe tbody tr th:only-of-type {\n        vertical-align: middle;\n    }\n\n    .dataframe tbody tr th {\n        vertical-align: top;\n    }\n\n    .dataframe thead th {\n        text-align: right;\n    }\n</style>\n<table border=\"1\" class=\"dataframe\">\n  <thead>\n    <tr style=\"text-align: right;\">\n      <th></th>\n      <th>bathrooms</th>\n      <th>bedrooms</th>\n      <th>description</th>\n      <th>features</th>\n      <th>price</th>\n      <th>target</th>\n      <th>most_frequent_house_comment</th>\n      <th>most_frequent_rieltor_comment</th>\n    </tr>\n    <tr>\n      <th>id</th>\n      <th></th>\n      <th></th>\n      <th></th>\n      <th></th>\n      <th></th>\n      <th></th>\n      <th></th>\n      <th></th>\n    </tr>\n  </thead>\n  <tbody>\n    <tr>\n      <th>57094</th>\n      <td>1.0</td>\n      <td>3</td>\n      <td>0.548578</td>\n      <td>0.700512</td>\n      <td>4495</td>\n      <td>medium</td>\n      <td>69.297433</td>\n      <td>70.320227</td>\n    </tr>\n    <tr>\n      <th>33389</th>\n      <td>1.0</td>\n      <td>1</td>\n      <td>0.693230</td>\n      <td>0.695180</td>\n      <td>2570</td>\n      <td>medium</td>\n      <td>80.845829</td>\n      <td>74.579835</td>\n    </tr>\n    <tr>\n      <th>60458</th>\n      <td>1.0</td>\n      <td>0</td>\n      <td>0.542103</td>\n      <td>0.701212</td>\n      <td>1795</td>\n      <td>low</td>\n      <td>66.188957</td>\n      <td>70.474858</td>\n    </tr>\n    <tr>\n      <th>53048</th>\n      <td>1.0</td>\n      <td>2</td>\n      <td>0.510558</td>\n      <td>0.704414</td>\n      <td>3400</td>\n      <td>low</td>\n      <td>67.339708</td>\n      <td>69.829174</td>\n    </tr>\n    <tr>\n      <th>592</th>\n      <td>1.0</td>\n      <td>3</td>\n      <td>0.533959</td>\n      <td>0.703955</td>\n      <td>5695</td>\n      <td>low</td>\n      <td>70.878405</td>\n      <td>69.463040</td>\n    </tr>\n  </tbody>\n</table>\n</div>"
     },
     "metadata": {},
     "execution_count": 89
    }
   ],
   "source": [
    "df.drop(['temp_target'], inplace = True, axis = 1)\n",
    "df.head()"
   ]
  },
  {
   "cell_type": "code",
   "execution_count": 133,
   "metadata": {},
   "outputs": [
    {
     "output_type": "display_data",
     "data": {
      "text/plain": "       bathrooms  bedrooms  description  features  price  \\\nid                                                         \n57094        1.0         3     0.548578  0.700512   4495   \n33389        1.0         1     0.693230  0.695180   2570   \n60458        1.0         0     0.542103  0.701212   1795   \n53048        1.0         2     0.510558  0.704414   3400   \n592          1.0         3     0.533959  0.703955   5695   \n\n       most_frequent_house_comment  most_frequent_rieltor_comment  \nid                                                                 \n57094                    69.297433                      70.320227  \n33389                    80.845829                      74.579835  \n60458                    66.188957                      70.474858  \n53048                    67.339708                      69.829174  \n592                      70.878405                      69.463040  ",
      "text/html": "<div>\n<style scoped>\n    .dataframe tbody tr th:only-of-type {\n        vertical-align: middle;\n    }\n\n    .dataframe tbody tr th {\n        vertical-align: top;\n    }\n\n    .dataframe thead th {\n        text-align: right;\n    }\n</style>\n<table border=\"1\" class=\"dataframe\">\n  <thead>\n    <tr style=\"text-align: right;\">\n      <th></th>\n      <th>bathrooms</th>\n      <th>bedrooms</th>\n      <th>description</th>\n      <th>features</th>\n      <th>price</th>\n      <th>most_frequent_house_comment</th>\n      <th>most_frequent_rieltor_comment</th>\n    </tr>\n    <tr>\n      <th>id</th>\n      <th></th>\n      <th></th>\n      <th></th>\n      <th></th>\n      <th></th>\n      <th></th>\n      <th></th>\n    </tr>\n  </thead>\n  <tbody>\n    <tr>\n      <th>57094</th>\n      <td>1.0</td>\n      <td>3</td>\n      <td>0.548578</td>\n      <td>0.700512</td>\n      <td>4495</td>\n      <td>69.297433</td>\n      <td>70.320227</td>\n    </tr>\n    <tr>\n      <th>33389</th>\n      <td>1.0</td>\n      <td>1</td>\n      <td>0.693230</td>\n      <td>0.695180</td>\n      <td>2570</td>\n      <td>80.845829</td>\n      <td>74.579835</td>\n    </tr>\n    <tr>\n      <th>60458</th>\n      <td>1.0</td>\n      <td>0</td>\n      <td>0.542103</td>\n      <td>0.701212</td>\n      <td>1795</td>\n      <td>66.188957</td>\n      <td>70.474858</td>\n    </tr>\n    <tr>\n      <th>53048</th>\n      <td>1.0</td>\n      <td>2</td>\n      <td>0.510558</td>\n      <td>0.704414</td>\n      <td>3400</td>\n      <td>67.339708</td>\n      <td>69.829174</td>\n    </tr>\n    <tr>\n      <th>592</th>\n      <td>1.0</td>\n      <td>3</td>\n      <td>0.533959</td>\n      <td>0.703955</td>\n      <td>5695</td>\n      <td>70.878405</td>\n      <td>69.463040</td>\n    </tr>\n  </tbody>\n</table>\n</div>"
     },
     "metadata": {}
    },
    {
     "output_type": "display_data",
     "data": {
      "text/plain": "id\n57094     2\n33389     2\n60458     1\n53048     1\n592       1\n         ..\n25582     1\n50013     2\n111475    1\n71184     2\n117473    2\nName: target, Length: 34546, dtype: int64"
     },
     "metadata": {}
    }
   ],
   "source": [
    "y = df['target'].map({'low' : 1, 'medium' : 2, 'high' : 3})\n",
    "X = df.drop(['target'], axis = 1)\n",
    "display(X.head())\n",
    "display(y)"
   ]
  },
  {
   "cell_type": "code",
   "execution_count": 134,
   "metadata": {},
   "outputs": [
    {
     "output_type": "execute_result",
     "data": {
      "text/plain": [
       "       bathrooms  bedrooms  description  features     price  \\\n",
       "id                                                            \n",
       "57094   0.166667     0.375     0.681452  0.759593  0.000991   \n",
       "33389   0.166667     0.125     0.861140  0.753812  0.000562   \n",
       "60458   0.166667     0.000     0.673408  0.760353  0.000390   \n",
       "53048   0.166667     0.250     0.634223  0.763825  0.000747   \n",
       "592     0.166667     0.375     0.663292  0.763326  0.001258   \n",
       "\n",
       "       most_frequent_house_comment  most_frequent_rieltor_comment  \n",
       "id                                                                 \n",
       "57094                     0.748695                       0.759907  \n",
       "33389                     0.875292                       0.806602  \n",
       "60458                     0.714619                       0.761602  \n",
       "53048                     0.727234                       0.754524  \n",
       "592                       0.766026                       0.750510  "
      ],
      "text/html": "<div>\n<style scoped>\n    .dataframe tbody tr th:only-of-type {\n        vertical-align: middle;\n    }\n\n    .dataframe tbody tr th {\n        vertical-align: top;\n    }\n\n    .dataframe thead th {\n        text-align: right;\n    }\n</style>\n<table border=\"1\" class=\"dataframe\">\n  <thead>\n    <tr style=\"text-align: right;\">\n      <th></th>\n      <th>bathrooms</th>\n      <th>bedrooms</th>\n      <th>description</th>\n      <th>features</th>\n      <th>price</th>\n      <th>most_frequent_house_comment</th>\n      <th>most_frequent_rieltor_comment</th>\n    </tr>\n    <tr>\n      <th>id</th>\n      <th></th>\n      <th></th>\n      <th></th>\n      <th></th>\n      <th></th>\n      <th></th>\n      <th></th>\n    </tr>\n  </thead>\n  <tbody>\n    <tr>\n      <th>57094</th>\n      <td>0.166667</td>\n      <td>0.375</td>\n      <td>0.681452</td>\n      <td>0.759593</td>\n      <td>0.000991</td>\n      <td>0.748695</td>\n      <td>0.759907</td>\n    </tr>\n    <tr>\n      <th>33389</th>\n      <td>0.166667</td>\n      <td>0.125</td>\n      <td>0.861140</td>\n      <td>0.753812</td>\n      <td>0.000562</td>\n      <td>0.875292</td>\n      <td>0.806602</td>\n    </tr>\n    <tr>\n      <th>60458</th>\n      <td>0.166667</td>\n      <td>0.000</td>\n      <td>0.673408</td>\n      <td>0.760353</td>\n      <td>0.000390</td>\n      <td>0.714619</td>\n      <td>0.761602</td>\n    </tr>\n    <tr>\n      <th>53048</th>\n      <td>0.166667</td>\n      <td>0.250</td>\n      <td>0.634223</td>\n      <td>0.763825</td>\n      <td>0.000747</td>\n      <td>0.727234</td>\n      <td>0.754524</td>\n    </tr>\n    <tr>\n      <th>592</th>\n      <td>0.166667</td>\n      <td>0.375</td>\n      <td>0.663292</td>\n      <td>0.763326</td>\n      <td>0.001258</td>\n      <td>0.766026</td>\n      <td>0.750510</td>\n    </tr>\n  </tbody>\n</table>\n</div>"
     },
     "metadata": {},
     "execution_count": 134
    }
   ],
   "source": [
    "standart_scaler = StandardScaler()\n",
    "minmax_scaler = MinMaxScaler()\n",
    "X[X.columns] = minmax_scaler.fit_transform(X[X.columns])\n",
    "X.head()"
   ]
  },
  {
   "cell_type": "code",
   "execution_count": 135,
   "metadata": {},
   "outputs": [
    {
     "output_type": "execute_result",
     "data": {
      "text/plain": [
       "        bathrooms  bedrooms  description  features     price  \\\n",
       "id                                                             \n",
       "57094    0.166667     0.375     0.681452  0.759593  0.000991   \n",
       "33389    0.166667     0.125     0.861140  0.753812  0.000562   \n",
       "60458    0.166667     0.000     0.673408  0.760353  0.000390   \n",
       "53048    0.166667     0.250     0.634223  0.763825  0.000747   \n",
       "592      0.166667     0.375     0.663292  0.763326  0.001258   \n",
       "31731    0.166667     0.125     0.672559  0.761708  0.000558   \n",
       "12930    0.166667     0.250     0.689411  0.756590  0.000767   \n",
       "25585    0.166667     0.125     0.598833  0.753852  0.000280   \n",
       "103527   0.166667     0.125     0.575154  0.760545  0.000413   \n",
       "72406    0.166667     0.125     0.669214  0.763902  0.000596   \n",
       "70822    0.166667     0.250     0.654115  0.747822  0.000669   \n",
       "1058     0.333333     0.375     0.658132  0.761941  0.001168   \n",
       "68740    0.166667     0.000     0.642972  0.761429  0.000563   \n",
       "78049    0.333333     0.250     0.698899  0.758753  0.001127   \n",
       "32484    0.166667     0.125     0.544527  0.762420  0.000619   \n",
       "40727    0.166667     0.125     0.708909  0.758753  0.001072   \n",
       "55868    0.166667     0.125     0.681620  0.755437  0.000369   \n",
       "75634    0.166667     0.125     0.669118  0.759841  0.000969   \n",
       "39236    0.166667     0.000     0.710633  0.754726  0.000424   \n",
       "88425    0.166667     0.125     0.750038  0.762484  0.000399   \n",
       "\n",
       "        most_frequent_house_comment  most_frequent_rieltor_comment  \n",
       "id                                                                  \n",
       "57094                      0.748695                       0.759907  \n",
       "33389                      0.875292                       0.806602  \n",
       "60458                      0.714619                       0.761602  \n",
       "53048                      0.727234                       0.754524  \n",
       "592                        0.766026                       0.750510  \n",
       "31731                      0.750350                       0.723961  \n",
       "12930                      0.748695                       0.750583  \n",
       "25585                      0.000000                       0.472306  \n",
       "103527                     0.875292                       0.792578  \n",
       "72406                      0.752689                       0.754524  \n",
       "70822                      0.748695                       0.685214  \n",
       "1058                       0.764310                       0.772200  \n",
       "68740                      0.741173                       0.764179  \n",
       "78049                      0.783340                       0.750583  \n",
       "32484                      0.748695                       0.682349  \n",
       "40727                      0.750583                       0.750583  \n",
       "55868                      0.748695                       0.750583  \n",
       "75634                      0.750583                       0.764179  \n",
       "39236                      0.833722                       0.780513  \n",
       "88425                      0.833722                       0.781760  "
      ],
      "text/html": "<div>\n<style scoped>\n    .dataframe tbody tr th:only-of-type {\n        vertical-align: middle;\n    }\n\n    .dataframe tbody tr th {\n        vertical-align: top;\n    }\n\n    .dataframe thead th {\n        text-align: right;\n    }\n</style>\n<table border=\"1\" class=\"dataframe\">\n  <thead>\n    <tr style=\"text-align: right;\">\n      <th></th>\n      <th>bathrooms</th>\n      <th>bedrooms</th>\n      <th>description</th>\n      <th>features</th>\n      <th>price</th>\n      <th>most_frequent_house_comment</th>\n      <th>most_frequent_rieltor_comment</th>\n    </tr>\n    <tr>\n      <th>id</th>\n      <th></th>\n      <th></th>\n      <th></th>\n      <th></th>\n      <th></th>\n      <th></th>\n      <th></th>\n    </tr>\n  </thead>\n  <tbody>\n    <tr>\n      <th>57094</th>\n      <td>0.166667</td>\n      <td>0.375</td>\n      <td>0.681452</td>\n      <td>0.759593</td>\n      <td>0.000991</td>\n      <td>0.748695</td>\n      <td>0.759907</td>\n    </tr>\n    <tr>\n      <th>33389</th>\n      <td>0.166667</td>\n      <td>0.125</td>\n      <td>0.861140</td>\n      <td>0.753812</td>\n      <td>0.000562</td>\n      <td>0.875292</td>\n      <td>0.806602</td>\n    </tr>\n    <tr>\n      <th>60458</th>\n      <td>0.166667</td>\n      <td>0.000</td>\n      <td>0.673408</td>\n      <td>0.760353</td>\n      <td>0.000390</td>\n      <td>0.714619</td>\n      <td>0.761602</td>\n    </tr>\n    <tr>\n      <th>53048</th>\n      <td>0.166667</td>\n      <td>0.250</td>\n      <td>0.634223</td>\n      <td>0.763825</td>\n      <td>0.000747</td>\n      <td>0.727234</td>\n      <td>0.754524</td>\n    </tr>\n    <tr>\n      <th>592</th>\n      <td>0.166667</td>\n      <td>0.375</td>\n      <td>0.663292</td>\n      <td>0.763326</td>\n      <td>0.001258</td>\n      <td>0.766026</td>\n      <td>0.750510</td>\n    </tr>\n    <tr>\n      <th>31731</th>\n      <td>0.166667</td>\n      <td>0.125</td>\n      <td>0.672559</td>\n      <td>0.761708</td>\n      <td>0.000558</td>\n      <td>0.750350</td>\n      <td>0.723961</td>\n    </tr>\n    <tr>\n      <th>12930</th>\n      <td>0.166667</td>\n      <td>0.250</td>\n      <td>0.689411</td>\n      <td>0.756590</td>\n      <td>0.000767</td>\n      <td>0.748695</td>\n      <td>0.750583</td>\n    </tr>\n    <tr>\n      <th>25585</th>\n      <td>0.166667</td>\n      <td>0.125</td>\n      <td>0.598833</td>\n      <td>0.753852</td>\n      <td>0.000280</td>\n      <td>0.000000</td>\n      <td>0.472306</td>\n    </tr>\n    <tr>\n      <th>103527</th>\n      <td>0.166667</td>\n      <td>0.125</td>\n      <td>0.575154</td>\n      <td>0.760545</td>\n      <td>0.000413</td>\n      <td>0.875292</td>\n      <td>0.792578</td>\n    </tr>\n    <tr>\n      <th>72406</th>\n      <td>0.166667</td>\n      <td>0.125</td>\n      <td>0.669214</td>\n      <td>0.763902</td>\n      <td>0.000596</td>\n      <td>0.752689</td>\n      <td>0.754524</td>\n    </tr>\n    <tr>\n      <th>70822</th>\n      <td>0.166667</td>\n      <td>0.250</td>\n      <td>0.654115</td>\n      <td>0.747822</td>\n      <td>0.000669</td>\n      <td>0.748695</td>\n      <td>0.685214</td>\n    </tr>\n    <tr>\n      <th>1058</th>\n      <td>0.333333</td>\n      <td>0.375</td>\n      <td>0.658132</td>\n      <td>0.761941</td>\n      <td>0.001168</td>\n      <td>0.764310</td>\n      <td>0.772200</td>\n    </tr>\n    <tr>\n      <th>68740</th>\n      <td>0.166667</td>\n      <td>0.000</td>\n      <td>0.642972</td>\n      <td>0.761429</td>\n      <td>0.000563</td>\n      <td>0.741173</td>\n      <td>0.764179</td>\n    </tr>\n    <tr>\n      <th>78049</th>\n      <td>0.333333</td>\n      <td>0.250</td>\n      <td>0.698899</td>\n      <td>0.758753</td>\n      <td>0.001127</td>\n      <td>0.783340</td>\n      <td>0.750583</td>\n    </tr>\n    <tr>\n      <th>32484</th>\n      <td>0.166667</td>\n      <td>0.125</td>\n      <td>0.544527</td>\n      <td>0.762420</td>\n      <td>0.000619</td>\n      <td>0.748695</td>\n      <td>0.682349</td>\n    </tr>\n    <tr>\n      <th>40727</th>\n      <td>0.166667</td>\n      <td>0.125</td>\n      <td>0.708909</td>\n      <td>0.758753</td>\n      <td>0.001072</td>\n      <td>0.750583</td>\n      <td>0.750583</td>\n    </tr>\n    <tr>\n      <th>55868</th>\n      <td>0.166667</td>\n      <td>0.125</td>\n      <td>0.681620</td>\n      <td>0.755437</td>\n      <td>0.000369</td>\n      <td>0.748695</td>\n      <td>0.750583</td>\n    </tr>\n    <tr>\n      <th>75634</th>\n      <td>0.166667</td>\n      <td>0.125</td>\n      <td>0.669118</td>\n      <td>0.759841</td>\n      <td>0.000969</td>\n      <td>0.750583</td>\n      <td>0.764179</td>\n    </tr>\n    <tr>\n      <th>39236</th>\n      <td>0.166667</td>\n      <td>0.000</td>\n      <td>0.710633</td>\n      <td>0.754726</td>\n      <td>0.000424</td>\n      <td>0.833722</td>\n      <td>0.780513</td>\n    </tr>\n    <tr>\n      <th>88425</th>\n      <td>0.166667</td>\n      <td>0.125</td>\n      <td>0.750038</td>\n      <td>0.762484</td>\n      <td>0.000399</td>\n      <td>0.833722</td>\n      <td>0.781760</td>\n    </tr>\n  </tbody>\n</table>\n</div>"
     },
     "metadata": {},
     "execution_count": 135
    }
   ],
   "source": [
    "X[:20]"
   ]
  },
  {
   "cell_type": "code",
   "execution_count": 2,
   "metadata": {},
   "outputs": [
    {
     "output_type": "display_data",
     "data": {
      "text/plain": "        bathrooms  ...  most_frequent_rieltor_comment\nid                 ...                               \n57094    0.166667  ...                       0.759907\n33389    0.166667  ...                       0.806602\n60458    0.166667  ...                       0.761602\n53048    0.166667  ...                       0.754524\n592      0.166667  ...                       0.750510\n...           ...  ...                            ...\n25582    0.166667  ...                       0.754524\n50013    0.166667  ...                       0.783151\n111475   0.333333  ...                       0.754524\n71184    0.166667  ...                       0.764179\n117473   0.166667  ...                       0.777792\n\n[34546 rows x 7 columns]",
      "text/html": "<div>\n<style scoped>\n    .dataframe tbody tr th:only-of-type {\n        vertical-align: middle;\n    }\n\n    .dataframe tbody tr th {\n        vertical-align: top;\n    }\n\n    .dataframe thead th {\n        text-align: right;\n    }\n</style>\n<table border=\"1\" class=\"dataframe\">\n  <thead>\n    <tr style=\"text-align: right;\">\n      <th></th>\n      <th>bathrooms</th>\n      <th>bedrooms</th>\n      <th>description</th>\n      <th>features</th>\n      <th>price</th>\n      <th>most_frequent_house_comment</th>\n      <th>most_frequent_rieltor_comment</th>\n    </tr>\n    <tr>\n      <th>id</th>\n      <th></th>\n      <th></th>\n      <th></th>\n      <th></th>\n      <th></th>\n      <th></th>\n      <th></th>\n    </tr>\n  </thead>\n  <tbody>\n    <tr>\n      <th>57094</th>\n      <td>0.166667</td>\n      <td>0.375</td>\n      <td>0.681452</td>\n      <td>0.759593</td>\n      <td>0.000991</td>\n      <td>0.748695</td>\n      <td>0.759907</td>\n    </tr>\n    <tr>\n      <th>33389</th>\n      <td>0.166667</td>\n      <td>0.125</td>\n      <td>0.861140</td>\n      <td>0.753812</td>\n      <td>0.000562</td>\n      <td>0.875292</td>\n      <td>0.806602</td>\n    </tr>\n    <tr>\n      <th>60458</th>\n      <td>0.166667</td>\n      <td>0.000</td>\n      <td>0.673408</td>\n      <td>0.760353</td>\n      <td>0.000390</td>\n      <td>0.714619</td>\n      <td>0.761602</td>\n    </tr>\n    <tr>\n      <th>53048</th>\n      <td>0.166667</td>\n      <td>0.250</td>\n      <td>0.634223</td>\n      <td>0.763825</td>\n      <td>0.000747</td>\n      <td>0.727234</td>\n      <td>0.754524</td>\n    </tr>\n    <tr>\n      <th>592</th>\n      <td>0.166667</td>\n      <td>0.375</td>\n      <td>0.663292</td>\n      <td>0.763326</td>\n      <td>0.001258</td>\n      <td>0.766026</td>\n      <td>0.750510</td>\n    </tr>\n    <tr>\n      <th>...</th>\n      <td>...</td>\n      <td>...</td>\n      <td>...</td>\n      <td>...</td>\n      <td>...</td>\n      <td>...</td>\n      <td>...</td>\n    </tr>\n    <tr>\n      <th>25582</th>\n      <td>0.166667</td>\n      <td>0.125</td>\n      <td>0.655983</td>\n      <td>0.772366</td>\n      <td>0.000424</td>\n      <td>0.375292</td>\n      <td>0.754524</td>\n    </tr>\n    <tr>\n      <th>50013</th>\n      <td>0.166667</td>\n      <td>0.000</td>\n      <td>0.642653</td>\n      <td>0.759475</td>\n      <td>0.000569</td>\n      <td>0.729604</td>\n      <td>0.783151</td>\n    </tr>\n    <tr>\n      <th>111475</th>\n      <td>0.333333</td>\n      <td>0.250</td>\n      <td>0.653830</td>\n      <td>0.000000</td>\n      <td>0.001128</td>\n      <td>0.748695</td>\n      <td>0.754524</td>\n    </tr>\n    <tr>\n      <th>71184</th>\n      <td>0.166667</td>\n      <td>0.250</td>\n      <td>0.706259</td>\n      <td>0.760360</td>\n      <td>0.000747</td>\n      <td>0.812938</td>\n      <td>0.764179</td>\n    </tr>\n    <tr>\n      <th>117473</th>\n      <td>0.166667</td>\n      <td>0.250</td>\n      <td>0.378287</td>\n      <td>0.000000</td>\n      <td>0.000647</td>\n      <td>0.797349</td>\n      <td>0.777792</td>\n    </tr>\n  </tbody>\n</table>\n<p>34546 rows × 7 columns</p>\n</div>"
     },
     "metadata": {}
    },
    {
     "output_type": "display_data",
     "data": {
      "text/plain": "id\n57094     2\n33389     2\n60458     1\n53048     1\n592       1\n         ..\n25582     1\n50013     2\n111475    1\n71184     2\n117473    2\nName: target, Length: 34546, dtype: int64"
     },
     "metadata": {}
    }
   ],
   "source": [
    "from preprocessing import preprocess\n",
    "\n",
    "X, y = preprocess('train-2.csv')\n",
    "display(X, y)"
   ]
  },
  {
   "cell_type": "code",
   "execution_count": 5,
   "metadata": {},
   "outputs": [],
   "source": [
    "X_train, X_test, y_train, y_test = train_test_split(X, y, test_size = 0.15)"
   ]
  },
  {
   "cell_type": "code",
   "execution_count": 6,
   "metadata": {},
   "outputs": [
    {
     "output_type": "execute_result",
     "data": {
      "text/plain": [
       "LogisticRegression()"
      ]
     },
     "metadata": {},
     "execution_count": 6
    }
   ],
   "source": [
    "log_reg = LogisticRegression() \n",
    "log_reg.fit(X_train, y_train)"
   ]
  },
  {
   "cell_type": "code",
   "execution_count": 7,
   "metadata": {},
   "outputs": [
    {
     "output_type": "execute_result",
     "data": {
      "text/plain": [
       "array([1, 1, 1, ..., 1, 1, 1])"
      ]
     },
     "metadata": {},
     "execution_count": 7
    }
   ],
   "source": [
    "y_pred = log_reg.predict(X_test)\n",
    "y_pred"
   ]
  },
  {
   "cell_type": "code",
   "execution_count": 8,
   "metadata": {},
   "outputs": [
    {
     "output_type": "execute_result",
     "data": {
      "text/plain": [
       "0.7734465457352374"
      ]
     },
     "metadata": {},
     "execution_count": 8
    }
   ],
   "source": [
    "accuracy_score(y_test, y_pred)"
   ]
  },
  {
   "cell_type": "code",
   "execution_count": 9,
   "metadata": {},
   "outputs": [
    {
     "output_type": "execute_result",
     "data": {
      "text/plain": [
       "0.706291007333076"
      ]
     },
     "metadata": {},
     "execution_count": 9
    }
   ],
   "source": [
    "y_dumb = np.ones(len(y_pred))\n",
    "accuracy_score(y_test, y_dumb)"
   ]
  },
  {
   "cell_type": "code",
   "execution_count": 10,
   "metadata": {},
   "outputs": [
    {
     "output_type": "display_data",
     "data": {
      "text/plain": "        bathrooms  ...  most_frequent_rieltor_comment\nid                 ...                               \n57094    0.166667  ...                       0.759907\n33389    0.166667  ...                       0.806602\n60458    0.166667  ...                       0.761602\n53048    0.166667  ...                       0.754524\n592      0.166667  ...                       0.750510\n...           ...  ...                            ...\n25582    0.166667  ...                       0.754524\n50013    0.166667  ...                       0.783151\n111475   0.333333  ...                       0.754524\n71184    0.166667  ...                       0.764179\n117473   0.166667  ...                       0.777792\n\n[34546 rows x 7 columns]",
      "text/html": "<div>\n<style scoped>\n    .dataframe tbody tr th:only-of-type {\n        vertical-align: middle;\n    }\n\n    .dataframe tbody tr th {\n        vertical-align: top;\n    }\n\n    .dataframe thead th {\n        text-align: right;\n    }\n</style>\n<table border=\"1\" class=\"dataframe\">\n  <thead>\n    <tr style=\"text-align: right;\">\n      <th></th>\n      <th>bathrooms</th>\n      <th>bedrooms</th>\n      <th>description</th>\n      <th>features</th>\n      <th>price</th>\n      <th>most_frequent_house_comment</th>\n      <th>most_frequent_rieltor_comment</th>\n    </tr>\n    <tr>\n      <th>id</th>\n      <th></th>\n      <th></th>\n      <th></th>\n      <th></th>\n      <th></th>\n      <th></th>\n      <th></th>\n    </tr>\n  </thead>\n  <tbody>\n    <tr>\n      <th>57094</th>\n      <td>0.166667</td>\n      <td>0.375</td>\n      <td>0.681452</td>\n      <td>0.759593</td>\n      <td>0.000991</td>\n      <td>0.748695</td>\n      <td>0.759907</td>\n    </tr>\n    <tr>\n      <th>33389</th>\n      <td>0.166667</td>\n      <td>0.125</td>\n      <td>0.861140</td>\n      <td>0.753812</td>\n      <td>0.000562</td>\n      <td>0.875292</td>\n      <td>0.806602</td>\n    </tr>\n    <tr>\n      <th>60458</th>\n      <td>0.166667</td>\n      <td>0.000</td>\n      <td>0.673408</td>\n      <td>0.760353</td>\n      <td>0.000390</td>\n      <td>0.714619</td>\n      <td>0.761602</td>\n    </tr>\n    <tr>\n      <th>53048</th>\n      <td>0.166667</td>\n      <td>0.250</td>\n      <td>0.634223</td>\n      <td>0.763825</td>\n      <td>0.000747</td>\n      <td>0.727234</td>\n      <td>0.754524</td>\n    </tr>\n    <tr>\n      <th>592</th>\n      <td>0.166667</td>\n      <td>0.375</td>\n      <td>0.663292</td>\n      <td>0.763326</td>\n      <td>0.001258</td>\n      <td>0.766026</td>\n      <td>0.750510</td>\n    </tr>\n    <tr>\n      <th>...</th>\n      <td>...</td>\n      <td>...</td>\n      <td>...</td>\n      <td>...</td>\n      <td>...</td>\n      <td>...</td>\n      <td>...</td>\n    </tr>\n    <tr>\n      <th>25582</th>\n      <td>0.166667</td>\n      <td>0.125</td>\n      <td>0.655983</td>\n      <td>0.772366</td>\n      <td>0.000424</td>\n      <td>0.375292</td>\n      <td>0.754524</td>\n    </tr>\n    <tr>\n      <th>50013</th>\n      <td>0.166667</td>\n      <td>0.000</td>\n      <td>0.642653</td>\n      <td>0.759475</td>\n      <td>0.000569</td>\n      <td>0.729604</td>\n      <td>0.783151</td>\n    </tr>\n    <tr>\n      <th>111475</th>\n      <td>0.333333</td>\n      <td>0.250</td>\n      <td>0.653830</td>\n      <td>0.000000</td>\n      <td>0.001128</td>\n      <td>0.748695</td>\n      <td>0.754524</td>\n    </tr>\n    <tr>\n      <th>71184</th>\n      <td>0.166667</td>\n      <td>0.250</td>\n      <td>0.706259</td>\n      <td>0.760360</td>\n      <td>0.000747</td>\n      <td>0.812938</td>\n      <td>0.764179</td>\n    </tr>\n    <tr>\n      <th>117473</th>\n      <td>0.166667</td>\n      <td>0.250</td>\n      <td>0.378287</td>\n      <td>0.000000</td>\n      <td>0.000647</td>\n      <td>0.797349</td>\n      <td>0.777792</td>\n    </tr>\n  </tbody>\n</table>\n<p>34546 rows × 7 columns</p>\n</div>"
     },
     "metadata": {}
    },
    {
     "output_type": "display_data",
     "data": {
      "text/plain": "id\n57094     2\n33389     2\n60458     1\n53048     1\n592       1\n         ..\n25582     1\n50013     2\n111475    1\n71184     2\n117473    2\nName: target, Length: 34546, dtype: int64"
     },
     "metadata": {}
    }
   ],
   "source": [
    "check_X, check_y = preprocess('test-2.csv')\n",
    "display(check_X)\n",
    "display(check_y)"
   ]
  },
  {
   "cell_type": "code",
   "execution_count": null,
   "metadata": {},
   "outputs": [],
   "source": [
    "check_pred = log_reg.predict(X)"
   ]
  },
  {
   "cell_type": "code",
   "execution_count": 13,
   "metadata": {},
   "outputs": [
    {
     "output_type": "execute_result",
     "data": {
      "text/plain": [
       "           id\n",
       "0       57094\n",
       "1       33389\n",
       "2       60458\n",
       "3       53048\n",
       "4         592\n",
       "...       ...\n",
       "34541   25582\n",
       "34542   50013\n",
       "34543  111475\n",
       "34544   71184\n",
       "34545  117473\n",
       "\n",
       "[34546 rows x 1 columns]"
      ],
      "text/html": "<div>\n<style scoped>\n    .dataframe tbody tr th:only-of-type {\n        vertical-align: middle;\n    }\n\n    .dataframe tbody tr th {\n        vertical-align: top;\n    }\n\n    .dataframe thead th {\n        text-align: right;\n    }\n</style>\n<table border=\"1\" class=\"dataframe\">\n  <thead>\n    <tr style=\"text-align: right;\">\n      <th></th>\n      <th>id</th>\n    </tr>\n  </thead>\n  <tbody>\n    <tr>\n      <th>0</th>\n      <td>57094</td>\n    </tr>\n    <tr>\n      <th>1</th>\n      <td>33389</td>\n    </tr>\n    <tr>\n      <th>2</th>\n      <td>60458</td>\n    </tr>\n    <tr>\n      <th>3</th>\n      <td>53048</td>\n    </tr>\n    <tr>\n      <th>4</th>\n      <td>592</td>\n    </tr>\n    <tr>\n      <th>...</th>\n      <td>...</td>\n    </tr>\n    <tr>\n      <th>34541</th>\n      <td>25582</td>\n    </tr>\n    <tr>\n      <th>34542</th>\n      <td>50013</td>\n    </tr>\n    <tr>\n      <th>34543</th>\n      <td>111475</td>\n    </tr>\n    <tr>\n      <th>34544</th>\n      <td>71184</td>\n    </tr>\n    <tr>\n      <th>34545</th>\n      <td>117473</td>\n    </tr>\n  </tbody>\n</table>\n<p>34546 rows × 1 columns</p>\n</div>"
     },
     "metadata": {},
     "execution_count": 13
    }
   ],
   "source": [
    "submission = pd.DataFrame(check_X.index)\n",
    "submission"
   ]
  },
  {
   "cell_type": "code",
   "execution_count": null,
   "metadata": {},
   "outputs": [],
   "source": [
    "submission['TARGET'] = "
   ]
  },
  {
   "cell_type": "code",
   "execution_count": null,
   "metadata": {},
   "outputs": [],
   "source": []
  }
 ]
}