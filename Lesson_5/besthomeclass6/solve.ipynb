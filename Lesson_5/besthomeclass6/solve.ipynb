{
 "metadata": {
  "language_info": {
   "codemirror_mode": {
    "name": "ipython",
    "version": 3
   },
   "file_extension": ".py",
   "mimetype": "text/x-python",
   "name": "python",
   "nbconvert_exporter": "python",
   "pygments_lexer": "ipython3",
   "version": "3.8.1-final"
  },
  "orig_nbformat": 2,
  "kernelspec": {
   "name": "python3",
   "display_name": "Python 3",
   "language": "python"
  }
 },
 "nbformat": 4,
 "nbformat_minor": 2,
 "cells": [
  {
   "cell_type": "code",
   "execution_count": 129,
   "metadata": {},
   "outputs": [],
   "source": [
    "import numpy as np\n",
    "import pandas as pd\n",
    "from sklearn.impute import SimpleImputer\n",
    "from scipy.stats import lognorm\n",
    "from sklearn.linear_model import LogisticRegression\n",
    "from sklearn.preprocessing import PolynomialFeatures\n",
    "from sklearn.pipeline import Pipeline\n",
    "from sklearn.feature_selection import VarianceThreshold\n",
    "from sklearn.datasets import make_classification\n",
    "from sklearn.feature_selection import SelectKBest, f_classif\n",
    "from sklearn.linear_model import LogisticRegression\n",
    "from sklearn.model_selection import cross_val_score\n",
    "from sklearn.datasets import make_classification\n",
    "from sklearn.linear_model import LogisticRegression\n",
    "from sklearn.feature_selection import SelectFromModel\n",
    "from sklearn.model_selection import cross_val_score\n",
    "from sklearn.pipeline import make_pipeline\n",
    "from mlxtend.feature_selection import SequentialFeatureSelector\n",
    "%matplotlib inline\n",
    "from matplotlib import pyplot as plt \n",
    "from sklearn.model_selection import train_test_split\n",
    "from sklearn.preprocessing import MinMaxScaler\n",
    "from sklearn.preprocessing import StandardScaler\n",
    "from sklearn.metrics import accuracy_score"
   ]
  },
  {
   "cell_type": "code",
   "execution_count": 71,
   "metadata": {},
   "outputs": [
    {
     "output_type": "display_data",
     "data": {
      "text/plain": "        bathrooms  bedrooms                       building_id  \\\nid                                                              \n57094         1.0         3                                 0   \n33389         1.0         1  9225efdfb57a50bf3ec17ebab082f94a   \n60458         1.0         0  320de7d3cc88e50a7fbbcfde1e825d21   \n53048         1.0         2  ce6d18bf3238e668b2bf23f4110b7b67   \n592           1.0         3  fee4d465932160318364d9d48d272879   \n...           ...       ...                               ...   \n25582         1.0         1  14fdc4b01ae44b025f6c4d28c9097e5f   \n50013         1.0         0  9b6cf886379a2511f8c633c84028efe7   \n111475        2.0         2                                 0   \n71184         1.0         2  8754cae39f6e053974aa2337017eb3c1   \n117473        1.0         2  a068b783287190d47d1564ab4d898675   \n\n                    created  \\\nid                            \n57094   2016-05-19 18:06:27   \n33389   2016-06-16 02:01:49   \n60458   2016-05-04 02:42:50   \n53048   2016-05-12 05:57:56   \n592     2016-06-16 06:06:15   \n...                     ...   \n25582   2016-06-16 02:12:57   \n50013   2016-05-10 03:17:32   \n111475  2016-04-21 03:29:35   \n71184   2016-05-14 02:27:47   \n117473  2016-04-05 03:35:52   \n\n                                              description  \\\nid                                                          \n57094   A FABULOUS 3BR IN MIDTOWN WEST!   PERFECT APAR...   \n33389                     Renovated Kitchen and Bathroom!   \n60458   RARE AND BEST DEAL ON THE MARKET!!!! PERFECT S...   \n53048   Newly renovated flex 2 apartment offers the ne...   \n592     LOW FEE apartments do not come around like thi...   \n...                                                   ...   \n25582   Newly renovated bedroom apartment located off ...   \n50013   All apartments are newly renovated featuring: ...   \n111475  <![CDATA[2 bedrooms, 5110, Astoria / Long Isla...   \n71184   CooperCooper.com :: Listing ID #10_0385; 400 W...   \n117473  Renovated two bedroom apartment with beautiful...   \n\n                                          display_address  \\\nid                                                          \n57094   HOW AMAZING IS THIS MIDTOWN WEST STEAL!! NO FE...   \n33389                                55 River Drive South   \n60458                                         W 77 Street   \n53048                                         John Street   \n592                                      West 16th Street   \n...                                                   ...   \n25582                                             29th St   \n50013                                            E 1st St   \n111475                                        50th Avenue   \n71184                                400 West 56th Street   \n117473                                        E 82 Street   \n\n                                                 features  latitude  \\\nid                                                                    \n57094                 [Laundry In Unit, No Fee, Elevator]   40.7647   \n33389                [Dogs Allowed, Cats Allowed, No Fee]   40.7275   \n60458                         [Elevator, Hardwood Floors]   40.7798   \n53048   [Swimming Pool, Doorman, Elevator, Fitness Cen...   40.7081   \n592     [Laundry in Building, Laundry in Unit, Dishwas...   40.7416   \n...                                                   ...       ...   \n25582                                           [No pets]   40.7653   \n50013   [Pre-War, Laundry in Unit, Dishwasher, Hardwoo...   40.7239   \n111475                                                 []   40.7437   \n71184   [Laundry in Unit, Dishwasher, Cats Allowed, Do...   40.7673   \n117473                                                 []   40.7765   \n\n        listing_id  longitude                        manager_id  \\\nid                                                                \n57094      7039994   -73.9918  4bdc3d8c1aaa90d997ce2cb77680679b   \n33389      7166774   -74.0322  e5808a5e6cc13988fe596704428d38d5   \n60458      6962716   -73.9751  d69d4e111612dd12ef864031c1148543   \n53048      7002458   -74.0065  e6472c7237327dd3903b3d6f6a94515a   \n592        7170465   -74.0025  6fba9b3a8327c607b8b043716efee684   \n...            ...        ...                               ...   \n25582      7166867   -73.9248  e6472c7237327dd3903b3d6f6a94515a   \n50013      6989251   -73.9901  5599e962719af3ccc2976855c2d5893c   \n111475     6905568   -73.9585  e6472c7237327dd3903b3d6f6a94515a   \n71184      7010187   -73.9866  6e5c10246156ae5bdcd9b487ca99d96a   \n117473     6824588   -73.9571  e0f4c69279ce5ae6421b39d46303554b   \n\n                                                   photos  price  \\\nid                                                                 \n57094   ['https://photos.renthop.com/2/7039994_07be01b...   4495   \n33389   ['https://photos.renthop.com/2/7166774_03cf63a...   2570   \n60458   ['https://photos.renthop.com/2/6962716_ec7f56f...   1795   \n53048   ['https://photos.renthop.com/2/7002458_93f4010...   3400   \n592     ['https://photos.renthop.com/2/7170465_9c3f173...   5695   \n...                                                   ...    ...   \n25582   ['https://photos.renthop.com/2/7166867_625fde3...   1950   \n50013   ['https://photos.renthop.com/2/6989251_42a4884...   2600   \n111475  ['https://photos.renthop.com/2/6905568_01602e3...   5110   \n71184   ['https://photos.renthop.com/2/7010187_ab1db5d...   3400   \n117473  ['https://photos.renthop.com/2/6824588_b997d59...   2950   \n\n              street_address  target  \nid                                    \n57094          W 50 & AVE 10  medium  \n33389   55 River Drive South  medium  \n60458         22 W 77 Street     low  \n53048        100 John Street     low  \n592     321 West 16th Street     low  \n...                      ...     ...  \n25582          30-95 29th St     low  \n50013            39 E 1st St  medium  \n111475      2-01 50th Avenue     low  \n71184   400 West 56th Street  medium  \n117473       158 E 82 Street  medium  \n\n[34546 rows x 15 columns]",
      "text/html": "<div>\n<style scoped>\n    .dataframe tbody tr th:only-of-type {\n        vertical-align: middle;\n    }\n\n    .dataframe tbody tr th {\n        vertical-align: top;\n    }\n\n    .dataframe thead th {\n        text-align: right;\n    }\n</style>\n<table border=\"1\" class=\"dataframe\">\n  <thead>\n    <tr style=\"text-align: right;\">\n      <th></th>\n      <th>bathrooms</th>\n      <th>bedrooms</th>\n      <th>building_id</th>\n      <th>created</th>\n      <th>description</th>\n      <th>display_address</th>\n      <th>features</th>\n      <th>latitude</th>\n      <th>listing_id</th>\n      <th>longitude</th>\n      <th>manager_id</th>\n      <th>photos</th>\n      <th>price</th>\n      <th>street_address</th>\n      <th>target</th>\n    </tr>\n    <tr>\n      <th>id</th>\n      <th></th>\n      <th></th>\n      <th></th>\n      <th></th>\n      <th></th>\n      <th></th>\n      <th></th>\n      <th></th>\n      <th></th>\n      <th></th>\n      <th></th>\n      <th></th>\n      <th></th>\n      <th></th>\n      <th></th>\n    </tr>\n  </thead>\n  <tbody>\n    <tr>\n      <th>57094</th>\n      <td>1.0</td>\n      <td>3</td>\n      <td>0</td>\n      <td>2016-05-19 18:06:27</td>\n      <td>A FABULOUS 3BR IN MIDTOWN WEST!   PERFECT APAR...</td>\n      <td>HOW AMAZING IS THIS MIDTOWN WEST STEAL!! NO FE...</td>\n      <td>[Laundry In Unit, No Fee, Elevator]</td>\n      <td>40.7647</td>\n      <td>7039994</td>\n      <td>-73.9918</td>\n      <td>4bdc3d8c1aaa90d997ce2cb77680679b</td>\n      <td>['https://photos.renthop.com/2/7039994_07be01b...</td>\n      <td>4495</td>\n      <td>W 50 &amp; AVE 10</td>\n      <td>medium</td>\n    </tr>\n    <tr>\n      <th>33389</th>\n      <td>1.0</td>\n      <td>1</td>\n      <td>9225efdfb57a50bf3ec17ebab082f94a</td>\n      <td>2016-06-16 02:01:49</td>\n      <td>Renovated Kitchen and Bathroom!</td>\n      <td>55 River Drive South</td>\n      <td>[Dogs Allowed, Cats Allowed, No Fee]</td>\n      <td>40.7275</td>\n      <td>7166774</td>\n      <td>-74.0322</td>\n      <td>e5808a5e6cc13988fe596704428d38d5</td>\n      <td>['https://photos.renthop.com/2/7166774_03cf63a...</td>\n      <td>2570</td>\n      <td>55 River Drive South</td>\n      <td>medium</td>\n    </tr>\n    <tr>\n      <th>60458</th>\n      <td>1.0</td>\n      <td>0</td>\n      <td>320de7d3cc88e50a7fbbcfde1e825d21</td>\n      <td>2016-05-04 02:42:50</td>\n      <td>RARE AND BEST DEAL ON THE MARKET!!!! PERFECT S...</td>\n      <td>W 77 Street</td>\n      <td>[Elevator, Hardwood Floors]</td>\n      <td>40.7798</td>\n      <td>6962716</td>\n      <td>-73.9751</td>\n      <td>d69d4e111612dd12ef864031c1148543</td>\n      <td>['https://photos.renthop.com/2/6962716_ec7f56f...</td>\n      <td>1795</td>\n      <td>22 W 77 Street</td>\n      <td>low</td>\n    </tr>\n    <tr>\n      <th>53048</th>\n      <td>1.0</td>\n      <td>2</td>\n      <td>ce6d18bf3238e668b2bf23f4110b7b67</td>\n      <td>2016-05-12 05:57:56</td>\n      <td>Newly renovated flex 2 apartment offers the ne...</td>\n      <td>John Street</td>\n      <td>[Swimming Pool, Doorman, Elevator, Fitness Cen...</td>\n      <td>40.7081</td>\n      <td>7002458</td>\n      <td>-74.0065</td>\n      <td>e6472c7237327dd3903b3d6f6a94515a</td>\n      <td>['https://photos.renthop.com/2/7002458_93f4010...</td>\n      <td>3400</td>\n      <td>100 John Street</td>\n      <td>low</td>\n    </tr>\n    <tr>\n      <th>592</th>\n      <td>1.0</td>\n      <td>3</td>\n      <td>fee4d465932160318364d9d48d272879</td>\n      <td>2016-06-16 06:06:15</td>\n      <td>LOW FEE apartments do not come around like thi...</td>\n      <td>West 16th Street</td>\n      <td>[Laundry in Building, Laundry in Unit, Dishwas...</td>\n      <td>40.7416</td>\n      <td>7170465</td>\n      <td>-74.0025</td>\n      <td>6fba9b3a8327c607b8b043716efee684</td>\n      <td>['https://photos.renthop.com/2/7170465_9c3f173...</td>\n      <td>5695</td>\n      <td>321 West 16th Street</td>\n      <td>low</td>\n    </tr>\n    <tr>\n      <th>...</th>\n      <td>...</td>\n      <td>...</td>\n      <td>...</td>\n      <td>...</td>\n      <td>...</td>\n      <td>...</td>\n      <td>...</td>\n      <td>...</td>\n      <td>...</td>\n      <td>...</td>\n      <td>...</td>\n      <td>...</td>\n      <td>...</td>\n      <td>...</td>\n      <td>...</td>\n    </tr>\n    <tr>\n      <th>25582</th>\n      <td>1.0</td>\n      <td>1</td>\n      <td>14fdc4b01ae44b025f6c4d28c9097e5f</td>\n      <td>2016-06-16 02:12:57</td>\n      <td>Newly renovated bedroom apartment located off ...</td>\n      <td>29th St</td>\n      <td>[No pets]</td>\n      <td>40.7653</td>\n      <td>7166867</td>\n      <td>-73.9248</td>\n      <td>e6472c7237327dd3903b3d6f6a94515a</td>\n      <td>['https://photos.renthop.com/2/7166867_625fde3...</td>\n      <td>1950</td>\n      <td>30-95 29th St</td>\n      <td>low</td>\n    </tr>\n    <tr>\n      <th>50013</th>\n      <td>1.0</td>\n      <td>0</td>\n      <td>9b6cf886379a2511f8c633c84028efe7</td>\n      <td>2016-05-10 03:17:32</td>\n      <td>All apartments are newly renovated featuring: ...</td>\n      <td>E 1st St</td>\n      <td>[Pre-War, Laundry in Unit, Dishwasher, Hardwoo...</td>\n      <td>40.7239</td>\n      <td>6989251</td>\n      <td>-73.9901</td>\n      <td>5599e962719af3ccc2976855c2d5893c</td>\n      <td>['https://photos.renthop.com/2/6989251_42a4884...</td>\n      <td>2600</td>\n      <td>39 E 1st St</td>\n      <td>medium</td>\n    </tr>\n    <tr>\n      <th>111475</th>\n      <td>2.0</td>\n      <td>2</td>\n      <td>0</td>\n      <td>2016-04-21 03:29:35</td>\n      <td>&lt;![CDATA[2 bedrooms, 5110, Astoria / Long Isla...</td>\n      <td>50th Avenue</td>\n      <td>[]</td>\n      <td>40.7437</td>\n      <td>6905568</td>\n      <td>-73.9585</td>\n      <td>e6472c7237327dd3903b3d6f6a94515a</td>\n      <td>['https://photos.renthop.com/2/6905568_01602e3...</td>\n      <td>5110</td>\n      <td>2-01 50th Avenue</td>\n      <td>low</td>\n    </tr>\n    <tr>\n      <th>71184</th>\n      <td>1.0</td>\n      <td>2</td>\n      <td>8754cae39f6e053974aa2337017eb3c1</td>\n      <td>2016-05-14 02:27:47</td>\n      <td>CooperCooper.com :: Listing ID #10_0385; 400 W...</td>\n      <td>400 West 56th Street</td>\n      <td>[Laundry in Unit, Dishwasher, Cats Allowed, Do...</td>\n      <td>40.7673</td>\n      <td>7010187</td>\n      <td>-73.9866</td>\n      <td>6e5c10246156ae5bdcd9b487ca99d96a</td>\n      <td>['https://photos.renthop.com/2/7010187_ab1db5d...</td>\n      <td>3400</td>\n      <td>400 West 56th Street</td>\n      <td>medium</td>\n    </tr>\n    <tr>\n      <th>117473</th>\n      <td>1.0</td>\n      <td>2</td>\n      <td>a068b783287190d47d1564ab4d898675</td>\n      <td>2016-04-05 03:35:52</td>\n      <td>Renovated two bedroom apartment with beautiful...</td>\n      <td>E 82 Street</td>\n      <td>[]</td>\n      <td>40.7765</td>\n      <td>6824588</td>\n      <td>-73.9571</td>\n      <td>e0f4c69279ce5ae6421b39d46303554b</td>\n      <td>['https://photos.renthop.com/2/6824588_b997d59...</td>\n      <td>2950</td>\n      <td>158 E 82 Street</td>\n      <td>medium</td>\n    </tr>\n  </tbody>\n</table>\n<p>34546 rows × 15 columns</p>\n</div>"
     },
     "metadata": {}
    }
   ],
   "source": [
    "df = pd.read_csv('train-2.csv', converters={'features': eval})\n",
    "df = df.rename(str.lower, axis='columns',)\n",
    "df = df.set_index('id')\n",
    "display(df)"
   ]
  },
  {
   "cell_type": "code",
   "execution_count": 72,
   "metadata": {},
   "outputs": [
    {
     "output_type": "display_data",
     "data": {
      "text/plain": "id\n57094     medium\n33389     medium\n60458        low\n53048        low\n592          low\n           ...  \n25582        low\n50013     medium\n111475       low\n71184     medium\n117473    medium\nName: target, Length: 34546, dtype: object"
     },
     "metadata": {}
    },
    {
     "output_type": "display_data",
     "data": {
      "text/plain": "        bathrooms  bedrooms                       building_id  \\\nid                                                              \n57094         1.0         3                                 0   \n33389         1.0         1  9225efdfb57a50bf3ec17ebab082f94a   \n60458         1.0         0  320de7d3cc88e50a7fbbcfde1e825d21   \n53048         1.0         2  ce6d18bf3238e668b2bf23f4110b7b67   \n592           1.0         3  fee4d465932160318364d9d48d272879   \n...           ...       ...                               ...   \n25582         1.0         1  14fdc4b01ae44b025f6c4d28c9097e5f   \n50013         1.0         0  9b6cf886379a2511f8c633c84028efe7   \n111475        2.0         2                                 0   \n71184         1.0         2  8754cae39f6e053974aa2337017eb3c1   \n117473        1.0         2  a068b783287190d47d1564ab4d898675   \n\n                    created  \\\nid                            \n57094   2016-05-19 18:06:27   \n33389   2016-06-16 02:01:49   \n60458   2016-05-04 02:42:50   \n53048   2016-05-12 05:57:56   \n592     2016-06-16 06:06:15   \n...                     ...   \n25582   2016-06-16 02:12:57   \n50013   2016-05-10 03:17:32   \n111475  2016-04-21 03:29:35   \n71184   2016-05-14 02:27:47   \n117473  2016-04-05 03:35:52   \n\n                                              description  \\\nid                                                          \n57094   A FABULOUS 3BR IN MIDTOWN WEST!   PERFECT APAR...   \n33389                     Renovated Kitchen and Bathroom!   \n60458   RARE AND BEST DEAL ON THE MARKET!!!! PERFECT S...   \n53048   Newly renovated flex 2 apartment offers the ne...   \n592     LOW FEE apartments do not come around like thi...   \n...                                                   ...   \n25582   Newly renovated bedroom apartment located off ...   \n50013   All apartments are newly renovated featuring: ...   \n111475  <![CDATA[2 bedrooms, 5110, Astoria / Long Isla...   \n71184   CooperCooper.com :: Listing ID #10_0385; 400 W...   \n117473  Renovated two bedroom apartment with beautiful...   \n\n                                          display_address  \\\nid                                                          \n57094   HOW AMAZING IS THIS MIDTOWN WEST STEAL!! NO FE...   \n33389                                55 River Drive South   \n60458                                         W 77 Street   \n53048                                         John Street   \n592                                      West 16th Street   \n...                                                   ...   \n25582                                             29th St   \n50013                                            E 1st St   \n111475                                        50th Avenue   \n71184                                400 West 56th Street   \n117473                                        E 82 Street   \n\n                                                 features  latitude  \\\nid                                                                    \n57094                 [Laundry In Unit, No Fee, Elevator]   40.7647   \n33389                [Dogs Allowed, Cats Allowed, No Fee]   40.7275   \n60458                         [Elevator, Hardwood Floors]   40.7798   \n53048   [Swimming Pool, Doorman, Elevator, Fitness Cen...   40.7081   \n592     [Laundry in Building, Laundry in Unit, Dishwas...   40.7416   \n...                                                   ...       ...   \n25582                                           [No pets]   40.7653   \n50013   [Pre-War, Laundry in Unit, Dishwasher, Hardwoo...   40.7239   \n111475                                                 []   40.7437   \n71184   [Laundry in Unit, Dishwasher, Cats Allowed, Do...   40.7673   \n117473                                                 []   40.7765   \n\n        listing_id  longitude                        manager_id  \\\nid                                                                \n57094      7039994   -73.9918  4bdc3d8c1aaa90d997ce2cb77680679b   \n33389      7166774   -74.0322  e5808a5e6cc13988fe596704428d38d5   \n60458      6962716   -73.9751  d69d4e111612dd12ef864031c1148543   \n53048      7002458   -74.0065  e6472c7237327dd3903b3d6f6a94515a   \n592        7170465   -74.0025  6fba9b3a8327c607b8b043716efee684   \n...            ...        ...                               ...   \n25582      7166867   -73.9248  e6472c7237327dd3903b3d6f6a94515a   \n50013      6989251   -73.9901  5599e962719af3ccc2976855c2d5893c   \n111475     6905568   -73.9585  e6472c7237327dd3903b3d6f6a94515a   \n71184      7010187   -73.9866  6e5c10246156ae5bdcd9b487ca99d96a   \n117473     6824588   -73.9571  e0f4c69279ce5ae6421b39d46303554b   \n\n                                                   photos  price  \\\nid                                                                 \n57094   ['https://photos.renthop.com/2/7039994_07be01b...   4495   \n33389   ['https://photos.renthop.com/2/7166774_03cf63a...   2570   \n60458   ['https://photos.renthop.com/2/6962716_ec7f56f...   1795   \n53048   ['https://photos.renthop.com/2/7002458_93f4010...   3400   \n592     ['https://photos.renthop.com/2/7170465_9c3f173...   5695   \n...                                                   ...    ...   \n25582   ['https://photos.renthop.com/2/7166867_625fde3...   1950   \n50013   ['https://photos.renthop.com/2/6989251_42a4884...   2600   \n111475  ['https://photos.renthop.com/2/6905568_01602e3...   5110   \n71184   ['https://photos.renthop.com/2/7010187_ab1db5d...   3400   \n117473  ['https://photos.renthop.com/2/6824588_b997d59...   2950   \n\n              street_address  \nid                            \n57094          W 50 & AVE 10  \n33389   55 River Drive South  \n60458         22 W 77 Street  \n53048        100 John Street  \n592     321 West 16th Street  \n...                      ...  \n25582          30-95 29th St  \n50013            39 E 1st St  \n111475      2-01 50th Avenue  \n71184   400 West 56th Street  \n117473       158 E 82 Street  \n\n[34546 rows x 14 columns]",
      "text/html": "<div>\n<style scoped>\n    .dataframe tbody tr th:only-of-type {\n        vertical-align: middle;\n    }\n\n    .dataframe tbody tr th {\n        vertical-align: top;\n    }\n\n    .dataframe thead th {\n        text-align: right;\n    }\n</style>\n<table border=\"1\" class=\"dataframe\">\n  <thead>\n    <tr style=\"text-align: right;\">\n      <th></th>\n      <th>bathrooms</th>\n      <th>bedrooms</th>\n      <th>building_id</th>\n      <th>created</th>\n      <th>description</th>\n      <th>display_address</th>\n      <th>features</th>\n      <th>latitude</th>\n      <th>listing_id</th>\n      <th>longitude</th>\n      <th>manager_id</th>\n      <th>photos</th>\n      <th>price</th>\n      <th>street_address</th>\n    </tr>\n    <tr>\n      <th>id</th>\n      <th></th>\n      <th></th>\n      <th></th>\n      <th></th>\n      <th></th>\n      <th></th>\n      <th></th>\n      <th></th>\n      <th></th>\n      <th></th>\n      <th></th>\n      <th></th>\n      <th></th>\n      <th></th>\n    </tr>\n  </thead>\n  <tbody>\n    <tr>\n      <th>57094</th>\n      <td>1.0</td>\n      <td>3</td>\n      <td>0</td>\n      <td>2016-05-19 18:06:27</td>\n      <td>A FABULOUS 3BR IN MIDTOWN WEST!   PERFECT APAR...</td>\n      <td>HOW AMAZING IS THIS MIDTOWN WEST STEAL!! NO FE...</td>\n      <td>[Laundry In Unit, No Fee, Elevator]</td>\n      <td>40.7647</td>\n      <td>7039994</td>\n      <td>-73.9918</td>\n      <td>4bdc3d8c1aaa90d997ce2cb77680679b</td>\n      <td>['https://photos.renthop.com/2/7039994_07be01b...</td>\n      <td>4495</td>\n      <td>W 50 &amp; AVE 10</td>\n    </tr>\n    <tr>\n      <th>33389</th>\n      <td>1.0</td>\n      <td>1</td>\n      <td>9225efdfb57a50bf3ec17ebab082f94a</td>\n      <td>2016-06-16 02:01:49</td>\n      <td>Renovated Kitchen and Bathroom!</td>\n      <td>55 River Drive South</td>\n      <td>[Dogs Allowed, Cats Allowed, No Fee]</td>\n      <td>40.7275</td>\n      <td>7166774</td>\n      <td>-74.0322</td>\n      <td>e5808a5e6cc13988fe596704428d38d5</td>\n      <td>['https://photos.renthop.com/2/7166774_03cf63a...</td>\n      <td>2570</td>\n      <td>55 River Drive South</td>\n    </tr>\n    <tr>\n      <th>60458</th>\n      <td>1.0</td>\n      <td>0</td>\n      <td>320de7d3cc88e50a7fbbcfde1e825d21</td>\n      <td>2016-05-04 02:42:50</td>\n      <td>RARE AND BEST DEAL ON THE MARKET!!!! PERFECT S...</td>\n      <td>W 77 Street</td>\n      <td>[Elevator, Hardwood Floors]</td>\n      <td>40.7798</td>\n      <td>6962716</td>\n      <td>-73.9751</td>\n      <td>d69d4e111612dd12ef864031c1148543</td>\n      <td>['https://photos.renthop.com/2/6962716_ec7f56f...</td>\n      <td>1795</td>\n      <td>22 W 77 Street</td>\n    </tr>\n    <tr>\n      <th>53048</th>\n      <td>1.0</td>\n      <td>2</td>\n      <td>ce6d18bf3238e668b2bf23f4110b7b67</td>\n      <td>2016-05-12 05:57:56</td>\n      <td>Newly renovated flex 2 apartment offers the ne...</td>\n      <td>John Street</td>\n      <td>[Swimming Pool, Doorman, Elevator, Fitness Cen...</td>\n      <td>40.7081</td>\n      <td>7002458</td>\n      <td>-74.0065</td>\n      <td>e6472c7237327dd3903b3d6f6a94515a</td>\n      <td>['https://photos.renthop.com/2/7002458_93f4010...</td>\n      <td>3400</td>\n      <td>100 John Street</td>\n    </tr>\n    <tr>\n      <th>592</th>\n      <td>1.0</td>\n      <td>3</td>\n      <td>fee4d465932160318364d9d48d272879</td>\n      <td>2016-06-16 06:06:15</td>\n      <td>LOW FEE apartments do not come around like thi...</td>\n      <td>West 16th Street</td>\n      <td>[Laundry in Building, Laundry in Unit, Dishwas...</td>\n      <td>40.7416</td>\n      <td>7170465</td>\n      <td>-74.0025</td>\n      <td>6fba9b3a8327c607b8b043716efee684</td>\n      <td>['https://photos.renthop.com/2/7170465_9c3f173...</td>\n      <td>5695</td>\n      <td>321 West 16th Street</td>\n    </tr>\n    <tr>\n      <th>...</th>\n      <td>...</td>\n      <td>...</td>\n      <td>...</td>\n      <td>...</td>\n      <td>...</td>\n      <td>...</td>\n      <td>...</td>\n      <td>...</td>\n      <td>...</td>\n      <td>...</td>\n      <td>...</td>\n      <td>...</td>\n      <td>...</td>\n      <td>...</td>\n    </tr>\n    <tr>\n      <th>25582</th>\n      <td>1.0</td>\n      <td>1</td>\n      <td>14fdc4b01ae44b025f6c4d28c9097e5f</td>\n      <td>2016-06-16 02:12:57</td>\n      <td>Newly renovated bedroom apartment located off ...</td>\n      <td>29th St</td>\n      <td>[No pets]</td>\n      <td>40.7653</td>\n      <td>7166867</td>\n      <td>-73.9248</td>\n      <td>e6472c7237327dd3903b3d6f6a94515a</td>\n      <td>['https://photos.renthop.com/2/7166867_625fde3...</td>\n      <td>1950</td>\n      <td>30-95 29th St</td>\n    </tr>\n    <tr>\n      <th>50013</th>\n      <td>1.0</td>\n      <td>0</td>\n      <td>9b6cf886379a2511f8c633c84028efe7</td>\n      <td>2016-05-10 03:17:32</td>\n      <td>All apartments are newly renovated featuring: ...</td>\n      <td>E 1st St</td>\n      <td>[Pre-War, Laundry in Unit, Dishwasher, Hardwoo...</td>\n      <td>40.7239</td>\n      <td>6989251</td>\n      <td>-73.9901</td>\n      <td>5599e962719af3ccc2976855c2d5893c</td>\n      <td>['https://photos.renthop.com/2/6989251_42a4884...</td>\n      <td>2600</td>\n      <td>39 E 1st St</td>\n    </tr>\n    <tr>\n      <th>111475</th>\n      <td>2.0</td>\n      <td>2</td>\n      <td>0</td>\n      <td>2016-04-21 03:29:35</td>\n      <td>&lt;![CDATA[2 bedrooms, 5110, Astoria / Long Isla...</td>\n      <td>50th Avenue</td>\n      <td>[]</td>\n      <td>40.7437</td>\n      <td>6905568</td>\n      <td>-73.9585</td>\n      <td>e6472c7237327dd3903b3d6f6a94515a</td>\n      <td>['https://photos.renthop.com/2/6905568_01602e3...</td>\n      <td>5110</td>\n      <td>2-01 50th Avenue</td>\n    </tr>\n    <tr>\n      <th>71184</th>\n      <td>1.0</td>\n      <td>2</td>\n      <td>8754cae39f6e053974aa2337017eb3c1</td>\n      <td>2016-05-14 02:27:47</td>\n      <td>CooperCooper.com :: Listing ID #10_0385; 400 W...</td>\n      <td>400 West 56th Street</td>\n      <td>[Laundry in Unit, Dishwasher, Cats Allowed, Do...</td>\n      <td>40.7673</td>\n      <td>7010187</td>\n      <td>-73.9866</td>\n      <td>6e5c10246156ae5bdcd9b487ca99d96a</td>\n      <td>['https://photos.renthop.com/2/7010187_ab1db5d...</td>\n      <td>3400</td>\n      <td>400 West 56th Street</td>\n    </tr>\n    <tr>\n      <th>117473</th>\n      <td>1.0</td>\n      <td>2</td>\n      <td>a068b783287190d47d1564ab4d898675</td>\n      <td>2016-04-05 03:35:52</td>\n      <td>Renovated two bedroom apartment with beautiful...</td>\n      <td>E 82 Street</td>\n      <td>[]</td>\n      <td>40.7765</td>\n      <td>6824588</td>\n      <td>-73.9571</td>\n      <td>e0f4c69279ce5ae6421b39d46303554b</td>\n      <td>['https://photos.renthop.com/2/6824588_b997d59...</td>\n      <td>2950</td>\n      <td>158 E 82 Street</td>\n    </tr>\n  </tbody>\n</table>\n<p>34546 rows × 14 columns</p>\n</div>"
     },
     "metadata": {}
    }
   ],
   "source": [
    "y = df['target']\n",
    "display(y)\n",
    "X = df.drop(['target'], axis=1)\n",
    "display(X)\n"
   ]
  },
  {
   "cell_type": "code",
   "execution_count": 73,
   "metadata": {},
   "outputs": [
    {
     "output_type": "display_data",
     "data": {
      "text/plain": "(34546, 15)"
     },
     "metadata": {}
    },
    {
     "output_type": "stream",
     "name": "stdout",
     "text": [
      "<class 'pandas.core.frame.DataFrame'>\nInt64Index: 34546 entries, 57094 to 117473\nData columns (total 15 columns):\n #   Column           Non-Null Count  Dtype  \n---  ------           --------------  -----  \n 0   bathrooms        34546 non-null  float64\n 1   bedrooms         34546 non-null  int64  \n 2   building_id      34546 non-null  object \n 3   created          34546 non-null  object \n 4   description      33509 non-null  object \n 5   display_address  34458 non-null  object \n 6   features         34546 non-null  object \n 7   latitude         34546 non-null  float64\n 8   listing_id       34546 non-null  int64  \n 9   longitude        34546 non-null  float64\n 10  manager_id       34546 non-null  object \n 11  photos           34546 non-null  object \n 12  price            34546 non-null  int64  \n 13  street_address   34542 non-null  object \n 14  target           34546 non-null  object \ndtypes: float64(3), int64(3), object(9)\nmemory usage: 4.2+ MB\n"
     ]
    },
    {
     "output_type": "display_data",
     "data": {
      "text/plain": "None"
     },
     "metadata": {}
    },
    {
     "output_type": "display_data",
     "data": {
      "text/plain": "bathrooms             0\nbedrooms              0\nbuilding_id           0\ncreated               0\ndescription        1037\ndisplay_address      88\nfeatures              0\nlatitude              0\nlisting_id            0\nlongitude             0\nmanager_id            0\nphotos                0\nprice                 0\nstreet_address        4\ntarget                0\ndtype: int64"
     },
     "metadata": {}
    }
   ],
   "source": [
    "display(df.shape)\n",
    "display(df.info())\n",
    "display(df.isna().sum())"
   ]
  },
  {
   "cell_type": "code",
   "execution_count": 74,
   "metadata": {},
   "outputs": [
    {
     "output_type": "display_data",
     "data": {
      "text/plain": "        bathrooms  bedrooms                       building_id  \\\nid                                                              \n60458         1.0         0  320de7d3cc88e50a7fbbcfde1e825d21   \n53048         1.0         2  ce6d18bf3238e668b2bf23f4110b7b67   \n592           1.0         3  fee4d465932160318364d9d48d272879   \n12930         1.0         2                                 0   \n103527        1.0         1  3269c2bdbbca7846582de8a174462ced   \n...           ...       ...                               ...   \n66346         1.0         1  96274288c84ddd7d5c5d8e425ee75027   \n19753         1.0         3  1e6d49d4f0a9cf6b8985cc3f80bfc555   \n77858         1.0         1  d395becfad736011bb53155300eb238c   \n25582         1.0         1  14fdc4b01ae44b025f6c4d28c9097e5f   \n111475        2.0         2                                 0   \n\n                    created  \\\nid                            \n60458   2016-05-04 02:42:50   \n53048   2016-05-12 05:57:56   \n592     2016-06-16 06:06:15   \n12930   2016-06-14 01:18:27   \n103527  2016-04-09 04:39:21   \n...                     ...   \n66346   2016-05-09 02:37:17   \n19753   2016-06-12 12:32:12   \n77858   2016-05-28 05:34:00   \n25582   2016-06-16 02:12:57   \n111475  2016-04-21 03:29:35   \n\n                                              description   display_address  \\\nid                                                                            \n60458   RARE AND BEST DEAL ON THE MARKET!!!! PERFECT S...       W 77 Street   \n53048   Newly renovated flex 2 apartment offers the ne...       John Street   \n592     LOW FEE apartments do not come around like thi...  West 16th Street   \n12930   What is Lorem Ipsum?Lorem Ipsum is simply dumm...  East 11th Street   \n103527  Experience living in one of the best neighborh...  East 94th Street   \n...                                                   ...               ...   \n66346   Bicycle Room, Common Outdoor Space, Concierge,...          37th St.   \n19753           Spacious NO BROKER FEE 3 Bed in Prewar...     West 162nd St   \n77858   Location, Location, Location!!! If the perfect...       John Street   \n25582   Newly renovated bedroom apartment located off ...           29th St   \n111475  <![CDATA[2 bedrooms, 5110, Astoria / Long Isla...       50th Avenue   \n\n                                                 features  latitude  \\\nid                                                                    \n60458                         [Elevator, Hardwood Floors]   40.7798   \n53048   [Swimming Pool, Doorman, Elevator, Fitness Cen...   40.7081   \n592     [Laundry in Building, Laundry in Unit, Dishwas...   40.7416   \n12930               [Pre-War, Dogs Allowed, Cats Allowed]   40.7278   \n103527    [Pre-War, Laundry in Building, Hardwood Floors]   40.7821   \n...                                                   ...       ...   \n66346   [Roof Deck, Dining Room, Balcony, Doorman, Ele...   40.7568   \n19753                                  [Elevator, No Fee]   40.8369   \n77858   [Doorman, Elevator, Fitness Center, Laundry in...   40.7083   \n25582                                           [No pets]   40.7653   \n111475                                                 []   40.7437   \n\n        listing_id  longitude                        manager_id  \\\nid                                                                \n60458      6962716   -73.9751  d69d4e111612dd12ef864031c1148543   \n53048      7002458   -74.0065  e6472c7237327dd3903b3d6f6a94515a   \n592        7170465   -74.0025  6fba9b3a8327c607b8b043716efee684   \n12930      7156298   -73.9809  70c9035cc23844487e1754b0d58577f5   \n103527     6849297   -73.9464  d2bce61e0e0079ebdc8c281e415e045b   \n...            ...        ...                               ...   \n66346      6985126   -73.9982  fa941827e1bb92613bece9a0a4494eee   \n19753      7151135   -73.9423  1ac657b9ded17ede9421ff43501f6e71   \n77858      7080474   -74.0061  2aa9bfa5f67ed9997ea341dee8a3a271   \n25582      7166867   -73.9248  e6472c7237327dd3903b3d6f6a94515a   \n111475     6905568   -73.9585  e6472c7237327dd3903b3d6f6a94515a   \n\n                                                   photos  price  \\\nid                                                                 \n60458   ['https://photos.renthop.com/2/6962716_ec7f56f...   1795   \n53048   ['https://photos.renthop.com/2/7002458_93f4010...   3400   \n592     ['https://photos.renthop.com/2/7170465_9c3f173...   5695   \n12930                                                  []   3490   \n103527  ['https://photos.renthop.com/2/6849297_789d89f...   1900   \n...                                                   ...    ...   \n66346   ['https://photos.renthop.com/2/6985126_c58dc10...   3900   \n19753                                                  []   3395   \n77858   ['https://photos.renthop.com/2/7080474_8a885a4...   2600   \n25582   ['https://photos.renthop.com/2/7166867_625fde3...   1950   \n111475  ['https://photos.renthop.com/2/6905568_01602e3...   5110   \n\n              street_address target  \nid                                   \n60458         22 W 77 Street    low  \n53048        100 John Street    low  \n592     321 West 16th Street    low  \n12930   520 East 11th Street    low  \n103527  334 East 94th Street    low  \n...                      ...    ...  \n66346           505 37th St.    low  \n19753      566 West 162nd St    low  \n77858         99 John Street    low  \n25582          30-95 29th St    low  \n111475      2-01 50th Avenue    low  \n\n[23999 rows x 15 columns]",
      "text/html": "<div>\n<style scoped>\n    .dataframe tbody tr th:only-of-type {\n        vertical-align: middle;\n    }\n\n    .dataframe tbody tr th {\n        vertical-align: top;\n    }\n\n    .dataframe thead th {\n        text-align: right;\n    }\n</style>\n<table border=\"1\" class=\"dataframe\">\n  <thead>\n    <tr style=\"text-align: right;\">\n      <th></th>\n      <th>bathrooms</th>\n      <th>bedrooms</th>\n      <th>building_id</th>\n      <th>created</th>\n      <th>description</th>\n      <th>display_address</th>\n      <th>features</th>\n      <th>latitude</th>\n      <th>listing_id</th>\n      <th>longitude</th>\n      <th>manager_id</th>\n      <th>photos</th>\n      <th>price</th>\n      <th>street_address</th>\n      <th>target</th>\n    </tr>\n    <tr>\n      <th>id</th>\n      <th></th>\n      <th></th>\n      <th></th>\n      <th></th>\n      <th></th>\n      <th></th>\n      <th></th>\n      <th></th>\n      <th></th>\n      <th></th>\n      <th></th>\n      <th></th>\n      <th></th>\n      <th></th>\n      <th></th>\n    </tr>\n  </thead>\n  <tbody>\n    <tr>\n      <th>60458</th>\n      <td>1.0</td>\n      <td>0</td>\n      <td>320de7d3cc88e50a7fbbcfde1e825d21</td>\n      <td>2016-05-04 02:42:50</td>\n      <td>RARE AND BEST DEAL ON THE MARKET!!!! PERFECT S...</td>\n      <td>W 77 Street</td>\n      <td>[Elevator, Hardwood Floors]</td>\n      <td>40.7798</td>\n      <td>6962716</td>\n      <td>-73.9751</td>\n      <td>d69d4e111612dd12ef864031c1148543</td>\n      <td>['https://photos.renthop.com/2/6962716_ec7f56f...</td>\n      <td>1795</td>\n      <td>22 W 77 Street</td>\n      <td>low</td>\n    </tr>\n    <tr>\n      <th>53048</th>\n      <td>1.0</td>\n      <td>2</td>\n      <td>ce6d18bf3238e668b2bf23f4110b7b67</td>\n      <td>2016-05-12 05:57:56</td>\n      <td>Newly renovated flex 2 apartment offers the ne...</td>\n      <td>John Street</td>\n      <td>[Swimming Pool, Doorman, Elevator, Fitness Cen...</td>\n      <td>40.7081</td>\n      <td>7002458</td>\n      <td>-74.0065</td>\n      <td>e6472c7237327dd3903b3d6f6a94515a</td>\n      <td>['https://photos.renthop.com/2/7002458_93f4010...</td>\n      <td>3400</td>\n      <td>100 John Street</td>\n      <td>low</td>\n    </tr>\n    <tr>\n      <th>592</th>\n      <td>1.0</td>\n      <td>3</td>\n      <td>fee4d465932160318364d9d48d272879</td>\n      <td>2016-06-16 06:06:15</td>\n      <td>LOW FEE apartments do not come around like thi...</td>\n      <td>West 16th Street</td>\n      <td>[Laundry in Building, Laundry in Unit, Dishwas...</td>\n      <td>40.7416</td>\n      <td>7170465</td>\n      <td>-74.0025</td>\n      <td>6fba9b3a8327c607b8b043716efee684</td>\n      <td>['https://photos.renthop.com/2/7170465_9c3f173...</td>\n      <td>5695</td>\n      <td>321 West 16th Street</td>\n      <td>low</td>\n    </tr>\n    <tr>\n      <th>12930</th>\n      <td>1.0</td>\n      <td>2</td>\n      <td>0</td>\n      <td>2016-06-14 01:18:27</td>\n      <td>What is Lorem Ipsum?Lorem Ipsum is simply dumm...</td>\n      <td>East 11th Street</td>\n      <td>[Pre-War, Dogs Allowed, Cats Allowed]</td>\n      <td>40.7278</td>\n      <td>7156298</td>\n      <td>-73.9809</td>\n      <td>70c9035cc23844487e1754b0d58577f5</td>\n      <td>[]</td>\n      <td>3490</td>\n      <td>520 East 11th Street</td>\n      <td>low</td>\n    </tr>\n    <tr>\n      <th>103527</th>\n      <td>1.0</td>\n      <td>1</td>\n      <td>3269c2bdbbca7846582de8a174462ced</td>\n      <td>2016-04-09 04:39:21</td>\n      <td>Experience living in one of the best neighborh...</td>\n      <td>East 94th Street</td>\n      <td>[Pre-War, Laundry in Building, Hardwood Floors]</td>\n      <td>40.7821</td>\n      <td>6849297</td>\n      <td>-73.9464</td>\n      <td>d2bce61e0e0079ebdc8c281e415e045b</td>\n      <td>['https://photos.renthop.com/2/6849297_789d89f...</td>\n      <td>1900</td>\n      <td>334 East 94th Street</td>\n      <td>low</td>\n    </tr>\n    <tr>\n      <th>...</th>\n      <td>...</td>\n      <td>...</td>\n      <td>...</td>\n      <td>...</td>\n      <td>...</td>\n      <td>...</td>\n      <td>...</td>\n      <td>...</td>\n      <td>...</td>\n      <td>...</td>\n      <td>...</td>\n      <td>...</td>\n      <td>...</td>\n      <td>...</td>\n      <td>...</td>\n    </tr>\n    <tr>\n      <th>66346</th>\n      <td>1.0</td>\n      <td>1</td>\n      <td>96274288c84ddd7d5c5d8e425ee75027</td>\n      <td>2016-05-09 02:37:17</td>\n      <td>Bicycle Room, Common Outdoor Space, Concierge,...</td>\n      <td>37th St.</td>\n      <td>[Roof Deck, Dining Room, Balcony, Doorman, Ele...</td>\n      <td>40.7568</td>\n      <td>6985126</td>\n      <td>-73.9982</td>\n      <td>fa941827e1bb92613bece9a0a4494eee</td>\n      <td>['https://photos.renthop.com/2/6985126_c58dc10...</td>\n      <td>3900</td>\n      <td>505 37th St.</td>\n      <td>low</td>\n    </tr>\n    <tr>\n      <th>19753</th>\n      <td>1.0</td>\n      <td>3</td>\n      <td>1e6d49d4f0a9cf6b8985cc3f80bfc555</td>\n      <td>2016-06-12 12:32:12</td>\n      <td>Spacious NO BROKER FEE 3 Bed in Prewar...</td>\n      <td>West 162nd St</td>\n      <td>[Elevator, No Fee]</td>\n      <td>40.8369</td>\n      <td>7151135</td>\n      <td>-73.9423</td>\n      <td>1ac657b9ded17ede9421ff43501f6e71</td>\n      <td>[]</td>\n      <td>3395</td>\n      <td>566 West 162nd St</td>\n      <td>low</td>\n    </tr>\n    <tr>\n      <th>77858</th>\n      <td>1.0</td>\n      <td>1</td>\n      <td>d395becfad736011bb53155300eb238c</td>\n      <td>2016-05-28 05:34:00</td>\n      <td>Location, Location, Location!!! If the perfect...</td>\n      <td>John Street</td>\n      <td>[Doorman, Elevator, Fitness Center, Laundry in...</td>\n      <td>40.7083</td>\n      <td>7080474</td>\n      <td>-74.0061</td>\n      <td>2aa9bfa5f67ed9997ea341dee8a3a271</td>\n      <td>['https://photos.renthop.com/2/7080474_8a885a4...</td>\n      <td>2600</td>\n      <td>99 John Street</td>\n      <td>low</td>\n    </tr>\n    <tr>\n      <th>25582</th>\n      <td>1.0</td>\n      <td>1</td>\n      <td>14fdc4b01ae44b025f6c4d28c9097e5f</td>\n      <td>2016-06-16 02:12:57</td>\n      <td>Newly renovated bedroom apartment located off ...</td>\n      <td>29th St</td>\n      <td>[No pets]</td>\n      <td>40.7653</td>\n      <td>7166867</td>\n      <td>-73.9248</td>\n      <td>e6472c7237327dd3903b3d6f6a94515a</td>\n      <td>['https://photos.renthop.com/2/7166867_625fde3...</td>\n      <td>1950</td>\n      <td>30-95 29th St</td>\n      <td>low</td>\n    </tr>\n    <tr>\n      <th>111475</th>\n      <td>2.0</td>\n      <td>2</td>\n      <td>0</td>\n      <td>2016-04-21 03:29:35</td>\n      <td>&lt;![CDATA[2 bedrooms, 5110, Astoria / Long Isla...</td>\n      <td>50th Avenue</td>\n      <td>[]</td>\n      <td>40.7437</td>\n      <td>6905568</td>\n      <td>-73.9585</td>\n      <td>e6472c7237327dd3903b3d6f6a94515a</td>\n      <td>['https://photos.renthop.com/2/6905568_01602e3...</td>\n      <td>5110</td>\n      <td>2-01 50th Avenue</td>\n      <td>low</td>\n    </tr>\n  </tbody>\n</table>\n<p>23999 rows × 15 columns</p>\n</div>"
     },
     "metadata": {}
    }
   ],
   "source": [
    "display(df[df['target'] == 'low'])"
   ]
  },
  {
   "cell_type": "code",
   "execution_count": 75,
   "metadata": {},
   "outputs": [
    {
     "output_type": "display_data",
     "data": {
      "text/plain": "'high: 7.778035083656574%'"
     },
     "metadata": {}
    },
    {
     "output_type": "display_data",
     "data": {
      "text/plain": "'medium: 22.752272332542116%'"
     },
     "metadata": {}
    },
    {
     "output_type": "display_data",
     "data": {
      "text/plain": "'low: 69.4696925838013%'"
     },
     "metadata": {}
    }
   ],
   "source": [
    "high_percent = len(df[df['target'] == 'high']) * 100 / len(df)\n",
    "medium_percent = len(df[df['target'] == 'medium']) * 100 / len(df)\n",
    "low_percent = len(df[df['target'] == 'low']) * 100 / len(df)\n",
    "display(f\"high: {high_percent}%\")\n",
    "display(f\"medium: {medium_percent}%\")\n",
    "display(f\"low: {low_percent}%\")\n"
   ]
  },
  {
   "cell_type": "code",
   "execution_count": 76,
   "metadata": {},
   "outputs": [
    {
     "output_type": "execute_result",
     "data": {
      "text/plain": [
       "       bathrooms  bedrooms                       building_id  \\\n",
       "id                                                             \n",
       "57094        1.0         3                                 0   \n",
       "33389        1.0         1  9225efdfb57a50bf3ec17ebab082f94a   \n",
       "60458        1.0         0  320de7d3cc88e50a7fbbcfde1e825d21   \n",
       "53048        1.0         2  ce6d18bf3238e668b2bf23f4110b7b67   \n",
       "592          1.0         3  fee4d465932160318364d9d48d272879   \n",
       "\n",
       "                   created                                        description  \\\n",
       "id                                                                              \n",
       "57094  2016-05-19 18:06:27  A FABULOUS 3BR IN MIDTOWN WEST!   PERFECT APAR...   \n",
       "33389  2016-06-16 02:01:49                    Renovated Kitchen and Bathroom!   \n",
       "60458  2016-05-04 02:42:50  RARE AND BEST DEAL ON THE MARKET!!!! PERFECT S...   \n",
       "53048  2016-05-12 05:57:56  Newly renovated flex 2 apartment offers the ne...   \n",
       "592    2016-06-16 06:06:15  LOW FEE apartments do not come around like thi...   \n",
       "\n",
       "                                         display_address  \\\n",
       "id                                                         \n",
       "57094  HOW AMAZING IS THIS MIDTOWN WEST STEAL!! NO FE...   \n",
       "33389                               55 River Drive South   \n",
       "60458                                        W 77 Street   \n",
       "53048                                        John Street   \n",
       "592                                     West 16th Street   \n",
       "\n",
       "                                                features  latitude  \\\n",
       "id                                                                   \n",
       "57094                [Laundry In Unit, No Fee, Elevator]   40.7647   \n",
       "33389               [Dogs Allowed, Cats Allowed, No Fee]   40.7275   \n",
       "60458                        [Elevator, Hardwood Floors]   40.7798   \n",
       "53048  [Swimming Pool, Doorman, Elevator, Fitness Cen...   40.7081   \n",
       "592    [Laundry in Building, Laundry in Unit, Dishwas...   40.7416   \n",
       "\n",
       "       listing_id  longitude                        manager_id  \\\n",
       "id                                                               \n",
       "57094     7039994   -73.9918  4bdc3d8c1aaa90d997ce2cb77680679b   \n",
       "33389     7166774   -74.0322  e5808a5e6cc13988fe596704428d38d5   \n",
       "60458     6962716   -73.9751  d69d4e111612dd12ef864031c1148543   \n",
       "53048     7002458   -74.0065  e6472c7237327dd3903b3d6f6a94515a   \n",
       "592       7170465   -74.0025  6fba9b3a8327c607b8b043716efee684   \n",
       "\n",
       "                                                  photos  price  \\\n",
       "id                                                                \n",
       "57094  ['https://photos.renthop.com/2/7039994_07be01b...   4495   \n",
       "33389  ['https://photos.renthop.com/2/7166774_03cf63a...   2570   \n",
       "60458  ['https://photos.renthop.com/2/6962716_ec7f56f...   1795   \n",
       "53048  ['https://photos.renthop.com/2/7002458_93f4010...   3400   \n",
       "592    ['https://photos.renthop.com/2/7170465_9c3f173...   5695   \n",
       "\n",
       "             street_address  target  temp_target  \n",
       "id                                                \n",
       "57094         W 50 & AVE 10  medium    92.221965  \n",
       "33389  55 River Drive South  medium    92.221965  \n",
       "60458        22 W 77 Street     low    69.469693  \n",
       "53048       100 John Street     low    69.469693  \n",
       "592    321 West 16th Street     low    69.469693  "
      ],
      "text/html": "<div>\n<style scoped>\n    .dataframe tbody tr th:only-of-type {\n        vertical-align: middle;\n    }\n\n    .dataframe tbody tr th {\n        vertical-align: top;\n    }\n\n    .dataframe thead th {\n        text-align: right;\n    }\n</style>\n<table border=\"1\" class=\"dataframe\">\n  <thead>\n    <tr style=\"text-align: right;\">\n      <th></th>\n      <th>bathrooms</th>\n      <th>bedrooms</th>\n      <th>building_id</th>\n      <th>created</th>\n      <th>description</th>\n      <th>display_address</th>\n      <th>features</th>\n      <th>latitude</th>\n      <th>listing_id</th>\n      <th>longitude</th>\n      <th>manager_id</th>\n      <th>photos</th>\n      <th>price</th>\n      <th>street_address</th>\n      <th>target</th>\n      <th>temp_target</th>\n    </tr>\n    <tr>\n      <th>id</th>\n      <th></th>\n      <th></th>\n      <th></th>\n      <th></th>\n      <th></th>\n      <th></th>\n      <th></th>\n      <th></th>\n      <th></th>\n      <th></th>\n      <th></th>\n      <th></th>\n      <th></th>\n      <th></th>\n      <th></th>\n      <th></th>\n    </tr>\n  </thead>\n  <tbody>\n    <tr>\n      <th>57094</th>\n      <td>1.0</td>\n      <td>3</td>\n      <td>0</td>\n      <td>2016-05-19 18:06:27</td>\n      <td>A FABULOUS 3BR IN MIDTOWN WEST!   PERFECT APAR...</td>\n      <td>HOW AMAZING IS THIS MIDTOWN WEST STEAL!! NO FE...</td>\n      <td>[Laundry In Unit, No Fee, Elevator]</td>\n      <td>40.7647</td>\n      <td>7039994</td>\n      <td>-73.9918</td>\n      <td>4bdc3d8c1aaa90d997ce2cb77680679b</td>\n      <td>['https://photos.renthop.com/2/7039994_07be01b...</td>\n      <td>4495</td>\n      <td>W 50 &amp; AVE 10</td>\n      <td>medium</td>\n      <td>92.221965</td>\n    </tr>\n    <tr>\n      <th>33389</th>\n      <td>1.0</td>\n      <td>1</td>\n      <td>9225efdfb57a50bf3ec17ebab082f94a</td>\n      <td>2016-06-16 02:01:49</td>\n      <td>Renovated Kitchen and Bathroom!</td>\n      <td>55 River Drive South</td>\n      <td>[Dogs Allowed, Cats Allowed, No Fee]</td>\n      <td>40.7275</td>\n      <td>7166774</td>\n      <td>-74.0322</td>\n      <td>e5808a5e6cc13988fe596704428d38d5</td>\n      <td>['https://photos.renthop.com/2/7166774_03cf63a...</td>\n      <td>2570</td>\n      <td>55 River Drive South</td>\n      <td>medium</td>\n      <td>92.221965</td>\n    </tr>\n    <tr>\n      <th>60458</th>\n      <td>1.0</td>\n      <td>0</td>\n      <td>320de7d3cc88e50a7fbbcfde1e825d21</td>\n      <td>2016-05-04 02:42:50</td>\n      <td>RARE AND BEST DEAL ON THE MARKET!!!! PERFECT S...</td>\n      <td>W 77 Street</td>\n      <td>[Elevator, Hardwood Floors]</td>\n      <td>40.7798</td>\n      <td>6962716</td>\n      <td>-73.9751</td>\n      <td>d69d4e111612dd12ef864031c1148543</td>\n      <td>['https://photos.renthop.com/2/6962716_ec7f56f...</td>\n      <td>1795</td>\n      <td>22 W 77 Street</td>\n      <td>low</td>\n      <td>69.469693</td>\n    </tr>\n    <tr>\n      <th>53048</th>\n      <td>1.0</td>\n      <td>2</td>\n      <td>ce6d18bf3238e668b2bf23f4110b7b67</td>\n      <td>2016-05-12 05:57:56</td>\n      <td>Newly renovated flex 2 apartment offers the ne...</td>\n      <td>John Street</td>\n      <td>[Swimming Pool, Doorman, Elevator, Fitness Cen...</td>\n      <td>40.7081</td>\n      <td>7002458</td>\n      <td>-74.0065</td>\n      <td>e6472c7237327dd3903b3d6f6a94515a</td>\n      <td>['https://photos.renthop.com/2/7002458_93f4010...</td>\n      <td>3400</td>\n      <td>100 John Street</td>\n      <td>low</td>\n      <td>69.469693</td>\n    </tr>\n    <tr>\n      <th>592</th>\n      <td>1.0</td>\n      <td>3</td>\n      <td>fee4d465932160318364d9d48d272879</td>\n      <td>2016-06-16 06:06:15</td>\n      <td>LOW FEE apartments do not come around like thi...</td>\n      <td>West 16th Street</td>\n      <td>[Laundry in Building, Laundry in Unit, Dishwas...</td>\n      <td>40.7416</td>\n      <td>7170465</td>\n      <td>-74.0025</td>\n      <td>6fba9b3a8327c607b8b043716efee684</td>\n      <td>['https://photos.renthop.com/2/7170465_9c3f173...</td>\n      <td>5695</td>\n      <td>321 West 16th Street</td>\n      <td>low</td>\n      <td>69.469693</td>\n    </tr>\n  </tbody>\n</table>\n</div>"
     },
     "metadata": {},
     "execution_count": 76
    }
   ],
   "source": [
    "df['temp_target'] = df['target'].map({'low' : low_percent, 'medium' : medium_percent + low_percent, 'high' : 1})\n",
    "df.head()"
   ]
  },
  {
   "cell_type": "code",
   "execution_count": 77,
   "metadata": {},
   "outputs": [
    {
     "output_type": "execute_result",
     "data": {
      "text/plain": [
       "       bathrooms  bedrooms                       building_id  \\\n",
       "id                                                             \n",
       "57094        1.0         3                                 0   \n",
       "33389        1.0         1  9225efdfb57a50bf3ec17ebab082f94a   \n",
       "60458        1.0         0  320de7d3cc88e50a7fbbcfde1e825d21   \n",
       "53048        1.0         2  ce6d18bf3238e668b2bf23f4110b7b67   \n",
       "592          1.0         3  fee4d465932160318364d9d48d272879   \n",
       "\n",
       "                   created                                        description  \\\n",
       "id                                                                              \n",
       "57094  2016-05-19 18:06:27  A FABULOUS 3BR IN MIDTOWN WEST!   PERFECT APAR...   \n",
       "33389  2016-06-16 02:01:49                    Renovated Kitchen and Bathroom!   \n",
       "60458  2016-05-04 02:42:50  RARE AND BEST DEAL ON THE MARKET!!!! PERFECT S...   \n",
       "53048  2016-05-12 05:57:56  Newly renovated flex 2 apartment offers the ne...   \n",
       "592    2016-06-16 06:06:15  LOW FEE apartments do not come around like thi...   \n",
       "\n",
       "                                         display_address  \\\n",
       "id                                                         \n",
       "57094  HOW AMAZING IS THIS MIDTOWN WEST STEAL!! NO FE...   \n",
       "33389                               55 River Drive South   \n",
       "60458                                        W 77 Street   \n",
       "53048                                        John Street   \n",
       "592                                     West 16th Street   \n",
       "\n",
       "                                                features  latitude  \\\n",
       "id                                                                   \n",
       "57094                [Laundry In Unit, No Fee, Elevator]   40.7647   \n",
       "33389               [Dogs Allowed, Cats Allowed, No Fee]   40.7275   \n",
       "60458                        [Elevator, Hardwood Floors]   40.7798   \n",
       "53048  [Swimming Pool, Doorman, Elevator, Fitness Cen...   40.7081   \n",
       "592    [Laundry in Building, Laundry in Unit, Dishwas...   40.7416   \n",
       "\n",
       "       listing_id  longitude                        manager_id  \\\n",
       "id                                                               \n",
       "57094     7039994   -73.9918  4bdc3d8c1aaa90d997ce2cb77680679b   \n",
       "33389     7166774   -74.0322  e5808a5e6cc13988fe596704428d38d5   \n",
       "60458     6962716   -73.9751  d69d4e111612dd12ef864031c1148543   \n",
       "53048     7002458   -74.0065  e6472c7237327dd3903b3d6f6a94515a   \n",
       "592       7170465   -74.0025  6fba9b3a8327c607b8b043716efee684   \n",
       "\n",
       "                                                  photos  price  \\\n",
       "id                                                                \n",
       "57094  ['https://photos.renthop.com/2/7039994_07be01b...   4495   \n",
       "33389  ['https://photos.renthop.com/2/7166774_03cf63a...   2570   \n",
       "60458  ['https://photos.renthop.com/2/6962716_ec7f56f...   1795   \n",
       "53048  ['https://photos.renthop.com/2/7002458_93f4010...   3400   \n",
       "592    ['https://photos.renthop.com/2/7170465_9c3f173...   5695   \n",
       "\n",
       "             street_address  target  temp_target  most_frequent_house_comment  \n",
       "id                                                                             \n",
       "57094         W 50 & AVE 10  medium    92.221965                    69.297433  \n",
       "33389  55 River Drive South  medium    92.221965                    80.845829  \n",
       "60458        22 W 77 Street     low    69.469693                    66.188957  \n",
       "53048       100 John Street     low    69.469693                    67.339708  \n",
       "592    321 West 16th Street     low    69.469693                    70.878405  "
      ],
      "text/html": "<div>\n<style scoped>\n    .dataframe tbody tr th:only-of-type {\n        vertical-align: middle;\n    }\n\n    .dataframe tbody tr th {\n        vertical-align: top;\n    }\n\n    .dataframe thead th {\n        text-align: right;\n    }\n</style>\n<table border=\"1\" class=\"dataframe\">\n  <thead>\n    <tr style=\"text-align: right;\">\n      <th></th>\n      <th>bathrooms</th>\n      <th>bedrooms</th>\n      <th>building_id</th>\n      <th>created</th>\n      <th>description</th>\n      <th>display_address</th>\n      <th>features</th>\n      <th>latitude</th>\n      <th>listing_id</th>\n      <th>longitude</th>\n      <th>manager_id</th>\n      <th>photos</th>\n      <th>price</th>\n      <th>street_address</th>\n      <th>target</th>\n      <th>temp_target</th>\n      <th>most_frequent_house_comment</th>\n    </tr>\n    <tr>\n      <th>id</th>\n      <th></th>\n      <th></th>\n      <th></th>\n      <th></th>\n      <th></th>\n      <th></th>\n      <th></th>\n      <th></th>\n      <th></th>\n      <th></th>\n      <th></th>\n      <th></th>\n      <th></th>\n      <th></th>\n      <th></th>\n      <th></th>\n      <th></th>\n    </tr>\n  </thead>\n  <tbody>\n    <tr>\n      <th>57094</th>\n      <td>1.0</td>\n      <td>3</td>\n      <td>0</td>\n      <td>2016-05-19 18:06:27</td>\n      <td>A FABULOUS 3BR IN MIDTOWN WEST!   PERFECT APAR...</td>\n      <td>HOW AMAZING IS THIS MIDTOWN WEST STEAL!! NO FE...</td>\n      <td>[Laundry In Unit, No Fee, Elevator]</td>\n      <td>40.7647</td>\n      <td>7039994</td>\n      <td>-73.9918</td>\n      <td>4bdc3d8c1aaa90d997ce2cb77680679b</td>\n      <td>['https://photos.renthop.com/2/7039994_07be01b...</td>\n      <td>4495</td>\n      <td>W 50 &amp; AVE 10</td>\n      <td>medium</td>\n      <td>92.221965</td>\n      <td>69.297433</td>\n    </tr>\n    <tr>\n      <th>33389</th>\n      <td>1.0</td>\n      <td>1</td>\n      <td>9225efdfb57a50bf3ec17ebab082f94a</td>\n      <td>2016-06-16 02:01:49</td>\n      <td>Renovated Kitchen and Bathroom!</td>\n      <td>55 River Drive South</td>\n      <td>[Dogs Allowed, Cats Allowed, No Fee]</td>\n      <td>40.7275</td>\n      <td>7166774</td>\n      <td>-74.0322</td>\n      <td>e5808a5e6cc13988fe596704428d38d5</td>\n      <td>['https://photos.renthop.com/2/7166774_03cf63a...</td>\n      <td>2570</td>\n      <td>55 River Drive South</td>\n      <td>medium</td>\n      <td>92.221965</td>\n      <td>80.845829</td>\n    </tr>\n    <tr>\n      <th>60458</th>\n      <td>1.0</td>\n      <td>0</td>\n      <td>320de7d3cc88e50a7fbbcfde1e825d21</td>\n      <td>2016-05-04 02:42:50</td>\n      <td>RARE AND BEST DEAL ON THE MARKET!!!! PERFECT S...</td>\n      <td>W 77 Street</td>\n      <td>[Elevator, Hardwood Floors]</td>\n      <td>40.7798</td>\n      <td>6962716</td>\n      <td>-73.9751</td>\n      <td>d69d4e111612dd12ef864031c1148543</td>\n      <td>['https://photos.renthop.com/2/6962716_ec7f56f...</td>\n      <td>1795</td>\n      <td>22 W 77 Street</td>\n      <td>low</td>\n      <td>69.469693</td>\n      <td>66.188957</td>\n    </tr>\n    <tr>\n      <th>53048</th>\n      <td>1.0</td>\n      <td>2</td>\n      <td>ce6d18bf3238e668b2bf23f4110b7b67</td>\n      <td>2016-05-12 05:57:56</td>\n      <td>Newly renovated flex 2 apartment offers the ne...</td>\n      <td>John Street</td>\n      <td>[Swimming Pool, Doorman, Elevator, Fitness Cen...</td>\n      <td>40.7081</td>\n      <td>7002458</td>\n      <td>-74.0065</td>\n      <td>e6472c7237327dd3903b3d6f6a94515a</td>\n      <td>['https://photos.renthop.com/2/7002458_93f4010...</td>\n      <td>3400</td>\n      <td>100 John Street</td>\n      <td>low</td>\n      <td>69.469693</td>\n      <td>67.339708</td>\n    </tr>\n    <tr>\n      <th>592</th>\n      <td>1.0</td>\n      <td>3</td>\n      <td>fee4d465932160318364d9d48d272879</td>\n      <td>2016-06-16 06:06:15</td>\n      <td>LOW FEE apartments do not come around like thi...</td>\n      <td>West 16th Street</td>\n      <td>[Laundry in Building, Laundry in Unit, Dishwas...</td>\n      <td>40.7416</td>\n      <td>7170465</td>\n      <td>-74.0025</td>\n      <td>6fba9b3a8327c607b8b043716efee684</td>\n      <td>['https://photos.renthop.com/2/7170465_9c3f173...</td>\n      <td>5695</td>\n      <td>321 West 16th Street</td>\n      <td>low</td>\n      <td>69.469693</td>\n      <td>70.878405</td>\n    </tr>\n  </tbody>\n</table>\n</div>"
     },
     "metadata": {},
     "execution_count": 77
    }
   ],
   "source": [
    "df['most_frequent_house_comment'] = df.groupby('building_id')['temp_target'].transform(lambda x: x.sum() / len(x))\n",
    "df.head()\n",
    "# Значит многие одинаковые здания имеют одинаковые отзывы"
   ]
  },
  {
   "cell_type": "code",
   "execution_count": 78,
   "metadata": {},
   "outputs": [
    {
     "output_type": "execute_result",
     "data": {
      "text/plain": [
       "       bathrooms  bedrooms                       building_id  \\\n",
       "id                                                             \n",
       "57094        1.0         3                                 0   \n",
       "33389        1.0         1  9225efdfb57a50bf3ec17ebab082f94a   \n",
       "60458        1.0         0  320de7d3cc88e50a7fbbcfde1e825d21   \n",
       "53048        1.0         2  ce6d18bf3238e668b2bf23f4110b7b67   \n",
       "592          1.0         3  fee4d465932160318364d9d48d272879   \n",
       "\n",
       "                   created                                        description  \\\n",
       "id                                                                              \n",
       "57094  2016-05-19 18:06:27  A FABULOUS 3BR IN MIDTOWN WEST!   PERFECT APAR...   \n",
       "33389  2016-06-16 02:01:49                    Renovated Kitchen and Bathroom!   \n",
       "60458  2016-05-04 02:42:50  RARE AND BEST DEAL ON THE MARKET!!!! PERFECT S...   \n",
       "53048  2016-05-12 05:57:56  Newly renovated flex 2 apartment offers the ne...   \n",
       "592    2016-06-16 06:06:15  LOW FEE apartments do not come around like thi...   \n",
       "\n",
       "                                         display_address  \\\n",
       "id                                                         \n",
       "57094  HOW AMAZING IS THIS MIDTOWN WEST STEAL!! NO FE...   \n",
       "33389                               55 River Drive South   \n",
       "60458                                        W 77 Street   \n",
       "53048                                        John Street   \n",
       "592                                     West 16th Street   \n",
       "\n",
       "                                                features  latitude  \\\n",
       "id                                                                   \n",
       "57094                [Laundry In Unit, No Fee, Elevator]   40.7647   \n",
       "33389               [Dogs Allowed, Cats Allowed, No Fee]   40.7275   \n",
       "60458                        [Elevator, Hardwood Floors]   40.7798   \n",
       "53048  [Swimming Pool, Doorman, Elevator, Fitness Cen...   40.7081   \n",
       "592    [Laundry in Building, Laundry in Unit, Dishwas...   40.7416   \n",
       "\n",
       "       listing_id  longitude                        manager_id  \\\n",
       "id                                                               \n",
       "57094     7039994   -73.9918  4bdc3d8c1aaa90d997ce2cb77680679b   \n",
       "33389     7166774   -74.0322  e5808a5e6cc13988fe596704428d38d5   \n",
       "60458     6962716   -73.9751  d69d4e111612dd12ef864031c1148543   \n",
       "53048     7002458   -74.0065  e6472c7237327dd3903b3d6f6a94515a   \n",
       "592       7170465   -74.0025  6fba9b3a8327c607b8b043716efee684   \n",
       "\n",
       "                                                  photos  price  \\\n",
       "id                                                                \n",
       "57094  ['https://photos.renthop.com/2/7039994_07be01b...   4495   \n",
       "33389  ['https://photos.renthop.com/2/7166774_03cf63a...   2570   \n",
       "60458  ['https://photos.renthop.com/2/6962716_ec7f56f...   1795   \n",
       "53048  ['https://photos.renthop.com/2/7002458_93f4010...   3400   \n",
       "592    ['https://photos.renthop.com/2/7170465_9c3f173...   5695   \n",
       "\n",
       "             street_address  target  temp_target  most_frequent_house_comment  \\\n",
       "id                                                                              \n",
       "57094         W 50 & AVE 10  medium    92.221965                    69.297433   \n",
       "33389  55 River Drive South  medium    92.221965                    80.845829   \n",
       "60458        22 W 77 Street     low    69.469693                    66.188957   \n",
       "53048       100 John Street     low    69.469693                    67.339708   \n",
       "592    321 West 16th Street     low    69.469693                    70.878405   \n",
       "\n",
       "       most_frequent_rieltor_comment  \n",
       "id                                    \n",
       "57094                      70.320227  \n",
       "33389                      74.579835  \n",
       "60458                      70.474858  \n",
       "53048                      69.829174  \n",
       "592                        69.463040  "
      ],
      "text/html": "<div>\n<style scoped>\n    .dataframe tbody tr th:only-of-type {\n        vertical-align: middle;\n    }\n\n    .dataframe tbody tr th {\n        vertical-align: top;\n    }\n\n    .dataframe thead th {\n        text-align: right;\n    }\n</style>\n<table border=\"1\" class=\"dataframe\">\n  <thead>\n    <tr style=\"text-align: right;\">\n      <th></th>\n      <th>bathrooms</th>\n      <th>bedrooms</th>\n      <th>building_id</th>\n      <th>created</th>\n      <th>description</th>\n      <th>display_address</th>\n      <th>features</th>\n      <th>latitude</th>\n      <th>listing_id</th>\n      <th>longitude</th>\n      <th>manager_id</th>\n      <th>photos</th>\n      <th>price</th>\n      <th>street_address</th>\n      <th>target</th>\n      <th>temp_target</th>\n      <th>most_frequent_house_comment</th>\n      <th>most_frequent_rieltor_comment</th>\n    </tr>\n    <tr>\n      <th>id</th>\n      <th></th>\n      <th></th>\n      <th></th>\n      <th></th>\n      <th></th>\n      <th></th>\n      <th></th>\n      <th></th>\n      <th></th>\n      <th></th>\n      <th></th>\n      <th></th>\n      <th></th>\n      <th></th>\n      <th></th>\n      <th></th>\n      <th></th>\n      <th></th>\n    </tr>\n  </thead>\n  <tbody>\n    <tr>\n      <th>57094</th>\n      <td>1.0</td>\n      <td>3</td>\n      <td>0</td>\n      <td>2016-05-19 18:06:27</td>\n      <td>A FABULOUS 3BR IN MIDTOWN WEST!   PERFECT APAR...</td>\n      <td>HOW AMAZING IS THIS MIDTOWN WEST STEAL!! NO FE...</td>\n      <td>[Laundry In Unit, No Fee, Elevator]</td>\n      <td>40.7647</td>\n      <td>7039994</td>\n      <td>-73.9918</td>\n      <td>4bdc3d8c1aaa90d997ce2cb77680679b</td>\n      <td>['https://photos.renthop.com/2/7039994_07be01b...</td>\n      <td>4495</td>\n      <td>W 50 &amp; AVE 10</td>\n      <td>medium</td>\n      <td>92.221965</td>\n      <td>69.297433</td>\n      <td>70.320227</td>\n    </tr>\n    <tr>\n      <th>33389</th>\n      <td>1.0</td>\n      <td>1</td>\n      <td>9225efdfb57a50bf3ec17ebab082f94a</td>\n      <td>2016-06-16 02:01:49</td>\n      <td>Renovated Kitchen and Bathroom!</td>\n      <td>55 River Drive South</td>\n      <td>[Dogs Allowed, Cats Allowed, No Fee]</td>\n      <td>40.7275</td>\n      <td>7166774</td>\n      <td>-74.0322</td>\n      <td>e5808a5e6cc13988fe596704428d38d5</td>\n      <td>['https://photos.renthop.com/2/7166774_03cf63a...</td>\n      <td>2570</td>\n      <td>55 River Drive South</td>\n      <td>medium</td>\n      <td>92.221965</td>\n      <td>80.845829</td>\n      <td>74.579835</td>\n    </tr>\n    <tr>\n      <th>60458</th>\n      <td>1.0</td>\n      <td>0</td>\n      <td>320de7d3cc88e50a7fbbcfde1e825d21</td>\n      <td>2016-05-04 02:42:50</td>\n      <td>RARE AND BEST DEAL ON THE MARKET!!!! PERFECT S...</td>\n      <td>W 77 Street</td>\n      <td>[Elevator, Hardwood Floors]</td>\n      <td>40.7798</td>\n      <td>6962716</td>\n      <td>-73.9751</td>\n      <td>d69d4e111612dd12ef864031c1148543</td>\n      <td>['https://photos.renthop.com/2/6962716_ec7f56f...</td>\n      <td>1795</td>\n      <td>22 W 77 Street</td>\n      <td>low</td>\n      <td>69.469693</td>\n      <td>66.188957</td>\n      <td>70.474858</td>\n    </tr>\n    <tr>\n      <th>53048</th>\n      <td>1.0</td>\n      <td>2</td>\n      <td>ce6d18bf3238e668b2bf23f4110b7b67</td>\n      <td>2016-05-12 05:57:56</td>\n      <td>Newly renovated flex 2 apartment offers the ne...</td>\n      <td>John Street</td>\n      <td>[Swimming Pool, Doorman, Elevator, Fitness Cen...</td>\n      <td>40.7081</td>\n      <td>7002458</td>\n      <td>-74.0065</td>\n      <td>e6472c7237327dd3903b3d6f6a94515a</td>\n      <td>['https://photos.renthop.com/2/7002458_93f4010...</td>\n      <td>3400</td>\n      <td>100 John Street</td>\n      <td>low</td>\n      <td>69.469693</td>\n      <td>67.339708</td>\n      <td>69.829174</td>\n    </tr>\n    <tr>\n      <th>592</th>\n      <td>1.0</td>\n      <td>3</td>\n      <td>fee4d465932160318364d9d48d272879</td>\n      <td>2016-06-16 06:06:15</td>\n      <td>LOW FEE apartments do not come around like thi...</td>\n      <td>West 16th Street</td>\n      <td>[Laundry in Building, Laundry in Unit, Dishwas...</td>\n      <td>40.7416</td>\n      <td>7170465</td>\n      <td>-74.0025</td>\n      <td>6fba9b3a8327c607b8b043716efee684</td>\n      <td>['https://photos.renthop.com/2/7170465_9c3f173...</td>\n      <td>5695</td>\n      <td>321 West 16th Street</td>\n      <td>low</td>\n      <td>69.469693</td>\n      <td>70.878405</td>\n      <td>69.463040</td>\n    </tr>\n  </tbody>\n</table>\n</div>"
     },
     "metadata": {},
     "execution_count": 78
    }
   ],
   "source": [
    "df['most_frequent_rieltor_comment'] = df.groupby('manager_id')['temp_target'].transform(lambda x: x.sum() / len(x))\n",
    "df.head()"
   ]
  },
  {
   "cell_type": "code",
   "execution_count": 79,
   "metadata": {},
   "outputs": [
    {
     "output_type": "execute_result",
     "data": {
      "text/plain": [
       "       bathrooms  bedrooms                       building_id  \\\n",
       "id                                                             \n",
       "57094        1.0         3                                 0   \n",
       "33389        1.0         1  9225efdfb57a50bf3ec17ebab082f94a   \n",
       "60458        1.0         0  320de7d3cc88e50a7fbbcfde1e825d21   \n",
       "53048        1.0         2  ce6d18bf3238e668b2bf23f4110b7b67   \n",
       "592          1.0         3  fee4d465932160318364d9d48d272879   \n",
       "\n",
       "                   created                                        description  \\\n",
       "id                                                                              \n",
       "57094  2016-05-19 18:06:27  a fabulous 3br in midtown west!   perfect apar...   \n",
       "33389  2016-06-16 02:01:49                    renovated kitchen and bathroom!   \n",
       "60458  2016-05-04 02:42:50  rare and best deal on the market!!!! perfect s...   \n",
       "53048  2016-05-12 05:57:56  newly renovated flex 2 apartment offers the ne...   \n",
       "592    2016-06-16 06:06:15  low fee apartments do not come around like thi...   \n",
       "\n",
       "                                         display_address  \\\n",
       "id                                                         \n",
       "57094  HOW AMAZING IS THIS MIDTOWN WEST STEAL!! NO FE...   \n",
       "33389                               55 River Drive South   \n",
       "60458                                        W 77 Street   \n",
       "53048                                        John Street   \n",
       "592                                     West 16th Street   \n",
       "\n",
       "                                                features  latitude  \\\n",
       "id                                                                   \n",
       "57094                [Laundry In Unit, No Fee, Elevator]   40.7647   \n",
       "33389               [Dogs Allowed, Cats Allowed, No Fee]   40.7275   \n",
       "60458                        [Elevator, Hardwood Floors]   40.7798   \n",
       "53048  [Swimming Pool, Doorman, Elevator, Fitness Cen...   40.7081   \n",
       "592    [Laundry in Building, Laundry in Unit, Dishwas...   40.7416   \n",
       "\n",
       "       listing_id  longitude                        manager_id  \\\n",
       "id                                                               \n",
       "57094     7039994   -73.9918  4bdc3d8c1aaa90d997ce2cb77680679b   \n",
       "33389     7166774   -74.0322  e5808a5e6cc13988fe596704428d38d5   \n",
       "60458     6962716   -73.9751  d69d4e111612dd12ef864031c1148543   \n",
       "53048     7002458   -74.0065  e6472c7237327dd3903b3d6f6a94515a   \n",
       "592       7170465   -74.0025  6fba9b3a8327c607b8b043716efee684   \n",
       "\n",
       "                                                  photos  price  \\\n",
       "id                                                                \n",
       "57094  ['https://photos.renthop.com/2/7039994_07be01b...   4495   \n",
       "33389  ['https://photos.renthop.com/2/7166774_03cf63a...   2570   \n",
       "60458  ['https://photos.renthop.com/2/6962716_ec7f56f...   1795   \n",
       "53048  ['https://photos.renthop.com/2/7002458_93f4010...   3400   \n",
       "592    ['https://photos.renthop.com/2/7170465_9c3f173...   5695   \n",
       "\n",
       "             street_address  target  temp_target  most_frequent_house_comment  \\\n",
       "id                                                                              \n",
       "57094         W 50 & AVE 10  medium    92.221965                    69.297433   \n",
       "33389  55 River Drive South  medium    92.221965                    80.845829   \n",
       "60458        22 W 77 Street     low    69.469693                    66.188957   \n",
       "53048       100 John Street     low    69.469693                    67.339708   \n",
       "592    321 West 16th Street     low    69.469693                    70.878405   \n",
       "\n",
       "       most_frequent_rieltor_comment  \n",
       "id                                    \n",
       "57094                      70.320227  \n",
       "33389                      74.579835  \n",
       "60458                      70.474858  \n",
       "53048                      69.829174  \n",
       "592                        69.463040  "
      ],
      "text/html": "<div>\n<style scoped>\n    .dataframe tbody tr th:only-of-type {\n        vertical-align: middle;\n    }\n\n    .dataframe tbody tr th {\n        vertical-align: top;\n    }\n\n    .dataframe thead th {\n        text-align: right;\n    }\n</style>\n<table border=\"1\" class=\"dataframe\">\n  <thead>\n    <tr style=\"text-align: right;\">\n      <th></th>\n      <th>bathrooms</th>\n      <th>bedrooms</th>\n      <th>building_id</th>\n      <th>created</th>\n      <th>description</th>\n      <th>display_address</th>\n      <th>features</th>\n      <th>latitude</th>\n      <th>listing_id</th>\n      <th>longitude</th>\n      <th>manager_id</th>\n      <th>photos</th>\n      <th>price</th>\n      <th>street_address</th>\n      <th>target</th>\n      <th>temp_target</th>\n      <th>most_frequent_house_comment</th>\n      <th>most_frequent_rieltor_comment</th>\n    </tr>\n    <tr>\n      <th>id</th>\n      <th></th>\n      <th></th>\n      <th></th>\n      <th></th>\n      <th></th>\n      <th></th>\n      <th></th>\n      <th></th>\n      <th></th>\n      <th></th>\n      <th></th>\n      <th></th>\n      <th></th>\n      <th></th>\n      <th></th>\n      <th></th>\n      <th></th>\n      <th></th>\n    </tr>\n  </thead>\n  <tbody>\n    <tr>\n      <th>57094</th>\n      <td>1.0</td>\n      <td>3</td>\n      <td>0</td>\n      <td>2016-05-19 18:06:27</td>\n      <td>a fabulous 3br in midtown west!   perfect apar...</td>\n      <td>HOW AMAZING IS THIS MIDTOWN WEST STEAL!! NO FE...</td>\n      <td>[Laundry In Unit, No Fee, Elevator]</td>\n      <td>40.7647</td>\n      <td>7039994</td>\n      <td>-73.9918</td>\n      <td>4bdc3d8c1aaa90d997ce2cb77680679b</td>\n      <td>['https://photos.renthop.com/2/7039994_07be01b...</td>\n      <td>4495</td>\n      <td>W 50 &amp; AVE 10</td>\n      <td>medium</td>\n      <td>92.221965</td>\n      <td>69.297433</td>\n      <td>70.320227</td>\n    </tr>\n    <tr>\n      <th>33389</th>\n      <td>1.0</td>\n      <td>1</td>\n      <td>9225efdfb57a50bf3ec17ebab082f94a</td>\n      <td>2016-06-16 02:01:49</td>\n      <td>renovated kitchen and bathroom!</td>\n      <td>55 River Drive South</td>\n      <td>[Dogs Allowed, Cats Allowed, No Fee]</td>\n      <td>40.7275</td>\n      <td>7166774</td>\n      <td>-74.0322</td>\n      <td>e5808a5e6cc13988fe596704428d38d5</td>\n      <td>['https://photos.renthop.com/2/7166774_03cf63a...</td>\n      <td>2570</td>\n      <td>55 River Drive South</td>\n      <td>medium</td>\n      <td>92.221965</td>\n      <td>80.845829</td>\n      <td>74.579835</td>\n    </tr>\n    <tr>\n      <th>60458</th>\n      <td>1.0</td>\n      <td>0</td>\n      <td>320de7d3cc88e50a7fbbcfde1e825d21</td>\n      <td>2016-05-04 02:42:50</td>\n      <td>rare and best deal on the market!!!! perfect s...</td>\n      <td>W 77 Street</td>\n      <td>[Elevator, Hardwood Floors]</td>\n      <td>40.7798</td>\n      <td>6962716</td>\n      <td>-73.9751</td>\n      <td>d69d4e111612dd12ef864031c1148543</td>\n      <td>['https://photos.renthop.com/2/6962716_ec7f56f...</td>\n      <td>1795</td>\n      <td>22 W 77 Street</td>\n      <td>low</td>\n      <td>69.469693</td>\n      <td>66.188957</td>\n      <td>70.474858</td>\n    </tr>\n    <tr>\n      <th>53048</th>\n      <td>1.0</td>\n      <td>2</td>\n      <td>ce6d18bf3238e668b2bf23f4110b7b67</td>\n      <td>2016-05-12 05:57:56</td>\n      <td>newly renovated flex 2 apartment offers the ne...</td>\n      <td>John Street</td>\n      <td>[Swimming Pool, Doorman, Elevator, Fitness Cen...</td>\n      <td>40.7081</td>\n      <td>7002458</td>\n      <td>-74.0065</td>\n      <td>e6472c7237327dd3903b3d6f6a94515a</td>\n      <td>['https://photos.renthop.com/2/7002458_93f4010...</td>\n      <td>3400</td>\n      <td>100 John Street</td>\n      <td>low</td>\n      <td>69.469693</td>\n      <td>67.339708</td>\n      <td>69.829174</td>\n    </tr>\n    <tr>\n      <th>592</th>\n      <td>1.0</td>\n      <td>3</td>\n      <td>fee4d465932160318364d9d48d272879</td>\n      <td>2016-06-16 06:06:15</td>\n      <td>low fee apartments do not come around like thi...</td>\n      <td>West 16th Street</td>\n      <td>[Laundry in Building, Laundry in Unit, Dishwas...</td>\n      <td>40.7416</td>\n      <td>7170465</td>\n      <td>-74.0025</td>\n      <td>6fba9b3a8327c607b8b043716efee684</td>\n      <td>['https://photos.renthop.com/2/7170465_9c3f173...</td>\n      <td>5695</td>\n      <td>321 West 16th Street</td>\n      <td>low</td>\n      <td>69.469693</td>\n      <td>70.878405</td>\n      <td>69.463040</td>\n    </tr>\n  </tbody>\n</table>\n</div>"
     },
     "metadata": {},
     "execution_count": 79
    }
   ],
   "source": [
    "df['description'] = df['description'].str.lower()\n",
    "df.head()"
   ]
  },
  {
   "cell_type": "code",
   "execution_count": 80,
   "metadata": {},
   "outputs": [
    {
     "output_type": "execute_result",
     "data": {
      "text/plain": [
       "       bathrooms  bedrooms                       building_id  \\\n",
       "id                                                             \n",
       "57094        1.0         3                                 0   \n",
       "33389        1.0         1  9225efdfb57a50bf3ec17ebab082f94a   \n",
       "60458        1.0         0  320de7d3cc88e50a7fbbcfde1e825d21   \n",
       "53048        1.0         2  ce6d18bf3238e668b2bf23f4110b7b67   \n",
       "592          1.0         3  fee4d465932160318364d9d48d272879   \n",
       "\n",
       "                   created                                        description  \\\n",
       "id                                                                              \n",
       "57094  2016-05-19 18:06:27  [a, fabulous, br, in, midtown, west, , , perfe...   \n",
       "33389  2016-06-16 02:01:49                [renovated, kitchen, and, bathroom]   \n",
       "60458  2016-05-04 02:42:50  [rare, and, best, deal, on, the, market, perfe...   \n",
       "53048  2016-05-12 05:57:56  [newly, renovated, flex, , apartment, offers, ...   \n",
       "592    2016-06-16 06:06:15  [low, fee, apartments, do, not, come, around, ...   \n",
       "\n",
       "                                         display_address  \\\n",
       "id                                                         \n",
       "57094  HOW AMAZING IS THIS MIDTOWN WEST STEAL!! NO FE...   \n",
       "33389                               55 River Drive South   \n",
       "60458                                        W 77 Street   \n",
       "53048                                        John Street   \n",
       "592                                     West 16th Street   \n",
       "\n",
       "                                                features  latitude  \\\n",
       "id                                                                   \n",
       "57094                [Laundry In Unit, No Fee, Elevator]   40.7647   \n",
       "33389               [Dogs Allowed, Cats Allowed, No Fee]   40.7275   \n",
       "60458                        [Elevator, Hardwood Floors]   40.7798   \n",
       "53048  [Swimming Pool, Doorman, Elevator, Fitness Cen...   40.7081   \n",
       "592    [Laundry in Building, Laundry in Unit, Dishwas...   40.7416   \n",
       "\n",
       "       listing_id  longitude                        manager_id  \\\n",
       "id                                                               \n",
       "57094     7039994   -73.9918  4bdc3d8c1aaa90d997ce2cb77680679b   \n",
       "33389     7166774   -74.0322  e5808a5e6cc13988fe596704428d38d5   \n",
       "60458     6962716   -73.9751  d69d4e111612dd12ef864031c1148543   \n",
       "53048     7002458   -74.0065  e6472c7237327dd3903b3d6f6a94515a   \n",
       "592       7170465   -74.0025  6fba9b3a8327c607b8b043716efee684   \n",
       "\n",
       "                                                  photos  price  \\\n",
       "id                                                                \n",
       "57094  ['https://photos.renthop.com/2/7039994_07be01b...   4495   \n",
       "33389  ['https://photos.renthop.com/2/7166774_03cf63a...   2570   \n",
       "60458  ['https://photos.renthop.com/2/6962716_ec7f56f...   1795   \n",
       "53048  ['https://photos.renthop.com/2/7002458_93f4010...   3400   \n",
       "592    ['https://photos.renthop.com/2/7170465_9c3f173...   5695   \n",
       "\n",
       "             street_address  target  temp_target  most_frequent_house_comment  \\\n",
       "id                                                                              \n",
       "57094         W 50 & AVE 10  medium    92.221965                    69.297433   \n",
       "33389  55 River Drive South  medium    92.221965                    80.845829   \n",
       "60458        22 W 77 Street     low    69.469693                    66.188957   \n",
       "53048       100 John Street     low    69.469693                    67.339708   \n",
       "592    321 West 16th Street     low    69.469693                    70.878405   \n",
       "\n",
       "       most_frequent_rieltor_comment  \n",
       "id                                    \n",
       "57094                      70.320227  \n",
       "33389                      74.579835  \n",
       "60458                      70.474858  \n",
       "53048                      69.829174  \n",
       "592                        69.463040  "
      ],
      "text/html": "<div>\n<style scoped>\n    .dataframe tbody tr th:only-of-type {\n        vertical-align: middle;\n    }\n\n    .dataframe tbody tr th {\n        vertical-align: top;\n    }\n\n    .dataframe thead th {\n        text-align: right;\n    }\n</style>\n<table border=\"1\" class=\"dataframe\">\n  <thead>\n    <tr style=\"text-align: right;\">\n      <th></th>\n      <th>bathrooms</th>\n      <th>bedrooms</th>\n      <th>building_id</th>\n      <th>created</th>\n      <th>description</th>\n      <th>display_address</th>\n      <th>features</th>\n      <th>latitude</th>\n      <th>listing_id</th>\n      <th>longitude</th>\n      <th>manager_id</th>\n      <th>photos</th>\n      <th>price</th>\n      <th>street_address</th>\n      <th>target</th>\n      <th>temp_target</th>\n      <th>most_frequent_house_comment</th>\n      <th>most_frequent_rieltor_comment</th>\n    </tr>\n    <tr>\n      <th>id</th>\n      <th></th>\n      <th></th>\n      <th></th>\n      <th></th>\n      <th></th>\n      <th></th>\n      <th></th>\n      <th></th>\n      <th></th>\n      <th></th>\n      <th></th>\n      <th></th>\n      <th></th>\n      <th></th>\n      <th></th>\n      <th></th>\n      <th></th>\n      <th></th>\n    </tr>\n  </thead>\n  <tbody>\n    <tr>\n      <th>57094</th>\n      <td>1.0</td>\n      <td>3</td>\n      <td>0</td>\n      <td>2016-05-19 18:06:27</td>\n      <td>[a, fabulous, br, in, midtown, west, , , perfe...</td>\n      <td>HOW AMAZING IS THIS MIDTOWN WEST STEAL!! NO FE...</td>\n      <td>[Laundry In Unit, No Fee, Elevator]</td>\n      <td>40.7647</td>\n      <td>7039994</td>\n      <td>-73.9918</td>\n      <td>4bdc3d8c1aaa90d997ce2cb77680679b</td>\n      <td>['https://photos.renthop.com/2/7039994_07be01b...</td>\n      <td>4495</td>\n      <td>W 50 &amp; AVE 10</td>\n      <td>medium</td>\n      <td>92.221965</td>\n      <td>69.297433</td>\n      <td>70.320227</td>\n    </tr>\n    <tr>\n      <th>33389</th>\n      <td>1.0</td>\n      <td>1</td>\n      <td>9225efdfb57a50bf3ec17ebab082f94a</td>\n      <td>2016-06-16 02:01:49</td>\n      <td>[renovated, kitchen, and, bathroom]</td>\n      <td>55 River Drive South</td>\n      <td>[Dogs Allowed, Cats Allowed, No Fee]</td>\n      <td>40.7275</td>\n      <td>7166774</td>\n      <td>-74.0322</td>\n      <td>e5808a5e6cc13988fe596704428d38d5</td>\n      <td>['https://photos.renthop.com/2/7166774_03cf63a...</td>\n      <td>2570</td>\n      <td>55 River Drive South</td>\n      <td>medium</td>\n      <td>92.221965</td>\n      <td>80.845829</td>\n      <td>74.579835</td>\n    </tr>\n    <tr>\n      <th>60458</th>\n      <td>1.0</td>\n      <td>0</td>\n      <td>320de7d3cc88e50a7fbbcfde1e825d21</td>\n      <td>2016-05-04 02:42:50</td>\n      <td>[rare, and, best, deal, on, the, market, perfe...</td>\n      <td>W 77 Street</td>\n      <td>[Elevator, Hardwood Floors]</td>\n      <td>40.7798</td>\n      <td>6962716</td>\n      <td>-73.9751</td>\n      <td>d69d4e111612dd12ef864031c1148543</td>\n      <td>['https://photos.renthop.com/2/6962716_ec7f56f...</td>\n      <td>1795</td>\n      <td>22 W 77 Street</td>\n      <td>low</td>\n      <td>69.469693</td>\n      <td>66.188957</td>\n      <td>70.474858</td>\n    </tr>\n    <tr>\n      <th>53048</th>\n      <td>1.0</td>\n      <td>2</td>\n      <td>ce6d18bf3238e668b2bf23f4110b7b67</td>\n      <td>2016-05-12 05:57:56</td>\n      <td>[newly, renovated, flex, , apartment, offers, ...</td>\n      <td>John Street</td>\n      <td>[Swimming Pool, Doorman, Elevator, Fitness Cen...</td>\n      <td>40.7081</td>\n      <td>7002458</td>\n      <td>-74.0065</td>\n      <td>e6472c7237327dd3903b3d6f6a94515a</td>\n      <td>['https://photos.renthop.com/2/7002458_93f4010...</td>\n      <td>3400</td>\n      <td>100 John Street</td>\n      <td>low</td>\n      <td>69.469693</td>\n      <td>67.339708</td>\n      <td>69.829174</td>\n    </tr>\n    <tr>\n      <th>592</th>\n      <td>1.0</td>\n      <td>3</td>\n      <td>fee4d465932160318364d9d48d272879</td>\n      <td>2016-06-16 06:06:15</td>\n      <td>[low, fee, apartments, do, not, come, around, ...</td>\n      <td>West 16th Street</td>\n      <td>[Laundry in Building, Laundry in Unit, Dishwas...</td>\n      <td>40.7416</td>\n      <td>7170465</td>\n      <td>-74.0025</td>\n      <td>6fba9b3a8327c607b8b043716efee684</td>\n      <td>['https://photos.renthop.com/2/7170465_9c3f173...</td>\n      <td>5695</td>\n      <td>321 West 16th Street</td>\n      <td>low</td>\n      <td>69.469693</td>\n      <td>70.878405</td>\n      <td>69.463040</td>\n    </tr>\n  </tbody>\n</table>\n</div>"
     },
     "metadata": {},
     "execution_count": 80
    }
   ],
   "source": [
    "def remove_trash(cur_str):\n",
    "    cur_str = str(cur_str)\n",
    "    nw_str = \"\"\n",
    "    for elem in cur_str:\n",
    "        if (elem >= 'a' and elem <= 'z') or elem == ' ':\n",
    "            nw_str += elem\n",
    "\n",
    "    return nw_str.split(' ')\n",
    "\n",
    "df['description'] = df['description'].apply(remove_trash)\n",
    "df.head()"
   ]
  },
  {
   "cell_type": "code",
   "execution_count": 81,
   "metadata": {},
   "outputs": [
    {
     "output_type": "display_data",
     "data": {
      "text/plain": "0.6830262066676251"
     },
     "metadata": {}
    }
   ],
   "source": [
    "description_words_weight = dict()\n",
    "description_words_count = dict()\n",
    "for index, row in df.iterrows():\n",
    "    for word in row.description:\n",
    "        if len(word) < 3:\n",
    "            continue\n",
    "        if word in description_words_weight:\n",
    "            description_words_weight[word] += row.temp_target\n",
    "            description_words_count[word] += 1\n",
    "        else:\n",
    "            description_words_weight[word] = row.temp_target\n",
    "            description_words_count[word] = 1\n",
    "        \n",
    "for key, value in description_words_weight.items():\n",
    "    description_words_weight[key] = value / (description_words_count[key] * 100)\n",
    "\n",
    "display(description_words_weight['good'])"
   ]
  },
  {
   "cell_type": "code",
   "execution_count": 82,
   "metadata": {},
   "outputs": [
    {
     "output_type": "execute_result",
     "data": {
      "text/plain": [
       "       bathrooms  bedrooms                       building_id  \\\n",
       "id                                                             \n",
       "57094        1.0         3                                 0   \n",
       "33389        1.0         1  9225efdfb57a50bf3ec17ebab082f94a   \n",
       "60458        1.0         0  320de7d3cc88e50a7fbbcfde1e825d21   \n",
       "53048        1.0         2  ce6d18bf3238e668b2bf23f4110b7b67   \n",
       "592          1.0         3  fee4d465932160318364d9d48d272879   \n",
       "\n",
       "                   created  description  \\\n",
       "id                                        \n",
       "57094  2016-05-19 18:06:27     0.548578   \n",
       "33389  2016-06-16 02:01:49     0.693230   \n",
       "60458  2016-05-04 02:42:50     0.542103   \n",
       "53048  2016-05-12 05:57:56     0.510558   \n",
       "592    2016-06-16 06:06:15     0.533959   \n",
       "\n",
       "                                         display_address  \\\n",
       "id                                                         \n",
       "57094  HOW AMAZING IS THIS MIDTOWN WEST STEAL!! NO FE...   \n",
       "33389                               55 River Drive South   \n",
       "60458                                        W 77 Street   \n",
       "53048                                        John Street   \n",
       "592                                     West 16th Street   \n",
       "\n",
       "                                                features  latitude  \\\n",
       "id                                                                   \n",
       "57094                [Laundry In Unit, No Fee, Elevator]   40.7647   \n",
       "33389               [Dogs Allowed, Cats Allowed, No Fee]   40.7275   \n",
       "60458                        [Elevator, Hardwood Floors]   40.7798   \n",
       "53048  [Swimming Pool, Doorman, Elevator, Fitness Cen...   40.7081   \n",
       "592    [Laundry in Building, Laundry in Unit, Dishwas...   40.7416   \n",
       "\n",
       "       listing_id  longitude                        manager_id  \\\n",
       "id                                                               \n",
       "57094     7039994   -73.9918  4bdc3d8c1aaa90d997ce2cb77680679b   \n",
       "33389     7166774   -74.0322  e5808a5e6cc13988fe596704428d38d5   \n",
       "60458     6962716   -73.9751  d69d4e111612dd12ef864031c1148543   \n",
       "53048     7002458   -74.0065  e6472c7237327dd3903b3d6f6a94515a   \n",
       "592       7170465   -74.0025  6fba9b3a8327c607b8b043716efee684   \n",
       "\n",
       "                                                  photos  price  \\\n",
       "id                                                                \n",
       "57094  ['https://photos.renthop.com/2/7039994_07be01b...   4495   \n",
       "33389  ['https://photos.renthop.com/2/7166774_03cf63a...   2570   \n",
       "60458  ['https://photos.renthop.com/2/6962716_ec7f56f...   1795   \n",
       "53048  ['https://photos.renthop.com/2/7002458_93f4010...   3400   \n",
       "592    ['https://photos.renthop.com/2/7170465_9c3f173...   5695   \n",
       "\n",
       "             street_address  target  temp_target  most_frequent_house_comment  \\\n",
       "id                                                                              \n",
       "57094         W 50 & AVE 10  medium    92.221965                    69.297433   \n",
       "33389  55 River Drive South  medium    92.221965                    80.845829   \n",
       "60458        22 W 77 Street     low    69.469693                    66.188957   \n",
       "53048       100 John Street     low    69.469693                    67.339708   \n",
       "592    321 West 16th Street     low    69.469693                    70.878405   \n",
       "\n",
       "       most_frequent_rieltor_comment  \n",
       "id                                    \n",
       "57094                      70.320227  \n",
       "33389                      74.579835  \n",
       "60458                      70.474858  \n",
       "53048                      69.829174  \n",
       "592                        69.463040  "
      ],
      "text/html": "<div>\n<style scoped>\n    .dataframe tbody tr th:only-of-type {\n        vertical-align: middle;\n    }\n\n    .dataframe tbody tr th {\n        vertical-align: top;\n    }\n\n    .dataframe thead th {\n        text-align: right;\n    }\n</style>\n<table border=\"1\" class=\"dataframe\">\n  <thead>\n    <tr style=\"text-align: right;\">\n      <th></th>\n      <th>bathrooms</th>\n      <th>bedrooms</th>\n      <th>building_id</th>\n      <th>created</th>\n      <th>description</th>\n      <th>display_address</th>\n      <th>features</th>\n      <th>latitude</th>\n      <th>listing_id</th>\n      <th>longitude</th>\n      <th>manager_id</th>\n      <th>photos</th>\n      <th>price</th>\n      <th>street_address</th>\n      <th>target</th>\n      <th>temp_target</th>\n      <th>most_frequent_house_comment</th>\n      <th>most_frequent_rieltor_comment</th>\n    </tr>\n    <tr>\n      <th>id</th>\n      <th></th>\n      <th></th>\n      <th></th>\n      <th></th>\n      <th></th>\n      <th></th>\n      <th></th>\n      <th></th>\n      <th></th>\n      <th></th>\n      <th></th>\n      <th></th>\n      <th></th>\n      <th></th>\n      <th></th>\n      <th></th>\n      <th></th>\n      <th></th>\n    </tr>\n  </thead>\n  <tbody>\n    <tr>\n      <th>57094</th>\n      <td>1.0</td>\n      <td>3</td>\n      <td>0</td>\n      <td>2016-05-19 18:06:27</td>\n      <td>0.548578</td>\n      <td>HOW AMAZING IS THIS MIDTOWN WEST STEAL!! NO FE...</td>\n      <td>[Laundry In Unit, No Fee, Elevator]</td>\n      <td>40.7647</td>\n      <td>7039994</td>\n      <td>-73.9918</td>\n      <td>4bdc3d8c1aaa90d997ce2cb77680679b</td>\n      <td>['https://photos.renthop.com/2/7039994_07be01b...</td>\n      <td>4495</td>\n      <td>W 50 &amp; AVE 10</td>\n      <td>medium</td>\n      <td>92.221965</td>\n      <td>69.297433</td>\n      <td>70.320227</td>\n    </tr>\n    <tr>\n      <th>33389</th>\n      <td>1.0</td>\n      <td>1</td>\n      <td>9225efdfb57a50bf3ec17ebab082f94a</td>\n      <td>2016-06-16 02:01:49</td>\n      <td>0.693230</td>\n      <td>55 River Drive South</td>\n      <td>[Dogs Allowed, Cats Allowed, No Fee]</td>\n      <td>40.7275</td>\n      <td>7166774</td>\n      <td>-74.0322</td>\n      <td>e5808a5e6cc13988fe596704428d38d5</td>\n      <td>['https://photos.renthop.com/2/7166774_03cf63a...</td>\n      <td>2570</td>\n      <td>55 River Drive South</td>\n      <td>medium</td>\n      <td>92.221965</td>\n      <td>80.845829</td>\n      <td>74.579835</td>\n    </tr>\n    <tr>\n      <th>60458</th>\n      <td>1.0</td>\n      <td>0</td>\n      <td>320de7d3cc88e50a7fbbcfde1e825d21</td>\n      <td>2016-05-04 02:42:50</td>\n      <td>0.542103</td>\n      <td>W 77 Street</td>\n      <td>[Elevator, Hardwood Floors]</td>\n      <td>40.7798</td>\n      <td>6962716</td>\n      <td>-73.9751</td>\n      <td>d69d4e111612dd12ef864031c1148543</td>\n      <td>['https://photos.renthop.com/2/6962716_ec7f56f...</td>\n      <td>1795</td>\n      <td>22 W 77 Street</td>\n      <td>low</td>\n      <td>69.469693</td>\n      <td>66.188957</td>\n      <td>70.474858</td>\n    </tr>\n    <tr>\n      <th>53048</th>\n      <td>1.0</td>\n      <td>2</td>\n      <td>ce6d18bf3238e668b2bf23f4110b7b67</td>\n      <td>2016-05-12 05:57:56</td>\n      <td>0.510558</td>\n      <td>John Street</td>\n      <td>[Swimming Pool, Doorman, Elevator, Fitness Cen...</td>\n      <td>40.7081</td>\n      <td>7002458</td>\n      <td>-74.0065</td>\n      <td>e6472c7237327dd3903b3d6f6a94515a</td>\n      <td>['https://photos.renthop.com/2/7002458_93f4010...</td>\n      <td>3400</td>\n      <td>100 John Street</td>\n      <td>low</td>\n      <td>69.469693</td>\n      <td>67.339708</td>\n      <td>69.829174</td>\n    </tr>\n    <tr>\n      <th>592</th>\n      <td>1.0</td>\n      <td>3</td>\n      <td>fee4d465932160318364d9d48d272879</td>\n      <td>2016-06-16 06:06:15</td>\n      <td>0.533959</td>\n      <td>West 16th Street</td>\n      <td>[Laundry in Building, Laundry in Unit, Dishwas...</td>\n      <td>40.7416</td>\n      <td>7170465</td>\n      <td>-74.0025</td>\n      <td>6fba9b3a8327c607b8b043716efee684</td>\n      <td>['https://photos.renthop.com/2/7170465_9c3f173...</td>\n      <td>5695</td>\n      <td>321 West 16th Street</td>\n      <td>low</td>\n      <td>69.469693</td>\n      <td>70.878405</td>\n      <td>69.463040</td>\n    </tr>\n  </tbody>\n</table>\n</div>"
     },
     "metadata": {},
     "execution_count": 82
    }
   ],
   "source": [
    "def words_weight(x):\n",
    "    res = 0.0\n",
    "    for word in x:\n",
    "        if word in description_words_weight:\n",
    "            res += description_words_weight[word]\n",
    "    if len(x) > 0:\n",
    "        res /= len(x)\n",
    "    return res\n",
    "\n",
    "df['description'] = df['description'].apply(words_weight)\n",
    "df.head()"
   ]
  },
  {
   "cell_type": "code",
   "execution_count": 83,
   "metadata": {},
   "outputs": [
    {
     "output_type": "execute_result",
     "data": {
      "text/plain": [
       "'kek'"
      ]
     },
     "metadata": {},
     "execution_count": 83
    }
   ],
   "source": [
    "str.lower(\"KeK\")"
   ]
  },
  {
   "cell_type": "code",
   "execution_count": 84,
   "metadata": {},
   "outputs": [
    {
     "output_type": "display_data",
     "data": {
      "text/plain": "0.6943055699304582"
     },
     "metadata": {}
    },
    {
     "output_type": "execute_result",
     "data": {
      "text/plain": [
       "       bathrooms  bedrooms                       building_id  \\\n",
       "id                                                             \n",
       "57094        1.0         3                                 0   \n",
       "33389        1.0         1  9225efdfb57a50bf3ec17ebab082f94a   \n",
       "60458        1.0         0  320de7d3cc88e50a7fbbcfde1e825d21   \n",
       "53048        1.0         2  ce6d18bf3238e668b2bf23f4110b7b67   \n",
       "592          1.0         3  fee4d465932160318364d9d48d272879   \n",
       "\n",
       "                   created  description  \\\n",
       "id                                        \n",
       "57094  2016-05-19 18:06:27     0.548578   \n",
       "33389  2016-06-16 02:01:49     0.693230   \n",
       "60458  2016-05-04 02:42:50     0.542103   \n",
       "53048  2016-05-12 05:57:56     0.510558   \n",
       "592    2016-06-16 06:06:15     0.533959   \n",
       "\n",
       "                                         display_address  \\\n",
       "id                                                         \n",
       "57094  HOW AMAZING IS THIS MIDTOWN WEST STEAL!! NO FE...   \n",
       "33389                               55 River Drive South   \n",
       "60458                                        W 77 Street   \n",
       "53048                                        John Street   \n",
       "592                                     West 16th Street   \n",
       "\n",
       "                                                features  latitude  \\\n",
       "id                                                                   \n",
       "57094                [Laundry In Unit, No Fee, Elevator]   40.7647   \n",
       "33389               [Dogs Allowed, Cats Allowed, No Fee]   40.7275   \n",
       "60458                        [Elevator, Hardwood Floors]   40.7798   \n",
       "53048  [Swimming Pool, Doorman, Elevator, Fitness Cen...   40.7081   \n",
       "592    [Laundry in Building, Laundry in Unit, Dishwas...   40.7416   \n",
       "\n",
       "       listing_id  longitude                        manager_id  \\\n",
       "id                                                               \n",
       "57094     7039994   -73.9918  4bdc3d8c1aaa90d997ce2cb77680679b   \n",
       "33389     7166774   -74.0322  e5808a5e6cc13988fe596704428d38d5   \n",
       "60458     6962716   -73.9751  d69d4e111612dd12ef864031c1148543   \n",
       "53048     7002458   -74.0065  e6472c7237327dd3903b3d6f6a94515a   \n",
       "592       7170465   -74.0025  6fba9b3a8327c607b8b043716efee684   \n",
       "\n",
       "                                                  photos  price  \\\n",
       "id                                                                \n",
       "57094  ['https://photos.renthop.com/2/7039994_07be01b...   4495   \n",
       "33389  ['https://photos.renthop.com/2/7166774_03cf63a...   2570   \n",
       "60458  ['https://photos.renthop.com/2/6962716_ec7f56f...   1795   \n",
       "53048  ['https://photos.renthop.com/2/7002458_93f4010...   3400   \n",
       "592    ['https://photos.renthop.com/2/7170465_9c3f173...   5695   \n",
       "\n",
       "             street_address  target  temp_target  most_frequent_house_comment  \\\n",
       "id                                                                              \n",
       "57094         W 50 & AVE 10  medium    92.221965                    69.297433   \n",
       "33389  55 River Drive South  medium    92.221965                    80.845829   \n",
       "60458        22 W 77 Street     low    69.469693                    66.188957   \n",
       "53048       100 John Street     low    69.469693                    67.339708   \n",
       "592    321 West 16th Street     low    69.469693                    70.878405   \n",
       "\n",
       "       most_frequent_rieltor_comment  \n",
       "id                                    \n",
       "57094                      70.320227  \n",
       "33389                      74.579835  \n",
       "60458                      70.474858  \n",
       "53048                      69.829174  \n",
       "592                        69.463040  "
      ],
      "text/html": "<div>\n<style scoped>\n    .dataframe tbody tr th:only-of-type {\n        vertical-align: middle;\n    }\n\n    .dataframe tbody tr th {\n        vertical-align: top;\n    }\n\n    .dataframe thead th {\n        text-align: right;\n    }\n</style>\n<table border=\"1\" class=\"dataframe\">\n  <thead>\n    <tr style=\"text-align: right;\">\n      <th></th>\n      <th>bathrooms</th>\n      <th>bedrooms</th>\n      <th>building_id</th>\n      <th>created</th>\n      <th>description</th>\n      <th>display_address</th>\n      <th>features</th>\n      <th>latitude</th>\n      <th>listing_id</th>\n      <th>longitude</th>\n      <th>manager_id</th>\n      <th>photos</th>\n      <th>price</th>\n      <th>street_address</th>\n      <th>target</th>\n      <th>temp_target</th>\n      <th>most_frequent_house_comment</th>\n      <th>most_frequent_rieltor_comment</th>\n    </tr>\n    <tr>\n      <th>id</th>\n      <th></th>\n      <th></th>\n      <th></th>\n      <th></th>\n      <th></th>\n      <th></th>\n      <th></th>\n      <th></th>\n      <th></th>\n      <th></th>\n      <th></th>\n      <th></th>\n      <th></th>\n      <th></th>\n      <th></th>\n      <th></th>\n      <th></th>\n      <th></th>\n    </tr>\n  </thead>\n  <tbody>\n    <tr>\n      <th>57094</th>\n      <td>1.0</td>\n      <td>3</td>\n      <td>0</td>\n      <td>2016-05-19 18:06:27</td>\n      <td>0.548578</td>\n      <td>HOW AMAZING IS THIS MIDTOWN WEST STEAL!! NO FE...</td>\n      <td>[Laundry In Unit, No Fee, Elevator]</td>\n      <td>40.7647</td>\n      <td>7039994</td>\n      <td>-73.9918</td>\n      <td>4bdc3d8c1aaa90d997ce2cb77680679b</td>\n      <td>['https://photos.renthop.com/2/7039994_07be01b...</td>\n      <td>4495</td>\n      <td>W 50 &amp; AVE 10</td>\n      <td>medium</td>\n      <td>92.221965</td>\n      <td>69.297433</td>\n      <td>70.320227</td>\n    </tr>\n    <tr>\n      <th>33389</th>\n      <td>1.0</td>\n      <td>1</td>\n      <td>9225efdfb57a50bf3ec17ebab082f94a</td>\n      <td>2016-06-16 02:01:49</td>\n      <td>0.693230</td>\n      <td>55 River Drive South</td>\n      <td>[Dogs Allowed, Cats Allowed, No Fee]</td>\n      <td>40.7275</td>\n      <td>7166774</td>\n      <td>-74.0322</td>\n      <td>e5808a5e6cc13988fe596704428d38d5</td>\n      <td>['https://photos.renthop.com/2/7166774_03cf63a...</td>\n      <td>2570</td>\n      <td>55 River Drive South</td>\n      <td>medium</td>\n      <td>92.221965</td>\n      <td>80.845829</td>\n      <td>74.579835</td>\n    </tr>\n    <tr>\n      <th>60458</th>\n      <td>1.0</td>\n      <td>0</td>\n      <td>320de7d3cc88e50a7fbbcfde1e825d21</td>\n      <td>2016-05-04 02:42:50</td>\n      <td>0.542103</td>\n      <td>W 77 Street</td>\n      <td>[Elevator, Hardwood Floors]</td>\n      <td>40.7798</td>\n      <td>6962716</td>\n      <td>-73.9751</td>\n      <td>d69d4e111612dd12ef864031c1148543</td>\n      <td>['https://photos.renthop.com/2/6962716_ec7f56f...</td>\n      <td>1795</td>\n      <td>22 W 77 Street</td>\n      <td>low</td>\n      <td>69.469693</td>\n      <td>66.188957</td>\n      <td>70.474858</td>\n    </tr>\n    <tr>\n      <th>53048</th>\n      <td>1.0</td>\n      <td>2</td>\n      <td>ce6d18bf3238e668b2bf23f4110b7b67</td>\n      <td>2016-05-12 05:57:56</td>\n      <td>0.510558</td>\n      <td>John Street</td>\n      <td>[Swimming Pool, Doorman, Elevator, Fitness Cen...</td>\n      <td>40.7081</td>\n      <td>7002458</td>\n      <td>-74.0065</td>\n      <td>e6472c7237327dd3903b3d6f6a94515a</td>\n      <td>['https://photos.renthop.com/2/7002458_93f4010...</td>\n      <td>3400</td>\n      <td>100 John Street</td>\n      <td>low</td>\n      <td>69.469693</td>\n      <td>67.339708</td>\n      <td>69.829174</td>\n    </tr>\n    <tr>\n      <th>592</th>\n      <td>1.0</td>\n      <td>3</td>\n      <td>fee4d465932160318364d9d48d272879</td>\n      <td>2016-06-16 06:06:15</td>\n      <td>0.533959</td>\n      <td>West 16th Street</td>\n      <td>[Laundry in Building, Laundry in Unit, Dishwas...</td>\n      <td>40.7416</td>\n      <td>7170465</td>\n      <td>-74.0025</td>\n      <td>6fba9b3a8327c607b8b043716efee684</td>\n      <td>['https://photos.renthop.com/2/7170465_9c3f173...</td>\n      <td>5695</td>\n      <td>321 West 16th Street</td>\n      <td>low</td>\n      <td>69.469693</td>\n      <td>70.878405</td>\n      <td>69.463040</td>\n    </tr>\n  </tbody>\n</table>\n</div>"
     },
     "metadata": {},
     "execution_count": 84
    }
   ],
   "source": [
    "features_words_weight = dict()\n",
    "features_words_count = dict()\n",
    "for index, row in df.iterrows():\n",
    "    for word in row.features:\n",
    "        word = str.lower(word)\n",
    "        if word in features_words_weight:\n",
    "            features_words_weight[word] += row.temp_target\n",
    "            features_words_count[word] += 1\n",
    "        else:\n",
    "            features_words_weight[word] = row.temp_target\n",
    "            features_words_count[word] = 1\n",
    "        \n",
    "        \n",
    "for key, value in features_words_weight.items():\n",
    "    features_words_weight[key] = value / (features_words_count[key] * 100)\n",
    "\n",
    "display(features_words_weight['no fee'])\n",
    "df.head()"
   ]
  },
  {
   "cell_type": "code",
   "execution_count": 85,
   "metadata": {},
   "outputs": [
    {
     "output_type": "execute_result",
     "data": {
      "text/plain": [
       "       bathrooms  bedrooms                       building_id  \\\n",
       "id                                                             \n",
       "57094        1.0         3                                 0   \n",
       "33389        1.0         1  9225efdfb57a50bf3ec17ebab082f94a   \n",
       "60458        1.0         0  320de7d3cc88e50a7fbbcfde1e825d21   \n",
       "53048        1.0         2  ce6d18bf3238e668b2bf23f4110b7b67   \n",
       "592          1.0         3  fee4d465932160318364d9d48d272879   \n",
       "\n",
       "                   created  description  \\\n",
       "id                                        \n",
       "57094  2016-05-19 18:06:27     0.548578   \n",
       "33389  2016-06-16 02:01:49     0.693230   \n",
       "60458  2016-05-04 02:42:50     0.542103   \n",
       "53048  2016-05-12 05:57:56     0.510558   \n",
       "592    2016-06-16 06:06:15     0.533959   \n",
       "\n",
       "                                         display_address  features  latitude  \\\n",
       "id                                                                             \n",
       "57094  HOW AMAZING IS THIS MIDTOWN WEST STEAL!! NO FE...  0.700512   40.7647   \n",
       "33389                               55 River Drive South  0.695180   40.7275   \n",
       "60458                                        W 77 Street  0.701212   40.7798   \n",
       "53048                                        John Street  0.704414   40.7081   \n",
       "592                                     West 16th Street  0.703955   40.7416   \n",
       "\n",
       "       listing_id  longitude                        manager_id  \\\n",
       "id                                                               \n",
       "57094     7039994   -73.9918  4bdc3d8c1aaa90d997ce2cb77680679b   \n",
       "33389     7166774   -74.0322  e5808a5e6cc13988fe596704428d38d5   \n",
       "60458     6962716   -73.9751  d69d4e111612dd12ef864031c1148543   \n",
       "53048     7002458   -74.0065  e6472c7237327dd3903b3d6f6a94515a   \n",
       "592       7170465   -74.0025  6fba9b3a8327c607b8b043716efee684   \n",
       "\n",
       "                                                  photos  price  \\\n",
       "id                                                                \n",
       "57094  ['https://photos.renthop.com/2/7039994_07be01b...   4495   \n",
       "33389  ['https://photos.renthop.com/2/7166774_03cf63a...   2570   \n",
       "60458  ['https://photos.renthop.com/2/6962716_ec7f56f...   1795   \n",
       "53048  ['https://photos.renthop.com/2/7002458_93f4010...   3400   \n",
       "592    ['https://photos.renthop.com/2/7170465_9c3f173...   5695   \n",
       "\n",
       "             street_address  target  temp_target  most_frequent_house_comment  \\\n",
       "id                                                                              \n",
       "57094         W 50 & AVE 10  medium    92.221965                    69.297433   \n",
       "33389  55 River Drive South  medium    92.221965                    80.845829   \n",
       "60458        22 W 77 Street     low    69.469693                    66.188957   \n",
       "53048       100 John Street     low    69.469693                    67.339708   \n",
       "592    321 West 16th Street     low    69.469693                    70.878405   \n",
       "\n",
       "       most_frequent_rieltor_comment  \n",
       "id                                    \n",
       "57094                      70.320227  \n",
       "33389                      74.579835  \n",
       "60458                      70.474858  \n",
       "53048                      69.829174  \n",
       "592                        69.463040  "
      ],
      "text/html": "<div>\n<style scoped>\n    .dataframe tbody tr th:only-of-type {\n        vertical-align: middle;\n    }\n\n    .dataframe tbody tr th {\n        vertical-align: top;\n    }\n\n    .dataframe thead th {\n        text-align: right;\n    }\n</style>\n<table border=\"1\" class=\"dataframe\">\n  <thead>\n    <tr style=\"text-align: right;\">\n      <th></th>\n      <th>bathrooms</th>\n      <th>bedrooms</th>\n      <th>building_id</th>\n      <th>created</th>\n      <th>description</th>\n      <th>display_address</th>\n      <th>features</th>\n      <th>latitude</th>\n      <th>listing_id</th>\n      <th>longitude</th>\n      <th>manager_id</th>\n      <th>photos</th>\n      <th>price</th>\n      <th>street_address</th>\n      <th>target</th>\n      <th>temp_target</th>\n      <th>most_frequent_house_comment</th>\n      <th>most_frequent_rieltor_comment</th>\n    </tr>\n    <tr>\n      <th>id</th>\n      <th></th>\n      <th></th>\n      <th></th>\n      <th></th>\n      <th></th>\n      <th></th>\n      <th></th>\n      <th></th>\n      <th></th>\n      <th></th>\n      <th></th>\n      <th></th>\n      <th></th>\n      <th></th>\n      <th></th>\n      <th></th>\n      <th></th>\n      <th></th>\n    </tr>\n  </thead>\n  <tbody>\n    <tr>\n      <th>57094</th>\n      <td>1.0</td>\n      <td>3</td>\n      <td>0</td>\n      <td>2016-05-19 18:06:27</td>\n      <td>0.548578</td>\n      <td>HOW AMAZING IS THIS MIDTOWN WEST STEAL!! NO FE...</td>\n      <td>0.700512</td>\n      <td>40.7647</td>\n      <td>7039994</td>\n      <td>-73.9918</td>\n      <td>4bdc3d8c1aaa90d997ce2cb77680679b</td>\n      <td>['https://photos.renthop.com/2/7039994_07be01b...</td>\n      <td>4495</td>\n      <td>W 50 &amp; AVE 10</td>\n      <td>medium</td>\n      <td>92.221965</td>\n      <td>69.297433</td>\n      <td>70.320227</td>\n    </tr>\n    <tr>\n      <th>33389</th>\n      <td>1.0</td>\n      <td>1</td>\n      <td>9225efdfb57a50bf3ec17ebab082f94a</td>\n      <td>2016-06-16 02:01:49</td>\n      <td>0.693230</td>\n      <td>55 River Drive South</td>\n      <td>0.695180</td>\n      <td>40.7275</td>\n      <td>7166774</td>\n      <td>-74.0322</td>\n      <td>e5808a5e6cc13988fe596704428d38d5</td>\n      <td>['https://photos.renthop.com/2/7166774_03cf63a...</td>\n      <td>2570</td>\n      <td>55 River Drive South</td>\n      <td>medium</td>\n      <td>92.221965</td>\n      <td>80.845829</td>\n      <td>74.579835</td>\n    </tr>\n    <tr>\n      <th>60458</th>\n      <td>1.0</td>\n      <td>0</td>\n      <td>320de7d3cc88e50a7fbbcfde1e825d21</td>\n      <td>2016-05-04 02:42:50</td>\n      <td>0.542103</td>\n      <td>W 77 Street</td>\n      <td>0.701212</td>\n      <td>40.7798</td>\n      <td>6962716</td>\n      <td>-73.9751</td>\n      <td>d69d4e111612dd12ef864031c1148543</td>\n      <td>['https://photos.renthop.com/2/6962716_ec7f56f...</td>\n      <td>1795</td>\n      <td>22 W 77 Street</td>\n      <td>low</td>\n      <td>69.469693</td>\n      <td>66.188957</td>\n      <td>70.474858</td>\n    </tr>\n    <tr>\n      <th>53048</th>\n      <td>1.0</td>\n      <td>2</td>\n      <td>ce6d18bf3238e668b2bf23f4110b7b67</td>\n      <td>2016-05-12 05:57:56</td>\n      <td>0.510558</td>\n      <td>John Street</td>\n      <td>0.704414</td>\n      <td>40.7081</td>\n      <td>7002458</td>\n      <td>-74.0065</td>\n      <td>e6472c7237327dd3903b3d6f6a94515a</td>\n      <td>['https://photos.renthop.com/2/7002458_93f4010...</td>\n      <td>3400</td>\n      <td>100 John Street</td>\n      <td>low</td>\n      <td>69.469693</td>\n      <td>67.339708</td>\n      <td>69.829174</td>\n    </tr>\n    <tr>\n      <th>592</th>\n      <td>1.0</td>\n      <td>3</td>\n      <td>fee4d465932160318364d9d48d272879</td>\n      <td>2016-06-16 06:06:15</td>\n      <td>0.533959</td>\n      <td>West 16th Street</td>\n      <td>0.703955</td>\n      <td>40.7416</td>\n      <td>7170465</td>\n      <td>-74.0025</td>\n      <td>6fba9b3a8327c607b8b043716efee684</td>\n      <td>['https://photos.renthop.com/2/7170465_9c3f173...</td>\n      <td>5695</td>\n      <td>321 West 16th Street</td>\n      <td>low</td>\n      <td>69.469693</td>\n      <td>70.878405</td>\n      <td>69.463040</td>\n    </tr>\n  </tbody>\n</table>\n</div>"
     },
     "metadata": {},
     "execution_count": 85
    }
   ],
   "source": [
    "def features_weight(x):\n",
    "    res = 0.0\n",
    "    for word in x:\n",
    "        word = str.lower(word)\n",
    "        if word in features_words_weight:\n",
    "            res += features_words_weight[word]\n",
    "    if len(x) > 0:\n",
    "        res /= len(x)\n",
    "    return res\n",
    "\n",
    "#display(features_weight(df.iloc[0, 6]))\n",
    "df['features'] = df['features'].apply(features_weight)\n",
    "df.head()"
   ]
  },
  {
   "cell_type": "code",
   "execution_count": 86,
   "metadata": {},
   "outputs": [
    {
     "output_type": "execute_result",
     "data": {
      "text/plain": [
       "       bathrooms  bedrooms  description  features  price  target  temp_target  \\\n",
       "id                                                                              \n",
       "57094        1.0         3     0.548578  0.700512   4495  medium    92.221965   \n",
       "33389        1.0         1     0.693230  0.695180   2570  medium    92.221965   \n",
       "60458        1.0         0     0.542103  0.701212   1795     low    69.469693   \n",
       "53048        1.0         2     0.510558  0.704414   3400     low    69.469693   \n",
       "592          1.0         3     0.533959  0.703955   5695     low    69.469693   \n",
       "\n",
       "       most_frequent_house_comment  most_frequent_rieltor_comment  \n",
       "id                                                                 \n",
       "57094                    69.297433                      70.320227  \n",
       "33389                    80.845829                      74.579835  \n",
       "60458                    66.188957                      70.474858  \n",
       "53048                    67.339708                      69.829174  \n",
       "592                      70.878405                      69.463040  "
      ],
      "text/html": "<div>\n<style scoped>\n    .dataframe tbody tr th:only-of-type {\n        vertical-align: middle;\n    }\n\n    .dataframe tbody tr th {\n        vertical-align: top;\n    }\n\n    .dataframe thead th {\n        text-align: right;\n    }\n</style>\n<table border=\"1\" class=\"dataframe\">\n  <thead>\n    <tr style=\"text-align: right;\">\n      <th></th>\n      <th>bathrooms</th>\n      <th>bedrooms</th>\n      <th>description</th>\n      <th>features</th>\n      <th>price</th>\n      <th>target</th>\n      <th>temp_target</th>\n      <th>most_frequent_house_comment</th>\n      <th>most_frequent_rieltor_comment</th>\n    </tr>\n    <tr>\n      <th>id</th>\n      <th></th>\n      <th></th>\n      <th></th>\n      <th></th>\n      <th></th>\n      <th></th>\n      <th></th>\n      <th></th>\n      <th></th>\n    </tr>\n  </thead>\n  <tbody>\n    <tr>\n      <th>57094</th>\n      <td>1.0</td>\n      <td>3</td>\n      <td>0.548578</td>\n      <td>0.700512</td>\n      <td>4495</td>\n      <td>medium</td>\n      <td>92.221965</td>\n      <td>69.297433</td>\n      <td>70.320227</td>\n    </tr>\n    <tr>\n      <th>33389</th>\n      <td>1.0</td>\n      <td>1</td>\n      <td>0.693230</td>\n      <td>0.695180</td>\n      <td>2570</td>\n      <td>medium</td>\n      <td>92.221965</td>\n      <td>80.845829</td>\n      <td>74.579835</td>\n    </tr>\n    <tr>\n      <th>60458</th>\n      <td>1.0</td>\n      <td>0</td>\n      <td>0.542103</td>\n      <td>0.701212</td>\n      <td>1795</td>\n      <td>low</td>\n      <td>69.469693</td>\n      <td>66.188957</td>\n      <td>70.474858</td>\n    </tr>\n    <tr>\n      <th>53048</th>\n      <td>1.0</td>\n      <td>2</td>\n      <td>0.510558</td>\n      <td>0.704414</td>\n      <td>3400</td>\n      <td>low</td>\n      <td>69.469693</td>\n      <td>67.339708</td>\n      <td>69.829174</td>\n    </tr>\n    <tr>\n      <th>592</th>\n      <td>1.0</td>\n      <td>3</td>\n      <td>0.533959</td>\n      <td>0.703955</td>\n      <td>5695</td>\n      <td>low</td>\n      <td>69.469693</td>\n      <td>70.878405</td>\n      <td>69.463040</td>\n    </tr>\n  </tbody>\n</table>\n</div>"
     },
     "metadata": {},
     "execution_count": 86
    }
   ],
   "source": [
    "df.drop(['building_id', 'created', 'display_address', 'latitude', 'listing_id', 'longitude', 'manager_id', 'photos', 'street_address'], inplace = True, axis = 1)\n",
    "df.head()"
   ]
  },
  {
   "cell_type": "code",
   "execution_count": 89,
   "metadata": {},
   "outputs": [
    {
     "output_type": "execute_result",
     "data": {
      "text/plain": [
       "       bathrooms  bedrooms  description  features  price  target  \\\n",
       "id                                                                 \n",
       "57094        1.0         3     0.548578  0.700512   4495  medium   \n",
       "33389        1.0         1     0.693230  0.695180   2570  medium   \n",
       "60458        1.0         0     0.542103  0.701212   1795     low   \n",
       "53048        1.0         2     0.510558  0.704414   3400     low   \n",
       "592          1.0         3     0.533959  0.703955   5695     low   \n",
       "\n",
       "       most_frequent_house_comment  most_frequent_rieltor_comment  \n",
       "id                                                                 \n",
       "57094                    69.297433                      70.320227  \n",
       "33389                    80.845829                      74.579835  \n",
       "60458                    66.188957                      70.474858  \n",
       "53048                    67.339708                      69.829174  \n",
       "592                      70.878405                      69.463040  "
      ],
      "text/html": "<div>\n<style scoped>\n    .dataframe tbody tr th:only-of-type {\n        vertical-align: middle;\n    }\n\n    .dataframe tbody tr th {\n        vertical-align: top;\n    }\n\n    .dataframe thead th {\n        text-align: right;\n    }\n</style>\n<table border=\"1\" class=\"dataframe\">\n  <thead>\n    <tr style=\"text-align: right;\">\n      <th></th>\n      <th>bathrooms</th>\n      <th>bedrooms</th>\n      <th>description</th>\n      <th>features</th>\n      <th>price</th>\n      <th>target</th>\n      <th>most_frequent_house_comment</th>\n      <th>most_frequent_rieltor_comment</th>\n    </tr>\n    <tr>\n      <th>id</th>\n      <th></th>\n      <th></th>\n      <th></th>\n      <th></th>\n      <th></th>\n      <th></th>\n      <th></th>\n      <th></th>\n    </tr>\n  </thead>\n  <tbody>\n    <tr>\n      <th>57094</th>\n      <td>1.0</td>\n      <td>3</td>\n      <td>0.548578</td>\n      <td>0.700512</td>\n      <td>4495</td>\n      <td>medium</td>\n      <td>69.297433</td>\n      <td>70.320227</td>\n    </tr>\n    <tr>\n      <th>33389</th>\n      <td>1.0</td>\n      <td>1</td>\n      <td>0.693230</td>\n      <td>0.695180</td>\n      <td>2570</td>\n      <td>medium</td>\n      <td>80.845829</td>\n      <td>74.579835</td>\n    </tr>\n    <tr>\n      <th>60458</th>\n      <td>1.0</td>\n      <td>0</td>\n      <td>0.542103</td>\n      <td>0.701212</td>\n      <td>1795</td>\n      <td>low</td>\n      <td>66.188957</td>\n      <td>70.474858</td>\n    </tr>\n    <tr>\n      <th>53048</th>\n      <td>1.0</td>\n      <td>2</td>\n      <td>0.510558</td>\n      <td>0.704414</td>\n      <td>3400</td>\n      <td>low</td>\n      <td>67.339708</td>\n      <td>69.829174</td>\n    </tr>\n    <tr>\n      <th>592</th>\n      <td>1.0</td>\n      <td>3</td>\n      <td>0.533959</td>\n      <td>0.703955</td>\n      <td>5695</td>\n      <td>low</td>\n      <td>70.878405</td>\n      <td>69.463040</td>\n    </tr>\n  </tbody>\n</table>\n</div>"
     },
     "metadata": {},
     "execution_count": 89
    }
   ],
   "source": [
    "df.drop(['temp_target'], inplace = True, axis = 1)\n",
    "df.head()"
   ]
  },
  {
   "cell_type": "code",
   "execution_count": 122,
   "metadata": {},
   "outputs": [
    {
     "output_type": "display_data",
     "data": {
      "text/plain": "       bathrooms  bedrooms  description  features  price  \\\nid                                                         \n57094        1.0         3     0.548578  0.700512   4495   \n33389        1.0         1     0.693230  0.695180   2570   \n60458        1.0         0     0.542103  0.701212   1795   \n53048        1.0         2     0.510558  0.704414   3400   \n592          1.0         3     0.533959  0.703955   5695   \n\n       most_frequent_house_comment  most_frequent_rieltor_comment  \nid                                                                 \n57094                    69.297433                      70.320227  \n33389                    80.845829                      74.579835  \n60458                    66.188957                      70.474858  \n53048                    67.339708                      69.829174  \n592                      70.878405                      69.463040  ",
      "text/html": "<div>\n<style scoped>\n    .dataframe tbody tr th:only-of-type {\n        vertical-align: middle;\n    }\n\n    .dataframe tbody tr th {\n        vertical-align: top;\n    }\n\n    .dataframe thead th {\n        text-align: right;\n    }\n</style>\n<table border=\"1\" class=\"dataframe\">\n  <thead>\n    <tr style=\"text-align: right;\">\n      <th></th>\n      <th>bathrooms</th>\n      <th>bedrooms</th>\n      <th>description</th>\n      <th>features</th>\n      <th>price</th>\n      <th>most_frequent_house_comment</th>\n      <th>most_frequent_rieltor_comment</th>\n    </tr>\n    <tr>\n      <th>id</th>\n      <th></th>\n      <th></th>\n      <th></th>\n      <th></th>\n      <th></th>\n      <th></th>\n      <th></th>\n    </tr>\n  </thead>\n  <tbody>\n    <tr>\n      <th>57094</th>\n      <td>1.0</td>\n      <td>3</td>\n      <td>0.548578</td>\n      <td>0.700512</td>\n      <td>4495</td>\n      <td>69.297433</td>\n      <td>70.320227</td>\n    </tr>\n    <tr>\n      <th>33389</th>\n      <td>1.0</td>\n      <td>1</td>\n      <td>0.693230</td>\n      <td>0.695180</td>\n      <td>2570</td>\n      <td>80.845829</td>\n      <td>74.579835</td>\n    </tr>\n    <tr>\n      <th>60458</th>\n      <td>1.0</td>\n      <td>0</td>\n      <td>0.542103</td>\n      <td>0.701212</td>\n      <td>1795</td>\n      <td>66.188957</td>\n      <td>70.474858</td>\n    </tr>\n    <tr>\n      <th>53048</th>\n      <td>1.0</td>\n      <td>2</td>\n      <td>0.510558</td>\n      <td>0.704414</td>\n      <td>3400</td>\n      <td>67.339708</td>\n      <td>69.829174</td>\n    </tr>\n    <tr>\n      <th>592</th>\n      <td>1.0</td>\n      <td>3</td>\n      <td>0.533959</td>\n      <td>0.703955</td>\n      <td>5695</td>\n      <td>70.878405</td>\n      <td>69.463040</td>\n    </tr>\n  </tbody>\n</table>\n</div>"
     },
     "metadata": {}
    },
    {
     "output_type": "display_data",
     "data": {
      "text/plain": "id\n57094     2\n33389     2\n60458     1\n53048     1\n592       1\n         ..\n25582     1\n50013     2\n111475    1\n71184     2\n117473    2\nName: target, Length: 34546, dtype: int64"
     },
     "metadata": {}
    }
   ],
   "source": [
    "y = df['target'].map({'low' : 1, 'medium' : 2, 'high' : 3})\n",
    "X = df.drop(['target'], axis = 1)\n",
    "display(X.head())\n",
    "display(y)"
   ]
  },
  {
   "cell_type": "code",
   "execution_count": 124,
   "metadata": {},
   "outputs": [
    {
     "output_type": "execute_result",
     "data": {
      "text/plain": [
       "       bathrooms  bedrooms  description  features     price  \\\n",
       "id                                                            \n",
       "57094   -0.42559  1.306672     0.275262  0.269348  0.023043   \n",
       "33389   -0.42559 -0.484290     1.451747  0.238404 -0.050133   \n",
       "60458   -0.42559 -1.379770     0.222599  0.273414 -0.079594   \n",
       "53048   -0.42559  0.411191    -0.033960  0.292001 -0.018582   \n",
       "592     -0.42559  1.306672     0.156364  0.289333  0.068660   \n",
       "\n",
       "       most_frequent_house_comment  most_frequent_rieltor_comment  \n",
       "id                                                                 \n",
       "57094                    -0.001803                       0.119173  \n",
       "33389                     0.890837                       0.627071  \n",
       "60458                    -0.242074                       0.137611  \n",
       "53048                    -0.153126                       0.060622  \n",
       "592                       0.120399                       0.016966  "
      ],
      "text/html": "<div>\n<style scoped>\n    .dataframe tbody tr th:only-of-type {\n        vertical-align: middle;\n    }\n\n    .dataframe tbody tr th {\n        vertical-align: top;\n    }\n\n    .dataframe thead th {\n        text-align: right;\n    }\n</style>\n<table border=\"1\" class=\"dataframe\">\n  <thead>\n    <tr style=\"text-align: right;\">\n      <th></th>\n      <th>bathrooms</th>\n      <th>bedrooms</th>\n      <th>description</th>\n      <th>features</th>\n      <th>price</th>\n      <th>most_frequent_house_comment</th>\n      <th>most_frequent_rieltor_comment</th>\n    </tr>\n    <tr>\n      <th>id</th>\n      <th></th>\n      <th></th>\n      <th></th>\n      <th></th>\n      <th></th>\n      <th></th>\n      <th></th>\n    </tr>\n  </thead>\n  <tbody>\n    <tr>\n      <th>57094</th>\n      <td>-0.42559</td>\n      <td>1.306672</td>\n      <td>0.275262</td>\n      <td>0.269348</td>\n      <td>0.023043</td>\n      <td>-0.001803</td>\n      <td>0.119173</td>\n    </tr>\n    <tr>\n      <th>33389</th>\n      <td>-0.42559</td>\n      <td>-0.484290</td>\n      <td>1.451747</td>\n      <td>0.238404</td>\n      <td>-0.050133</td>\n      <td>0.890837</td>\n      <td>0.627071</td>\n    </tr>\n    <tr>\n      <th>60458</th>\n      <td>-0.42559</td>\n      <td>-1.379770</td>\n      <td>0.222599</td>\n      <td>0.273414</td>\n      <td>-0.079594</td>\n      <td>-0.242074</td>\n      <td>0.137611</td>\n    </tr>\n    <tr>\n      <th>53048</th>\n      <td>-0.42559</td>\n      <td>0.411191</td>\n      <td>-0.033960</td>\n      <td>0.292001</td>\n      <td>-0.018582</td>\n      <td>-0.153126</td>\n      <td>0.060622</td>\n    </tr>\n    <tr>\n      <th>592</th>\n      <td>-0.42559</td>\n      <td>1.306672</td>\n      <td>0.156364</td>\n      <td>0.289333</td>\n      <td>0.068660</td>\n      <td>0.120399</td>\n      <td>0.016966</td>\n    </tr>\n  </tbody>\n</table>\n</div>"
     },
     "metadata": {},
     "execution_count": 124
    }
   ],
   "source": [
    "standart_scaler = StandardScaler()\n",
    "minmax_scaler = MinMaxScaler()\n",
    "X[X.columns] = standart_scaler.fit_transform(X[X.columns])\n",
    "X.head()"
   ]
  },
  {
   "cell_type": "code",
   "execution_count": 113,
   "metadata": {},
   "outputs": [
    {
     "output_type": "execute_result",
     "data": {
      "text/plain": [
       "        bathrooms  bedrooms  description  features     price  \\\n",
       "id                                                             \n",
       "57094   -0.425590  1.306672     0.275262  0.269348  0.023043   \n",
       "33389   -0.425590 -0.484290     1.451747  0.238404 -0.050133   \n",
       "60458   -0.425590 -1.379770     0.222599  0.273414 -0.079594   \n",
       "53048   -0.425590  0.411191    -0.033960  0.292001 -0.018582   \n",
       "592     -0.425590  1.306672     0.156364  0.289333  0.068660   \n",
       "31731   -0.425590 -0.484290     0.217041  0.280671 -0.050894   \n",
       "12930   -0.425590  0.411191     0.327376  0.253275 -0.015161   \n",
       "25585   -0.425590 -0.484290    -0.265673  0.238616 -0.098411   \n",
       "103527  -0.425590 -0.484290    -0.420708  0.274447 -0.075603   \n",
       "72406   -0.425590 -0.484290     0.195134  0.292412 -0.044431   \n",
       "70822   -0.425590  0.411191     0.096278  0.206341 -0.031887   \n",
       "1058     1.589685  1.306672     0.122582  0.281914  0.053264   \n",
       "68740   -0.425590 -1.379770     0.023322  0.279177 -0.050095   \n",
       "78049    1.589685  0.411191     0.389497  0.264849  0.046308   \n",
       "32484   -0.425590 -0.484290    -0.621232  0.284481 -0.040440   \n",
       "40727   -0.425590 -0.484290     0.455032  0.264849  0.036918   \n",
       "55868   -0.425590 -0.484290     0.276361  0.247103 -0.083205   \n",
       "75634   -0.425590 -0.484290     0.194506  0.270676  0.019242   \n",
       "39236   -0.425590 -1.379770     0.466322  0.243298 -0.073702   \n",
       "88425   -0.425590 -0.484290     0.724323  0.284822 -0.078074   \n",
       "\n",
       "        most_frequent_house_comment  most_frequent_rieltor_comment  \n",
       "id                                                                  \n",
       "57094                     -0.001803                       0.119173  \n",
       "33389                      0.890837                       0.627071  \n",
       "60458                     -0.242074                       0.137611  \n",
       "53048                     -0.153126                       0.060622  \n",
       "592                        0.120399                       0.016966  \n",
       "31731                      0.009867                      -0.271816  \n",
       "12930                     -0.001803                       0.017759  \n",
       "25585                     -5.280891                      -3.009050  \n",
       "103527                     0.890837                       0.474533  \n",
       "72406                      0.026362                       0.060622  \n",
       "70822                     -0.001803                      -0.693262  \n",
       "1058                       0.108301                       0.252876  \n",
       "68740                     -0.054842                       0.165633  \n",
       "78049                      0.242480                       0.017759  \n",
       "32484                     -0.001803                      -0.724427  \n",
       "40727                      0.011512                       0.017759  \n",
       "55868                     -0.001803                       0.017759  \n",
       "75634                      0.011512                       0.165633  \n",
       "39236                      0.597729                       0.343305  \n",
       "88425                      0.597729                       0.356870  "
      ],
      "text/html": "<div>\n<style scoped>\n    .dataframe tbody tr th:only-of-type {\n        vertical-align: middle;\n    }\n\n    .dataframe tbody tr th {\n        vertical-align: top;\n    }\n\n    .dataframe thead th {\n        text-align: right;\n    }\n</style>\n<table border=\"1\" class=\"dataframe\">\n  <thead>\n    <tr style=\"text-align: right;\">\n      <th></th>\n      <th>bathrooms</th>\n      <th>bedrooms</th>\n      <th>description</th>\n      <th>features</th>\n      <th>price</th>\n      <th>most_frequent_house_comment</th>\n      <th>most_frequent_rieltor_comment</th>\n    </tr>\n    <tr>\n      <th>id</th>\n      <th></th>\n      <th></th>\n      <th></th>\n      <th></th>\n      <th></th>\n      <th></th>\n      <th></th>\n    </tr>\n  </thead>\n  <tbody>\n    <tr>\n      <th>57094</th>\n      <td>-0.425590</td>\n      <td>1.306672</td>\n      <td>0.275262</td>\n      <td>0.269348</td>\n      <td>0.023043</td>\n      <td>-0.001803</td>\n      <td>0.119173</td>\n    </tr>\n    <tr>\n      <th>33389</th>\n      <td>-0.425590</td>\n      <td>-0.484290</td>\n      <td>1.451747</td>\n      <td>0.238404</td>\n      <td>-0.050133</td>\n      <td>0.890837</td>\n      <td>0.627071</td>\n    </tr>\n    <tr>\n      <th>60458</th>\n      <td>-0.425590</td>\n      <td>-1.379770</td>\n      <td>0.222599</td>\n      <td>0.273414</td>\n      <td>-0.079594</td>\n      <td>-0.242074</td>\n      <td>0.137611</td>\n    </tr>\n    <tr>\n      <th>53048</th>\n      <td>-0.425590</td>\n      <td>0.411191</td>\n      <td>-0.033960</td>\n      <td>0.292001</td>\n      <td>-0.018582</td>\n      <td>-0.153126</td>\n      <td>0.060622</td>\n    </tr>\n    <tr>\n      <th>592</th>\n      <td>-0.425590</td>\n      <td>1.306672</td>\n      <td>0.156364</td>\n      <td>0.289333</td>\n      <td>0.068660</td>\n      <td>0.120399</td>\n      <td>0.016966</td>\n    </tr>\n    <tr>\n      <th>31731</th>\n      <td>-0.425590</td>\n      <td>-0.484290</td>\n      <td>0.217041</td>\n      <td>0.280671</td>\n      <td>-0.050894</td>\n      <td>0.009867</td>\n      <td>-0.271816</td>\n    </tr>\n    <tr>\n      <th>12930</th>\n      <td>-0.425590</td>\n      <td>0.411191</td>\n      <td>0.327376</td>\n      <td>0.253275</td>\n      <td>-0.015161</td>\n      <td>-0.001803</td>\n      <td>0.017759</td>\n    </tr>\n    <tr>\n      <th>25585</th>\n      <td>-0.425590</td>\n      <td>-0.484290</td>\n      <td>-0.265673</td>\n      <td>0.238616</td>\n      <td>-0.098411</td>\n      <td>-5.280891</td>\n      <td>-3.009050</td>\n    </tr>\n    <tr>\n      <th>103527</th>\n      <td>-0.425590</td>\n      <td>-0.484290</td>\n      <td>-0.420708</td>\n      <td>0.274447</td>\n      <td>-0.075603</td>\n      <td>0.890837</td>\n      <td>0.474533</td>\n    </tr>\n    <tr>\n      <th>72406</th>\n      <td>-0.425590</td>\n      <td>-0.484290</td>\n      <td>0.195134</td>\n      <td>0.292412</td>\n      <td>-0.044431</td>\n      <td>0.026362</td>\n      <td>0.060622</td>\n    </tr>\n    <tr>\n      <th>70822</th>\n      <td>-0.425590</td>\n      <td>0.411191</td>\n      <td>0.096278</td>\n      <td>0.206341</td>\n      <td>-0.031887</td>\n      <td>-0.001803</td>\n      <td>-0.693262</td>\n    </tr>\n    <tr>\n      <th>1058</th>\n      <td>1.589685</td>\n      <td>1.306672</td>\n      <td>0.122582</td>\n      <td>0.281914</td>\n      <td>0.053264</td>\n      <td>0.108301</td>\n      <td>0.252876</td>\n    </tr>\n    <tr>\n      <th>68740</th>\n      <td>-0.425590</td>\n      <td>-1.379770</td>\n      <td>0.023322</td>\n      <td>0.279177</td>\n      <td>-0.050095</td>\n      <td>-0.054842</td>\n      <td>0.165633</td>\n    </tr>\n    <tr>\n      <th>78049</th>\n      <td>1.589685</td>\n      <td>0.411191</td>\n      <td>0.389497</td>\n      <td>0.264849</td>\n      <td>0.046308</td>\n      <td>0.242480</td>\n      <td>0.017759</td>\n    </tr>\n    <tr>\n      <th>32484</th>\n      <td>-0.425590</td>\n      <td>-0.484290</td>\n      <td>-0.621232</td>\n      <td>0.284481</td>\n      <td>-0.040440</td>\n      <td>-0.001803</td>\n      <td>-0.724427</td>\n    </tr>\n    <tr>\n      <th>40727</th>\n      <td>-0.425590</td>\n      <td>-0.484290</td>\n      <td>0.455032</td>\n      <td>0.264849</td>\n      <td>0.036918</td>\n      <td>0.011512</td>\n      <td>0.017759</td>\n    </tr>\n    <tr>\n      <th>55868</th>\n      <td>-0.425590</td>\n      <td>-0.484290</td>\n      <td>0.276361</td>\n      <td>0.247103</td>\n      <td>-0.083205</td>\n      <td>-0.001803</td>\n      <td>0.017759</td>\n    </tr>\n    <tr>\n      <th>75634</th>\n      <td>-0.425590</td>\n      <td>-0.484290</td>\n      <td>0.194506</td>\n      <td>0.270676</td>\n      <td>0.019242</td>\n      <td>0.011512</td>\n      <td>0.165633</td>\n    </tr>\n    <tr>\n      <th>39236</th>\n      <td>-0.425590</td>\n      <td>-1.379770</td>\n      <td>0.466322</td>\n      <td>0.243298</td>\n      <td>-0.073702</td>\n      <td>0.597729</td>\n      <td>0.343305</td>\n    </tr>\n    <tr>\n      <th>88425</th>\n      <td>-0.425590</td>\n      <td>-0.484290</td>\n      <td>0.724323</td>\n      <td>0.284822</td>\n      <td>-0.078074</td>\n      <td>0.597729</td>\n      <td>0.356870</td>\n    </tr>\n  </tbody>\n</table>\n</div>"
     },
     "metadata": {},
     "execution_count": 113
    }
   ],
   "source": [
    "X[:20]"
   ]
  },
  {
   "cell_type": "code",
   "execution_count": 125,
   "metadata": {},
   "outputs": [],
   "source": [
    "X_train, X_test, y_train, y_test = train_test_split(X, y, test_size = 0.15)"
   ]
  },
  {
   "cell_type": "code",
   "execution_count": 127,
   "metadata": {},
   "outputs": [
    {
     "output_type": "execute_result",
     "data": {
      "text/plain": [
       "LogisticRegression()"
      ]
     },
     "metadata": {},
     "execution_count": 127
    }
   ],
   "source": [
    "log_reg = LogisticRegression() \n",
    "log_reg.fit(X_train, y_train)"
   ]
  },
  {
   "cell_type": "code",
   "execution_count": 128,
   "metadata": {},
   "outputs": [
    {
     "output_type": "execute_result",
     "data": {
      "text/plain": [
       "array([1, 1, 1, ..., 3, 1, 1])"
      ]
     },
     "metadata": {},
     "execution_count": 128
    }
   ],
   "source": [
    "y_pred = log_reg.predict(X_test)\n",
    "y_pred"
   ]
  },
  {
   "cell_type": "code",
   "execution_count": 130,
   "metadata": {},
   "outputs": [
    {
     "output_type": "execute_result",
     "data": {
      "text/plain": [
       "0.7583944423002702"
      ]
     },
     "metadata": {},
     "execution_count": 130
    }
   ],
   "source": [
    "accuracy_score(y_test, y_pred)"
   ]
  },
  {
   "cell_type": "code",
   "execution_count": 132,
   "metadata": {},
   "outputs": [
    {
     "output_type": "execute_result",
     "data": {
      "text/plain": [
       "0.6794673871092243"
      ]
     },
     "metadata": {},
     "execution_count": 132
    }
   ],
   "source": [
    "y_dumb = np.ones(len(y_pred))\n",
    "accuracy_score(y_test, y_dumb)"
   ]
  },
  {
   "cell_type": "code",
   "execution_count": null,
   "metadata": {},
   "outputs": [],
   "source": []
  }
 ]
}